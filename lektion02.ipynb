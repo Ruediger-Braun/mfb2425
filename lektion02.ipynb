{
 "cells": [
  {
   "cell_type": "markdown",
   "id": "e01baa24",
   "metadata": {
    "slideshow": {
     "slide_type": "slide"
    }
   },
   "source": [
    "# Mathematik für Biologiestudierende\n",
    "\n",
    "Wintersemester 2024/25\n",
    "\n",
    "16. Oktober 2024\n",
    "\n",
    "&copy; 2024 Prof. Dr. Rüdiger W. Braun "
   ]
  },
  {
   "cell_type": "markdown",
   "id": "cf35e63a",
   "metadata": {
    "slideshow": {
     "slide_type": "slide"
    }
   },
   "source": [
    "## Exponentialfunktion und Logarithmus\n",
    "\n",
    "$$\n",
    "      \\exp(\\ln(y)) = y \\quad\\text{und}\\quad\n",
    "      \\ln(\\exp(x)) = x\n",
    "$$"
   ]
  },
  {
   "cell_type": "markdown",
   "id": "e69cd59b",
   "metadata": {
    "slideshow": {
     "slide_type": "fragment"
    }
   },
   "source": [
    "$$\n",
    "       a^x = \\exp(x \\cdot \\ln(a))\n",
    "$$"
   ]
  },
  {
   "cell_type": "markdown",
   "id": "3e3877a4",
   "metadata": {
    "slideshow": {
     "slide_type": "slide"
    }
   },
   "source": [
    "## Wachstums- und Abklingprozesse\n",
    "\n",
    "* Bei einem exponentiellen Wachstumsprozess sind die *prozentualen* Zuwächse pro (Zeit-)Einheit konstant.\n",
    "* Bei einem exponentiellen Abklingprozess sind die *prozentualen* Verluste pro (Zeit-)Einheit konstant.\n",
    "* Beispiel: Eine Bakterienkonzentration nehme pro Stunde um 15% ab.  Man startet mit 10000 Bakterien pro $mm^2$:\n",
    "\n",
    "|Zeit [h]                 |     0|    1|     2|    3|    4|    5|    6|    7|\n",
    "|------------------------:|-----:|----:|-----:|----:|----:|----:|----:|----:|\n",
    "|Konzentration [$mm^{-2}$]| 10000| 8500|  7225| 6141| 5220| 4437| 3771| 3206|\n"
   ]
  },
  {
   "cell_type": "markdown",
   "id": "b0f4f165",
   "metadata": {
    "slideshow": {
     "slide_type": "fragment"
    }
   },
   "source": [
    "* Abklingprozesse besitzen eine *Halbwertszeit*.  Das ist derjenige Zeitraum, in dem sich die verbleibende Menge jeweils halbiert\n",
    "* Wachstumsprozesse besitzen eine *Verdoppelungszeit*.  Das ist derjenige Zeitraum, in dem sich die Menge jeweils verdoppelt\n",
    "* Zur Bestimmung der Halbwerts- und Verdoppelungszeiten benötigt man den Logarithmus"
   ]
  },
  {
   "cell_type": "markdown",
   "id": "6ebc1257",
   "metadata": {
    "slideshow": {
     "slide_type": "slide"
    }
   },
   "source": [
    "## Beispiel zur Halbwertszeit\n",
    "\n",
    "* Abklingprozess\n",
    "$$\n",
    "      k(x) = 10000 \\cdot e^{-A \\cdot x}\n",
    "$$\n",
    "* $ k(0) = 10000 $ \n",
    "* nach einer Stunde um 15% geschrumpft: $ k(1) = 8500 $ "
   ]
  },
  {
   "cell_type": "markdown",
   "id": "12c2f45c",
   "metadata": {
    "slideshow": {
     "slide_type": "fragment"
    }
   },
   "source": [
    "* Andererseits $ k(1) = 10000 e^{-A} $, also\n",
    "$$\n",
    "      8500 = 10000 e^{-A}\n",
    "$$\n",
    "* Dividiere durch 10000\n",
    "$$\n",
    "      0.85 = e^{-A}\n",
    "$$"
   ]
  },
  {
   "cell_type": "markdown",
   "id": "c8af14d4",
   "metadata": {
    "slideshow": {
     "slide_type": "fragment"
    }
   },
   "source": [
    "* Logarithmiere (beachte $ \\ln(e^y) = y $)\n",
    "$$\n",
    "      \\ln(0.85) = -A\n",
    "$$"
   ]
  },
  {
   "cell_type": "markdown",
   "id": "99569b7c",
   "metadata": {
    "slideshow": {
     "slide_type": "slide"
    }
   },
   "source": [
    "## Bakterienkonzentration, Fortsetzung\n",
    "\n",
    "* $ \\ln(0.85) = -A $\n",
    "* Also $ A = -\\ln(0.85) = 0.1625 $\n",
    "* Die Konzentration folgt also der Formel $ k(x) = 10000 e^{-0.1625\\cdot x} $"
   ]
  },
  {
   "cell_type": "markdown",
   "id": "6eed86aa",
   "metadata": {
    "slideshow": {
     "slide_type": "fragment"
    }
   },
   "source": [
    "* Die Halbwertszeit ist derjenige Wert $ x_{\\text{hw}} $ mit $ k(x_{hw}) = 5000 $\n",
    "* Löse die Gleichung\n",
    "    $$\n",
    "      e^{-0.1625\\cdot x_{\\text{hw}}} = 0.5\n",
    "    $$"
   ]
  },
  {
   "cell_type": "markdown",
   "id": "280de6f5",
   "metadata": {
    "slideshow": {
     "slide_type": "fragment"
    }
   },
   "source": [
    "* Das geschieht wieder durch Logarithmieren \n",
    "$$\n",
    "      -0.1625 \\cdot x_{\\text{hw}} = \\ln(0.5) = -0.6931\n",
    "$$"
   ]
  },
  {
   "cell_type": "markdown",
   "id": "46f3601b",
   "metadata": {
    "slideshow": {
     "slide_type": "fragment"
    }
   },
   "source": [
    "* Also\n",
    "$$\n",
    "      x_{\\text{hw}} = \\frac{-0.6931}{-0.1625} = 4.266\n",
    "$$\n",
    "* Alle $ 4.266 $ Stunden halbiert sich die Konzentration."
   ]
  },
  {
   "cell_type": "markdown",
   "id": "12533380",
   "metadata": {
    "slideshow": {
     "slide_type": "slide"
    }
   },
   "source": [
    "## Verdopplungszeit\n",
    "\n",
    "* Beispiel:  Eine Seerose verfünffacht ihre Fläche in einer Woche.  Was ist ihre Verdopplungszeit?\n",
    "* Wachstumsprozess ($x$ in Tagen)\n",
    "$$\n",
    "      k(x) = e^{A \\cdot x}\n",
    "$$\n",
    "* Wir haben den Anfangswert auf 1 normiert, weil es auf die absolute Größe nicht ankommt\n",
    "* Bestimme zuerst $A$\n",
    "$$\n",
    "      k(7) = 5 = e^{A\\cdot7}\n",
    "$$"
   ]
  },
  {
   "cell_type": "markdown",
   "id": "1baae22a",
   "metadata": {
    "slideshow": {
     "slide_type": "fragment"
    }
   },
   "source": [
    "* Logarithmiere\n",
    "$$\n",
    "      \\ln(5) =  A \\cdot 7\n",
    "$$\n",
    "* Also $ A = \\frac{\\ln(5)}7 = 0.2299 $"
   ]
  },
  {
   "cell_type": "markdown",
   "id": "9ab6ccb1",
   "metadata": {
    "slideshow": {
     "slide_type": "fragment"
    }
   },
   "source": [
    "* Die Fläche folgt also der Formel\n",
    "$$ k(x) = e^{0.2299\\cdot x} $$"
   ]
  },
  {
   "cell_type": "markdown",
   "id": "d376c1fb",
   "metadata": {
    "slideshow": {
     "slide_type": "slide"
    }
   },
   "source": [
    "## Seerose, Fortsetzung\n",
    "\n",
    "* Fläche $ k(x) = e^{0.2299\\cdot x} $\n",
    "* Die Verdopplungszeit ist derjenige Wert $ x_{\\text{d}} $ mit $ k(x_{d}) = 2 $\n",
    "* Löse die Gleichung\n",
    "$$\n",
    "      e^{0.2299\\cdot x_{\\text{d}}} = 2\n",
    "$$"
   ]
  },
  {
   "cell_type": "markdown",
   "id": "c132b252",
   "metadata": {
    "slideshow": {
     "slide_type": "fragment"
    }
   },
   "source": [
    "* Das geschieht wieder durch Logarithmieren\n",
    "$$\n",
    "      0.2299 \\cdot x_{\\text{d}} = \\ln(2) = 0.6931\n",
    "$$\n",
    "* Also\n",
    "$$\n",
    "      x_{\\text{d}} = \\frac{0.6931}{0.2299} = 3.015\n",
    "$$\n",
    "* Alle $ 3 $ Tage verdoppelt sich die Fläche"
   ]
  },
  {
   "cell_type": "markdown",
   "id": "036bbf47",
   "metadata": {
    "slideshow": {
     "slide_type": "slide"
    }
   },
   "source": [
    "## Absorption\n",
    "\n",
    "![Koralle in blaustichigem Wasser](bilder/coral_reef.jpg)\n",
    " \n",
    "Photo Credit: Jerry Reid, U.S. Fish and Wildlife Service\n"
   ]
  },
  {
   "cell_type": "markdown",
   "id": "99a11e98",
   "metadata": {
    "slideshow": {
     "slide_type": "slide"
    }
   },
   "source": [
    "## Halbwertstiefe von blauem Licht\n",
    "\n",
    "* In 140m Tiefe nimmt die Intensität von blauem Licht auf 1% ab.\n",
    "* Bestimme $A$ für die Intensitätsfunktion $ k(x) = e^{-A\\cdot x} $\n",
    "* Gleichung\n",
    "$$\n",
    "      e^{-A\\cdot 140} = 0.01\n",
    "$$"
   ]
  },
  {
   "cell_type": "markdown",
   "id": "8ec6171a",
   "metadata": {
    "slideshow": {
     "slide_type": "fragment"
    }
   },
   "source": [
    "* Logarithmieren\n",
    "$$\n",
    "      -A \\cdot 140 = \\ln(0.01) = -4.605\n",
    "$$\n",
    "* Also\n",
    "$$\n",
    "      A = \\frac{4.605}{140} = 0.03289\n",
    "$$"
   ]
  },
  {
   "cell_type": "markdown",
   "id": "2f6b65be",
   "metadata": {
    "slideshow": {
     "slide_type": "slide"
    }
   },
   "source": [
    "## blaues Licht, Fortsetzung\n",
    "\n",
    "* Die Intensitätsfunktion für blaues Licht ist $ e^{-0.03289\\cdot x} $, wenn $ x $ die Wassertiefe bezeichnet.\n",
    "* Gleichung für die Halbwertstiefe $ x_{\\text{hw}} $ \n",
    "$$\n",
    "      e^{-0.03289\\cdot x_{\\text{hw}}} = 0.5\n",
    "$$"
   ]
  },
  {
   "cell_type": "markdown",
   "id": "21fc7134",
   "metadata": {
    "slideshow": {
     "slide_type": "fragment"
    }
   },
   "source": [
    "* Also\n",
    "$$\n",
    "      x_{\\text{hw}} = - \\frac{\\ln(0.5)}{0.03289} = 21.07\n",
    "$$\n",
    "* Die Halbwertstiefe für blaues Licht beträgt $21m$.\n",
    "* Taucht man $21m$ tiefer, halbiert sich die Intensität des blauen Lichts"
   ]
  },
  {
   "cell_type": "markdown",
   "id": "df1fac2e",
   "metadata": {
    "slideshow": {
     "slide_type": "slide"
    }
   },
   "source": [
    "## Erklärung des Blaustichs\n",
    "\n",
    "* Die Halbwertstiefe von rotem Licht beträgt $2m$, die von  grünem Licht ungefähr $6m$ \n",
    "* In $24m$ Tiefe hat sich die Intensität des roten Lichts schon\n",
    "    12mal halbiert, die Intensität ist also nur ein 4000-tel der\n",
    "    Intensität an der Oberfläche.\n",
    "* Dagegen beträgt die Intensität des blauen Lichts in $24m$ Tiefe etwas weniger als 50%"
   ]
  },
  {
   "cell_type": "markdown",
   "id": "a3aaea54",
   "metadata": {
    "slideshow": {
     "slide_type": "slide"
    }
   },
   "source": [
    "## Wasserfarbe in Abhängigkeit von der Tiefe in Metern"
   ]
  },
  {
   "cell_type": "code",
   "execution_count": null,
   "id": "ae5da2ec",
   "metadata": {},
   "outputs": [],
   "source": [
    "%run wasser.py"
   ]
  },
  {
   "cell_type": "markdown",
   "id": "c6c273d2",
   "metadata": {
    "slideshow": {
     "slide_type": "slide"
    }
   },
   "source": [
    "# Statistik mit Python"
   ]
  },
  {
   "cell_type": "markdown",
   "id": "e6a5807e",
   "metadata": {
    "slideshow": {
     "slide_type": "fragment"
    }
   },
   "source": [
    "Installationshinweise auf https://www.math.uni-duesseldorf.de/~internet/bio2425/software.html"
   ]
  },
  {
   "cell_type": "code",
   "execution_count": null,
   "id": "846c232e",
   "metadata": {
    "slideshow": {
     "slide_type": "slide"
    }
   },
   "outputs": [],
   "source": [
    "123456 * 987654"
   ]
  },
  {
   "cell_type": "code",
   "execution_count": null,
   "id": "15de47c4",
   "metadata": {},
   "outputs": [],
   "source": [
    "88/12"
   ]
  },
  {
   "cell_type": "markdown",
   "id": "22b2fdf1",
   "metadata": {},
   "source": [
    "* Addition `+`\n",
    "* Subtraktion `-`\n",
    "* Multiplikation `*`\n",
    "* Division `/`\n",
    "* Potenz `**`"
   ]
  },
  {
   "cell_type": "code",
   "execution_count": null,
   "id": "6ad21964",
   "metadata": {
    "slideshow": {
     "slide_type": "fragment"
    }
   },
   "outputs": [],
   "source": [
    "2**10"
   ]
  },
  {
   "cell_type": "code",
   "execution_count": null,
   "id": "fa3d4c75",
   "metadata": {
    "slideshow": {
     "slide_type": "slide"
    }
   },
   "outputs": [],
   "source": [
    "import numpy as np"
   ]
  },
  {
   "cell_type": "markdown",
   "id": "9b43330c",
   "metadata": {},
   "source": [
    "* Es gibt mindestens fünf Implementierungen von $\\exp$ in Python\n",
    "* Daher müssen die benötigten Bibiotheken explizit geladen werden"
   ]
  },
  {
   "cell_type": "code",
   "execution_count": null,
   "id": "0b6725de",
   "metadata": {},
   "outputs": [],
   "source": [
    "np.set_printoptions(legacy='1.25')"
   ]
  },
  {
   "cell_type": "code",
   "execution_count": null,
   "id": "8d92875b",
   "metadata": {},
   "outputs": [],
   "source": [
    "np.exp(2)"
   ]
  },
  {
   "cell_type": "markdown",
   "id": "a4caba64",
   "metadata": {
    "slideshow": {
     "slide_type": "fragment"
    }
   },
   "source": [
    "Der Logarithmus wird aufgerufen als "
   ]
  },
  {
   "cell_type": "code",
   "execution_count": null,
   "id": "d916a011",
   "metadata": {},
   "outputs": [],
   "source": [
    "np.log(7.389)"
   ]
  },
  {
   "cell_type": "markdown",
   "id": "27dc9f87",
   "metadata": {
    "slideshow": {
     "slide_type": "slide"
    }
   },
   "source": [
    "Im Notebook\n",
    "\n",
    "* grüner Randbalken:  Editiermodus\n",
    "* blauer Randbalken:  Kommandomodus\n",
    "\n",
    "nur im Editiermodus ist der Zelleninhalt veränderlich"
   ]
  },
  {
   "cell_type": "markdown",
   "id": "ed21e5c1",
   "metadata": {
    "slideshow": {
     "slide_type": "fragment"
    }
   },
   "source": [
    "Im Kommandomodus kann die Art der Zelle geändert werden\n",
    "\n",
    "* Markdown:  Text\n",
    "* Code:  Programmcode\n",
    "\n",
    "jeweils Ausführung durch `<Umschalt>`-`<Eingabe>` oder \"$\\blacktriangleright$ Run\" aus der Werkzeugleiste"
   ]
  },
  {
   "cell_type": "markdown",
   "id": "a96528d9",
   "metadata": {
    "slideshow": {
     "slide_type": "slide"
    }
   },
   "source": [
    "## Plots"
   ]
  },
  {
   "cell_type": "markdown",
   "id": "2538ea2d",
   "metadata": {},
   "source": [
    "Wir schauen uns die Daten aus dem Beispiel \"Bakterien\" an"
   ]
  },
  {
   "cell_type": "code",
   "execution_count": null,
   "id": "25a76168",
   "metadata": {
    "slideshow": {
     "slide_type": "fragment"
    }
   },
   "outputs": [],
   "source": [
    "zeit = np.arange(8)"
   ]
  },
  {
   "cell_type": "code",
   "execution_count": null,
   "id": "5e6d1494",
   "metadata": {},
   "outputs": [],
   "source": [
    "zeit"
   ]
  },
  {
   "cell_type": "code",
   "execution_count": null,
   "id": "2dd10678",
   "metadata": {},
   "outputs": [],
   "source": [
    "konzentration = np.array([10000, 8500,  7225, 6141, 5220, 4437, 3771, 3206])\n",
    "konzentration"
   ]
  },
  {
   "cell_type": "markdown",
   "id": "7e5b31b5",
   "metadata": {
    "slideshow": {
     "slide_type": "fragment"
    }
   },
   "source": [
    "* `np.array([ , , , ])`  Liste von Zahlen\n",
    "* `np.arange(n)`  Spezieller array von 0 bis `n`-1 (für `n` konkrete Zahl einsetzen)"
   ]
  },
  {
   "cell_type": "markdown",
   "id": "2e1ae39a",
   "metadata": {
    "slideshow": {
     "slide_type": "fragment"
    }
   },
   "source": [
    "Python beginnt Zählungen bei 0"
   ]
  },
  {
   "cell_type": "code",
   "execution_count": null,
   "id": "ef08eb4d",
   "metadata": {
    "slideshow": {
     "slide_type": "slide"
    }
   },
   "outputs": [],
   "source": [
    "import seaborn as sns"
   ]
  },
  {
   "cell_type": "code",
   "execution_count": null,
   "id": "8dbd443c",
   "metadata": {},
   "outputs": [],
   "source": [
    "sns.scatterplot(x=zeit, y=konzentration)"
   ]
  },
  {
   "cell_type": "markdown",
   "id": "2229c474",
   "metadata": {
    "slideshow": {
     "slide_type": "slide"
    }
   },
   "source": [
    "Wir wollen die Achsen beschriften\n",
    "\n",
    "Dazu geben wir als erstes dem Bild den Namen `ax` (von axis)"
   ]
  },
  {
   "cell_type": "code",
   "execution_count": null,
   "id": "a6590d21",
   "metadata": {},
   "outputs": [],
   "source": [
    "ax = sns.scatterplot(x=zeit, y=konzentration)"
   ]
  },
  {
   "cell_type": "code",
   "execution_count": null,
   "id": "83c75bc8",
   "metadata": {},
   "outputs": [],
   "source": [
    "ax.set_xlabel(\"Zeit\")\n",
    "ax.set_ylabel(\"Konzentration\")"
   ]
  },
  {
   "cell_type": "markdown",
   "id": "99bb4030",
   "metadata": {
    "slideshow": {
     "slide_type": "slide"
    }
   },
   "source": [
    "Die Grafik muss nun explizit aufgerufen werden"
   ]
  },
  {
   "cell_type": "code",
   "execution_count": null,
   "id": "0a570cdb",
   "metadata": {},
   "outputs": [],
   "source": [
    "ax.figure"
   ]
  },
  {
   "cell_type": "markdown",
   "id": "755c68f5",
   "metadata": {},
   "source": [
    "Es wird immer das Objekt aus der letzten Zeile einer Zelle dargestellt"
   ]
  },
  {
   "cell_type": "markdown",
   "id": "0baa09ea",
   "metadata": {
    "slideshow": {
     "slide_type": "slide"
    }
   },
   "source": [
    "Jetzt malen wir noch die Kurve $10000 \\cdot e^{-0.1625\\cdot x}$ dazu."
   ]
  },
  {
   "cell_type": "code",
   "execution_count": null,
   "id": "bef9d1c1",
   "metadata": {},
   "outputs": [],
   "source": [
    "zeitstrahl = np.linspace(0, 7, 100)\n",
    "#  100 Zeitpunkte zwischen 0 und 7\n",
    "zeitstrahl"
   ]
  },
  {
   "cell_type": "code",
   "execution_count": null,
   "id": "c37ff0e2",
   "metadata": {
    "slideshow": {
     "slide_type": "slide"
    }
   },
   "outputs": [],
   "source": [
    "werte = 10000 * np.exp(-0.1625*zeitstrahl)\n",
    "werte"
   ]
  },
  {
   "cell_type": "code",
   "execution_count": null,
   "id": "81e6799a",
   "metadata": {
    "slideshow": {
     "slide_type": "slide"
    }
   },
   "outputs": [],
   "source": [
    "sns.lineplot(x=zeitstrahl, y=werte)"
   ]
  },
  {
   "cell_type": "markdown",
   "id": "05380fd6",
   "metadata": {
    "slideshow": {
     "slide_type": "slide"
    }
   },
   "source": [
    "Das malen wir jetzt in die andere Achse hinein"
   ]
  },
  {
   "cell_type": "code",
   "execution_count": null,
   "id": "7da6b004",
   "metadata": {},
   "outputs": [],
   "source": [
    "ax2 = sns.lineplot(x=zeitstrahl, y=werte, ax=ax)"
   ]
  },
  {
   "cell_type": "code",
   "execution_count": null,
   "id": "7f5ee19d",
   "metadata": {},
   "outputs": [],
   "source": [
    "ax2.figure"
   ]
  },
  {
   "cell_type": "markdown",
   "id": "c5ccc0be",
   "metadata": {
    "slideshow": {
     "slide_type": "slide"
    }
   },
   "source": [
    "* `sns.scatterplot`  einzelne Punkte\n",
    "* `sns.lineplot`  durchgezogene Linie\n",
    "\n",
    "Es gibt eine Unzahl von statistischen Zeichenfunktionen.  Die wichtigsten werde ich nach und nach vorstellen."
   ]
  },
  {
   "cell_type": "markdown",
   "id": "848e8e6e",
   "metadata": {},
   "source": [
    "Der folgende Aufruf wählt die Standard-Darstellung.  Für uns ist das Gitter wichtig."
   ]
  },
  {
   "cell_type": "code",
   "execution_count": null,
   "id": "c509e8d1",
   "metadata": {},
   "outputs": [],
   "source": [
    "sns.set_theme()"
   ]
  },
  {
   "cell_type": "markdown",
   "id": "4496d032",
   "metadata": {
    "slideshow": {
     "slide_type": "slide"
    }
   },
   "source": [
    "## Jetzt auch noch eine Grafik zu  den Absorbationstiefen"
   ]
  },
  {
   "cell_type": "code",
   "execution_count": null,
   "id": "8556edfc",
   "metadata": {},
   "outputs": [],
   "source": [
    "tiefe = np.linspace(0, 24, 100)\n",
    "blau = np.exp(-0.03289*tiefe)"
   ]
  },
  {
   "cell_type": "code",
   "execution_count": null,
   "id": "2e48e988",
   "metadata": {
    "slideshow": {
     "slide_type": "-"
    }
   },
   "outputs": [],
   "source": [
    "gruen = np.exp(-.1151*tiefe)\n",
    "rot = np.exp(-.3466*tiefe)"
   ]
  },
  {
   "cell_type": "code",
   "execution_count": null,
   "id": "d8b24cd8",
   "metadata": {
    "slideshow": {
     "slide_type": "slide"
    }
   },
   "outputs": [],
   "source": [
    "sns.lineplot(x=tiefe, y=blau, color='blue')\n",
    "sns.lineplot(x=tiefe, y=gruen, color='green')\n",
    "ax = sns.lineplot(x=tiefe, y=rot, color='red')\n",
    "ax.set_xlabel('Tiefe [m]')\n",
    "ax.set_ylabel('Anteil')"
   ]
  }
 ],
 "metadata": {
  "celltoolbar": "Slideshow",
  "kernelspec": {
   "display_name": "Python 3 (ipykernel)",
   "language": "python",
   "name": "python3"
  },
  "language_info": {
   "codemirror_mode": {
    "name": "ipython",
    "version": 3
   },
   "file_extension": ".py",
   "mimetype": "text/x-python",
   "name": "python",
   "nbconvert_exporter": "python",
   "pygments_lexer": "ipython3",
   "version": "3.11.10"
  }
 },
 "nbformat": 4,
 "nbformat_minor": 5
}
