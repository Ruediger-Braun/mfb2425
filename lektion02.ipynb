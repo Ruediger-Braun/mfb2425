{
 "cells": [
  {
   "cell_type": "markdown",
   "id": "e01baa24",
   "metadata": {
    "slideshow": {
     "slide_type": "slide"
    }
   },
   "source": [
    "# Mathematik für Biologiestudierende\n",
    "\n",
    "Wintersemester 2024/25\n",
    "\n",
    "16. Oktober 2024\n",
    "\n",
    "&copy; 2024 Prof. Dr. Rüdiger W. Braun "
   ]
  },
  {
   "cell_type": "markdown",
   "id": "cf35e63a",
   "metadata": {
    "slideshow": {
     "slide_type": "slide"
    }
   },
   "source": [
    "## Exponentialfunktion und Logarithmus\n",
    "\n",
    "$$\n",
    "      \\exp(\\ln(y)) = y \\quad\\text{und}\\quad\n",
    "      \\ln(\\exp(x)) = x\n",
    "$$"
   ]
  },
  {
   "cell_type": "markdown",
   "id": "e69cd59b",
   "metadata": {
    "slideshow": {
     "slide_type": "fragment"
    }
   },
   "source": [
    "$$\n",
    "       a^x = \\exp(x \\cdot \\ln(a))\n",
    "$$"
   ]
  },
  {
   "cell_type": "markdown",
   "id": "3e3877a4",
   "metadata": {
    "slideshow": {
     "slide_type": "slide"
    }
   },
   "source": [
    "## Wachstums- und Abklingprozesse\n",
    "\n",
    "* Bei einem exponentiellen Wachstumsprozess sind die *prozentualen* Zuwächse pro (Zeit-)Einheit konstant.\n",
    "* Bei einem exponentiellen Abklingprozess sind die *prozentualen* Verluste pro (Zeit-)Einheit konstant.\n",
    "* Beispiel: Eine Bakterienkonzentration nehme pro Stunde um 15% ab.  Man startet mit 10000 Bakterien pro $mm^2$:\n",
    "\n",
    "|Zeit [h]                 |     0|    1|     2|    3|    4|    5|    6|    7|\n",
    "|------------------------:|-----:|----:|-----:|----:|----:|----:|----:|----:|\n",
    "|Konzentration [$mm^{-2}$]| 10000| 8500|  7225| 6141| 5220| 4437| 3771| 3206|\n"
   ]
  },
  {
   "cell_type": "markdown",
   "id": "b0f4f165",
   "metadata": {
    "slideshow": {
     "slide_type": "fragment"
    }
   },
   "source": [
    "* Abklingprozesse besitzen eine *Halbwertszeit*.  Das ist derjenige Zeitraum, in dem sich die verbleibende Menge jeweils halbiert\n",
    "* Wachstumsprozesse besitzen eine *Verdoppelungszeit*.  Das ist derjenige Zeitraum, in dem sich die Menge jeweils verdoppelt\n",
    "* Zur Bestimmung der Halbwerts- und Verdoppelungszeiten benötigt man den Logarithmus"
   ]
  },
  {
   "cell_type": "markdown",
   "id": "6ebc1257",
   "metadata": {
    "slideshow": {
     "slide_type": "slide"
    }
   },
   "source": [
    "## Beispiel zur Halbwertszeit\n",
    "\n",
    "* Abklingprozess\n",
    "$$\n",
    "      k(x) = 10000 \\cdot e^{-A \\cdot x}\n",
    "$$\n",
    "* $ k(0) = 10000 $ \n",
    "* nach einer Stunde um 15% geschrumpft: $ k(1) = 8500 $ "
   ]
  },
  {
   "cell_type": "markdown",
   "id": "12c2f45c",
   "metadata": {
    "slideshow": {
     "slide_type": "fragment"
    }
   },
   "source": [
    "* Andererseits $ k(1) = 10000 e^{-A} $, also\n",
    "$$\n",
    "      8500 = 10000 e^{-A}\n",
    "$$\n",
    "* Dividiere durch 10000\n",
    "$$\n",
    "      0.85 = e^{-A}\n",
    "$$"
   ]
  },
  {
   "cell_type": "markdown",
   "id": "c8af14d4",
   "metadata": {
    "slideshow": {
     "slide_type": "fragment"
    }
   },
   "source": [
    "* Logarithmiere (beachte $ \\ln(e^y) = y $)\n",
    "$$\n",
    "      \\ln(0.85) = -A\n",
    "$$"
   ]
  },
  {
   "cell_type": "markdown",
   "id": "99569b7c",
   "metadata": {
    "slideshow": {
     "slide_type": "slide"
    }
   },
   "source": [
    "## Bakterienkonzentration, Fortsetzung\n",
    "\n",
    "* $ \\ln(0.85) = -A $\n",
    "* Also $ A = -\\ln(0.85) = 0.1625 $\n",
    "* Die Konzentration folgt also der Formel $ k(x) = 10000 e^{-0.1625\\cdot x} $"
   ]
  },
  {
   "cell_type": "markdown",
   "id": "6eed86aa",
   "metadata": {
    "slideshow": {
     "slide_type": "fragment"
    }
   },
   "source": [
    "* Die Halbwertszeit ist derjenige Wert $ x_{\\text{hw}} $ mit $ k(x_{hw}) = 5000 $\n",
    "* Löse die Gleichung\n",
    "    $$\n",
    "      e^{-0.1625\\cdot x_{\\text{hw}}} = 0.5\n",
    "    $$"
   ]
  },
  {
   "cell_type": "markdown",
   "id": "280de6f5",
   "metadata": {
    "slideshow": {
     "slide_type": "fragment"
    }
   },
   "source": [
    "* Das geschieht wieder durch Logarithmieren \n",
    "$$\n",
    "      -0.1625 \\cdot x_{\\text{hw}} = \\ln(0.5) = -0.6931\n",
    "$$"
   ]
  },
  {
   "cell_type": "markdown",
   "id": "46f3601b",
   "metadata": {
    "slideshow": {
     "slide_type": "fragment"
    }
   },
   "source": [
    "* Also\n",
    "$$\n",
    "      x_{\\text{hw}} = \\frac{-0.6931}{-0.1625} = 4.266\n",
    "$$\n",
    "* Alle $ 4.266 $ Stunden halbiert sich die Konzentration."
   ]
  },
  {
   "cell_type": "markdown",
   "id": "12533380",
   "metadata": {
    "slideshow": {
     "slide_type": "slide"
    }
   },
   "source": [
    "## Verdopplungszeit\n",
    "\n",
    "* Beispiel:  Eine Seerose verfünffacht ihre Fläche in einer Woche.  Was ist ihre Verdopplungszeit?\n",
    "* Wachstumsprozess ($x$ in Tagen)\n",
    "$$\n",
    "      k(x) = e^{A \\cdot x}\n",
    "$$\n",
    "* Wir haben den Anfangswert auf 1 normiert, weil es auf die absolute Größe nicht ankommt\n",
    "* Bestimme zuerst $A$\n",
    "$$\n",
    "      k(7) = 5 = e^{A\\cdot7}\n",
    "$$"
   ]
  },
  {
   "cell_type": "markdown",
   "id": "1baae22a",
   "metadata": {
    "slideshow": {
     "slide_type": "fragment"
    }
   },
   "source": [
    "* Logarithmiere\n",
    "$$\n",
    "      \\ln(5) =  A \\cdot 7\n",
    "$$\n",
    "* Also $ A = \\frac{\\ln(5)}7 = 0.2299 $"
   ]
  },
  {
   "cell_type": "markdown",
   "id": "9ab6ccb1",
   "metadata": {
    "slideshow": {
     "slide_type": "fragment"
    }
   },
   "source": [
    "* Die Fläche folgt also der Formel\n",
    "$$ k(x) = e^{0.2299\\cdot x} $$"
   ]
  },
  {
   "cell_type": "markdown",
   "id": "d376c1fb",
   "metadata": {
    "slideshow": {
     "slide_type": "slide"
    }
   },
   "source": [
    "## Seerose, Fortsetzung\n",
    "\n",
    "* Fläche $ k(x) = e^{0.2299\\cdot x} $\n",
    "* Die Verdopplungszeit ist derjenige Wert $ x_{\\text{d}} $ mit $ k(x_{d}) = 2 $\n",
    "* Löse die Gleichung\n",
    "$$\n",
    "      e^{0.2299\\cdot x_{\\text{d}}} = 2\n",
    "$$"
   ]
  },
  {
   "cell_type": "markdown",
   "id": "c132b252",
   "metadata": {
    "slideshow": {
     "slide_type": "fragment"
    }
   },
   "source": [
    "* Das geschieht wieder durch Logarithmieren\n",
    "$$\n",
    "      0.2299 \\cdot x_{\\text{d}} = \\ln(2) = 0.6931\n",
    "$$\n",
    "* Also\n",
    "$$\n",
    "      x_{\\text{d}} = \\frac{0.6931}{0.2299} = 3.015\n",
    "$$\n",
    "* Alle $ 3 $ Tage verdoppelt sich die Fläche"
   ]
  },
  {
   "cell_type": "markdown",
   "id": "036bbf47",
   "metadata": {
    "slideshow": {
     "slide_type": "slide"
    }
   },
   "source": [
    "## Absorption\n",
    "\n",
    "![Koralle in blaustichigem Wasser](bilder/coral_reef.jpg)\n",
    " \n",
    "Photo Credit: Jerry Reid, U.S. Fish and Wildlife Service\n"
   ]
  },
  {
   "cell_type": "markdown",
   "id": "99a11e98",
   "metadata": {
    "slideshow": {
     "slide_type": "slide"
    }
   },
   "source": [
    "## Halbwertstiefe von blauem Licht\n",
    "\n",
    "* In 140m Tiefe nimmt die Intensität von blauem Licht auf 1% ab.\n",
    "* Bestimme $A$ für die Intensitätsfunktion $ k(x) = e^{-A\\cdot x} $\n",
    "* Gleichung\n",
    "$$\n",
    "      e^{-A\\cdot 140} = 0.01\n",
    "$$"
   ]
  },
  {
   "cell_type": "markdown",
   "id": "8ec6171a",
   "metadata": {
    "slideshow": {
     "slide_type": "fragment"
    }
   },
   "source": [
    "* Logarithmieren\n",
    "$$\n",
    "      -A \\cdot 140 = \\ln(0.01) = -4.605\n",
    "$$\n",
    "* Also\n",
    "$$\n",
    "      A = \\frac{4.605}{140} = 0.03289\n",
    "$$"
   ]
  },
  {
   "cell_type": "markdown",
   "id": "2f6b65be",
   "metadata": {
    "slideshow": {
     "slide_type": "slide"
    }
   },
   "source": [
    "## blaues Licht, Fortsetzung\n",
    "\n",
    "* Die Intensitätsfunktion für blaues Licht ist $ e^{-0.03289\\cdot x} $, wenn $ x $ die Wassertiefe bezeichnet.\n",
    "* Gleichung für die Halbwertstiefe $ x_{\\text{hw}} $ \n",
    "$$\n",
    "      e^{-0.03289\\cdot x_{\\text{hw}}} = 0.5\n",
    "$$"
   ]
  },
  {
   "cell_type": "markdown",
   "id": "21fc7134",
   "metadata": {
    "slideshow": {
     "slide_type": "fragment"
    }
   },
   "source": [
    "* Also\n",
    "$$\n",
    "      x_{\\text{hw}} = - \\frac{\\ln(0.5)}{0.03289} = 21.07\n",
    "$$\n",
    "* Die Halbwertstiefe für blaues Licht beträgt $21m$.\n",
    "* Taucht man $21m$ tiefer, halbiert sich die Intensität des blauen Lichts"
   ]
  },
  {
   "cell_type": "markdown",
   "id": "df1fac2e",
   "metadata": {
    "slideshow": {
     "slide_type": "slide"
    }
   },
   "source": [
    "## Erklärung des Blaustichs\n",
    "\n",
    "* Die Halbwertstiefe von rotem Licht beträgt $2m$, die von  grünem Licht ungefähr $6m$ \n",
    "* In $24m$ Tiefe hat sich die Intensität des roten Lichts schon\n",
    "    12mal halbiert, die Intensität ist also nur ein 4000-tel der\n",
    "    Intensität an der Oberfläche.\n",
    "* Dagegen beträgt die Intensität des blauen Lichts in $24m$ Tiefe etwas weniger als 50%"
   ]
  },
  {
   "cell_type": "markdown",
   "id": "a3aaea54",
   "metadata": {
    "slideshow": {
     "slide_type": "slide"
    }
   },
   "source": [
    "## Wasserfarbe in Abhängigkeit von der Tiefe in Metern"
   ]
  },
  {
   "cell_type": "code",
   "execution_count": 1,
   "id": "ae5da2ec",
   "metadata": {},
   "outputs": [
    {
     "data": {
      "image/png": "[encoded data removed]",
      "text/plain": [
       "<Figure size 640x480 with 1 Axes>"
      ]
     },
     "metadata": {},
     "output_type": "display_data"
    }
   ],
   "source": [
    "%run wasser.py"
   ]
  },
  {
   "cell_type": "markdown",
   "id": "c6c273d2",
   "metadata": {
    "slideshow": {
     "slide_type": "slide"
    }
   },
   "source": [
    "# Statistik mit Python"
   ]
  },
  {
   "cell_type": "markdown",
   "id": "e6a5807e",
   "metadata": {
    "slideshow": {
     "slide_type": "fragment"
    }
   },
   "source": [
    "Installationshinweise auf https://www.math.uni-duesseldorf.de/~internet/bio2425/software.html"
   ]
  },
  {
   "cell_type": "code",
   "execution_count": 2,
   "id": "846c232e",
   "metadata": {
    "slideshow": {
     "slide_type": "slide"
    }
   },
   "outputs": [
    {
     "data": {
      "text/plain": [
       "121931812224"
      ]
     },
     "execution_count": 2,
     "metadata": {},
     "output_type": "execute_result"
    }
   ],
   "source": [
    "123456 * 987654"
   ]
  },
  {
   "cell_type": "code",
   "execution_count": 3,
   "id": "15de47c4",
   "metadata": {},
   "outputs": [
    {
     "data": {
      "text/plain": [
       "7.333333333333333"
      ]
     },
     "execution_count": 3,
     "metadata": {},
     "output_type": "execute_result"
    }
   ],
   "source": [
    "88/12"
   ]
  },
  {
   "cell_type": "markdown",
   "id": "22b2fdf1",
   "metadata": {},
   "source": [
    "* Addition `+`\n",
    "* Subtraktion `-`\n",
    "* Multiplikation `*`\n",
    "* Division `/`\n",
    "* Potenz `**`"
   ]
  },
  {
   "cell_type": "code",
   "execution_count": 4,
   "id": "6ad21964",
   "metadata": {
    "slideshow": {
     "slide_type": "fragment"
    }
   },
   "outputs": [
    {
     "data": {
      "text/plain": [
       "1024"
      ]
     },
     "execution_count": 4,
     "metadata": {},
     "output_type": "execute_result"
    }
   ],
   "source": [
    "2**10"
   ]
  },
  {
   "cell_type": "code",
   "execution_count": 5,
   "id": "fa3d4c75",
   "metadata": {
    "slideshow": {
     "slide_type": "slide"
    }
   },
   "outputs": [],
   "source": [
    "import numpy as np"
   ]
  },
  {
   "cell_type": "markdown",
   "id": "9b43330c",
   "metadata": {},
   "source": [
    "* Es gibt mindestens fünf Implementierungen von $\\exp$ in Python\n",
    "* Daher müssen die benötigten Bibiotheken explizit geladen werden"
   ]
  },
  {
   "cell_type": "code",
   "execution_count": 6,
   "id": "0b6725de",
   "metadata": {},
   "outputs": [],
   "source": [
    "np.set_printoptions(legacy='1.25')"
   ]
  },
  {
   "cell_type": "code",
   "execution_count": 7,
   "id": "8d92875b",
   "metadata": {},
   "outputs": [
    {
     "data": {
      "text/plain": [
       "7.38905609893065"
      ]
     },
     "execution_count": 7,
     "metadata": {},
     "output_type": "execute_result"
    }
   ],
   "source": [
    "np.exp(2)"
   ]
  },
  {
   "cell_type": "markdown",
   "id": "a4caba64",
   "metadata": {
    "slideshow": {
     "slide_type": "fragment"
    }
   },
   "source": [
    "Der Logarithmus wird aufgerufen als "
   ]
  },
  {
   "cell_type": "code",
   "execution_count": 8,
   "id": "d916a011",
   "metadata": {},
   "outputs": [
    {
     "data": {
      "text/plain": [
       "1.9999924078065106"
      ]
     },
     "execution_count": 8,
     "metadata": {},
     "output_type": "execute_result"
    }
   ],
   "source": [
    "np.log(7.389056)"
   ]
  },
  {
   "cell_type": "markdown",
   "id": "27dc9f87",
   "metadata": {
    "slideshow": {
     "slide_type": "slide"
    }
   },
   "source": [
    "Im Notebook\n",
    "\n",
    "* grüner Randbalken:  Editiermodus\n",
    "* blauer Randbalken:  Kommandomodus\n",
    "\n",
    "nur im Editiermodus ist der Zelleninhalt veränderlich "
   ]
  },
  {
   "cell_type": "markdown",
   "id": "ed21e5c1",
   "metadata": {
    "slideshow": {
     "slide_type": "fragment"
    }
   },
   "source": [
    "Im Kommandomodus kann die Art der Zelle geändert werden\n",
    "\n",
    "* Markdown:  Text\n",
    "* Code:  Programmcode\n",
    "\n",
    "jeweils Ausführung durch `<Umschalt>`-`<Eingabe>` oder \"$\\blacktriangleright$ Run\" aus der Werkzeugleiste"
   ]
  },
  {
   "cell_type": "markdown",
   "id": "a96528d9",
   "metadata": {
    "slideshow": {
     "slide_type": "slide"
    }
   },
   "source": [
    "## Plots"
   ]
  },
  {
   "cell_type": "markdown",
   "id": "2538ea2d",
   "metadata": {},
   "source": [
    "Wir schauen uns die Daten aus dem Beispiel \"Bakterien\" an"
   ]
  },
  {
   "cell_type": "code",
   "execution_count": 9,
   "id": "25a76168",
   "metadata": {
    "slideshow": {
     "slide_type": "fragment"
    }
   },
   "outputs": [],
   "source": [
    "zeit = np.arange(8)"
   ]
  },
  {
   "cell_type": "code",
   "execution_count": 10,
   "id": "5e6d1494",
   "metadata": {},
   "outputs": [
    {
     "data": {
      "text/plain": [
       "array([0, 1, 2, 3, 4, 5, 6, 7])"
      ]
     },
     "execution_count": 10,
     "metadata": {},
     "output_type": "execute_result"
    }
   ],
   "source": [
    "zeit"
   ]
  },
  {
   "cell_type": "code",
   "execution_count": 11,
   "id": "2dd10678",
   "metadata": {},
   "outputs": [
    {
     "data": {
      "text/plain": [
       "array([10000,  8500,  7225,  6141,  5220,  4437,  3771,  3206])"
      ]
     },
     "execution_count": 11,
     "metadata": {},
     "output_type": "execute_result"
    }
   ],
   "source": [
    "konzentration = np.array([10000, 8500,  7225, 6141, 5220, 4437, 3771, 3206])\n",
    "konzentration"
   ]
  },
  {
   "cell_type": "markdown",
   "id": "7e5b31b5",
   "metadata": {
    "slideshow": {
     "slide_type": "fragment"
    }
   },
   "source": [
    "* `np.array([ , , , ])`  Liste von Zahlen\n",
    "* `np.arange(n)`  Spezieller array von 0 bis `n-1` (für `n` konkrete Zahl einsetzen)"
   ]
  },
  {
   "cell_type": "markdown",
   "id": "2e1ae39a",
   "metadata": {
    "slideshow": {
     "slide_type": "fragment"
    }
   },
   "source": [
    "Python beginnt Zählungen bei 0"
   ]
  },
  {
   "cell_type": "code",
   "execution_count": 12,
   "id": "ef08eb4d",
   "metadata": {
    "slideshow": {
     "slide_type": "slide"
    }
   },
   "outputs": [],
   "source": [
    "import seaborn as sns"
   ]
  },
  {
   "cell_type": "code",
   "execution_count": 13,
   "id": "8dbd443c",
   "metadata": {},
   "outputs": [
    {
     "data": {
      "text/plain": [
       "<Axes: >"
      ]
     },
     "execution_count": 13,
     "metadata": {},
     "output_type": "execute_result"
    },
    {
     "data": {
      "image/png": "[encoded data removed]",
      "text/plain": [
       "<Figure size 640x480 with 1 Axes>"
      ]
     },
     "metadata": {},
     "output_type": "display_data"
    }
   ],
   "source": [
    "sns.scatterplot(x=zeit, y=konzentration)"
   ]
  },
  {
   "cell_type": "markdown",
   "id": "2229c474",
   "metadata": {
    "slideshow": {
     "slide_type": "slide"
    }
   },
   "source": [
    "Wir wollen die Achsen beschriften\n",
    "\n",
    "Dazu geben wir als erstes dem Bild den Namen `ax` (von axis)"
   ]
  },
  {
   "cell_type": "code",
   "execution_count": 14,
   "id": "a6590d21",
   "metadata": {},
   "outputs": [
    {
     "data": {
      "image/png": "[encoded data removed]",
      "text/plain": [
       "<Figure size 640x480 with 1 Axes>"
      ]
     },
     "metadata": {},
     "output_type": "display_data"
    }
   ],
   "source": [
    "ax = sns.scatterplot(x=zeit, y=konzentration)"
   ]
  },
  {
   "cell_type": "code",
   "execution_count": 15,
   "id": "83c75bc8",
   "metadata": {},
   "outputs": [
    {
     "data": {
      "text/plain": [
       "Text(4.444444444444452, 0.5, 'Konzentration')"
      ]
     },
     "execution_count": 15,
     "metadata": {},
     "output_type": "execute_result"
    }
   ],
   "source": [
    "ax.set_xlabel(\"Zeit\")\n",
    "ax.set_ylabel(\"Konzentration\")"
   ]
  },
  {
   "cell_type": "markdown",
   "id": "99bb4030",
   "metadata": {
    "slideshow": {
     "slide_type": "slide"
    }
   },
   "source": [
    "Die Grafik muss nun explizit aufgerufen werden"
   ]
  },
  {
   "cell_type": "code",
   "execution_count": 16,
   "id": "0a570cdb",
   "metadata": {},
   "outputs": [
    {
     "data": {
      "image/png": "[encoded data removed]",
      "text/plain": [
       "<Figure size 640x480 with 1 Axes>"
      ]
     },
     "execution_count": 16,
     "metadata": {},
     "output_type": "execute_result"
    }
   ],
   "source": [
    "ax.figure"
   ]
  },
  {
   "cell_type": "markdown",
   "id": "755c68f5",
   "metadata": {},
   "source": [
    "Es wird immer das Objekt aus der letzten Zeile einer Zelle dargestellt"
   ]
  },
  {
   "cell_type": "markdown",
   "id": "0baa09ea",
   "metadata": {
    "slideshow": {
     "slide_type": "slide"
    }
   },
   "source": [
    "Jetzt malen wir noch die Kurve $10000 \\cdot e^{-0.1625\\cdot x}$ dazu."
   ]
  },
  {
   "cell_type": "code",
   "execution_count": 17,
   "id": "bef9d1c1",
   "metadata": {},
   "outputs": [
    {
     "data": {
      "text/plain": [
       "array([0.        , 0.07070707, 0.14141414, 0.21212121, 0.28282828,\n",
       "       0.35353535, 0.42424242, 0.49494949, 0.56565657, 0.63636364,\n",
       "       0.70707071, 0.77777778, 0.84848485, 0.91919192, 0.98989899,\n",
       "       1.06060606, 1.13131313, 1.2020202 , 1.27272727, 1.34343434,\n",
       "       1.41414141, 1.48484848, 1.55555556, 1.62626263, 1.6969697 ,\n",
       "       1.76767677, 1.83838384, 1.90909091, 1.97979798, 2.05050505,\n",
       "       2.12121212, 2.19191919, 2.26262626, 2.33333333, 2.4040404 ,\n",
       "       2.47474747, 2.54545455, 2.61616162, 2.68686869, 2.75757576,\n",
       "       2.82828283, 2.8989899 , 2.96969697, 3.04040404, 3.11111111,\n",
       "       3.18181818, 3.25252525, 3.32323232, 3.39393939, 3.46464646,\n",
       "       3.53535354, 3.60606061, 3.67676768, 3.74747475, 3.81818182,\n",
       "       3.88888889, 3.95959596, 4.03030303, 4.1010101 , 4.17171717,\n",
       "       4.24242424, 4.31313131, 4.38383838, 4.45454545, 4.52525253,\n",
       "       4.5959596 , 4.66666667, 4.73737374, 4.80808081, 4.87878788,\n",
       "       4.94949495, 5.02020202, 5.09090909, 5.16161616, 5.23232323,\n",
       "       5.3030303 , 5.37373737, 5.44444444, 5.51515152, 5.58585859,\n",
       "       5.65656566, 5.72727273, 5.7979798 , 5.86868687, 5.93939394,\n",
       "       6.01010101, 6.08080808, 6.15151515, 6.22222222, 6.29292929,\n",
       "       6.36363636, 6.43434343, 6.50505051, 6.57575758, 6.64646465,\n",
       "       6.71717172, 6.78787879, 6.85858586, 6.92929293, 7.        ])"
      ]
     },
     "execution_count": 17,
     "metadata": {},
     "output_type": "execute_result"
    }
   ],
   "source": [
    "zeitstrahl = np.linspace(0, 7, 100)\n",
    "#  100 Zeitpunkte zwischen 0 und 7\n",
    "zeitstrahl"
   ]
  },
  {
   "cell_type": "code",
   "execution_count": 18,
   "id": "c37ff0e2",
   "metadata": {
    "slideshow": {
     "slide_type": "slide"
    }
   },
   "outputs": [
    {
     "data": {
      "text/plain": [
       "array([10000.        ,  9885.75857812,  9772.82226649,  9661.17615534,\n",
       "        9550.80550524,  9441.69574514,  9333.83247046,  9227.20144116,\n",
       "        9121.7885799 ,  9017.57997015,  8914.56185439,  8812.72063222,\n",
       "        8712.04285866,  8612.51524229,  8514.12464357,  8416.85807304,\n",
       "        8320.70268964,  8225.64579901,  8131.67485181,  8038.77744208,\n",
       "        7946.94130557,  7856.15431813,  7766.40449415,  7677.67998492,\n",
       "        7589.9690771 ,  7503.26019117,  7417.54187987,  7332.80282675,\n",
       "        7249.03184462,  7166.21787411,  7084.34998216,  7003.41736066,\n",
       "        6923.40932493,  6844.31531238,  6766.12488107,  6688.82770837,\n",
       "        6612.41358956,  6536.87243651,  6462.19427633,  6388.36925007,\n",
       "        6315.38761141,  6243.23972537,  6171.91606703,  6101.40722031,\n",
       "        6031.70387668,  5962.79683396,  5894.67699509,  5827.33536695,\n",
       "        5760.76305914,  5694.95128284,  5629.89134963,  5565.57467035,\n",
       "        5501.99275396,  5439.13720643,  5376.9997296 ,  5315.57212015,\n",
       "        5254.84626844,  5194.81415749,  5135.46786192,  5076.79954686,\n",
       "        5018.80146698,  4961.46596541,  4904.78547276,  4848.75250612,\n",
       "        4793.35966805,  4738.59964565,  4684.46520953,  4630.9492129 ,\n",
       "        4578.04459063,  4525.74435828,  4474.04161123,  4422.92952371,\n",
       "        4372.40134794,  4322.45041324,  4273.07012512,  4224.25396443,\n",
       "        4175.9954865 ,  4128.28832029,  4081.12616753,  4034.5028019 ,\n",
       "        3988.41206824,  3942.84788167,  3897.80422684,  3853.27515713,\n",
       "        3809.25479385,  3765.73732546,  3722.71700681,  3680.1881584 ,\n",
       "        3638.1451656 ,  3596.58247793,  3555.49460831,  3514.87613235,\n",
       "        3474.72168765,  3435.02597302,  3395.78374789,  3356.98983151,\n",
       "        3318.63910236,  3280.72649738,  3243.2470114 ,  3206.19569639])"
      ]
     },
     "execution_count": 18,
     "metadata": {},
     "output_type": "execute_result"
    }
   ],
   "source": [
    "werte = 10000 * np.exp(-0.1625*zeitstrahl)\n",
    "werte"
   ]
  },
  {
   "cell_type": "code",
   "execution_count": 19,
   "id": "81e6799a",
   "metadata": {
    "slideshow": {
     "slide_type": "slide"
    }
   },
   "outputs": [
    {
     "data": {
      "text/plain": [
       "<Axes: >"
      ]
     },
     "execution_count": 19,
     "metadata": {},
     "output_type": "execute_result"
    },
    {
     "data": {
      "image/png": "[encoded data removed]",
      "text/plain": [
       "<Figure size 640x480 with 1 Axes>"
      ]
     },
     "metadata": {},
     "output_type": "display_data"
    }
   ],
   "source": [
    "sns.lineplot(x=zeitstrahl, y=werte)"
   ]
  },
  {
   "cell_type": "markdown",
   "id": "05380fd6",
   "metadata": {
    "slideshow": {
     "slide_type": "slide"
    }
   },
   "source": [
    "Das malen wir jetzt in die andere Achse hinein"
   ]
  },
  {
   "cell_type": "code",
   "execution_count": 20,
   "id": "7da6b004",
   "metadata": {},
   "outputs": [],
   "source": [
    "ax2 = sns.lineplot(x=zeitstrahl, y=werte, ax=ax)"
   ]
  },
  {
   "cell_type": "code",
   "execution_count": 21,
   "id": "7f5ee19d",
   "metadata": {},
   "outputs": [
    {
     "data": {
      "image/png": "[encoded data removed]",
      "text/plain": [
       "<Figure size 640x480 with 1 Axes>"
      ]
     },
     "execution_count": 21,
     "metadata": {},
     "output_type": "execute_result"
    }
   ],
   "source": [
    "ax2.figure"
   ]
  },
  {
   "cell_type": "markdown",
   "id": "c5ccc0be",
   "metadata": {
    "slideshow": {
     "slide_type": "slide"
    }
   },
   "source": [
    "* `sns.scatterplot`  einzelne Punkte\n",
    "* `sns.lineplot`  durchgezogene Linie\n",
    "\n",
    "Es gibt eine Unzahl von statistischen Zeichenfunktionen.  Die wichtigsten werde ich nach und nach vorstellen."
   ]
  },
  {
   "cell_type": "markdown",
   "id": "848e8e6e",
   "metadata": {},
   "source": [
    "Der folgende Aufruf wählt die Standard-Darstellung.  Für uns ist das Gitter wichtig."
   ]
  },
  {
   "cell_type": "code",
   "execution_count": 22,
   "id": "c509e8d1",
   "metadata": {},
   "outputs": [],
   "source": [
    "sns.set_theme()"
   ]
  },
  {
   "cell_type": "markdown",
   "id": "4496d032",
   "metadata": {
    "slideshow": {
     "slide_type": "slide"
    }
   },
   "source": [
    "## Jetzt auch noch eine Grafik zu  den Absorbationstiefen"
   ]
  },
  {
   "cell_type": "code",
   "execution_count": 23,
   "id": "8556edfc",
   "metadata": {},
   "outputs": [],
   "source": [
    "tiefe = np.linspace(0, 24, 100)\n",
    "blau = np.exp(-0.03289*tiefe)"
   ]
  },
  {
   "cell_type": "code",
   "execution_count": 24,
   "id": "2e48e988",
   "metadata": {
    "slideshow": {
     "slide_type": "-"
    }
   },
   "outputs": [],
   "source": [
    "gruen = np.exp(-.1151*tiefe)\n",
    "rot = np.exp(-.3466*tiefe)"
   ]
  },
  {
   "cell_type": "code",
   "execution_count": 25,
   "id": "d8b24cd8",
   "metadata": {
    "slideshow": {
     "slide_type": "slide"
    }
   },
   "outputs": [
    {
     "data": {
      "text/plain": [
       "Text(0, 0.5, 'Anteil')"
      ]
     },
     "execution_count": 25,
     "metadata": {},
     "output_type": "execute_result"
    },
    {
     "data": {
      "image/png": "[encoded data removed]",
      "text/plain": [
       "<Figure size 640x480 with 1 Axes>"
      ]
     },
     "metadata": {},
     "output_type": "display_data"
    }
   ],
   "source": [
    "sns.lineplot(x=tiefe, y=blau, color='blue')\n",
    "sns.lineplot(x=tiefe, y=gruen, color='green')\n",
    "ax = sns.lineplot(x=tiefe, y=rot, color='red')\n",
    "ax.set_xlabel('Tiefe [m]')\n",
    "ax.set_ylabel('Anteil')"
   ]
  }
 ],
 "metadata": {
  "celltoolbar": "Slideshow",
  "kernelspec": {
   "display_name": "Python 3 (ipykernel)",
   "language": "python",
   "name": "python3"
  },
  "language_info": {
   "codemirror_mode": {
    "name": "ipython",
    "version": 3
   },
   "file_extension": ".py",
   "mimetype": "text/x-python",
   "name": "python",
   "nbconvert_exporter": "python",
   "pygments_lexer": "ipython3",
   "version": "3.12.7"
  }
 },
 "nbformat": 4,
 "nbformat_minor": 5
}
