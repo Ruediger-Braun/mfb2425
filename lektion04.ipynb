{
 "cells": [
  {
   "cell_type": "markdown",
   "id": "e01baa24",
   "metadata": {
    "slideshow": {
     "slide_type": "slide"
    }
   },
   "source": [
    "# Mathematik für Biologiestudierende\n",
    "\n",
    "Wintersemester 2024/25\n",
    "\n",
    "29. Oktober 2024\n",
    "\n",
    "&copy; 2024 Prof. Dr. Rüdiger W. Braun "
   ]
  },
  {
   "cell_type": "markdown",
   "id": "6a362210",
   "metadata": {
    "slideshow": {
     "slide_type": "slide"
    }
   },
   "source": [
    "# Python\n",
    "\n",
    "* `python`, `seaborn`, `jupyter`:  Was ist das?"
   ]
  },
  {
   "cell_type": "markdown",
   "id": "62755a2d",
   "metadata": {
    "slideshow": {
     "slide_type": "fragment"
    }
   },
   "source": [
    "* `python` ist eine Programmiersprache\n",
    "* Wir wollen aber gar nicht programmieren\n",
    "* Wir wollen fertige Bibliotheken anwenden"
   ]
  },
  {
   "cell_type": "markdown",
   "id": "19f4cf70",
   "metadata": {
    "slideshow": {
     "slide_type": "fragment"
    }
   },
   "source": [
    "* Für Naturwissenschaftlerinnen und Naturwissenschaftler sind das `pandas`, `numpy`, `seaborn` und noch einige andere\n",
    "* Das sind für alle Teilnehmenden dieses Kurses dieselben Bibliotheken"
   ]
  },
  {
   "cell_type": "markdown",
   "id": "319b5623",
   "metadata": {
    "slideshow": {
     "slide_type": "slide"
    }
   },
   "source": [
    "* In der Frage der Oberfläche gibt es verschiedene Möglichkeiten, je nach persönlichem Geschmack\n",
    "* Hier benutze ich `jupyter notebook` auf meinem Rechner \n",
    "* Eine andere Möglichkeit ist https://colab.research.google.com\n",
    "* Dort läuft ebenfalls `jupyter`"
   ]
  },
  {
   "cell_type": "markdown",
   "id": "b3fd9af5",
   "metadata": {
    "slideshow": {
     "slide_type": "slide"
    }
   },
   "source": [
    "## Installation auf eigenem Rechner\n",
    "\n",
    "* weil wir mehr als nur `python` brauchen, gibt es auf https://www.math.uni-duesseldorf.de/~internet/bio2425/software.html eine Installationsanweisung\n"
   ]
  },
  {
   "cell_type": "markdown",
   "id": "bfdd90c7",
   "metadata": {
    "slideshow": {
     "slide_type": "slide"
    }
   },
   "source": [
    "# Warum nicht Excel?"
   ]
  },
  {
   "cell_type": "markdown",
   "id": "29a28483",
   "metadata": {
    "slideshow": {
     "slide_type": "fragment"
    }
   },
   "source": [
    "* Hilft uns nur auf der ersten Hälfte unseres Weges"
   ]
  },
  {
   "cell_type": "markdown",
   "id": "e52b3c11",
   "metadata": {
    "slideshow": {
     "slide_type": "fragment"
    }
   },
   "source": [
    "* Ist schon bei mittelkomplizierten Fragestellungen nicht wirklich einfacher"
   ]
  },
  {
   "cell_type": "markdown",
   "id": "d7166bfe",
   "metadata": {
    "slideshow": {
     "slide_type": "fragment"
    }
   },
   "source": [
    "* Spreadsheets sind sehr, sehr schwer zu verifizieren"
   ]
  },
  {
   "cell_type": "markdown",
   "id": "d811e3b5",
   "metadata": {
    "slideshow": {
     "slide_type": "fragment"
    }
   },
   "source": [
    "* Daten und Programmlogik sind nicht getrennt:  Fehlerquelle"
   ]
  },
  {
   "cell_type": "markdown",
   "id": "199d0647",
   "metadata": {
    "slideshow": {
     "slide_type": "slide"
    }
   },
   "source": [
    "Wofür Excel gut ist:\n",
    "\n",
    "* Einmalrechnungen, die nicht reproduziert weden müssen\n",
    "* gutes Eingabeformat"
   ]
  },
  {
   "cell_type": "code",
   "execution_count": null,
   "id": "4f9bd75e",
   "metadata": {
    "slideshow": {
     "slide_type": "slide"
    }
   },
   "outputs": [],
   "source": [
    "import pandas as pd"
   ]
  },
  {
   "cell_type": "markdown",
   "id": "f042a719",
   "metadata": {},
   "source": [
    "Die Bibiothek zur Bearbeitung von Tabellen heißt `pandas`"
   ]
  },
  {
   "cell_type": "markdown",
   "id": "526dcfd5",
   "metadata": {
    "slideshow": {
     "slide_type": "fragment"
    }
   },
   "source": [
    "## Einlesen von Daten\n",
    "\n",
    "`sns.load_dataset()`  für die Beispieldatensätze, die bei seaborn mitgeliefert werde\n",
    "\n",
    "für echte Datensätze\n",
    "\n",
    "* `pd.read_csv()`  Daten im csv-Format\n",
    "* `pd.read_excel()`  Daten in einem der Excel-Formate"
   ]
  },
  {
   "cell_type": "markdown",
   "id": "5f4dc02b",
   "metadata": {},
   "source": [
    "Einlesen von der Festplatte"
   ]
  },
  {
   "cell_type": "code",
   "execution_count": null,
   "id": "013309bc",
   "metadata": {},
   "outputs": [],
   "source": [
    "iris = pd.read_csv(\"iris/iris_extended.csv\")"
   ]
  },
  {
   "cell_type": "markdown",
   "id": "7354dc9b",
   "metadata": {},
   "source": [
    "https://www.kaggle.com/datasets/samybaladram/iris-dataset-extended/\n",
    "\n",
    "&copy; Samy Baladram, CC-BY-4.0"
   ]
  },
  {
   "cell_type": "code",
   "execution_count": null,
   "id": "e1293ec5",
   "metadata": {
    "slideshow": {
     "slide_type": "slide"
    }
   },
   "outputs": [],
   "source": [
    "iris"
   ]
  },
  {
   "cell_type": "markdown",
   "id": "03369035",
   "metadata": {
    "slideshow": {
     "slide_type": "slide"
    }
   },
   "source": [
    "Einlesen aus dem Internet "
   ]
  },
  {
   "cell_type": "code",
   "execution_count": null,
   "id": "9c9e81e0",
   "metadata": {},
   "outputs": [],
   "source": [
    "fish = pd.read_csv(\"https://stats.idre.ucla.edu/stat/data/fish.csv\")\n",
    "fish"
   ]
  },
  {
   "cell_type": "markdown",
   "id": "1b7fe54b",
   "metadata": {
    "slideshow": {
     "slide_type": "slide"
    }
   },
   "source": [
    "Ein `DataFrame` ist eine Tabelle, wie etwa in Excel auch.  \n",
    "\n",
    "Auf Spalten greift man mit Indizierung zu:"
   ]
  },
  {
   "cell_type": "code",
   "execution_count": null,
   "id": "d6e728d7",
   "metadata": {},
   "outputs": [],
   "source": [
    "iris['soil_type']"
   ]
  },
  {
   "cell_type": "markdown",
   "id": "eb18fef7",
   "metadata": {
    "slideshow": {
     "slide_type": "slide"
    }
   },
   "source": [
    "Alternativ auch mit dem Punkt, wenn die Spaltenüberschrift nur aus Buchstaben, Zahlen und Unterstrich besteht"
   ]
  },
  {
   "cell_type": "code",
   "execution_count": null,
   "id": "d55871c4",
   "metadata": {},
   "outputs": [],
   "source": [
    "bluetenblattlaenge = iris.petal_length"
   ]
  },
  {
   "cell_type": "code",
   "execution_count": null,
   "id": "266aa3a2",
   "metadata": {},
   "outputs": [],
   "source": [
    "bluetenblattlaenge"
   ]
  },
  {
   "cell_type": "markdown",
   "id": "fbdba5c7",
   "metadata": {},
   "source": [
    "Spalten sind vom Typ `pd.Series`"
   ]
  },
  {
   "cell_type": "markdown",
   "id": "73308d0c",
   "metadata": {
    "slideshow": {
     "slide_type": "slide"
    }
   },
   "source": [
    "Auf Zeilen greift man über den Index zu.  In der Regel zählt der Index die Zeilen einfach durch."
   ]
  },
  {
   "cell_type": "code",
   "execution_count": null,
   "id": "2b4cc41f",
   "metadata": {},
   "outputs": [],
   "source": [
    "iris.loc[1100]"
   ]
  },
  {
   "cell_type": "markdown",
   "id": "90a4f3a8",
   "metadata": {
    "slideshow": {
     "slide_type": "slide"
    }
   },
   "source": [
    "# Deskriptive Statistik\n"
   ]
  },
  {
   "cell_type": "markdown",
   "id": "fbf44b8a",
   "metadata": {
    "slideshow": {
     "slide_type": "-"
    }
   },
   "source": [
    "# Lageparameter"
   ]
  },
  {
   "cell_type": "markdown",
   "id": "6708d88d",
   "metadata": {
    "slideshow": {
     "slide_type": "slide"
    }
   },
   "source": [
    "### Arithmetisches Mittel\n",
    "\n",
    "Das arithmetische Mittel (engl. \"mean\") ist der Durchschnitt der Messwerte"
   ]
  },
  {
   "cell_type": "markdown",
   "id": "1b00298c",
   "metadata": {},
   "source": [
    "Formel:  Beim Stichprobenumfang $n$ seien $ x_1, x_2, x_3, \\dots,  x_n $ die Messwerte, dann ist das arithmetische Mittel gleich\n",
    "\n",
    "$$\n",
    "    \\overline x = \\frac1n \\left( x_1 + x_2 + x_3 + \\dots + x_n \\right)\n",
    "$$\n",
    "\n",
    "  Man schreibt auch\n",
    "  \\begin{equation*}\n",
    "    \\overline x = \\frac1n \\sum_{j=1}^n x_j\n",
    "  \\end{equation*}\n"
   ]
  },
  {
   "cell_type": "markdown",
   "id": "ad30c09f",
   "metadata": {
    "slideshow": {
     "slide_type": "slide"
    }
   },
   "source": [
    "$\\displaystyle \\sum$   ist das Summenzeichen. \n",
    "\n",
    "* Unter dem Zeichen stehen zwei Informationen:  Der Name der Zählvariablen (hier $j$) und der Startwert der Zählung (hier $1$).  \n",
    "* Über dem Zeichen steht der Endpunkt der Zählung (hier der Stichprobenumfang $n$)\n",
    "* Rechts neben dem Zeichen steht, was aufzuzählen ist (hier $x_j$)"
   ]
  },
  {
   "cell_type": "markdown",
   "id": "8c639d6e",
   "metadata": {
    "slideshow": {
     "slide_type": "slide"
    }
   },
   "source": [
    "### Beispiel\n",
    "\n",
    "Bei fünf Mäusen sind die Gewichte 21.3g, 19.8g, 20.4g, 19.0g und 22.7g gemessen worden.  Was ist der Mittelwert?"
   ]
  },
  {
   "cell_type": "markdown",
   "id": "d0926f5f",
   "metadata": {
    "slideshow": {
     "slide_type": "fragment"
    }
   },
   "source": [
    "* Die Summe beträgt 103.2g.\n",
    "* 103.2/5 = 20.64\n",
    "* Das arithmetische Mittel der Mausgewichte beträgt 20.64g\n",
    "\n",
    "Das ist mit dem Taschenrechner kein Problem"
   ]
  },
  {
   "cell_type": "markdown",
   "id": "8803cf90",
   "metadata": {
    "slideshow": {
     "slide_type": "slide"
    }
   },
   "source": [
    "Trotzdem mal mit `pandas`"
   ]
  },
  {
   "cell_type": "code",
   "execution_count": null,
   "id": "4b85bcec",
   "metadata": {},
   "outputs": [],
   "source": [
    "maeuse = pd.DataFrame()  #  leerer DataFrame"
   ]
  },
  {
   "cell_type": "code",
   "execution_count": null,
   "id": "afdfc59f",
   "metadata": {},
   "outputs": [],
   "source": [
    "maeuse['Gewicht'] = [21.3, 19.8, 20.4, 19.0, 22.7]"
   ]
  },
  {
   "cell_type": "code",
   "execution_count": null,
   "id": "d86d580a",
   "metadata": {},
   "outputs": [],
   "source": [
    "maeuse"
   ]
  },
  {
   "cell_type": "code",
   "execution_count": null,
   "id": "d01cf82d",
   "metadata": {
    "slideshow": {
     "slide_type": "fragment"
    }
   },
   "outputs": [],
   "source": [
    "maeuse.mean()"
   ]
  },
  {
   "cell_type": "code",
   "execution_count": null,
   "id": "f6767f60",
   "metadata": {
    "slideshow": {
     "slide_type": "slide"
    }
   },
   "outputs": [],
   "source": [
    "bluetenblattlaenge.mean()"
   ]
  },
  {
   "cell_type": "markdown",
   "id": "f6f6f384",
   "metadata": {
    "slideshow": {
     "slide_type": "fragment"
    }
   },
   "source": [
    "* Je nach verwendeten Versionen der Software sieht man hier entweder `np.float64(3.80795)` oder nur die Zahl\n",
    "* Auf meinem Rechner sehe ich die komplizierte Version, was ich aber wie folgt abschalten kann"
   ]
  },
  {
   "cell_type": "code",
   "execution_count": null,
   "id": "cafee7d4",
   "metadata": {},
   "outputs": [],
   "source": [
    "import numpy as np\n",
    "np.set_printoptions(legacy='1.21')"
   ]
  },
  {
   "cell_type": "code",
   "execution_count": null,
   "id": "c7d08ed8",
   "metadata": {},
   "outputs": [],
   "source": [
    "bluetenblattlaenge.mean()"
   ]
  },
  {
   "cell_type": "markdown",
   "id": "341f6711",
   "metadata": {
    "slideshow": {
     "slide_type": "fragment"
    }
   },
   "source": [
    "* In Lektion 1 hatte ich auf 1.25 umgeschaltet; das mag Colab aber nicht"
   ]
  },
  {
   "cell_type": "markdown",
   "id": "581e5746",
   "metadata": {
    "slideshow": {
     "slide_type": "slide"
    }
   },
   "source": [
    "## Median\n",
    "\n",
    "Der Median ist ein Wert mit der Eigenschaft, dass in der Menge der nach Größe geordneten Messwerte gleich viele Daten unterhalb und oberhalb des Medians liegen."
   ]
  },
  {
   "cell_type": "markdown",
   "id": "4efb23dd",
   "metadata": {
    "slideshow": {
     "slide_type": "fragment"
    }
   },
   "source": [
    "Beispiel:  7 Messwerte\n",
    "\n",
    "10 | 5 | 4 | 9 | 10 | 1 | 5"
   ]
  },
  {
   "cell_type": "markdown",
   "id": "b38e6211",
   "metadata": {
    "slideshow": {
     "slide_type": "fragment"
    }
   },
   "source": [
    "Nach Größe anordnen\n",
    "\n",
    "1 | 4 | 5 | 5 | 9 | 10 | 10\n",
    "\n",
    "Der Median ist $x_{\\text{med}} = 5$"
   ]
  },
  {
   "cell_type": "markdown",
   "id": "c9b4cfdb",
   "metadata": {
    "slideshow": {
     "slide_type": "slide"
    }
   },
   "source": [
    "## Median für geraden Stichprobenumfang\n",
    "  \n",
    "Falls die Anzahl der Daten gerade ist, stehen in der Menge der nach Größe geordneten Messwerte zwei Zahlen in der Mitte.  "
   ]
  },
  {
   "cell_type": "markdown",
   "id": "166cce81",
   "metadata": {
    "slideshow": {
     "slide_type": "fragment"
    }
   },
   "source": [
    "Der Median $x_{\\text{med}}$ ist dann deren arithmetisches Mittel.\n",
    "\n",
    "10 | 5 | 4 | 9 | 10 | 1 | 5 | 8"
   ]
  },
  {
   "cell_type": "markdown",
   "id": "3d0e03eb",
   "metadata": {
    "slideshow": {
     "slide_type": "fragment"
    }
   },
   "source": [
    "Nach Größe anordnen\n",
    "\n",
    "1 | 4 | 5 | 5 | 8 | 9 | 10 | 10\n",
    "\n",
    "Der Median ist $x_{\\text{med}} = 6.5$ "
   ]
  },
  {
   "cell_type": "code",
   "execution_count": null,
   "id": "e83ce9a8",
   "metadata": {
    "slideshow": {
     "slide_type": "slide"
    }
   },
   "outputs": [],
   "source": [
    "maeuse.median()"
   ]
  },
  {
   "cell_type": "markdown",
   "id": "7fa5f2d3",
   "metadata": {},
   "source": [
    "Bei normalverteilten Daten liegen arithmetisches Mittel und Median nahe beieinander"
   ]
  },
  {
   "cell_type": "markdown",
   "id": "94cc76fb",
   "metadata": {
    "slideshow": {
     "slide_type": "slide"
    }
   },
   "source": [
    "### Einkommensverteilung\n",
    "\n",
    "* Beim Einkommen ziehen die sehr gut verdienenden das arithmetische Mittel nach oben,\n",
    "* beeinflussen den Median aber kaum"
   ]
  },
  {
   "cell_type": "markdown",
   "id": "8518e4d3",
   "metadata": {},
   "source": [
    "Daten von finanz.de für 2024\n",
    "\n",
    "* Durchschnittsgehalt: 50.250€\n",
    "* Median des Gehalts:  43.750€"
   ]
  },
  {
   "cell_type": "markdown",
   "id": "2ca736db",
   "metadata": {
    "slideshow": {
     "slide_type": "slide"
    }
   },
   "source": [
    "## Robustheit\n",
    "\n",
    "* Ein *Ausreißer* ist ein Messwert, der weit von fast allen anderen Messwerten entfernt ist.  Ausreißer können z.B. von\n",
    "    Messfehlern herrühren.\n",
    "* Eine statistische Größe ist *robust*, wenn sie unempfindlich gegen Ausreißer ist.\n",
    "* Das arithmetische Mittel ist nicht robust.  Ausreißer gehen genauso ein wie alle anderen.\n",
    "* Der Median ist robust"
   ]
  },
  {
   "cell_type": "markdown",
   "id": "c6e9bfc0",
   "metadata": {
    "slideshow": {
     "slide_type": "slide"
    }
   },
   "source": [
    "### Beispiel zur Robustheit"
   ]
  },
  {
   "cell_type": "code",
   "execution_count": null,
   "id": "6647ae66",
   "metadata": {},
   "outputs": [],
   "source": [
    "maeuse2 = pd.DataFrame()\n",
    "maeuse2['Gewicht'] = [21.3, 19.8, 20.4, 19.0, 22.7, 287]"
   ]
  },
  {
   "cell_type": "code",
   "execution_count": null,
   "id": "8ac59af2",
   "metadata": {
    "slideshow": {
     "slide_type": "slide"
    }
   },
   "outputs": [],
   "source": [
    "maeuse.mean()"
   ]
  },
  {
   "cell_type": "code",
   "execution_count": null,
   "id": "e57d891e",
   "metadata": {},
   "outputs": [],
   "source": [
    "maeuse2.mean()"
   ]
  },
  {
   "cell_type": "code",
   "execution_count": null,
   "id": "eedc042f",
   "metadata": {
    "slideshow": {
     "slide_type": "fragment"
    }
   },
   "outputs": [],
   "source": [
    "maeuse.median()"
   ]
  },
  {
   "cell_type": "code",
   "execution_count": null,
   "id": "2bbf403b",
   "metadata": {},
   "outputs": [],
   "source": [
    "maeuse2.median()"
   ]
  },
  {
   "cell_type": "markdown",
   "id": "4e13b360",
   "metadata": {
    "slideshow": {
     "slide_type": "slide"
    }
   },
   "source": [
    "# Streuungsparameter\n",
    "\n",
    "## Empirische Varianz und Stichprobenstreuung\n",
    "\n",
    "* Beim Stichprobenumfang $n$ seien $x_1, x_2, x_3, \\dots, x_n$ die Messwerte, dann ist das *empirische Varianz* gleich\n",
    "    \\begin{equation*}\n",
    "      s^2 = \\frac{(x_1-\\overline x)^2 + (x_2-\\overline x)^2 +\n",
    "        (x_3-\\overline x)^2 + \\dots + (x_n-\\overline x)^2}{n-1}\n",
    "    \\end{equation*}\n",
    "    Dabei ist $\\overline x$ das arithmetische Mittel\n",
    "* Die empirische Varianz wird mit $s^2$ bezeichnet.  "
   ]
  },
  {
   "cell_type": "markdown",
   "id": "0d252dae",
   "metadata": {
    "slideshow": {
     "slide_type": "fragment"
    }
   },
   "source": [
    "* Die Zahl $s$ heißt *empirische Standardabweichung* oder\n",
    "    *Stichprobenstreuung*\n",
    "* Die Stichprobenstreuung ist also die Quadratwurzel der empirischen Varianz"
   ]
  },
  {
   "cell_type": "markdown",
   "id": "6c1534f4",
   "metadata": {
    "slideshow": {
     "slide_type": "slide"
    }
   },
   "source": [
    "## Konkrete Rechnung\n",
    "\n",
    "Bei fünf Proben wurden die folgenden Massen in [g] gewogen: \n",
    "\n",
    "| Nummer | 1      | 2      | 3     | 4      | 5   |\n",
    "|--------|--------|--------|-------|--------|-----|\n",
    "| Masse  | 1.1    | 1.3    | 1.6   | 1.3    | 2.0 |\n",
    "\n",
    "$$\\displaystyle \\sum_{j=1}^5 x_j = 7.3g$$\n",
    "$$\\overline x = \\frac{7.3g}5 = 1.46g$$\n",
    "$$\\sum_{j=1}^5 (x_j-\\overline x)^2 = 0.4920g^2$$\n",
    "$$s^2 = \\frac{0.4920g^2}4 = 0.1230g^2 \\quad\\text{und}\\quad\n",
    "s = \\sqrt{0.1230g^2} = 0.3507g$$"
   ]
  },
  {
   "cell_type": "code",
   "execution_count": null,
   "id": "f0384195",
   "metadata": {
    "slideshow": {
     "slide_type": "slide"
    }
   },
   "outputs": [],
   "source": [
    "maeuse.var()  # empirische Varianz"
   ]
  },
  {
   "cell_type": "code",
   "execution_count": null,
   "id": "d1db3283",
   "metadata": {},
   "outputs": [],
   "source": [
    "maeuse.std()  # Stichprobenstreuung"
   ]
  },
  {
   "cell_type": "markdown",
   "id": "b35bf189",
   "metadata": {
    "slideshow": {
     "slide_type": "slide"
    }
   },
   "source": [
    "## Stichprobenstreuung vs. Varianz\n",
    "\n",
    "* Der Vorteil der Stichprobenstreuung gegenüber der Varianz ist, dass die Stichprobenstreuung richtig skaliert\n",
    "* Das bedeutet folgendes: Wenn ich alle Daten mit 1000 multipliziere, dann\n",
    "  * multipliziert sich das arithmetische Mittel mit 1000\n",
    "  * multipliziert sich die Varianz mit 1000000\n",
    "  * multipliziert sich die Stichprobenstreuung mit 1000\n",
    "* Das bedeutet auch, dass die Stichprobenstreuung in derselben Einheit angegegeben wird wie die Daten"
   ]
  },
  {
   "cell_type": "markdown",
   "id": "776f3f37",
   "metadata": {
    "slideshow": {
     "slide_type": "slide"
    }
   },
   "source": [
    "## Formeln für die Varianz\n",
    "\n",
    "* Die Definition ohne Pünktchen\n",
    "    \\begin{equation*}\n",
    "      s^2 = \\frac1{n-1} \\sum_{j=1}^n \\left(x_j - \\overline x \\right)^2\n",
    "    \\end{equation*}\n",
    "* Eine etwas einfachere Formel, deren Richtigkeit leicht nachgerechnet werden kann\n",
    "    \\begin{equation*}\n",
    "      s^2 = \\frac1{n-1} \\biggr( \\Bigr( \\sum_{j=1}^n x_j^2 \\Bigr) - n\n",
    "      {\\overline x}^2 \\biggr)\n",
    "    \\end{equation*}"
   ]
  },
  {
   "cell_type": "markdown",
   "id": "1a184da0",
   "metadata": {
    "slideshow": {
     "slide_type": "slide"
    }
   },
   "source": [
    "## Warum $n - 1$ im Nenner?\n",
    "\n",
    "* $n-1$ ist die Zahl Freiheitsgrade\n",
    "* Das ist ein heuristisches Konzept:\n",
    "  * erstmal hat man pro Stichprobe einen Freiheitsgrad\n",
    "  * für jeden Wert, den man hilfsweise schätzen muss, wird ein Freiheitsgrad abgezogen\n",
    "* zur Berechnung der Varianz muss das arithmetische Mittel bestimmt werden:  also ein Freiheitgrad Abzug"
   ]
  },
  {
   "cell_type": "markdown",
   "id": "a492b15a",
   "metadata": {
    "slideshow": {
     "slide_type": "fragment"
    }
   },
   "source": [
    "* Das bedeutet, dass man, wenn man für viele Datensätze die Varianz mit dieser Methode feststellt, im Mittel näher an der wahren Varianz ist, als wenn man den Nenner $n$ benutzt\n",
    "* Alle großen Software-Pakete machen das so "
   ]
  },
  {
   "cell_type": "markdown",
   "id": "15be05dc",
   "metadata": {
    "slideshow": {
     "slide_type": "slide"
    }
   },
   "source": [
    "Software-Pakete:\n",
    "\n",
    "* `python` mit `pandas` und `scipy.stats`\n",
    "* `R`\n",
    "* `SPSS`"
   ]
  },
  {
   "cell_type": "markdown",
   "id": "ffac603f",
   "metadata": {
    "slideshow": {
     "slide_type": "slide"
    }
   },
   "source": [
    "Überprüfung"
   ]
  },
  {
   "cell_type": "code",
   "execution_count": null,
   "id": "9c308cd5",
   "metadata": {},
   "outputs": [],
   "source": [
    "maeuse.var()"
   ]
  },
  {
   "cell_type": "markdown",
   "id": "9721d5a3",
   "metadata": {},
   "source": [
    "Wenn gewünscht, kann man von Nenner $n-1$ zu Nenner $n$ umschalten"
   ]
  },
  {
   "cell_type": "code",
   "execution_count": null,
   "id": "55d27d35",
   "metadata": {},
   "outputs": [],
   "source": [
    "maeuse.var(ddof=0)"
   ]
  },
  {
   "cell_type": "markdown",
   "id": "aeeb51c2",
   "metadata": {},
   "source": [
    "`ddof` = delta degrees of freedom; das ist die Zahl, die man vom Stichprobenumfang abzieht, um die Zahl der Freiheitsgrade zu bekommen"
   ]
  },
  {
   "cell_type": "markdown",
   "id": "d5ee9db8",
   "metadata": {},
   "source": [
    "Achten Sie auf Ihren Taschenrechner!"
   ]
  },
  {
   "cell_type": "markdown",
   "id": "b172d88b",
   "metadata": {
    "slideshow": {
     "slide_type": "slide"
    }
   },
   "source": [
    "## Zusammenfassungen"
   ]
  },
  {
   "cell_type": "code",
   "execution_count": null,
   "id": "2c429130",
   "metadata": {
    "slideshow": {
     "slide_type": "-"
    }
   },
   "outputs": [],
   "source": [
    "maeuse.describe()"
   ]
  },
  {
   "cell_type": "markdown",
   "id": "7f450122",
   "metadata": {
    "slideshow": {
     "slide_type": "fragment"
    }
   },
   "source": [
    "* `count`: Anzahl\n",
    "* `mean`: arithmetisches Mittel\n",
    "* `std`: Stichprobenstreuung\n",
    "* `min`: kleinster Wert\n",
    "* `50%`: Median\n",
    "* `25%`, `75%`: Quartile\n",
    "* `max`: größter Wert"
   ]
  },
  {
   "cell_type": "markdown",
   "id": "781746c1",
   "metadata": {
    "slideshow": {
     "slide_type": "slide"
    }
   },
   "source": [
    "Funktioniert auch für DataFrames"
   ]
  },
  {
   "cell_type": "code",
   "execution_count": null,
   "id": "0bb120d7",
   "metadata": {},
   "outputs": [],
   "source": [
    "fish.describe()"
   ]
  },
  {
   "cell_type": "markdown",
   "id": "081d7e38",
   "metadata": {
    "slideshow": {
     "slide_type": "slide"
    }
   },
   "source": [
    "# Quartile\n",
    "\n",
    "* Das Quartile $Q_1$ ist als derjenige Wert definiert, unter dem 25% und über dem 75% der Messwerte liegen\n",
    "* Das Quartile $Q_3$ ist als derjenige Wert definiert, über dem 25% und unter dem 75% der Messwerte liegen\n",
    "* Das Quartil $Q_2$ ist der Median\n",
    "* Bei den Mäusen: $Q_1 = 19.8$ und $Q_3 = 21.3$"
   ]
  },
  {
   "cell_type": "markdown",
   "id": "0e315426",
   "metadata": {
    "slideshow": {
     "slide_type": "slide"
    }
   },
   "source": [
    "#### Beispielgrafik\n",
    "\n",
    "die vier Viertel sind unterschiedlich gefärbt\n",
    "\n",
    "![Image](./bilder/quartile.png)"
   ]
  },
  {
   "cell_type": "markdown",
   "id": "dc2795cb",
   "metadata": {
    "slideshow": {
     "slide_type": "slide"
    }
   },
   "source": [
    "## Zusammenhang zwischen Quartilen und Quantilen\n",
    "\n",
    "* Allgemeiner ist für $q$ zwischen $0$ und $1$ das $q$-*Quantil* derjenige Wert, so dass der Anteil der Messwerte unterhalb dieses Wertes gleich $q$ und der Anteil oberhalb gleich $1-q$ ist\n",
    "* Wenn $q$ in Prozent ausgedrückt wird, dann spricht man auch von *Perzentilen*"
   ]
  },
  {
   "cell_type": "markdown",
   "id": "c56b25de",
   "metadata": {},
   "source": [
    "\n",
    "|Quartil     |Quantil      |\n",
    "|------------|-------------|\n",
    "|1. Quartil  | 25%-Quantil |\n",
    "|Median      | 50%-Quantil |\n",
    "|3. Quartil  | 75%-Quantil | "
   ]
  },
  {
   "cell_type": "markdown",
   "id": "1adc6251",
   "metadata": {
    "slideshow": {
     "slide_type": "fragment"
    }
   },
   "source": [
    "Beispiel\n",
    "\n",
    "* Leute, die zu den reichsten 1% der Bevölkerung gehören, haben ein Einkommen oberhalb des 99%-Quantils"
   ]
  },
  {
   "cell_type": "markdown",
   "id": "9be14247",
   "metadata": {
    "slideshow": {
     "slide_type": "slide"
    }
   },
   "source": [
    "# Interquartilabstand\n",
    "\n",
    "* Der Interquartilabstand ist definiert als\n",
    "    \\begin{equation*}\n",
    "      \\text{IQR} = Q_3 - Q_1\n",
    "    \\end{equation*}\n",
    "* Der Interquartilabstand ist ein robustes Maß für die Streuung"
   ]
  },
  {
   "cell_type": "markdown",
   "id": "164444c5",
   "metadata": {
    "slideshow": {
     "slide_type": "slide"
    }
   },
   "source": [
    "Berechnung des Interquartilabstands"
   ]
  },
  {
   "cell_type": "code",
   "execution_count": null,
   "id": "6fd7c938",
   "metadata": {},
   "outputs": [],
   "source": [
    "bbl = bluetenblattlaenge.describe()\n",
    "bbl"
   ]
  },
  {
   "cell_type": "code",
   "execution_count": null,
   "id": "0e8ee488",
   "metadata": {},
   "outputs": [],
   "source": [
    "bbl[\"75%\"] - bbl[\"25%\"]  # Interquartilabstand"
   ]
  },
  {
   "cell_type": "code",
   "execution_count": null,
   "id": "a9a5b8cb",
   "metadata": {
    "slideshow": {
     "slide_type": "fragment"
    }
   },
   "outputs": [],
   "source": [
    "(bbl[\"75%\"] - bbl[\"25%\"]).round(6)"
   ]
  },
  {
   "cell_type": "markdown",
   "id": "893b1cc2",
   "metadata": {
    "slideshow": {
     "slide_type": "slide"
    }
   },
   "source": [
    "# Box-Whisker-Plots"
   ]
  },
  {
   "cell_type": "code",
   "execution_count": null,
   "id": "e0fb8db3",
   "metadata": {
    "slideshow": {
     "slide_type": "-"
    }
   },
   "outputs": [],
   "source": [
    "import seaborn as sns"
   ]
  },
  {
   "cell_type": "code",
   "execution_count": null,
   "id": "7f2a65b8",
   "metadata": {},
   "outputs": [],
   "source": [
    "sns.boxplot(iris, x=\"species\", y=\"sepal_length\");"
   ]
  },
  {
   "cell_type": "markdown",
   "id": "34b879db",
   "metadata": {
    "slideshow": {
     "slide_type": "slide"
    }
   },
   "source": [
    "Ein Boxplot, auch Box-Whisker-Plot genannt, zeigt von unten nach oben\n",
    "\n",
    "* untere Einzelpunkte\n",
    "* unterster Datenpunkt, der kein Einzelpunkt ist\n",
    "* $Q_1$\n",
    "* Median\n",
    "* $Q_3$\n",
    "* oberster Datenpunkt, der kein Einzelpunkt ist\n",
    "* obere Datenpunkte\n",
    "\n",
    "Einzelpunkte sind solche, die weiter als 1.5 Interquartilabstände von $Q_1$ bzw. $Q_3$ weg sind"
   ]
  },
  {
   "cell_type": "markdown",
   "id": "7dc47bfa",
   "metadata": {
    "slideshow": {
     "slide_type": "slide"
    }
   },
   "source": [
    "Manchmal werden die Einzelpunkte als \"Ausreißer\" bezeichnet.   Das kann man aber nicht so einfach gleichsetzen."
   ]
  },
  {
   "cell_type": "code",
   "execution_count": null,
   "id": "a328d71e",
   "metadata": {},
   "outputs": [],
   "source": [
    "sns.boxplot(maeuse2);"
   ]
  },
  {
   "cell_type": "markdown",
   "id": "fbdb6b9d",
   "metadata": {},
   "source": [
    "Das ist wirklich ein Ausreißer (engl. \"outlier\")"
   ]
  }
 ],
 "metadata": {
  "celltoolbar": "Slideshow",
  "kernelspec": {
   "display_name": "Python 3 (ipykernel)",
   "language": "python",
   "name": "python3"
  },
  "language_info": {
   "codemirror_mode": {
    "name": "ipython",
    "version": 3
   },
   "file_extension": ".py",
   "mimetype": "text/x-python",
   "name": "python",
   "nbconvert_exporter": "python",
   "pygments_lexer": "ipython3",
   "version": "3.11.10"
  }
 },
 "nbformat": 4,
 "nbformat_minor": 5
}
