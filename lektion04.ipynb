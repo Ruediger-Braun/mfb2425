{
 "cells": [
  {
   "cell_type": "markdown",
   "id": "e01baa24",
   "metadata": {
    "slideshow": {
     "slide_type": "slide"
    }
   },
   "source": [
    "# Mathematik für Biologiestudierende\n",
    "\n",
    "Wintersemester 2024/25\n",
    "\n",
    "29. Oktober 2024\n",
    "\n",
    "&copy; 2024 Prof. Dr. Rüdiger W. Braun "
   ]
  },
  {
   "cell_type": "markdown",
   "id": "6a362210",
   "metadata": {
    "slideshow": {
     "slide_type": "slide"
    }
   },
   "source": [
    "# Python\n",
    "\n",
    "* `python`, `seaborn`, `jupyter`:  Was ist das?"
   ]
  },
  {
   "cell_type": "markdown",
   "id": "62755a2d",
   "metadata": {
    "slideshow": {
     "slide_type": "fragment"
    }
   },
   "source": [
    "* `python` ist eine Programmiersprache\n",
    "* Wir wollen aber gar nicht programmieren\n",
    "* Wir wollen fertige Bibliotheken anwenden"
   ]
  },
  {
   "cell_type": "markdown",
   "id": "19f4cf70",
   "metadata": {
    "slideshow": {
     "slide_type": "fragment"
    }
   },
   "source": [
    "* Für Naturwissenschaftlerinnen und Naturwissenschaftler sind das `pandas`, `numpy`, `seaborn` und noch einige andere\n",
    "* Das sind für alle Teilnehmenden dieses Kurses dieselben Bibliotheken"
   ]
  },
  {
   "cell_type": "markdown",
   "id": "319b5623",
   "metadata": {
    "slideshow": {
     "slide_type": "slide"
    }
   },
   "source": [
    "* In der Frage der Oberfläche gibt es verschiedene Möglichkeiten, je nach persönlichem Geschmack\n",
    "* Hier benutze ich `jupyter notebook` auf meinem Rechner \n",
    "* Eine andere Möglichkeit ist https://colab.research.google.com\n",
    "* Dort läuft ebenfalls `jupyter`"
   ]
  },
  {
   "cell_type": "markdown",
   "id": "b3fd9af5",
   "metadata": {
    "slideshow": {
     "slide_type": "slide"
    }
   },
   "source": [
    "## Installation auf eigenem Rechner\n",
    "\n",
    "* weil wir mehr als nur `python` brauchen, gibt es auf https://www.math.uni-duesseldorf.de/~internet/bio2425/software.html eine Installationsanweisung\n"
   ]
  },
  {
   "cell_type": "markdown",
   "id": "bfdd90c7",
   "metadata": {
    "slideshow": {
     "slide_type": "slide"
    }
   },
   "source": [
    "# Warum nicht Excel?"
   ]
  },
  {
   "cell_type": "markdown",
   "id": "29a28483",
   "metadata": {
    "slideshow": {
     "slide_type": "fragment"
    }
   },
   "source": [
    "* Hilft uns nur auf der ersten Hälfte unseres Weges"
   ]
  },
  {
   "cell_type": "markdown",
   "id": "e52b3c11",
   "metadata": {
    "slideshow": {
     "slide_type": "fragment"
    }
   },
   "source": [
    "* Ist schon bei mittelkomplizierten Fragestellungen nicht wirklich einfacher"
   ]
  },
  {
   "cell_type": "markdown",
   "id": "d7166bfe",
   "metadata": {
    "slideshow": {
     "slide_type": "fragment"
    }
   },
   "source": [
    "* Spreadsheets sind sehr, sehr schwer zu verifizieren"
   ]
  },
  {
   "cell_type": "markdown",
   "id": "d811e3b5",
   "metadata": {
    "slideshow": {
     "slide_type": "fragment"
    }
   },
   "source": [
    "* Daten und Programmlogik sind nicht getrennt:  Fehlerquelle"
   ]
  },
  {
   "cell_type": "markdown",
   "id": "199d0647",
   "metadata": {
    "slideshow": {
     "slide_type": "slide"
    }
   },
   "source": [
    "Wofür Excel gut ist:\n",
    "\n",
    "* Einmalrechnungen, die nicht reproduziert weden müssen\n",
    "* gutes Eingabeformat"
   ]
  },
  {
   "cell_type": "code",
   "execution_count": 1,
   "id": "4f9bd75e",
   "metadata": {
    "slideshow": {
     "slide_type": "slide"
    }
   },
   "outputs": [],
   "source": [
    "import pandas as pd"
   ]
  },
  {
   "cell_type": "markdown",
   "id": "f042a719",
   "metadata": {},
   "source": [
    "Die Bibiothek zur Bearbeitung von Tabellen heißt `pandas`"
   ]
  },
  {
   "cell_type": "markdown",
   "id": "526dcfd5",
   "metadata": {
    "slideshow": {
     "slide_type": "fragment"
    }
   },
   "source": [
    "## Einlesen von Daten\n",
    "\n",
    "`sns.load_dataset()`  für die Beispieldatensätze, die bei seaborn mitgeliefert werde\n",
    "\n",
    "für echte Datensätze\n",
    "\n",
    "* `pd.read_csv()`  Daten im csv-Format\n",
    "* `pd.read_excel()`  Daten in einem der Excel-Formate"
   ]
  },
  {
   "cell_type": "markdown",
   "id": "5f4dc02b",
   "metadata": {
    "slideshow": {
     "slide_type": "slide"
    }
   },
   "source": [
    "Einlesen von der Festplatte"
   ]
  },
  {
   "cell_type": "code",
   "execution_count": 2,
   "id": "013309bc",
   "metadata": {},
   "outputs": [],
   "source": [
    "iris = pd.read_csv(\"iris/iris_extended.csv\")"
   ]
  },
  {
   "cell_type": "markdown",
   "id": "7354dc9b",
   "metadata": {},
   "source": [
    "https://www.kaggle.com/datasets/samybaladram/iris-dataset-extended/\n",
    "\n",
    "&copy; Samy Baladram, CC-BY-4.0"
   ]
  },
  {
   "cell_type": "markdown",
   "id": "93985931",
   "metadata": {},
   "source": [
    "Um die Datei von der Adresse bei kaggle herunterzuladen, ist eine Anmeldung erforderlich.  Alternativ erhalten Sie sie über den folgenden Aufruf:"
   ]
  },
  {
   "cell_type": "code",
   "execution_count": 3,
   "id": "05de029d",
   "metadata": {},
   "outputs": [],
   "source": [
    "iris = pd.read_csv(\"https://github.com/Ruediger-Braun/mfb2425/raw/refs/heads/master/iris/iris_extended.csv\")"
   ]
  },
  {
   "cell_type": "code",
   "execution_count": 4,
   "id": "e1293ec5",
   "metadata": {
    "slideshow": {
     "slide_type": "slide"
    }
   },
   "outputs": [
    {
     "data": {
      "text/html": [
       "<div>\n",
       "<style scoped>\n",
       "    .dataframe tbody tr th:only-of-type {\n",
       "        vertical-align: middle;\n",
       "    }\n",
       "\n",
       "    .dataframe tbody tr th {\n",
       "        vertical-align: top;\n",
       "    }\n",
       "\n",
       "    .dataframe thead th {\n",
       "        text-align: right;\n",
       "    }\n",
       "</style>\n",
       "<table border=\"1\" class=\"dataframe\">\n",
       "  <thead>\n",
       "    <tr style=\"text-align: right;\">\n",
       "      <th></th>\n",
       "      <th>species</th>\n",
       "      <th>elevation</th>\n",
       "      <th>soil_type</th>\n",
       "      <th>sepal_length</th>\n",
       "      <th>sepal_width</th>\n",
       "      <th>petal_length</th>\n",
       "      <th>petal_width</th>\n",
       "      <th>sepal_area</th>\n",
       "      <th>petal_area</th>\n",
       "      <th>sepal_aspect_ratio</th>\n",
       "      <th>...</th>\n",
       "      <th>sepal_to_petal_length_ratio</th>\n",
       "      <th>sepal_to_petal_width_ratio</th>\n",
       "      <th>sepal_petal_length_diff</th>\n",
       "      <th>sepal_petal_width_diff</th>\n",
       "      <th>petal_curvature_mm</th>\n",
       "      <th>petal_texture_trichomes_per_mm2</th>\n",
       "      <th>leaf_area_cm2</th>\n",
       "      <th>sepal_area_sqrt</th>\n",
       "      <th>petal_area_sqrt</th>\n",
       "      <th>area_ratios</th>\n",
       "    </tr>\n",
       "  </thead>\n",
       "  <tbody>\n",
       "    <tr>\n",
       "      <th>0</th>\n",
       "      <td>setosa</td>\n",
       "      <td>161.8</td>\n",
       "      <td>sandy</td>\n",
       "      <td>5.16</td>\n",
       "      <td>3.41</td>\n",
       "      <td>1.64</td>\n",
       "      <td>0.26</td>\n",
       "      <td>17.5956</td>\n",
       "      <td>0.4264</td>\n",
       "      <td>1.513196</td>\n",
       "      <td>...</td>\n",
       "      <td>3.146341</td>\n",
       "      <td>13.115385</td>\n",
       "      <td>3.52</td>\n",
       "      <td>3.15</td>\n",
       "      <td>5.33</td>\n",
       "      <td>18.33</td>\n",
       "      <td>53.21</td>\n",
       "      <td>4.194711</td>\n",
       "      <td>0.652993</td>\n",
       "      <td>41.265478</td>\n",
       "    </tr>\n",
       "    <tr>\n",
       "      <th>1</th>\n",
       "      <td>setosa</td>\n",
       "      <td>291.4</td>\n",
       "      <td>clay</td>\n",
       "      <td>5.48</td>\n",
       "      <td>4.05</td>\n",
       "      <td>1.53</td>\n",
       "      <td>0.37</td>\n",
       "      <td>22.1940</td>\n",
       "      <td>0.5661</td>\n",
       "      <td>1.353086</td>\n",
       "      <td>...</td>\n",
       "      <td>3.581699</td>\n",
       "      <td>10.945946</td>\n",
       "      <td>3.95</td>\n",
       "      <td>3.68</td>\n",
       "      <td>5.90</td>\n",
       "      <td>20.45</td>\n",
       "      <td>52.53</td>\n",
       "      <td>4.711051</td>\n",
       "      <td>0.752396</td>\n",
       "      <td>39.205087</td>\n",
       "    </tr>\n",
       "    <tr>\n",
       "      <th>2</th>\n",
       "      <td>setosa</td>\n",
       "      <td>144.3</td>\n",
       "      <td>sandy</td>\n",
       "      <td>5.10</td>\n",
       "      <td>2.80</td>\n",
       "      <td>1.47</td>\n",
       "      <td>0.38</td>\n",
       "      <td>14.2800</td>\n",
       "      <td>0.5586</td>\n",
       "      <td>1.821429</td>\n",
       "      <td>...</td>\n",
       "      <td>3.469388</td>\n",
       "      <td>7.368421</td>\n",
       "      <td>3.63</td>\n",
       "      <td>2.42</td>\n",
       "      <td>5.66</td>\n",
       "      <td>24.62</td>\n",
       "      <td>50.25</td>\n",
       "      <td>3.778889</td>\n",
       "      <td>0.747395</td>\n",
       "      <td>25.563910</td>\n",
       "    </tr>\n",
       "    <tr>\n",
       "      <th>3</th>\n",
       "      <td>setosa</td>\n",
       "      <td>114.6</td>\n",
       "      <td>clay</td>\n",
       "      <td>4.64</td>\n",
       "      <td>3.44</td>\n",
       "      <td>1.53</td>\n",
       "      <td>0.17</td>\n",
       "      <td>15.9616</td>\n",
       "      <td>0.2601</td>\n",
       "      <td>1.348837</td>\n",
       "      <td>...</td>\n",
       "      <td>3.032680</td>\n",
       "      <td>20.235294</td>\n",
       "      <td>3.11</td>\n",
       "      <td>3.27</td>\n",
       "      <td>4.51</td>\n",
       "      <td>22.91</td>\n",
       "      <td>50.85</td>\n",
       "      <td>3.995197</td>\n",
       "      <td>0.510000</td>\n",
       "      <td>61.367166</td>\n",
       "    </tr>\n",
       "    <tr>\n",
       "      <th>4</th>\n",
       "      <td>setosa</td>\n",
       "      <td>110.9</td>\n",
       "      <td>loamy</td>\n",
       "      <td>4.85</td>\n",
       "      <td>2.87</td>\n",
       "      <td>1.23</td>\n",
       "      <td>0.26</td>\n",
       "      <td>13.9195</td>\n",
       "      <td>0.3198</td>\n",
       "      <td>1.689895</td>\n",
       "      <td>...</td>\n",
       "      <td>3.943089</td>\n",
       "      <td>11.038462</td>\n",
       "      <td>3.62</td>\n",
       "      <td>2.61</td>\n",
       "      <td>4.03</td>\n",
       "      <td>21.56</td>\n",
       "      <td>40.57</td>\n",
       "      <td>3.730885</td>\n",
       "      <td>0.565509</td>\n",
       "      <td>43.525641</td>\n",
       "    </tr>\n",
       "    <tr>\n",
       "      <th>...</th>\n",
       "      <td>...</td>\n",
       "      <td>...</td>\n",
       "      <td>...</td>\n",
       "      <td>...</td>\n",
       "      <td>...</td>\n",
       "      <td>...</td>\n",
       "      <td>...</td>\n",
       "      <td>...</td>\n",
       "      <td>...</td>\n",
       "      <td>...</td>\n",
       "      <td>...</td>\n",
       "      <td>...</td>\n",
       "      <td>...</td>\n",
       "      <td>...</td>\n",
       "      <td>...</td>\n",
       "      <td>...</td>\n",
       "      <td>...</td>\n",
       "      <td>...</td>\n",
       "      <td>...</td>\n",
       "      <td>...</td>\n",
       "      <td>...</td>\n",
       "    </tr>\n",
       "    <tr>\n",
       "      <th>1195</th>\n",
       "      <td>virginica</td>\n",
       "      <td>268.8</td>\n",
       "      <td>loamy</td>\n",
       "      <td>5.36</td>\n",
       "      <td>2.51</td>\n",
       "      <td>5.16</td>\n",
       "      <td>1.93</td>\n",
       "      <td>13.4536</td>\n",
       "      <td>9.9588</td>\n",
       "      <td>2.135458</td>\n",
       "      <td>...</td>\n",
       "      <td>1.038760</td>\n",
       "      <td>1.300518</td>\n",
       "      <td>0.20</td>\n",
       "      <td>0.58</td>\n",
       "      <td>11.61</td>\n",
       "      <td>11.52</td>\n",
       "      <td>59.46</td>\n",
       "      <td>3.667915</td>\n",
       "      <td>3.155757</td>\n",
       "      <td>1.350926</td>\n",
       "    </tr>\n",
       "    <tr>\n",
       "      <th>1196</th>\n",
       "      <td>virginica</td>\n",
       "      <td>125.4</td>\n",
       "      <td>clay</td>\n",
       "      <td>7.49</td>\n",
       "      <td>3.06</td>\n",
       "      <td>7.68</td>\n",
       "      <td>2.17</td>\n",
       "      <td>22.9194</td>\n",
       "      <td>16.6656</td>\n",
       "      <td>2.447712</td>\n",
       "      <td>...</td>\n",
       "      <td>0.975260</td>\n",
       "      <td>1.410138</td>\n",
       "      <td>-0.19</td>\n",
       "      <td>0.89</td>\n",
       "      <td>13.85</td>\n",
       "      <td>6.99</td>\n",
       "      <td>77.12</td>\n",
       "      <td>4.787421</td>\n",
       "      <td>4.082352</td>\n",
       "      <td>1.375252</td>\n",
       "    </tr>\n",
       "    <tr>\n",
       "      <th>1197</th>\n",
       "      <td>virginica</td>\n",
       "      <td>73.6</td>\n",
       "      <td>clay</td>\n",
       "      <td>6.79</td>\n",
       "      <td>3.25</td>\n",
       "      <td>4.72</td>\n",
       "      <td>2.26</td>\n",
       "      <td>22.0675</td>\n",
       "      <td>10.6672</td>\n",
       "      <td>2.089231</td>\n",
       "      <td>...</td>\n",
       "      <td>1.438559</td>\n",
       "      <td>1.438053</td>\n",
       "      <td>2.07</td>\n",
       "      <td>0.99</td>\n",
       "      <td>13.13</td>\n",
       "      <td>9.16</td>\n",
       "      <td>74.39</td>\n",
       "      <td>4.697606</td>\n",
       "      <td>3.266068</td>\n",
       "      <td>2.068725</td>\n",
       "    </tr>\n",
       "    <tr>\n",
       "      <th>1198</th>\n",
       "      <td>virginica</td>\n",
       "      <td>239.6</td>\n",
       "      <td>sandy</td>\n",
       "      <td>6.38</td>\n",
       "      <td>2.24</td>\n",
       "      <td>5.30</td>\n",
       "      <td>1.71</td>\n",
       "      <td>14.2912</td>\n",
       "      <td>9.0630</td>\n",
       "      <td>2.848214</td>\n",
       "      <td>...</td>\n",
       "      <td>1.203774</td>\n",
       "      <td>1.309942</td>\n",
       "      <td>1.08</td>\n",
       "      <td>0.53</td>\n",
       "      <td>11.01</td>\n",
       "      <td>6.46</td>\n",
       "      <td>73.90</td>\n",
       "      <td>3.780370</td>\n",
       "      <td>3.010482</td>\n",
       "      <td>1.576873</td>\n",
       "    </tr>\n",
       "    <tr>\n",
       "      <th>1199</th>\n",
       "      <td>virginica</td>\n",
       "      <td>201.5</td>\n",
       "      <td>loamy</td>\n",
       "      <td>5.16</td>\n",
       "      <td>3.20</td>\n",
       "      <td>5.64</td>\n",
       "      <td>1.43</td>\n",
       "      <td>16.5120</td>\n",
       "      <td>8.0652</td>\n",
       "      <td>1.612500</td>\n",
       "      <td>...</td>\n",
       "      <td>0.914894</td>\n",
       "      <td>2.237762</td>\n",
       "      <td>-0.48</td>\n",
       "      <td>1.77</td>\n",
       "      <td>12.09</td>\n",
       "      <td>8.59</td>\n",
       "      <td>64.31</td>\n",
       "      <td>4.063496</td>\n",
       "      <td>2.839930</td>\n",
       "      <td>2.047314</td>\n",
       "    </tr>\n",
       "  </tbody>\n",
       "</table>\n",
       "<p>1200 rows × 21 columns</p>\n",
       "</div>"
      ],
      "text/plain": [
       "        species  elevation soil_type  sepal_length  sepal_width  petal_length  \\\n",
       "0        setosa      161.8     sandy          5.16         3.41          1.64   \n",
       "1        setosa      291.4      clay          5.48         4.05          1.53   \n",
       "2        setosa      144.3     sandy          5.10         2.80          1.47   \n",
       "3        setosa      114.6      clay          4.64         3.44          1.53   \n",
       "4        setosa      110.9     loamy          4.85         2.87          1.23   \n",
       "...         ...        ...       ...           ...          ...           ...   \n",
       "1195  virginica      268.8     loamy          5.36         2.51          5.16   \n",
       "1196  virginica      125.4      clay          7.49         3.06          7.68   \n",
       "1197  virginica       73.6      clay          6.79         3.25          4.72   \n",
       "1198  virginica      239.6     sandy          6.38         2.24          5.30   \n",
       "1199  virginica      201.5     loamy          5.16         3.20          5.64   \n",
       "\n",
       "      petal_width  sepal_area  petal_area  sepal_aspect_ratio  ...  \\\n",
       "0            0.26     17.5956      0.4264            1.513196  ...   \n",
       "1            0.37     22.1940      0.5661            1.353086  ...   \n",
       "2            0.38     14.2800      0.5586            1.821429  ...   \n",
       "3            0.17     15.9616      0.2601            1.348837  ...   \n",
       "4            0.26     13.9195      0.3198            1.689895  ...   \n",
       "...           ...         ...         ...                 ...  ...   \n",
       "1195         1.93     13.4536      9.9588            2.135458  ...   \n",
       "1196         2.17     22.9194     16.6656            2.447712  ...   \n",
       "1197         2.26     22.0675     10.6672            2.089231  ...   \n",
       "1198         1.71     14.2912      9.0630            2.848214  ...   \n",
       "1199         1.43     16.5120      8.0652            1.612500  ...   \n",
       "\n",
       "      sepal_to_petal_length_ratio  sepal_to_petal_width_ratio  \\\n",
       "0                        3.146341                   13.115385   \n",
       "1                        3.581699                   10.945946   \n",
       "2                        3.469388                    7.368421   \n",
       "3                        3.032680                   20.235294   \n",
       "4                        3.943089                   11.038462   \n",
       "...                           ...                         ...   \n",
       "1195                     1.038760                    1.300518   \n",
       "1196                     0.975260                    1.410138   \n",
       "1197                     1.438559                    1.438053   \n",
       "1198                     1.203774                    1.309942   \n",
       "1199                     0.914894                    2.237762   \n",
       "\n",
       "      sepal_petal_length_diff  sepal_petal_width_diff  petal_curvature_mm  \\\n",
       "0                        3.52                    3.15                5.33   \n",
       "1                        3.95                    3.68                5.90   \n",
       "2                        3.63                    2.42                5.66   \n",
       "3                        3.11                    3.27                4.51   \n",
       "4                        3.62                    2.61                4.03   \n",
       "...                       ...                     ...                 ...   \n",
       "1195                     0.20                    0.58               11.61   \n",
       "1196                    -0.19                    0.89               13.85   \n",
       "1197                     2.07                    0.99               13.13   \n",
       "1198                     1.08                    0.53               11.01   \n",
       "1199                    -0.48                    1.77               12.09   \n",
       "\n",
       "      petal_texture_trichomes_per_mm2  leaf_area_cm2  sepal_area_sqrt  \\\n",
       "0                               18.33          53.21         4.194711   \n",
       "1                               20.45          52.53         4.711051   \n",
       "2                               24.62          50.25         3.778889   \n",
       "3                               22.91          50.85         3.995197   \n",
       "4                               21.56          40.57         3.730885   \n",
       "...                               ...            ...              ...   \n",
       "1195                            11.52          59.46         3.667915   \n",
       "1196                             6.99          77.12         4.787421   \n",
       "1197                             9.16          74.39         4.697606   \n",
       "1198                             6.46          73.90         3.780370   \n",
       "1199                             8.59          64.31         4.063496   \n",
       "\n",
       "      petal_area_sqrt  area_ratios  \n",
       "0            0.652993    41.265478  \n",
       "1            0.752396    39.205087  \n",
       "2            0.747395    25.563910  \n",
       "3            0.510000    61.367166  \n",
       "4            0.565509    43.525641  \n",
       "...               ...          ...  \n",
       "1195         3.155757     1.350926  \n",
       "1196         4.082352     1.375252  \n",
       "1197         3.266068     2.068725  \n",
       "1198         3.010482     1.576873  \n",
       "1199         2.839930     2.047314  \n",
       "\n",
       "[1200 rows x 21 columns]"
      ]
     },
     "execution_count": 4,
     "metadata": {},
     "output_type": "execute_result"
    }
   ],
   "source": [
    "iris"
   ]
  },
  {
   "cell_type": "markdown",
   "id": "03369035",
   "metadata": {
    "slideshow": {
     "slide_type": "slide"
    }
   },
   "source": [
    "Einlesen aus dem Internet "
   ]
  },
  {
   "cell_type": "code",
   "execution_count": 5,
   "id": "9c9e81e0",
   "metadata": {},
   "outputs": [
    {
     "data": {
      "text/html": [
       "<div>\n",
       "<style scoped>\n",
       "    .dataframe tbody tr th:only-of-type {\n",
       "        vertical-align: middle;\n",
       "    }\n",
       "\n",
       "    .dataframe tbody tr th {\n",
       "        vertical-align: top;\n",
       "    }\n",
       "\n",
       "    .dataframe thead th {\n",
       "        text-align: right;\n",
       "    }\n",
       "</style>\n",
       "<table border=\"1\" class=\"dataframe\">\n",
       "  <thead>\n",
       "    <tr style=\"text-align: right;\">\n",
       "      <th></th>\n",
       "      <th>nofish</th>\n",
       "      <th>livebait</th>\n",
       "      <th>camper</th>\n",
       "      <th>persons</th>\n",
       "      <th>child</th>\n",
       "      <th>xb</th>\n",
       "      <th>zg</th>\n",
       "      <th>count</th>\n",
       "    </tr>\n",
       "  </thead>\n",
       "  <tbody>\n",
       "    <tr>\n",
       "      <th>0</th>\n",
       "      <td>1</td>\n",
       "      <td>0</td>\n",
       "      <td>0</td>\n",
       "      <td>1</td>\n",
       "      <td>0</td>\n",
       "      <td>-0.896315</td>\n",
       "      <td>3.050405</td>\n",
       "      <td>0</td>\n",
       "    </tr>\n",
       "    <tr>\n",
       "      <th>1</th>\n",
       "      <td>0</td>\n",
       "      <td>1</td>\n",
       "      <td>1</td>\n",
       "      <td>1</td>\n",
       "      <td>0</td>\n",
       "      <td>-0.558345</td>\n",
       "      <td>1.746149</td>\n",
       "      <td>0</td>\n",
       "    </tr>\n",
       "    <tr>\n",
       "      <th>2</th>\n",
       "      <td>0</td>\n",
       "      <td>1</td>\n",
       "      <td>0</td>\n",
       "      <td>1</td>\n",
       "      <td>0</td>\n",
       "      <td>-0.401731</td>\n",
       "      <td>0.279939</td>\n",
       "      <td>0</td>\n",
       "    </tr>\n",
       "    <tr>\n",
       "      <th>3</th>\n",
       "      <td>0</td>\n",
       "      <td>1</td>\n",
       "      <td>1</td>\n",
       "      <td>2</td>\n",
       "      <td>1</td>\n",
       "      <td>-0.956298</td>\n",
       "      <td>-0.601526</td>\n",
       "      <td>0</td>\n",
       "    </tr>\n",
       "    <tr>\n",
       "      <th>4</th>\n",
       "      <td>0</td>\n",
       "      <td>1</td>\n",
       "      <td>0</td>\n",
       "      <td>1</td>\n",
       "      <td>0</td>\n",
       "      <td>0.436891</td>\n",
       "      <td>0.527709</td>\n",
       "      <td>1</td>\n",
       "    </tr>\n",
       "    <tr>\n",
       "      <th>...</th>\n",
       "      <td>...</td>\n",
       "      <td>...</td>\n",
       "      <td>...</td>\n",
       "      <td>...</td>\n",
       "      <td>...</td>\n",
       "      <td>...</td>\n",
       "      <td>...</td>\n",
       "      <td>...</td>\n",
       "    </tr>\n",
       "    <tr>\n",
       "      <th>245</th>\n",
       "      <td>1</td>\n",
       "      <td>1</td>\n",
       "      <td>1</td>\n",
       "      <td>2</td>\n",
       "      <td>0</td>\n",
       "      <td>-0.755236</td>\n",
       "      <td>2.324209</td>\n",
       "      <td>0</td>\n",
       "    </tr>\n",
       "    <tr>\n",
       "      <th>246</th>\n",
       "      <td>0</td>\n",
       "      <td>1</td>\n",
       "      <td>1</td>\n",
       "      <td>4</td>\n",
       "      <td>3</td>\n",
       "      <td>1.794859</td>\n",
       "      <td>-5.625944</td>\n",
       "      <td>0</td>\n",
       "    </tr>\n",
       "    <tr>\n",
       "      <th>247</th>\n",
       "      <td>0</td>\n",
       "      <td>1</td>\n",
       "      <td>1</td>\n",
       "      <td>2</td>\n",
       "      <td>1</td>\n",
       "      <td>-0.392649</td>\n",
       "      <td>0.677275</td>\n",
       "      <td>0</td>\n",
       "    </tr>\n",
       "    <tr>\n",
       "      <th>248</th>\n",
       "      <td>1</td>\n",
       "      <td>1</td>\n",
       "      <td>1</td>\n",
       "      <td>3</td>\n",
       "      <td>2</td>\n",
       "      <td>1.374641</td>\n",
       "      <td>-2.595630</td>\n",
       "      <td>0</td>\n",
       "    </tr>\n",
       "    <tr>\n",
       "      <th>249</th>\n",
       "      <td>1</td>\n",
       "      <td>1</td>\n",
       "      <td>1</td>\n",
       "      <td>2</td>\n",
       "      <td>1</td>\n",
       "      <td>0.828834</td>\n",
       "      <td>-1.457115</td>\n",
       "      <td>0</td>\n",
       "    </tr>\n",
       "  </tbody>\n",
       "</table>\n",
       "<p>250 rows × 8 columns</p>\n",
       "</div>"
      ],
      "text/plain": [
       "     nofish  livebait  camper  persons  child        xb        zg  count\n",
       "0         1         0       0        1      0 -0.896315  3.050405      0\n",
       "1         0         1       1        1      0 -0.558345  1.746149      0\n",
       "2         0         1       0        1      0 -0.401731  0.279939      0\n",
       "3         0         1       1        2      1 -0.956298 -0.601526      0\n",
       "4         0         1       0        1      0  0.436891  0.527709      1\n",
       "..      ...       ...     ...      ...    ...       ...       ...    ...\n",
       "245       1         1       1        2      0 -0.755236  2.324209      0\n",
       "246       0         1       1        4      3  1.794859 -5.625944      0\n",
       "247       0         1       1        2      1 -0.392649  0.677275      0\n",
       "248       1         1       1        3      2  1.374641 -2.595630      0\n",
       "249       1         1       1        2      1  0.828834 -1.457115      0\n",
       "\n",
       "[250 rows x 8 columns]"
      ]
     },
     "execution_count": 5,
     "metadata": {},
     "output_type": "execute_result"
    }
   ],
   "source": [
    "fish = pd.read_csv(\"https://stats.idre.ucla.edu/stat/data/fish.csv\")\n",
    "fish"
   ]
  },
  {
   "cell_type": "markdown",
   "id": "1b7fe54b",
   "metadata": {
    "slideshow": {
     "slide_type": "slide"
    }
   },
   "source": [
    "Ein `DataFrame` ist eine Tabelle, wie etwa in Excel auch.  \n",
    "\n",
    "Auf Spalten greift man mit Indizierung zu:"
   ]
  },
  {
   "cell_type": "code",
   "execution_count": 6,
   "id": "d6e728d7",
   "metadata": {},
   "outputs": [
    {
     "data": {
      "text/plain": [
       "0       sandy\n",
       "1        clay\n",
       "2       sandy\n",
       "3        clay\n",
       "4       loamy\n",
       "        ...  \n",
       "1195    loamy\n",
       "1196     clay\n",
       "1197     clay\n",
       "1198    sandy\n",
       "1199    loamy\n",
       "Name: soil_type, Length: 1200, dtype: object"
      ]
     },
     "execution_count": 6,
     "metadata": {},
     "output_type": "execute_result"
    }
   ],
   "source": [
    "iris['soil_type']"
   ]
  },
  {
   "cell_type": "markdown",
   "id": "eb18fef7",
   "metadata": {
    "slideshow": {
     "slide_type": "slide"
    }
   },
   "source": [
    "Alternativ auch mit dem Punkt, wenn die Spaltenüberschrift nur aus Buchstaben, Zahlen und Unterstrich besteht"
   ]
  },
  {
   "cell_type": "code",
   "execution_count": 7,
   "id": "d55871c4",
   "metadata": {},
   "outputs": [],
   "source": [
    "bluetenblattlaenge = iris.petal_length"
   ]
  },
  {
   "cell_type": "code",
   "execution_count": 8,
   "id": "266aa3a2",
   "metadata": {},
   "outputs": [
    {
     "data": {
      "text/plain": [
       "0       1.64\n",
       "1       1.53\n",
       "2       1.47\n",
       "3       1.53\n",
       "4       1.23\n",
       "        ... \n",
       "1195    5.16\n",
       "1196    7.68\n",
       "1197    4.72\n",
       "1198    5.30\n",
       "1199    5.64\n",
       "Name: petal_length, Length: 1200, dtype: float64"
      ]
     },
     "execution_count": 8,
     "metadata": {},
     "output_type": "execute_result"
    }
   ],
   "source": [
    "bluetenblattlaenge"
   ]
  },
  {
   "cell_type": "markdown",
   "id": "fbdba5c7",
   "metadata": {},
   "source": [
    "Spalten sind vom Typ `pd.Series`"
   ]
  },
  {
   "cell_type": "markdown",
   "id": "73308d0c",
   "metadata": {
    "slideshow": {
     "slide_type": "slide"
    }
   },
   "source": [
    "Auf Zeilen greift man über den Index zu.  In der Regel zählt der Index die Zeilen einfach durch."
   ]
  },
  {
   "cell_type": "code",
   "execution_count": 9,
   "id": "2b4cc41f",
   "metadata": {},
   "outputs": [
    {
     "data": {
      "text/plain": [
       "species                            virginica\n",
       "elevation                              108.4\n",
       "soil_type                              loamy\n",
       "sepal_length                            6.34\n",
       "sepal_width                             3.09\n",
       "petal_length                             5.7\n",
       "petal_width                             2.17\n",
       "sepal_area                           19.5906\n",
       "petal_area                            12.369\n",
       "sepal_aspect_ratio                   2.05178\n",
       "petal_aspect_ratio                  2.626728\n",
       "sepal_to_petal_length_ratio         1.112281\n",
       "sepal_to_petal_width_ratio          1.423963\n",
       "sepal_petal_length_diff                 0.64\n",
       "sepal_petal_width_diff                  0.92\n",
       "petal_curvature_mm                      9.46\n",
       "petal_texture_trichomes_per_mm2         11.5\n",
       "leaf_area_cm2                          73.17\n",
       "sepal_area_sqrt                     4.426127\n",
       "petal_area_sqrt                     3.516959\n",
       "area_ratios                         1.583847\n",
       "Name: 1100, dtype: object"
      ]
     },
     "execution_count": 9,
     "metadata": {},
     "output_type": "execute_result"
    }
   ],
   "source": [
    "iris.loc[1100]"
   ]
  },
  {
   "cell_type": "markdown",
   "id": "90a4f3a8",
   "metadata": {
    "slideshow": {
     "slide_type": "slide"
    }
   },
   "source": [
    "# Deskriptive Statistik\n"
   ]
  },
  {
   "cell_type": "markdown",
   "id": "fbf44b8a",
   "metadata": {
    "slideshow": {
     "slide_type": "-"
    }
   },
   "source": [
    "# Lageparameter"
   ]
  },
  {
   "cell_type": "markdown",
   "id": "6708d88d",
   "metadata": {
    "slideshow": {
     "slide_type": "slide"
    }
   },
   "source": [
    "### Arithmetisches Mittel\n",
    "\n",
    "Das arithmetische Mittel (engl. \"mean\") ist der Durchschnitt der Messwerte"
   ]
  },
  {
   "cell_type": "markdown",
   "id": "1b00298c",
   "metadata": {},
   "source": [
    "Formel:  Beim Stichprobenumfang $n$ seien $ x_1, x_2, x_3, \\dots,  x_n $ die Messwerte, dann ist das arithmetische Mittel gleich\n",
    "\n",
    "$$\n",
    "    \\overline x = \\frac1n \\left( x_1 + x_2 + x_3 + \\dots + x_n \\right)\n",
    "$$\n",
    "\n",
    "  Man schreibt auch\n",
    "  \\begin{equation*}\n",
    "    \\overline x = \\frac1n \\sum_{j=1}^n x_j\n",
    "  \\end{equation*}\n"
   ]
  },
  {
   "cell_type": "markdown",
   "id": "ad30c09f",
   "metadata": {
    "slideshow": {
     "slide_type": "slide"
    }
   },
   "source": [
    "$\\displaystyle \\sum$   ist das Summenzeichen. \n",
    "\n",
    "* Unter dem Zeichen stehen zwei Informationen:  Der Name der Zählvariablen (hier $j$) und der Startwert der Zählung (hier $1$).  \n",
    "* Über dem Zeichen steht der Endpunkt der Zählung (hier der Stichprobenumfang $n$)\n",
    "* Rechts neben dem Zeichen steht, was aufzuzählen ist (hier $x_j$)"
   ]
  },
  {
   "cell_type": "markdown",
   "id": "8c639d6e",
   "metadata": {
    "slideshow": {
     "slide_type": "slide"
    }
   },
   "source": [
    "### Beispiel\n",
    "\n",
    "Bei fünf Mäusen sind die Gewichte 21.3g, 19.8g, 20.4g, 19.0g und 22.7g gemessen worden.  Was ist der Mittelwert?"
   ]
  },
  {
   "cell_type": "markdown",
   "id": "d0926f5f",
   "metadata": {
    "slideshow": {
     "slide_type": "fragment"
    }
   },
   "source": [
    "* Die Summe beträgt 103.2g.\n",
    "* 103.2/5 = 20.64\n",
    "* Das arithmetische Mittel der Mausgewichte beträgt 20.64g\n",
    "\n",
    "Das ist mit dem Taschenrechner kein Problem"
   ]
  },
  {
   "cell_type": "markdown",
   "id": "8803cf90",
   "metadata": {
    "slideshow": {
     "slide_type": "slide"
    }
   },
   "source": [
    "Trotzdem mal mit `pandas`"
   ]
  },
  {
   "cell_type": "code",
   "execution_count": 10,
   "id": "4b85bcec",
   "metadata": {},
   "outputs": [],
   "source": [
    "maeuse = pd.DataFrame()  #  leerer DataFrame"
   ]
  },
  {
   "cell_type": "code",
   "execution_count": 11,
   "id": "afdfc59f",
   "metadata": {},
   "outputs": [],
   "source": [
    "maeuse['Gewicht'] = [21.3, 19.8, 20.4, 19.0, 22.7]"
   ]
  },
  {
   "cell_type": "code",
   "execution_count": 12,
   "id": "d86d580a",
   "metadata": {},
   "outputs": [
    {
     "data": {
      "text/html": [
       "<div>\n",
       "<style scoped>\n",
       "    .dataframe tbody tr th:only-of-type {\n",
       "        vertical-align: middle;\n",
       "    }\n",
       "\n",
       "    .dataframe tbody tr th {\n",
       "        vertical-align: top;\n",
       "    }\n",
       "\n",
       "    .dataframe thead th {\n",
       "        text-align: right;\n",
       "    }\n",
       "</style>\n",
       "<table border=\"1\" class=\"dataframe\">\n",
       "  <thead>\n",
       "    <tr style=\"text-align: right;\">\n",
       "      <th></th>\n",
       "      <th>Gewicht</th>\n",
       "    </tr>\n",
       "  </thead>\n",
       "  <tbody>\n",
       "    <tr>\n",
       "      <th>0</th>\n",
       "      <td>21.3</td>\n",
       "    </tr>\n",
       "    <tr>\n",
       "      <th>1</th>\n",
       "      <td>19.8</td>\n",
       "    </tr>\n",
       "    <tr>\n",
       "      <th>2</th>\n",
       "      <td>20.4</td>\n",
       "    </tr>\n",
       "    <tr>\n",
       "      <th>3</th>\n",
       "      <td>19.0</td>\n",
       "    </tr>\n",
       "    <tr>\n",
       "      <th>4</th>\n",
       "      <td>22.7</td>\n",
       "    </tr>\n",
       "  </tbody>\n",
       "</table>\n",
       "</div>"
      ],
      "text/plain": [
       "   Gewicht\n",
       "0     21.3\n",
       "1     19.8\n",
       "2     20.4\n",
       "3     19.0\n",
       "4     22.7"
      ]
     },
     "execution_count": 12,
     "metadata": {},
     "output_type": "execute_result"
    }
   ],
   "source": [
    "maeuse"
   ]
  },
  {
   "cell_type": "code",
   "execution_count": 13,
   "id": "d01cf82d",
   "metadata": {
    "slideshow": {
     "slide_type": "fragment"
    }
   },
   "outputs": [
    {
     "data": {
      "text/plain": [
       "Gewicht    20.64\n",
       "dtype: float64"
      ]
     },
     "execution_count": 13,
     "metadata": {},
     "output_type": "execute_result"
    }
   ],
   "source": [
    "maeuse.mean()"
   ]
  },
  {
   "cell_type": "code",
   "execution_count": 14,
   "id": "f6767f60",
   "metadata": {
    "slideshow": {
     "slide_type": "slide"
    }
   },
   "outputs": [
    {
     "data": {
      "text/plain": [
       "np.float64(3.80795)"
      ]
     },
     "execution_count": 14,
     "metadata": {},
     "output_type": "execute_result"
    }
   ],
   "source": [
    "bluetenblattlaenge.mean()"
   ]
  },
  {
   "cell_type": "markdown",
   "id": "f6f6f384",
   "metadata": {
    "slideshow": {
     "slide_type": "fragment"
    }
   },
   "source": [
    "* Je nach verwendeten Versionen der Software sieht man hier entweder `np.float64(3.80795)` oder nur die Zahl\n",
    "* Auf meinem Rechner sehe ich die komplizierte Version, was ich aber wie folgt abschalten kann"
   ]
  },
  {
   "cell_type": "code",
   "execution_count": 15,
   "id": "cafee7d4",
   "metadata": {},
   "outputs": [],
   "source": [
    "import numpy as np\n",
    "np.set_printoptions(legacy='1.21')"
   ]
  },
  {
   "cell_type": "code",
   "execution_count": 16,
   "id": "c7d08ed8",
   "metadata": {},
   "outputs": [
    {
     "data": {
      "text/plain": [
       "3.80795"
      ]
     },
     "execution_count": 16,
     "metadata": {},
     "output_type": "execute_result"
    }
   ],
   "source": [
    "bluetenblattlaenge.mean()"
   ]
  },
  {
   "cell_type": "markdown",
   "id": "341f6711",
   "metadata": {
    "slideshow": {
     "slide_type": "fragment"
    }
   },
   "source": [
    "* In Lektion 1 hatte ich auf 1.25 umgeschaltet; das mag Colab aber nicht"
   ]
  },
  {
   "cell_type": "markdown",
   "id": "581e5746",
   "metadata": {
    "slideshow": {
     "slide_type": "slide"
    }
   },
   "source": [
    "## Median\n",
    "\n",
    "Der Median ist ein Wert mit der Eigenschaft, dass in der Menge der nach Größe geordneten Messwerte gleich viele Daten unterhalb und oberhalb des Medians liegen."
   ]
  },
  {
   "cell_type": "markdown",
   "id": "4efb23dd",
   "metadata": {
    "slideshow": {
     "slide_type": "fragment"
    }
   },
   "source": [
    "Beispiel:  7 Messwerte\n",
    "\n",
    "10 | 5 | 4 | 9 | 10 | 1 | 5"
   ]
  },
  {
   "cell_type": "markdown",
   "id": "b38e6211",
   "metadata": {
    "slideshow": {
     "slide_type": "fragment"
    }
   },
   "source": [
    "Nach Größe anordnen\n",
    "\n",
    "1 | 4 | 5 | 5 | 9 | 10 | 10\n",
    "\n",
    "Der Median ist $x_{\\text{med}} = 5$"
   ]
  },
  {
   "cell_type": "markdown",
   "id": "c9b4cfdb",
   "metadata": {
    "slideshow": {
     "slide_type": "slide"
    }
   },
   "source": [
    "## Median für geraden Stichprobenumfang\n",
    "  \n",
    "Falls die Anzahl der Daten gerade ist, stehen in der Menge der nach Größe geordneten Messwerte zwei Zahlen in der Mitte.  "
   ]
  },
  {
   "cell_type": "markdown",
   "id": "166cce81",
   "metadata": {
    "slideshow": {
     "slide_type": "fragment"
    }
   },
   "source": [
    "Der Median $x_{\\text{med}}$ ist dann deren arithmetisches Mittel.\n",
    "\n",
    "10 | 5 | 4 | 9 | 10 | 1 | 5 | 8"
   ]
  },
  {
   "cell_type": "markdown",
   "id": "3d0e03eb",
   "metadata": {
    "slideshow": {
     "slide_type": "fragment"
    }
   },
   "source": [
    "Nach Größe anordnen\n",
    "\n",
    "1 | 4 | 5 | 5 | 8 | 9 | 10 | 10\n",
    "\n",
    "Der Median ist $x_{\\text{med}} = 6.5$ "
   ]
  },
  {
   "cell_type": "code",
   "execution_count": 17,
   "id": "e83ce9a8",
   "metadata": {
    "slideshow": {
     "slide_type": "slide"
    }
   },
   "outputs": [
    {
     "data": {
      "text/plain": [
       "Gewicht    20.4\n",
       "dtype: float64"
      ]
     },
     "execution_count": 17,
     "metadata": {},
     "output_type": "execute_result"
    }
   ],
   "source": [
    "maeuse.median()"
   ]
  },
  {
   "cell_type": "markdown",
   "id": "7fa5f2d3",
   "metadata": {},
   "source": [
    "Bei normalverteilten Daten liegen arithmetisches Mittel und Median nahe beieinander"
   ]
  },
  {
   "cell_type": "markdown",
   "id": "94cc76fb",
   "metadata": {
    "slideshow": {
     "slide_type": "slide"
    }
   },
   "source": [
    "### Einkommensverteilung\n",
    "\n",
    "* Beim Einkommen ziehen die sehr gut verdienenden das arithmetische Mittel nach oben,\n",
    "* beeinflussen den Median aber kaum"
   ]
  },
  {
   "cell_type": "markdown",
   "id": "8518e4d3",
   "metadata": {},
   "source": [
    "Daten von finanz.de für 2024\n",
    "\n",
    "* Durchschnittsgehalt: 50.250€\n",
    "* Median des Gehalts:  43.750€"
   ]
  },
  {
   "cell_type": "markdown",
   "id": "2ca736db",
   "metadata": {
    "slideshow": {
     "slide_type": "slide"
    }
   },
   "source": [
    "## Robustheit\n",
    "\n",
    "* Ein *Ausreißer* ist ein Messwert, der weit von fast allen anderen Messwerten entfernt ist.  Ausreißer können z.B. von\n",
    "    Messfehlern herrühren.\n",
    "* Eine statistische Größe ist *robust*, wenn sie unempfindlich gegen Ausreißer ist.\n",
    "* Das arithmetische Mittel ist nicht robust.  Ausreißer gehen genauso ein wie alle anderen.\n",
    "* Der Median ist robust"
   ]
  },
  {
   "cell_type": "markdown",
   "id": "c6e9bfc0",
   "metadata": {
    "slideshow": {
     "slide_type": "slide"
    }
   },
   "source": [
    "### Beispiel zur Robustheit"
   ]
  },
  {
   "cell_type": "code",
   "execution_count": 18,
   "id": "6647ae66",
   "metadata": {},
   "outputs": [],
   "source": [
    "maeuse2 = pd.DataFrame()\n",
    "maeuse2['Gewicht'] = [21.3, 19.8, 20.4, 19.0, 22.7, 287]"
   ]
  },
  {
   "cell_type": "code",
   "execution_count": 19,
   "id": "8ac59af2",
   "metadata": {
    "slideshow": {
     "slide_type": "slide"
    }
   },
   "outputs": [
    {
     "data": {
      "text/plain": [
       "Gewicht    20.64\n",
       "dtype: float64"
      ]
     },
     "execution_count": 19,
     "metadata": {},
     "output_type": "execute_result"
    }
   ],
   "source": [
    "maeuse.mean()"
   ]
  },
  {
   "cell_type": "code",
   "execution_count": 20,
   "id": "e57d891e",
   "metadata": {},
   "outputs": [
    {
     "data": {
      "text/plain": [
       "Gewicht    65.033333\n",
       "dtype: float64"
      ]
     },
     "execution_count": 20,
     "metadata": {},
     "output_type": "execute_result"
    }
   ],
   "source": [
    "maeuse2.mean()"
   ]
  },
  {
   "cell_type": "code",
   "execution_count": 21,
   "id": "eedc042f",
   "metadata": {
    "slideshow": {
     "slide_type": "fragment"
    }
   },
   "outputs": [
    {
     "data": {
      "text/plain": [
       "Gewicht    20.4\n",
       "dtype: float64"
      ]
     },
     "execution_count": 21,
     "metadata": {},
     "output_type": "execute_result"
    }
   ],
   "source": [
    "maeuse.median()"
   ]
  },
  {
   "cell_type": "code",
   "execution_count": 22,
   "id": "2bbf403b",
   "metadata": {},
   "outputs": [
    {
     "data": {
      "text/plain": [
       "Gewicht    20.85\n",
       "dtype: float64"
      ]
     },
     "execution_count": 22,
     "metadata": {},
     "output_type": "execute_result"
    }
   ],
   "source": [
    "maeuse2.median()"
   ]
  },
  {
   "cell_type": "markdown",
   "id": "4e13b360",
   "metadata": {
    "slideshow": {
     "slide_type": "slide"
    }
   },
   "source": [
    "# Streuungsparameter\n",
    "\n",
    "## Empirische Varianz und Stichprobenstreuung\n",
    "\n",
    "* Beim Stichprobenumfang $n$ seien $x_1, x_2, x_3, \\dots, x_n$ die Messwerte, dann ist das *empirische Varianz* gleich\n",
    "    \\begin{equation*}\n",
    "      s^2 = \\frac{(x_1-\\overline x)^2 + (x_2-\\overline x)^2 +\n",
    "        (x_3-\\overline x)^2 + \\dots + (x_n-\\overline x)^2}{n-1}\n",
    "    \\end{equation*}\n",
    "    Dabei ist $\\overline x$ das arithmetische Mittel\n",
    "* Die empirische Varianz wird mit $s^2$ bezeichnet.  "
   ]
  },
  {
   "cell_type": "markdown",
   "id": "0d252dae",
   "metadata": {
    "slideshow": {
     "slide_type": "fragment"
    }
   },
   "source": [
    "* Die Zahl $s$ heißt *empirische Standardabweichung* oder\n",
    "    *Stichprobenstreuung*\n",
    "* Die Stichprobenstreuung ist also die Quadratwurzel der empirischen Varianz"
   ]
  },
  {
   "cell_type": "markdown",
   "id": "6c1534f4",
   "metadata": {
    "slideshow": {
     "slide_type": "slide"
    }
   },
   "source": [
    "## Konkrete Rechnung\n",
    "\n",
    "Bei fünf Proben wurden die folgenden Massen in [g] gewogen: \n",
    "\n",
    "| Nummer | 1      | 2      | 3     | 4      | 5   |\n",
    "|--------|--------|--------|-------|--------|-----|\n",
    "| Masse  | 1.1    | 1.3    | 1.6   | 1.3    | 2.0 |\n",
    "\n",
    "$$\\displaystyle \\sum_{j=1}^5 x_j = 7.3g$$\n",
    "$$\\overline x = \\frac{7.3g}5 = 1.46g$$\n",
    "$$\\sum_{j=1}^5 (x_j-\\overline x)^2 = 0.4920g^2$$\n",
    "$$s^2 = \\frac{0.4920g^2}4 = 0.1230g^2 \\quad\\text{und}\\quad\n",
    "s = \\sqrt{0.1230g^2} = 0.3507g$$"
   ]
  },
  {
   "cell_type": "code",
   "execution_count": 23,
   "id": "f0384195",
   "metadata": {
    "slideshow": {
     "slide_type": "slide"
    }
   },
   "outputs": [
    {
     "data": {
      "text/plain": [
       "Gewicht    2.033\n",
       "dtype: float64"
      ]
     },
     "execution_count": 23,
     "metadata": {},
     "output_type": "execute_result"
    }
   ],
   "source": [
    "maeuse.var()  # empirische Varianz"
   ]
  },
  {
   "cell_type": "code",
   "execution_count": 24,
   "id": "d1db3283",
   "metadata": {},
   "outputs": [
    {
     "data": {
      "text/plain": [
       "Gewicht    1.425833\n",
       "dtype: float64"
      ]
     },
     "execution_count": 24,
     "metadata": {},
     "output_type": "execute_result"
    }
   ],
   "source": [
    "maeuse.std()  # Stichprobenstreuung"
   ]
  },
  {
   "cell_type": "markdown",
   "id": "b35bf189",
   "metadata": {
    "slideshow": {
     "slide_type": "slide"
    }
   },
   "source": [
    "## Stichprobenstreuung vs. Varianz\n",
    "\n",
    "* Der Vorteil der Stichprobenstreuung gegenüber der Varianz ist, dass die Stichprobenstreuung richtig skaliert\n",
    "* Das bedeutet folgendes: Wenn ich alle Daten mit 1000 multipliziere, dann\n",
    "  * multipliziert sich das arithmetische Mittel mit 1000\n",
    "  * multipliziert sich die Varianz mit 1000000\n",
    "  * multipliziert sich die Stichprobenstreuung mit 1000\n",
    "* Das bedeutet auch, dass die Stichprobenstreuung in derselben Einheit angegegeben wird wie die Daten"
   ]
  },
  {
   "cell_type": "markdown",
   "id": "776f3f37",
   "metadata": {
    "slideshow": {
     "slide_type": "slide"
    }
   },
   "source": [
    "## Formeln für die Varianz\n",
    "\n",
    "* Die Definition ohne Pünktchen\n",
    "    \\begin{equation*}\n",
    "      s^2 = \\frac1{n-1} \\sum_{j=1}^n \\left(x_j - \\overline x \\right)^2\n",
    "    \\end{equation*}\n",
    "* Eine etwas einfachere Formel, deren Richtigkeit leicht nachgerechnet werden kann\n",
    "    \\begin{equation*}\n",
    "      s^2 = \\frac1{n-1} \\biggr( \\Bigr( \\sum_{j=1}^n x_j^2 \\Bigr) - n\n",
    "      {\\overline x}^2 \\biggr)\n",
    "    \\end{equation*}"
   ]
  },
  {
   "cell_type": "markdown",
   "id": "1a184da0",
   "metadata": {
    "slideshow": {
     "slide_type": "slide"
    }
   },
   "source": [
    "## Warum $n - 1$ im Nenner?\n",
    "\n",
    "* $n-1$ ist die Zahl Freiheitsgrade\n",
    "* Das ist ein heuristisches Konzept:\n",
    "  * erstmal hat man pro Stichprobe einen Freiheitsgrad\n",
    "  * für jeden Wert, den man hilfsweise schätzen muss, wird ein Freiheitsgrad abgezogen\n",
    "* zur Berechnung der Varianz muss das arithmetische Mittel bestimmt werden:  also ein Freiheitgrad Abzug"
   ]
  },
  {
   "cell_type": "markdown",
   "id": "a492b15a",
   "metadata": {
    "slideshow": {
     "slide_type": "fragment"
    }
   },
   "source": [
    "* Das bedeutet, dass man, wenn man für viele Datensätze die Varianz mit dieser Methode feststellt, im Mittel näher an der wahren Varianz ist, als wenn man den Nenner $n$ benutzt\n",
    "* Alle großen Software-Pakete machen das so "
   ]
  },
  {
   "cell_type": "markdown",
   "id": "15be05dc",
   "metadata": {
    "slideshow": {
     "slide_type": "slide"
    }
   },
   "source": [
    "Software-Pakete:\n",
    "\n",
    "* `python` mit `pandas` und `scipy.stats`\n",
    "* `R`\n",
    "* `SPSS`"
   ]
  },
  {
   "cell_type": "markdown",
   "id": "ffac603f",
   "metadata": {
    "slideshow": {
     "slide_type": "slide"
    }
   },
   "source": [
    "Überprüfung"
   ]
  },
  {
   "cell_type": "code",
   "execution_count": 25,
   "id": "9c308cd5",
   "metadata": {},
   "outputs": [
    {
     "data": {
      "text/plain": [
       "Gewicht    2.033\n",
       "dtype: float64"
      ]
     },
     "execution_count": 25,
     "metadata": {},
     "output_type": "execute_result"
    }
   ],
   "source": [
    "maeuse.var()"
   ]
  },
  {
   "cell_type": "markdown",
   "id": "9721d5a3",
   "metadata": {},
   "source": [
    "Wenn gewünscht, kann man von Nenner $n-1$ zu Nenner $n$ umschalten"
   ]
  },
  {
   "cell_type": "code",
   "execution_count": 26,
   "id": "55d27d35",
   "metadata": {},
   "outputs": [
    {
     "data": {
      "text/plain": [
       "Gewicht    1.6264\n",
       "dtype: float64"
      ]
     },
     "execution_count": 26,
     "metadata": {},
     "output_type": "execute_result"
    }
   ],
   "source": [
    "maeuse.var(ddof=0)"
   ]
  },
  {
   "cell_type": "markdown",
   "id": "aeeb51c2",
   "metadata": {},
   "source": [
    "`ddof` = delta degrees of freedom; das ist die Zahl, die man vom Stichprobenumfang abzieht, um die Zahl der Freiheitsgrade zu bekommen"
   ]
  },
  {
   "cell_type": "markdown",
   "id": "d5ee9db8",
   "metadata": {},
   "source": [
    "Achten Sie auf Ihren Taschenrechner!"
   ]
  },
  {
   "cell_type": "markdown",
   "id": "b172d88b",
   "metadata": {
    "slideshow": {
     "slide_type": "slide"
    }
   },
   "source": [
    "## Zusammenfassungen"
   ]
  },
  {
   "cell_type": "code",
   "execution_count": 27,
   "id": "2c429130",
   "metadata": {
    "slideshow": {
     "slide_type": "-"
    }
   },
   "outputs": [
    {
     "data": {
      "text/html": [
       "<div>\n",
       "<style scoped>\n",
       "    .dataframe tbody tr th:only-of-type {\n",
       "        vertical-align: middle;\n",
       "    }\n",
       "\n",
       "    .dataframe tbody tr th {\n",
       "        vertical-align: top;\n",
       "    }\n",
       "\n",
       "    .dataframe thead th {\n",
       "        text-align: right;\n",
       "    }\n",
       "</style>\n",
       "<table border=\"1\" class=\"dataframe\">\n",
       "  <thead>\n",
       "    <tr style=\"text-align: right;\">\n",
       "      <th></th>\n",
       "      <th>Gewicht</th>\n",
       "    </tr>\n",
       "  </thead>\n",
       "  <tbody>\n",
       "    <tr>\n",
       "      <th>count</th>\n",
       "      <td>5.000000</td>\n",
       "    </tr>\n",
       "    <tr>\n",
       "      <th>mean</th>\n",
       "      <td>20.640000</td>\n",
       "    </tr>\n",
       "    <tr>\n",
       "      <th>std</th>\n",
       "      <td>1.425833</td>\n",
       "    </tr>\n",
       "    <tr>\n",
       "      <th>min</th>\n",
       "      <td>19.000000</td>\n",
       "    </tr>\n",
       "    <tr>\n",
       "      <th>25%</th>\n",
       "      <td>19.800000</td>\n",
       "    </tr>\n",
       "    <tr>\n",
       "      <th>50%</th>\n",
       "      <td>20.400000</td>\n",
       "    </tr>\n",
       "    <tr>\n",
       "      <th>75%</th>\n",
       "      <td>21.300000</td>\n",
       "    </tr>\n",
       "    <tr>\n",
       "      <th>max</th>\n",
       "      <td>22.700000</td>\n",
       "    </tr>\n",
       "  </tbody>\n",
       "</table>\n",
       "</div>"
      ],
      "text/plain": [
       "         Gewicht\n",
       "count   5.000000\n",
       "mean   20.640000\n",
       "std     1.425833\n",
       "min    19.000000\n",
       "25%    19.800000\n",
       "50%    20.400000\n",
       "75%    21.300000\n",
       "max    22.700000"
      ]
     },
     "execution_count": 27,
     "metadata": {},
     "output_type": "execute_result"
    }
   ],
   "source": [
    "maeuse.describe()"
   ]
  },
  {
   "cell_type": "markdown",
   "id": "7f450122",
   "metadata": {
    "slideshow": {
     "slide_type": "fragment"
    }
   },
   "source": [
    "* `count`: Anzahl\n",
    "* `mean`: arithmetisches Mittel\n",
    "* `std`: Stichprobenstreuung\n",
    "* `min`: kleinster Wert\n",
    "* `50%`: Median\n",
    "* `25%`, `75%`: Quartile\n",
    "* `max`: größter Wert"
   ]
  },
  {
   "cell_type": "markdown",
   "id": "781746c1",
   "metadata": {
    "slideshow": {
     "slide_type": "slide"
    }
   },
   "source": [
    "Funktioniert auch für DataFrames"
   ]
  },
  {
   "cell_type": "code",
   "execution_count": 28,
   "id": "0bb120d7",
   "metadata": {},
   "outputs": [
    {
     "data": {
      "text/html": [
       "<div>\n",
       "<style scoped>\n",
       "    .dataframe tbody tr th:only-of-type {\n",
       "        vertical-align: middle;\n",
       "    }\n",
       "\n",
       "    .dataframe tbody tr th {\n",
       "        vertical-align: top;\n",
       "    }\n",
       "\n",
       "    .dataframe thead th {\n",
       "        text-align: right;\n",
       "    }\n",
       "</style>\n",
       "<table border=\"1\" class=\"dataframe\">\n",
       "  <thead>\n",
       "    <tr style=\"text-align: right;\">\n",
       "      <th></th>\n",
       "      <th>nofish</th>\n",
       "      <th>livebait</th>\n",
       "      <th>camper</th>\n",
       "      <th>persons</th>\n",
       "      <th>child</th>\n",
       "      <th>xb</th>\n",
       "      <th>zg</th>\n",
       "      <th>count</th>\n",
       "    </tr>\n",
       "  </thead>\n",
       "  <tbody>\n",
       "    <tr>\n",
       "      <th>count</th>\n",
       "      <td>250.000000</td>\n",
       "      <td>250.000000</td>\n",
       "      <td>250.000000</td>\n",
       "      <td>250.00000</td>\n",
       "      <td>250.000000</td>\n",
       "      <td>250.000000</td>\n",
       "      <td>250.000000</td>\n",
       "      <td>250.000000</td>\n",
       "    </tr>\n",
       "    <tr>\n",
       "      <th>mean</th>\n",
       "      <td>0.296000</td>\n",
       "      <td>0.864000</td>\n",
       "      <td>0.588000</td>\n",
       "      <td>2.52800</td>\n",
       "      <td>0.684000</td>\n",
       "      <td>0.973796</td>\n",
       "      <td>0.252323</td>\n",
       "      <td>3.296000</td>\n",
       "    </tr>\n",
       "    <tr>\n",
       "      <th>std</th>\n",
       "      <td>0.457407</td>\n",
       "      <td>0.343476</td>\n",
       "      <td>0.493182</td>\n",
       "      <td>1.11273</td>\n",
       "      <td>0.850315</td>\n",
       "      <td>1.440277</td>\n",
       "      <td>2.102391</td>\n",
       "      <td>11.635028</td>\n",
       "    </tr>\n",
       "    <tr>\n",
       "      <th>min</th>\n",
       "      <td>0.000000</td>\n",
       "      <td>0.000000</td>\n",
       "      <td>0.000000</td>\n",
       "      <td>1.00000</td>\n",
       "      <td>0.000000</td>\n",
       "      <td>-3.275050</td>\n",
       "      <td>-5.625944</td>\n",
       "      <td>0.000000</td>\n",
       "    </tr>\n",
       "    <tr>\n",
       "      <th>25%</th>\n",
       "      <td>0.000000</td>\n",
       "      <td>1.000000</td>\n",
       "      <td>0.000000</td>\n",
       "      <td>2.00000</td>\n",
       "      <td>0.000000</td>\n",
       "      <td>0.008267</td>\n",
       "      <td>-1.252724</td>\n",
       "      <td>0.000000</td>\n",
       "    </tr>\n",
       "    <tr>\n",
       "      <th>50%</th>\n",
       "      <td>0.000000</td>\n",
       "      <td>1.000000</td>\n",
       "      <td>1.000000</td>\n",
       "      <td>2.00000</td>\n",
       "      <td>0.000000</td>\n",
       "      <td>0.954550</td>\n",
       "      <td>0.605079</td>\n",
       "      <td>0.000000</td>\n",
       "    </tr>\n",
       "    <tr>\n",
       "      <th>75%</th>\n",
       "      <td>1.000000</td>\n",
       "      <td>1.000000</td>\n",
       "      <td>1.000000</td>\n",
       "      <td>4.00000</td>\n",
       "      <td>1.000000</td>\n",
       "      <td>1.963855</td>\n",
       "      <td>1.993237</td>\n",
       "      <td>2.000000</td>\n",
       "    </tr>\n",
       "    <tr>\n",
       "      <th>max</th>\n",
       "      <td>1.000000</td>\n",
       "      <td>1.000000</td>\n",
       "      <td>1.000000</td>\n",
       "      <td>4.00000</td>\n",
       "      <td>3.000000</td>\n",
       "      <td>5.352674</td>\n",
       "      <td>4.263185</td>\n",
       "      <td>149.000000</td>\n",
       "    </tr>\n",
       "  </tbody>\n",
       "</table>\n",
       "</div>"
      ],
      "text/plain": [
       "           nofish    livebait      camper    persons       child          xb  \\\n",
       "count  250.000000  250.000000  250.000000  250.00000  250.000000  250.000000   \n",
       "mean     0.296000    0.864000    0.588000    2.52800    0.684000    0.973796   \n",
       "std      0.457407    0.343476    0.493182    1.11273    0.850315    1.440277   \n",
       "min      0.000000    0.000000    0.000000    1.00000    0.000000   -3.275050   \n",
       "25%      0.000000    1.000000    0.000000    2.00000    0.000000    0.008267   \n",
       "50%      0.000000    1.000000    1.000000    2.00000    0.000000    0.954550   \n",
       "75%      1.000000    1.000000    1.000000    4.00000    1.000000    1.963855   \n",
       "max      1.000000    1.000000    1.000000    4.00000    3.000000    5.352674   \n",
       "\n",
       "               zg       count  \n",
       "count  250.000000  250.000000  \n",
       "mean     0.252323    3.296000  \n",
       "std      2.102391   11.635028  \n",
       "min     -5.625944    0.000000  \n",
       "25%     -1.252724    0.000000  \n",
       "50%      0.605079    0.000000  \n",
       "75%      1.993237    2.000000  \n",
       "max      4.263185  149.000000  "
      ]
     },
     "execution_count": 28,
     "metadata": {},
     "output_type": "execute_result"
    }
   ],
   "source": [
    "fish.describe()"
   ]
  },
  {
   "cell_type": "markdown",
   "id": "081d7e38",
   "metadata": {
    "slideshow": {
     "slide_type": "slide"
    }
   },
   "source": [
    "# Quartile\n",
    "\n",
    "* Das Quartile $Q_1$ ist als derjenige Wert definiert, unter dem 25% und über dem 75% der Messwerte liegen\n",
    "* Das Quartile $Q_3$ ist als derjenige Wert definiert, über dem 25% und unter dem 75% der Messwerte liegen\n",
    "* Das Quartil $Q_2$ ist der Median\n",
    "* Bei den Mäusen: $Q_1 = 19.8$ und $Q_3 = 21.3$"
   ]
  },
  {
   "cell_type": "markdown",
   "id": "0e315426",
   "metadata": {
    "slideshow": {
     "slide_type": "slide"
    }
   },
   "source": [
    "#### Beispielgrafik\n",
    "\n",
    "die vier Viertel sind unterschiedlich gefärbt\n",
    "\n",
    "![Image](./bilder/quartile.png)"
   ]
  },
  {
   "cell_type": "markdown",
   "id": "dc2795cb",
   "metadata": {
    "slideshow": {
     "slide_type": "slide"
    }
   },
   "source": [
    "## Zusammenhang zwischen Quartilen und Quantilen\n",
    "\n",
    "* Allgemeiner ist für $q$ zwischen $0$ und $1$ das $q$-*Quantil* derjenige Wert, so dass der Anteil der Messwerte unterhalb dieses Wertes gleich $q$ und der Anteil oberhalb gleich $1-q$ ist\n",
    "* Wenn $q$ in Prozent ausgedrückt wird, dann spricht man auch von *Perzentilen*"
   ]
  },
  {
   "cell_type": "markdown",
   "id": "c56b25de",
   "metadata": {},
   "source": [
    "\n",
    "|Quartil     |Quantil      |\n",
    "|------------|-------------|\n",
    "|1. Quartil  | 25%-Quantil |\n",
    "|Median      | 50%-Quantil |\n",
    "|3. Quartil  | 75%-Quantil | "
   ]
  },
  {
   "cell_type": "markdown",
   "id": "1adc6251",
   "metadata": {
    "slideshow": {
     "slide_type": "fragment"
    }
   },
   "source": [
    "Beispiel\n",
    "\n",
    "* Leute, die zu den reichsten 1% der Bevölkerung gehören, haben ein Einkommen oberhalb des 99%-Quantils"
   ]
  },
  {
   "cell_type": "markdown",
   "id": "9be14247",
   "metadata": {
    "slideshow": {
     "slide_type": "slide"
    }
   },
   "source": [
    "# Interquartilabstand\n",
    "\n",
    "* Der Interquartilabstand ist definiert als\n",
    "    \\begin{equation*}\n",
    "      \\text{IQR} = Q_3 - Q_1\n",
    "    \\end{equation*}\n",
    "* Der Interquartilabstand ist ein robustes Maß für die Streuung"
   ]
  },
  {
   "cell_type": "markdown",
   "id": "164444c5",
   "metadata": {
    "slideshow": {
     "slide_type": "slide"
    }
   },
   "source": [
    "Berechnung des Interquartilabstands"
   ]
  },
  {
   "cell_type": "code",
   "execution_count": 29,
   "id": "6fd7c938",
   "metadata": {},
   "outputs": [
    {
     "data": {
      "text/plain": [
       "count    1200.000000\n",
       "mean        3.807950\n",
       "std         1.765469\n",
       "min         0.960000\n",
       "25%         1.640000\n",
       "50%         4.300000\n",
       "75%         5.200000\n",
       "max         7.840000\n",
       "Name: petal_length, dtype: float64"
      ]
     },
     "execution_count": 29,
     "metadata": {},
     "output_type": "execute_result"
    }
   ],
   "source": [
    "bbl = bluetenblattlaenge.describe()\n",
    "bbl"
   ]
  },
  {
   "cell_type": "code",
   "execution_count": 30,
   "id": "0e8ee488",
   "metadata": {},
   "outputs": [
    {
     "data": {
      "text/plain": [
       "3.5600000000000005"
      ]
     },
     "execution_count": 30,
     "metadata": {},
     "output_type": "execute_result"
    }
   ],
   "source": [
    "bbl[\"75%\"] - bbl[\"25%\"]  # Interquartilabstand"
   ]
  },
  {
   "cell_type": "code",
   "execution_count": 31,
   "id": "a9a5b8cb",
   "metadata": {
    "slideshow": {
     "slide_type": "fragment"
    }
   },
   "outputs": [
    {
     "data": {
      "text/plain": [
       "3.56"
      ]
     },
     "execution_count": 31,
     "metadata": {},
     "output_type": "execute_result"
    }
   ],
   "source": [
    "(bbl[\"75%\"] - bbl[\"25%\"]).round(6)"
   ]
  },
  {
   "cell_type": "markdown",
   "id": "893b1cc2",
   "metadata": {
    "slideshow": {
     "slide_type": "slide"
    }
   },
   "source": [
    "# Box-Whisker-Plots"
   ]
  },
  {
   "cell_type": "code",
   "execution_count": 32,
   "id": "e0fb8db3",
   "metadata": {
    "slideshow": {
     "slide_type": "-"
    }
   },
   "outputs": [],
   "source": [
    "import seaborn as sns"
   ]
  },
  {
   "cell_type": "code",
   "execution_count": 33,
   "id": "7f2a65b8",
   "metadata": {},
   "outputs": [
    {
     "data": {
      "image/png": "[encoded data removed]",
      "text/plain": [
       "<Figure size 640x480 with 1 Axes>"
      ]
     },
     "metadata": {},
     "output_type": "display_data"
    }
   ],
   "source": [
    "sns.boxplot(iris, x=\"species\", y=\"sepal_length\");"
   ]
  },
  {
   "cell_type": "markdown",
   "id": "34b879db",
   "metadata": {
    "slideshow": {
     "slide_type": "slide"
    }
   },
   "source": [
    "Ein Boxplot, auch Box-Whisker-Plot genannt, zeigt von unten nach oben\n",
    "\n",
    "* untere Einzelpunkte\n",
    "* unterster Datenpunkt, der kein Einzelpunkt ist\n",
    "* $Q_1$\n",
    "* Median\n",
    "* $Q_3$\n",
    "* oberster Datenpunkt, der kein Einzelpunkt ist\n",
    "* obere Datenpunkte\n",
    "\n",
    "Einzelpunkte sind solche, die weiter als 1.5 Interquartilabstände von $Q_1$ bzw. $Q_3$ weg sind"
   ]
  },
  {
   "cell_type": "markdown",
   "id": "7dc47bfa",
   "metadata": {
    "slideshow": {
     "slide_type": "slide"
    }
   },
   "source": [
    "Manchmal werden die Einzelpunkte als \"Ausreißer\" bezeichnet.   Das kann man aber nicht so einfach gleichsetzen."
   ]
  },
  {
   "cell_type": "code",
   "execution_count": 34,
   "id": "a328d71e",
   "metadata": {},
   "outputs": [
    {
     "data": {
      "image/png": "[encoded data removed]",
      "text/plain": [
       "<Figure size 640x480 with 1 Axes>"
      ]
     },
     "metadata": {},
     "output_type": "display_data"
    }
   ],
   "source": [
    "sns.boxplot(maeuse2);"
   ]
  },
  {
   "cell_type": "markdown",
   "id": "fbdb6b9d",
   "metadata": {},
   "source": [
    "Das ist wirklich ein Ausreißer (engl. \"outlier\")"
   ]
  }
 ],
 "metadata": {
  "celltoolbar": "Slideshow",
  "kernelspec": {
   "display_name": "Python 3 (ipykernel)",
   "language": "python",
   "name": "python3"
  },
  "language_info": {
   "codemirror_mode": {
    "name": "ipython",
    "version": 3
   },
   "file_extension": ".py",
   "mimetype": "text/x-python",
   "name": "python",
   "nbconvert_exporter": "python",
   "pygments_lexer": "ipython3",
   "version": "3.12.7"
  }
 },
 "nbformat": 4,
 "nbformat_minor": 5
}
