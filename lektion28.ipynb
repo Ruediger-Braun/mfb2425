{
 "cells": [
  {
   "cell_type": "markdown",
   "id": "14e2c18d",
   "metadata": {
    "slideshow": {
     "slide_type": "slide"
    }
   },
   "source": [
    "# Mathematik für Biologiestudierende II\n",
    "\n",
    "Sommersemester 2025\n",
    "\n",
    "08.07.2025\n",
    "\n",
    "&copy; 2025 Prof. Dr. Rüdiger W. Braun "
   ]
  },
  {
   "cell_type": "markdown",
   "id": "105a8969",
   "metadata": {
    "slideshow": {
     "slide_type": "slide"
    }
   },
   "source": [
    "# Themen\n",
    "\n",
    "* Elektrophorese als Beispiel für Regression im exponentiellen Modell\n",
    "* logistische Regression\n",
    "* graphische logistische Regression"
   ]
  },
  {
   "cell_type": "code",
   "execution_count": 1,
   "id": "8b9b1d6a",
   "metadata": {
    "slideshow": {
     "slide_type": "slide"
    }
   },
   "outputs": [],
   "source": [
    "import numpy as np\n",
    "np.set_printoptions(legacy='1.21')\n",
    "import pandas as pd\n",
    "from scipy import stats\n",
    "import seaborn as sns\n",
    "sns.set_theme()\n",
    "import statsmodels.formula.api as smf"
   ]
  },
  {
   "cell_type": "markdown",
   "id": "e49018d6",
   "metadata": {
    "slideshow": {
     "slide_type": "slide"
    }
   },
   "source": [
    "# Regression im exponentiellen Modell"
   ]
  },
  {
   "cell_type": "markdown",
   "id": "e9136ac9",
   "metadata": {
    "slideshow": {
     "slide_type": "slide"
    }
   },
   "source": [
    "## Beispiel Elektrophorese"
   ]
  },
  {
   "cell_type": "markdown",
   "id": "73cda959",
   "metadata": {},
   "source": [
    "### Elektrophoreseapparatur\n",
    "\n",
    "![Elektrophoreseapparatur](bilder/elektrophorese2.png)\n",
    "\n",
    "&copy; Prof. Dr. Schmitt-Wrede, HHU Düsseldorf"
   ]
  },
  {
   "cell_type": "markdown",
   "id": "ca3f2943",
   "metadata": {
    "slideshow": {
     "slide_type": "slide"
    }
   },
   "source": [
    "### Proteinanalyse durch Elektrophorese\n",
    "\n",
    "* Die Molekülmasse eines Proteins wird bestimmt, indem man seinen Laufweg in einem Gel misst, an welches eine Spannung angelegt wird.\n",
    "* Dazu muss das Protein zuerst aufbereitet werden; dieser Aspekt ist Thema von Biologie 110.\n",
    "* Das aufbereitete Protein wird zusammen mit sechs Referenzproteinen bekannter Massenzahl und einem Farbstoff in der Elektrophoreseapparatur einer Spannungsdifferenz ausgesetzt.  Die Spannung wird abgeschaltet, sobald der Farbstoff die Apparatur durchlaufen hat."
   ]
  },
  {
   "cell_type": "markdown",
   "id": "291d193b",
   "metadata": {
    "slideshow": {
     "slide_type": "slide"
    }
   },
   "source": [
    "### Laufwege\n",
    "\n",
    "![Laufwege im Gel](bilder/elektrophorese1.png)\n",
    "\n",
    "&copy; Prof. Dr. Schmitt-Wrede, HHU Düsseldorf"
   ]
  },
  {
   "cell_type": "markdown",
   "id": "3a0120be",
   "metadata": {
    "slideshow": {
     "slide_type": "fragment"
    }
   },
   "source": [
    "* Die linke Spur zeigt zuunterst die Lauffront des Farbmarkers und darüber die Lauffronten der Referenzproteine.\n",
    "* Die Zahlen bedeuten jeweils die Molekülmassen der Referenzproteine in Dalton sowie ihren relativen Laufweg.\n",
    "* Die rechte Spur stammt von einem bakteriellen Proteinextrakt.  Bestimmt werden soll die Molekülmasse des mit * gekennzeichnete Bestandteils."
   ]
  },
  {
   "cell_type": "markdown",
   "id": "0eb46776",
   "metadata": {
    "slideshow": {
     "slide_type": "slide"
    }
   },
   "source": [
    "* Ein Dalton ist das Gewicht eines Nukleons. \n",
    "* Der Laufweg ist so normiert, dass der Laufweg des Farbmarkers die Länge 1 hat.  Der kürzeste Laufweg ist oben.\n",
    "* Es besteht eine lineare Beziehung zwischen dem *Logarithmus* der Molekülmasse und der Laufstrecke des Proteins.\n",
    "* Zum Eichen werden die Referenzpunkte auf halblogarithmisches Papier aufgetragen."
   ]
  },
  {
   "cell_type": "code",
   "execution_count": 2,
   "id": "796bb3cb",
   "metadata": {
    "slideshow": {
     "slide_type": "-"
    }
   },
   "outputs": [
    {
     "data": {
      "image/png": "[encoded data removed]",
      "text/plain": [
       "<Figure size 640x480 with 1 Axes>"
      ]
     },
     "metadata": {},
     "output_type": "display_data"
    }
   ],
   "source": [
    "df = pd.DataFrame()\n",
    "df['Laufweg'] = [0.11, .25, .38, .48, .61, .82]\n",
    "df['Molekülmasse_in_kD'] = [70., 55, 40, 35, 25, 15]\n",
    "ax = sns.scatterplot(df, x='Laufweg', y='Molekülmasse_in_kD')\n",
    "ax.set_yscale('log')"
   ]
  },
  {
   "cell_type": "markdown",
   "id": "8ec30d5e",
   "metadata": {
    "slideshow": {
     "slide_type": "slide"
    }
   },
   "source": [
    "\n",
    "* Wir bestimmen die Eichkurve durch Regression im exponentiellen Modell\n",
    "* Dies geschieht zeichnerisch, indem man auf halblogarithmischem Papier die beste Gerade nach Augenschein bestimmt\n",
    "* oder rechnerisch, indem man die lineare Regressionsgerade zu den Logarithmen der Molekülmassen berechnet. Welchen Logarithmus man hier wählt, ist unerheblich\n",
    "* Halblogarithmisches Papier verwendet den Zehnerlogarithmus, daher machen wir das hier auch"
   ]
  },
  {
   "cell_type": "code",
   "execution_count": 3,
   "id": "5558af99",
   "metadata": {},
   "outputs": [],
   "source": [
    "df['lg'] = np.log10(df.Molekülmasse_in_kD)\n",
    "formel = 'lg ~ Laufweg'\n",
    "modell = smf.ols(formel, df)\n",
    "res = modell.fit()"
   ]
  },
  {
   "cell_type": "code",
   "execution_count": 4,
   "id": "7d3fc629",
   "metadata": {
    "scrolled": false,
    "slideshow": {
     "slide_type": "slide"
    }
   },
   "outputs": [
    {
     "name": "stderr",
     "output_type": "stream",
     "text": [
      "C:\\Users\\rb\\git\\mfb2425\\.pixi\\envs\\default\\Lib\\site-packages\\statsmodels\\stats\\stattools.py:74: ValueWarning: omni_normtest is not valid with less than 8 observations; 6 samples were given.\n",
      "  warn(\"omni_normtest is not valid with less than 8 observations; %i \"\n"
     ]
    },
    {
     "data": {
      "text/html": [
       "<table class=\"simpletable\">\n",
       "<caption>OLS Regression Results</caption>\n",
       "<tr>\n",
       "  <th>Dep. Variable:</th>           <td>lg</td>        <th>  R-squared:         </th> <td>   0.994</td>\n",
       "</tr>\n",
       "<tr>\n",
       "  <th>Model:</th>                   <td>OLS</td>       <th>  Adj. R-squared:    </th> <td>   0.993</td>\n",
       "</tr>\n",
       "<tr>\n",
       "  <th>Method:</th>             <td>Least Squares</td>  <th>  F-statistic:       </th> <td>   680.9</td>\n",
       "</tr>\n",
       "<tr>\n",
       "  <th>Date:</th>             <td>Tue, 08 Jul 2025</td> <th>  Prob (F-statistic):</th> <td>1.28e-05</td>\n",
       "</tr>\n",
       "<tr>\n",
       "  <th>Time:</th>                 <td>09:51:01</td>     <th>  Log-Likelihood:    </th> <td>  16.015</td>\n",
       "</tr>\n",
       "<tr>\n",
       "  <th>No. Observations:</th>      <td>     6</td>      <th>  AIC:               </th> <td>  -28.03</td>\n",
       "</tr>\n",
       "<tr>\n",
       "  <th>Df Residuals:</th>          <td>     4</td>      <th>  BIC:               </th> <td>  -28.45</td>\n",
       "</tr>\n",
       "<tr>\n",
       "  <th>Df Model:</th>              <td>     1</td>      <th>                     </th>     <td> </td>   \n",
       "</tr>\n",
       "<tr>\n",
       "  <th>Covariance Type:</th>      <td>nonrobust</td>    <th>                     </th>     <td> </td>   \n",
       "</tr>\n",
       "</table>\n",
       "<table class=\"simpletable\">\n",
       "<tr>\n",
       "      <td></td>         <th>coef</th>     <th>std err</th>      <th>t</th>      <th>P>|t|</th>  <th>[0.025</th>    <th>0.975]</th>  \n",
       "</tr>\n",
       "<tr>\n",
       "  <th>Intercept</th> <td>    1.9672</td> <td>    0.018</td> <td>  109.160</td> <td> 0.000</td> <td>    1.917</td> <td>    2.017</td>\n",
       "</tr>\n",
       "<tr>\n",
       "  <th>Laufweg</th>   <td>   -0.9424</td> <td>    0.036</td> <td>  -26.095</td> <td> 0.000</td> <td>   -1.043</td> <td>   -0.842</td>\n",
       "</tr>\n",
       "</table>\n",
       "<table class=\"simpletable\">\n",
       "<tr>\n",
       "  <th>Omnibus:</th>       <td>   nan</td> <th>  Durbin-Watson:     </th> <td>   2.035</td>\n",
       "</tr>\n",
       "<tr>\n",
       "  <th>Prob(Omnibus):</th> <td>   nan</td> <th>  Jarque-Bera (JB):  </th> <td>   0.447</td>\n",
       "</tr>\n",
       "<tr>\n",
       "  <th>Skew:</th>          <td> 0.466</td> <th>  Prob(JB):          </th> <td>   0.800</td>\n",
       "</tr>\n",
       "<tr>\n",
       "  <th>Kurtosis:</th>      <td> 2.041</td> <th>  Cond. No.          </th> <td>    5.19</td>\n",
       "</tr>\n",
       "</table><br/><br/>Notes:<br/>[1] Standard Errors assume that the covariance matrix of the errors is correctly specified."
      ],
      "text/latex": [
       "\\begin{center}\n",
       "\\begin{tabular}{lclc}\n",
       "\\toprule\n",
       "\\textbf{Dep. Variable:}    &        lg        & \\textbf{  R-squared:         } &     0.994   \\\\\n",
       "\\textbf{Model:}            &       OLS        & \\textbf{  Adj. R-squared:    } &     0.993   \\\\\n",
       "\\textbf{Method:}           &  Least Squares   & \\textbf{  F-statistic:       } &     680.9   \\\\\n",
       "\\textbf{Date:}             & Tue, 08 Jul 2025 & \\textbf{  Prob (F-statistic):} &  1.28e-05   \\\\\n",
       "\\textbf{Time:}             &     09:51:01     & \\textbf{  Log-Likelihood:    } &    16.015   \\\\\n",
       "\\textbf{No. Observations:} &           6      & \\textbf{  AIC:               } &    -28.03   \\\\\n",
       "\\textbf{Df Residuals:}     &           4      & \\textbf{  BIC:               } &    -28.45   \\\\\n",
       "\\textbf{Df Model:}         &           1      & \\textbf{                     } &             \\\\\n",
       "\\textbf{Covariance Type:}  &    nonrobust     & \\textbf{                     } &             \\\\\n",
       "\\bottomrule\n",
       "\\end{tabular}\n",
       "\\begin{tabular}{lcccccc}\n",
       "                   & \\textbf{coef} & \\textbf{std err} & \\textbf{t} & \\textbf{P$> |$t$|$} & \\textbf{[0.025} & \\textbf{0.975]}  \\\\\n",
       "\\midrule\n",
       "\\textbf{Intercept} &       1.9672  &        0.018     &   109.160  &         0.000        &        1.917    &        2.017     \\\\\n",
       "\\textbf{Laufweg}   &      -0.9424  &        0.036     &   -26.095  &         0.000        &       -1.043    &       -0.842     \\\\\n",
       "\\bottomrule\n",
       "\\end{tabular}\n",
       "\\begin{tabular}{lclc}\n",
       "\\textbf{Omnibus:}       &    nan & \\textbf{  Durbin-Watson:     } &    2.035  \\\\\n",
       "\\textbf{Prob(Omnibus):} &    nan & \\textbf{  Jarque-Bera (JB):  } &    0.447  \\\\\n",
       "\\textbf{Skew:}          &  0.466 & \\textbf{  Prob(JB):          } &    0.800  \\\\\n",
       "\\textbf{Kurtosis:}      &  2.041 & \\textbf{  Cond. No.          } &     5.19  \\\\\n",
       "\\bottomrule\n",
       "\\end{tabular}\n",
       "%\\caption{OLS Regression Results}\n",
       "\\end{center}\n",
       "\n",
       "Notes: \\newline\n",
       " [1] Standard Errors assume that the covariance matrix of the errors is correctly specified."
      ],
      "text/plain": [
       "<class 'statsmodels.iolib.summary.Summary'>\n",
       "\"\"\"\n",
       "                            OLS Regression Results                            \n",
       "==============================================================================\n",
       "Dep. Variable:                     lg   R-squared:                       0.994\n",
       "Model:                            OLS   Adj. R-squared:                  0.993\n",
       "Method:                 Least Squares   F-statistic:                     680.9\n",
       "Date:                Tue, 08 Jul 2025   Prob (F-statistic):           1.28e-05\n",
       "Time:                        09:51:01   Log-Likelihood:                 16.015\n",
       "No. Observations:                   6   AIC:                            -28.03\n",
       "Df Residuals:                       4   BIC:                            -28.45\n",
       "Df Model:                           1                                         \n",
       "Covariance Type:            nonrobust                                         \n",
       "==============================================================================\n",
       "                 coef    std err          t      P>|t|      [0.025      0.975]\n",
       "------------------------------------------------------------------------------\n",
       "Intercept      1.9672      0.018    109.160      0.000       1.917       2.017\n",
       "Laufweg       -0.9424      0.036    -26.095      0.000      -1.043      -0.842\n",
       "==============================================================================\n",
       "Omnibus:                          nan   Durbin-Watson:                   2.035\n",
       "Prob(Omnibus):                    nan   Jarque-Bera (JB):                0.447\n",
       "Skew:                           0.466   Prob(JB):                        0.800\n",
       "Kurtosis:                       2.041   Cond. No.                         5.19\n",
       "==============================================================================\n",
       "\n",
       "Notes:\n",
       "[1] Standard Errors assume that the covariance matrix of the errors is correctly specified.\n",
       "\"\"\""
      ]
     },
     "execution_count": 4,
     "metadata": {},
     "output_type": "execute_result"
    }
   ],
   "source": [
    "res.summary()"
   ]
  },
  {
   "cell_type": "code",
   "execution_count": 6,
   "id": "7bbd5a5d",
   "metadata": {
    "slideshow": {
     "slide_type": "fragment"
    }
   },
   "outputs": [],
   "source": [
    "m = -0.9424\n",
    "b = 1.9672"
   ]
  },
  {
   "cell_type": "markdown",
   "id": "87530ac6",
   "metadata": {
    "slideshow": {
     "slide_type": "slide"
    }
   },
   "source": [
    "Die so bestimmte Regressionskurve ist \n",
    "$$\n",
    "                y = 10^{-0.942 \\cdot x + 1.97}\n",
    "$$"
   ]
  },
  {
   "cell_type": "code",
   "execution_count": 7,
   "id": "9a9ba660",
   "metadata": {},
   "outputs": [],
   "source": [
    "x = np.linspace(0.1, 0.82, 50)\n",
    "regrKurve = 10**(m*x + b)"
   ]
  },
  {
   "cell_type": "code",
   "execution_count": 8,
   "id": "2cc15438",
   "metadata": {},
   "outputs": [
    {
     "data": {
      "image/png": "[encoded data removed]",
      "text/plain": [
       "<Figure size 640x480 with 1 Axes>"
      ]
     },
     "execution_count": 8,
     "metadata": {},
     "output_type": "execute_result"
    }
   ],
   "source": [
    "sns.lineplot(x=x, y=regrKurve, ax=ax)\n",
    "ax.figure"
   ]
  },
  {
   "cell_type": "markdown",
   "id": "a38b0d6b",
   "metadata": {
    "slideshow": {
     "slide_type": "slide"
    }
   },
   "source": [
    "* Bisher haben wir nur unsere Apperatur geeicht.  Jetzt malen wir noch den Punkt hinein.\n",
    "* Der beobachtete Laufweg beträgt 0.42"
   ]
  },
  {
   "cell_type": "code",
   "execution_count": 9,
   "id": "d7a4f1c7",
   "metadata": {},
   "outputs": [
    {
     "data": {
      "text/plain": [
       "37.27279837239035"
      ]
     },
     "execution_count": 9,
     "metadata": {},
     "output_type": "execute_result"
    }
   ],
   "source": [
    "lweg = 0.42\n",
    "masse = 10**(m*lweg+b)\n",
    "masse    # Masse in kD"
   ]
  },
  {
   "cell_type": "markdown",
   "id": "a7048dc9",
   "metadata": {
    "slideshow": {
     "slide_type": "fragment"
    }
   },
   "source": [
    "Das unbekannte Protein hat eine Molekularmasse von 37300 Dalton."
   ]
  },
  {
   "cell_type": "code",
   "execution_count": 10,
   "id": "6dc9b65f",
   "metadata": {
    "slideshow": {
     "slide_type": "slide"
    }
   },
   "outputs": [
    {
     "data": {
      "image/png": "[encoded data removed]",
      "text/plain": [
       "<Figure size 640x480 with 1 Axes>"
      ]
     },
     "execution_count": 10,
     "metadata": {},
     "output_type": "execute_result"
    }
   ],
   "source": [
    "sns.scatterplot(x=[lweg], y=[masse], ax=ax, color='red')\n",
    "ax.figure"
   ]
  },
  {
   "cell_type": "markdown",
   "id": "3134b00a",
   "metadata": {
    "slideshow": {
     "slide_type": "slide"
    }
   },
   "source": [
    "# Logistische Regression"
   ]
  },
  {
   "cell_type": "markdown",
   "id": "7ad9ecd7",
   "metadata": {
    "slideshow": {
     "slide_type": "slide"
    }
   },
   "source": [
    "* Wenn die abhängige Variable nur die Werte 0 und 1 annehmen kann, kann eine logistische Regression durchgeführt werden"
   ]
  },
  {
   "cell_type": "code",
   "execution_count": 11,
   "id": "277c8ca4",
   "metadata": {},
   "outputs": [
    {
     "data": {
      "text/html": [
       "<div>\n",
       "<style scoped>\n",
       "    .dataframe tbody tr th:only-of-type {\n",
       "        vertical-align: middle;\n",
       "    }\n",
       "\n",
       "    .dataframe tbody tr th {\n",
       "        vertical-align: top;\n",
       "    }\n",
       "\n",
       "    .dataframe thead th {\n",
       "        text-align: right;\n",
       "    }\n",
       "</style>\n",
       "<table border=\"1\" class=\"dataframe\">\n",
       "  <thead>\n",
       "    <tr style=\"text-align: right;\">\n",
       "      <th></th>\n",
       "      <th>survived</th>\n",
       "      <th>pclass</th>\n",
       "      <th>sex</th>\n",
       "      <th>age</th>\n",
       "      <th>sibsp</th>\n",
       "      <th>parch</th>\n",
       "      <th>fare</th>\n",
       "      <th>embarked</th>\n",
       "      <th>class</th>\n",
       "      <th>who</th>\n",
       "      <th>adult_male</th>\n",
       "      <th>deck</th>\n",
       "      <th>embark_town</th>\n",
       "      <th>alive</th>\n",
       "      <th>alone</th>\n",
       "    </tr>\n",
       "  </thead>\n",
       "  <tbody>\n",
       "    <tr>\n",
       "      <th>0</th>\n",
       "      <td>0</td>\n",
       "      <td>3</td>\n",
       "      <td>male</td>\n",
       "      <td>22.0</td>\n",
       "      <td>1</td>\n",
       "      <td>0</td>\n",
       "      <td>7.2500</td>\n",
       "      <td>S</td>\n",
       "      <td>Third</td>\n",
       "      <td>man</td>\n",
       "      <td>True</td>\n",
       "      <td>NaN</td>\n",
       "      <td>Southampton</td>\n",
       "      <td>no</td>\n",
       "      <td>False</td>\n",
       "    </tr>\n",
       "    <tr>\n",
       "      <th>1</th>\n",
       "      <td>1</td>\n",
       "      <td>1</td>\n",
       "      <td>female</td>\n",
       "      <td>38.0</td>\n",
       "      <td>1</td>\n",
       "      <td>0</td>\n",
       "      <td>71.2833</td>\n",
       "      <td>C</td>\n",
       "      <td>First</td>\n",
       "      <td>woman</td>\n",
       "      <td>False</td>\n",
       "      <td>C</td>\n",
       "      <td>Cherbourg</td>\n",
       "      <td>yes</td>\n",
       "      <td>False</td>\n",
       "    </tr>\n",
       "    <tr>\n",
       "      <th>2</th>\n",
       "      <td>1</td>\n",
       "      <td>3</td>\n",
       "      <td>female</td>\n",
       "      <td>26.0</td>\n",
       "      <td>0</td>\n",
       "      <td>0</td>\n",
       "      <td>7.9250</td>\n",
       "      <td>S</td>\n",
       "      <td>Third</td>\n",
       "      <td>woman</td>\n",
       "      <td>False</td>\n",
       "      <td>NaN</td>\n",
       "      <td>Southampton</td>\n",
       "      <td>yes</td>\n",
       "      <td>True</td>\n",
       "    </tr>\n",
       "    <tr>\n",
       "      <th>3</th>\n",
       "      <td>1</td>\n",
       "      <td>1</td>\n",
       "      <td>female</td>\n",
       "      <td>35.0</td>\n",
       "      <td>1</td>\n",
       "      <td>0</td>\n",
       "      <td>53.1000</td>\n",
       "      <td>S</td>\n",
       "      <td>First</td>\n",
       "      <td>woman</td>\n",
       "      <td>False</td>\n",
       "      <td>C</td>\n",
       "      <td>Southampton</td>\n",
       "      <td>yes</td>\n",
       "      <td>False</td>\n",
       "    </tr>\n",
       "    <tr>\n",
       "      <th>4</th>\n",
       "      <td>0</td>\n",
       "      <td>3</td>\n",
       "      <td>male</td>\n",
       "      <td>35.0</td>\n",
       "      <td>0</td>\n",
       "      <td>0</td>\n",
       "      <td>8.0500</td>\n",
       "      <td>S</td>\n",
       "      <td>Third</td>\n",
       "      <td>man</td>\n",
       "      <td>True</td>\n",
       "      <td>NaN</td>\n",
       "      <td>Southampton</td>\n",
       "      <td>no</td>\n",
       "      <td>True</td>\n",
       "    </tr>\n",
       "  </tbody>\n",
       "</table>\n",
       "</div>"
      ],
      "text/plain": [
       "   survived  pclass     sex   age  sibsp  parch     fare embarked  class  \\\n",
       "0         0       3    male  22.0      1      0   7.2500        S  Third   \n",
       "1         1       1  female  38.0      1      0  71.2833        C  First   \n",
       "2         1       3  female  26.0      0      0   7.9250        S  Third   \n",
       "3         1       1  female  35.0      1      0  53.1000        S  First   \n",
       "4         0       3    male  35.0      0      0   8.0500        S  Third   \n",
       "\n",
       "     who  adult_male deck  embark_town alive  alone  \n",
       "0    man        True  NaN  Southampton    no  False  \n",
       "1  woman       False    C    Cherbourg   yes  False  \n",
       "2  woman       False  NaN  Southampton   yes   True  \n",
       "3  woman       False    C  Southampton   yes  False  \n",
       "4    man        True  NaN  Southampton    no   True  "
      ]
     },
     "execution_count": 11,
     "metadata": {},
     "output_type": "execute_result"
    }
   ],
   "source": [
    "df = sns.load_dataset('titanic')\n",
    "df.head()"
   ]
  },
  {
   "cell_type": "code",
   "execution_count": 12,
   "id": "92a40ad2",
   "metadata": {},
   "outputs": [],
   "source": [
    "formula = \"survived ~ sex + age + embark_town + C(pclass)\""
   ]
  },
  {
   "cell_type": "markdown",
   "id": "f5ce6cba",
   "metadata": {
    "slideshow": {
     "slide_type": "fragment"
    }
   },
   "source": [
    "* `pclass` wird durch eine Zahl angegeben\n",
    "* `C(pclass)` bedeutet, dass diese Variable trotzdem kategoriell verstanden werden soll\n"
   ]
  },
  {
   "cell_type": "code",
   "execution_count": 14,
   "id": "da24f444",
   "metadata": {
    "slideshow": {
     "slide_type": "slide"
    }
   },
   "outputs": [
    {
     "name": "stdout",
     "output_type": "stream",
     "text": [
      "Optimization terminated successfully.\n",
      "         Current function value: 0.451318\n",
      "         Iterations 6\n"
     ]
    }
   ],
   "source": [
    "modell = smf.logit(formula, df)\n",
    "res = modell.fit()"
   ]
  },
  {
   "cell_type": "markdown",
   "id": "25aaaad9",
   "metadata": {
    "slideshow": {
     "slide_type": "fragment"
    }
   },
   "source": [
    "* Im Gegensatz zu `smf.ols` ist `smf.logit` nichtlinear\n",
    "* Im Hintergrung läuft ein nichtlineares Optimierungsprogramm ab\n",
    "* Wir sehen die Statusmeldung des Optimierungsprogramms"
   ]
  },
  {
   "cell_type": "code",
   "execution_count": 15,
   "id": "6c645695",
   "metadata": {
    "slideshow": {
     "slide_type": "slide"
    }
   },
   "outputs": [
    {
     "data": {
      "text/html": [
       "<table class=\"simpletable\">\n",
       "<caption>Logit Regression Results</caption>\n",
       "<tr>\n",
       "  <th>Dep. Variable:</th>       <td>survived</td>     <th>  No. Observations:  </th>  <td>   712</td>  \n",
       "</tr>\n",
       "<tr>\n",
       "  <th>Model:</th>                 <td>Logit</td>      <th>  Df Residuals:      </th>  <td>   705</td>  \n",
       "</tr>\n",
       "<tr>\n",
       "  <th>Method:</th>                 <td>MLE</td>       <th>  Df Model:          </th>  <td>     6</td>  \n",
       "</tr>\n",
       "<tr>\n",
       "  <th>Date:</th>            <td>Tue, 08 Jul 2025</td> <th>  Pseudo R-squ.:     </th>  <td>0.3312</td>  \n",
       "</tr>\n",
       "<tr>\n",
       "  <th>Time:</th>                <td>09:54:31</td>     <th>  Log-Likelihood:    </th> <td> -321.34</td> \n",
       "</tr>\n",
       "<tr>\n",
       "  <th>converged:</th>             <td>True</td>       <th>  LL-Null:           </th> <td> -480.45</td> \n",
       "</tr>\n",
       "<tr>\n",
       "  <th>Covariance Type:</th>     <td>nonrobust</td>    <th>  LLR p-value:       </th> <td>1.013e-65</td>\n",
       "</tr>\n",
       "</table>\n",
       "<table class=\"simpletable\">\n",
       "<tr>\n",
       "               <td></td>                 <th>coef</th>     <th>std err</th>      <th>z</th>      <th>P>|z|</th>  <th>[0.025</th>    <th>0.975]</th>  \n",
       "</tr>\n",
       "<tr>\n",
       "  <th>Intercept</th>                  <td>    4.0368</td> <td>    0.431</td> <td>    9.371</td> <td> 0.000</td> <td>    3.193</td> <td>    4.881</td>\n",
       "</tr>\n",
       "<tr>\n",
       "  <th>sex[T.male]</th>                <td>   -2.5158</td> <td>    0.209</td> <td>  -12.020</td> <td> 0.000</td> <td>   -2.926</td> <td>   -2.106</td>\n",
       "</tr>\n",
       "<tr>\n",
       "  <th>embark_town[T.Queenstown]</th>  <td>   -0.8142</td> <td>    0.568</td> <td>   -1.434</td> <td> 0.152</td> <td>   -1.927</td> <td>    0.299</td>\n",
       "</tr>\n",
       "<tr>\n",
       "  <th>embark_town[T.Southampton]</th> <td>   -0.4937</td> <td>    0.267</td> <td>   -1.850</td> <td> 0.064</td> <td>   -1.017</td> <td>    0.029</td>\n",
       "</tr>\n",
       "<tr>\n",
       "  <th>C(pclass)[T.2]</th>             <td>   -1.1446</td> <td>    0.291</td> <td>   -3.938</td> <td> 0.000</td> <td>   -1.714</td> <td>   -0.575</td>\n",
       "</tr>\n",
       "<tr>\n",
       "  <th>C(pclass)[T.3]</th>             <td>   -2.4096</td> <td>    0.291</td> <td>   -8.275</td> <td> 0.000</td> <td>   -2.980</td> <td>   -1.839</td>\n",
       "</tr>\n",
       "<tr>\n",
       "  <th>age</th>                        <td>   -0.0361</td> <td>    0.008</td> <td>   -4.677</td> <td> 0.000</td> <td>   -0.051</td> <td>   -0.021</td>\n",
       "</tr>\n",
       "</table>"
      ],
      "text/latex": [
       "\\begin{center}\n",
       "\\begin{tabular}{lclc}\n",
       "\\toprule\n",
       "\\textbf{Dep. Variable:}              &     survived     & \\textbf{  No. Observations:  } &      712    \\\\\n",
       "\\textbf{Model:}                      &      Logit       & \\textbf{  Df Residuals:      } &      705    \\\\\n",
       "\\textbf{Method:}                     &       MLE        & \\textbf{  Df Model:          } &        6    \\\\\n",
       "\\textbf{Date:}                       & Tue, 08 Jul 2025 & \\textbf{  Pseudo R-squ.:     } &   0.3312    \\\\\n",
       "\\textbf{Time:}                       &     09:54:31     & \\textbf{  Log-Likelihood:    } &   -321.34   \\\\\n",
       "\\textbf{converged:}                  &       True       & \\textbf{  LL-Null:           } &   -480.45   \\\\\n",
       "\\textbf{Covariance Type:}            &    nonrobust     & \\textbf{  LLR p-value:       } & 1.013e-65   \\\\\n",
       "\\bottomrule\n",
       "\\end{tabular}\n",
       "\\begin{tabular}{lcccccc}\n",
       "                                     & \\textbf{coef} & \\textbf{std err} & \\textbf{z} & \\textbf{P$> |$z$|$} & \\textbf{[0.025} & \\textbf{0.975]}  \\\\\n",
       "\\midrule\n",
       "\\textbf{Intercept}                   &       4.0368  &        0.431     &     9.371  &         0.000        &        3.193    &        4.881     \\\\\n",
       "\\textbf{sex[T.male]}                 &      -2.5158  &        0.209     &   -12.020  &         0.000        &       -2.926    &       -2.106     \\\\\n",
       "\\textbf{embark\\_town[T.Queenstown]}  &      -0.8142  &        0.568     &    -1.434  &         0.152        &       -1.927    &        0.299     \\\\\n",
       "\\textbf{embark\\_town[T.Southampton]} &      -0.4937  &        0.267     &    -1.850  &         0.064        &       -1.017    &        0.029     \\\\\n",
       "\\textbf{C(pclass)[T.2]}              &      -1.1446  &        0.291     &    -3.938  &         0.000        &       -1.714    &       -0.575     \\\\\n",
       "\\textbf{C(pclass)[T.3]}              &      -2.4096  &        0.291     &    -8.275  &         0.000        &       -2.980    &       -1.839     \\\\\n",
       "\\textbf{age}                         &      -0.0361  &        0.008     &    -4.677  &         0.000        &       -0.051    &       -0.021     \\\\\n",
       "\\bottomrule\n",
       "\\end{tabular}\n",
       "%\\caption{Logit Regression Results}\n",
       "\\end{center}"
      ],
      "text/plain": [
       "<class 'statsmodels.iolib.summary.Summary'>\n",
       "\"\"\"\n",
       "                           Logit Regression Results                           \n",
       "==============================================================================\n",
       "Dep. Variable:               survived   No. Observations:                  712\n",
       "Model:                          Logit   Df Residuals:                      705\n",
       "Method:                           MLE   Df Model:                            6\n",
       "Date:                Tue, 08 Jul 2025   Pseudo R-squ.:                  0.3312\n",
       "Time:                        09:54:31   Log-Likelihood:                -321.34\n",
       "converged:                       True   LL-Null:                       -480.45\n",
       "Covariance Type:            nonrobust   LLR p-value:                 1.013e-65\n",
       "==============================================================================================\n",
       "                                 coef    std err          z      P>|z|      [0.025      0.975]\n",
       "----------------------------------------------------------------------------------------------\n",
       "Intercept                      4.0368      0.431      9.371      0.000       3.193       4.881\n",
       "sex[T.male]                   -2.5158      0.209    -12.020      0.000      -2.926      -2.106\n",
       "embark_town[T.Queenstown]     -0.8142      0.568     -1.434      0.152      -1.927       0.299\n",
       "embark_town[T.Southampton]    -0.4937      0.267     -1.850      0.064      -1.017       0.029\n",
       "C(pclass)[T.2]                -1.1446      0.291     -3.938      0.000      -1.714      -0.575\n",
       "C(pclass)[T.3]                -2.4096      0.291     -8.275      0.000      -2.980      -1.839\n",
       "age                           -0.0361      0.008     -4.677      0.000      -0.051      -0.021\n",
       "==============================================================================================\n",
       "\"\"\""
      ]
     },
     "execution_count": 15,
     "metadata": {},
     "output_type": "execute_result"
    }
   ],
   "source": [
    "res.summary()"
   ]
  },
  {
   "cell_type": "code",
   "execution_count": 16,
   "id": "19d63e0a",
   "metadata": {
    "slideshow": {
     "slide_type": "slide"
    }
   },
   "outputs": [
    {
     "data": {
      "text/html": [
       "<div>\n",
       "<style scoped>\n",
       "    .dataframe tbody tr th:only-of-type {\n",
       "        vertical-align: middle;\n",
       "    }\n",
       "\n",
       "    .dataframe tbody tr th {\n",
       "        vertical-align: top;\n",
       "    }\n",
       "\n",
       "    .dataframe thead th {\n",
       "        text-align: right;\n",
       "    }\n",
       "</style>\n",
       "<table border=\"1\" class=\"dataframe\">\n",
       "  <thead>\n",
       "    <tr style=\"text-align: right;\">\n",
       "      <th></th>\n",
       "      <th>sex</th>\n",
       "      <th>embark_town</th>\n",
       "      <th>age</th>\n",
       "      <th>pclass</th>\n",
       "    </tr>\n",
       "  </thead>\n",
       "  <tbody>\n",
       "    <tr>\n",
       "      <th>0</th>\n",
       "      <td>male</td>\n",
       "      <td>Southampton</td>\n",
       "      <td>35</td>\n",
       "      <td>1</td>\n",
       "    </tr>\n",
       "    <tr>\n",
       "      <th>1</th>\n",
       "      <td>male</td>\n",
       "      <td>Southampton</td>\n",
       "      <td>45</td>\n",
       "      <td>2</td>\n",
       "    </tr>\n",
       "    <tr>\n",
       "      <th>2</th>\n",
       "      <td>female</td>\n",
       "      <td>Southampton</td>\n",
       "      <td>45</td>\n",
       "      <td>3</td>\n",
       "    </tr>\n",
       "  </tbody>\n",
       "</table>\n",
       "</div>"
      ],
      "text/plain": [
       "      sex  embark_town  age  pclass\n",
       "0    male  Southampton   35       1\n",
       "1    male  Southampton   45       2\n",
       "2  female  Southampton   45       3"
      ]
     },
     "execution_count": 16,
     "metadata": {},
     "output_type": "execute_result"
    }
   ],
   "source": [
    "anfrage = pd.DataFrame()\n",
    "anfrage['sex'] = ['male', 'male', 'female']\n",
    "anfrage['embark_town'] = ['Southampton', 'Southampton', 'Southampton']\n",
    "anfrage['age'] = [35, 45, 45]\n",
    "anfrage['pclass'] = [1,2,3]\n",
    "anfrage"
   ]
  },
  {
   "cell_type": "code",
   "execution_count": 17,
   "id": "6bc91979",
   "metadata": {},
   "outputs": [
    {
     "data": {
      "text/html": [
       "<div>\n",
       "<style scoped>\n",
       "    .dataframe tbody tr th:only-of-type {\n",
       "        vertical-align: middle;\n",
       "    }\n",
       "\n",
       "    .dataframe tbody tr th {\n",
       "        vertical-align: top;\n",
       "    }\n",
       "\n",
       "    .dataframe thead th {\n",
       "        text-align: right;\n",
       "    }\n",
       "</style>\n",
       "<table border=\"1\" class=\"dataframe\">\n",
       "  <thead>\n",
       "    <tr style=\"text-align: right;\">\n",
       "      <th></th>\n",
       "      <th>predicted</th>\n",
       "      <th>se</th>\n",
       "      <th>ci_lower</th>\n",
       "      <th>ci_upper</th>\n",
       "    </tr>\n",
       "  </thead>\n",
       "  <tbody>\n",
       "    <tr>\n",
       "      <th>0</th>\n",
       "      <td>0.441399</td>\n",
       "      <td>0.054207</td>\n",
       "      <td>0.339307</td>\n",
       "      <td>0.548697</td>\n",
       "    </tr>\n",
       "    <tr>\n",
       "      <th>1</th>\n",
       "      <td>0.149196</td>\n",
       "      <td>0.030443</td>\n",
       "      <td>0.098769</td>\n",
       "      <td>0.219110</td>\n",
       "    </tr>\n",
       "    <tr>\n",
       "      <th>2</th>\n",
       "      <td>0.379875</td>\n",
       "      <td>0.059188</td>\n",
       "      <td>0.272391</td>\n",
       "      <td>0.500592</td>\n",
       "    </tr>\n",
       "  </tbody>\n",
       "</table>\n",
       "</div>"
      ],
      "text/plain": [
       "   predicted        se  ci_lower  ci_upper\n",
       "0   0.441399  0.054207  0.339307  0.548697\n",
       "1   0.149196  0.030443  0.098769  0.219110\n",
       "2   0.379875  0.059188  0.272391  0.500592"
      ]
     },
     "execution_count": 17,
     "metadata": {},
     "output_type": "execute_result"
    }
   ],
   "source": [
    "res.get_prediction(anfrage).summary_frame()"
   ]
  },
  {
   "cell_type": "markdown",
   "id": "75521f55",
   "metadata": {
    "slideshow": {
     "slide_type": "slide"
    }
   },
   "source": [
    "### Beispiel Klausurergebnis und Übungspunkte\n",
    "\n",
    "* Die Zielvariable ist ein Klausurergebnis: bestanden ja (=1) und nein (=0)\n",
    "* Die Zielvariable ist kategoriell\n",
    "* muss aber als 0 und 1 kodiert sein\n",
    "* Erklärende Variablen können quantitativ oder kategoriell sein"
   ]
  },
  {
   "cell_type": "markdown",
   "id": "95fefcbf",
   "metadata": {
    "slideshow": {
     "slide_type": "fragment"
    }
   },
   "source": [
    "* im Beispiel:  In die Klausur eingebrachte Übungspunkte `ksp`\n",
    "* quantitativ von 0 bis 6"
   ]
  },
  {
   "cell_type": "code",
   "execution_count": 18,
   "id": "e164f230",
   "metadata": {
    "slideshow": {
     "slide_type": "-"
    }
   },
   "outputs": [
    {
     "data": {
      "text/html": [
       "<div>\n",
       "<style scoped>\n",
       "    .dataframe tbody tr th:only-of-type {\n",
       "        vertical-align: middle;\n",
       "    }\n",
       "\n",
       "    .dataframe tbody tr th {\n",
       "        vertical-align: top;\n",
       "    }\n",
       "\n",
       "    .dataframe thead th {\n",
       "        text-align: right;\n",
       "    }\n",
       "</style>\n",
       "<table border=\"1\" class=\"dataframe\">\n",
       "  <thead>\n",
       "    <tr style=\"text-align: right;\">\n",
       "      <th></th>\n",
       "      <th>bestanden</th>\n",
       "      <th>ksp</th>\n",
       "    </tr>\n",
       "  </thead>\n",
       "  <tbody>\n",
       "    <tr>\n",
       "      <th>0</th>\n",
       "      <td>1</td>\n",
       "      <td>6.0</td>\n",
       "    </tr>\n",
       "    <tr>\n",
       "      <th>1</th>\n",
       "      <td>1</td>\n",
       "      <td>6.0</td>\n",
       "    </tr>\n",
       "    <tr>\n",
       "      <th>2</th>\n",
       "      <td>1</td>\n",
       "      <td>6.0</td>\n",
       "    </tr>\n",
       "    <tr>\n",
       "      <th>3</th>\n",
       "      <td>1</td>\n",
       "      <td>6.0</td>\n",
       "    </tr>\n",
       "    <tr>\n",
       "      <th>4</th>\n",
       "      <td>0</td>\n",
       "      <td>5.0</td>\n",
       "    </tr>\n",
       "  </tbody>\n",
       "</table>\n",
       "</div>"
      ],
      "text/plain": [
       "   bestanden  ksp\n",
       "0          1  6.0\n",
       "1          1  6.0\n",
       "2          1  6.0\n",
       "3          1  6.0\n",
       "4          0  5.0"
      ]
     },
     "execution_count": 18,
     "metadata": {},
     "output_type": "execute_result"
    }
   ],
   "source": [
    "df = pd.read_csv('bsp_logit.csv')\n",
    "df.head()"
   ]
  },
  {
   "cell_type": "code",
   "execution_count": 19,
   "id": "d10ad75c",
   "metadata": {
    "slideshow": {
     "slide_type": "slide"
    }
   },
   "outputs": [
    {
     "name": "stdout",
     "output_type": "stream",
     "text": [
      "Optimization terminated successfully.\n",
      "         Current function value: 0.561591\n",
      "         Iterations 5\n"
     ]
    }
   ],
   "source": [
    "formel = \"bestanden ~ ksp\"\n",
    "modell = smf.logit(formel, df)\n",
    "res = modell.fit()"
   ]
  },
  {
   "cell_type": "code",
   "execution_count": 20,
   "id": "3e09d9af",
   "metadata": {
    "slideshow": {
     "slide_type": "slide"
    }
   },
   "outputs": [
    {
     "data": {
      "text/html": [
       "<table class=\"simpletable\">\n",
       "<caption>Logit Regression Results</caption>\n",
       "<tr>\n",
       "  <th>Dep. Variable:</th>       <td>bestanden</td>    <th>  No. Observations:  </th>  <td>   138</td>  \n",
       "</tr>\n",
       "<tr>\n",
       "  <th>Model:</th>                 <td>Logit</td>      <th>  Df Residuals:      </th>  <td>   136</td>  \n",
       "</tr>\n",
       "<tr>\n",
       "  <th>Method:</th>                 <td>MLE</td>       <th>  Df Model:          </th>  <td>     1</td>  \n",
       "</tr>\n",
       "<tr>\n",
       "  <th>Date:</th>            <td>Tue, 08 Jul 2025</td> <th>  Pseudo R-squ.:     </th>  <td>0.08611</td> \n",
       "</tr>\n",
       "<tr>\n",
       "  <th>Time:</th>                <td>10:01:41</td>     <th>  Log-Likelihood:    </th> <td> -77.500</td> \n",
       "</tr>\n",
       "<tr>\n",
       "  <th>converged:</th>             <td>True</td>       <th>  LL-Null:           </th> <td> -84.801</td> \n",
       "</tr>\n",
       "<tr>\n",
       "  <th>Covariance Type:</th>     <td>nonrobust</td>    <th>  LLR p-value:       </th> <td>0.0001327</td>\n",
       "</tr>\n",
       "</table>\n",
       "<table class=\"simpletable\">\n",
       "<tr>\n",
       "      <td></td>         <th>coef</th>     <th>std err</th>      <th>z</th>      <th>P>|z|</th>  <th>[0.025</th>    <th>0.975]</th>  \n",
       "</tr>\n",
       "<tr>\n",
       "  <th>Intercept</th> <td>   -1.3669</td> <td>    0.646</td> <td>   -2.116</td> <td> 0.034</td> <td>   -2.633</td> <td>   -0.101</td>\n",
       "</tr>\n",
       "<tr>\n",
       "  <th>ksp</th>       <td>    0.4331</td> <td>    0.121</td> <td>    3.572</td> <td> 0.000</td> <td>    0.195</td> <td>    0.671</td>\n",
       "</tr>\n",
       "</table>"
      ],
      "text/latex": [
       "\\begin{center}\n",
       "\\begin{tabular}{lclc}\n",
       "\\toprule\n",
       "\\textbf{Dep. Variable:}   &    bestanden     & \\textbf{  No. Observations:  } &      138    \\\\\n",
       "\\textbf{Model:}           &      Logit       & \\textbf{  Df Residuals:      } &      136    \\\\\n",
       "\\textbf{Method:}          &       MLE        & \\textbf{  Df Model:          } &        1    \\\\\n",
       "\\textbf{Date:}            & Tue, 08 Jul 2025 & \\textbf{  Pseudo R-squ.:     } &  0.08611    \\\\\n",
       "\\textbf{Time:}            &     10:01:41     & \\textbf{  Log-Likelihood:    } &   -77.500   \\\\\n",
       "\\textbf{converged:}       &       True       & \\textbf{  LL-Null:           } &   -84.801   \\\\\n",
       "\\textbf{Covariance Type:} &    nonrobust     & \\textbf{  LLR p-value:       } & 0.0001327   \\\\\n",
       "\\bottomrule\n",
       "\\end{tabular}\n",
       "\\begin{tabular}{lcccccc}\n",
       "                   & \\textbf{coef} & \\textbf{std err} & \\textbf{z} & \\textbf{P$> |$z$|$} & \\textbf{[0.025} & \\textbf{0.975]}  \\\\\n",
       "\\midrule\n",
       "\\textbf{Intercept} &      -1.3669  &        0.646     &    -2.116  &         0.034        &       -2.633    &       -0.101     \\\\\n",
       "\\textbf{ksp}       &       0.4331  &        0.121     &     3.572  &         0.000        &        0.195    &        0.671     \\\\\n",
       "\\bottomrule\n",
       "\\end{tabular}\n",
       "%\\caption{Logit Regression Results}\n",
       "\\end{center}"
      ],
      "text/plain": [
       "<class 'statsmodels.iolib.summary.Summary'>\n",
       "\"\"\"\n",
       "                           Logit Regression Results                           \n",
       "==============================================================================\n",
       "Dep. Variable:              bestanden   No. Observations:                  138\n",
       "Model:                          Logit   Df Residuals:                      136\n",
       "Method:                           MLE   Df Model:                            1\n",
       "Date:                Tue, 08 Jul 2025   Pseudo R-squ.:                 0.08611\n",
       "Time:                        10:01:41   Log-Likelihood:                -77.500\n",
       "converged:                       True   LL-Null:                       -84.801\n",
       "Covariance Type:            nonrobust   LLR p-value:                 0.0001327\n",
       "==============================================================================\n",
       "                 coef    std err          z      P>|z|      [0.025      0.975]\n",
       "------------------------------------------------------------------------------\n",
       "Intercept     -1.3669      0.646     -2.116      0.034      -2.633      -0.101\n",
       "ksp            0.4331      0.121      3.572      0.000       0.195       0.671\n",
       "==============================================================================\n",
       "\"\"\""
      ]
     },
     "execution_count": 20,
     "metadata": {},
     "output_type": "execute_result"
    }
   ],
   "source": [
    "res.summary()"
   ]
  },
  {
   "cell_type": "markdown",
   "id": "7ad2bd7b",
   "metadata": {
    "slideshow": {
     "slide_type": "fragment"
    }
   },
   "source": [
    "* Der Einfluss der Übungspunkte auf das Klausurergebnis ist hochsignifikant"
   ]
  },
  {
   "cell_type": "code",
   "execution_count": 23,
   "id": "12853163",
   "metadata": {
    "slideshow": {
     "slide_type": "slide"
    }
   },
   "outputs": [
    {
     "data": {
      "image/png": "[encoded data removed]",
      "text/plain": [
       "<Figure size 640x480 with 1 Axes>"
      ]
     },
     "metadata": {},
     "output_type": "display_data"
    }
   ],
   "source": [
    "anfrage = pd.DataFrame()\n",
    "anfrage['ksp'] = np.linspace(0, 6, 50)\n",
    "sns.lineplot(x=anfrage.ksp, y=res.get_prediction(anfrage).summary_frame()['predicted']);"
   ]
  },
  {
   "cell_type": "markdown",
   "id": "5c05c828",
   "metadata": {
    "slideshow": {
     "slide_type": "slide"
    }
   },
   "source": [
    "Wir sehen nur einen kleinen Ausschnitt aus der logistischen Kurve.  Wir ergänzen den Datenbereich der erklärenden Daten um unsinnige Werte, um die Gestalt der logistische Kurve zu zeigen"
   ]
  },
  {
   "cell_type": "code",
   "execution_count": 24,
   "id": "a194dab2",
   "metadata": {},
   "outputs": [
    {
     "data": {
      "image/png": "[encoded data removed]",
      "text/plain": [
       "<Figure size 640x480 with 1 Axes>"
      ]
     },
     "metadata": {},
     "output_type": "display_data"
    }
   ],
   "source": [
    "anfrage = pd.DataFrame()\n",
    "anfrage['ksp'] = np.linspace(-15, 20, 150)\n",
    "sns.lineplot(x=anfrage.ksp, y=res.get_prediction(anfrage).summary_frame()['predicted']);"
   ]
  },
  {
   "cell_type": "markdown",
   "id": "3c215b13",
   "metadata": {
    "slideshow": {
     "slide_type": "slide"
    }
   },
   "source": [
    "* Die logistische Kurve ist \n",
    "$$\n",
    "    y = \\frac1{1+e^{-b - m \\cdot x}}\n",
    "$$\n",
    "* Logistische Regression findet die optimale Annäherung an die Datenpunkte durch eine logistische Kurve"
   ]
  },
  {
   "cell_type": "markdown",
   "id": "62864fb9",
   "metadata": {
    "slideshow": {
     "slide_type": "slide"
    }
   },
   "source": [
    "jitter: Verwackeln der Datenpunkte, damit sich mehrere Punkte beim scatterplot nicht gegenseitig verdecken"
   ]
  },
  {
   "cell_type": "code",
   "execution_count": 27,
   "id": "5e36aadf",
   "metadata": {},
   "outputs": [
    {
     "data": {
      "image/png": "[encoded data removed]",
      "text/plain": [
       "<Figure size 640x480 with 1 Axes>"
      ]
     },
     "metadata": {},
     "output_type": "display_data"
    }
   ],
   "source": [
    "sns.regplot(df, x='ksp', y='bestanden', logistic=True, y_jitter=0.08, x_jitter=0.2);"
   ]
  },
  {
   "cell_type": "markdown",
   "id": "89688bdd",
   "metadata": {
    "slideshow": {
     "slide_type": "slide"
    }
   },
   "source": [
    "# Nächste Woche Probeklausur\n",
    "\n",
    "* am Sonntag Abend werden auf https://www.math.uni-duesseldorf.de/~internet/bio2425 Aufgaben veröffentlicht\n",
    "* lösen Sie diese zuhause\n",
    "* am 15.07.2025 bespreche ich die Lösungen\n",
    "* bereiten Sie sich darauf vor, Fragen zu stellen\n",
    "* ob Sie jetzt schon alles gekonnt hätten, ist zu diesem Zeitpunkt nicht so wichtig"
   ]
  }
 ],
 "metadata": {
  "celltoolbar": "Slideshow",
  "kernelspec": {
   "display_name": "Python 3 (ipykernel)",
   "language": "python",
   "name": "python3"
  },
  "language_info": {
   "codemirror_mode": {
    "name": "ipython",
    "version": 3
   },
   "file_extension": ".py",
   "mimetype": "text/x-python",
   "name": "python",
   "nbconvert_exporter": "python",
   "pygments_lexer": "ipython3",
   "version": "3.12.7"
  }
 },
 "nbformat": 4,
 "nbformat_minor": 5
}
