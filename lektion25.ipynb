{
 "cells": [
  {
   "cell_type": "markdown",
   "id": "14e2c18d",
   "metadata": {
    "slideshow": {
     "slide_type": "slide"
    }
   },
   "source": [
    "# Mathematik für Biologiestudierende II\n",
    "\n",
    "Sommersemester 2025\n",
    "\n",
    "17.06.2025\n",
    "\n",
    "&copy; 2025 Prof. Dr. Rüdiger W. Braun "
   ]
  },
  {
   "cell_type": "markdown",
   "id": "899ed73e",
   "metadata": {
    "slideshow": {
     "slide_type": "slide"
    }
   },
   "source": [
    "# Themen\n",
    "\n"
   ]
  },
  {
   "cell_type": "code",
   "execution_count": 1,
   "id": "8b9b1d6a",
   "metadata": {
    "slideshow": {
     "slide_type": "slide"
    }
   },
   "outputs": [],
   "source": [
    "import numpy as np\n",
    "np.set_printoptions(legacy='1.21')\n",
    "import pandas as pd\n",
    "from scipy import stats\n",
    "import seaborn as sns\n",
    "sns.set_theme()\n",
    "import statsmodels.formula.api as smf"
   ]
  },
  {
   "cell_type": "markdown",
   "id": "c7e88569",
   "metadata": {
    "slideshow": {
     "slide_type": "slide"
    }
   },
   "source": [
    "# Vorhersagen (prediction)"
   ]
  },
  {
   "cell_type": "code",
   "execution_count": 2,
   "id": "550bb2f5",
   "metadata": {
    "slideshow": {
     "slide_type": "slide"
    }
   },
   "outputs": [
    {
     "data": {
      "text/html": [
       "<div>\n",
       "<style scoped>\n",
       "    .dataframe tbody tr th:only-of-type {\n",
       "        vertical-align: middle;\n",
       "    }\n",
       "\n",
       "    .dataframe tbody tr th {\n",
       "        vertical-align: top;\n",
       "    }\n",
       "\n",
       "    .dataframe thead th {\n",
       "        text-align: right;\n",
       "    }\n",
       "</style>\n",
       "<table border=\"1\" class=\"dataframe\">\n",
       "  <thead>\n",
       "    <tr style=\"text-align: right;\">\n",
       "      <th></th>\n",
       "      <th>Alter</th>\n",
       "      <th>Blutdruck</th>\n",
       "      <th>Größe</th>\n",
       "    </tr>\n",
       "  </thead>\n",
       "  <tbody>\n",
       "    <tr>\n",
       "      <th>count</th>\n",
       "      <td>30.000000</td>\n",
       "      <td>30.000000</td>\n",
       "      <td>30.000000</td>\n",
       "    </tr>\n",
       "    <tr>\n",
       "      <th>mean</th>\n",
       "      <td>44.800000</td>\n",
       "      <td>147.933333</td>\n",
       "      <td>176.373333</td>\n",
       "    </tr>\n",
       "    <tr>\n",
       "      <th>std</th>\n",
       "      <td>15.202994</td>\n",
       "      <td>27.391080</td>\n",
       "      <td>5.349504</td>\n",
       "    </tr>\n",
       "    <tr>\n",
       "      <th>min</th>\n",
       "      <td>17.000000</td>\n",
       "      <td>108.000000</td>\n",
       "      <td>165.300000</td>\n",
       "    </tr>\n",
       "    <tr>\n",
       "      <th>25%</th>\n",
       "      <td>37.250000</td>\n",
       "      <td>125.250000</td>\n",
       "      <td>173.350000</td>\n",
       "    </tr>\n",
       "    <tr>\n",
       "      <th>50%</th>\n",
       "      <td>45.000000</td>\n",
       "      <td>144.500000</td>\n",
       "      <td>176.650000</td>\n",
       "    </tr>\n",
       "    <tr>\n",
       "      <th>75%</th>\n",
       "      <td>56.000000</td>\n",
       "      <td>173.250000</td>\n",
       "      <td>179.075000</td>\n",
       "    </tr>\n",
       "    <tr>\n",
       "      <th>max</th>\n",
       "      <td>69.000000</td>\n",
       "      <td>199.000000</td>\n",
       "      <td>189.000000</td>\n",
       "    </tr>\n",
       "  </tbody>\n",
       "</table>\n",
       "</div>"
      ],
      "text/plain": [
       "           Alter   Blutdruck       Größe\n",
       "count  30.000000   30.000000   30.000000\n",
       "mean   44.800000  147.933333  176.373333\n",
       "std    15.202994   27.391080    5.349504\n",
       "min    17.000000  108.000000  165.300000\n",
       "25%    37.250000  125.250000  173.350000\n",
       "50%    45.000000  144.500000  176.650000\n",
       "75%    56.000000  173.250000  179.075000\n",
       "max    69.000000  199.000000  189.000000"
      ]
     },
     "execution_count": 2,
     "metadata": {},
     "output_type": "execute_result"
    }
   ],
   "source": [
    "df = pd.read_csv('blutdruckdaten.csv')\n",
    "df.describe()"
   ]
  },
  {
   "cell_type": "code",
   "execution_count": 3,
   "id": "a545a4d7",
   "metadata": {},
   "outputs": [],
   "source": [
    "formel = 'Blutdruck ~ Alter'"
   ]
  },
  {
   "cell_type": "markdown",
   "id": "85437c73",
   "metadata": {
    "slideshow": {
     "slide_type": "fragment"
    }
   },
   "source": [
    "* In dieser Formel ist `Alter` die erklärende und `Blutdruck` die abhängige Variable\n",
    "* Die erklärenden Variablen heißen auch *exogen*, die abhängigen *endogen*\n",
    "* englisch:\n",
    "  * abhängig: *dependent* oder *outcome variable*\n",
    "  * erklärend:  *predictor*    "
   ]
  },
  {
   "cell_type": "markdown",
   "id": "ee3b5b6d",
   "metadata": {
    "slideshow": {
     "slide_type": "fragment"
    }
   },
   "source": [
    "[Passender Cartoon von xkcd](https://xkcd.com/3101/)"
   ]
  },
  {
   "cell_type": "code",
   "execution_count": 4,
   "id": "a92320d5",
   "metadata": {
    "slideshow": {
     "slide_type": "slide"
    }
   },
   "outputs": [
    {
     "data": {
      "text/html": [
       "<table class=\"simpletable\">\n",
       "<caption>OLS Regression Results</caption>\n",
       "<tr>\n",
       "  <th>Dep. Variable:</th>        <td>Blutdruck</td>    <th>  R-squared:         </th> <td>   0.701</td>\n",
       "</tr>\n",
       "<tr>\n",
       "  <th>Model:</th>                   <td>OLS</td>       <th>  Adj. R-squared:    </th> <td>   0.690</td>\n",
       "</tr>\n",
       "<tr>\n",
       "  <th>Method:</th>             <td>Least Squares</td>  <th>  F-statistic:       </th> <td>   65.54</td>\n",
       "</tr>\n",
       "<tr>\n",
       "  <th>Date:</th>             <td>Sun, 15 Jun 2025</td> <th>  Prob (F-statistic):</th> <td>8.17e-09</td>\n",
       "</tr>\n",
       "<tr>\n",
       "  <th>Time:</th>                 <td>11:48:23</td>     <th>  Log-Likelihood:    </th> <td> -123.27</td>\n",
       "</tr>\n",
       "<tr>\n",
       "  <th>No. Observations:</th>      <td>    30</td>      <th>  AIC:               </th> <td>   250.5</td>\n",
       "</tr>\n",
       "<tr>\n",
       "  <th>Df Residuals:</th>          <td>    28</td>      <th>  BIC:               </th> <td>   253.3</td>\n",
       "</tr>\n",
       "<tr>\n",
       "  <th>Df Model:</th>              <td>     1</td>      <th>                     </th>     <td> </td>   \n",
       "</tr>\n",
       "<tr>\n",
       "  <th>Covariance Type:</th>      <td>nonrobust</td>    <th>                     </th>     <td> </td>   \n",
       "</tr>\n",
       "</table>\n",
       "<table class=\"simpletable\">\n",
       "<tr>\n",
       "      <td></td>         <th>coef</th>     <th>std err</th>      <th>t</th>      <th>P>|t|</th>  <th>[0.025</th>    <th>0.975]</th>  \n",
       "</tr>\n",
       "<tr>\n",
       "  <th>Intercept</th> <td>   80.3697</td> <td>    8.798</td> <td>    9.135</td> <td> 0.000</td> <td>   62.348</td> <td>   98.391</td>\n",
       "</tr>\n",
       "<tr>\n",
       "  <th>Alter</th>     <td>    1.5081</td> <td>    0.186</td> <td>    8.096</td> <td> 0.000</td> <td>    1.127</td> <td>    1.890</td>\n",
       "</tr>\n",
       "</table>\n",
       "<table class=\"simpletable\">\n",
       "<tr>\n",
       "  <th>Omnibus:</th>       <td> 2.886</td> <th>  Durbin-Watson:     </th> <td>   2.401</td>\n",
       "</tr>\n",
       "<tr>\n",
       "  <th>Prob(Omnibus):</th> <td> 0.236</td> <th>  Jarque-Bera (JB):  </th> <td>   1.526</td>\n",
       "</tr>\n",
       "<tr>\n",
       "  <th>Skew:</th>          <td> 0.390</td> <th>  Prob(JB):          </th> <td>   0.466</td>\n",
       "</tr>\n",
       "<tr>\n",
       "  <th>Kurtosis:</th>      <td> 3.782</td> <th>  Cond. No.          </th> <td>    149.</td>\n",
       "</tr>\n",
       "</table><br/><br/>Notes:<br/>[1] Standard Errors assume that the covariance matrix of the errors is correctly specified."
      ],
      "text/latex": [
       "\\begin{center}\n",
       "\\begin{tabular}{lclc}\n",
       "\\toprule\n",
       "\\textbf{Dep. Variable:}    &    Blutdruck     & \\textbf{  R-squared:         } &     0.701   \\\\\n",
       "\\textbf{Model:}            &       OLS        & \\textbf{  Adj. R-squared:    } &     0.690   \\\\\n",
       "\\textbf{Method:}           &  Least Squares   & \\textbf{  F-statistic:       } &     65.54   \\\\\n",
       "\\textbf{Date:}             & Sun, 15 Jun 2025 & \\textbf{  Prob (F-statistic):} &  8.17e-09   \\\\\n",
       "\\textbf{Time:}             &     11:48:23     & \\textbf{  Log-Likelihood:    } &   -123.27   \\\\\n",
       "\\textbf{No. Observations:} &          30      & \\textbf{  AIC:               } &     250.5   \\\\\n",
       "\\textbf{Df Residuals:}     &          28      & \\textbf{  BIC:               } &     253.3   \\\\\n",
       "\\textbf{Df Model:}         &           1      & \\textbf{                     } &             \\\\\n",
       "\\textbf{Covariance Type:}  &    nonrobust     & \\textbf{                     } &             \\\\\n",
       "\\bottomrule\n",
       "\\end{tabular}\n",
       "\\begin{tabular}{lcccccc}\n",
       "                   & \\textbf{coef} & \\textbf{std err} & \\textbf{t} & \\textbf{P$> |$t$|$} & \\textbf{[0.025} & \\textbf{0.975]}  \\\\\n",
       "\\midrule\n",
       "\\textbf{Intercept} &      80.3697  &        8.798     &     9.135  &         0.000        &       62.348    &       98.391     \\\\\n",
       "\\textbf{Alter}     &       1.5081  &        0.186     &     8.096  &         0.000        &        1.127    &        1.890     \\\\\n",
       "\\bottomrule\n",
       "\\end{tabular}\n",
       "\\begin{tabular}{lclc}\n",
       "\\textbf{Omnibus:}       &  2.886 & \\textbf{  Durbin-Watson:     } &    2.401  \\\\\n",
       "\\textbf{Prob(Omnibus):} &  0.236 & \\textbf{  Jarque-Bera (JB):  } &    1.526  \\\\\n",
       "\\textbf{Skew:}          &  0.390 & \\textbf{  Prob(JB):          } &    0.466  \\\\\n",
       "\\textbf{Kurtosis:}      &  3.782 & \\textbf{  Cond. No.          } &     149.  \\\\\n",
       "\\bottomrule\n",
       "\\end{tabular}\n",
       "%\\caption{OLS Regression Results}\n",
       "\\end{center}\n",
       "\n",
       "Notes: \\newline\n",
       " [1] Standard Errors assume that the covariance matrix of the errors is correctly specified."
      ],
      "text/plain": [
       "<class 'statsmodels.iolib.summary.Summary'>\n",
       "\"\"\"\n",
       "                            OLS Regression Results                            \n",
       "==============================================================================\n",
       "Dep. Variable:              Blutdruck   R-squared:                       0.701\n",
       "Model:                            OLS   Adj. R-squared:                  0.690\n",
       "Method:                 Least Squares   F-statistic:                     65.54\n",
       "Date:                Sun, 15 Jun 2025   Prob (F-statistic):           8.17e-09\n",
       "Time:                        11:48:23   Log-Likelihood:                -123.27\n",
       "No. Observations:                  30   AIC:                             250.5\n",
       "Df Residuals:                      28   BIC:                             253.3\n",
       "Df Model:                           1                                         \n",
       "Covariance Type:            nonrobust                                         \n",
       "==============================================================================\n",
       "                 coef    std err          t      P>|t|      [0.025      0.975]\n",
       "------------------------------------------------------------------------------\n",
       "Intercept     80.3697      8.798      9.135      0.000      62.348      98.391\n",
       "Alter          1.5081      0.186      8.096      0.000       1.127       1.890\n",
       "==============================================================================\n",
       "Omnibus:                        2.886   Durbin-Watson:                   2.401\n",
       "Prob(Omnibus):                  0.236   Jarque-Bera (JB):                1.526\n",
       "Skew:                           0.390   Prob(JB):                        0.466\n",
       "Kurtosis:                       3.782   Cond. No.                         149.\n",
       "==============================================================================\n",
       "\n",
       "Notes:\n",
       "[1] Standard Errors assume that the covariance matrix of the errors is correctly specified.\n",
       "\"\"\""
      ]
     },
     "execution_count": 4,
     "metadata": {},
     "output_type": "execute_result"
    }
   ],
   "source": [
    "modell = smf.ols(formel, df)\n",
    "res = modell.fit()\n",
    "res.summary()"
   ]
  },
  {
   "cell_type": "markdown",
   "id": "30468987",
   "metadata": {
    "slideshow": {
     "slide_type": "slide"
    }
   },
   "source": [
    "* Aufgabe aus Lektion 22:  Welchen Blutdruck erwartet man für einen 50-jährigen?"
   ]
  },
  {
   "cell_type": "markdown",
   "id": "849309f1",
   "metadata": {
    "slideshow": {
     "slide_type": "fragment"
    }
   },
   "source": [
    "* das hatten wir dort zu Fuß ausgerechnet"
   ]
  },
  {
   "cell_type": "markdown",
   "id": "7d26e17c",
   "metadata": {
    "slideshow": {
     "slide_type": "fragment"
    }
   },
   "source": [
    "* In der Sprache der linearen Modelle handelt es sich um eine Vorhersage, engl. *prediction*"
   ]
  },
  {
   "cell_type": "markdown",
   "id": "6eb69a83",
   "metadata": {
    "slideshow": {
     "slide_type": "fragment"
    }
   },
   "source": [
    "* Wir verwenden nun die Methode `get_prediction`\n",
    "* Dazu müssen die Daten der erklärenden Variablen in einen DataFrame geschrieben werden"
   ]
  },
  {
   "cell_type": "code",
   "execution_count": 5,
   "id": "782e9e15",
   "metadata": {
    "slideshow": {
     "slide_type": "-"
    }
   },
   "outputs": [
    {
     "data": {
      "text/html": [
       "<div>\n",
       "<style scoped>\n",
       "    .dataframe tbody tr th:only-of-type {\n",
       "        vertical-align: middle;\n",
       "    }\n",
       "\n",
       "    .dataframe tbody tr th {\n",
       "        vertical-align: top;\n",
       "    }\n",
       "\n",
       "    .dataframe thead th {\n",
       "        text-align: right;\n",
       "    }\n",
       "</style>\n",
       "<table border=\"1\" class=\"dataframe\">\n",
       "  <thead>\n",
       "    <tr style=\"text-align: right;\">\n",
       "      <th></th>\n",
       "      <th>Alter</th>\n",
       "    </tr>\n",
       "  </thead>\n",
       "  <tbody>\n",
       "    <tr>\n",
       "      <th>0</th>\n",
       "      <td>50</td>\n",
       "    </tr>\n",
       "  </tbody>\n",
       "</table>\n",
       "</div>"
      ],
      "text/plain": [
       "   Alter\n",
       "0     50"
      ]
     },
     "execution_count": 5,
     "metadata": {},
     "output_type": "execute_result"
    }
   ],
   "source": [
    "anfrage = pd.DataFrame()\n",
    "anfrage['Alter'] = [50]\n",
    "#  rechte Seite ist auch dann ein array, wenn nur ein Wert berechnet werden soll\n",
    "anfrage"
   ]
  },
  {
   "cell_type": "code",
   "execution_count": 7,
   "id": "60b79883",
   "metadata": {
    "slideshow": {
     "slide_type": "slide"
    }
   },
   "outputs": [
    {
     "data": {
      "text/html": [
       "<div>\n",
       "<style scoped>\n",
       "    .dataframe tbody tr th:only-of-type {\n",
       "        vertical-align: middle;\n",
       "    }\n",
       "\n",
       "    .dataframe tbody tr th {\n",
       "        vertical-align: top;\n",
       "    }\n",
       "\n",
       "    .dataframe thead th {\n",
       "        text-align: right;\n",
       "    }\n",
       "</style>\n",
       "<table border=\"1\" class=\"dataframe\">\n",
       "  <thead>\n",
       "    <tr style=\"text-align: right;\">\n",
       "      <th></th>\n",
       "      <th>mean</th>\n",
       "      <th>mean_se</th>\n",
       "      <th>mean_ci_lower</th>\n",
       "      <th>mean_ci_upper</th>\n",
       "      <th>obs_ci_lower</th>\n",
       "      <th>obs_ci_upper</th>\n",
       "    </tr>\n",
       "  </thead>\n",
       "  <tbody>\n",
       "    <tr>\n",
       "      <th>0</th>\n",
       "      <td>155.775537</td>\n",
       "      <td>2.948193</td>\n",
       "      <td>149.736438</td>\n",
       "      <td>161.814636</td>\n",
       "      <td>123.956163</td>\n",
       "      <td>187.59491</td>\n",
       "    </tr>\n",
       "  </tbody>\n",
       "</table>\n",
       "</div>"
      ],
      "text/plain": [
       "         mean   mean_se  mean_ci_lower  mean_ci_upper  obs_ci_lower  \\\n",
       "0  155.775537  2.948193     149.736438     161.814636    123.956163   \n",
       "\n",
       "   obs_ci_upper  \n",
       "0     187.59491  "
      ]
     },
     "execution_count": 7,
     "metadata": {},
     "output_type": "execute_result"
    }
   ],
   "source": [
    "res.get_prediction(anfrage).summary_frame()"
   ]
  },
  {
   "cell_type": "markdown",
   "id": "a37a5d42",
   "metadata": {
    "slideshow": {
     "slide_type": "fragment"
    }
   },
   "source": [
    "* Man erwartet einen Blutdruck von 155.77 mm Hg\n",
    "* Das stimmt bis auf Rundungsfehler mit dem Ergebnis aus Lektion 22 überein"
   ]
  },
  {
   "cell_type": "markdown",
   "id": "cb02ba54",
   "metadata": {
    "slideshow": {
     "slide_type": "fragment"
    }
   },
   "source": [
    "* `mean`:  Wert, der im Mittel zu erwarten ist\n",
    "* `mean_se`:  Standardabweichung für `mean`"
   ]
  },
  {
   "cell_type": "markdown",
   "id": "d0632e85",
   "metadata": {
    "slideshow": {
     "slide_type": "fragment"
    }
   },
   "source": [
    "* die vier anderen Werte sind untere bzw. obere Grenzen für Konfidenzintervalle\n",
    "* `mean_ci` ist das Konfidenzintervall für den mittleren zu erwartenden Wert\n",
    "* `obs_ci` ist das Konfidentintervall für den individuell zu beobachtenden Wert (engl: \"observed\")"
   ]
  },
  {
   "cell_type": "markdown",
   "id": "99d47729",
   "metadata": {
    "slideshow": {
     "slide_type": "slide"
    }
   },
   "source": [
    "* `mean_ci_lower` und `mean_ci_upper` begrenzen die blaue Kurve im `regplot`"
   ]
  },
  {
   "cell_type": "code",
   "execution_count": 9,
   "id": "4a622ec3",
   "metadata": {},
   "outputs": [
    {
     "data": {
      "image/png": "[encoded data removed]",
      "text/plain": [
       "<Figure size 640x480 with 1 Axes>"
      ]
     },
     "metadata": {},
     "output_type": "display_data"
    }
   ],
   "source": [
    "ax = sns.regplot(df, x='Alter', y='Blutdruck')\n",
    "ax;"
   ]
  },
  {
   "cell_type": "markdown",
   "id": "124542a7",
   "metadata": {
    "slideshow": {
     "slide_type": "fragment"
    }
   },
   "source": [
    "* `obs_ci_lower` und `obs_ci_upper` begrenzen einen Bereich, der 95% der Beobachtungen enthält"
   ]
  },
  {
   "cell_type": "markdown",
   "id": "352bd849",
   "metadata": {
    "slideshow": {
     "slide_type": "fragment"
    }
   },
   "source": [
    "* wir malen den mal hin"
   ]
  },
  {
   "cell_type": "code",
   "execution_count": 10,
   "id": "04c1b351",
   "metadata": {
    "slideshow": {
     "slide_type": "slide"
    }
   },
   "outputs": [
    {
     "data": {
      "text/html": [
       "<div>\n",
       "<style scoped>\n",
       "    .dataframe tbody tr th:only-of-type {\n",
       "        vertical-align: middle;\n",
       "    }\n",
       "\n",
       "    .dataframe tbody tr th {\n",
       "        vertical-align: top;\n",
       "    }\n",
       "\n",
       "    .dataframe thead th {\n",
       "        text-align: right;\n",
       "    }\n",
       "</style>\n",
       "<table border=\"1\" class=\"dataframe\">\n",
       "  <thead>\n",
       "    <tr style=\"text-align: right;\">\n",
       "      <th></th>\n",
       "      <th>mean</th>\n",
       "      <th>mean_se</th>\n",
       "      <th>mean_ci_lower</th>\n",
       "      <th>mean_ci_upper</th>\n",
       "      <th>obs_ci_lower</th>\n",
       "      <th>obs_ci_upper</th>\n",
       "    </tr>\n",
       "  </thead>\n",
       "  <tbody>\n",
       "    <tr>\n",
       "      <th>0</th>\n",
       "      <td>107.515824</td>\n",
       "      <td>5.716491</td>\n",
       "      <td>95.806124</td>\n",
       "      <td>119.225524</td>\n",
       "      <td>74.152388</td>\n",
       "      <td>140.879261</td>\n",
       "    </tr>\n",
       "    <tr>\n",
       "      <th>1</th>\n",
       "      <td>109.023940</td>\n",
       "      <td>5.554540</td>\n",
       "      <td>97.645982</td>\n",
       "      <td>120.401899</td>\n",
       "      <td>75.775486</td>\n",
       "      <td>142.272395</td>\n",
       "    </tr>\n",
       "    <tr>\n",
       "      <th>2</th>\n",
       "      <td>110.532056</td>\n",
       "      <td>5.394160</td>\n",
       "      <td>99.482621</td>\n",
       "      <td>121.581491</td>\n",
       "      <td>77.394588</td>\n",
       "      <td>143.669525</td>\n",
       "    </tr>\n",
       "    <tr>\n",
       "      <th>3</th>\n",
       "      <td>112.040172</td>\n",
       "      <td>5.235496</td>\n",
       "      <td>101.315746</td>\n",
       "      <td>122.764599</td>\n",
       "      <td>79.009654</td>\n",
       "      <td>145.070690</td>\n",
       "    </tr>\n",
       "    <tr>\n",
       "      <th>4</th>\n",
       "      <td>113.548288</td>\n",
       "      <td>5.078708</td>\n",
       "      <td>103.145027</td>\n",
       "      <td>123.951550</td>\n",
       "      <td>80.620646</td>\n",
       "      <td>146.475931</td>\n",
       "    </tr>\n",
       "  </tbody>\n",
       "</table>\n",
       "</div>"
      ],
      "text/plain": [
       "         mean   mean_se  mean_ci_lower  mean_ci_upper  obs_ci_lower  \\\n",
       "0  107.515824  5.716491      95.806124     119.225524     74.152388   \n",
       "1  109.023940  5.554540      97.645982     120.401899     75.775486   \n",
       "2  110.532056  5.394160      99.482621     121.581491     77.394588   \n",
       "3  112.040172  5.235496     101.315746     122.764599     79.009654   \n",
       "4  113.548288  5.078708     103.145027     123.951550     80.620646   \n",
       "\n",
       "   obs_ci_upper  \n",
       "0    140.879261  \n",
       "1    142.272395  \n",
       "2    143.669525  \n",
       "3    145.070690  \n",
       "4    146.475931  "
      ]
     },
     "execution_count": 10,
     "metadata": {},
     "output_type": "execute_result"
    }
   ],
   "source": [
    "anfrage = pd.DataFrame()\n",
    "anfrage['Alter'] = np.arange(18, 70)\n",
    "vorhersage = res.get_prediction(anfrage).summary_frame()\n",
    "vorhersage.head()"
   ]
  },
  {
   "cell_type": "code",
   "execution_count": 11,
   "id": "a6440e46",
   "metadata": {},
   "outputs": [
    {
     "data": {
      "text/plain": [
       "<Axes: xlabel='Alter', ylabel='Blutdruck'>"
      ]
     },
     "execution_count": 11,
     "metadata": {},
     "output_type": "execute_result"
    }
   ],
   "source": [
    "sns.lineplot(x=anfrage.Alter, y=vorhersage.obs_ci_lower, ax = ax, color='orange')\n",
    "sns.lineplot(x=anfrage.Alter, y=vorhersage.obs_ci_upper, ax=ax, color='orange')"
   ]
  },
  {
   "cell_type": "code",
   "execution_count": 12,
   "id": "775a00cf",
   "metadata": {
    "slideshow": {
     "slide_type": "slide"
    }
   },
   "outputs": [
    {
     "data": {
      "image/png": "[encoded data removed]",
      "text/plain": [
       "<Figure size 640x480 with 1 Axes>"
      ]
     },
     "execution_count": 12,
     "metadata": {},
     "output_type": "execute_result"
    }
   ],
   "source": [
    "ax.figure"
   ]
  },
  {
   "cell_type": "markdown",
   "id": "e2ae304f",
   "metadata": {
    "slideshow": {
     "slide_type": "slide"
    }
   },
   "source": [
    "Dasselbe noch mal für das Konfidenzniveau $1-\\alpha=0.99$"
   ]
  },
  {
   "cell_type": "code",
   "execution_count": 13,
   "id": "e152e273",
   "metadata": {},
   "outputs": [
    {
     "data": {
      "image/png": "[encoded data removed]",
      "text/plain": [
       "<Figure size 640x480 with 1 Axes>"
      ]
     },
     "metadata": {},
     "output_type": "display_data"
    }
   ],
   "source": [
    "ax = sns.regplot(df, x='Alter', y='Blutdruck', ci=99)\n",
    "vorhersage = res.get_prediction(anfrage).summary_frame(alpha=0.01)\n",
    "sns.lineplot(x=anfrage.Alter, y=vorhersage.obs_ci_lower, ax = ax, color='orange')\n",
    "sns.lineplot(x=anfrage.Alter, y=vorhersage.obs_ci_upper, ax=ax, color='orange');"
   ]
  },
  {
   "cell_type": "markdown",
   "id": "6345d0f6",
   "metadata": {
    "slideshow": {
     "slide_type": "slide"
    }
   },
   "source": [
    "## Beispiel:  Fische"
   ]
  },
  {
   "cell_type": "markdown",
   "id": "94bbcf0a",
   "metadata": {
    "slideshow": {
     "slide_type": "slide"
    }
   },
   "source": [
    "* Fische werden gezüchtet.  In den ersten 24 Monaten wurden die folgenden Daten erhoben\n",
    "* Diesen Daten werden benutzt, um das Wachstum der nächsten Generation zu prognostizieren"
   ]
  },
  {
   "cell_type": "code",
   "execution_count": 14,
   "id": "6b76b53a",
   "metadata": {},
   "outputs": [
    {
     "data": {
      "text/html": [
       "<div>\n",
       "<style scoped>\n",
       "    .dataframe tbody tr th:only-of-type {\n",
       "        vertical-align: middle;\n",
       "    }\n",
       "\n",
       "    .dataframe tbody tr th {\n",
       "        vertical-align: top;\n",
       "    }\n",
       "\n",
       "    .dataframe thead th {\n",
       "        text-align: right;\n",
       "    }\n",
       "</style>\n",
       "<table border=\"1\" class=\"dataframe\">\n",
       "  <thead>\n",
       "    <tr style=\"text-align: right;\">\n",
       "      <th></th>\n",
       "      <th>Monat</th>\n",
       "      <th>Höhe</th>\n",
       "      <th>Gewicht</th>\n",
       "    </tr>\n",
       "  </thead>\n",
       "  <tbody>\n",
       "    <tr>\n",
       "      <th>0</th>\n",
       "      <td>4</td>\n",
       "      <td>18.361636</td>\n",
       "      <td>351.447570</td>\n",
       "    </tr>\n",
       "    <tr>\n",
       "      <th>1</th>\n",
       "      <td>18</td>\n",
       "      <td>82.891739</td>\n",
       "      <td>1489.847354</td>\n",
       "    </tr>\n",
       "    <tr>\n",
       "      <th>2</th>\n",
       "      <td>16</td>\n",
       "      <td>75.875655</td>\n",
       "      <td>1456.778649</td>\n",
       "    </tr>\n",
       "    <tr>\n",
       "      <th>3</th>\n",
       "      <td>5</td>\n",
       "      <td>24.685312</td>\n",
       "      <td>466.510582</td>\n",
       "    </tr>\n",
       "    <tr>\n",
       "      <th>4</th>\n",
       "      <td>23</td>\n",
       "      <td>102.858653</td>\n",
       "      <td>1992.998583</td>\n",
       "    </tr>\n",
       "  </tbody>\n",
       "</table>\n",
       "</div>"
      ],
      "text/plain": [
       "   Monat        Höhe      Gewicht\n",
       "0      4   18.361636   351.447570\n",
       "1     18   82.891739  1489.847354\n",
       "2     16   75.875655  1456.778649\n",
       "3      5   24.685312   466.510582\n",
       "4     23  102.858653  1992.998583"
      ]
     },
     "execution_count": 14,
     "metadata": {},
     "output_type": "execute_result"
    }
   ],
   "source": [
    "df = pd.read_csv('fische.csv')\n",
    "df.head()"
   ]
  },
  {
   "cell_type": "markdown",
   "id": "9707722f",
   "metadata": {},
   "source": [
    "* Gewicht in g\n",
    "* Höhe in mm"
   ]
  },
  {
   "cell_type": "markdown",
   "id": "06f31b21",
   "metadata": {
    "slideshow": {
     "slide_type": "slide"
    }
   },
   "source": [
    "* Ein Züchter hat 1200 Fische in seinen Teichen, die alle gleichzeitig geschlüpft sind\n",
    "* erste Frage:  Konfidenzintervall für das Gesamtgewicht dieser Fische nach 18 Monaten zum Konfidenzniveau 95%?\n",
    "* zweite Frage:  Wie muss das Netz gewählt werden, um nach 18 Monaten 97.5% der Fische zu fangen?"
   ]
  },
  {
   "cell_type": "code",
   "execution_count": 15,
   "id": "7b277793",
   "metadata": {},
   "outputs": [],
   "source": [
    "formel1 = 'Gewicht ~ Monat'\n",
    "modell1 = smf.ols(formel1, df)"
   ]
  },
  {
   "cell_type": "code",
   "execution_count": 16,
   "id": "bf7cce1f",
   "metadata": {
    "slideshow": {
     "slide_type": "slide"
    }
   },
   "outputs": [
    {
     "data": {
      "text/html": [
       "<table class=\"simpletable\">\n",
       "<caption>OLS Regression Results</caption>\n",
       "<tr>\n",
       "  <th>Dep. Variable:</th>         <td>Gewicht</td>     <th>  R-squared:         </th> <td>   0.992</td>\n",
       "</tr>\n",
       "<tr>\n",
       "  <th>Model:</th>                   <td>OLS</td>       <th>  Adj. R-squared:    </th> <td>   0.992</td>\n",
       "</tr>\n",
       "<tr>\n",
       "  <th>Method:</th>             <td>Least Squares</td>  <th>  F-statistic:       </th> <td>   8866.</td>\n",
       "</tr>\n",
       "<tr>\n",
       "  <th>Date:</th>             <td>Sun, 15 Jun 2025</td> <th>  Prob (F-statistic):</th> <td>9.01e-74</td>\n",
       "</tr>\n",
       "<tr>\n",
       "  <th>Time:</th>                 <td>11:49:19</td>     <th>  Log-Likelihood:    </th> <td> -365.66</td>\n",
       "</tr>\n",
       "<tr>\n",
       "  <th>No. Observations:</th>      <td>    70</td>      <th>  AIC:               </th> <td>   735.3</td>\n",
       "</tr>\n",
       "<tr>\n",
       "  <th>Df Residuals:</th>          <td>    68</td>      <th>  BIC:               </th> <td>   739.8</td>\n",
       "</tr>\n",
       "<tr>\n",
       "  <th>Df Model:</th>              <td>     1</td>      <th>                     </th>     <td> </td>   \n",
       "</tr>\n",
       "<tr>\n",
       "  <th>Covariance Type:</th>      <td>nonrobust</td>    <th>                     </th>     <td> </td>   \n",
       "</tr>\n",
       "</table>\n",
       "<table class=\"simpletable\">\n",
       "<tr>\n",
       "      <td></td>         <th>coef</th>     <th>std err</th>      <th>t</th>      <th>P>|t|</th>  <th>[0.025</th>    <th>0.975]</th>  \n",
       "</tr>\n",
       "<tr>\n",
       "  <th>Intercept</th> <td>   -2.6497</td> <td>   12.964</td> <td>   -0.204</td> <td> 0.839</td> <td>  -28.519</td> <td>   23.219</td>\n",
       "</tr>\n",
       "<tr>\n",
       "  <th>Monat</th>     <td>   83.7359</td> <td>    0.889</td> <td>   94.161</td> <td> 0.000</td> <td>   81.961</td> <td>   85.510</td>\n",
       "</tr>\n",
       "</table>\n",
       "<table class=\"simpletable\">\n",
       "<tr>\n",
       "  <th>Omnibus:</th>       <td> 3.720</td> <th>  Durbin-Watson:     </th> <td>   1.931</td>\n",
       "</tr>\n",
       "<tr>\n",
       "  <th>Prob(Omnibus):</th> <td> 0.156</td> <th>  Jarque-Bera (JB):  </th> <td>   3.556</td>\n",
       "</tr>\n",
       "<tr>\n",
       "  <th>Skew:</th>          <td>-0.198</td> <th>  Prob(JB):          </th> <td>   0.169</td>\n",
       "</tr>\n",
       "<tr>\n",
       "  <th>Kurtosis:</th>      <td> 4.030</td> <th>  Cond. No.          </th> <td>    34.8</td>\n",
       "</tr>\n",
       "</table><br/><br/>Notes:<br/>[1] Standard Errors assume that the covariance matrix of the errors is correctly specified."
      ],
      "text/latex": [
       "\\begin{center}\n",
       "\\begin{tabular}{lclc}\n",
       "\\toprule\n",
       "\\textbf{Dep. Variable:}    &     Gewicht      & \\textbf{  R-squared:         } &     0.992   \\\\\n",
       "\\textbf{Model:}            &       OLS        & \\textbf{  Adj. R-squared:    } &     0.992   \\\\\n",
       "\\textbf{Method:}           &  Least Squares   & \\textbf{  F-statistic:       } &     8866.   \\\\\n",
       "\\textbf{Date:}             & Sun, 15 Jun 2025 & \\textbf{  Prob (F-statistic):} &  9.01e-74   \\\\\n",
       "\\textbf{Time:}             &     11:49:19     & \\textbf{  Log-Likelihood:    } &   -365.66   \\\\\n",
       "\\textbf{No. Observations:} &          70      & \\textbf{  AIC:               } &     735.3   \\\\\n",
       "\\textbf{Df Residuals:}     &          68      & \\textbf{  BIC:               } &     739.8   \\\\\n",
       "\\textbf{Df Model:}         &           1      & \\textbf{                     } &             \\\\\n",
       "\\textbf{Covariance Type:}  &    nonrobust     & \\textbf{                     } &             \\\\\n",
       "\\bottomrule\n",
       "\\end{tabular}\n",
       "\\begin{tabular}{lcccccc}\n",
       "                   & \\textbf{coef} & \\textbf{std err} & \\textbf{t} & \\textbf{P$> |$t$|$} & \\textbf{[0.025} & \\textbf{0.975]}  \\\\\n",
       "\\midrule\n",
       "\\textbf{Intercept} &      -2.6497  &       12.964     &    -0.204  &         0.839        &      -28.519    &       23.219     \\\\\n",
       "\\textbf{Monat}     &      83.7359  &        0.889     &    94.161  &         0.000        &       81.961    &       85.510     \\\\\n",
       "\\bottomrule\n",
       "\\end{tabular}\n",
       "\\begin{tabular}{lclc}\n",
       "\\textbf{Omnibus:}       &  3.720 & \\textbf{  Durbin-Watson:     } &    1.931  \\\\\n",
       "\\textbf{Prob(Omnibus):} &  0.156 & \\textbf{  Jarque-Bera (JB):  } &    3.556  \\\\\n",
       "\\textbf{Skew:}          & -0.198 & \\textbf{  Prob(JB):          } &    0.169  \\\\\n",
       "\\textbf{Kurtosis:}      &  4.030 & \\textbf{  Cond. No.          } &     34.8  \\\\\n",
       "\\bottomrule\n",
       "\\end{tabular}\n",
       "%\\caption{OLS Regression Results}\n",
       "\\end{center}\n",
       "\n",
       "Notes: \\newline\n",
       " [1] Standard Errors assume that the covariance matrix of the errors is correctly specified."
      ],
      "text/plain": [
       "<class 'statsmodels.iolib.summary.Summary'>\n",
       "\"\"\"\n",
       "                            OLS Regression Results                            \n",
       "==============================================================================\n",
       "Dep. Variable:                Gewicht   R-squared:                       0.992\n",
       "Model:                            OLS   Adj. R-squared:                  0.992\n",
       "Method:                 Least Squares   F-statistic:                     8866.\n",
       "Date:                Sun, 15 Jun 2025   Prob (F-statistic):           9.01e-74\n",
       "Time:                        11:49:19   Log-Likelihood:                -365.66\n",
       "No. Observations:                  70   AIC:                             735.3\n",
       "Df Residuals:                      68   BIC:                             739.8\n",
       "Df Model:                           1                                         \n",
       "Covariance Type:            nonrobust                                         \n",
       "==============================================================================\n",
       "                 coef    std err          t      P>|t|      [0.025      0.975]\n",
       "------------------------------------------------------------------------------\n",
       "Intercept     -2.6497     12.964     -0.204      0.839     -28.519      23.219\n",
       "Monat         83.7359      0.889     94.161      0.000      81.961      85.510\n",
       "==============================================================================\n",
       "Omnibus:                        3.720   Durbin-Watson:                   1.931\n",
       "Prob(Omnibus):                  0.156   Jarque-Bera (JB):                3.556\n",
       "Skew:                          -0.198   Prob(JB):                        0.169\n",
       "Kurtosis:                       4.030   Cond. No.                         34.8\n",
       "==============================================================================\n",
       "\n",
       "Notes:\n",
       "[1] Standard Errors assume that the covariance matrix of the errors is correctly specified.\n",
       "\"\"\""
      ]
     },
     "execution_count": 16,
     "metadata": {},
     "output_type": "execute_result"
    }
   ],
   "source": [
    "res = modell1.fit()\n",
    "res.summary()"
   ]
  },
  {
   "cell_type": "code",
   "execution_count": 17,
   "id": "a55b7e8a",
   "metadata": {
    "slideshow": {
     "slide_type": "slide"
    }
   },
   "outputs": [
    {
     "data": {
      "text/html": [
       "<div>\n",
       "<style scoped>\n",
       "    .dataframe tbody tr th:only-of-type {\n",
       "        vertical-align: middle;\n",
       "    }\n",
       "\n",
       "    .dataframe tbody tr th {\n",
       "        vertical-align: top;\n",
       "    }\n",
       "\n",
       "    .dataframe thead th {\n",
       "        text-align: right;\n",
       "    }\n",
       "</style>\n",
       "<table border=\"1\" class=\"dataframe\">\n",
       "  <thead>\n",
       "    <tr style=\"text-align: right;\">\n",
       "      <th></th>\n",
       "      <th>mean</th>\n",
       "      <th>mean_se</th>\n",
       "      <th>mean_ci_lower</th>\n",
       "      <th>mean_ci_upper</th>\n",
       "      <th>obs_ci_lower</th>\n",
       "      <th>obs_ci_upper</th>\n",
       "    </tr>\n",
       "  </thead>\n",
       "  <tbody>\n",
       "    <tr>\n",
       "      <th>0</th>\n",
       "      <td>1504.597078</td>\n",
       "      <td>6.904729</td>\n",
       "      <td>1490.818905</td>\n",
       "      <td>1518.375251</td>\n",
       "      <td>1412.618172</td>\n",
       "      <td>1596.575983</td>\n",
       "    </tr>\n",
       "  </tbody>\n",
       "</table>\n",
       "</div>"
      ],
      "text/plain": [
       "          mean   mean_se  mean_ci_lower  mean_ci_upper  obs_ci_lower  \\\n",
       "0  1504.597078  6.904729    1490.818905    1518.375251   1412.618172   \n",
       "\n",
       "   obs_ci_upper  \n",
       "0   1596.575983  "
      ]
     },
     "execution_count": 17,
     "metadata": {},
     "output_type": "execute_result"
    }
   ],
   "source": [
    "anfrage = pd.DataFrame()\n",
    "anfrage['Monat'] = [18]\n",
    "res.get_prediction(anfrage).summary_frame()"
   ]
  },
  {
   "cell_type": "markdown",
   "id": "6b70d1fe",
   "metadata": {},
   "source": [
    "* untere Vertrauensgrenze für das Gesamtgewicht von 1200 Fischen in kg:"
   ]
  },
  {
   "cell_type": "code",
   "execution_count": 18,
   "id": "b50c3984",
   "metadata": {
    "slideshow": {
     "slide_type": "fragment"
    }
   },
   "outputs": [
    {
     "data": {
      "text/plain": [
       "1788.96"
      ]
     },
     "execution_count": 18,
     "metadata": {},
     "output_type": "execute_result"
    }
   ],
   "source": [
    "1200 * 1490.8 / 1000"
   ]
  },
  {
   "cell_type": "markdown",
   "id": "b208f253",
   "metadata": {},
   "source": [
    "Mit 97.5% Sicherheit werden mindestens 1789 kg Fisch geerntet"
   ]
  },
  {
   "cell_type": "code",
   "execution_count": 19,
   "id": "3ca97634",
   "metadata": {
    "slideshow": {
     "slide_type": "slide"
    }
   },
   "outputs": [
    {
     "data": {
      "text/html": [
       "<table class=\"simpletable\">\n",
       "<caption>OLS Regression Results</caption>\n",
       "<tr>\n",
       "  <th>Dep. Variable:</th>          <td>Höhe</td>       <th>  R-squared:         </th> <td>   0.995</td> \n",
       "</tr>\n",
       "<tr>\n",
       "  <th>Model:</th>                   <td>OLS</td>       <th>  Adj. R-squared:    </th> <td>   0.995</td> \n",
       "</tr>\n",
       "<tr>\n",
       "  <th>Method:</th>             <td>Least Squares</td>  <th>  F-statistic:       </th> <td>1.474e+04</td>\n",
       "</tr>\n",
       "<tr>\n",
       "  <th>Date:</th>             <td>Sun, 15 Jun 2025</td> <th>  Prob (F-statistic):</th> <td>3.13e-81</td> \n",
       "</tr>\n",
       "<tr>\n",
       "  <th>Time:</th>                 <td>11:49:29</td>     <th>  Log-Likelihood:    </th> <td> -143.68</td> \n",
       "</tr>\n",
       "<tr>\n",
       "  <th>No. Observations:</th>      <td>    70</td>      <th>  AIC:               </th> <td>   291.4</td> \n",
       "</tr>\n",
       "<tr>\n",
       "  <th>Df Residuals:</th>          <td>    68</td>      <th>  BIC:               </th> <td>   295.9</td> \n",
       "</tr>\n",
       "<tr>\n",
       "  <th>Df Model:</th>              <td>     1</td>      <th>                     </th>     <td> </td>    \n",
       "</tr>\n",
       "<tr>\n",
       "  <th>Covariance Type:</th>      <td>nonrobust</td>    <th>                     </th>     <td> </td>    \n",
       "</tr>\n",
       "</table>\n",
       "<table class=\"simpletable\">\n",
       "<tr>\n",
       "      <td></td>         <th>coef</th>     <th>std err</th>      <th>t</th>      <th>P>|t|</th>  <th>[0.025</th>    <th>0.975]</th>  \n",
       "</tr>\n",
       "<tr>\n",
       "  <th>Intercept</th> <td>   -0.2723</td> <td>    0.544</td> <td>   -0.501</td> <td> 0.618</td> <td>   -1.358</td> <td>    0.813</td>\n",
       "</tr>\n",
       "<tr>\n",
       "  <th>Monat</th>     <td>    4.5292</td> <td>    0.037</td> <td>  121.402</td> <td> 0.000</td> <td>    4.455</td> <td>    4.604</td>\n",
       "</tr>\n",
       "</table>\n",
       "<table class=\"simpletable\">\n",
       "<tr>\n",
       "  <th>Omnibus:</th>       <td> 3.746</td> <th>  Durbin-Watson:     </th> <td>   1.917</td>\n",
       "</tr>\n",
       "<tr>\n",
       "  <th>Prob(Omnibus):</th> <td> 0.154</td> <th>  Jarque-Bera (JB):  </th> <td>   3.670</td>\n",
       "</tr>\n",
       "<tr>\n",
       "  <th>Skew:</th>          <td> 0.521</td> <th>  Prob(JB):          </th> <td>   0.160</td>\n",
       "</tr>\n",
       "<tr>\n",
       "  <th>Kurtosis:</th>      <td> 2.583</td> <th>  Cond. No.          </th> <td>    34.8</td>\n",
       "</tr>\n",
       "</table><br/><br/>Notes:<br/>[1] Standard Errors assume that the covariance matrix of the errors is correctly specified."
      ],
      "text/latex": [
       "\\begin{center}\n",
       "\\begin{tabular}{lclc}\n",
       "\\toprule\n",
       "\\textbf{Dep. Variable:}    &       Höhe       & \\textbf{  R-squared:         } &     0.995   \\\\\n",
       "\\textbf{Model:}            &       OLS        & \\textbf{  Adj. R-squared:    } &     0.995   \\\\\n",
       "\\textbf{Method:}           &  Least Squares   & \\textbf{  F-statistic:       } & 1.474e+04   \\\\\n",
       "\\textbf{Date:}             & Sun, 15 Jun 2025 & \\textbf{  Prob (F-statistic):} &  3.13e-81   \\\\\n",
       "\\textbf{Time:}             &     11:49:29     & \\textbf{  Log-Likelihood:    } &   -143.68   \\\\\n",
       "\\textbf{No. Observations:} &          70      & \\textbf{  AIC:               } &     291.4   \\\\\n",
       "\\textbf{Df Residuals:}     &          68      & \\textbf{  BIC:               } &     295.9   \\\\\n",
       "\\textbf{Df Model:}         &           1      & \\textbf{                     } &             \\\\\n",
       "\\textbf{Covariance Type:}  &    nonrobust     & \\textbf{                     } &             \\\\\n",
       "\\bottomrule\n",
       "\\end{tabular}\n",
       "\\begin{tabular}{lcccccc}\n",
       "                   & \\textbf{coef} & \\textbf{std err} & \\textbf{t} & \\textbf{P$> |$t$|$} & \\textbf{[0.025} & \\textbf{0.975]}  \\\\\n",
       "\\midrule\n",
       "\\textbf{Intercept} &      -0.2723  &        0.544     &    -0.501  &         0.618        &       -1.358    &        0.813     \\\\\n",
       "\\textbf{Monat}     &       4.5292  &        0.037     &   121.402  &         0.000        &        4.455    &        4.604     \\\\\n",
       "\\bottomrule\n",
       "\\end{tabular}\n",
       "\\begin{tabular}{lclc}\n",
       "\\textbf{Omnibus:}       &  3.746 & \\textbf{  Durbin-Watson:     } &    1.917  \\\\\n",
       "\\textbf{Prob(Omnibus):} &  0.154 & \\textbf{  Jarque-Bera (JB):  } &    3.670  \\\\\n",
       "\\textbf{Skew:}          &  0.521 & \\textbf{  Prob(JB):          } &    0.160  \\\\\n",
       "\\textbf{Kurtosis:}      &  2.583 & \\textbf{  Cond. No.          } &     34.8  \\\\\n",
       "\\bottomrule\n",
       "\\end{tabular}\n",
       "%\\caption{OLS Regression Results}\n",
       "\\end{center}\n",
       "\n",
       "Notes: \\newline\n",
       " [1] Standard Errors assume that the covariance matrix of the errors is correctly specified."
      ],
      "text/plain": [
       "<class 'statsmodels.iolib.summary.Summary'>\n",
       "\"\"\"\n",
       "                            OLS Regression Results                            \n",
       "==============================================================================\n",
       "Dep. Variable:                   Höhe   R-squared:                       0.995\n",
       "Model:                            OLS   Adj. R-squared:                  0.995\n",
       "Method:                 Least Squares   F-statistic:                 1.474e+04\n",
       "Date:                Sun, 15 Jun 2025   Prob (F-statistic):           3.13e-81\n",
       "Time:                        11:49:29   Log-Likelihood:                -143.68\n",
       "No. Observations:                  70   AIC:                             291.4\n",
       "Df Residuals:                      68   BIC:                             295.9\n",
       "Df Model:                           1                                         \n",
       "Covariance Type:            nonrobust                                         \n",
       "==============================================================================\n",
       "                 coef    std err          t      P>|t|      [0.025      0.975]\n",
       "------------------------------------------------------------------------------\n",
       "Intercept     -0.2723      0.544     -0.501      0.618      -1.358       0.813\n",
       "Monat          4.5292      0.037    121.402      0.000       4.455       4.604\n",
       "==============================================================================\n",
       "Omnibus:                        3.746   Durbin-Watson:                   1.917\n",
       "Prob(Omnibus):                  0.154   Jarque-Bera (JB):                3.670\n",
       "Skew:                           0.521   Prob(JB):                        0.160\n",
       "Kurtosis:                       2.583   Cond. No.                         34.8\n",
       "==============================================================================\n",
       "\n",
       "Notes:\n",
       "[1] Standard Errors assume that the covariance matrix of the errors is correctly specified.\n",
       "\"\"\""
      ]
     },
     "execution_count": 19,
     "metadata": {},
     "output_type": "execute_result"
    }
   ],
   "source": [
    "formel2 = 'Höhe ~ Monat'\n",
    "modell2 = smf.ols(formel2, df)\n",
    "res = modell2.fit()\n",
    "res.summary()"
   ]
  },
  {
   "cell_type": "code",
   "execution_count": 20,
   "id": "5b9f2529",
   "metadata": {
    "slideshow": {
     "slide_type": "slide"
    }
   },
   "outputs": [
    {
     "data": {
      "text/html": [
       "<div>\n",
       "<style scoped>\n",
       "    .dataframe tbody tr th:only-of-type {\n",
       "        vertical-align: middle;\n",
       "    }\n",
       "\n",
       "    .dataframe tbody tr th {\n",
       "        vertical-align: top;\n",
       "    }\n",
       "\n",
       "    .dataframe thead th {\n",
       "        text-align: right;\n",
       "    }\n",
       "</style>\n",
       "<table border=\"1\" class=\"dataframe\">\n",
       "  <thead>\n",
       "    <tr style=\"text-align: right;\">\n",
       "      <th></th>\n",
       "      <th>mean</th>\n",
       "      <th>mean_se</th>\n",
       "      <th>mean_ci_lower</th>\n",
       "      <th>mean_ci_upper</th>\n",
       "      <th>obs_ci_lower</th>\n",
       "      <th>obs_ci_upper</th>\n",
       "    </tr>\n",
       "  </thead>\n",
       "  <tbody>\n",
       "    <tr>\n",
       "      <th>0</th>\n",
       "      <td>81.252727</td>\n",
       "      <td>0.289668</td>\n",
       "      <td>80.674704</td>\n",
       "      <td>81.83075</td>\n",
       "      <td>77.394018</td>\n",
       "      <td>85.111436</td>\n",
       "    </tr>\n",
       "  </tbody>\n",
       "</table>\n",
       "</div>"
      ],
      "text/plain": [
       "        mean   mean_se  mean_ci_lower  mean_ci_upper  obs_ci_lower  \\\n",
       "0  81.252727  0.289668      80.674704       81.83075     77.394018   \n",
       "\n",
       "   obs_ci_upper  \n",
       "0     85.111436  "
      ]
     },
     "execution_count": 20,
     "metadata": {},
     "output_type": "execute_result"
    }
   ],
   "source": [
    "res.get_prediction(anfrage).summary_frame()"
   ]
  },
  {
   "cell_type": "markdown",
   "id": "ad2aedbc",
   "metadata": {
    "slideshow": {
     "slide_type": "fragment"
    }
   },
   "source": [
    "Um 97.5% der Fische zu fangen, muss das Netz so beschaffen sein, dass ein Fisch der Höhe 80.6mm nicht hindurch schlüpft"
   ]
  },
  {
   "cell_type": "markdown",
   "id": "bb035858",
   "metadata": {
    "slideshow": {
     "slide_type": "slide"
    }
   },
   "source": [
    "# Vorhersagen bei mehreren erklärenden Variablen"
   ]
  },
  {
   "cell_type": "code",
   "execution_count": 21,
   "id": "4e90b49a",
   "metadata": {
    "slideshow": {
     "slide_type": "slide"
    }
   },
   "outputs": [
    {
     "data": {
      "text/html": [
       "<div>\n",
       "<style scoped>\n",
       "    .dataframe tbody tr th:only-of-type {\n",
       "        vertical-align: middle;\n",
       "    }\n",
       "\n",
       "    .dataframe tbody tr th {\n",
       "        vertical-align: top;\n",
       "    }\n",
       "\n",
       "    .dataframe thead th {\n",
       "        text-align: right;\n",
       "    }\n",
       "</style>\n",
       "<table border=\"1\" class=\"dataframe\">\n",
       "  <thead>\n",
       "    <tr style=\"text-align: right;\">\n",
       "      <th></th>\n",
       "      <th>father</th>\n",
       "      <th>mother</th>\n",
       "      <th>midparentHeight</th>\n",
       "      <th>children</th>\n",
       "      <th>childNum</th>\n",
       "      <th>childHeight</th>\n",
       "    </tr>\n",
       "  </thead>\n",
       "  <tbody>\n",
       "    <tr>\n",
       "      <th>count</th>\n",
       "      <td>481.000000</td>\n",
       "      <td>481.000000</td>\n",
       "      <td>481.000000</td>\n",
       "      <td>481.000000</td>\n",
       "      <td>481.000000</td>\n",
       "      <td>481.000000</td>\n",
       "    </tr>\n",
       "    <tr>\n",
       "      <th>mean</th>\n",
       "      <td>69.137630</td>\n",
       "      <td>64.033264</td>\n",
       "      <td>69.146778</td>\n",
       "      <td>6.008316</td>\n",
       "      <td>2.257796</td>\n",
       "      <td>69.234096</td>\n",
       "    </tr>\n",
       "    <tr>\n",
       "      <th>std</th>\n",
       "      <td>2.305767</td>\n",
       "      <td>2.321623</td>\n",
       "      <td>1.775891</td>\n",
       "      <td>2.669257</td>\n",
       "      <td>1.402404</td>\n",
       "      <td>2.623905</td>\n",
       "    </tr>\n",
       "    <tr>\n",
       "      <th>min</th>\n",
       "      <td>62.000000</td>\n",
       "      <td>58.000000</td>\n",
       "      <td>64.400000</td>\n",
       "      <td>1.000000</td>\n",
       "      <td>1.000000</td>\n",
       "      <td>60.000000</td>\n",
       "    </tr>\n",
       "    <tr>\n",
       "      <th>25%</th>\n",
       "      <td>68.000000</td>\n",
       "      <td>63.000000</td>\n",
       "      <td>68.020000</td>\n",
       "      <td>4.000000</td>\n",
       "      <td>1.000000</td>\n",
       "      <td>67.500000</td>\n",
       "    </tr>\n",
       "    <tr>\n",
       "      <th>50%</th>\n",
       "      <td>69.000000</td>\n",
       "      <td>64.000000</td>\n",
       "      <td>69.180000</td>\n",
       "      <td>6.000000</td>\n",
       "      <td>2.000000</td>\n",
       "      <td>69.200000</td>\n",
       "    </tr>\n",
       "    <tr>\n",
       "      <th>75%</th>\n",
       "      <td>70.500000</td>\n",
       "      <td>66.000000</td>\n",
       "      <td>70.140000</td>\n",
       "      <td>8.000000</td>\n",
       "      <td>3.000000</td>\n",
       "      <td>71.000000</td>\n",
       "    </tr>\n",
       "    <tr>\n",
       "      <th>max</th>\n",
       "      <td>78.500000</td>\n",
       "      <td>70.500000</td>\n",
       "      <td>75.430000</td>\n",
       "      <td>15.000000</td>\n",
       "      <td>10.000000</td>\n",
       "      <td>79.000000</td>\n",
       "    </tr>\n",
       "  </tbody>\n",
       "</table>\n",
       "</div>"
      ],
      "text/plain": [
       "           father      mother  midparentHeight    children    childNum  \\\n",
       "count  481.000000  481.000000       481.000000  481.000000  481.000000   \n",
       "mean    69.137630   64.033264        69.146778    6.008316    2.257796   \n",
       "std      2.305767    2.321623         1.775891    2.669257    1.402404   \n",
       "min     62.000000   58.000000        64.400000    1.000000    1.000000   \n",
       "25%     68.000000   63.000000        68.020000    4.000000    1.000000   \n",
       "50%     69.000000   64.000000        69.180000    6.000000    2.000000   \n",
       "75%     70.500000   66.000000        70.140000    8.000000    3.000000   \n",
       "max     78.500000   70.500000        75.430000   15.000000   10.000000   \n",
       "\n",
       "       childHeight  \n",
       "count   481.000000  \n",
       "mean     69.234096  \n",
       "std       2.623905  \n",
       "min      60.000000  \n",
       "25%      67.500000  \n",
       "50%      69.200000  \n",
       "75%      71.000000  \n",
       "max      79.000000  "
      ]
     },
     "execution_count": 21,
     "metadata": {},
     "output_type": "execute_result"
    }
   ],
   "source": [
    "df = pd.read_csv('galton.csv')\n",
    "df.describe()"
   ]
  },
  {
   "cell_type": "code",
   "execution_count": 22,
   "id": "cad50b83",
   "metadata": {},
   "outputs": [
    {
     "data": {
      "text/plain": [
       "gender\n",
       "male    481\n",
       "Name: count, dtype: int64"
      ]
     },
     "execution_count": 22,
     "metadata": {},
     "output_type": "execute_result"
    }
   ],
   "source": [
    "df.gender.value_counts()"
   ]
  },
  {
   "cell_type": "code",
   "execution_count": 23,
   "id": "8da5e20e",
   "metadata": {
    "slideshow": {
     "slide_type": "slide"
    }
   },
   "outputs": [],
   "source": [
    "formel = \"childHeight ~ father + mother\"\n",
    "model = smf.ols(formel, df)"
   ]
  },
  {
   "cell_type": "code",
   "execution_count": 24,
   "id": "a0c6e2e1",
   "metadata": {},
   "outputs": [],
   "source": [
    "res = model.fit()"
   ]
  },
  {
   "cell_type": "code",
   "execution_count": 25,
   "id": "c46aba21",
   "metadata": {
    "slideshow": {
     "slide_type": "slide"
    }
   },
   "outputs": [
    {
     "data": {
      "text/html": [
       "<table class=\"simpletable\">\n",
       "<caption>OLS Regression Results</caption>\n",
       "<tr>\n",
       "  <th>Dep. Variable:</th>       <td>childHeight</td>   <th>  R-squared:         </th> <td>   0.238</td>\n",
       "</tr>\n",
       "<tr>\n",
       "  <th>Model:</th>                   <td>OLS</td>       <th>  Adj. R-squared:    </th> <td>   0.235</td>\n",
       "</tr>\n",
       "<tr>\n",
       "  <th>Method:</th>             <td>Least Squares</td>  <th>  F-statistic:       </th> <td>   74.62</td>\n",
       "</tr>\n",
       "<tr>\n",
       "  <th>Date:</th>             <td>Sun, 15 Jun 2025</td> <th>  Prob (F-statistic):</th> <td>6.25e-29</td>\n",
       "</tr>\n",
       "<tr>\n",
       "  <th>Time:</th>                 <td>11:49:43</td>     <th>  Log-Likelihood:    </th> <td> -1080.7</td>\n",
       "</tr>\n",
       "<tr>\n",
       "  <th>No. Observations:</th>      <td>   481</td>      <th>  AIC:               </th> <td>   2167.</td>\n",
       "</tr>\n",
       "<tr>\n",
       "  <th>Df Residuals:</th>          <td>   478</td>      <th>  BIC:               </th> <td>   2180.</td>\n",
       "</tr>\n",
       "<tr>\n",
       "  <th>Df Model:</th>              <td>     2</td>      <th>                     </th>     <td> </td>   \n",
       "</tr>\n",
       "<tr>\n",
       "  <th>Covariance Type:</th>      <td>nonrobust</td>    <th>                     </th>     <td> </td>   \n",
       "</tr>\n",
       "</table>\n",
       "<table class=\"simpletable\">\n",
       "<tr>\n",
       "      <td></td>         <th>coef</th>     <th>std err</th>      <th>t</th>      <th>P>|t|</th>  <th>[0.025</th>    <th>0.975]</th>  \n",
       "</tr>\n",
       "<tr>\n",
       "  <th>Intercept</th> <td>   19.3128</td> <td>    4.095</td> <td>    4.716</td> <td> 0.000</td> <td>   11.266</td> <td>   27.359</td>\n",
       "</tr>\n",
       "<tr>\n",
       "  <th>father</th>    <td>    0.4176</td> <td>    0.046</td> <td>    9.154</td> <td> 0.000</td> <td>    0.328</td> <td>    0.507</td>\n",
       "</tr>\n",
       "<tr>\n",
       "  <th>mother</th>    <td>    0.3288</td> <td>    0.045</td> <td>    7.258</td> <td> 0.000</td> <td>    0.240</td> <td>    0.418</td>\n",
       "</tr>\n",
       "</table>\n",
       "<table class=\"simpletable\">\n",
       "<tr>\n",
       "  <th>Omnibus:</th>       <td>10.653</td> <th>  Durbin-Watson:     </th> <td>   1.592</td>\n",
       "</tr>\n",
       "<tr>\n",
       "  <th>Prob(Omnibus):</th> <td> 0.005</td> <th>  Jarque-Bera (JB):  </th> <td>  14.542</td>\n",
       "</tr>\n",
       "<tr>\n",
       "  <th>Skew:</th>          <td>-0.200</td> <th>  Prob(JB):          </th> <td>0.000695</td>\n",
       "</tr>\n",
       "<tr>\n",
       "  <th>Kurtosis:</th>      <td> 3.752</td> <th>  Cond. No.          </th> <td>3.69e+03</td>\n",
       "</tr>\n",
       "</table><br/><br/>Notes:<br/>[1] Standard Errors assume that the covariance matrix of the errors is correctly specified.<br/>[2] The condition number is large, 3.69e+03. This might indicate that there are<br/>strong multicollinearity or other numerical problems."
      ],
      "text/latex": [
       "\\begin{center}\n",
       "\\begin{tabular}{lclc}\n",
       "\\toprule\n",
       "\\textbf{Dep. Variable:}    &   childHeight    & \\textbf{  R-squared:         } &     0.238   \\\\\n",
       "\\textbf{Model:}            &       OLS        & \\textbf{  Adj. R-squared:    } &     0.235   \\\\\n",
       "\\textbf{Method:}           &  Least Squares   & \\textbf{  F-statistic:       } &     74.62   \\\\\n",
       "\\textbf{Date:}             & Sun, 15 Jun 2025 & \\textbf{  Prob (F-statistic):} &  6.25e-29   \\\\\n",
       "\\textbf{Time:}             &     11:49:43     & \\textbf{  Log-Likelihood:    } &   -1080.7   \\\\\n",
       "\\textbf{No. Observations:} &         481      & \\textbf{  AIC:               } &     2167.   \\\\\n",
       "\\textbf{Df Residuals:}     &         478      & \\textbf{  BIC:               } &     2180.   \\\\\n",
       "\\textbf{Df Model:}         &           2      & \\textbf{                     } &             \\\\\n",
       "\\textbf{Covariance Type:}  &    nonrobust     & \\textbf{                     } &             \\\\\n",
       "\\bottomrule\n",
       "\\end{tabular}\n",
       "\\begin{tabular}{lcccccc}\n",
       "                   & \\textbf{coef} & \\textbf{std err} & \\textbf{t} & \\textbf{P$> |$t$|$} & \\textbf{[0.025} & \\textbf{0.975]}  \\\\\n",
       "\\midrule\n",
       "\\textbf{Intercept} &      19.3128  &        4.095     &     4.716  &         0.000        &       11.266    &       27.359     \\\\\n",
       "\\textbf{father}    &       0.4176  &        0.046     &     9.154  &         0.000        &        0.328    &        0.507     \\\\\n",
       "\\textbf{mother}    &       0.3288  &        0.045     &     7.258  &         0.000        &        0.240    &        0.418     \\\\\n",
       "\\bottomrule\n",
       "\\end{tabular}\n",
       "\\begin{tabular}{lclc}\n",
       "\\textbf{Omnibus:}       & 10.653 & \\textbf{  Durbin-Watson:     } &    1.592  \\\\\n",
       "\\textbf{Prob(Omnibus):} &  0.005 & \\textbf{  Jarque-Bera (JB):  } &   14.542  \\\\\n",
       "\\textbf{Skew:}          & -0.200 & \\textbf{  Prob(JB):          } & 0.000695  \\\\\n",
       "\\textbf{Kurtosis:}      &  3.752 & \\textbf{  Cond. No.          } & 3.69e+03  \\\\\n",
       "\\bottomrule\n",
       "\\end{tabular}\n",
       "%\\caption{OLS Regression Results}\n",
       "\\end{center}\n",
       "\n",
       "Notes: \\newline\n",
       " [1] Standard Errors assume that the covariance matrix of the errors is correctly specified. \\newline\n",
       " [2] The condition number is large, 3.69e+03. This might indicate that there are \\newline\n",
       " strong multicollinearity or other numerical problems."
      ],
      "text/plain": [
       "<class 'statsmodels.iolib.summary.Summary'>\n",
       "\"\"\"\n",
       "                            OLS Regression Results                            \n",
       "==============================================================================\n",
       "Dep. Variable:            childHeight   R-squared:                       0.238\n",
       "Model:                            OLS   Adj. R-squared:                  0.235\n",
       "Method:                 Least Squares   F-statistic:                     74.62\n",
       "Date:                Sun, 15 Jun 2025   Prob (F-statistic):           6.25e-29\n",
       "Time:                        11:49:43   Log-Likelihood:                -1080.7\n",
       "No. Observations:                 481   AIC:                             2167.\n",
       "Df Residuals:                     478   BIC:                             2180.\n",
       "Df Model:                           2                                         \n",
       "Covariance Type:            nonrobust                                         \n",
       "==============================================================================\n",
       "                 coef    std err          t      P>|t|      [0.025      0.975]\n",
       "------------------------------------------------------------------------------\n",
       "Intercept     19.3128      4.095      4.716      0.000      11.266      27.359\n",
       "father         0.4176      0.046      9.154      0.000       0.328       0.507\n",
       "mother         0.3288      0.045      7.258      0.000       0.240       0.418\n",
       "==============================================================================\n",
       "Omnibus:                       10.653   Durbin-Watson:                   1.592\n",
       "Prob(Omnibus):                  0.005   Jarque-Bera (JB):               14.542\n",
       "Skew:                          -0.200   Prob(JB):                     0.000695\n",
       "Kurtosis:                       3.752   Cond. No.                     3.69e+03\n",
       "==============================================================================\n",
       "\n",
       "Notes:\n",
       "[1] Standard Errors assume that the covariance matrix of the errors is correctly specified.\n",
       "[2] The condition number is large, 3.69e+03. This might indicate that there are\n",
       "strong multicollinearity or other numerical problems.\n",
       "\"\"\""
      ]
     },
     "execution_count": 25,
     "metadata": {},
     "output_type": "execute_result"
    }
   ],
   "source": [
    "res.summary()"
   ]
  },
  {
   "cell_type": "markdown",
   "id": "6f95832e",
   "metadata": {
    "slideshow": {
     "slide_type": "slide"
    }
   },
   "source": [
    "* Wie groß ist ein Sohn, dessen Vater 68.9 Zoll und dessen Mutter 66.4 Zoll groß ist?"
   ]
  },
  {
   "cell_type": "code",
   "execution_count": 26,
   "id": "2c8471e4",
   "metadata": {},
   "outputs": [
    {
     "data": {
      "text/html": [
       "<div>\n",
       "<style scoped>\n",
       "    .dataframe tbody tr th:only-of-type {\n",
       "        vertical-align: middle;\n",
       "    }\n",
       "\n",
       "    .dataframe tbody tr th {\n",
       "        vertical-align: top;\n",
       "    }\n",
       "\n",
       "    .dataframe thead th {\n",
       "        text-align: right;\n",
       "    }\n",
       "</style>\n",
       "<table border=\"1\" class=\"dataframe\">\n",
       "  <thead>\n",
       "    <tr style=\"text-align: right;\">\n",
       "      <th></th>\n",
       "      <th>father</th>\n",
       "      <th>mother</th>\n",
       "    </tr>\n",
       "  </thead>\n",
       "  <tbody>\n",
       "    <tr>\n",
       "      <th>0</th>\n",
       "      <td>68.9</td>\n",
       "      <td>66.4</td>\n",
       "    </tr>\n",
       "  </tbody>\n",
       "</table>\n",
       "</div>"
      ],
      "text/plain": [
       "   father  mother\n",
       "0    68.9    66.4"
      ]
     },
     "execution_count": 26,
     "metadata": {},
     "output_type": "execute_result"
    }
   ],
   "source": [
    "anfrage = pd.DataFrame()\n",
    "anfrage['father'] = [68.9]\n",
    "anfrage['mother'] = [66.4]\n",
    "anfrage"
   ]
  },
  {
   "cell_type": "code",
   "execution_count": 27,
   "id": "88f079da",
   "metadata": {},
   "outputs": [
    {
     "data": {
      "text/html": [
       "<div>\n",
       "<style scoped>\n",
       "    .dataframe tbody tr th:only-of-type {\n",
       "        vertical-align: middle;\n",
       "    }\n",
       "\n",
       "    .dataframe tbody tr th {\n",
       "        vertical-align: top;\n",
       "    }\n",
       "\n",
       "    .dataframe thead th {\n",
       "        text-align: right;\n",
       "    }\n",
       "</style>\n",
       "<table border=\"1\" class=\"dataframe\">\n",
       "  <thead>\n",
       "    <tr style=\"text-align: right;\">\n",
       "      <th></th>\n",
       "      <th>mean</th>\n",
       "      <th>mean_se</th>\n",
       "      <th>mean_ci_lower</th>\n",
       "      <th>mean_ci_upper</th>\n",
       "      <th>obs_ci_lower</th>\n",
       "      <th>obs_ci_upper</th>\n",
       "    </tr>\n",
       "  </thead>\n",
       "  <tbody>\n",
       "    <tr>\n",
       "      <th>0</th>\n",
       "      <td>69.912992</td>\n",
       "      <td>0.150896</td>\n",
       "      <td>69.616491</td>\n",
       "      <td>70.209492</td>\n",
       "      <td>65.393024</td>\n",
       "      <td>74.43296</td>\n",
       "    </tr>\n",
       "  </tbody>\n",
       "</table>\n",
       "</div>"
      ],
      "text/plain": [
       "        mean   mean_se  mean_ci_lower  mean_ci_upper  obs_ci_lower  \\\n",
       "0  69.912992  0.150896      69.616491      70.209492     65.393024   \n",
       "\n",
       "   obs_ci_upper  \n",
       "0      74.43296  "
      ]
     },
     "execution_count": 27,
     "metadata": {},
     "output_type": "execute_result"
    }
   ],
   "source": [
    "res.get_prediction(anfrage).summary_frame()"
   ]
  },
  {
   "cell_type": "markdown",
   "id": "2630e659",
   "metadata": {
    "slideshow": {
     "slide_type": "fragment"
    }
   },
   "source": [
    "Für die Größe der Sohns wird ein Wert von 69.91 Zoll erwartet"
   ]
  },
  {
   "cell_type": "markdown",
   "id": "b19c062c",
   "metadata": {
    "slideshow": {
     "slide_type": "slide"
    }
   },
   "source": [
    "# Starke Multicollinearität"
   ]
  },
  {
   "cell_type": "code",
   "execution_count": 28,
   "id": "966fc9c9",
   "metadata": {
    "slideshow": {
     "slide_type": "slide"
    }
   },
   "outputs": [
    {
     "data": {
      "text/html": [
       "<table class=\"simpletable\">\n",
       "<caption>OLS Regression Results</caption>\n",
       "<tr>\n",
       "  <th>Dep. Variable:</th>       <td>childHeight</td>   <th>  R-squared:         </th> <td>   0.238</td>\n",
       "</tr>\n",
       "<tr>\n",
       "  <th>Model:</th>                   <td>OLS</td>       <th>  Adj. R-squared:    </th> <td>   0.235</td>\n",
       "</tr>\n",
       "<tr>\n",
       "  <th>Method:</th>             <td>Least Squares</td>  <th>  F-statistic:       </th> <td>   74.62</td>\n",
       "</tr>\n",
       "<tr>\n",
       "  <th>Date:</th>             <td>Sun, 15 Jun 2025</td> <th>  Prob (F-statistic):</th> <td>6.25e-29</td>\n",
       "</tr>\n",
       "<tr>\n",
       "  <th>Time:</th>                 <td>11:49:54</td>     <th>  Log-Likelihood:    </th> <td> -1080.7</td>\n",
       "</tr>\n",
       "<tr>\n",
       "  <th>No. Observations:</th>      <td>   481</td>      <th>  AIC:               </th> <td>   2167.</td>\n",
       "</tr>\n",
       "<tr>\n",
       "  <th>Df Residuals:</th>          <td>   478</td>      <th>  BIC:               </th> <td>   2180.</td>\n",
       "</tr>\n",
       "<tr>\n",
       "  <th>Df Model:</th>              <td>     2</td>      <th>                     </th>     <td> </td>   \n",
       "</tr>\n",
       "<tr>\n",
       "  <th>Covariance Type:</th>      <td>nonrobust</td>    <th>                     </th>     <td> </td>   \n",
       "</tr>\n",
       "</table>\n",
       "<table class=\"simpletable\">\n",
       "<tr>\n",
       "      <td></td>         <th>coef</th>     <th>std err</th>      <th>t</th>      <th>P>|t|</th>  <th>[0.025</th>    <th>0.975]</th>  \n",
       "</tr>\n",
       "<tr>\n",
       "  <th>Intercept</th> <td>   19.3128</td> <td>    4.095</td> <td>    4.716</td> <td> 0.000</td> <td>   11.266</td> <td>   27.359</td>\n",
       "</tr>\n",
       "<tr>\n",
       "  <th>father</th>    <td>    0.4176</td> <td>    0.046</td> <td>    9.154</td> <td> 0.000</td> <td>    0.328</td> <td>    0.507</td>\n",
       "</tr>\n",
       "<tr>\n",
       "  <th>mother</th>    <td>    0.3288</td> <td>    0.045</td> <td>    7.258</td> <td> 0.000</td> <td>    0.240</td> <td>    0.418</td>\n",
       "</tr>\n",
       "</table>\n",
       "<table class=\"simpletable\">\n",
       "<tr>\n",
       "  <th>Omnibus:</th>       <td>10.653</td> <th>  Durbin-Watson:     </th> <td>   1.592</td>\n",
       "</tr>\n",
       "<tr>\n",
       "  <th>Prob(Omnibus):</th> <td> 0.005</td> <th>  Jarque-Bera (JB):  </th> <td>  14.542</td>\n",
       "</tr>\n",
       "<tr>\n",
       "  <th>Skew:</th>          <td>-0.200</td> <th>  Prob(JB):          </th> <td>0.000695</td>\n",
       "</tr>\n",
       "<tr>\n",
       "  <th>Kurtosis:</th>      <td> 3.752</td> <th>  Cond. No.          </th> <td>3.69e+03</td>\n",
       "</tr>\n",
       "</table><br/><br/>Notes:<br/>[1] Standard Errors assume that the covariance matrix of the errors is correctly specified.<br/>[2] The condition number is large, 3.69e+03. This might indicate that there are<br/>strong multicollinearity or other numerical problems."
      ],
      "text/latex": [
       "\\begin{center}\n",
       "\\begin{tabular}{lclc}\n",
       "\\toprule\n",
       "\\textbf{Dep. Variable:}    &   childHeight    & \\textbf{  R-squared:         } &     0.238   \\\\\n",
       "\\textbf{Model:}            &       OLS        & \\textbf{  Adj. R-squared:    } &     0.235   \\\\\n",
       "\\textbf{Method:}           &  Least Squares   & \\textbf{  F-statistic:       } &     74.62   \\\\\n",
       "\\textbf{Date:}             & Sun, 15 Jun 2025 & \\textbf{  Prob (F-statistic):} &  6.25e-29   \\\\\n",
       "\\textbf{Time:}             &     11:49:54     & \\textbf{  Log-Likelihood:    } &   -1080.7   \\\\\n",
       "\\textbf{No. Observations:} &         481      & \\textbf{  AIC:               } &     2167.   \\\\\n",
       "\\textbf{Df Residuals:}     &         478      & \\textbf{  BIC:               } &     2180.   \\\\\n",
       "\\textbf{Df Model:}         &           2      & \\textbf{                     } &             \\\\\n",
       "\\textbf{Covariance Type:}  &    nonrobust     & \\textbf{                     } &             \\\\\n",
       "\\bottomrule\n",
       "\\end{tabular}\n",
       "\\begin{tabular}{lcccccc}\n",
       "                   & \\textbf{coef} & \\textbf{std err} & \\textbf{t} & \\textbf{P$> |$t$|$} & \\textbf{[0.025} & \\textbf{0.975]}  \\\\\n",
       "\\midrule\n",
       "\\textbf{Intercept} &      19.3128  &        4.095     &     4.716  &         0.000        &       11.266    &       27.359     \\\\\n",
       "\\textbf{father}    &       0.4176  &        0.046     &     9.154  &         0.000        &        0.328    &        0.507     \\\\\n",
       "\\textbf{mother}    &       0.3288  &        0.045     &     7.258  &         0.000        &        0.240    &        0.418     \\\\\n",
       "\\bottomrule\n",
       "\\end{tabular}\n",
       "\\begin{tabular}{lclc}\n",
       "\\textbf{Omnibus:}       & 10.653 & \\textbf{  Durbin-Watson:     } &    1.592  \\\\\n",
       "\\textbf{Prob(Omnibus):} &  0.005 & \\textbf{  Jarque-Bera (JB):  } &   14.542  \\\\\n",
       "\\textbf{Skew:}          & -0.200 & \\textbf{  Prob(JB):          } & 0.000695  \\\\\n",
       "\\textbf{Kurtosis:}      &  3.752 & \\textbf{  Cond. No.          } & 3.69e+03  \\\\\n",
       "\\bottomrule\n",
       "\\end{tabular}\n",
       "%\\caption{OLS Regression Results}\n",
       "\\end{center}\n",
       "\n",
       "Notes: \\newline\n",
       " [1] Standard Errors assume that the covariance matrix of the errors is correctly specified. \\newline\n",
       " [2] The condition number is large, 3.69e+03. This might indicate that there are \\newline\n",
       " strong multicollinearity or other numerical problems."
      ],
      "text/plain": [
       "<class 'statsmodels.iolib.summary.Summary'>\n",
       "\"\"\"\n",
       "                            OLS Regression Results                            \n",
       "==============================================================================\n",
       "Dep. Variable:            childHeight   R-squared:                       0.238\n",
       "Model:                            OLS   Adj. R-squared:                  0.235\n",
       "Method:                 Least Squares   F-statistic:                     74.62\n",
       "Date:                Sun, 15 Jun 2025   Prob (F-statistic):           6.25e-29\n",
       "Time:                        11:49:54   Log-Likelihood:                -1080.7\n",
       "No. Observations:                 481   AIC:                             2167.\n",
       "Df Residuals:                     478   BIC:                             2180.\n",
       "Df Model:                           2                                         \n",
       "Covariance Type:            nonrobust                                         \n",
       "==============================================================================\n",
       "                 coef    std err          t      P>|t|      [0.025      0.975]\n",
       "------------------------------------------------------------------------------\n",
       "Intercept     19.3128      4.095      4.716      0.000      11.266      27.359\n",
       "father         0.4176      0.046      9.154      0.000       0.328       0.507\n",
       "mother         0.3288      0.045      7.258      0.000       0.240       0.418\n",
       "==============================================================================\n",
       "Omnibus:                       10.653   Durbin-Watson:                   1.592\n",
       "Prob(Omnibus):                  0.005   Jarque-Bera (JB):               14.542\n",
       "Skew:                          -0.200   Prob(JB):                     0.000695\n",
       "Kurtosis:                       3.752   Cond. No.                     3.69e+03\n",
       "==============================================================================\n",
       "\n",
       "Notes:\n",
       "[1] Standard Errors assume that the covariance matrix of the errors is correctly specified.\n",
       "[2] The condition number is large, 3.69e+03. This might indicate that there are\n",
       "strong multicollinearity or other numerical problems.\n",
       "\"\"\""
      ]
     },
     "execution_count": 28,
     "metadata": {},
     "output_type": "execute_result"
    }
   ],
   "source": [
    "res.summary()"
   ]
  },
  {
   "cell_type": "markdown",
   "id": "e638c1ec",
   "metadata": {
    "slideshow": {
     "slide_type": "slide"
    }
   },
   "source": [
    "* `condition number` bedeutet Konditionszahl\n",
    "* Um das Modell zu berechnen, muss ein lineares Gleichungssystem gelöst werden\n",
    "* Je größer die Konditionszahl, umso schwieriger ist die Berechnung der Lösung\n",
    "* Für den Nutzer bedeutet das, dass die ausgegebenen Werte mit Unsicherheiten behaftet sind\n",
    "* und im Extremfall sogar falsch"
   ]
  },
  {
   "cell_type": "markdown",
   "id": "496348dd",
   "metadata": {
    "slideshow": {
     "slide_type": "fragment"
    }
   },
   "source": [
    "* eine Konditionszahl von 4000 ist aber noch nicht besorgniserregend groß"
   ]
  },
  {
   "cell_type": "markdown",
   "id": "0ef6d578",
   "metadata": {
    "slideshow": {
     "slide_type": "slide"
    }
   },
   "source": [
    "#### Beispiel mit wirklich schlechter Kondition"
   ]
  },
  {
   "cell_type": "code",
   "execution_count": 29,
   "id": "10e0c2fb",
   "metadata": {},
   "outputs": [],
   "source": [
    "formel = \"childHeight ~ father + mother + midparentHeight\""
   ]
  },
  {
   "cell_type": "code",
   "execution_count": 30,
   "id": "989c7a62",
   "metadata": {},
   "outputs": [],
   "source": [
    "modell = smf.ols(formel, df)\n",
    "res = modell.fit()"
   ]
  },
  {
   "cell_type": "code",
   "execution_count": 31,
   "id": "5c723e41",
   "metadata": {
    "slideshow": {
     "slide_type": "slide"
    }
   },
   "outputs": [
    {
     "data": {
      "text/html": [
       "<table class=\"simpletable\">\n",
       "<caption>OLS Regression Results</caption>\n",
       "<tr>\n",
       "  <th>Dep. Variable:</th>       <td>childHeight</td>   <th>  R-squared:         </th> <td>   0.238</td>\n",
       "</tr>\n",
       "<tr>\n",
       "  <th>Model:</th>                   <td>OLS</td>       <th>  Adj. R-squared:    </th> <td>   0.235</td>\n",
       "</tr>\n",
       "<tr>\n",
       "  <th>Method:</th>             <td>Least Squares</td>  <th>  F-statistic:       </th> <td>   74.62</td>\n",
       "</tr>\n",
       "<tr>\n",
       "  <th>Date:</th>             <td>Sun, 15 Jun 2025</td> <th>  Prob (F-statistic):</th> <td>6.25e-29</td>\n",
       "</tr>\n",
       "<tr>\n",
       "  <th>Time:</th>                 <td>11:50:11</td>     <th>  Log-Likelihood:    </th> <td> -1080.7</td>\n",
       "</tr>\n",
       "<tr>\n",
       "  <th>No. Observations:</th>      <td>   481</td>      <th>  AIC:               </th> <td>   2167.</td>\n",
       "</tr>\n",
       "<tr>\n",
       "  <th>Df Residuals:</th>          <td>   478</td>      <th>  BIC:               </th> <td>   2180.</td>\n",
       "</tr>\n",
       "<tr>\n",
       "  <th>Df Model:</th>              <td>     2</td>      <th>                     </th>     <td> </td>   \n",
       "</tr>\n",
       "<tr>\n",
       "  <th>Covariance Type:</th>      <td>nonrobust</td>    <th>                     </th>     <td> </td>   \n",
       "</tr>\n",
       "</table>\n",
       "<table class=\"simpletable\">\n",
       "<tr>\n",
       "         <td></td>            <th>coef</th>     <th>std err</th>      <th>t</th>      <th>P>|t|</th>  <th>[0.025</th>    <th>0.975]</th>  \n",
       "</tr>\n",
       "<tr>\n",
       "  <th>Intercept</th>       <td>   19.3128</td> <td>    4.095</td> <td>    4.716</td> <td> 0.000</td> <td>   11.266</td> <td>   27.359</td>\n",
       "</tr>\n",
       "<tr>\n",
       "  <th>father</th>          <td>    0.2923</td> <td>    0.040</td> <td>    7.361</td> <td> 0.000</td> <td>    0.214</td> <td>    0.370</td>\n",
       "</tr>\n",
       "<tr>\n",
       "  <th>mother</th>          <td>    0.1935</td> <td>    0.038</td> <td>    5.055</td> <td> 0.000</td> <td>    0.118</td> <td>    0.269</td>\n",
       "</tr>\n",
       "<tr>\n",
       "  <th>midparentHeight</th> <td>    0.2506</td> <td>    0.021</td> <td>   12.091</td> <td> 0.000</td> <td>    0.210</td> <td>    0.291</td>\n",
       "</tr>\n",
       "</table>\n",
       "<table class=\"simpletable\">\n",
       "<tr>\n",
       "  <th>Omnibus:</th>       <td>10.653</td> <th>  Durbin-Watson:     </th> <td>   1.592</td>\n",
       "</tr>\n",
       "<tr>\n",
       "  <th>Prob(Omnibus):</th> <td> 0.005</td> <th>  Jarque-Bera (JB):  </th> <td>  14.542</td>\n",
       "</tr>\n",
       "<tr>\n",
       "  <th>Skew:</th>          <td>-0.200</td> <th>  Prob(JB):          </th> <td>0.000695</td>\n",
       "</tr>\n",
       "<tr>\n",
       "  <th>Kurtosis:</th>      <td> 3.752</td> <th>  Cond. No.          </th> <td>1.15e+15</td>\n",
       "</tr>\n",
       "</table><br/><br/>Notes:<br/>[1] Standard Errors assume that the covariance matrix of the errors is correctly specified.<br/>[2] The smallest eigenvalue is 4.98e-24. This might indicate that there are<br/>strong multicollinearity problems or that the design matrix is singular."
      ],
      "text/latex": [
       "\\begin{center}\n",
       "\\begin{tabular}{lclc}\n",
       "\\toprule\n",
       "\\textbf{Dep. Variable:}    &   childHeight    & \\textbf{  R-squared:         } &     0.238   \\\\\n",
       "\\textbf{Model:}            &       OLS        & \\textbf{  Adj. R-squared:    } &     0.235   \\\\\n",
       "\\textbf{Method:}           &  Least Squares   & \\textbf{  F-statistic:       } &     74.62   \\\\\n",
       "\\textbf{Date:}             & Sun, 15 Jun 2025 & \\textbf{  Prob (F-statistic):} &  6.25e-29   \\\\\n",
       "\\textbf{Time:}             &     11:50:11     & \\textbf{  Log-Likelihood:    } &   -1080.7   \\\\\n",
       "\\textbf{No. Observations:} &         481      & \\textbf{  AIC:               } &     2167.   \\\\\n",
       "\\textbf{Df Residuals:}     &         478      & \\textbf{  BIC:               } &     2180.   \\\\\n",
       "\\textbf{Df Model:}         &           2      & \\textbf{                     } &             \\\\\n",
       "\\textbf{Covariance Type:}  &    nonrobust     & \\textbf{                     } &             \\\\\n",
       "\\bottomrule\n",
       "\\end{tabular}\n",
       "\\begin{tabular}{lcccccc}\n",
       "                         & \\textbf{coef} & \\textbf{std err} & \\textbf{t} & \\textbf{P$> |$t$|$} & \\textbf{[0.025} & \\textbf{0.975]}  \\\\\n",
       "\\midrule\n",
       "\\textbf{Intercept}       &      19.3128  &        4.095     &     4.716  &         0.000        &       11.266    &       27.359     \\\\\n",
       "\\textbf{father}          &       0.2923  &        0.040     &     7.361  &         0.000        &        0.214    &        0.370     \\\\\n",
       "\\textbf{mother}          &       0.1935  &        0.038     &     5.055  &         0.000        &        0.118    &        0.269     \\\\\n",
       "\\textbf{midparentHeight} &       0.2506  &        0.021     &    12.091  &         0.000        &        0.210    &        0.291     \\\\\n",
       "\\bottomrule\n",
       "\\end{tabular}\n",
       "\\begin{tabular}{lclc}\n",
       "\\textbf{Omnibus:}       & 10.653 & \\textbf{  Durbin-Watson:     } &    1.592  \\\\\n",
       "\\textbf{Prob(Omnibus):} &  0.005 & \\textbf{  Jarque-Bera (JB):  } &   14.542  \\\\\n",
       "\\textbf{Skew:}          & -0.200 & \\textbf{  Prob(JB):          } & 0.000695  \\\\\n",
       "\\textbf{Kurtosis:}      &  3.752 & \\textbf{  Cond. No.          } & 1.15e+15  \\\\\n",
       "\\bottomrule\n",
       "\\end{tabular}\n",
       "%\\caption{OLS Regression Results}\n",
       "\\end{center}\n",
       "\n",
       "Notes: \\newline\n",
       " [1] Standard Errors assume that the covariance matrix of the errors is correctly specified. \\newline\n",
       " [2] The smallest eigenvalue is 4.98e-24. This might indicate that there are \\newline\n",
       " strong multicollinearity problems or that the design matrix is singular."
      ],
      "text/plain": [
       "<class 'statsmodels.iolib.summary.Summary'>\n",
       "\"\"\"\n",
       "                            OLS Regression Results                            \n",
       "==============================================================================\n",
       "Dep. Variable:            childHeight   R-squared:                       0.238\n",
       "Model:                            OLS   Adj. R-squared:                  0.235\n",
       "Method:                 Least Squares   F-statistic:                     74.62\n",
       "Date:                Sun, 15 Jun 2025   Prob (F-statistic):           6.25e-29\n",
       "Time:                        11:50:11   Log-Likelihood:                -1080.7\n",
       "No. Observations:                 481   AIC:                             2167.\n",
       "Df Residuals:                     478   BIC:                             2180.\n",
       "Df Model:                           2                                         \n",
       "Covariance Type:            nonrobust                                         \n",
       "===================================================================================\n",
       "                      coef    std err          t      P>|t|      [0.025      0.975]\n",
       "-----------------------------------------------------------------------------------\n",
       "Intercept          19.3128      4.095      4.716      0.000      11.266      27.359\n",
       "father              0.2923      0.040      7.361      0.000       0.214       0.370\n",
       "mother              0.1935      0.038      5.055      0.000       0.118       0.269\n",
       "midparentHeight     0.2506      0.021     12.091      0.000       0.210       0.291\n",
       "==============================================================================\n",
       "Omnibus:                       10.653   Durbin-Watson:                   1.592\n",
       "Prob(Omnibus):                  0.005   Jarque-Bera (JB):               14.542\n",
       "Skew:                          -0.200   Prob(JB):                     0.000695\n",
       "Kurtosis:                       3.752   Cond. No.                     1.15e+15\n",
       "==============================================================================\n",
       "\n",
       "Notes:\n",
       "[1] Standard Errors assume that the covariance matrix of the errors is correctly specified.\n",
       "[2] The smallest eigenvalue is 4.98e-24. This might indicate that there are\n",
       "strong multicollinearity problems or that the design matrix is singular.\n",
       "\"\"\""
      ]
     },
     "execution_count": 31,
     "metadata": {},
     "output_type": "execute_result"
    }
   ],
   "source": [
    "res.summary()"
   ]
  },
  {
   "cell_type": "markdown",
   "id": "08c7f381",
   "metadata": {
    "slideshow": {
     "slide_type": "slide"
    }
   },
   "source": [
    "* Was ist überhaupt midparentHeight\n",
    "* Im Internet steht dazu viel unverständliches"
   ]
  },
  {
   "cell_type": "markdown",
   "id": "35390100",
   "metadata": {
    "slideshow": {
     "slide_type": "fragment"
    }
   },
   "source": [
    "* statistics to the rescue"
   ]
  },
  {
   "cell_type": "code",
   "execution_count": 32,
   "id": "2983380d",
   "metadata": {
    "slideshow": {
     "slide_type": "slide"
    }
   },
   "outputs": [],
   "source": [
    "formel_mph = \"midparentHeight ~ father + mother\"\n",
    "modell_mph = smf.ols(formel_mph, df)\n",
    "res_mph = modell_mph.fit()"
   ]
  },
  {
   "cell_type": "code",
   "execution_count": 33,
   "id": "18fa1879",
   "metadata": {
    "scrolled": true,
    "slideshow": {
     "slide_type": "slide"
    }
   },
   "outputs": [
    {
     "data": {
      "text/html": [
       "<table class=\"simpletable\">\n",
       "<caption>OLS Regression Results</caption>\n",
       "<tr>\n",
       "  <th>Dep. Variable:</th>     <td>midparentHeight</td> <th>  R-squared:         </th>  <td>   1.000</td> \n",
       "</tr>\n",
       "<tr>\n",
       "  <th>Model:</th>                   <td>OLS</td>       <th>  Adj. R-squared:    </th>  <td>   1.000</td> \n",
       "</tr>\n",
       "<tr>\n",
       "  <th>Method:</th>             <td>Least Squares</td>  <th>  F-statistic:       </th>  <td>6.087e+26</td>\n",
       "</tr>\n",
       "<tr>\n",
       "  <th>Date:</th>             <td>Sun, 15 Jun 2025</td> <th>  Prob (F-statistic):</th>   <td>  0.00</td>  \n",
       "</tr>\n",
       "<tr>\n",
       "  <th>Time:</th>                 <td>11:50:25</td>     <th>  Log-Likelihood:    </th>  <td>  12557.</td> \n",
       "</tr>\n",
       "<tr>\n",
       "  <th>No. Observations:</th>      <td>   481</td>      <th>  AIC:               </th> <td>-2.511e+04</td>\n",
       "</tr>\n",
       "<tr>\n",
       "  <th>Df Residuals:</th>          <td>   478</td>      <th>  BIC:               </th> <td>-2.510e+04</td>\n",
       "</tr>\n",
       "<tr>\n",
       "  <th>Df Model:</th>              <td>     2</td>      <th>                     </th>      <td> </td>    \n",
       "</tr>\n",
       "<tr>\n",
       "  <th>Covariance Type:</th>      <td>nonrobust</td>    <th>                     </th>      <td> </td>    \n",
       "</tr>\n",
       "</table>\n",
       "<table class=\"simpletable\">\n",
       "<tr>\n",
       "      <td></td>         <th>coef</th>     <th>std err</th>      <th>t</th>      <th>P>|t|</th>  <th>[0.025</th>    <th>0.975]</th>  \n",
       "</tr>\n",
       "<tr>\n",
       "  <th>Intercept</th> <td> 4.518e-13</td> <td> 1.99e-12</td> <td>    0.227</td> <td> 0.820</td> <td>-3.46e-12</td> <td> 4.36e-12</td>\n",
       "</tr>\n",
       "<tr>\n",
       "  <th>father</th>    <td>    0.5000</td> <td> 2.22e-14</td> <td> 2.26e+13</td> <td> 0.000</td> <td>    0.500</td> <td>    0.500</td>\n",
       "</tr>\n",
       "<tr>\n",
       "  <th>mother</th>    <td>    0.5400</td> <td>  2.2e-14</td> <td> 2.45e+13</td> <td> 0.000</td> <td>    0.540</td> <td>    0.540</td>\n",
       "</tr>\n",
       "</table>\n",
       "<table class=\"simpletable\">\n",
       "<tr>\n",
       "  <th>Omnibus:</th>       <td>14.588</td> <th>  Durbin-Watson:     </th> <td>   0.000</td>\n",
       "</tr>\n",
       "<tr>\n",
       "  <th>Prob(Omnibus):</th> <td> 0.001</td> <th>  Jarque-Bera (JB):  </th> <td>  18.675</td>\n",
       "</tr>\n",
       "<tr>\n",
       "  <th>Skew:</th>          <td> 0.299</td> <th>  Prob(JB):          </th> <td>8.80e-05</td>\n",
       "</tr>\n",
       "<tr>\n",
       "  <th>Kurtosis:</th>      <td> 3.757</td> <th>  Cond. No.          </th> <td>3.69e+03</td>\n",
       "</tr>\n",
       "</table><br/><br/>Notes:<br/>[1] Standard Errors assume that the covariance matrix of the errors is correctly specified.<br/>[2] The condition number is large, 3.69e+03. This might indicate that there are<br/>strong multicollinearity or other numerical problems."
      ],
      "text/latex": [
       "\\begin{center}\n",
       "\\begin{tabular}{lclc}\n",
       "\\toprule\n",
       "\\textbf{Dep. Variable:}    & midparentHeight  & \\textbf{  R-squared:         } &     1.000   \\\\\n",
       "\\textbf{Model:}            &       OLS        & \\textbf{  Adj. R-squared:    } &     1.000   \\\\\n",
       "\\textbf{Method:}           &  Least Squares   & \\textbf{  F-statistic:       } & 6.087e+26   \\\\\n",
       "\\textbf{Date:}             & Sun, 15 Jun 2025 & \\textbf{  Prob (F-statistic):} &     0.00    \\\\\n",
       "\\textbf{Time:}             &     11:50:25     & \\textbf{  Log-Likelihood:    } &    12557.   \\\\\n",
       "\\textbf{No. Observations:} &         481      & \\textbf{  AIC:               } & -2.511e+04  \\\\\n",
       "\\textbf{Df Residuals:}     &         478      & \\textbf{  BIC:               } & -2.510e+04  \\\\\n",
       "\\textbf{Df Model:}         &           2      & \\textbf{                     } &             \\\\\n",
       "\\textbf{Covariance Type:}  &    nonrobust     & \\textbf{                     } &             \\\\\n",
       "\\bottomrule\n",
       "\\end{tabular}\n",
       "\\begin{tabular}{lcccccc}\n",
       "                   & \\textbf{coef} & \\textbf{std err} & \\textbf{t} & \\textbf{P$> |$t$|$} & \\textbf{[0.025} & \\textbf{0.975]}  \\\\\n",
       "\\midrule\n",
       "\\textbf{Intercept} &    4.518e-13  &     1.99e-12     &     0.227  &         0.820        &    -3.46e-12    &     4.36e-12     \\\\\n",
       "\\textbf{father}    &       0.5000  &     2.22e-14     &  2.26e+13  &         0.000        &        0.500    &        0.500     \\\\\n",
       "\\textbf{mother}    &       0.5400  &      2.2e-14     &  2.45e+13  &         0.000        &        0.540    &        0.540     \\\\\n",
       "\\bottomrule\n",
       "\\end{tabular}\n",
       "\\begin{tabular}{lclc}\n",
       "\\textbf{Omnibus:}       & 14.588 & \\textbf{  Durbin-Watson:     } &    0.000  \\\\\n",
       "\\textbf{Prob(Omnibus):} &  0.001 & \\textbf{  Jarque-Bera (JB):  } &   18.675  \\\\\n",
       "\\textbf{Skew:}          &  0.299 & \\textbf{  Prob(JB):          } & 8.80e-05  \\\\\n",
       "\\textbf{Kurtosis:}      &  3.757 & \\textbf{  Cond. No.          } & 3.69e+03  \\\\\n",
       "\\bottomrule\n",
       "\\end{tabular}\n",
       "%\\caption{OLS Regression Results}\n",
       "\\end{center}\n",
       "\n",
       "Notes: \\newline\n",
       " [1] Standard Errors assume that the covariance matrix of the errors is correctly specified. \\newline\n",
       " [2] The condition number is large, 3.69e+03. This might indicate that there are \\newline\n",
       " strong multicollinearity or other numerical problems."
      ],
      "text/plain": [
       "<class 'statsmodels.iolib.summary.Summary'>\n",
       "\"\"\"\n",
       "                            OLS Regression Results                            \n",
       "==============================================================================\n",
       "Dep. Variable:        midparentHeight   R-squared:                       1.000\n",
       "Model:                            OLS   Adj. R-squared:                  1.000\n",
       "Method:                 Least Squares   F-statistic:                 6.087e+26\n",
       "Date:                Sun, 15 Jun 2025   Prob (F-statistic):               0.00\n",
       "Time:                        11:50:25   Log-Likelihood:                 12557.\n",
       "No. Observations:                 481   AIC:                        -2.511e+04\n",
       "Df Residuals:                     478   BIC:                        -2.510e+04\n",
       "Df Model:                           2                                         \n",
       "Covariance Type:            nonrobust                                         \n",
       "==============================================================================\n",
       "                 coef    std err          t      P>|t|      [0.025      0.975]\n",
       "------------------------------------------------------------------------------\n",
       "Intercept   4.518e-13   1.99e-12      0.227      0.820   -3.46e-12    4.36e-12\n",
       "father         0.5000   2.22e-14   2.26e+13      0.000       0.500       0.500\n",
       "mother         0.5400    2.2e-14   2.45e+13      0.000       0.540       0.540\n",
       "==============================================================================\n",
       "Omnibus:                       14.588   Durbin-Watson:                   0.000\n",
       "Prob(Omnibus):                  0.001   Jarque-Bera (JB):               18.675\n",
       "Skew:                           0.299   Prob(JB):                     8.80e-05\n",
       "Kurtosis:                       3.757   Cond. No.                     3.69e+03\n",
       "==============================================================================\n",
       "\n",
       "Notes:\n",
       "[1] Standard Errors assume that the covariance matrix of the errors is correctly specified.\n",
       "[2] The condition number is large, 3.69e+03. This might indicate that there are\n",
       "strong multicollinearity or other numerical problems.\n",
       "\"\"\""
      ]
     },
     "execution_count": 33,
     "metadata": {},
     "output_type": "execute_result"
    }
   ],
   "source": [
    "res_mph.summary()"
   ]
  },
  {
   "cell_type": "markdown",
   "id": "58168d95",
   "metadata": {
    "slideshow": {
     "slide_type": "fragment"
    }
   },
   "source": [
    "Also\n",
    "\n",
    "> midparentHeight = (father + 1.08 * mother)/2"
   ]
  }
 ],
 "metadata": {
  "celltoolbar": "Slideshow",
  "kernelspec": {
   "display_name": "Python 3 (ipykernel)",
   "language": "python",
   "name": "python3"
  },
  "language_info": {
   "codemirror_mode": {
    "name": "ipython",
    "version": 3
   },
   "file_extension": ".py",
   "mimetype": "text/x-python",
   "name": "python",
   "nbconvert_exporter": "python",
   "pygments_lexer": "ipython3",
   "version": "3.11.10"
  }
 },
 "nbformat": 4,
 "nbformat_minor": 5
}
