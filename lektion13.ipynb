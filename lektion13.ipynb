{
 "cells": [
  {
   "cell_type": "markdown",
   "id": "97e910de",
   "metadata": {
    "slideshow": {
     "slide_type": "slide"
    }
   },
   "source": [
    "# Mathematik für Biologiestudierende\n",
    "\n",
    "Wintersemester 2024/25\n",
    "\n",
    "15.01.2025\n",
    "\n",
    "&copy; 2025 Prof. Dr. Rüdiger W. Braun "
   ]
  },
  {
   "cell_type": "markdown",
   "id": "5179ec7c",
   "metadata": {
    "slideshow": {
     "slide_type": "slide"
    }
   },
   "source": [
    "# Themen heute\n",
    "\n",
    "* Wiederholung t-Tests\n",
    "* p-Wert\n",
    "* Z-Test\n",
    "* Power-Analyse"
   ]
  },
  {
   "cell_type": "code",
   "execution_count": 1,
   "id": "fd7aca67",
   "metadata": {
    "slideshow": {
     "slide_type": "slide"
    }
   },
   "outputs": [],
   "source": [
    "from scipy import stats\n",
    "import pandas as pd\n",
    "import numpy as np\n",
    "np.set_printoptions(legacy='1.21')\n",
    "import seaborn as sns\n",
    "sns.set_theme()"
   ]
  },
  {
   "cell_type": "markdown",
   "id": "e0268d1a",
   "metadata": {
    "slideshow": {
     "slide_type": "slide"
    }
   },
   "source": [
    "# Anatomie eines Tests\n",
    "\n",
    "(gilt nicht für den Binomialtest)"
   ]
  },
  {
   "cell_type": "markdown",
   "id": "3c274396",
   "metadata": {
    "slideshow": {
     "slide_type": "fragment"
    }
   },
   "source": [
    "### Teststatistik\n",
    "\n",
    "* berechnet sich aus den Daten\n",
    "* führt zu einer Zahl, gennant **Teststatistik**, meist abgekürzt mit $t$\n",
    "* $t=0$ bedeutet: überhaupt kein Unterschied zwischen Daten und Nullhypothese\n"
   ]
  },
  {
   "cell_type": "markdown",
   "id": "b0c5a9e8",
   "metadata": {
    "slideshow": {
     "slide_type": "fragment"
    }
   },
   "source": [
    "### Entscheidungsregel\n",
    "\n",
    "* benötigt wird ein **Quantil** \n",
    "* zu welcher Verteilung das Quantil bestimmt werden muss, hängt vom Test ab\n",
    "* zweiseitiger Test:  Die Nullhypothese wird abgelehnt, wenn $|t|$ größer als das Quantil ist\n",
    "* einseitiger oberer Test:  Die Nullhypothese wird abgelehnt, wenn $t$ größer als das Qunatil ist\n",
    "* einseitiger unterer Test:  Die Nullhypothese wird abgelehnt, wenn $-t$ größer als das Quantil ist"
   ]
  },
  {
   "cell_type": "markdown",
   "id": "4b504fb8",
   "metadata": {
    "slideshow": {
     "slide_type": "fragment"
    }
   },
   "source": [
    "Zusammenfassung:  Die Nullhypothese wird abgelehnt, wenn die Teststatistik weit genug weg von der Null ist, wobei bei den einseitigen darauf geachtet werden muss, dass sie \"in die richtige Richtung zeigt\""
   ]
  },
  {
   "cell_type": "markdown",
   "id": "2f4144d1",
   "metadata": {
    "slideshow": {
     "slide_type": "slide"
    }
   },
   "source": [
    "# $t$-Tests für Erwartungswerte"
   ]
  },
  {
   "cell_type": "markdown",
   "id": "27f9784b",
   "metadata": {},
   "source": [
    "Wiederholung aus der vorigen Stunde"
   ]
  },
  {
   "cell_type": "markdown",
   "id": "eaafc5eb",
   "metadata": {
    "slideshow": {
     "slide_type": "slide"
    }
   },
   "source": [
    "### $t$-Test für unverbundene Stichproben"
   ]
  },
  {
   "cell_type": "markdown",
   "id": "7e553bb5",
   "metadata": {
    "slideshow": {
     "slide_type": "fragment"
    }
   },
   "source": [
    "* $x_j$ und $y_j$ seien Realisierungen, also die Daten\n",
    "* Bestimme arithmetische Mittelwerte \n",
    "$$      \\overline x = \\frac1{n_1} \\sum_{j=1}^{n_1} x_j \n",
    "\\text{ und } \\overline y = \\frac1{n_2} \\sum_{j=1}^{n_2} y_j $$"
   ]
  },
  {
   "cell_type": "markdown",
   "id": "2eb71805",
   "metadata": {
    "slideshow": {
     "slide_type": "fragment"
    }
   },
   "source": [
    "* die Stichprobenstreuungen\n",
    "\n",
    "$$  s_x = \\sqrt{ \\frac1{n_1-1} \\sum_{j=1}^{n_1} (x_j - \\overline x)^2 } \\text{ und } \n",
    "        s_y = \\sqrt{ \\frac1{n_2-1} \\sum_{j=1}^{n_2} (y_j - \\overline y)^2 }  $$"
   ]
  },
  {
   "cell_type": "markdown",
   "id": "c9f39b5e",
   "metadata": {
    "slideshow": {
     "slide_type": "fragment"
    }
   },
   "source": [
    "        \n",
    "* Bestimme die *Standardabweichung der gepoolten Stichproben*\n",
    "\n",
    "$$       s_p = \\sqrt{ \\frac{(n_1-1) \\cdot s_x^2 + (n_2 - 1) \\cdot\n",
    "          s_y^2}{n_1 + n_2 - 2} }  $$"
   ]
  },
  {
   "cell_type": "markdown",
   "id": "a848da23",
   "metadata": {
    "slideshow": {
     "slide_type": "fragment"
    }
   },
   "source": [
    "* Die Teststatistik ist\n",
    "\n",
    "$$      t = \\frac{\\overline x - \\overline y}{s_p} \\sqrt{\\frac{n_1\n",
    "          \\cdot n_2}{n_1 + n_2}}  $$"
   ]
  },
  {
   "cell_type": "markdown",
   "id": "86dd8aba",
   "metadata": {
    "slideshow": {
     "slide_type": "slide"
    }
   },
   "source": [
    "## Beispiel: Pinguine"
   ]
  },
  {
   "cell_type": "code",
   "execution_count": 2,
   "id": "502170d8",
   "metadata": {},
   "outputs": [
    {
     "data": {
      "text/html": [
       "<div>\n",
       "<style scoped>\n",
       "    .dataframe tbody tr th:only-of-type {\n",
       "        vertical-align: middle;\n",
       "    }\n",
       "\n",
       "    .dataframe tbody tr th {\n",
       "        vertical-align: top;\n",
       "    }\n",
       "\n",
       "    .dataframe thead th {\n",
       "        text-align: right;\n",
       "    }\n",
       "</style>\n",
       "<table border=\"1\" class=\"dataframe\">\n",
       "  <thead>\n",
       "    <tr style=\"text-align: right;\">\n",
       "      <th></th>\n",
       "      <th>species</th>\n",
       "      <th>island</th>\n",
       "      <th>bill_length_mm</th>\n",
       "      <th>bill_depth_mm</th>\n",
       "      <th>flipper_length_mm</th>\n",
       "      <th>body_mass_g</th>\n",
       "      <th>sex</th>\n",
       "    </tr>\n",
       "  </thead>\n",
       "  <tbody>\n",
       "    <tr>\n",
       "      <th>0</th>\n",
       "      <td>Adelie</td>\n",
       "      <td>Torgersen</td>\n",
       "      <td>39.1</td>\n",
       "      <td>18.7</td>\n",
       "      <td>181.0</td>\n",
       "      <td>3750.0</td>\n",
       "      <td>Male</td>\n",
       "    </tr>\n",
       "    <tr>\n",
       "      <th>1</th>\n",
       "      <td>Adelie</td>\n",
       "      <td>Torgersen</td>\n",
       "      <td>39.5</td>\n",
       "      <td>17.4</td>\n",
       "      <td>186.0</td>\n",
       "      <td>3800.0</td>\n",
       "      <td>Female</td>\n",
       "    </tr>\n",
       "    <tr>\n",
       "      <th>2</th>\n",
       "      <td>Adelie</td>\n",
       "      <td>Torgersen</td>\n",
       "      <td>40.3</td>\n",
       "      <td>18.0</td>\n",
       "      <td>195.0</td>\n",
       "      <td>3250.0</td>\n",
       "      <td>Female</td>\n",
       "    </tr>\n",
       "    <tr>\n",
       "      <th>3</th>\n",
       "      <td>Adelie</td>\n",
       "      <td>Torgersen</td>\n",
       "      <td>NaN</td>\n",
       "      <td>NaN</td>\n",
       "      <td>NaN</td>\n",
       "      <td>NaN</td>\n",
       "      <td>NaN</td>\n",
       "    </tr>\n",
       "    <tr>\n",
       "      <th>4</th>\n",
       "      <td>Adelie</td>\n",
       "      <td>Torgersen</td>\n",
       "      <td>36.7</td>\n",
       "      <td>19.3</td>\n",
       "      <td>193.0</td>\n",
       "      <td>3450.0</td>\n",
       "      <td>Female</td>\n",
       "    </tr>\n",
       "    <tr>\n",
       "      <th>...</th>\n",
       "      <td>...</td>\n",
       "      <td>...</td>\n",
       "      <td>...</td>\n",
       "      <td>...</td>\n",
       "      <td>...</td>\n",
       "      <td>...</td>\n",
       "      <td>...</td>\n",
       "    </tr>\n",
       "    <tr>\n",
       "      <th>339</th>\n",
       "      <td>Gentoo</td>\n",
       "      <td>Biscoe</td>\n",
       "      <td>NaN</td>\n",
       "      <td>NaN</td>\n",
       "      <td>NaN</td>\n",
       "      <td>NaN</td>\n",
       "      <td>NaN</td>\n",
       "    </tr>\n",
       "    <tr>\n",
       "      <th>340</th>\n",
       "      <td>Gentoo</td>\n",
       "      <td>Biscoe</td>\n",
       "      <td>46.8</td>\n",
       "      <td>14.3</td>\n",
       "      <td>215.0</td>\n",
       "      <td>4850.0</td>\n",
       "      <td>Female</td>\n",
       "    </tr>\n",
       "    <tr>\n",
       "      <th>341</th>\n",
       "      <td>Gentoo</td>\n",
       "      <td>Biscoe</td>\n",
       "      <td>50.4</td>\n",
       "      <td>15.7</td>\n",
       "      <td>222.0</td>\n",
       "      <td>5750.0</td>\n",
       "      <td>Male</td>\n",
       "    </tr>\n",
       "    <tr>\n",
       "      <th>342</th>\n",
       "      <td>Gentoo</td>\n",
       "      <td>Biscoe</td>\n",
       "      <td>45.2</td>\n",
       "      <td>14.8</td>\n",
       "      <td>212.0</td>\n",
       "      <td>5200.0</td>\n",
       "      <td>Female</td>\n",
       "    </tr>\n",
       "    <tr>\n",
       "      <th>343</th>\n",
       "      <td>Gentoo</td>\n",
       "      <td>Biscoe</td>\n",
       "      <td>49.9</td>\n",
       "      <td>16.1</td>\n",
       "      <td>213.0</td>\n",
       "      <td>5400.0</td>\n",
       "      <td>Male</td>\n",
       "    </tr>\n",
       "  </tbody>\n",
       "</table>\n",
       "<p>344 rows × 7 columns</p>\n",
       "</div>"
      ],
      "text/plain": [
       "    species     island  bill_length_mm  bill_depth_mm  flipper_length_mm  \\\n",
       "0    Adelie  Torgersen            39.1           18.7              181.0   \n",
       "1    Adelie  Torgersen            39.5           17.4              186.0   \n",
       "2    Adelie  Torgersen            40.3           18.0              195.0   \n",
       "3    Adelie  Torgersen             NaN            NaN                NaN   \n",
       "4    Adelie  Torgersen            36.7           19.3              193.0   \n",
       "..      ...        ...             ...            ...                ...   \n",
       "339  Gentoo     Biscoe             NaN            NaN                NaN   \n",
       "340  Gentoo     Biscoe            46.8           14.3              215.0   \n",
       "341  Gentoo     Biscoe            50.4           15.7              222.0   \n",
       "342  Gentoo     Biscoe            45.2           14.8              212.0   \n",
       "343  Gentoo     Biscoe            49.9           16.1              213.0   \n",
       "\n",
       "     body_mass_g     sex  \n",
       "0         3750.0    Male  \n",
       "1         3800.0  Female  \n",
       "2         3250.0  Female  \n",
       "3            NaN     NaN  \n",
       "4         3450.0  Female  \n",
       "..           ...     ...  \n",
       "339          NaN     NaN  \n",
       "340       4850.0  Female  \n",
       "341       5750.0    Male  \n",
       "342       5200.0  Female  \n",
       "343       5400.0    Male  \n",
       "\n",
       "[344 rows x 7 columns]"
      ]
     },
     "execution_count": 2,
     "metadata": {},
     "output_type": "execute_result"
    }
   ],
   "source": [
    "df = sns.load_dataset(\"penguins\") \n",
    "df"
   ]
  },
  {
   "cell_type": "markdown",
   "id": "93f076e4",
   "metadata": {
    "slideshow": {
     "slide_type": "slide"
    }
   },
   "source": [
    "Unterscheiden sich die Flügellängen der Adelie-Pinguine je nach Geschlecht?"
   ]
  },
  {
   "cell_type": "code",
   "execution_count": 3,
   "id": "5802efd6",
   "metadata": {},
   "outputs": [
    {
     "data": {
      "text/html": [
       "<div>\n",
       "<style scoped>\n",
       "    .dataframe tbody tr th:only-of-type {\n",
       "        vertical-align: middle;\n",
       "    }\n",
       "\n",
       "    .dataframe tbody tr th {\n",
       "        vertical-align: top;\n",
       "    }\n",
       "\n",
       "    .dataframe thead th {\n",
       "        text-align: right;\n",
       "    }\n",
       "</style>\n",
       "<table border=\"1\" class=\"dataframe\">\n",
       "  <thead>\n",
       "    <tr style=\"text-align: right;\">\n",
       "      <th></th>\n",
       "      <th>species</th>\n",
       "      <th>island</th>\n",
       "      <th>bill_length_mm</th>\n",
       "      <th>bill_depth_mm</th>\n",
       "      <th>flipper_length_mm</th>\n",
       "      <th>body_mass_g</th>\n",
       "      <th>sex</th>\n",
       "    </tr>\n",
       "  </thead>\n",
       "  <tbody>\n",
       "    <tr>\n",
       "      <th>0</th>\n",
       "      <td>Adelie</td>\n",
       "      <td>Torgersen</td>\n",
       "      <td>39.1</td>\n",
       "      <td>18.7</td>\n",
       "      <td>181.0</td>\n",
       "      <td>3750.0</td>\n",
       "      <td>Male</td>\n",
       "    </tr>\n",
       "    <tr>\n",
       "      <th>1</th>\n",
       "      <td>Adelie</td>\n",
       "      <td>Torgersen</td>\n",
       "      <td>39.5</td>\n",
       "      <td>17.4</td>\n",
       "      <td>186.0</td>\n",
       "      <td>3800.0</td>\n",
       "      <td>Female</td>\n",
       "    </tr>\n",
       "    <tr>\n",
       "      <th>2</th>\n",
       "      <td>Adelie</td>\n",
       "      <td>Torgersen</td>\n",
       "      <td>40.3</td>\n",
       "      <td>18.0</td>\n",
       "      <td>195.0</td>\n",
       "      <td>3250.0</td>\n",
       "      <td>Female</td>\n",
       "    </tr>\n",
       "    <tr>\n",
       "      <th>3</th>\n",
       "      <td>Adelie</td>\n",
       "      <td>Torgersen</td>\n",
       "      <td>NaN</td>\n",
       "      <td>NaN</td>\n",
       "      <td>NaN</td>\n",
       "      <td>NaN</td>\n",
       "      <td>NaN</td>\n",
       "    </tr>\n",
       "    <tr>\n",
       "      <th>4</th>\n",
       "      <td>Adelie</td>\n",
       "      <td>Torgersen</td>\n",
       "      <td>36.7</td>\n",
       "      <td>19.3</td>\n",
       "      <td>193.0</td>\n",
       "      <td>3450.0</td>\n",
       "      <td>Female</td>\n",
       "    </tr>\n",
       "    <tr>\n",
       "      <th>...</th>\n",
       "      <td>...</td>\n",
       "      <td>...</td>\n",
       "      <td>...</td>\n",
       "      <td>...</td>\n",
       "      <td>...</td>\n",
       "      <td>...</td>\n",
       "      <td>...</td>\n",
       "    </tr>\n",
       "    <tr>\n",
       "      <th>147</th>\n",
       "      <td>Adelie</td>\n",
       "      <td>Dream</td>\n",
       "      <td>36.6</td>\n",
       "      <td>18.4</td>\n",
       "      <td>184.0</td>\n",
       "      <td>3475.0</td>\n",
       "      <td>Female</td>\n",
       "    </tr>\n",
       "    <tr>\n",
       "      <th>148</th>\n",
       "      <td>Adelie</td>\n",
       "      <td>Dream</td>\n",
       "      <td>36.0</td>\n",
       "      <td>17.8</td>\n",
       "      <td>195.0</td>\n",
       "      <td>3450.0</td>\n",
       "      <td>Female</td>\n",
       "    </tr>\n",
       "    <tr>\n",
       "      <th>149</th>\n",
       "      <td>Adelie</td>\n",
       "      <td>Dream</td>\n",
       "      <td>37.8</td>\n",
       "      <td>18.1</td>\n",
       "      <td>193.0</td>\n",
       "      <td>3750.0</td>\n",
       "      <td>Male</td>\n",
       "    </tr>\n",
       "    <tr>\n",
       "      <th>150</th>\n",
       "      <td>Adelie</td>\n",
       "      <td>Dream</td>\n",
       "      <td>36.0</td>\n",
       "      <td>17.1</td>\n",
       "      <td>187.0</td>\n",
       "      <td>3700.0</td>\n",
       "      <td>Female</td>\n",
       "    </tr>\n",
       "    <tr>\n",
       "      <th>151</th>\n",
       "      <td>Adelie</td>\n",
       "      <td>Dream</td>\n",
       "      <td>41.5</td>\n",
       "      <td>18.5</td>\n",
       "      <td>201.0</td>\n",
       "      <td>4000.0</td>\n",
       "      <td>Male</td>\n",
       "    </tr>\n",
       "  </tbody>\n",
       "</table>\n",
       "<p>152 rows × 7 columns</p>\n",
       "</div>"
      ],
      "text/plain": [
       "    species     island  bill_length_mm  bill_depth_mm  flipper_length_mm  \\\n",
       "0    Adelie  Torgersen            39.1           18.7              181.0   \n",
       "1    Adelie  Torgersen            39.5           17.4              186.0   \n",
       "2    Adelie  Torgersen            40.3           18.0              195.0   \n",
       "3    Adelie  Torgersen             NaN            NaN                NaN   \n",
       "4    Adelie  Torgersen            36.7           19.3              193.0   \n",
       "..      ...        ...             ...            ...                ...   \n",
       "147  Adelie      Dream            36.6           18.4              184.0   \n",
       "148  Adelie      Dream            36.0           17.8              195.0   \n",
       "149  Adelie      Dream            37.8           18.1              193.0   \n",
       "150  Adelie      Dream            36.0           17.1              187.0   \n",
       "151  Adelie      Dream            41.5           18.5              201.0   \n",
       "\n",
       "     body_mass_g     sex  \n",
       "0         3750.0    Male  \n",
       "1         3800.0  Female  \n",
       "2         3250.0  Female  \n",
       "3            NaN     NaN  \n",
       "4         3450.0  Female  \n",
       "..           ...     ...  \n",
       "147       3475.0  Female  \n",
       "148       3450.0  Female  \n",
       "149       3750.0    Male  \n",
       "150       3700.0  Female  \n",
       "151       4000.0    Male  \n",
       "\n",
       "[152 rows x 7 columns]"
      ]
     },
     "execution_count": 3,
     "metadata": {},
     "output_type": "execute_result"
    }
   ],
   "source": [
    "adelie = df[df.species==\"Adelie\"]\n",
    "adelie"
   ]
  },
  {
   "cell_type": "code",
   "execution_count": 4,
   "id": "1fab6925",
   "metadata": {
    "slideshow": {
     "slide_type": "slide"
    }
   },
   "outputs": [
    {
     "data": {
      "text/plain": [
       "sex\n",
       "Male      73\n",
       "Female    73\n",
       "Name: count, dtype: int64"
      ]
     },
     "execution_count": 4,
     "metadata": {},
     "output_type": "execute_result"
    }
   ],
   "source": [
    "adelie.sex.value_counts()"
   ]
  },
  {
   "cell_type": "code",
   "execution_count": 5,
   "id": "54144839",
   "metadata": {},
   "outputs": [],
   "source": [
    "am = adelie[adelie.sex==\"Male\"]\n",
    "af = adelie[adelie.sex==\"Female\"]"
   ]
  },
  {
   "cell_type": "code",
   "execution_count": 6,
   "id": "2c138c49",
   "metadata": {
    "slideshow": {
     "slide_type": "slide"
    }
   },
   "outputs": [
    {
     "data": {
      "text/html": [
       "<div>\n",
       "<style scoped>\n",
       "    .dataframe tbody tr th:only-of-type {\n",
       "        vertical-align: middle;\n",
       "    }\n",
       "\n",
       "    .dataframe tbody tr th {\n",
       "        vertical-align: top;\n",
       "    }\n",
       "\n",
       "    .dataframe thead th {\n",
       "        text-align: right;\n",
       "    }\n",
       "</style>\n",
       "<table border=\"1\" class=\"dataframe\">\n",
       "  <thead>\n",
       "    <tr style=\"text-align: right;\">\n",
       "      <th></th>\n",
       "      <th>bill_length_mm</th>\n",
       "      <th>bill_depth_mm</th>\n",
       "      <th>flipper_length_mm</th>\n",
       "      <th>body_mass_g</th>\n",
       "    </tr>\n",
       "  </thead>\n",
       "  <tbody>\n",
       "    <tr>\n",
       "      <th>count</th>\n",
       "      <td>73.000000</td>\n",
       "      <td>73.000000</td>\n",
       "      <td>73.000000</td>\n",
       "      <td>73.000000</td>\n",
       "    </tr>\n",
       "    <tr>\n",
       "      <th>mean</th>\n",
       "      <td>40.390411</td>\n",
       "      <td>19.072603</td>\n",
       "      <td>192.410959</td>\n",
       "      <td>4043.493151</td>\n",
       "    </tr>\n",
       "    <tr>\n",
       "      <th>std</th>\n",
       "      <td>2.277131</td>\n",
       "      <td>1.018886</td>\n",
       "      <td>6.599317</td>\n",
       "      <td>346.811553</td>\n",
       "    </tr>\n",
       "    <tr>\n",
       "      <th>min</th>\n",
       "      <td>34.600000</td>\n",
       "      <td>17.000000</td>\n",
       "      <td>178.000000</td>\n",
       "      <td>3325.000000</td>\n",
       "    </tr>\n",
       "    <tr>\n",
       "      <th>25%</th>\n",
       "      <td>39.000000</td>\n",
       "      <td>18.500000</td>\n",
       "      <td>189.000000</td>\n",
       "      <td>3800.000000</td>\n",
       "    </tr>\n",
       "    <tr>\n",
       "      <th>50%</th>\n",
       "      <td>40.600000</td>\n",
       "      <td>18.900000</td>\n",
       "      <td>193.000000</td>\n",
       "      <td>4000.000000</td>\n",
       "    </tr>\n",
       "    <tr>\n",
       "      <th>75%</th>\n",
       "      <td>41.500000</td>\n",
       "      <td>19.600000</td>\n",
       "      <td>197.000000</td>\n",
       "      <td>4300.000000</td>\n",
       "    </tr>\n",
       "    <tr>\n",
       "      <th>max</th>\n",
       "      <td>46.000000</td>\n",
       "      <td>21.500000</td>\n",
       "      <td>210.000000</td>\n",
       "      <td>4775.000000</td>\n",
       "    </tr>\n",
       "  </tbody>\n",
       "</table>\n",
       "</div>"
      ],
      "text/plain": [
       "       bill_length_mm  bill_depth_mm  flipper_length_mm  body_mass_g\n",
       "count       73.000000      73.000000          73.000000    73.000000\n",
       "mean        40.390411      19.072603         192.410959  4043.493151\n",
       "std          2.277131       1.018886           6.599317   346.811553\n",
       "min         34.600000      17.000000         178.000000  3325.000000\n",
       "25%         39.000000      18.500000         189.000000  3800.000000\n",
       "50%         40.600000      18.900000         193.000000  4000.000000\n",
       "75%         41.500000      19.600000         197.000000  4300.000000\n",
       "max         46.000000      21.500000         210.000000  4775.000000"
      ]
     },
     "execution_count": 6,
     "metadata": {},
     "output_type": "execute_result"
    }
   ],
   "source": [
    "am.describe()"
   ]
  },
  {
   "cell_type": "code",
   "execution_count": 7,
   "id": "bbca877f",
   "metadata": {},
   "outputs": [
    {
     "data": {
      "text/html": [
       "<div>\n",
       "<style scoped>\n",
       "    .dataframe tbody tr th:only-of-type {\n",
       "        vertical-align: middle;\n",
       "    }\n",
       "\n",
       "    .dataframe tbody tr th {\n",
       "        vertical-align: top;\n",
       "    }\n",
       "\n",
       "    .dataframe thead th {\n",
       "        text-align: right;\n",
       "    }\n",
       "</style>\n",
       "<table border=\"1\" class=\"dataframe\">\n",
       "  <thead>\n",
       "    <tr style=\"text-align: right;\">\n",
       "      <th></th>\n",
       "      <th>bill_length_mm</th>\n",
       "      <th>bill_depth_mm</th>\n",
       "      <th>flipper_length_mm</th>\n",
       "      <th>body_mass_g</th>\n",
       "    </tr>\n",
       "  </thead>\n",
       "  <tbody>\n",
       "    <tr>\n",
       "      <th>count</th>\n",
       "      <td>73.000000</td>\n",
       "      <td>73.000000</td>\n",
       "      <td>73.000000</td>\n",
       "      <td>73.000000</td>\n",
       "    </tr>\n",
       "    <tr>\n",
       "      <th>mean</th>\n",
       "      <td>37.257534</td>\n",
       "      <td>17.621918</td>\n",
       "      <td>187.794521</td>\n",
       "      <td>3368.835616</td>\n",
       "    </tr>\n",
       "    <tr>\n",
       "      <th>std</th>\n",
       "      <td>2.028883</td>\n",
       "      <td>0.942993</td>\n",
       "      <td>5.595035</td>\n",
       "      <td>269.380102</td>\n",
       "    </tr>\n",
       "    <tr>\n",
       "      <th>min</th>\n",
       "      <td>32.100000</td>\n",
       "      <td>15.500000</td>\n",
       "      <td>172.000000</td>\n",
       "      <td>2850.000000</td>\n",
       "    </tr>\n",
       "    <tr>\n",
       "      <th>25%</th>\n",
       "      <td>35.900000</td>\n",
       "      <td>17.000000</td>\n",
       "      <td>185.000000</td>\n",
       "      <td>3175.000000</td>\n",
       "    </tr>\n",
       "    <tr>\n",
       "      <th>50%</th>\n",
       "      <td>37.000000</td>\n",
       "      <td>17.600000</td>\n",
       "      <td>188.000000</td>\n",
       "      <td>3400.000000</td>\n",
       "    </tr>\n",
       "    <tr>\n",
       "      <th>75%</th>\n",
       "      <td>38.800000</td>\n",
       "      <td>18.300000</td>\n",
       "      <td>191.000000</td>\n",
       "      <td>3550.000000</td>\n",
       "    </tr>\n",
       "    <tr>\n",
       "      <th>max</th>\n",
       "      <td>42.200000</td>\n",
       "      <td>20.700000</td>\n",
       "      <td>202.000000</td>\n",
       "      <td>3900.000000</td>\n",
       "    </tr>\n",
       "  </tbody>\n",
       "</table>\n",
       "</div>"
      ],
      "text/plain": [
       "       bill_length_mm  bill_depth_mm  flipper_length_mm  body_mass_g\n",
       "count       73.000000      73.000000          73.000000    73.000000\n",
       "mean        37.257534      17.621918         187.794521  3368.835616\n",
       "std          2.028883       0.942993           5.595035   269.380102\n",
       "min         32.100000      15.500000         172.000000  2850.000000\n",
       "25%         35.900000      17.000000         185.000000  3175.000000\n",
       "50%         37.000000      17.600000         188.000000  3400.000000\n",
       "75%         38.800000      18.300000         191.000000  3550.000000\n",
       "max         42.200000      20.700000         202.000000  3900.000000"
      ]
     },
     "execution_count": 7,
     "metadata": {},
     "output_type": "execute_result"
    }
   ],
   "source": [
    "af.describe()"
   ]
  },
  {
   "cell_type": "markdown",
   "id": "02827a16",
   "metadata": {
    "slideshow": {
     "slide_type": "slide"
    }
   },
   "source": [
    "Standardabweichung der gepoolten Stichproben\n",
    "\n",
    "$n_1-1 = 72$ und $n_2-1=72$"
   ]
  },
  {
   "cell_type": "code",
   "execution_count": 8,
   "id": "16ebfc03",
   "metadata": {},
   "outputs": [
    {
     "data": {
      "text/plain": [
       "6.117631322660757"
      ]
     },
     "execution_count": 8,
     "metadata": {},
     "output_type": "execute_result"
    }
   ],
   "source": [
    "zaehler = 72*6.599**2 + 72*5.595**2\n",
    "nenner = 72 + 72\n",
    "sp = np.sqrt(zaehler/nenner)\n",
    "sp"
   ]
  },
  {
   "cell_type": "code",
   "execution_count": 9,
   "id": "3fa041dc",
   "metadata": {},
   "outputs": [
    {
     "data": {
      "text/plain": [
       "36.5"
      ]
     },
     "execution_count": 9,
     "metadata": {},
     "output_type": "execute_result"
    }
   ],
   "source": [
    "faktor = (73*73) / (73+73)\n",
    "faktor"
   ]
  },
  {
   "cell_type": "markdown",
   "id": "b3bb0963",
   "metadata": {
    "slideshow": {
     "slide_type": "fragment"
    }
   },
   "source": [
    "Teststatistik"
   ]
  },
  {
   "cell_type": "code",
   "execution_count": 10,
   "id": "2073a97a",
   "metadata": {},
   "outputs": [
    {
     "data": {
      "text/plain": [
       "4.542772238713508"
      ]
     },
     "execution_count": 10,
     "metadata": {},
     "output_type": "execute_result"
    }
   ],
   "source": [
    "t = (192.4-187.8) / sp * np.sqrt(faktor)\n",
    "t"
   ]
  },
  {
   "cell_type": "markdown",
   "id": "646d28c4",
   "metadata": {
    "slideshow": {
     "slide_type": "slide"
    }
   },
   "source": [
    "Quantil für $\\alpha=0.05$ \n",
    "\n",
    "Dann $1-\\frac\\alpha2 = 0.975$"
   ]
  },
  {
   "cell_type": "code",
   "execution_count": 11,
   "id": "439718aa",
   "metadata": {},
   "outputs": [
    {
     "data": {
      "text/plain": [
       "1.9765750658185364"
      ]
     },
     "execution_count": 11,
     "metadata": {},
     "output_type": "execute_result"
    }
   ],
   "source": [
    "P = stats.t(72+72)\n",
    "P.ppf(0.975)"
   ]
  },
  {
   "cell_type": "markdown",
   "id": "dc913803",
   "metadata": {
    "slideshow": {
     "slide_type": "fragment"
    }
   },
   "source": [
    "Die Nullhypothese wird abgelehnt:  Männliche Adelie-Pinguine haben längere Flügel"
   ]
  },
  {
   "cell_type": "markdown",
   "id": "5f3b1a99",
   "metadata": {
    "slideshow": {
     "slide_type": "slide"
    }
   },
   "source": [
    "## Dasselbe mit `stats`"
   ]
  },
  {
   "cell_type": "code",
   "execution_count": 12,
   "id": "5bfcab1a",
   "metadata": {},
   "outputs": [
    {
     "data": {
      "text/plain": [
       "TtestResult(statistic=4.5588666963515765, pvalue=1.08977531716496e-05, df=144.0)"
      ]
     },
     "execution_count": 12,
     "metadata": {},
     "output_type": "execute_result"
    }
   ],
   "source": [
    "stats.ttest_ind(am.flipper_length_mm, af.flipper_length_mm)"
   ]
  },
  {
   "cell_type": "markdown",
   "id": "d6c4ad93",
   "metadata": {
    "slideshow": {
     "slide_type": "fragment"
    }
   },
   "source": [
    "Die Werte der Teststatistik unterscheiden sich!\n",
    "\n",
    "Woran liegt das?\n",
    "\n",
    "Rundungsfehler"
   ]
  },
  {
   "cell_type": "code",
   "execution_count": 13,
   "id": "b219778f",
   "metadata": {
    "slideshow": {
     "slide_type": "slide"
    }
   },
   "outputs": [
    {
     "data": {
      "text/plain": [
       "6.117818375391429"
      ]
     },
     "execution_count": 13,
     "metadata": {},
     "output_type": "execute_result"
    }
   ],
   "source": [
    "zaehler = 72*am.flipper_length_mm.std()**2 + 72*af.flipper_length_mm.std()**2\n",
    "nenner = 72 + 72\n",
    "sp = np.sqrt(zaehler/nenner)\n",
    "sp"
   ]
  },
  {
   "cell_type": "code",
   "execution_count": 14,
   "id": "19197532",
   "metadata": {},
   "outputs": [
    {
     "data": {
      "text/plain": [
       "4.5588666963515765"
      ]
     },
     "execution_count": 14,
     "metadata": {},
     "output_type": "execute_result"
    }
   ],
   "source": [
    "t = (am.flipper_length_mm.mean()-af.flipper_length_mm.mean()) / sp * np.sqrt(faktor)\n",
    "t"
   ]
  },
  {
   "cell_type": "markdown",
   "id": "5eaa7edb",
   "metadata": {},
   "source": [
    "Zum Vergleich"
   ]
  },
  {
   "cell_type": "code",
   "execution_count": 15,
   "id": "196fa30d",
   "metadata": {},
   "outputs": [
    {
     "data": {
      "text/plain": [
       "4.5588666963515765"
      ]
     },
     "execution_count": 15,
     "metadata": {},
     "output_type": "execute_result"
    }
   ],
   "source": [
    "stats.ttest_ind(am.flipper_length_mm, af.flipper_length_mm).statistic"
   ]
  },
  {
   "cell_type": "markdown",
   "id": "c4ab33c6",
   "metadata": {
    "slideshow": {
     "slide_type": "slide"
    }
   },
   "source": [
    "# Der p-Wert"
   ]
  },
  {
   "cell_type": "markdown",
   "id": "67efb46e",
   "metadata": {
    "slideshow": {
     "slide_type": "slide"
    }
   },
   "source": [
    "* Der p-Wert ist das kleinste Signifikanzniveau, zu dem die Nullhypothese noch abgelehnt werden kann\n",
    "* Um ihn zu bestimmen, benötigen wir die Verteilungsfunktion der Statistik\n",
    "* wir bezeichnen sie mal kurz mit $F$\n",
    "* in scipy erhalten wir sie durch `P.cdf()`"
   ]
  },
  {
   "cell_type": "markdown",
   "id": "a6f6f985",
   "metadata": {
    "slideshow": {
     "slide_type": "fragment"
    }
   },
   "source": [
    "* eim einseitigen oberen Test ist der p-Wert gleich $1 - F(t)$\n",
    "* beim einseitigen unteren Test ist der p-Wert gleich $1 - F(-t)$\n",
    "* beim zweiseitigen Test ist der p-Wert gleich $2(1 - F(|t|)$"
   ]
  },
  {
   "cell_type": "markdown",
   "id": "f1695643",
   "metadata": {
    "slideshow": {
     "slide_type": "slide"
    }
   },
   "source": [
    "Zurück zum Pinguin-Beispiel"
   ]
  },
  {
   "cell_type": "code",
   "execution_count": 16,
   "id": "02e9289d",
   "metadata": {},
   "outputs": [
    {
     "data": {
      "text/plain": [
       "1.0897753171645874e-05"
      ]
     },
     "execution_count": 16,
     "metadata": {},
     "output_type": "execute_result"
    }
   ],
   "source": [
    "2*(1 - P.cdf(abs(t)))"
   ]
  },
  {
   "cell_type": "markdown",
   "id": "74a3af90",
   "metadata": {
    "slideshow": {
     "slide_type": "fragment"
    }
   },
   "source": [
    "zum Vergleich"
   ]
  },
  {
   "cell_type": "code",
   "execution_count": 17,
   "id": "8a3680de",
   "metadata": {},
   "outputs": [
    {
     "data": {
      "text/plain": [
       "1.08977531716496e-05"
      ]
     },
     "execution_count": 17,
     "metadata": {},
     "output_type": "execute_result"
    }
   ],
   "source": [
    "stats.ttest_ind(am.flipper_length_mm, af.flipper_length_mm).pvalue"
   ]
  },
  {
   "cell_type": "markdown",
   "id": "4f30dcaa",
   "metadata": {
    "slideshow": {
     "slide_type": "slide"
    }
   },
   "source": [
    "### Beispiel:  Schadstoffkonzentration"
   ]
  },
  {
   "cell_type": "code",
   "execution_count": 18,
   "id": "d8eb3a10",
   "metadata": {},
   "outputs": [
    {
     "data": {
      "text/html": [
       "<div>\n",
       "<style scoped>\n",
       "    .dataframe tbody tr th:only-of-type {\n",
       "        vertical-align: middle;\n",
       "    }\n",
       "\n",
       "    .dataframe tbody tr th {\n",
       "        vertical-align: top;\n",
       "    }\n",
       "\n",
       "    .dataframe thead th {\n",
       "        text-align: right;\n",
       "    }\n",
       "</style>\n",
       "<table border=\"1\" class=\"dataframe\">\n",
       "  <thead>\n",
       "    <tr style=\"text-align: right;\">\n",
       "      <th></th>\n",
       "      <th>Messstelle</th>\n",
       "      <th>Konzentration</th>\n",
       "      <th>referenz</th>\n",
       "    </tr>\n",
       "  </thead>\n",
       "  <tbody>\n",
       "    <tr>\n",
       "      <th>0</th>\n",
       "      <td>5</td>\n",
       "      <td>0.000867</td>\n",
       "      <td>0.0008</td>\n",
       "    </tr>\n",
       "    <tr>\n",
       "      <th>1</th>\n",
       "      <td>3</td>\n",
       "      <td>0.000490</td>\n",
       "      <td>0.0008</td>\n",
       "    </tr>\n",
       "    <tr>\n",
       "      <th>2</th>\n",
       "      <td>1</td>\n",
       "      <td>0.000589</td>\n",
       "      <td>0.0008</td>\n",
       "    </tr>\n",
       "    <tr>\n",
       "      <th>3</th>\n",
       "      <td>1</td>\n",
       "      <td>0.000950</td>\n",
       "      <td>0.0008</td>\n",
       "    </tr>\n",
       "    <tr>\n",
       "      <th>4</th>\n",
       "      <td>4</td>\n",
       "      <td>0.001152</td>\n",
       "      <td>0.0008</td>\n",
       "    </tr>\n",
       "  </tbody>\n",
       "</table>\n",
       "</div>"
      ],
      "text/plain": [
       "   Messstelle  Konzentration  referenz\n",
       "0           5       0.000867    0.0008\n",
       "1           3       0.000490    0.0008\n",
       "2           1       0.000589    0.0008\n",
       "3           1       0.000950    0.0008\n",
       "4           4       0.001152    0.0008"
      ]
     },
     "execution_count": 18,
     "metadata": {},
     "output_type": "execute_result"
    }
   ],
   "source": [
    "u = \"https://www.math.uni-duesseldorf.de/~braun/bio2324/data/schadstoffe.csv\"\n",
    "df = pd.read_csv(u, index_col=0)\n",
    "df['referenz'] = 0.08 / 100\n",
    "df.head()"
   ]
  },
  {
   "cell_type": "code",
   "execution_count": 19,
   "id": "8f1159a1",
   "metadata": {},
   "outputs": [
    {
     "data": {
      "text/plain": [
       "0.0035114445640696246"
      ]
     },
     "execution_count": 19,
     "metadata": {},
     "output_type": "execute_result"
    }
   ],
   "source": [
    "res = stats.ttest_rel(df.Konzentration, df.referenz, alternative=\"greater\")\n",
    "res.pvalue"
   ]
  },
  {
   "cell_type": "code",
   "execution_count": 28,
   "id": "a221719b",
   "metadata": {
    "slideshow": {
     "slide_type": "slide"
    }
   },
   "outputs": [
    {
     "data": {
      "text/html": [
       "<div>\n",
       "<style scoped>\n",
       "    .dataframe tbody tr th:only-of-type {\n",
       "        vertical-align: middle;\n",
       "    }\n",
       "\n",
       "    .dataframe tbody tr th {\n",
       "        vertical-align: top;\n",
       "    }\n",
       "\n",
       "    .dataframe thead th {\n",
       "        text-align: right;\n",
       "    }\n",
       "</style>\n",
       "<table border=\"1\" class=\"dataframe\">\n",
       "  <thead>\n",
       "    <tr style=\"text-align: right;\">\n",
       "      <th></th>\n",
       "      <th>Messstelle</th>\n",
       "      <th>Konzentration</th>\n",
       "      <th>referenz</th>\n",
       "      <th>z</th>\n",
       "    </tr>\n",
       "  </thead>\n",
       "  <tbody>\n",
       "    <tr>\n",
       "      <th>count</th>\n",
       "      <td>80.000000</td>\n",
       "      <td>80.000000</td>\n",
       "      <td>8.000000e+01</td>\n",
       "      <td>80.000000</td>\n",
       "    </tr>\n",
       "    <tr>\n",
       "      <th>mean</th>\n",
       "      <td>2.987500</td>\n",
       "      <td>0.000905</td>\n",
       "      <td>8.000000e-04</td>\n",
       "      <td>0.000105</td>\n",
       "    </tr>\n",
       "    <tr>\n",
       "      <th>std</th>\n",
       "      <td>1.409675</td>\n",
       "      <td>0.000341</td>\n",
       "      <td>1.091043e-19</td>\n",
       "      <td>0.000341</td>\n",
       "    </tr>\n",
       "    <tr>\n",
       "      <th>min</th>\n",
       "      <td>1.000000</td>\n",
       "      <td>0.000061</td>\n",
       "      <td>8.000000e-04</td>\n",
       "      <td>-0.000739</td>\n",
       "    </tr>\n",
       "    <tr>\n",
       "      <th>25%</th>\n",
       "      <td>2.000000</td>\n",
       "      <td>0.000701</td>\n",
       "      <td>8.000000e-04</td>\n",
       "      <td>-0.000099</td>\n",
       "    </tr>\n",
       "    <tr>\n",
       "      <th>50%</th>\n",
       "      <td>3.000000</td>\n",
       "      <td>0.000938</td>\n",
       "      <td>8.000000e-04</td>\n",
       "      <td>0.000138</td>\n",
       "    </tr>\n",
       "    <tr>\n",
       "      <th>75%</th>\n",
       "      <td>4.000000</td>\n",
       "      <td>0.001158</td>\n",
       "      <td>8.000000e-04</td>\n",
       "      <td>0.000358</td>\n",
       "    </tr>\n",
       "    <tr>\n",
       "      <th>max</th>\n",
       "      <td>5.000000</td>\n",
       "      <td>0.001605</td>\n",
       "      <td>8.000000e-04</td>\n",
       "      <td>0.000805</td>\n",
       "    </tr>\n",
       "  </tbody>\n",
       "</table>\n",
       "</div>"
      ],
      "text/plain": [
       "       Messstelle  Konzentration      referenz          z\n",
       "count   80.000000      80.000000  8.000000e+01  80.000000\n",
       "mean     2.987500       0.000905  8.000000e-04   0.000105\n",
       "std      1.409675       0.000341  1.091043e-19   0.000341\n",
       "min      1.000000       0.000061  8.000000e-04  -0.000739\n",
       "25%      2.000000       0.000701  8.000000e-04  -0.000099\n",
       "50%      3.000000       0.000938  8.000000e-04   0.000138\n",
       "75%      4.000000       0.001158  8.000000e-04   0.000358\n",
       "max      5.000000       0.001605  8.000000e-04   0.000805"
      ]
     },
     "execution_count": 28,
     "metadata": {},
     "output_type": "execute_result"
    }
   ],
   "source": [
    "df['z'] = df.Konzentration - df.referenz\n",
    "df.describe()"
   ]
  },
  {
   "cell_type": "code",
   "execution_count": 29,
   "id": "8d00dc57",
   "metadata": {},
   "outputs": [
    {
     "data": {
      "text/plain": [
       "2.7541013212607384"
      ]
     },
     "execution_count": 29,
     "metadata": {},
     "output_type": "execute_result"
    }
   ],
   "source": [
    "t = 0.000105 / 0.000341 * np.sqrt(80)\n",
    "t"
   ]
  },
  {
   "cell_type": "code",
   "execution_count": 30,
   "id": "d90d9e53",
   "metadata": {},
   "outputs": [
    {
     "data": {
      "text/plain": [
       "2.768040010585661"
      ]
     },
     "execution_count": 30,
     "metadata": {},
     "output_type": "execute_result"
    }
   ],
   "source": [
    "res.statistic"
   ]
  },
  {
   "cell_type": "markdown",
   "id": "09f69dc0",
   "metadata": {
    "slideshow": {
     "slide_type": "slide"
    }
   },
   "source": [
    "* einseitig oberer Test\n",
    "* 79 Freiheitsgrade"
   ]
  },
  {
   "cell_type": "code",
   "execution_count": 31,
   "id": "ff514e86",
   "metadata": {},
   "outputs": [],
   "source": [
    "P = stats.t(79)"
   ]
  },
  {
   "cell_type": "code",
   "execution_count": 32,
   "id": "c7d429b7",
   "metadata": {},
   "outputs": [
    {
     "data": {
      "text/plain": [
       "0.003650577575303182"
      ]
     },
     "execution_count": 32,
     "metadata": {},
     "output_type": "execute_result"
    }
   ],
   "source": [
    "1 - P.cdf(t)"
   ]
  },
  {
   "cell_type": "code",
   "execution_count": 33,
   "id": "4592bc6d",
   "metadata": {},
   "outputs": [
    {
     "data": {
      "text/plain": [
       "0.0035114445640696246"
      ]
     },
     "execution_count": 33,
     "metadata": {},
     "output_type": "execute_result"
    }
   ],
   "source": [
    "res.pvalue"
   ]
  },
  {
   "cell_type": "markdown",
   "id": "a15c7d4b",
   "metadata": {
    "slideshow": {
     "slide_type": "fragment"
    }
   },
   "source": [
    "Unterschiede beruhen auf Rundungsfehlern"
   ]
  },
  {
   "cell_type": "markdown",
   "id": "120fb1a5",
   "metadata": {
    "slideshow": {
     "slide_type": "slide"
    }
   },
   "source": [
    "# Z-Test zum Vergleich zweier Erwartungswerte bei verbundenen Stichproben\n",
    "\n",
    "* Gegeben sind Zufallsvariable $X_1, \\dots, X_n$ und $Y_1, \\dots, Y_n$\n",
    "* Verteilungsvoraussetzungen:\n",
    "  * Alle $X_j$ sind normalverteilt mit unbekanntem Erwartungswert $\\mu_1$ und *bekannter* Varianz $\\sigma^2$\n",
    "  * Alle $Y_j$ sind normalverteilt mit unbekanntem Erwartungswert $\\mu_2$ und *bekannter* Varianz $\\sigma^2$\n",
    "  * Die beiden Varianzen müssen also gleich und bekannt sein (unrealistisch)\n",
    "* Ziel: $\\mu_1$ und $\\mu_2$ sollen verglichen werden"
   ]
  },
  {
   "cell_type": "markdown",
   "id": "6a2cde7d",
   "metadata": {
    "slideshow": {
     "slide_type": "slide"
    }
   },
   "source": [
    "* $x_j$ und $ _j$ seien Realisierungen (d.h., die Daten)\n",
    "* $z_j = x_j - y_j$ seien die Differenzen\n",
    "* Bestimme arithmetischen Mittelwert\n",
    "$$      \\overline z = \\frac1n \\sum_{j=1}^n z_j   $$"
   ]
  },
  {
   "cell_type": "markdown",
   "id": "42d6e597",
   "metadata": {
    "slideshow": {
     "slide_type": "fragment"
    }
   },
   "source": [
    "* Die *Teststatistik* ist\n",
    "$$        t = \\frac{\\overline z}\\sigma \\cdot \\sqrt{n}  $$\n",
    "* also dieselbe wie beim t-Test für verbundene Stichproben\n",
    "* Die Teststatistik wird mit einem Quantil der Standardnormalverteilung verglichen (anstelle eines Quantils der t-Verteilung mit der richtigen Anzahl an Freiheitsgraden\n",
    "* bei großen Stichprobenumfängen ist der Unterschied gering"
   ]
  },
  {
   "cell_type": "markdown",
   "id": "9e3acb83",
   "metadata": {
    "slideshow": {
     "slide_type": "slide"
    }
   },
   "source": [
    "# Effektstärke"
   ]
  },
  {
   "cell_type": "markdown",
   "id": "db4af5f8",
   "metadata": {
    "slideshow": {
     "slide_type": "slide"
    }
   },
   "source": [
    "* Ein Medikament soll bei einer fortschreitenden Bewegungserkrankung die Verschlechterung aufhalten\n",
    "* 900 Patienten bekommen das Verum, weitere 900 ein Placebo\n",
    "* Zu den Zeitpunkten $t_0$ (Anfangszeitpunkt) und $t_1$ (Endzeitpunkt) wird die Beweglichkeit durch geschultes Personal auf einer Skala von 1 (schlecht) bis 100 (perfekt) eingeordnet.  "
   ]
  },
  {
   "cell_type": "code",
   "execution_count": 34,
   "id": "efc6d31d",
   "metadata": {
    "slideshow": {
     "slide_type": "slide"
    }
   },
   "outputs": [
    {
     "data": {
      "text/html": [
       "<div>\n",
       "<style scoped>\n",
       "    .dataframe tbody tr th:only-of-type {\n",
       "        vertical-align: middle;\n",
       "    }\n",
       "\n",
       "    .dataframe tbody tr th {\n",
       "        vertical-align: top;\n",
       "    }\n",
       "\n",
       "    .dataframe thead th {\n",
       "        text-align: right;\n",
       "    }\n",
       "</style>\n",
       "<table border=\"1\" class=\"dataframe\">\n",
       "  <thead>\n",
       "    <tr style=\"text-align: right;\">\n",
       "      <th></th>\n",
       "      <th>t0</th>\n",
       "      <th>t1</th>\n",
       "      <th>Treatment</th>\n",
       "      <th>Difference</th>\n",
       "    </tr>\n",
       "  </thead>\n",
       "  <tbody>\n",
       "    <tr>\n",
       "      <th>0</th>\n",
       "      <td>63.0</td>\n",
       "      <td>62.0</td>\n",
       "      <td>Verum</td>\n",
       "      <td>-1.0</td>\n",
       "    </tr>\n",
       "    <tr>\n",
       "      <th>1</th>\n",
       "      <td>24.0</td>\n",
       "      <td>22.0</td>\n",
       "      <td>Verum</td>\n",
       "      <td>-2.0</td>\n",
       "    </tr>\n",
       "    <tr>\n",
       "      <th>2</th>\n",
       "      <td>77.0</td>\n",
       "      <td>72.0</td>\n",
       "      <td>Verum</td>\n",
       "      <td>-5.0</td>\n",
       "    </tr>\n",
       "    <tr>\n",
       "      <th>3</th>\n",
       "      <td>43.0</td>\n",
       "      <td>41.0</td>\n",
       "      <td>Verum</td>\n",
       "      <td>-2.0</td>\n",
       "    </tr>\n",
       "    <tr>\n",
       "      <th>4</th>\n",
       "      <td>88.0</td>\n",
       "      <td>84.0</td>\n",
       "      <td>Verum</td>\n",
       "      <td>-4.0</td>\n",
       "    </tr>\n",
       "    <tr>\n",
       "      <th>...</th>\n",
       "      <td>...</td>\n",
       "      <td>...</td>\n",
       "      <td>...</td>\n",
       "      <td>...</td>\n",
       "    </tr>\n",
       "    <tr>\n",
       "      <th>1764</th>\n",
       "      <td>62.0</td>\n",
       "      <td>53.0</td>\n",
       "      <td>Placebo</td>\n",
       "      <td>-9.0</td>\n",
       "    </tr>\n",
       "    <tr>\n",
       "      <th>1765</th>\n",
       "      <td>54.0</td>\n",
       "      <td>56.0</td>\n",
       "      <td>Placebo</td>\n",
       "      <td>2.0</td>\n",
       "    </tr>\n",
       "    <tr>\n",
       "      <th>1766</th>\n",
       "      <td>57.0</td>\n",
       "      <td>52.0</td>\n",
       "      <td>Placebo</td>\n",
       "      <td>-5.0</td>\n",
       "    </tr>\n",
       "    <tr>\n",
       "      <th>1767</th>\n",
       "      <td>95.0</td>\n",
       "      <td>93.0</td>\n",
       "      <td>Placebo</td>\n",
       "      <td>-2.0</td>\n",
       "    </tr>\n",
       "    <tr>\n",
       "      <th>1768</th>\n",
       "      <td>41.0</td>\n",
       "      <td>39.0</td>\n",
       "      <td>Placebo</td>\n",
       "      <td>-2.0</td>\n",
       "    </tr>\n",
       "  </tbody>\n",
       "</table>\n",
       "<p>1769 rows × 4 columns</p>\n",
       "</div>"
      ],
      "text/plain": [
       "        t0    t1 Treatment  Difference\n",
       "0     63.0  62.0     Verum        -1.0\n",
       "1     24.0  22.0     Verum        -2.0\n",
       "2     77.0  72.0     Verum        -5.0\n",
       "3     43.0  41.0     Verum        -2.0\n",
       "4     88.0  84.0     Verum        -4.0\n",
       "...    ...   ...       ...         ...\n",
       "1764  62.0  53.0   Placebo        -9.0\n",
       "1765  54.0  56.0   Placebo         2.0\n",
       "1766  57.0  52.0   Placebo        -5.0\n",
       "1767  95.0  93.0   Placebo        -2.0\n",
       "1768  41.0  39.0   Placebo        -2.0\n",
       "\n",
       "[1769 rows x 4 columns]"
      ]
     },
     "execution_count": 34,
     "metadata": {},
     "output_type": "execute_result"
    }
   ],
   "source": [
    "df = pd.read_csv('treatment.csv', index_col=0)\n",
    "df"
   ]
  },
  {
   "cell_type": "markdown",
   "id": "29b7fc62",
   "metadata": {
    "slideshow": {
     "slide_type": "slide"
    }
   },
   "source": [
    "* In der Spalte \"Difference\" steht die Differenz zwischen den beiden Zeitpunkten.  Idealerweise ist sie positiv, wenn das Medikament die Verschlechterung sogar umkehrt.\n",
    "* Jedenfalls soll der Test zeigen, dass die Differenz bei den Probanden mit Verum im Mittel größer als bei den anderen ist\n",
    "* Einseitiger, unverbundener Test"
   ]
  },
  {
   "cell_type": "code",
   "execution_count": 35,
   "id": "db68b0ef",
   "metadata": {
    "slideshow": {
     "slide_type": "slide"
    }
   },
   "outputs": [
    {
     "data": {
      "text/html": [
       "<div>\n",
       "<style scoped>\n",
       "    .dataframe tbody tr th:only-of-type {\n",
       "        vertical-align: middle;\n",
       "    }\n",
       "\n",
       "    .dataframe tbody tr th {\n",
       "        vertical-align: top;\n",
       "    }\n",
       "\n",
       "    .dataframe thead th {\n",
       "        text-align: right;\n",
       "    }\n",
       "</style>\n",
       "<table border=\"1\" class=\"dataframe\">\n",
       "  <thead>\n",
       "    <tr style=\"text-align: right;\">\n",
       "      <th></th>\n",
       "      <th>t0</th>\n",
       "      <th>t1</th>\n",
       "      <th>Difference</th>\n",
       "    </tr>\n",
       "  </thead>\n",
       "  <tbody>\n",
       "    <tr>\n",
       "      <th>count</th>\n",
       "      <td>887.000000</td>\n",
       "      <td>887.000000</td>\n",
       "      <td>887.000000</td>\n",
       "    </tr>\n",
       "    <tr>\n",
       "      <th>mean</th>\n",
       "      <td>61.073281</td>\n",
       "      <td>57.054115</td>\n",
       "      <td>-4.019166</td>\n",
       "    </tr>\n",
       "    <tr>\n",
       "      <th>std</th>\n",
       "      <td>20.169044</td>\n",
       "      <td>20.405522</td>\n",
       "      <td>3.093843</td>\n",
       "    </tr>\n",
       "    <tr>\n",
       "      <th>min</th>\n",
       "      <td>5.000000</td>\n",
       "      <td>1.000000</td>\n",
       "      <td>-15.000000</td>\n",
       "    </tr>\n",
       "    <tr>\n",
       "      <th>25%</th>\n",
       "      <td>47.000000</td>\n",
       "      <td>43.000000</td>\n",
       "      <td>-6.000000</td>\n",
       "    </tr>\n",
       "    <tr>\n",
       "      <th>50%</th>\n",
       "      <td>61.000000</td>\n",
       "      <td>57.000000</td>\n",
       "      <td>-4.000000</td>\n",
       "    </tr>\n",
       "    <tr>\n",
       "      <th>75%</th>\n",
       "      <td>75.000000</td>\n",
       "      <td>71.000000</td>\n",
       "      <td>-2.000000</td>\n",
       "    </tr>\n",
       "    <tr>\n",
       "      <th>max</th>\n",
       "      <td>100.000000</td>\n",
       "      <td>100.000000</td>\n",
       "      <td>5.000000</td>\n",
       "    </tr>\n",
       "  </tbody>\n",
       "</table>\n",
       "</div>"
      ],
      "text/plain": [
       "               t0          t1  Difference\n",
       "count  887.000000  887.000000  887.000000\n",
       "mean    61.073281   57.054115   -4.019166\n",
       "std     20.169044   20.405522    3.093843\n",
       "min      5.000000    1.000000  -15.000000\n",
       "25%     47.000000   43.000000   -6.000000\n",
       "50%     61.000000   57.000000   -4.000000\n",
       "75%     75.000000   71.000000   -2.000000\n",
       "max    100.000000  100.000000    5.000000"
      ]
     },
     "execution_count": 35,
     "metadata": {},
     "output_type": "execute_result"
    }
   ],
   "source": [
    "dfv = df[df.Treatment=='Verum']\n",
    "dfv.describe()"
   ]
  },
  {
   "cell_type": "code",
   "execution_count": 36,
   "id": "73aa2559",
   "metadata": {
    "slideshow": {
     "slide_type": "slide"
    }
   },
   "outputs": [
    {
     "data": {
      "text/html": [
       "<div>\n",
       "<style scoped>\n",
       "    .dataframe tbody tr th:only-of-type {\n",
       "        vertical-align: middle;\n",
       "    }\n",
       "\n",
       "    .dataframe tbody tr th {\n",
       "        vertical-align: top;\n",
       "    }\n",
       "\n",
       "    .dataframe thead th {\n",
       "        text-align: right;\n",
       "    }\n",
       "</style>\n",
       "<table border=\"1\" class=\"dataframe\">\n",
       "  <thead>\n",
       "    <tr style=\"text-align: right;\">\n",
       "      <th></th>\n",
       "      <th>t0</th>\n",
       "      <th>t1</th>\n",
       "      <th>Difference</th>\n",
       "    </tr>\n",
       "  </thead>\n",
       "  <tbody>\n",
       "    <tr>\n",
       "      <th>count</th>\n",
       "      <td>882.000000</td>\n",
       "      <td>882.000000</td>\n",
       "      <td>882.000000</td>\n",
       "    </tr>\n",
       "    <tr>\n",
       "      <th>mean</th>\n",
       "      <td>63.548753</td>\n",
       "      <td>59.189342</td>\n",
       "      <td>-4.359410</td>\n",
       "    </tr>\n",
       "    <tr>\n",
       "      <th>std</th>\n",
       "      <td>20.061947</td>\n",
       "      <td>20.266874</td>\n",
       "      <td>3.089117</td>\n",
       "    </tr>\n",
       "    <tr>\n",
       "      <th>min</th>\n",
       "      <td>0.000000</td>\n",
       "      <td>0.000000</td>\n",
       "      <td>-13.000000</td>\n",
       "    </tr>\n",
       "    <tr>\n",
       "      <th>25%</th>\n",
       "      <td>50.000000</td>\n",
       "      <td>45.000000</td>\n",
       "      <td>-6.000000</td>\n",
       "    </tr>\n",
       "    <tr>\n",
       "      <th>50%</th>\n",
       "      <td>64.000000</td>\n",
       "      <td>60.000000</td>\n",
       "      <td>-4.000000</td>\n",
       "    </tr>\n",
       "    <tr>\n",
       "      <th>75%</th>\n",
       "      <td>78.000000</td>\n",
       "      <td>74.000000</td>\n",
       "      <td>-2.000000</td>\n",
       "    </tr>\n",
       "    <tr>\n",
       "      <th>max</th>\n",
       "      <td>100.000000</td>\n",
       "      <td>100.000000</td>\n",
       "      <td>5.000000</td>\n",
       "    </tr>\n",
       "  </tbody>\n",
       "</table>\n",
       "</div>"
      ],
      "text/plain": [
       "               t0          t1  Difference\n",
       "count  882.000000  882.000000  882.000000\n",
       "mean    63.548753   59.189342   -4.359410\n",
       "std     20.061947   20.266874    3.089117\n",
       "min      0.000000    0.000000  -13.000000\n",
       "25%     50.000000   45.000000   -6.000000\n",
       "50%     64.000000   60.000000   -4.000000\n",
       "75%     78.000000   74.000000   -2.000000\n",
       "max    100.000000  100.000000    5.000000"
      ]
     },
     "execution_count": 36,
     "metadata": {},
     "output_type": "execute_result"
    }
   ],
   "source": [
    "dfp = df[df.Treatment=='Placebo']\n",
    "dfp.describe()"
   ]
  },
  {
   "cell_type": "markdown",
   "id": "a531fe82",
   "metadata": {
    "slideshow": {
     "slide_type": "fragment"
    }
   },
   "source": [
    "* Aus der Gruppe der Probanden mit Verum sind 13 Leute ausgeschieden\n",
    "* aus der anderen 18"
   ]
  },
  {
   "cell_type": "code",
   "execution_count": 37,
   "id": "21393e9e",
   "metadata": {
    "slideshow": {
     "slide_type": "slide"
    }
   },
   "outputs": [
    {
     "data": {
      "text/plain": [
       "TtestResult(statistic=2.314493969317715, pvalue=0.010377396661800722, df=1767.0)"
      ]
     },
     "execution_count": 37,
     "metadata": {},
     "output_type": "execute_result"
    }
   ],
   "source": [
    "stats.ttest_ind(dfv.Difference, dfp.Difference, alternative='greater')"
   ]
  },
  {
   "cell_type": "markdown",
   "id": "d194ea66",
   "metadata": {
    "slideshow": {
     "slide_type": "fragment"
    }
   },
   "source": [
    "Die Nullhypothese, dass das Medikament nicht besser wirkt als Placebo, kann zum Signifikanzniveau $\\alpha=0.011$ abgelehnt werden. "
   ]
  },
  {
   "cell_type": "markdown",
   "id": "5b369d40",
   "metadata": {
    "slideshow": {
     "slide_type": "slide"
    }
   },
   "source": [
    "# Effektstärke"
   ]
  },
  {
   "cell_type": "markdown",
   "id": "39ee4f27",
   "metadata": {
    "slideshow": {
     "slide_type": "slide"
    }
   },
   "source": [
    "Beim Vergleich zweier Mittelwerte kann \"Cohen's d\" zur Messung der Effektstärke verwendet werden.  \n",
    "\n",
    "$$\n",
    "    d = \\left| \\frac{\\overline x - \\overline y}s \\right|\n",
    "$$\n",
    "\n",
    "wobei $\\overline x$ und $\\overline y$ die beiden Mittelwerte, $s$ die Stichprobenstreuung und $|a|$ den Betrag von $a$ bezeichnet.\n",
    "\n",
    "* Bei verbundenen Stichproben verwendet man die Stichprobenstreuung der Differenz\n",
    "* Bei unverbundenen Stichproben verwendet man die Standardabweichung der gepoolten Stichproben"
   ]
  },
  {
   "cell_type": "code",
   "execution_count": 38,
   "id": "e971ffc5",
   "metadata": {
    "slideshow": {
     "slide_type": "slide"
    }
   },
   "outputs": [
    {
     "data": {
      "text/plain": [
       "(887, 882)"
      ]
     },
     "execution_count": 38,
     "metadata": {},
     "output_type": "execute_result"
    }
   ],
   "source": [
    "n1 = dfv.Difference.count()\n",
    "n2 = dfp.Difference.count()\n",
    "n1, n2"
   ]
  },
  {
   "cell_type": "code",
   "execution_count": 39,
   "id": "2ca64b49",
   "metadata": {},
   "outputs": [
    {
     "data": {
      "text/plain": [
       "(-4.019165727170237, -4.359410430839002)"
      ]
     },
     "execution_count": 39,
     "metadata": {},
     "output_type": "execute_result"
    }
   ],
   "source": [
    "xq = dfv.Difference.mean()\n",
    "yq = dfp.Difference.mean()\n",
    "xq, yq"
   ]
  },
  {
   "cell_type": "code",
   "execution_count": 40,
   "id": "26723628",
   "metadata": {},
   "outputs": [
    {
     "data": {
      "text/plain": [
       "(3.0938434063949605, 3.0891165720500093)"
      ]
     },
     "execution_count": 40,
     "metadata": {},
     "output_type": "execute_result"
    }
   ],
   "source": [
    "sx = dfv.Difference.std()\n",
    "sy = dfp.Difference.std()\n",
    "sx, sy"
   ]
  },
  {
   "cell_type": "code",
   "execution_count": 41,
   "id": "f0db36e4",
   "metadata": {},
   "outputs": [
    {
     "data": {
      "text/plain": [
       "3.091487580276714"
      ]
     },
     "execution_count": 41,
     "metadata": {},
     "output_type": "execute_result"
    }
   ],
   "source": [
    "zaehler = (n1-1)*sx**2 + (n2-1)*sy**2\n",
    "nenner = n1+n2-2\n",
    "sp = np.sqrt(zaehler/nenner)\n",
    "sp"
   ]
  },
  {
   "cell_type": "code",
   "execution_count": 42,
   "id": "8944f251",
   "metadata": {},
   "outputs": [
    {
     "data": {
      "text/plain": [
       "0.11005857045633367"
      ]
     },
     "execution_count": 42,
     "metadata": {},
     "output_type": "execute_result"
    }
   ],
   "source": [
    "d = (xq - yq) / sp\n",
    "d"
   ]
  },
  {
   "cell_type": "markdown",
   "id": "782714c9",
   "metadata": {
    "slideshow": {
     "slide_type": "slide"
    }
   },
   "source": [
    "### Interpretation der Effektgröße\n",
    "\n",
    "| d-Wert | Interpretation   |\n",
    "|--------|------------------|\n",
    "| 0.2    | geringer Effekt  |\n",
    "| 0.5    | mittlerer Effekt |\n",
    "| 0.8    | starker Effekt   |"
   ]
  },
  {
   "cell_type": "markdown",
   "id": "05fa0e98",
   "metadata": {},
   "source": [
    "Wir haben also einen geringen Effekt beobachtet"
   ]
  },
  {
   "cell_type": "markdown",
   "id": "70571b04",
   "metadata": {
    "slideshow": {
     "slide_type": "slide"
    }
   },
   "source": [
    "# Power-Analyse"
   ]
  },
  {
   "cell_type": "markdown",
   "id": "03f748e9",
   "metadata": {
    "slideshow": {
     "slide_type": "slide"
    }
   },
   "source": [
    "Power:  Wahrscheinlichkeit, dass die Nullhypothese abgelehnt wird, wenn tatsächlich die Alternative gilt"
   ]
  },
  {
   "cell_type": "markdown",
   "id": "23c22d9c",
   "metadata": {
    "slideshow": {
     "slide_type": "slide"
    }
   },
   "source": [
    "Bauer Pillenhuber wird verdächtigt, seine Bio-Hühnchen mit Antibiotika vollzudröhnen.  Wir wollen das durch Blutuntersuchungen nachweisen.  \n",
    "\n",
    "* Es handelt sich um den Vergleich mit einem Referenzwert, also einen verbundenen t-Test\n",
    "* Er ist einseitig"
   ]
  },
  {
   "cell_type": "markdown",
   "id": "39b93eab",
   "metadata": {
    "slideshow": {
     "slide_type": "fragment"
    }
   },
   "source": [
    "* Wie viele Tiere müssen untersucht werden?\n",
    "* Wir erwarten einen starken Effekt, sagen wir d=0.7\n",
    "* Wir verlangen ein Signifikanzniveau von $\\alpha=0.01$, um niemanden zu Unrecht zu verdächtigen"
   ]
  },
  {
   "cell_type": "code",
   "execution_count": 43,
   "id": "ab25a29a",
   "metadata": {
    "slideshow": {
     "slide_type": "slide"
    }
   },
   "outputs": [],
   "source": [
    "import statsmodels.stats.power as smp   "
   ]
  },
  {
   "cell_type": "code",
   "execution_count": 44,
   "id": "8b6521f2",
   "metadata": {
    "slideshow": {
     "slide_type": "fragment"
    }
   },
   "outputs": [],
   "source": [
    "poweranalyse = smp.TTestPower()"
   ]
  },
  {
   "cell_type": "code",
   "execution_count": 45,
   "id": "b4b5e094",
   "metadata": {},
   "outputs": [
    {
     "data": {
      "text/plain": [
       "0.2260109977856286"
      ]
     },
     "execution_count": 45,
     "metadata": {},
     "output_type": "execute_result"
    }
   ],
   "source": [
    "poweranalyse.power(effect_size=0.7, alpha=0.01, nobs=10)"
   ]
  },
  {
   "cell_type": "markdown",
   "id": "7c88fec9",
   "metadata": {},
   "source": [
    "* `nobs`: number of observations\n",
    "* `effect_size`: erwartete Effektstärke\n",
    "* `alpha`: Signifikanzniveau\n",
    "* Rückgabewert:  Power unter Zugrundelegung dieser Daten"
   ]
  },
  {
   "cell_type": "code",
   "execution_count": 48,
   "id": "b1993104",
   "metadata": {
    "slideshow": {
     "slide_type": "slide"
    }
   },
   "outputs": [
    {
     "data": {
      "image/png": "[encoded data removed]",
      "text/plain": [
       "<Figure size 640x480 with 1 Axes>"
      ]
     },
     "metadata": {},
     "output_type": "display_data"
    }
   ],
   "source": [
    "poweranalyse.plot_power(effect_size=[0.7], alpha=0.01, nobs=np.arange(2,100), \n",
    "                         alternative='larger');"
   ]
  },
  {
   "cell_type": "markdown",
   "id": "f3fbcd3d",
   "metadata": {
    "slideshow": {
     "slide_type": "slide"
    }
   },
   "source": [
    "Wir sollten 35 Hühner untersuchen"
   ]
  },
  {
   "cell_type": "code",
   "execution_count": 49,
   "id": "05250f62",
   "metadata": {},
   "outputs": [
    {
     "data": {
      "text/plain": [
       "0.9502228513191198"
      ]
     },
     "execution_count": 49,
     "metadata": {},
     "output_type": "execute_result"
    }
   ],
   "source": [
    "poweranalyse.power(effect_size=0.7, alpha=0.01, nobs=35, alternative='larger')"
   ]
  },
  {
   "cell_type": "markdown",
   "id": "d351eec3",
   "metadata": {
    "slideshow": {
     "slide_type": "slide"
    }
   },
   "source": [
    "## Power-Analyse für unverbundene t-Tests"
   ]
  },
  {
   "cell_type": "markdown",
   "id": "bd2d860e",
   "metadata": {
    "slideshow": {
     "slide_type": "slide"
    }
   },
   "source": [
    "* Wir wollen wissen, ob auf sandigem Boden das Verhältnis von Kiefern zu Fichten ein anderes als auf lehmigem ist\n",
    "* Wir erwarten einen mittleren Effekt\n",
    "* Wir wählen den Standardwert $\\alpha=0.05$"
   ]
  },
  {
   "cell_type": "markdown",
   "id": "fd8bd867",
   "metadata": {
    "slideshow": {
     "slide_type": "fragment"
    }
   },
   "source": [
    "* Es handelt sich um einen unverbundenen Test\n",
    "* Sie wählen $n_1$ sandige und $n_2=n_1$ lehmige Waldparzellen aus\n",
    "* Wie groß müssen $n_1$ und $n_2$ sein?"
   ]
  },
  {
   "cell_type": "code",
   "execution_count": 50,
   "id": "f1f8cb7c",
   "metadata": {
    "slideshow": {
     "slide_type": "slide"
    }
   },
   "outputs": [],
   "source": [
    "poweranalyse = smp.TTestIndPower()  # Ind = Independent"
   ]
  },
  {
   "cell_type": "code",
   "execution_count": 51,
   "id": "dd19e72c",
   "metadata": {},
   "outputs": [
    {
     "data": {
      "image/png": "[encoded data removed]",
      "text/plain": [
       "<Figure size 640x480 with 1 Axes>"
      ]
     },
     "metadata": {},
     "output_type": "display_data"
    }
   ],
   "source": [
    "poweranalyse.plot_power(effect_size=[0.5], alpha=0.05, nobs=np.arange(2,150));"
   ]
  },
  {
   "cell_type": "markdown",
   "id": "2cecbe89",
   "metadata": {
    "slideshow": {
     "slide_type": "slide"
    }
   },
   "source": [
    "Sie müssen ca 100 Parzellen von jeder Sorte ansehen, um eine Power von knapp 95% zu erreichen"
   ]
  },
  {
   "cell_type": "code",
   "execution_count": 52,
   "id": "29088388",
   "metadata": {},
   "outputs": [
    {
     "data": {
      "text/plain": [
       "0.9404271933839895"
      ]
     },
     "execution_count": 52,
     "metadata": {},
     "output_type": "execute_result"
    }
   ],
   "source": [
    "poweranalyse.power(effect_size=0.5, alpha=0.05, nobs1=100, ratio=1)"
   ]
  },
  {
   "cell_type": "markdown",
   "id": "7af60e1f",
   "metadata": {
    "slideshow": {
     "slide_type": "fragment"
    }
   },
   "source": [
    "* `ratio` ist das Verhältnis $\\frac{n_2}{n_1}$\n",
    "* Man plant eingentlich immer mit `ratio=1`\n",
    "* Dann kann man diese Angabe bei `poweranalyse.power` weglassen"
   ]
  }
 ],
 "metadata": {
  "celltoolbar": "Slideshow",
  "kernelspec": {
   "display_name": "Python 3 (ipykernel)",
   "language": "python",
   "name": "python3"
  },
  "language_info": {
   "codemirror_mode": {
    "name": "ipython",
    "version": 3
   },
   "file_extension": ".py",
   "mimetype": "text/x-python",
   "name": "python",
   "nbconvert_exporter": "python",
   "pygments_lexer": "ipython3",
   "version": "3.11.10"
  }
 },
 "nbformat": 4,
 "nbformat_minor": 5
}
