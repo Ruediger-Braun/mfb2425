{
 "cells": [
  {
   "cell_type": "markdown",
   "id": "97e910de",
   "metadata": {
    "slideshow": {
     "slide_type": "slide"
    }
   },
   "source": [
    "# Mathematik für Biologiestudierende\n",
    "\n",
    "Wintersemester 2024/25\n",
    "\n",
    "18.12.2024\n",
    "\n",
    "&copy; 2024 Prof. Dr. Rüdiger W. Braun "
   ]
  },
  {
   "cell_type": "markdown",
   "id": "6cf194b3",
   "metadata": {
    "slideshow": {
     "slide_type": "slide"
    }
   },
   "source": [
    "# Kontinuierliche Zufallsvariablen"
   ]
  },
  {
   "cell_type": "markdown",
   "id": "5ca93ac6",
   "metadata": {
    "slideshow": {
     "slide_type": "slide"
    }
   },
   "source": [
    "Beispiele für Größen, die als kontinuierliche Zufallsvariable modelliert werden\n",
    "\n",
    "* Längen, Massen, Volumina (Bsp:  Gewichtszunahme eines Versuchstiers)\n",
    "* Konzentrationen (Bsp:  Vitamingehalt einer Frucht)"
   ]
  },
  {
   "cell_type": "markdown",
   "id": "b15e6880",
   "metadata": {
    "slideshow": {
     "slide_type": "fragment"
    }
   },
   "source": [
    "* Größen, die eigentlich diskret sind, bei denen die Anzahlen aber sehr hoch sind (Bsp:  Keimerfolge)"
   ]
  },
  {
   "cell_type": "markdown",
   "id": "70bf418c",
   "metadata": {
    "slideshow": {
     "slide_type": "slide"
    }
   },
   "source": [
    "Eine Zufallsvariable $X$ heißt kontinuierlich mit Dichte $f$, wenn \n",
    "$$ P(a \\le X < b) = \\int_a^b f(x) dx  $$"
   ]
  },
  {
   "cell_type": "markdown",
   "id": "d031d470",
   "metadata": {
    "slideshow": {
     "slide_type": "fragment"
    }
   },
   "source": [
    "Man bezeichnet\n",
    "\n",
    "* $f$ als *Dichte* und\n",
    "* $F(x) = \\int_{-\\infty}^x f(x) dx$ als *Verteilungsfunktion*\n",
    "von $X$"
   ]
  },
  {
   "cell_type": "markdown",
   "id": "5ef827a7",
   "metadata": {
    "slideshow": {
     "slide_type": "fragment"
    }
   },
   "source": [
    "* Wenn $f$ die Dichte und $F$ die Verteilungsfunktion ist, dann ist $F$ eine Stammfunktion der Dichte\n",
    "* also\n",
    "$$ P(a\\le X<b) = \\int_a^b f(x) dx = F(b) - F(a)  $$"
   ]
  },
  {
   "cell_type": "markdown",
   "id": "9395146e",
   "metadata": {
    "slideshow": {
     "slide_type": "fragment"
    }
   },
   "source": [
    "Wegen $ \\int_a^a f(x) dx = 0 $ gilt dann auch\n",
    "$$ P(a\\le X \\le b) = P(a<X<b) = P(a<X\\le b) = F(b) - F(a)  $$"
   ]
  },
  {
   "cell_type": "markdown",
   "id": "fcc6e121",
   "metadata": {
    "slideshow": {
     "slide_type": "slide"
    }
   },
   "source": [
    "### Konsistenzbedingung für die Dichte\n",
    "\n",
    "Wenn $f$ die Dichte einer Zufallsvariablen sein kann, müssen Bedingungen erfüllt sein\n",
    "\n",
    "$$ f(x) \\ge 0 \\text{ für alle $x$} $$\n",
    "$$ \\int_{-\\infty}^\\infty f(x) dx = 1 $$"
   ]
  },
  {
   "cell_type": "markdown",
   "id": "ee2bd7c9",
   "metadata": {
    "slideshow": {
     "slide_type": "slide"
    }
   },
   "source": [
    "# Standard-Normalverteilung\n",
    "\n",
    "* Die Dichte der Standardnormalverteilung ist die *Gaußsche Glockenkurve*\n",
    "$$  \\varphi(x) = \\frac1{\\sqrt{2\\pi}} \\exp\\!\\left( -\\frac{x^2}2 \\right)  $$\n",
    "* Die Verteilungsfunktion ist\n",
    "$$   \\Phi(u) = \\frac1{\\sqrt{2\\pi}} \\int_{-\\infty}^u \\exp\\!\\left( -\\frac{x^2}2 \\right) dx $$\n",
    "* Eine explizitere Formel gibt es nicht"
   ]
  },
  {
   "cell_type": "code",
   "execution_count": 1,
   "id": "340dc8a5",
   "metadata": {
    "slideshow": {
     "slide_type": "slide"
    }
   },
   "outputs": [],
   "source": [
    "import numpy as np\n",
    "np.set_printoptions(legacy='1.21')\n",
    "import pandas as pd\n",
    "import seaborn as sns\n",
    "from scipy import stats"
   ]
  },
  {
   "cell_type": "code",
   "execution_count": 2,
   "id": "70b33877",
   "metadata": {
    "slideshow": {
     "slide_type": "-"
    }
   },
   "outputs": [],
   "source": [
    "Phi = stats.norm()   # Normalverteilung"
   ]
  },
  {
   "cell_type": "code",
   "execution_count": 3,
   "id": "72d84fbb",
   "metadata": {},
   "outputs": [
    {
     "data": {
      "text/plain": [
       "0.5"
      ]
     },
     "execution_count": 3,
     "metadata": {},
     "output_type": "execute_result"
    }
   ],
   "source": [
    "Phi.cdf(0)"
   ]
  },
  {
   "cell_type": "code",
   "execution_count": 4,
   "id": "a43ab74e",
   "metadata": {
    "slideshow": {
     "slide_type": "slide"
    }
   },
   "outputs": [],
   "source": [
    "d1 = pd.DataFrame()\n",
    "x = np.linspace(-4, 4)\n",
    "d1['x'] = x\n",
    "d1['y'] = np.exp(-0.5*x**2) / np.sqrt(2*np.pi)\n",
    "d1['Name'] = \"Dichte\"\n",
    "d2 = pd.DataFrame()\n",
    "d2['x'] = x\n",
    "d2['y'] = Phi.cdf(x)\n",
    "d2['Name'] = \"Verteilungsfunktion\"\n",
    "df = pd.concat([d1, d2], ignore_index=True)"
   ]
  },
  {
   "cell_type": "code",
   "execution_count": 5,
   "id": "32002189",
   "metadata": {
    "slideshow": {
     "slide_type": "-"
    }
   },
   "outputs": [
    {
     "data": {
      "text/html": [
       "<div>\n",
       "<style scoped>\n",
       "    .dataframe tbody tr th:only-of-type {\n",
       "        vertical-align: middle;\n",
       "    }\n",
       "\n",
       "    .dataframe tbody tr th {\n",
       "        vertical-align: top;\n",
       "    }\n",
       "\n",
       "    .dataframe thead th {\n",
       "        text-align: right;\n",
       "    }\n",
       "</style>\n",
       "<table border=\"1\" class=\"dataframe\">\n",
       "  <thead>\n",
       "    <tr style=\"text-align: right;\">\n",
       "      <th></th>\n",
       "      <th>x</th>\n",
       "      <th>y</th>\n",
       "      <th>Name</th>\n",
       "    </tr>\n",
       "  </thead>\n",
       "  <tbody>\n",
       "    <tr>\n",
       "      <th>0</th>\n",
       "      <td>-4.000000</td>\n",
       "      <td>0.000134</td>\n",
       "      <td>Dichte</td>\n",
       "    </tr>\n",
       "    <tr>\n",
       "      <th>1</th>\n",
       "      <td>-3.836735</td>\n",
       "      <td>0.000254</td>\n",
       "      <td>Dichte</td>\n",
       "    </tr>\n",
       "    <tr>\n",
       "      <th>2</th>\n",
       "      <td>-3.673469</td>\n",
       "      <td>0.000468</td>\n",
       "      <td>Dichte</td>\n",
       "    </tr>\n",
       "    <tr>\n",
       "      <th>3</th>\n",
       "      <td>-3.510204</td>\n",
       "      <td>0.000842</td>\n",
       "      <td>Dichte</td>\n",
       "    </tr>\n",
       "    <tr>\n",
       "      <th>4</th>\n",
       "      <td>-3.346939</td>\n",
       "      <td>0.001474</td>\n",
       "      <td>Dichte</td>\n",
       "    </tr>\n",
       "  </tbody>\n",
       "</table>\n",
       "</div>"
      ],
      "text/plain": [
       "          x         y    Name\n",
       "0 -4.000000  0.000134  Dichte\n",
       "1 -3.836735  0.000254  Dichte\n",
       "2 -3.673469  0.000468  Dichte\n",
       "3 -3.510204  0.000842  Dichte\n",
       "4 -3.346939  0.001474  Dichte"
      ]
     },
     "execution_count": 5,
     "metadata": {},
     "output_type": "execute_result"
    }
   ],
   "source": [
    "df.head()"
   ]
  },
  {
   "cell_type": "markdown",
   "id": "c82db0a4",
   "metadata": {
    "slideshow": {
     "slide_type": "slide"
    }
   },
   "source": [
    "### Standard-Normalverteilung"
   ]
  },
  {
   "cell_type": "code",
   "execution_count": 6,
   "id": "c923f045",
   "metadata": {},
   "outputs": [
    {
     "data": {
      "image/png": "[encoded data removed]",
      "text/plain": [
       "<Figure size 685.125x500 with 1 Axes>"
      ]
     },
     "metadata": {},
     "output_type": "display_data"
    }
   ],
   "source": [
    "sns.relplot(data=df, x='x', y='y', hue='Name', kind='line');"
   ]
  },
  {
   "cell_type": "markdown",
   "id": "636c1918",
   "metadata": {
    "slideshow": {
     "slide_type": "slide"
    }
   },
   "source": [
    "\n",
    "<img src=\"http://www.halbmikrotechnik.de/service/mathe/algebra/bild/gauss1.jpg\" alt=\"10 DM-Schein mit Gaußglocke\" width=\"55%\"/>"
   ]
  },
  {
   "cell_type": "markdown",
   "id": "b53cdcc8",
   "metadata": {
    "slideshow": {
     "slide_type": "slide"
    }
   },
   "source": [
    "### Eigenschaften der Verteilungsfunktion der Standard-Normalverteilung\n",
    "\n",
    "* $\\Phi(x) > 0$ für alle $x$\n",
    "* $\\lim_{x\\to-\\infty} \\Phi(x) = 0$\n",
    "* $\\lim_{x\\to\\infty} \\Phi(x) = 1$\n",
    "* $\\Phi(-x)=1-\\Phi(x)$ für alle $x$ (Symmetrie an $x=0$)"
   ]
  },
  {
   "cell_type": "markdown",
   "id": "35af0eae",
   "metadata": {
    "slideshow": {
     "slide_type": "slide"
    }
   },
   "source": [
    "### Beispiel\n",
    "\n",
    "* Die mittlere Halmlänge eines bestimmten Grases beträgt 10cm\n",
    "* Die Zufallsvariable $X$ misst den Unterschied eines einzelnen Grashalms zur mittleren Halmlänge\n",
    "* Unser Modell sagt, dass $X$ standard-normalverteilt ist\n",
    "* Das bedeutet:  Die Halmlänge in cm wird modelliert als $10+X$"
   ]
  },
  {
   "cell_type": "markdown",
   "id": "74a39f70",
   "metadata": {
    "slideshow": {
     "slide_type": "fragment"
    }
   },
   "source": [
    "Welcher Anteil der Halme hat eine Länge zwischen 9cm und 11cm?\n",
    "\n",
    "Antwort \n",
    "$$  P(-1\\le X<1) = \\int_{-1}^1 \\varphi(x) dx = \\Phi(1) - \\Phi(-1) $$ "
   ]
  },
  {
   "cell_type": "code",
   "execution_count": 7,
   "id": "27f15d1a",
   "metadata": {},
   "outputs": [
    {
     "data": {
      "text/plain": [
       "0.6826894921370859"
      ]
     },
     "execution_count": 7,
     "metadata": {},
     "output_type": "execute_result"
    }
   ],
   "source": [
    "Phi.cdf(1) - Phi.cdf(-1)"
   ]
  },
  {
   "cell_type": "markdown",
   "id": "5c45a249",
   "metadata": {
    "slideshow": {
     "slide_type": "slide"
    }
   },
   "source": [
    "## Normalverteilung\n",
    "\n",
    "* In dem Beispiel können wir die Streuung nicht variieren\n",
    "* Wir benötigen Varianten der Standard-Normalverteilung\n",
    "* diese unterscheiden sich in Erwartungswert und Varianz"
   ]
  },
  {
   "cell_type": "markdown",
   "id": "db1154ea",
   "metadata": {
    "slideshow": {
     "slide_type": "slide"
    }
   },
   "source": [
    "# Erwartungswert einer kontinuierlichen Zufallsvariablen"
   ]
  },
  {
   "cell_type": "markdown",
   "id": "67d0fe8b",
   "metadata": {},
   "source": [
    "* Der Erwartungswert einer diskreten Zufallsvariablen $X$ ist definiert als\n",
    "$$  E(X) = \\sum_k k \\cdot P(X=k)    $$ \n",
    "  wobei $k$ alle möglichen Werte von $X$ durchläuft"
   ]
  },
  {
   "cell_type": "markdown",
   "id": "8b6f2ba0",
   "metadata": {},
   "source": [
    "* Der Erwartungswert einer kontinuierlichen Zufallsvariablen $X$ mit Dichte $f$ ist definiert als\n",
    "$$  E(X) = \\int x \\cdot f(x)\\; dx  $$\n",
    "wobei sich der Integrationsbereich über alle möglichen Werte von $X$ erstreckt"
   ]
  },
  {
   "cell_type": "markdown",
   "id": "06d0cee3",
   "metadata": {
    "slideshow": {
     "slide_type": "slide"
    }
   },
   "source": [
    "# Varianz einer kontinuierlichen Zufallsvariablen"
   ]
  },
  {
   "cell_type": "markdown",
   "id": "87e68fa2",
   "metadata": {},
   "source": [
    "* Die Varianz einer diskreten Zufallsvariablen X ist definiert als\n",
    "$$ \\text{Var}(X) = \\sum_{k} (k-\\mu)^2 P(X=k)  $$\n",
    "wobei $\\mu = E(X) $ und $k$ alle möglichen Werte von $X$ durchläuft"
   ]
  },
  {
   "cell_type": "markdown",
   "id": "137db542",
   "metadata": {},
   "source": [
    "* Die Varianz einer kontinuierlichen Zufallsvariablen $X$ mit Dichte $f$ ist definiert als\n",
    "$$  \\text{Var}(X) = \\int (x-\\mu)^2 \\cdot f(x)\\; dx  $$\n",
    "  wobei $\\mu=E(X)$  und der Integrationsbereich sich über alle möglichen Werte von $X$ erstreckt"
   ]
  },
  {
   "cell_type": "markdown",
   "id": "faff61d3",
   "metadata": {
    "slideshow": {
     "slide_type": "fragment"
    }
   },
   "source": [
    "## Streuung\n",
    "\n",
    "Die Standardabweichung oder Streuung eine Zufallsvariablen ist die Quadratwurzel aus der Varianz\n",
    "\n",
    "$$ \\sigma(X) = \\sqrt{\\text{Var}(X)} $$"
   ]
  },
  {
   "cell_type": "markdown",
   "id": "c2be15b9",
   "metadata": {
    "slideshow": {
     "slide_type": "slide"
    }
   },
   "source": [
    "# Erwartungswert und Streuung der Standard-Normalverteilung\n",
    "\n",
    "Die Zufallsvariable $X$ sei standard-normalverteilt\n",
    "* $E(X) = 0$\n",
    "* $\\text{Var}(X) = 1$"
   ]
  },
  {
   "cell_type": "code",
   "execution_count": 8,
   "id": "9958afa3",
   "metadata": {
    "slideshow": {
     "slide_type": "fragment"
    }
   },
   "outputs": [
    {
     "data": {
      "text/plain": [
       "0.0"
      ]
     },
     "execution_count": 8,
     "metadata": {},
     "output_type": "execute_result"
    }
   ],
   "source": [
    "P = stats.norm()\n",
    "P.mean()"
   ]
  },
  {
   "cell_type": "code",
   "execution_count": 9,
   "id": "c88290a3",
   "metadata": {},
   "outputs": [
    {
     "data": {
      "text/plain": [
       "1.0"
      ]
     },
     "execution_count": 9,
     "metadata": {},
     "output_type": "execute_result"
    }
   ],
   "source": [
    "P.var()"
   ]
  },
  {
   "cell_type": "markdown",
   "id": "5c516014",
   "metadata": {},
   "source": [
    "Streuung (engl.: standard deviation)"
   ]
  },
  {
   "cell_type": "code",
   "execution_count": 10,
   "id": "55eae6f7",
   "metadata": {},
   "outputs": [
    {
     "data": {
      "text/plain": [
       "1.0"
      ]
     },
     "execution_count": 10,
     "metadata": {},
     "output_type": "execute_result"
    }
   ],
   "source": [
    "P.std()"
   ]
  },
  {
   "cell_type": "markdown",
   "id": "261c5951",
   "metadata": {
    "slideshow": {
     "slide_type": "slide"
    }
   },
   "source": [
    "Es gelten dieselben Rechenregeln wie im diskreten Fall"
   ]
  },
  {
   "cell_type": "markdown",
   "id": "746699f6",
   "metadata": {},
   "source": [
    "## Rechenregeln für den Erwartungswert ##\n",
    "\n",
    "* Für jede Zahl $c$ und jede Zufallsvariable $X$ ist $E(c \\cdot X) = c \\cdot E(X)$\n",
    "* Für Zufallsvariablen $X_1, \\dots, X_n$ ist $E(X_1 + \\dots + X_n) = E(X_1) + \\dots + E(X_n)$\n",
    "* $X$ und $Y$ **unabhängige** Zufallsvariable.  Dann\n",
    "$$   E(X \\cdot Y) = E(X) \\cdot E(Y)  $$"
   ]
  },
  {
   "cell_type": "markdown",
   "id": "00baad26",
   "metadata": {
    "slideshow": {
     "slide_type": "fragment"
    }
   },
   "source": [
    "## Rechenregeln für die Varianz\n",
    "\n",
    "* Für jede Zahl $a$ und jede Zufallsvariable $X$ gilt $\\text{Var}(a + X) = \\text{Var}(X)$\n",
    "* Für jede Zahl $c$ und jede Zufallsvariable $X$ gilt $\\text{Var}(c \\cdot X) = c^2 \\cdot \\text{Var}(X)$\n",
    "* $X$ und $Y$ **unabhängige** Zufallsvariable.  Dann\n",
    "$$     \\text{Var}(X + Y) = \\text{Var}(X) + \\text{Var}(Y)  $$"
   ]
  },
  {
   "cell_type": "markdown",
   "id": "e8d27eae",
   "metadata": {
    "slideshow": {
     "slide_type": "slide"
    }
   },
   "source": [
    "# Normalverteilungen\n",
    "\n",
    "* Die Zufallsvariable $X$ heißt *normalverteilt* zum Erwartungswert $\\mu$ und der Varianz $\\sigma^2$, wenn \n",
    "$$       Y = \\frac{X-\\mu}\\sigma  $$\n",
    "  standard-normalverteilt ist.  Man sagt dann, $X$ sei $N(\\mu, \\sigma^2)$-verteilt"
   ]
  },
  {
   "cell_type": "markdown",
   "id": "181ffd36",
   "metadata": {
    "slideshow": {
     "slide_type": "fragment"
    }
   },
   "source": [
    "* Normalverteilungen werden beispielsweise zur Modellierung von Messfehlern benutzt"
   ]
  },
  {
   "cell_type": "markdown",
   "id": "4b8c3266",
   "metadata": {
    "slideshow": {
     "slide_type": "slide"
    }
   },
   "source": [
    "## Umrechnung auf Standardnormalverteilung\n",
    "\n",
    "Die Zufallsvariable $X$ sei $N(\\mu, \\sigma^2)$-verteilt.  Dann ist $\\displaystyle \\frac{X-\\mu}\\sigma$ standard-normalverteilt und für $a < b$ gelten\n",
    "  \\begin{align*}\n",
    "    P(a < X \\le b) &= \\Phi\\!\\left(\\frac{b-\\mu}\\sigma\\right) -\n",
    "    \\Phi\\!\\left(\\frac{a-\\mu}\\sigma\\right)  \\\\\n",
    "    P(a < X) &= 1 - \\Phi\\!\\left(\\frac{a-\\mu}\\sigma\\right)  \\\\\n",
    "    P(X \\le b) &= \\Phi\\!\\left(\\frac{b-\\mu}\\sigma\\right) \n",
    "  \\end{align*}"
   ]
  },
  {
   "cell_type": "code",
   "execution_count": 11,
   "id": "82e21117",
   "metadata": {
    "slideshow": {
     "slide_type": "slide"
    }
   },
   "outputs": [],
   "source": [
    "mu = 10\n",
    "sigma = 3\n",
    "P = stats.norm(mu, sigma)"
   ]
  },
  {
   "cell_type": "code",
   "execution_count": 12,
   "id": "3f9f15bf",
   "metadata": {},
   "outputs": [
    {
     "data": {
      "text/plain": [
       "10.0"
      ]
     },
     "execution_count": 12,
     "metadata": {},
     "output_type": "execute_result"
    }
   ],
   "source": [
    "P.mean()"
   ]
  },
  {
   "cell_type": "code",
   "execution_count": 13,
   "id": "eb0be1e9",
   "metadata": {},
   "outputs": [
    {
     "data": {
      "text/plain": [
       "3.0"
      ]
     },
     "execution_count": 13,
     "metadata": {},
     "output_type": "execute_result"
    }
   ],
   "source": [
    "P.std()"
   ]
  },
  {
   "cell_type": "markdown",
   "id": "36885027",
   "metadata": {},
   "source": [
    "Achtung:  $N(\\mu,\\sigma^2)$  wird aufgerufen als <code>stats.norm(mu, sigma)</code>"
   ]
  },
  {
   "cell_type": "markdown",
   "id": "8fc082f1",
   "metadata": {
    "slideshow": {
     "slide_type": "slide"
    }
   },
   "source": [
    "## Beispiel: natürliche Variabilitäten\n",
    "\n",
    "* Roggenpflanzen erreichen unter Laborbedingungen eine mittlere Höhe von 0.98m.  Dabei streut die Höhe um 19cm.  \n",
    "* Welcher Prozentsatz ist unter 1.20m hoch?\n",
    "* $X$ = Höhe der Pflanze\n",
    "* Wir rechnen in Metern.  Dann $E(X) = 0.98$ und $\\sigma = 0.19$\n",
    "* Wir suchen\n",
    "$$    P( X \\le 1.2 ) $$\n",
    "* Wie bei der Binomialverteilung auch bekommt man diese Zahl in <code>scipy.stats</code> durch <code>P.cdf</code>"
   ]
  },
  {
   "cell_type": "code",
   "execution_count": 14,
   "id": "3ae8cd64",
   "metadata": {
    "slideshow": {
     "slide_type": "fragment"
    }
   },
   "outputs": [
    {
     "data": {
      "text/plain": [
       "0.8765465021876291"
      ]
     },
     "execution_count": 14,
     "metadata": {},
     "output_type": "execute_result"
    }
   ],
   "source": [
    "P = stats.norm(0.98, 0.19)\n",
    "P.cdf(1.2)"
   ]
  },
  {
   "cell_type": "markdown",
   "id": "e43437f1",
   "metadata": {},
   "source": [
    "Knapp 88% aller Pflanzen bleiben unter 1.20m"
   ]
  },
  {
   "cell_type": "markdown",
   "id": "9e79513a",
   "metadata": {
    "slideshow": {
     "slide_type": "slide"
    }
   },
   "source": [
    "* Welcher Prozentsatz der Pflanzen bleibt erreicht eine Höhe von mehr als 1.1m ?\n",
    "* Wir suchen\n",
    "$$  P(1.1 < X) = 1 - P(X \\le 1.1)  $$"
   ]
  },
  {
   "cell_type": "code",
   "execution_count": 15,
   "id": "1ce981b0",
   "metadata": {},
   "outputs": [
    {
     "data": {
      "text/plain": [
       "0.2638310233953918"
      ]
     },
     "execution_count": 15,
     "metadata": {},
     "output_type": "execute_result"
    }
   ],
   "source": [
    "1 - P.cdf(1.1)"
   ]
  },
  {
   "cell_type": "markdown",
   "id": "1edb8a34",
   "metadata": {
    "slideshow": {
     "slide_type": "-"
    }
   },
   "source": [
    "26% aller Pflanzen sind höher als 1.1m"
   ]
  },
  {
   "cell_type": "markdown",
   "id": "4cff620b",
   "metadata": {
    "slideshow": {
     "slide_type": "fragment"
    }
   },
   "source": [
    "* Welcher Anteil der Pflanzen hat eine Länge zwischen 1.00m und 1.05m ?\n",
    "* Wir suchen \n",
    "$$  P(1 < X \\le 1.05) = P(X \\le 1.05) - P(x \\le 1) $$"
   ]
  },
  {
   "cell_type": "code",
   "execution_count": 16,
   "id": "a7ee1d11",
   "metadata": {},
   "outputs": [
    {
     "data": {
      "text/plain": [
       "0.10180384712676416"
      ]
     },
     "execution_count": 16,
     "metadata": {},
     "output_type": "execute_result"
    }
   ],
   "source": [
    "P.cdf(1.05) - P.cdf(1)"
   ]
  },
  {
   "cell_type": "markdown",
   "id": "a3f61c5d",
   "metadata": {},
   "source": [
    "10% der Pflanzen hat eine Länge zwischen 1.00m und 1.05m"
   ]
  },
  {
   "cell_type": "markdown",
   "id": "96f1c0c5",
   "metadata": {
    "slideshow": {
     "slide_type": "slide"
    }
   },
   "source": [
    "### Kritische Betrachtung des Modells\n",
    "\n",
    "* Das Modell erlaubt auch den unsinnigen Fall, dass Roggenpflanzen eine negative Höhe aufweisen\n",
    "* Mit welcher Wahrscheinlichkeit geschieht das?"
   ]
  },
  {
   "cell_type": "code",
   "execution_count": 17,
   "id": "c8153b48",
   "metadata": {
    "slideshow": {
     "slide_type": "fragment"
    }
   },
   "outputs": [
    {
     "data": {
      "text/plain": [
       "1.2487097323935358e-07"
      ]
     },
     "execution_count": 17,
     "metadata": {},
     "output_type": "execute_result"
    }
   ],
   "source": [
    "P.cdf(0)"
   ]
  },
  {
   "cell_type": "code",
   "execution_count": 18,
   "id": "a0b92b3f",
   "metadata": {},
   "outputs": [
    {
     "data": {
      "text/plain": [
       "8008266.245216114"
      ]
     },
     "execution_count": 18,
     "metadata": {},
     "output_type": "execute_result"
    }
   ],
   "source": [
    "1 / P.cdf(0)"
   ]
  },
  {
   "cell_type": "markdown",
   "id": "2a2ede4e",
   "metadata": {},
   "source": [
    "Das Modell sagt für jeweils eine unter 8 Millionen Pflanzen eine negative Höhe voraus."
   ]
  },
  {
   "cell_type": "code",
   "execution_count": 19,
   "id": "0b5ae74d",
   "metadata": {
    "slideshow": {
     "slide_type": "slide"
    }
   },
   "outputs": [],
   "source": [
    "import pandas as pd\n",
    "import seaborn as sns\n",
    "sns.set_theme()"
   ]
  },
  {
   "cell_type": "code",
   "execution_count": 20,
   "id": "ae2be522",
   "metadata": {
    "slideshow": {
     "slide_type": "-"
    }
   },
   "outputs": [],
   "source": [
    "df = pd.DataFrame()\n",
    "x = np.linspace(-0.1, 2, 300)\n",
    "df['x'] = x\n",
    "df['y'] = P.pdf(x)  # probability density function"
   ]
  },
  {
   "cell_type": "markdown",
   "id": "320052c2",
   "metadata": {
    "slideshow": {
     "slide_type": "slide"
    }
   },
   "source": [
    "### Verteilungsdichte der Halmlängen"
   ]
  },
  {
   "cell_type": "code",
   "execution_count": 21,
   "id": "5cdc15c6",
   "metadata": {},
   "outputs": [
    {
     "data": {
      "image/png": "[encoded data removed]",
      "text/plain": [
       "<Figure size 640x480 with 1 Axes>"
      ]
     },
     "metadata": {},
     "output_type": "display_data"
    }
   ],
   "source": [
    "sns.lineplot(data=df, x='x', y='y');"
   ]
  },
  {
   "cell_type": "markdown",
   "id": "45fa28ee",
   "metadata": {
    "slideshow": {
     "slide_type": "slide"
    }
   },
   "source": [
    "# Quantile\n",
    "\n",
    "* $F$ die Verteilungsfunktion einer Zufallsvariablen\n",
    "* Die Zahl $u$ mit $F(u)=x$ bezeichnet man als *Quantil* von $x$\n",
    "* In <code>scipy.stats</code>:  <code>P.ppf</code>  (percent point function)"
   ]
  },
  {
   "cell_type": "markdown",
   "id": "f298f54f",
   "metadata": {
    "slideshow": {
     "slide_type": "slide"
    }
   },
   "source": [
    "# Quantile\n",
    "\n",
    "* $\\Phi$ die Verteilungsfunktion der Standardnormalverteilung \n",
    "* Die Zahl $q_\\alpha$ mit $\\Phi(q_\\alpha) = \\alpha$ ist das $\\alpha$-*Quantil* der Standardnormalverteilung.  Die\n",
    "  wichtigsten Quantile der Standardnormalverteilung sind \n",
    "  \n",
    "|$ \\Phi(u) $ | 70%    | 80%    | 90%    | 95%   | 97.5% | 99%   | 99.5% |\n",
    "|------------|--------|--------|--------|-------|-------|-------|-------|\n",
    "| $ u $      |  0.524 |  0.842 |  1.282 | 1.645 | 1.960 | 2.326 | 2.576 |\n",
    "\n"
   ]
  },
  {
   "cell_type": "code",
   "execution_count": 22,
   "id": "25f03a6e",
   "metadata": {
    "slideshow": {
     "slide_type": "fragment"
    }
   },
   "outputs": [
    {
     "data": {
      "text/plain": [
       "2.3263478740408408"
      ]
     },
     "execution_count": 22,
     "metadata": {},
     "output_type": "execute_result"
    }
   ],
   "source": [
    "Phi = stats.norm()\n",
    "Phi.ppf(0.99)"
   ]
  },
  {
   "cell_type": "markdown",
   "id": "5372c323",
   "metadata": {
    "slideshow": {
     "slide_type": "slide"
    }
   },
   "source": [
    "* Umrechnungsformel\n",
    "$$     q_\\alpha = - q_{1-\\alpha}  $$\n",
    "* Beispiel\n",
    "$$    q_{0.05} = - q_{0.95} = -1.645  $$\n",
    "* Das Quantil ist die Umkehrfunktion der Verteilungsfunktion, in Formeln\n",
    "$$      \\Phi(q_\\alpha) = \\alpha  $$"
   ]
  },
  {
   "cell_type": "code",
   "execution_count": 23,
   "id": "19d0264b",
   "metadata": {
    "slideshow": {
     "slide_type": "fragment"
    }
   },
   "outputs": [
    {
     "data": {
      "text/plain": [
       "-1.6448536269514729"
      ]
     },
     "execution_count": 23,
     "metadata": {},
     "output_type": "execute_result"
    }
   ],
   "source": [
    "Phi.ppf(0.05)"
   ]
  },
  {
   "cell_type": "markdown",
   "id": "e3be156f",
   "metadata": {
    "slideshow": {
     "slide_type": "slide"
    }
   },
   "source": [
    "### Beispiel\n",
    "\n",
    "* Welche Höhe wird nur von 5% der Roggenpflanzen unterschritten?"
   ]
  },
  {
   "cell_type": "code",
   "execution_count": 24,
   "id": "152e1867",
   "metadata": {},
   "outputs": [
    {
     "data": {
      "text/plain": [
       "0.6674778108792201"
      ]
     },
     "execution_count": 24,
     "metadata": {},
     "output_type": "execute_result"
    }
   ],
   "source": [
    "P = stats.norm(0.98, 0.19)\n",
    "P.ppf(0.05)"
   ]
  },
  {
   "cell_type": "markdown",
   "id": "07b9aa5e",
   "metadata": {
    "slideshow": {
     "slide_type": "slide"
    }
   },
   "source": [
    "## Verteilungsfunktion und Quantil"
   ]
  },
  {
   "cell_type": "markdown",
   "id": "0beed8be",
   "metadata": {},
   "source": [
    "Die Verteilungsfunktion beantwortet die Frage\n",
    "\n",
    "> Mit welcher Wahrscheinlichkeit liegt der Wert der Zufallsvariablen unterhalb eines vorgegebenen Werts?\n",
    "\n",
    "Das Quantil beantwortet die Frage\n",
    "\n",
    "> Welches x kann ich maximal wählen, wenn die Wahrscheinlichkeit, dass die Zufallsvariable unterhalb von x bleibt, kleiner als u sein soll"
   ]
  },
  {
   "cell_type": "markdown",
   "id": "1771315d",
   "metadata": {
    "slideshow": {
     "slide_type": "slide"
    }
   },
   "source": [
    "### Beispiel\n",
    "\n",
    "Das Gewicht von Zitronen sei normalverteilt mit Erwartungswert 178g und Streuung 12g\n",
    "\n",
    "* Zitronen mit einem Gewicht unter 150g können nicht verkauft werden.  Welcher Anteil ist das\n"
   ]
  },
  {
   "cell_type": "code",
   "execution_count": 25,
   "id": "bee12b79",
   "metadata": {},
   "outputs": [
    {
     "data": {
      "text/plain": [
       "0.009815328628645334"
      ]
     },
     "execution_count": 25,
     "metadata": {},
     "output_type": "execute_result"
    }
   ],
   "source": [
    "P = stats.norm(178, 12)\n",
    "P.cdf(150)"
   ]
  },
  {
   "cell_type": "markdown",
   "id": "5e75cc4c",
   "metadata": {
    "slideshow": {
     "slide_type": "fragment"
    }
   },
   "source": [
    "* Wie schwer ist das oberste Prozent der Zitronen mindestens?\n",
    "* Umformuliert:  Wir schwer sind die untersten 99% der Zitronen höchstens?"
   ]
  },
  {
   "cell_type": "code",
   "execution_count": 26,
   "id": "61ad1524",
   "metadata": {},
   "outputs": [
    {
     "data": {
      "text/plain": [
       "205.9161744884901"
      ]
     },
     "execution_count": 26,
     "metadata": {},
     "output_type": "execute_result"
    }
   ],
   "source": [
    "P.ppf(0.99)"
   ]
  },
  {
   "cell_type": "markdown",
   "id": "9a536edf",
   "metadata": {},
   "source": [
    "Das oberste Prozent der Zitronen wiegt über 206g"
   ]
  },
  {
   "cell_type": "markdown",
   "id": "c635f38a",
   "metadata": {
    "slideshow": {
     "slide_type": "slide"
    }
   },
   "source": [
    "## Beispiel: IQ-Tests\n",
    "\n",
    "* IQ-Tests sind so skaliert, dass die Werte in der Population normalverteilt mit Erwartungswert $\\mu = 100$ und Streuung $\\sigma = 15$ sind\n",
    "* Welcher Anteil der Bevölkerung hat einen IQ unter 60?\n",
    "* $X$ messe den IQ\n",
    "* $X$ ist $N(100,225)$-verteilt.\n",
    "* Also"
   ]
  },
  {
   "cell_type": "code",
   "execution_count": 27,
   "id": "aaf272ef",
   "metadata": {
    "slideshow": {
     "slide_type": "fragment"
    }
   },
   "outputs": [
    {
     "data": {
      "text/plain": [
       "0.0038303805675897365"
      ]
     },
     "execution_count": 27,
     "metadata": {},
     "output_type": "execute_result"
    }
   ],
   "source": [
    "P = stats.norm(100, 15)\n",
    "P.cdf(60)"
   ]
  },
  {
   "cell_type": "markdown",
   "id": "44757fb9",
   "metadata": {},
   "source": [
    "Knapp 0.4% der Bevölkerung hat einen IQ unter 60"
   ]
  },
  {
   "cell_type": "markdown",
   "id": "01a4a84b",
   "metadata": {
    "slideshow": {
     "slide_type": "slide"
    }
   },
   "source": [
    "### Beispiel:  Die schlauste Person der Welt\n",
    "\n",
    "* Welchen IQ hat die schlauste Person der Welt?\n",
    "* Es gibt ca 8 Milliarden Menschen\n",
    "* Die schlauste Person ist also die, deren IQ nur von einem Anteil von $\\frac1{8\\,000\\,000\\,000}$ der Weltbevölkerung übertroffen wird"
   ]
  },
  {
   "cell_type": "code",
   "execution_count": 28,
   "id": "969e3052",
   "metadata": {},
   "outputs": [
    {
     "data": {
      "text/plain": [
       "0.999999999875"
      ]
     },
     "execution_count": 28,
     "metadata": {},
     "output_type": "execute_result"
    }
   ],
   "source": [
    "N = 8_000_000_000\n",
    "1 - 1/N"
   ]
  },
  {
   "cell_type": "code",
   "execution_count": 29,
   "id": "b9fd245e",
   "metadata": {},
   "outputs": [
    {
     "data": {
      "text/plain": [
       "194.90475300947824"
      ]
     },
     "execution_count": 29,
     "metadata": {},
     "output_type": "execute_result"
    }
   ],
   "source": [
    "P = stats.norm(100, 15)\n",
    "P.ppf(1-1/N)"
   ]
  },
  {
   "cell_type": "markdown",
   "id": "a39ac663",
   "metadata": {},
   "source": [
    "Die schlaueste Person der Welt hat einen IQ von 195"
   ]
  },
  {
   "cell_type": "markdown",
   "id": "0ed52864",
   "metadata": {
    "slideshow": {
     "slide_type": "slide"
    }
   },
   "source": [
    "# Verteilungsfunktionen diskreter Zufallsvariablen "
   ]
  },
  {
   "cell_type": "markdown",
   "id": "492295ed",
   "metadata": {},
   "source": [
    "* $X$ sei eine Zufallsvariable.  Die Funktion\n",
    "* $$      F(x) = P(X \\le x)  $$\n",
    "  ist die *Verteilungsfunktion* von $X$\n",
    "* Die Verteilungsfunktion $F(x)$ gibt an, mit welcher Wahrscheinlichkeit ein kleinerer Wert als $x$ angenommen\n",
    "    wird ($x$~eingeschlossen)\n",
    "* Die Verteilungsfunktion wächst also monoton\n",
    "* Wenn $X$ diskret ist, weist ihre Verteilungsfunktion Sprünge auf. "
   ]
  },
  {
   "cell_type": "markdown",
   "id": "3fa79a63",
   "metadata": {
    "slideshow": {
     "slide_type": "slide"
    }
   },
   "source": [
    "# Verteilungsfunktion der Binomialverteilung\n",
    "\n",
    "* $F$ sei die Verteilungsfunktion von $B_{6,\\,1/3}$, also\n",
    "$$   F(r) = \\sum_{k\\le r} B_{6,\\,1/3}(k)  $$\n",
    "  \n",
    "  "
   ]
  },
  {
   "cell_type": "markdown",
   "id": "e160c308",
   "metadata": {},
   "source": [
    "\n",
    "| $$k$$ | $$B_{6,\\,1/3}(k)$$| $$ F(k) $$ |\n",
    "|-------|-------------------|------------|\n",
    "|     0 | 0.0878            | 0.0878     |\n",
    "|     1 | 0.2634            | 0.3512     |\n",
    "|     2 | 0.3292            | 0.6804     |\n",
    "|     3 | 0.2195            | 0.8999     |\n",
    "|     4 | 0.0823            | 0.9822     |\n",
    "|     5 | 0.0165            | 0.9986     |\n",
    "|     6 | 0.0014            | 1.0000     |\n"
   ]
  },
  {
   "cell_type": "markdown",
   "id": "152b3cbc",
   "metadata": {
    "slideshow": {
     "slide_type": "slide"
    }
   },
   "source": [
    "<img src=\"bilder/binom6_vfunk.svg\" alt=\"Verteilung und Verteilungsfunktion der Binomialverteilung\" width=\"65%\"/>"
   ]
  },
  {
   "cell_type": "markdown",
   "id": "37ee3f0c",
   "metadata": {
    "slideshow": {
     "slide_type": "slide"
    }
   },
   "source": [
    "## Standardisierte Verteilung\n",
    "\n",
    "* Problem:  Binomialverteilungen zu verschiedenen Stichprobenumfängen kann man schlecht vergleichen\n",
    "* Die Zufallsvariable $X$ besitze den Erwartungswert $E(X) = \\mu$ und die Varianz $\\text{Var}(X) = \\sigma^2$\n",
    "* Setze\n",
    "$$   Y = \\frac{X-\\mu}\\sigma $$\n",
    "* Dann $E(Y) = 0$ und $\\text{Var}(Y) = 1$\n",
    "* $Y$ ist die *standardisierte Zufallsvariable* zu $X$"
   ]
  },
  {
   "cell_type": "markdown",
   "id": "73f8205d",
   "metadata": {
    "slideshow": {
     "slide_type": "slide"
    }
   },
   "source": [
    "### Standardisierte Binomialverteilung zu n = 40 und p = 0.2\n",
    "\n",
    "<img src=\"bilder/GWSbinom0040.svg\" alt=\"Standardisierte Binomialverteilung\" width=\"45%\"/>"
   ]
  },
  {
   "cell_type": "markdown",
   "id": "122f458b",
   "metadata": {
    "slideshow": {
     "slide_type": "slide"
    }
   },
   "source": [
    "### Standardisierte Binomialverteilung zu n = 320 und p = 0.2\n",
    "\n",
    "<img src=\"bilder/GWSbinom0320.svg\" alt=\"Standardisierte Binomialverteilung\" width=\"45%\"/>"
   ]
  },
  {
   "cell_type": "markdown",
   "id": "b0ebf0c0",
   "metadata": {
    "slideshow": {
     "slide_type": "slide"
    }
   },
   "source": [
    "### Standard-Normalverteilung\n",
    "\n",
    "<img src=\"bilder/phi.svg\" alt=\"Standardisierte Binomialverteilung\" width=\"45%\"/>"
   ]
  },
  {
   "cell_type": "markdown",
   "id": "dae5ec6c",
   "metadata": {
    "slideshow": {
     "slide_type": "slide"
    }
   },
   "source": [
    "### Animation\n",
    "\n",
    "<img src=\"bilder/gws.gif\" alt=\"Standardisierte Binomialverteilung\" width=\"45%\"/>"
   ]
  },
  {
   "cell_type": "markdown",
   "id": "8780a2aa",
   "metadata": {
    "slideshow": {
     "slide_type": "slide"
    }
   },
   "source": [
    "# Zentraler Grenzwertsatz\n",
    "\n",
    "Für jeden Parameterwert $p$ konvergiert der Grenzprozess auf der letzten Folie gegen die Verteilungsfunktion der Standard-Normalverteilung."
   ]
  },
  {
   "cell_type": "markdown",
   "id": "a50de68a",
   "metadata": {
    "slideshow": {
     "slide_type": "slide"
    }
   },
   "source": [
    "# Normalapproximation\n",
    "\n",
    "* Die Zufallsvariable $X$ sei $B(n,p)$-verteilt\n",
    "* $E(X) = n \\cdot p$ und $\\text{Var}(X) = n \\cdot p \\cdot (1-p)$\n",
    "* Die standardisierte Zufallsvariable zu $X$ ist\n",
    "$$    Y = \\frac{X - n \\cdot p}{\\sqrt{n \\cdot p \\cdot (1-p)}}  $$\n",
    "* Für große $n$ ist $Y$ annähernd standard-normalverteilt"
   ]
  },
  {
   "cell_type": "markdown",
   "id": "48f0cbb4",
   "metadata": {
    "slideshow": {
     "slide_type": "fragment"
    }
   },
   "source": [
    "* \"groß\" bedeutet\n",
    "$$      n \\cdot p \\cdot (1-p) > 9  $$"
   ]
  },
  {
   "cell_type": "markdown",
   "id": "d262c97d",
   "metadata": {
    "slideshow": {
     "slide_type": "slide"
    }
   },
   "source": [
    "## Normalapproximation: Formel\n",
    "\n",
    "* $X$ sei $B(n,p)$-verteilt\n",
    "* Es gilt näherungsweise für natürliche Zahlen $a < b$\n",
    "$$     P(a \\le X \\le b) \n",
    "      \\cong \\Phi\\!\\left( \\frac{b - n \\cdot p}{\\sqrt{n \\cdot p\n",
    "            \\cdot (1-p)}} \\right) - \\Phi\\!\\left( \\frac{a - n\n",
    "          \\cdot p}{\\sqrt{n \\cdot p \\cdot (1-p)}} \\right)  $$\n",
    "* Wenn $a = 0$ oder $b = n$ ist, braucht man nur einen Term\n",
    "\\begin{align*}\n",
    "      P(a \\le X)\n",
    "      &\\cong 1 - \\Phi\\!\\left( \\frac{a - n \\cdot p}{\\sqrt{n \\cdot\n",
    "            p \\cdot (1-p)}} \\right) \\\\\n",
    "      P(X \\le b) \n",
    "      &\\cong \\Phi\\!\\left( \\frac{b - n \\cdot p}{\\sqrt{n \\cdot p\n",
    "            \\cdot (1-p)}} \\right) \n",
    "\\end{align*}  \n"
   ]
  },
  {
   "cell_type": "markdown",
   "id": "f301439b",
   "metadata": {
    "slideshow": {
     "slide_type": "slide"
    }
   },
   "source": [
    "### Beispiel zur Normalapproximation"
   ]
  },
  {
   "cell_type": "markdown",
   "id": "43b28fec",
   "metadata": {},
   "source": [
    "* Ein Tulpenbauer hat 31500 Zwiebeln eingepflanzt\n",
    "* Jede einzelne wächst mit einer Wahrscheinlichkeit von 0.965 zu einer Pflanze mit Blütenknospe heran, die er dann ernten kann\n",
    "* Mit welcher Wahrscheinlichkeit wird er mindestens 30000 Blüten ernten können?"
   ]
  },
  {
   "cell_type": "markdown",
   "id": "37168bfc",
   "metadata": {
    "slideshow": {
     "slide_type": "slide"
    }
   },
   "source": [
    "\n",
    "### Erste Lösung: Binomialverteilung"
   ]
  },
  {
   "cell_type": "code",
   "execution_count": 43,
   "id": "e194f56c",
   "metadata": {},
   "outputs": [
    {
     "data": {
      "text/plain": [
       "0.9899519999575143"
      ]
     },
     "execution_count": 43,
     "metadata": {},
     "output_type": "execute_result"
    }
   ],
   "source": [
    "n = 31000\n",
    "p = 0.97\n",
    "a = 30000\n",
    "P = stats.binom(n, p)\n",
    "1 - P.cdf(a-1)"
   ]
  },
  {
   "cell_type": "markdown",
   "id": "223a084a",
   "metadata": {
    "slideshow": {
     "slide_type": "fragment"
    }
   },
   "source": [
    "### Zweite Lösung: Normalapproximation"
   ]
  },
  {
   "cell_type": "code",
   "execution_count": 44,
   "id": "77634927",
   "metadata": {},
   "outputs": [
    {
     "data": {
      "text/plain": [
       "-2.3306158657557545"
      ]
     },
     "execution_count": 44,
     "metadata": {},
     "output_type": "execute_result"
    }
   ],
   "source": [
    "Phi = stats.norm()\n",
    "u = (a - n*p) / np.sqrt(n*p*(1-p))\n",
    "u"
   ]
  },
  {
   "cell_type": "code",
   "execution_count": 45,
   "id": "4e281709",
   "metadata": {},
   "outputs": [
    {
     "data": {
      "text/plain": [
       "0.9901131879356884"
      ]
     },
     "execution_count": 45,
     "metadata": {},
     "output_type": "execute_result"
    }
   ],
   "source": [
    "1 - Phi.cdf(u)"
   ]
  }
 ],
 "metadata": {
  "celltoolbar": "Slideshow",
  "kernelspec": {
   "display_name": "Python 3 (ipykernel)",
   "language": "python",
   "name": "python3"
  },
  "language_info": {
   "codemirror_mode": {
    "name": "ipython",
    "version": 3
   },
   "file_extension": ".py",
   "mimetype": "text/x-python",
   "name": "python",
   "nbconvert_exporter": "python",
   "pygments_lexer": "ipython3",
   "version": "3.11.10"
  }
 },
 "nbformat": 4,
 "nbformat_minor": 5
}
