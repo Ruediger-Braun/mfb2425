{
 "cells": [
  {
   "cell_type": "markdown",
   "id": "f0e2ec68",
   "metadata": {},
   "source": [
    "# Mathematik für Biologiestudierende\n",
    "\n",
    "Wintersemester 2024/25\n",
    "\n",
    "20. November 2024\n",
    "\n",
    "&copy; 2024 Prof. Dr. Rüdiger W. Braun "
   ]
  },
  {
   "cell_type": "markdown",
   "id": "ea95e6de",
   "metadata": {
    "slideshow": {
     "slide_type": "slide"
    }
   },
   "source": [
    "# Stochastische Unabhängigkeit"
   ]
  },
  {
   "cell_type": "markdown",
   "id": "def3040a",
   "metadata": {},
   "source": [
    "Zwei diskrete Zufallsvariable $X$ und $Y$ sind *stochastisch unabhängig,* wenn für alle möglichen Werte $k$\n",
    "und $m$\n",
    "\\begin{equation*}\n",
    "P(X=k, Y=m) = P(X=k) \\cdot P(Y=m)\n",
    "\\end{equation*}"
   ]
  },
  {
   "cell_type": "markdown",
   "id": "e26225ee",
   "metadata": {
    "slideshow": {
     "slide_type": "fragment"
    }
   },
   "source": [
    "Ein Beispiel, wo die Unabhängigkeit auf eine subtile Weise nicht gegeben war"
   ]
  },
  {
   "cell_type": "markdown",
   "id": "d533b52f",
   "metadata": {
    "slideshow": {
     "slide_type": "slide"
    }
   },
   "source": [
    "## Beispiel: Lotterie\n",
    "\n",
    "* Eine Lotterie wurde nach den folgenden Regeln gespielt:\n",
    "* In  einer Trommel befinden sich 70 Kugeln, und zwar für jede Ziffer je sieben\n",
    "* Es werden nacheinander sieben Kugeln gezogen\n",
    "* Dadurch entsteht eine siebenstellige Zahl\n",
    "* Den Hauptgewinn erhält, wer diese Zahl auf seinem Los hat"
   ]
  },
  {
   "cell_type": "markdown",
   "id": "e831089e",
   "metadata": {
    "slideshow": {
     "slide_type": "fragment"
    }
   },
   "source": [
    "* Das ist kein faires Spiel"
   ]
  },
  {
   "cell_type": "markdown",
   "id": "258e6a7f",
   "metadata": {
    "slideshow": {
     "slide_type": "slide"
    }
   },
   "source": [
    "## Lotterie: Kritik\n",
    "\n",
    "* Die Wahrscheinlichkeit, gezogen zu werden, ist für alle Kugeln gleich"
   ]
  },
  {
   "cell_type": "markdown",
   "id": "036e300a",
   "metadata": {
    "slideshow": {
     "slide_type": "fragment"
    }
   },
   "source": [
    "* aber nicht für alle Losnummern\n",
    "* Es gibt\n",
    "$$      7^7 = 823\\,543  $$\n",
    "Möglichkeiten, Einzelkugeln so auszuwählen, dass die Losnummer 1234567 herauskommt"
   ]
  },
  {
   "cell_type": "markdown",
   "id": "d3d24b9a",
   "metadata": {
    "slideshow": {
     "slide_type": "fragment"
    }
   },
   "source": [
    "* Es gibt aber nur \n",
    "$$ 7! = 5040 $$\n",
    "Möglichkeiten, Einzelkugeln so auszuwählen, dass die Losnummer 1111111 herauskommzt"
   ]
  },
  {
   "cell_type": "code",
   "execution_count": 1,
   "id": "307d815a",
   "metadata": {
    "slideshow": {
     "slide_type": "slide"
    }
   },
   "outputs": [
    {
     "data": {
      "text/plain": [
       "6041824588800"
      ]
     },
     "execution_count": 1,
     "metadata": {},
     "output_type": "execute_result"
    }
   ],
   "source": [
    "import numpy as np\n",
    "np.set_printoptions(legacy='1.21')\n",
    "import scipy\n",
    "\n",
    "anzahl_gesamt = 70*69*68*67*66*65*64\n",
    "anzahl_gesamt"
   ]
  },
  {
   "cell_type": "code",
   "execution_count": 2,
   "id": "40f8e022",
   "metadata": {},
   "outputs": [
    {
     "data": {
      "text/plain": [
       "823543"
      ]
     },
     "execution_count": 2,
     "metadata": {},
     "output_type": "execute_result"
    }
   ],
   "source": [
    "anzahl1234567 = 7**7\n",
    "anzahl1234567"
   ]
  },
  {
   "cell_type": "code",
   "execution_count": 3,
   "id": "fce09d1c",
   "metadata": {},
   "outputs": [
    {
     "data": {
      "text/plain": [
       "5040.0"
      ]
     },
     "execution_count": 3,
     "metadata": {},
     "output_type": "execute_result"
    }
   ],
   "source": [
    "anzahl1111111 = scipy.special.factorial(7)\n",
    "anzahl1111111"
   ]
  },
  {
   "cell_type": "code",
   "execution_count": 4,
   "id": "4e06da90",
   "metadata": {
    "slideshow": {
     "slide_type": "slide"
    }
   },
   "outputs": [
    {
     "data": {
      "text/plain": [
       "1.363070026108733e-07"
      ]
     },
     "execution_count": 4,
     "metadata": {},
     "output_type": "execute_result"
    }
   ],
   "source": [
    "P1234567 = anzahl1234567 / anzahl_gesamt\n",
    "P1234567"
   ]
  },
  {
   "cell_type": "code",
   "execution_count": 5,
   "id": "b35ced6c",
   "metadata": {},
   "outputs": [
    {
     "data": {
      "text/plain": [
       "8.341850919245278e-10"
      ]
     },
     "execution_count": 5,
     "metadata": {},
     "output_type": "execute_result"
    }
   ],
   "source": [
    "P1111111 = anzahl1111111 / anzahl_gesamt\n",
    "P1111111"
   ]
  },
  {
   "cell_type": "code",
   "execution_count": 6,
   "id": "50b0fbdc",
   "metadata": {
    "slideshow": {
     "slide_type": "fragment"
    }
   },
   "outputs": [
    {
     "data": {
      "text/plain": [
       "163.4013888888889"
      ]
     },
     "execution_count": 6,
     "metadata": {},
     "output_type": "execute_result"
    }
   ],
   "source": [
    "P1234567 / P1111111"
   ]
  },
  {
   "cell_type": "markdown",
   "id": "52416e67",
   "metadata": {},
   "source": [
    "Die Gewinnwahrscheinlichkeit des Loses mit der Nummer 1234567 ist mehr als 160 mal so groß wie die des Loses mit der Nummer 1111111"
   ]
  },
  {
   "cell_type": "markdown",
   "id": "b13bbac2",
   "metadata": {
    "slideshow": {
     "slide_type": "slide"
    }
   },
   "source": [
    "Die Zufallsvariablen\n",
    "* $X_1$:  Ziffer auf der ersten Kugel\n",
    "* $X_2$:  Ziffer auf der zweiten Kugel\n",
    "\n",
    "sind stochastisch nicht unabhängig"
   ]
  },
  {
   "cell_type": "markdown",
   "id": "e6a25811",
   "metadata": {},
   "source": [
    "Wenn die erste Kugel eine 1 zeigt, dann ist die Wahrscheinlichkeit, dass die zweite das auch tut, kleiner als die Wahrscheinlichkeit, dass die zweite eine 2 zeigt."
   ]
  },
  {
   "cell_type": "markdown",
   "id": "d8e14b0c",
   "metadata": {
    "slideshow": {
     "slide_type": "slide"
    }
   },
   "source": [
    "## Bedingte Wahrscheinlichkeit"
   ]
  },
  {
   "cell_type": "markdown",
   "id": "8dc06cc7",
   "metadata": {
    "slideshow": {
     "slide_type": "fragment"
    }
   },
   "source": [
    "## Nutzung von Zusatzinformationen\n",
    "\n",
    "* Die bedingte Wahrscheinlichkeit ist eine Wahrscheinlichkeit unter Berücksichtigung von Zusatzinformationen\n",
    "* Beispielsweise ist für einen 50 jährigen die Wahrscheinlichkeit, 80 Jahre zu werden, höher als für ein        Neugeborenes\n",
    "* Allgemein wird mit $P(A|B)$ die Wahrscheinlichkeit von $A$ bezeichnet, wenn bereits bekannt ist, dass $B$ eingetreten ist\n",
    "* Das Ereignis $B$, dessen Eintritt vorausgesetzt ist, heißt *Hypothese*"
   ]
  },
  {
   "cell_type": "markdown",
   "id": "ebe5cc01",
   "metadata": {
    "slideshow": {
     "slide_type": "slide"
    }
   },
   "source": [
    "## Bedingte Wahrscheinlichkeit\n",
    "\n",
    "$$   P(A|B) = \\frac{P(A \\cap B)}{P(B)}  $$\n",
    "\n",
    "bezeichnet man als *bedingte Wahrscheinlichkeit* von $A$ unter der Hypothese $B$\n",
    "\n",
    "man sagt auch \"gegeben $B$\""
   ]
  },
  {
   "cell_type": "markdown",
   "id": "e7aa2d3b",
   "metadata": {
    "slideshow": {
     "slide_type": "fragment"
    }
   },
   "source": [
    "* Die Hypothese $B$ ist also vorausgesetzt (im Beispiel ist jemand bereits 50 Jahre alt geworden)\n",
    "* Das Ereignis $A$ ist das Ereignis, dessen Wahrscheinlichkeit interessiert (im Beispiel ist $A$ das Ereignis, älter als 80 zu werden)"
   ]
  },
  {
   "cell_type": "markdown",
   "id": "200df2e8",
   "metadata": {
    "slideshow": {
     "slide_type": "fragment"
    }
   },
   "source": [
    "* Man bezeichnet $P(A)$ auch als *totale* Wahrscheinlichkeit, wenn man den Unterschied zu einer bedingten   Wahrscheinlichkeit verdeutlichen will"
   ]
  },
  {
   "cell_type": "markdown",
   "id": "47cdcff1",
   "metadata": {
    "slideshow": {
     "slide_type": "slide"
    }
   },
   "source": [
    "### Beispiel zur bedingten Wahrscheinlichkeit \n",
    "\n",
    "* Sei $E_{m50}$ das Ereignis, dass ein männliches Neugeborenes ein Alter von mindestens 50 Jahren erreichen wird; laut Sterbetafel ist $P(E_{m50}) = 0.919$\n",
    "* für 80 Jahre $P(E_{m80}) = 0.365$"
   ]
  },
  {
   "cell_type": "markdown",
   "id": "6337fe33",
   "metadata": {
    "slideshow": {
     "slide_type": "fragment"
    }
   },
   "source": [
    "* dann wegen $E_{m50} \\cap E_{m80} = E_{m80}$\n",
    "$$   P(E_{m80} | E_{m50}) \n",
    "          = \\frac{P(E_{m80} \\cap E_{m50})}{P(E_{m50})}\n",
    "          = \\frac{0.365}{0.919}\n",
    "          = 0.397 $$"
   ]
  },
  {
   "cell_type": "markdown",
   "id": "aa6a25b0",
   "metadata": {
    "slideshow": {
     "slide_type": "fragment"
    }
   },
   "source": [
    "* für weibliche Neugeborene $P(E_{w50}) = 0.958$ und $P(E_{w80}) = 0.566$      \n",
    "$$          P(E_{w80} | E_{w50}) \n",
    "          = \\frac{P(E_{w80} \\cap E_{w50})}{P(E_{w50})}\n",
    "          = \\frac{0.566}{0.958}\n",
    "          = 0.591   $$"
   ]
  },
  {
   "cell_type": "markdown",
   "id": "ee5487bb",
   "metadata": {
    "slideshow": {
     "slide_type": "slide"
    }
   },
   "source": [
    "## Beispiele für Hypothesen\n",
    "\n",
    "* Frage: Wie groß ist die Wahrscheinlichkeit für eine Frau an ihrem hundertsten Geburtstag, dass sie ihren nächsten Geburtstag erlebt? "
   ]
  },
  {
   "cell_type": "markdown",
   "id": "348ffbc8",
   "metadata": {
    "slideshow": {
     "slide_type": "fragment"
    }
   },
   "source": [
    "Hypothese:  Eine Frau erreicht ihren hundersten Geburtstag"
   ]
  },
  {
   "cell_type": "markdown",
   "id": "38d2b8be",
   "metadata": {
    "slideshow": {
     "slide_type": "fragment"
    }
   },
   "source": [
    "* Frage: Wie groß ist die Wahrscheinlichkeit auf Darmkrebs, wenn Spuren von Blut im Stuhl gefunden wurden?"
   ]
  },
  {
   "cell_type": "markdown",
   "id": "27ee49de",
   "metadata": {
    "slideshow": {
     "slide_type": "fragment"
    }
   },
   "source": [
    "Hypothese:  Es wurden Spuren von Blut im Stuhl gefunden"
   ]
  },
  {
   "cell_type": "markdown",
   "id": "76cd71a7",
   "metadata": {
    "slideshow": {
     "slide_type": "slide"
    }
   },
   "source": [
    "* Frage:  Wie groß ist die Wahrscheinlichkeit, dass ein TB-Test die Krankheit anzeigt?"
   ]
  },
  {
   "cell_type": "markdown",
   "id": "8f288528",
   "metadata": {
    "slideshow": {
     "slide_type": "fragment"
    }
   },
   "source": [
    "Hypothese:  Patient ist krank"
   ]
  },
  {
   "cell_type": "markdown",
   "id": "6054c7ac",
   "metadata": {
    "slideshow": {
     "slide_type": "fragment"
    }
   },
   "source": [
    "* Frage:  Wie groß ist die Wahrscheinlichkeit, dass ein positiv getesteter Proband tatsächlich an TB erkrankt ist?"
   ]
  },
  {
   "cell_type": "markdown",
   "id": "0caa62f8",
   "metadata": {
    "slideshow": {
     "slide_type": "fragment"
    }
   },
   "source": [
    "Hypothese:  Patient wurde positiv getestet"
   ]
  },
  {
   "cell_type": "markdown",
   "id": "6d826029",
   "metadata": {
    "slideshow": {
     "slide_type": "fragment"
    }
   },
   "source": [
    "* Frage:  Wie hoch ist die Wahrscheinlichkeit einer geimpften Person für einen schweren Krankheitsverlauf?"
   ]
  },
  {
   "cell_type": "markdown",
   "id": "0a8279a1",
   "metadata": {
    "slideshow": {
     "slide_type": "fragment"
    }
   },
   "source": [
    "Hypothese: Person ist geimpft"
   ]
  },
  {
   "cell_type": "markdown",
   "id": "89177c5c",
   "metadata": {
    "slideshow": {
     "slide_type": "slide"
    }
   },
   "source": [
    "### Beispiel aus dem Wahlkampf 2017\n",
    "\n",
    "* Richtige Aussage: 40% der befristet Beschäftigten sind zwischen 25 und 35 Jahren alt\n",
    "* Falsche Aussage eines Spitzenpolitikers: 40% der Beschäftigten zwischen 25 und 35 Jahren sind                 befristet beschäftigt"
   ]
  },
  {
   "cell_type": "markdown",
   "id": "e7215cfb",
   "metadata": {
    "slideshow": {
     "slide_type": "slide"
    }
   },
   "source": [
    "## Heuristische Begründung der Formel\n",
    "\n",
    "$$  P(A|B) = \\frac{P(A\\cap B)}{P(B)}  $$\n",
    "\n",
    "* unter der Hypothese $B$ ist $B$ sicher, also $P(B|B) = 1$; daher wird durch $P(B)$ geteilt\n",
    "* unter der Hypothese $B$ sind diejenigen Elementarereignisse von $A$, die nicht in $B$ liegen, irrelevant; daher steht im Zähler $P(A \\cap B)$ und nicht $P(A)$"
   ]
  },
  {
   "cell_type": "markdown",
   "id": "2eeb6fa4",
   "metadata": {
    "slideshow": {
     "slide_type": "slide"
    }
   },
   "source": [
    "## Rechenregeln\n",
    "\n",
    "* $P(A|B)$ ist eine Wahrscheinlichkeit für $A$, erfüllt also die Rechenregeln für Wahrscheinlichkeiten\n",
    "* die wichtigste ist die Regel für die Wahrscheinlichkeit des Komplementärereignisses \n",
    "$$   P(A^c|B) = 1 - P(A|B) $$"
   ]
  },
  {
   "cell_type": "markdown",
   "id": "76d797d1",
   "metadata": {
    "slideshow": {
     "slide_type": "fragment"
    }
   },
   "source": [
    "## Produktformel\n",
    "\n",
    "$$        P(A \\cap B) = P(A|B) \\cdot P(B)  $$"
   ]
  },
  {
   "cell_type": "markdown",
   "id": "257738ef",
   "metadata": {},
   "source": [
    "Für unabhängige $ A $ und $ B $ lautet die Produktformel\n",
    "$$         P(A \\cap B) = P(A) \\cdot P(B)  $$\n",
    "\n",
    "Also sind $ A $ und $ B $ genau dann unabhängig, wenn\n",
    "$$          P(A|B) = P(A)   $$"
   ]
  },
  {
   "cell_type": "markdown",
   "id": "f7ad0d6e",
   "metadata": {
    "slideshow": {
     "slide_type": "slide"
    }
   },
   "source": [
    "## Satz von der totalen Wahrscheinlichkeit\n",
    "\n",
    "Bekannt:\n",
    "* totale Wahrscheinlichkeit $P(B)$ und damit auch $P(B^c)$\n",
    "* bedingte Wahrscheinlichkeiten $P(A|B)$ und $P(A|B^c)$"
   ]
  },
  {
   "cell_type": "markdown",
   "id": "b8e8e1f1",
   "metadata": {
    "slideshow": {
     "slide_type": "fragment"
    }
   },
   "source": [
    "Gesucht: totale Wahrscheinlichkeit $P(A)$\n",
    "\n",
    "\\begin{align*}\n",
    "        P(A) &= P(A \\cap B) + P(A \\cap B^c) \\\\\n",
    "        &= P(A | B) \\cdot P(B) + P(A | B^c) \\cdot P(B^c) \\\\\n",
    "        &= P(A | B) \\cdot P(B) + P(A | B^c) \\cdot (1-P(B))\n",
    "\\end{align*}"
   ]
  },
  {
   "cell_type": "markdown",
   "id": "2ac7635f",
   "metadata": {
    "slideshow": {
     "slide_type": "slide"
    }
   },
   "source": [
    "## Bayessche Formel\n",
    "\n",
    "Bekannt:\n",
    "* totale Wahrscheinlichkeit $P(B)$\n",
    "* bedingte Wahrscheinlichkeiten $P(A|B)$ und $P(A|B^c)$\n",
    "* totale Wahrscheinlichkeit $P(A)$ aus dem Satz von der totalen Wahrscheinlichkeit"
   ]
  },
  {
   "cell_type": "markdown",
   "id": "3b081ce8",
   "metadata": {
    "slideshow": {
     "slide_type": "fragment"
    }
   },
   "source": [
    "Gesucht: bedingte Wahrscheinlichkeit $P(B|A)$\n",
    "$$   P(B|A) = \\frac{P(A|B) \\cdot P(B)}{P(A)}  $$"
   ]
  },
  {
   "cell_type": "markdown",
   "id": "01657047",
   "metadata": {
    "slideshow": {
     "slide_type": "slide"
    }
   },
   "source": [
    "## Beispiel Röntgenreihenuntersuchung\n",
    "\n",
    "In den 1960-er Jahren wurden Röntgenreihenuntersuchungen durchgeführt.  Beispielhafte Daten:\n",
    "\n",
    "* bei 94\\% aller Erkrankten schlägt der Test an\n",
    "* bei 1% der Gesunden schlägt der Test an \n",
    "* 99.8% aller Probanden sind gesund"
   ]
  },
  {
   "cell_type": "markdown",
   "id": "38e6d80d",
   "metadata": {
    "slideshow": {
     "slide_type": "fragment"
    }
   },
   "source": [
    "Zufällig herausgegriffener Proband\n",
    "* $A$: \"Verdacht auf TB\"\n",
    "* $B$: \"an TB erkrankt\" "
   ]
  },
  {
   "cell_type": "markdown",
   "id": "965dd429",
   "metadata": {
    "slideshow": {
     "slide_type": "slide"
    }
   },
   "source": [
    "### Röntgenreihenuntersuchungen, Fortsetzung\n",
    "\n",
    "* $P(B) = 0.002$ (totale Wahrscheinlichkeit)\n",
    "* $P(A|B) = 0.94$ (bedingte Wahrscheinlichkeit)\n",
    "* $P(A|B^c) = 0.01$ (bedingte Wahrscheinlichkeit)"
   ]
  },
  {
   "cell_type": "markdown",
   "id": "cc5afb94",
   "metadata": {
    "slideshow": {
     "slide_type": "fragment"
    }
   },
   "source": [
    "Satz von der totalen Wahrscheinlichkeit\n",
    "        \\begin{align*}\n",
    "          P(A) &= P(A|B) \\cdot P(B) + P(A|B^c) \\cdot P(B^c) \\\\\n",
    "          &= 0.94 \\cdot 0.002 + 0.01 \\cdot 0.998 \\\\\n",
    "          &= 0.00188 + 0.00998 \\\\\n",
    "          &= 0.01186\n",
    "        \\end{align*}"
   ]
  },
  {
   "cell_type": "markdown",
   "id": "5efde6e7",
   "metadata": {
    "slideshow": {
     "slide_type": "-"
    }
   },
   "source": [
    "1.186% aller Probanden verlassen die Untersuchung mit einem Verdacht,"
   ]
  },
  {
   "cell_type": "markdown",
   "id": "7bccc209",
   "metadata": {
    "slideshow": {
     "slide_type": "fragment"
    }
   },
   "source": [
    "aber nur 0.2% aller Probanden sind krank"
   ]
  },
  {
   "cell_type": "markdown",
   "id": "9ae9761d",
   "metadata": {
    "slideshow": {
     "slide_type": "slide"
    }
   },
   "source": [
    "### Fragen zur Röntgenreihenuntersuchung\n",
    "\n",
    "* Mit welcher Wahrscheinlichkeit wird ein Kranker nicht endeckt? \n",
    "* Mit welcher Wahrscheinlichkeit ist eine Verdachtsdiagnose falsch? \n",
    "* Mit welcher Wahrscheinlichkeit wird eine falsche Diagnose gestellt? "
   ]
  },
  {
   "cell_type": "markdown",
   "id": "c50d30ff",
   "metadata": {
    "slideshow": {
     "slide_type": "slide"
    }
   },
   "source": [
    "### erste Frage\n",
    "\n",
    "Mit welcher Wahrscheinlichkeit wird ein Kranker nicht endeckt?\n",
    "\n",
    "\"Falsch negativer Befund\": Krankheit übersehen\n",
    "$$     P(A^c|B) = 1 - P(A|B) = 1 - 0.94 = 0.06  $$\n",
    "Die Wahrscheinlichkeit, dass ein Kranker für gesund gehalten wird, beträgt 6%"
   ]
  },
  {
   "cell_type": "markdown",
   "id": "4070f41f",
   "metadata": {
    "slideshow": {
     "slide_type": "slide"
    }
   },
   "source": [
    "### zweite Frage\n",
    "\n",
    "Mit welcher Wahrscheinlichkeit ist eine Verdachtsdiagnose falsch?\n",
    "\n",
    "\"Falsch positiver Befund\": Krankheit zu Unrecht diagnostiziert\n",
    "      \\begin{align*}\n",
    "        P(B^c | A) \n",
    "        &= 1 - P(B|A) \\\\\n",
    "        &= 1 - \\frac{P(A|B) \\cdot P(B)}{P(A)} \\\\\n",
    "        &= 1 - \\frac{0.94 \\cdot 0.002}{0.01186} \\\\\n",
    "        &= 1 - 0.1585 \\\\\n",
    "        &= 0.8415\n",
    "      \\end{align*}\n",
    "      \n",
    "Wer mit Verdachtsdiagnose aus der Röntgenreihenuntersuchung kam, war mit nahezu 85% Wahrscheinlichkeit **gesund**"
   ]
  },
  {
   "cell_type": "markdown",
   "id": "7c3f05a9",
   "metadata": {
    "slideshow": {
     "slide_type": "slide"
    }
   },
   "source": [
    "## dritte Frage\n",
    "      \n",
    "Mit welcher Wahrscheinlichkeit kommt es zu einer Fehldiagnose?\n",
    "\n",
    "Das ist eine totale Wahrscheinlichkeit, nämlich\n",
    "        \\begin{align*}\n",
    "          P(A \\cap B^c) + P(A^c \\cap B)\n",
    "          &= P(A|B^c) \\cdot P(B^c) + P(A^c|B) \\cdot P(B) \\\\\n",
    "          &= 0.06 \\cdot 0.002 + 0.01 \\cdot 0.998 \\\\\n",
    "          &= 0.0101\n",
    "        \\end{align*}\n",
    "Die Wahrscheinlichkeit einer Fehldiagnose beträgt 1.01%"
   ]
  },
  {
   "cell_type": "markdown",
   "id": "c6ba2b34",
   "metadata": {
    "slideshow": {
     "slide_type": "slide"
    }
   },
   "source": [
    "# Wahrscheinlichkeitsbäume\n",
    "\n",
    "<img src=\"bilder/w-baum.svg\" alt=\"Wahrscheinlichkeitsbaum\" width=\"75%\"/>"
   ]
  },
  {
   "cell_type": "markdown",
   "id": "b63b8791",
   "metadata": {
    "slideshow": {
     "slide_type": "slide"
    }
   },
   "source": [
    "## Juwelenwespen\n",
    "\n",
    "Juwelenwespen legen Eier in Puppen anderer Insekten.  Das Geschlechterverhältnis ist\n",
    "\n",
    "* 95% weibliche und 5% männliche Eier, wenn die Puppe noch nicht von einer anderen Juwelenwespe infiziert wurde\n",
    "* 10% weibliche und 90% männliche Eier andernfalls"
   ]
  },
  {
   "cell_type": "markdown",
   "id": "7c64af1c",
   "metadata": {
    "slideshow": {
     "slide_type": "fragment"
    }
   },
   "source": [
    "Folgendes Experiment wird modelliert:\n",
    "      \n",
    "Eine Puppe wurde von zwei Juwelenwespen gestochen.  Beide Wespen haben dieselbe Anzahl Eier gelegt.\n",
    "\n",
    "* $A$: Ei ist weiblich \n",
    "* $A^c$: Ei ist männlich \n",
    "* $B$ : Ei ist von erster Wespe \n",
    "* $B^c$ : Ei ist von zweiter Wespe "
   ]
  },
  {
   "cell_type": "markdown",
   "id": "75c8ef46",
   "metadata": {
    "slideshow": {
     "slide_type": "slide"
    }
   },
   "source": [
    "### Wahrscheinlichkeitsbaum Juwelenwespe\n",
    "     \n",
    "Der Wahrscheinlichkeitsbaum für eine zweimal gestochene Puppe. Beide Wespen haben dieselbe Anzahl Eier gelegt.\n",
    "\n",
    "<img src=\"bilder/wespe1.svg\" alt=\"Wahrscheinlichkeitsbaum\" width=\"75%\"/>"
   ]
  },
  {
   "cell_type": "markdown",
   "id": "9bf538b7",
   "metadata": {
    "slideshow": {
     "slide_type": "slide"
    }
   },
   "source": [
    "### Wahrscheinlichkeitsbaum Juwelenwespe\n",
    "     \n",
    "Totale Wahrscheinlichkeiten für die zweimal gestochene Puppe\n",
    "\n",
    "<img src=\"bilder/wespe2.svg\" alt=\"Wahrscheinlichkeitsbaum\" width=\"75%\"/>"
   ]
  },
  {
   "cell_type": "markdown",
   "id": "11f3144c",
   "metadata": {
    "slideshow": {
     "slide_type": "slide"
    }
   },
   "source": [
    "Eine Puppe wurde zweimal gestochen.  Beide Wespen haben dieselbe Anzahl Eier gelegt.  Mit welcher Wahrscheinlichkeit stammt ein zufällig ausgewähltes, männliches Ei von der zweiten Wespe?\n",
    "\n",
    "* $A$: Ei ist weiblich \n",
    "* $A^c$: Ei ist männlich \n",
    "* $B$ : Ei ist von erster Wespe \n",
    "* $B^c$ : Ei ist von zweiter Wespe \n",
    "      \n",
    "Gesucht $P(B^c|A^c)$"
   ]
  },
  {
   "cell_type": "markdown",
   "id": "aa626e0b",
   "metadata": {
    "slideshow": {
     "slide_type": "fragment"
    }
   },
   "source": [
    "Bekannt:\n",
    "$$    P(A^c) = 0.475, \\qquad P(B^c) = 0.5, \\qquad P(A^c|B^c) = 0.90  $$\n",
    "\n",
    "$$    P(B^c|A^c) = \\frac{P(A^c|B^c)P(B^c)}{P(A^c)}\n",
    "        = \\frac{0.90 \\cdot 0.5}{0.475}\n",
    "        = 0.947  $$\n",
    "\n",
    "Die Wahrscheinlichkeit, dass ein zufällig ausgewähltes männliches Ei von der zweiten Wespe stammt, beträgt 94.7%"
   ]
  },
  {
   "cell_type": "markdown",
   "id": "f637774f",
   "metadata": {
    "slideshow": {
     "slide_type": "slide"
    }
   },
   "source": [
    "### Juwelenwespe: Genetische Vielfalt\n",
    "\n",
    "* Ein männliches Ei stammt mit Wahrscheinlichkeit 0.053 von der ersten und mit Wahrscheinlichkeit 0.947 von der zweiten Wespe\n",
    "* Ein weibliches Ei stammt mit Wahrscheinlichkeit 0.905 von der ersten und mit Wahrscheinlichkeit 0.095 von der zweiten Wespe\n",
    "* Treffen ein männliches und ein weibliches Ei aufeinander, so beträgt die Wahrscheinlichkeit, dass sie von derselben Wespe abstammen\n",
    "$$       0.053 \\cdot 0.905 + 0.947 \\cdot 0.095 = 0.138  $$"
   ]
  },
  {
   "cell_type": "markdown",
   "id": "40d9c73e",
   "metadata": {
    "slideshow": {
     "slide_type": "slide"
    }
   },
   "source": [
    "# Hardy-Weinberg Gleichgewicht\n",
    "\n",
    "* Ein Gen komme in zwei Ausprägungen vor, genannt $A$ und $a$.  Dann hat jedes Individuum einen der folgenden\n",
    "Genotypen:  $AA$, $Aa$ oder $aa$.  \n",
    "* Wenn die Population in Hinblick auf dieses Gen im Gleichgewicht ist, dann haben diese drei Genotypen\n",
    "bestimmte Wahrscheinlichkeiten $ u $, $ 2v $ und $w$ \n",
    "* Wenn $A$ das dominante Allel ist, dann kann man die Zahl $w$ beobachten, die Zahlen $ u $ und $v$ aber nicht."
   ]
  },
  {
   "cell_type": "markdown",
   "id": "4e2400a1",
   "metadata": {
    "slideshow": {
     "slide_type": "slide"
    }
   },
   "source": [
    "### Modell\n",
    "\n",
    "\n",
    "* $V_{AA}$: \"Vater mit Genotpy $AA$\" \n",
    "* $V_{Aa}$: \"Vater mit Genotyp $Aa$\"\n",
    "* $V_{aa}$: \"Vater mit Genotyp $aa$\"\n",
    "* $M_{AA}$: \"Mutter mit Genotyp $AA$\"\n",
    "* $K_{AA}$: \"Kind mit Genotyp $AA$\"\n",
    "* $M_{Aa}$, $M_{aa}$, $K_{Aa}$ und $K_{aa}$ sollten dann klar sein"
   ]
  },
  {
   "cell_type": "markdown",
   "id": "e60303a0",
   "metadata": {
    "slideshow": {
     "slide_type": "fragment"
    }
   },
   "source": [
    "* Gegeben $P(V_{AA}) = P(M_{AA}) = u$, $P(V_{Aa}) = P(M_{Aa}) = 2v$ und $P(V_{aa}) = P(M_{aa}) = w$.  \n",
    "* Dieselben Größen für die Kindgeneration.  \n",
    "* Bestimmen wir die bedingten Wahrscheinlichkeiten $P(K_{AA} \\mid V_{XY} \\cap M_{ZW})$ etc. nach den Mendelschen Regeln"
   ]
  },
  {
   "cell_type": "markdown",
   "id": "4f1f8036",
   "metadata": {
    "slideshow": {
     "slide_type": "slide"
    }
   },
   "source": [
    "* $P(K_{AA} \\mid V_{XY} \\cap M_{ZW})$\n",
    "$$    \\begin{array}{c|ccc}\n",
    "      \\text{Mutter} \\Bigm\\backslash \\text{Vater} & AA & Aa & aa \\\\\\hline\n",
    "      AA & 1 & 1/2 & 0 \\\\\n",
    "      Aa & 1/2 & 1/4 & 0 \\\\\n",
    "      aa & 0 & 0 & 0 \n",
    "    \\end{array}  $$\n",
    "   "
   ]
  },
  {
   "cell_type": "markdown",
   "id": "c39a2cfc",
   "metadata": {},
   "source": [
    "Mit der Formel für die totale Wahrscheinlichkeit\n",
    "\\begin{align*}\n",
    " P(K_{AA}) &= P(K_{AA}|M_{AA} \\cap V_{AA}) \\cdot P(M_{AA} \\cap V_{AA}) +  P(K_{AA}|M_{AA} \\cap V_{Aa}) \\cdot P(M_{AA} \\cap V_{Aa}) \\\\\n",
    " &+ P(K_{AA}|M_{Aa} \\cap V_{AA}) \\cdot P(M_{Aa} \\cap V_{AA}) + P(K_{AA}|M_{Aa} \\cap V_{Aa}) \\cdot P(M_{Aa} \\cap V_{Aa})  \\\\\n",
    "&= 1 \\cdot u \\cdot u + \\frac12 \\cdot u \\cdot 2v + \\frac12 \\cdot 2v \\cdot u + \\frac14 \\cdot 2v \\cdot 2v \\\\\n",
    "&= (u+v)^2\n",
    "\\end{align*}"
   ]
  },
  {
   "cell_type": "markdown",
   "id": "3a1a6372",
   "metadata": {
    "slideshow": {
     "slide_type": "slide"
    }
   },
   "source": [
    "Genauso:\n",
    "\\begin{align*}\n",
    "  P(K_{Aa}) &= 2v + 2 u \\cdot w - 2 v^2 \\\\\n",
    "  P(K_{aa}) &= (v+w)^2\n",
    "\\end{align*}"
   ]
  },
  {
   "cell_type": "markdown",
   "id": "dea23022",
   "metadata": {
    "slideshow": {
     "slide_type": "slide"
    }
   },
   "source": [
    "Die Population ist im Gleichgewicht, wenn $P(K_{AA}) = P(V_{AA}) = P(M_{AA})$ usw., d. h. wenn die Hardy-Weinberg Gleichungen gelten:\n",
    "\\begin{align*}\n",
    "  (u+v)^2 &= u\\\\\n",
    "  2v + 2(u \\cdot w - v^2) &= 2v\\\\\n",
    "  (w+v)^2 &= w\n",
    "\\end{align*}"
   ]
  },
  {
   "cell_type": "markdown",
   "id": "e63dba9c",
   "metadata": {
    "slideshow": {
     "slide_type": "fragment"
    }
   },
   "source": [
    "Dies ist genau dann der Fall ist, wenn\n",
    "\\begin{equation*}\n",
    "  v^2 = u \\cdot w\n",
    "\\end{equation*}"
   ]
  },
  {
   "cell_type": "markdown",
   "id": "c331c02c",
   "metadata": {
    "slideshow": {
     "slide_type": "slide"
    }
   },
   "source": [
    "## Seltene Erberkrankungen \n",
    "\n",
    "Die Friedreich-Ataxie ist eine autosomal rezessiv vererbte Krankheit, von der ungefähr\n",
    "1 Mensch unter 40000 betroffen ist.  Wir wollen $u$, $v$ und $w$ bestimmen.  \n",
    "\n",
    "* Da die Krankheit rezessiv vererbt wird, ist $w = 1/40000$.  \n",
    "* Man macht keinen großen Fehler, wenn man $u = 1$ setzt.  Dann folgt aus den Hardy-Weinberg Gleichungen\n",
    "$$ v^2 = u \\cdot w \\cong w = \\frac1{40000}  $$\n",
    "also\n",
    "$$ v = \\frac1{200} $$\n",
    "\n",
    "Also ist jeder hunderste ein Genträger dieser seltenen Erkrankung.  "
   ]
  },
  {
   "cell_type": "markdown",
   "id": "cb49fbf3",
   "metadata": {
    "slideshow": {
     "slide_type": "slide"
    }
   },
   "source": [
    "\\begin{align*}\n",
    "u &= 1 \\\\\n",
    "v &= \\frac1{200} \\\\\n",
    "w &= \\frac1{40000}\n",
    "\\end{align*}"
   ]
  },
  {
   "cell_type": "markdown",
   "id": "ace57f4e",
   "metadata": {
    "slideshow": {
     "slide_type": "slide"
    }
   },
   "source": [
    "Die SCA (spinozerebelläre Ataxie) ist eine Ataxie, die autosomal dominant vererbt wird.  Sie ist ungefähr genauso häufig wie die Friedreich-Ataxie.  \n",
    "\n",
    "* In diesem Fall sind die Leute mit Genkombination $ aa $ die einzig gesunden, also $ w = 1 - 1/40000 $.  \n",
    "* Dann ergeben die Hardy-Weinberg Gleichungen näherungsweise die Identität\n",
    "$$  v^2 = u $$\n",
    "* $v$ ist winzig, dann ist $u$ also noch winziger.  Wir vernachlässigen daher $u$ in der Formel $u + 2v + w = 1$ und erhalten\n",
    "$$   2v = 1 - u - w \\cong 1 -  w = \\frac1{40000} $$"
   ]
  },
  {
   "cell_type": "markdown",
   "id": "ce05e9ce",
   "metadata": {
    "slideshow": {
     "slide_type": "fragment"
    }
   },
   "source": [
    "\\begin{align*}\n",
    "u &= 1.56 \\cdot 10^{-10} \\\\\n",
    "v &= \\frac1{80000} \\\\\n",
    "w &= 1 - \\frac1{40000}\n",
    "\\end{align*}"
   ]
  }
 ],
 "metadata": {
  "celltoolbar": "Slideshow",
  "kernelspec": {
   "display_name": "Python 3 (ipykernel)",
   "language": "python",
   "name": "python3"
  },
  "language_info": {
   "codemirror_mode": {
    "name": "ipython",
    "version": 3
   },
   "file_extension": ".py",
   "mimetype": "text/x-python",
   "name": "python",
   "nbconvert_exporter": "python",
   "pygments_lexer": "ipython3",
   "version": "3.11.10"
  }
 },
 "nbformat": 4,
 "nbformat_minor": 5
}
