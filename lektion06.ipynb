{
 "cells": [
  {
   "cell_type": "markdown",
   "id": "e01baa24",
   "metadata": {
    "slideshow": {
     "slide_type": "slide"
    }
   },
   "source": [
    "# Mathematik für Biologiestudierende\n",
    "\n",
    "Wintersemester 2024/25\n",
    "\n",
    "13. November 2024\n",
    "\n",
    "&copy; 2024 Prof. Dr. Rüdiger W. Braun "
   ]
  },
  {
   "cell_type": "markdown",
   "id": "11a97eca",
   "metadata": {
    "slideshow": {
     "slide_type": "slide"
    }
   },
   "source": [
    "## Binomialverteilung\n",
    "\n",
    "* $B_{n,p}(k)$ ist die Wahrscheinlichkeit von genau $k$ Erfolgen, wenn ein ja/nein-Experiment mit     Erfolgswahrscheinlichkeit $p$ genau $n$-mal unabhängig wiederholt wird\n",
    "$$\n",
    "      B_{n,p}(k) =\n",
    "      \\begin{pmatrix}\n",
    "        n \\\\ k\n",
    "      \\end{pmatrix}\n",
    "      \\cdot p^k \\cdot (1-p)^{n-k} $$\n",
    "* $B_{n,p}$ bezeichnet man als *Binomialverteilung*"
   ]
  },
  {
   "cell_type": "markdown",
   "id": "1a90bba4",
   "metadata": {
    "slideshow": {
     "slide_type": "slide"
    }
   },
   "source": [
    "# Beispiel Parasiten"
   ]
  },
  {
   "cell_type": "markdown",
   "id": "12372bce",
   "metadata": {},
   "source": [
    "Bestimmte Fische erkranken mit 15% Wahrscheinlichkeit an einem Parasiten.\n",
    "\n",
    "Wir beobachten 47 Fische.  Mit welcher Wahrscheinlichkeit erkranken genau 5 Fische?"
   ]
  },
  {
   "cell_type": "markdown",
   "id": "2f9c59de",
   "metadata": {
    "slideshow": {
     "slide_type": "fragment"
    }
   },
   "source": [
    "\\begin{align*}\n",
    "    B_{47, 0.15}(5)\n",
    "    &= \\begin{pmatrix}  47 \\\\ 5 \\end{pmatrix} \\cdot 0.15^5 \\cdot 0.85^{42} \\\\\n",
    "    &= 1533939 \\cdot 0.0000759375 \\cdot 0.0018541 \\\\\n",
    "    &= 0.126433\n",
    "\\end{align*}"
   ]
  },
  {
   "cell_type": "code",
   "execution_count": 1,
   "id": "e07d2dc4",
   "metadata": {
    "slideshow": {
     "slide_type": "slide"
    }
   },
   "outputs": [],
   "source": [
    "import numpy as np\n",
    "np.set_printoptions(legacy=\"1.21\")\n",
    "from scipy import stats"
   ]
  },
  {
   "cell_type": "code",
   "execution_count": 2,
   "id": "a3c18dcb",
   "metadata": {},
   "outputs": [],
   "source": [
    "P = stats.binom(47, 0.15)"
   ]
  },
  {
   "cell_type": "code",
   "execution_count": 3,
   "id": "cecba20e",
   "metadata": {},
   "outputs": [
    {
     "data": {
      "text/plain": [
       "0.12643265696974557"
      ]
     },
     "execution_count": 3,
     "metadata": {},
     "output_type": "execute_result"
    }
   ],
   "source": [
    "P.pmf(5)"
   ]
  },
  {
   "cell_type": "markdown",
   "id": "f71b8650",
   "metadata": {
    "slideshow": {
     "slide_type": "slide"
    }
   },
   "source": [
    "# Kumulierte Verteilung"
   ]
  },
  {
   "cell_type": "markdown",
   "id": "140c4a3d",
   "metadata": {},
   "source": [
    "Die interessantere Frage ist:  Mit welcher Wahrscheinlichkeit erkranken höchstens 5 Fische?"
   ]
  },
  {
   "cell_type": "markdown",
   "id": "0334cf37",
   "metadata": {},
   "source": [
    "| $$k$$    | $$B_{47, 0.15}(k)$$ |\n",
    "|----------|---------------------|\n",
    "| 0        | 0.00048             |\n",
    "| 1        | 0.00399             |\n",
    "| 2        | 0.01621             |\n",
    "| 3        | 0.04292             |\n",
    "| 4        | 0.08331             |\n",
    "| 5        | 0.12643             |\n",
    "| $$\\sum$$ | 0.27335             |"
   ]
  },
  {
   "cell_type": "markdown",
   "id": "63e34deb",
   "metadata": {
    "slideshow": {
     "slide_type": "slide"
    }
   },
   "source": [
    "* Das ist umständlich.\n",
    "* Mit `P.cdf` erhält man die kumulierten Werte der Binomialverteilung\n",
    "\n",
    "\"cdf\": cumulative distribution function (deutsch: Verteilungsfunktion)"
   ]
  },
  {
   "cell_type": "code",
   "execution_count": 4,
   "id": "bc70e44b",
   "metadata": {},
   "outputs": [],
   "source": [
    "P = stats.binom(47, 0.15)"
   ]
  },
  {
   "cell_type": "code",
   "execution_count": 5,
   "id": "f2a53af8",
   "metadata": {},
   "outputs": [
    {
     "data": {
      "text/plain": [
       "0.273346361465445"
      ]
     },
     "execution_count": 5,
     "metadata": {},
     "output_type": "execute_result"
    }
   ],
   "source": [
    "P.cdf(5)"
   ]
  },
  {
   "cell_type": "markdown",
   "id": "ef2c36d2",
   "metadata": {
    "slideshow": {
     "slide_type": "slide"
    }
   },
   "source": [
    "<img src=\"bilder/bar47.svg\" alt=\"Graph der Binomialverteilung B(47, 0.15)\" width=\"75%\"/>\n",
    "\n",
    "Wir haben die orange Fläche im Bild ausgerechnet."
   ]
  },
  {
   "cell_type": "markdown",
   "id": "4ccfa3fa",
   "metadata": {
    "slideshow": {
     "slide_type": "slide"
    }
   },
   "source": [
    "Mit welcher Wahrscheinlichkeit erkranken mindesten 6 Fische?\n",
    "\n",
    "* \"Mindestens 6\" ist das Gegenteil von \"höchstens 5\"\n",
    "* Antwort: $1-0.27335 = 0.72665$"
   ]
  },
  {
   "cell_type": "markdown",
   "id": "b584ec20",
   "metadata": {
    "slideshow": {
     "slide_type": "slide"
    }
   },
   "source": [
    "## Fische in saubererem Wasser\n",
    "\n",
    "* Es gelingt, die Erkrankungsraten der Fische um 5 Prozentpunkte auf 10% zu senken \n",
    "* Wie hoch ist nun die Wahrscheinlichkeit, dass höchstens 5 Fische erkranken?"
   ]
  },
  {
   "cell_type": "markdown",
   "id": "258ef364",
   "metadata": {
    "slideshow": {
     "slide_type": "fragment"
    }
   },
   "source": [
    "* Jedenfalls größer als vorher:\n",
    "    * saubereres Wasser:  weniger Fische erkranken\n",
    "    * also steigt die Wahrscheinlichkeit, dass nur eine kleine Anzahl von Fischen erkrankt"
   ]
  },
  {
   "cell_type": "code",
   "execution_count": 6,
   "id": "e73c5fb0",
   "metadata": {
    "slideshow": {
     "slide_type": "fragment"
    }
   },
   "outputs": [
    {
     "data": {
      "text/plain": [
       "0.6714311028538673"
      ]
     },
     "execution_count": 6,
     "metadata": {},
     "output_type": "execute_result"
    }
   ],
   "source": [
    "P = stats.binom(47, 0.10)\n",
    "P.cdf(5)"
   ]
  },
  {
   "cell_type": "markdown",
   "id": "1da7add3",
   "metadata": {
    "slideshow": {
     "slide_type": "slide"
    }
   },
   "source": [
    "<img src=\"bilder/bar47_b.svg\" alt=\"Graph der Binomialverteilung B(47, 0.10)\" width=\"75%\"/>"
   ]
  },
  {
   "cell_type": "markdown",
   "id": "7b9976ac",
   "metadata": {
    "slideshow": {
     "slide_type": "slide"
    }
   },
   "source": [
    "# Beispiel zur Binomialverteilung: $L$-Bakterien\n",
    "\n",
    "* Chiralität:  Manche Moleküle kommen bei gleicher chemischer Zusammensetzung in zwei verschiedenen geometrischen Formen vor.  Man bezeichnet dann eine von beiden als \"rechtsdrehend\", die andere als \"linksdrehend\"\n",
    "* Von einem bestimmten Bodenbakterium gibt es zwei Varianten, je nachdem ob ein bestimmtes Molekül in der linksdrehenden oder der rechtsdrehenden Version bevorzugt aufgenommen wird.  Wir nennen die beiden Varianten $L$-Bakterium und $R$-Bakterium.  "
   ]
  },
  {
   "cell_type": "markdown",
   "id": "6aa61ca0",
   "metadata": {
    "slideshow": {
     "slide_type": "slide"
    }
   },
   "source": [
    "* In ungestörtem Boden befinden sich 75% $L$-Bakterien und 25% $R$-Bakterien.  "
   ]
  },
  {
   "cell_type": "markdown",
   "id": "8635c928",
   "metadata": {
    "slideshow": {
     "slide_type": "fragment"
    }
   },
   "source": [
    "* Die Bakterien werden einem Pestizid ausgesetzt.  Nach einigen Generationen werden die Nachkommen getestet, ob sie rechts- oder linksdrehende Varianten aufnehmen\n",
    "* 13 der 27 Nachkommen sind $R$-Bakterien.  Ist dieses Ergebnis so ungewöhnlich, dass man einen Einfluss des Pestizids vermuten muss?"
   ]
  },
  {
   "cell_type": "markdown",
   "id": "e7b3eb72",
   "metadata": {
    "slideshow": {
     "slide_type": "slide"
    }
   },
   "source": [
    "## $L$-Bakterien: Fortsetzung \n",
    "\n",
    "* Mit Wahrscheinlichkeit\n",
    "    \\begin{equation*}\n",
    "      B_{27,\\,0.75}(14) =\n",
    "      \\begin{pmatrix}\n",
    "        27 \\\\\n",
    "        14\n",
    "      \\end{pmatrix}\n",
    "      \\cdot 0.75^{14} \\cdot 0.25^{13}\n",
    "      = 0.005326\n",
    "    \\end{equation*}\n",
    "    sind 14 von 27 Bakterien $L$-Bakterien\n",
    "* Das ist aber nicht die richtige Frage."
   ]
  },
  {
   "cell_type": "markdown",
   "id": "3f84c782",
   "metadata": {
    "slideshow": {
     "slide_type": "slide"
    }
   },
   "source": [
    "## $L$-Bakterien: Fortsetzung\n",
    "\n",
    "* Wenn weniger als 14 der Bakterien $L$-Bakterien gewesen wären, hätten wir das noch ungewöhnlicher gefunden\n",
    "* Wir suchen also die Wahrscheinlichkeit, dass von 27 Bakterien **höchstens** 14 $L$-Bakterien sind,\n",
    "* d. h. wir suchen\n",
    "    \\begin{equation*}\n",
    "      \\sum_{k=0}^{14} B_{27,\\,0.75}(k)\n",
    "    \\end{equation*}\n",
    "* Wir suchen also einen kumulierten Wert der Binomialverteilung"
   ]
  },
  {
   "cell_type": "code",
   "execution_count": 7,
   "id": "08df22c9",
   "metadata": {
    "slideshow": {
     "slide_type": "fragment"
    }
   },
   "outputs": [
    {
     "data": {
      "text/plain": [
       "0.0077756082665356736"
      ]
     },
     "execution_count": 7,
     "metadata": {},
     "output_type": "execute_result"
    }
   ],
   "source": [
    "P = stats.binom(27, 0.75)\n",
    "P.cdf(14)"
   ]
  },
  {
   "cell_type": "markdown",
   "id": "f41ec54a",
   "metadata": {
    "slideshow": {
     "slide_type": "slide"
    }
   },
   "source": [
    "# Versuchsplanung\n",
    "\n",
    "## Extinktionsexperiment\n",
    "\n",
    "* Ein Extinktionsexperiment wird geplant, bei dem die Versuchstiere eine einmal erlernte Aufgabe wieder verlernen   sollen.  Dazu sollen zuerst mindestens 50 Tiere diese Handlung erlernen.  Aus früheren Versuchen weiß man, dass dies nur bei 80% der Versuchstiere gelingt. "
   ]
  },
  {
   "cell_type": "markdown",
   "id": "c9697ad4",
   "metadata": {
    "slideshow": {
     "slide_type": "fragment"
    }
   },
   "source": [
    "* Wenn man also zu Beginn der Verlernphase 50 Tiere haben will, welche die Aufgabe gelernt haben, dann muss man deutlich mehr als diese 50 Tiere trainieren.\n",
    "* Wie viele?"
   ]
  },
  {
   "cell_type": "markdown",
   "id": "507cfb77",
   "metadata": {
    "slideshow": {
     "slide_type": "slide"
    }
   },
   "source": [
    "Gegenfrage\n",
    "\n",
    "* Welche Sicherheit will ich haben, dass genügend Tiere die Aufgabe erlernt haben werden?\n"
   ]
  },
  {
   "cell_type": "markdown",
   "id": "8e5b26f7",
   "metadata": {
    "slideshow": {
     "slide_type": "fragment"
    }
   },
   "source": [
    "* Sagen wir:  90%"
   ]
  },
  {
   "cell_type": "markdown",
   "id": "7b8d6fc4",
   "metadata": {
    "slideshow": {
     "slide_type": "fragment"
    }
   },
   "source": [
    "* Nun muss man zweistufig vorgehen:  Für jedes feste $n$ schaut man nach, wie hoch die Wahrscheinlichkeit ist, dass 50 oder mehr Tiere die Aufgabe erlernt haben werden.  \n",
    "* `P.cdf(k)` berechnet die Wahrscheinlichkeit, dass k oder weniger Tiere die Aufgabe erlernen\n",
    "* Wir suchen also das kleinste n, so dass die Wahrscheinlichkeit, dass 49 oder weniger Tiere die Aufgabe erlernen, kleiner als 10% ist"
   ]
  },
  {
   "cell_type": "code",
   "execution_count": 8,
   "id": "ef9e6585",
   "metadata": {
    "slideshow": {
     "slide_type": "slide"
    }
   },
   "outputs": [
    {
     "data": {
      "text/plain": [
       "0.030308084751943774"
      ]
     },
     "execution_count": 8,
     "metadata": {},
     "output_type": "execute_result"
    }
   ],
   "source": [
    "P = stats.binom(70, 0.80)\n",
    "P.cdf(49)  # muss kleiner als 0.10 sein"
   ]
  },
  {
   "cell_type": "code",
   "execution_count": 9,
   "id": "4134e517",
   "metadata": {},
   "outputs": [
    {
     "data": {
      "text/plain": [
       "0.21541354210671845"
      ]
     },
     "execution_count": 9,
     "metadata": {},
     "output_type": "execute_result"
    }
   ],
   "source": [
    "P = stats.binom(65, 0.80)\n",
    "P.cdf(49)   "
   ]
  },
  {
   "cell_type": "code",
   "execution_count": 10,
   "id": "91a3b65d",
   "metadata": {},
   "outputs": [
    {
     "data": {
      "text/plain": [
       "0.07269329945304003"
      ]
     },
     "execution_count": 10,
     "metadata": {},
     "output_type": "execute_result"
    }
   ],
   "source": [
    "P = stats.binom(68, 0.80)\n",
    "P.cdf(49)   # muss kleiner 0.1  sein"
   ]
  },
  {
   "cell_type": "code",
   "execution_count": 11,
   "id": "7389a38d",
   "metadata": {},
   "outputs": [
    {
     "data": {
      "text/plain": [
       "0.10773154689999606"
      ]
     },
     "execution_count": 11,
     "metadata": {},
     "output_type": "execute_result"
    }
   ],
   "source": [
    "P = stats.binom(67, 0.80)\n",
    "P.cdf(49)   # muss kleiner 0.1  sein"
   ]
  },
  {
   "cell_type": "markdown",
   "id": "397d1bdd",
   "metadata": {
    "slideshow": {
     "slide_type": "fragment"
    }
   },
   "source": [
    "Wir brauchen 68 Tiere"
   ]
  },
  {
   "cell_type": "markdown",
   "id": "c64c1aa7",
   "metadata": {
    "slideshow": {
     "slide_type": "slide"
    }
   },
   "source": [
    "Geht auch grafisch mit `seaborn`"
   ]
  },
  {
   "cell_type": "code",
   "execution_count": 12,
   "id": "e9dd762a",
   "metadata": {},
   "outputs": [],
   "source": [
    "import seaborn as sns\n",
    "sns.set_theme()"
   ]
  },
  {
   "cell_type": "code",
   "execution_count": 15,
   "id": "3032c513",
   "metadata": {},
   "outputs": [],
   "source": [
    "n = np.arange(50, 80)\n",
    "P = stats.binom(n, 0.80)\n",
    "B = P.cdf(49)"
   ]
  },
  {
   "cell_type": "code",
   "execution_count": 17,
   "id": "4f4a49c6",
   "metadata": {
    "slideshow": {
     "slide_type": "slide"
    }
   },
   "outputs": [
    {
     "data": {
      "image/png": "[encoded data removed]",
      "text/plain": [
       "<Figure size 640x480 with 1 Axes>"
      ]
     },
     "metadata": {},
     "output_type": "display_data"
    }
   ],
   "source": [
    "ax = sns.scatterplot(x=n, y=B)"
   ]
  },
  {
   "cell_type": "markdown",
   "id": "8e7ef2a5",
   "metadata": {
    "slideshow": {
     "slide_type": "slide"
    }
   },
   "source": [
    "# Erwartungswert und Varianz\n",
    "\n",
    "# Erwartungswert\n",
    "\n",
    "* Der Erwartungswert ist derjenige Wert, den man im Mittel beobachten würde, wenn man das Experiment sehr oft wiederholt.\n",
    "\n",
    "* Bei einer Lotterie ist der Erwartungswert der Betrag, bei dem die Lotterie fair wäre, bei dem also weder der Spieler noch der Betreiber langfristig Geld verlieren würde.\n",
    "\n",
    "\n"
   ]
  },
  {
   "cell_type": "markdown",
   "id": "22848195",
   "metadata": {
    "slideshow": {
     "slide_type": "slide"
    }
   },
   "source": [
    "## Spiel 77\n",
    "\n",
    "| Klasse | Ziffern | Gewinn $$ k $$ | $$P(X=k)$$ | $$ k \\cdot P(X=k) $$ |\n",
    "|--------|---------|---------------:|------------|----------------------|\n",
    "|      I | 7       | 177777.00€     |   0.0000001| 0.018€               |\n",
    "|     II | 6       |  77777.00€     |   0.0000010| 0.078€               |\n",
    "|    III | 5       |   7777.00€     |   0.0000100| 0.078€               |\n",
    "|     IV | 4       |    777.00€     |   0.0001000| 0.078€               |\n",
    "|      V | 3       |     77.00€     |   0.0010000| 0.077€               |\n",
    "|     VI | 2       |     17.00€     |   0.0100000| 0.170€               |\n",
    "|    VII | 1       |      5.00€     |   0.1000000| 0.500€               |\n",
    "| $\\sum$ |         |                |            | 0.998€               |\n"
   ]
  },
  {
   "cell_type": "markdown",
   "id": "7934c417",
   "metadata": {
    "slideshow": {
     "slide_type": "fragment"
    }
   },
   "source": [
    "\\begin{equation*}\n",
    "    E(X) = 0.998\\text{€}\n",
    "\\end{equation*}"
   ]
  },
  {
   "cell_type": "markdown",
   "id": "81663fb9",
   "metadata": {
    "slideshow": {
     "slide_type": "slide"
    }
   },
   "source": [
    "## Erwartungswert\n",
    "\n",
    "* $ X $ eine diskrete Zufallsvariable\n",
    "* Der *Erwartungswert* von $X$ ist\n",
    "    \\begin{equation*}\n",
    "      E(X) = \\sum_k P(X=k) \\cdot k\n",
    "    \\end{equation*}\n",
    "* Die Summe läuft über alle Werte $k$ von $X$"
   ]
  },
  {
   "cell_type": "markdown",
   "id": "867ded7c",
   "metadata": {
    "slideshow": {
     "slide_type": "slide"
    }
   },
   "source": [
    "## Beispiel: Würfel\n",
    "\n",
    "Sei $ X $ die Augenzahl eines fairen Würfels.\n",
    "  \\begin{align*}\n",
    "    E(X) &= \\frac 16 \\cdot 1 + \\frac 16 \\cdot 2 + \\frac 16 \\cdot 3 +\n",
    "    \\frac 16 \\cdot 4 + \\frac 16 \\cdot 5 + \\frac 16 \\cdot 6 \\\\\n",
    "    &= \\frac{21}6 = \\frac72 = 3.5\n",
    "  \\end{align*}\n",
    "\n",
    "Im Mittel zeigt ein fairer Würfel $ 3.5 $ Augen"
   ]
  },
  {
   "cell_type": "markdown",
   "id": "a163791d",
   "metadata": {
    "slideshow": {
     "slide_type": "slide"
    }
   },
   "source": [
    "## Variante des Spiels 77\n",
    "\n",
    "* Der Einsatz beträgt 2.50€.  Bei welchem Hauptgewinn wäre das Spiel fair?\n",
    "* Hauptgewinn sei $J$.  Dann\n",
    "    \\begin{align*}\n",
    "      E(X) &= 0.000\\,000\\,1 \\cdot J + 0.000\\,001 \\cdot 77\\,777 \\\\\n",
    "      &\\qquad {} + 0.000\\,01 \\cdot 7\\,777 + 0.000\\,1 \\cdot 777 \\\\\n",
    "      &\\qquad {} + 0.001 \\cdot 77 + 0.01 \\cdot 17 + 0.1 \\cdot 5 \\\\\n",
    "      &= 0.000\\,000\\,1 \\cdot J + 0.980\n",
    "    \\end{align*}\n",
    "    "
   ]
  },
  {
   "cell_type": "markdown",
   "id": "b208e79f",
   "metadata": {
    "slideshow": {
     "slide_type": "fragment"
    }
   },
   "source": [
    "* Das soll gleich 2.50 sein.  Also $ 0.000\\,000\\,1 \\cdot J = 1.52 $\n",
    "    \\begin{equation*}\n",
    "      J = \\frac{1.52}{0.000\\,000\\,1} =  15\\,200\\,000\n",
    "    \\end{equation*}\n",
    "* Spiel 77 ist fair bei einem Hauptgewinn von 15.2 Millionen €"
   ]
  },
  {
   "cell_type": "markdown",
   "id": "f984cc4c",
   "metadata": {
    "slideshow": {
     "slide_type": "slide"
    }
   },
   "source": [
    "## Varianz und Streuung\n",
    "\n",
    "Die *Varianz* einer Zufallsvariablen $X$ ist definiert als\n",
    "\\begin{equation*}\n",
    "\\text{Var}(X) = \\sum_{k=0}^\\infty (k-\\mu)^2 \\cdot P(X=k)\n",
    "\\end{equation*}\n",
    "wobei $ \\mu = E(X) $.\n",
    "\n",
    "Die *Standardabweichung* oder *Streuung*\n",
    "von $X$ ist definiert als die Wurzel aus der Varianz\n",
    "\\begin{equation*}\n",
    "\\sigma = \\sqrt{\\text{Var}(X)}\n",
    "\\end{equation*}"
   ]
  },
  {
   "cell_type": "markdown",
   "id": "afe44bb6",
   "metadata": {
    "slideshow": {
     "slide_type": "slide"
    }
   },
   "source": [
    "## Gleicher Erwartungswert, unterschiedliche Streuung\n",
    "\n",
    "<img src=\"bilder/poissonBar16.svg\" alt=\"zwei Verteilung mit Erwartungswert 16\" width=\"65%\"/>\n",
    "\n",
    "* Links:  Verteilung $X_1$ mit $E(X_1) = 16$ und $\\sigma = 4$\n",
    "* Rechts: Verteilung $X_2$ mit $E(X_2) = 16$ und $\\sigma = 1.26$"
   ]
  },
  {
   "cell_type": "markdown",
   "id": "0692ccf8",
   "metadata": {
    "slideshow": {
     "slide_type": "slide"
    }
   },
   "source": [
    "## Beispiel: Fairer Würfel\n",
    "\n",
    "* $X$ sei die Augenzahl eines fairen Würfels.  Der Erwartungswert von $X$ ist $\\frac 72 = 3.5$\n",
    "* Varianz der Augenzahlen beim fairen Würfel\n",
    "        \\begin{align*}\n",
    "            \\text{Var}(X) \n",
    "            &= \\left(1 - \\frac72\\right)^2 \\cdot \\frac16 + \\left(2 -\n",
    "            \\frac72\\right)^2 \\cdot \\frac16 + \\left(3 - \\frac72\\right)^2\n",
    "            \\cdot \\frac16\\\\\n",
    "            &\\qquad{} + \\left(4 - \\frac72\\right)^2 \\cdot \\frac16 + \\left(5\n",
    "            - \\frac72\\right)^2 \\cdot \\frac16 + \\left(6 - \\frac72\\right)^2\n",
    "            \\cdot \\frac16 \\\\\n",
    "            &= \\frac{35}{12} \\\\\n",
    "            &= 2.91667\n",
    "        \\end{align*}"
   ]
  },
  {
   "cell_type": "markdown",
   "id": "2b6990d0",
   "metadata": {
    "slideshow": {
     "slide_type": "slide"
    }
   },
   "source": [
    "* Streuung\n",
    "        \\begin{equation*}\n",
    "            \\sigma = \\sqrt{\\frac{35}{12}}\n",
    "            = 1.7078\n",
    "        \\end{equation*}"
   ]
  },
  {
   "cell_type": "markdown",
   "id": "8fc8f3f3",
   "metadata": {
    "slideshow": {
     "slide_type": "slide"
    }
   },
   "source": [
    "## Modell vs. Datensatz\n",
    "\n",
    "|  Datensatz            | Modell         |\n",
    "|-----------------------|----------------|\n",
    "| arithmetisches Mittel | Erwartungswert |\n",
    "| empirische Varianz    | Varianz        |\n",
    "| Stichprobenstreuung   | Streuung       |\n"
   ]
  },
  {
   "cell_type": "markdown",
   "id": "f033fcf3",
   "metadata": {
    "slideshow": {
     "slide_type": "slide"
    }
   },
   "source": [
    "\n",
    "# Erwartungswert und Varianz der Binomialverteilung\n",
    "\n",
    "\n",
    "Die Zufallsvariable $X$ sei binomialverteilt gemäß $B_{n,p}$\n",
    "\n",
    "Dann\n",
    "\\begin{align*}\n",
    "E(X) &= n \\cdot p \\\\\n",
    "\\text{Var}(X) &= n \\cdot p \\cdot (1-p)\n",
    "\\end{align*}"
   ]
  },
  {
   "cell_type": "markdown",
   "id": "90ba8fda",
   "metadata": {
    "slideshow": {
     "slide_type": "slide"
    }
   },
   "source": [
    "### Beispiel zur Varianz der Binomialverteilung\n",
    "\n",
    "* Die Samen einer Pflanze haben eine Keimwahrscheinlichkeit von 75%\n",
    "* Es werden 100 Samen ausgebracht\n",
    "* Die Anzahl der Keimerfolge ist modelliert durch $B_{100,0.75}$"
   ]
  },
  {
   "cell_type": "markdown",
   "id": "81600c8b",
   "metadata": {
    "slideshow": {
     "slide_type": "fragment"
    }
   },
   "source": [
    "* Der Erwartungswert beträgt $100 \\cdot 0.75 = 75$\n",
    "* Man erwartet also 75 Keimerfolge"
   ]
  },
  {
   "cell_type": "markdown",
   "id": "f277c1f6",
   "metadata": {
    "slideshow": {
     "slide_type": "fragment"
    }
   },
   "source": [
    "* Die Varianz beträgt $100 \\cdot 0.75 \\cdot 0.25 = 18.75$\n",
    "* Die Streuung beträgt als $\\sqrt{18.75} = 4.330$"
   ]
  },
  {
   "cell_type": "markdown",
   "id": "73176dbf",
   "metadata": {
    "slideshow": {
     "slide_type": "fragment"
    }
   },
   "source": [
    "Interpretation\n",
    "\n",
    "* Wenn ich 71 Keimerfolge sehe, dann wundere ich mich nicht (Schwankung um eine Streuung)\n",
    "* Wenn ich nur 62 Keimerfolge sehe, dann wundere ich mich (Schwankung um drei Streuungen)"
   ]
  },
  {
   "cell_type": "markdown",
   "id": "745b9be5",
   "metadata": {
    "slideshow": {
     "slide_type": "slide"
    }
   },
   "source": [
    "###  Balkengraph der Anzahl der Keimerfolge\n",
    "\n",
    "<img src=\"bilder/samen.svg\" alt=\"Binomialverteilung B(100, 0.75)\" width=\"75%\"/>"
   ]
  },
  {
   "cell_type": "markdown",
   "id": "ac7f6595",
   "metadata": {
    "slideshow": {
     "slide_type": "slide"
    }
   },
   "source": [
    "## Rechenregeln\n",
    "\n",
    "### Rechenregeln für den Erwartungswert\n",
    "\n",
    "* Für jede Zahl $c$ und jede Zufallsvariable $X$ \n",
    "  ist $E(c \\cdot X) = c \\cdot E(X)$\n",
    "\n",
    "* Für Zufallsvariablen $X_1, \\dots, X_n$ gilt \n",
    "$$E(X_1 + \\dots + X_n) = E(X_1) + \\dots + E(X_n) $$\n",
    "\n",
    "   "
   ]
  },
  {
   "cell_type": "markdown",
   "id": "600bf6af",
   "metadata": {
    "slideshow": {
     "slide_type": "fragment"
    }
   },
   "source": [
    "### Rechenregeln für die Varianz\n",
    "\n",
    "* Für jede Zahl $a$ und jede Zufallsvariable $X$ gilt $\\text{Var}(a + X) = \\text{Var}(X)$\n",
    "* Für Zahl $c$ und jede Zufallsvariable $X$ gilt $ \\text{Var}(c\\cdot X) = c^2 \\cdot \\text{Var}(X)$\n",
    "* Für jede Zufallsvariable $X$ gilt $\\text{Var}(X) = E(X^2) - E(X)^2$"
   ]
  },
  {
   "cell_type": "markdown",
   "id": "32a8bf8f",
   "metadata": {
    "slideshow": {
     "slide_type": "slide"
    }
   },
   "source": [
    "# Unabhängigkeit von Zufallsvariablen\n",
    "\n",
    "Zwei diskrete Zufallsvariable $X$ und $Y$ sind *stochastisch unabhängig,* wenn für alle möglichen Werte $k$\n",
    "und $m$\n",
    "\\begin{equation*}\n",
    "P(X=k, Y=m) = P(X=k) \\cdot P(Y=m)\n",
    "\\end{equation*}\n",
    "\n",
    "Die Unabhängigkeit muss durch die Versuchsplanung gesichert werden"
   ]
  },
  {
   "cell_type": "markdown",
   "id": "29f74e6c",
   "metadata": {
    "slideshow": {
     "slide_type": "slide"
    }
   },
   "source": [
    "## Zusätzliche Rechenregeln für unabhängige Zufallsvariable\n",
    "\n",
    "*Produktformel für den Erwartungswert:* $X$ und $Y$ seien **unabhängige** Zufallsvariable.  Dann\n",
    "\\begin{equation*}\n",
    "E(X \\cdot Y) = E(X) \\cdot E(Y)\n",
    "\\end{equation*}"
   ]
  },
  {
   "cell_type": "markdown",
   "id": "0e46c9de",
   "metadata": {
    "slideshow": {
     "slide_type": "fragment"
    }
   },
   "source": [
    "*Summenformel* für die Varianz: $X$ und $Y$ seien **unabhängige** Zufallsvariable.  Dann \n",
    "\\begin{equation*}\n",
    "  \\text{Var}(X + Y) = \\text{Var}(X) + \\text{Var}(Y)\n",
    "\\end{equation*}"
   ]
  },
  {
   "cell_type": "markdown",
   "id": "db9dee37",
   "metadata": {
    "slideshow": {
     "slide_type": "slide"
    }
   },
   "source": [
    "# Das schwache Gesetz der großen Zahl\n",
    "\n",
    "## Messwiederholungen\n",
    "\n",
    "* Warum erhöhen mehrere Messungen die Genauigkeit?\n",
    "* Warum braucht man 100-mal so viele Messungen, um die Genauigkeit zu verzehnfachen?"
   ]
  },
  {
   "cell_type": "markdown",
   "id": "203e284c",
   "metadata": {
    "slideshow": {
     "slide_type": "slide"
    }
   },
   "source": [
    "### Rechenregeln für den Erwartungswert\n",
    "\n",
    "* Für jede Zahl $c$ und jede Zufallsvariable $X$ ist $E(c \\cdot X) = c \\cdot E(X)$\n",
    "* Für Zufallsvariablen $X_1, \\dots, X_n$ ist $E(X_1 + \\dots + X_n) = E(X_1) + \\dots + E(X_n)$\n",
    "* $X$ und $Y$ **unabhängige** Zufallsvariable.  Dann\n",
    "\\begin{equation*}\n",
    "  E(X \\cdot Y) = E(X) \\cdot E(Y)\n",
    "\\end{equation*}\n",
    "\n",
    "### Rechenregeln für die Varianz\n",
    "\n",
    "* Für jede Zahl $a$ und jede Zufallsvariable $X$ gilt $\\text{Var}(a + X) = \\text{Var}(X)$\n",
    "* Für Zahl $c$ und jede Zufallsvariable $X$ gilt $\\text{Var}(c \\cdot X) = c^2 \\cdot \\text{Var}(X)$\n",
    "* $X$ und $Y$ **unabhängige** Zufallsvariable.  Dann\n",
    "\\begin{equation*}\n",
    "  \\text{Var}(X + Y) = \\text{Var}(X) + \\text{Var}(Y)\n",
    "\\end{equation*}"
   ]
  },
  {
   "cell_type": "markdown",
   "id": "d0767091",
   "metadata": {
    "slideshow": {
     "slide_type": "slide"
    }
   },
   "source": [
    "## Zwei unabhängige, identisch verteilte Zufallsvariable\n",
    "\n",
    "* $X_1$ und $X_2$ seien unabhängige Zufallsvariable, die derselben Verteilung gehorchen (also z.B. Messwiederholungen).  Sei $Y = \\frac12(X_1+X_2)$ der Durchschnittswert.\n",
    "* Der Erwartungswert von $X_1$ heiße $\\mu$, also $E(X_1) = E(X_2) = \\mu$ \n",
    "* Die Streuung von $X_1$ heiße $\\sigma$, also $\\text{Var}(X_1) = \\text{Var}(X_2) = \\sigma^2$"
   ]
  },
  {
   "cell_type": "markdown",
   "id": "14e20d93",
   "metadata": {
    "slideshow": {
     "slide_type": "fragment"
    }
   },
   "source": [
    "* $E(Y) = \\frac12(E(X_1)+E(X_2)) = \\mu$\n",
    "* $\\text{Var}(Y) = \\left(\\frac12\\right)^2 \\text{Var}(X_1) + \\left(\\frac12\\right)^2 \\text{Var}(X_2) = \\frac14 \\sigma^2 + \\frac14\n",
    "\\sigma^2 = \\frac12 \\sigma^2$\n",
    "* Also ist $\\displaystyle \\frac{\\sigma}{\\sqrt2}$ die Streuung von $Y$"
   ]
  },
  {
   "cell_type": "markdown",
   "id": "789dfc0e",
   "metadata": {
    "slideshow": {
     "slide_type": "slide"
    }
   },
   "source": [
    "## Das schwache Gesetz der großen Zahl\n",
    "\n",
    "* \"Mit ausreichend vielen Messwiederholungen lässt sich jede Genauigkeit erreichen\"\n",
    "* Präziser: $X_1, \\dots, X_n$ unabhängig, alle mit derselben Verteilung \n",
    "* $\\mu = E(X_1) = \\dots = E(X_n)$ und $\\sigma^2 = \\text{Var}(X_1) = \\dots = \\text{Var}(X_n)$"
   ]
  },
  {
   "cell_type": "markdown",
   "id": "219d9b5e",
   "metadata": {
    "slideshow": {
     "slide_type": "fragment"
    }
   },
   "source": [
    "* $\\displaystyle Y = \\frac1n (X_1 + \\dots + X_n)$ \n",
    "* $Y$ ist das arithmetische Mittel der $X_1, X_2, \\dots, X_n$"
   ]
  },
  {
   "cell_type": "markdown",
   "id": "a26b27d1",
   "metadata": {
    "slideshow": {
     "slide_type": "fragment"
    }
   },
   "source": [
    "* Dann $E(Y) = \\mu$ und die Streuung von $Y$ beträgt\n",
    "\\begin{equation*}\n",
    "  \\sigma_Y = \\frac\\sigma{\\sqrt n}\n",
    "\\end{equation*}\n",
    "* Das bedeutet:  Um die Streuung zu zehnteln, müssen 100 mal so viele Versuche durchgeführt werden"
   ]
  }
 ],
 "metadata": {
  "celltoolbar": "Slideshow",
  "kernelspec": {
   "display_name": "Python 3 (ipykernel)",
   "language": "python",
   "name": "python3"
  },
  "language_info": {
   "codemirror_mode": {
    "name": "ipython",
    "version": 3
   },
   "file_extension": ".py",
   "mimetype": "text/x-python",
   "name": "python",
   "nbconvert_exporter": "python",
   "pygments_lexer": "ipython3",
   "version": "3.12.7"
  }
 },
 "nbformat": 4,
 "nbformat_minor": 5
}
