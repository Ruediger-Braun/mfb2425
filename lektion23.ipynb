{
 "cells": [
  {
   "cell_type": "markdown",
   "id": "67cd263b",
   "metadata": {
    "slideshow": {
     "slide_type": "slide"
    }
   },
   "source": [
    "# Mathematik für Biologiestudierende II\n",
    "\n",
    "Sommersemester 2025\n",
    "\n",
    "03.06.2025\n",
    "\n",
    "&copy; 2025 Prof. Dr. Rüdiger W. Braun "
   ]
  },
  {
   "cell_type": "markdown",
   "id": "f6d43c14",
   "metadata": {
    "slideshow": {
     "slide_type": "slide"
    }
   },
   "source": [
    "## Vorlesungsevaluation\n",
    "\n",
    "* Bitte füllen Sie den Evaluationsbogen aus\n",
    "* Bitte stecken Sie den ausgefüllten Bogen in den Briefumschlag, der durch die Reihen geht"
   ]
  },
  {
   "cell_type": "code",
   "execution_count": 1,
   "id": "6d700937",
   "metadata": {
    "slideshow": {
     "slide_type": "slide"
    }
   },
   "outputs": [],
   "source": [
    "import numpy as np\n",
    "np.set_printoptions(legacy='1.21')\n",
    "import pandas as pd\n",
    "from scipy import stats\n",
    "import seaborn as sns\n",
    "sns.set_theme()"
   ]
  },
  {
   "cell_type": "markdown",
   "id": "8b19bc89",
   "metadata": {
    "slideshow": {
     "slide_type": "slide"
    }
   },
   "source": [
    "# Themen\n",
    "\n",
    "* Korrelation\n",
    "* Empirischer Korrelationskoeffizient\n",
    "* Regression zum Mittelwert\n",
    "* Beispiel Bleibelastung"
   ]
  },
  {
   "cell_type": "markdown",
   "id": "09a02212",
   "metadata": {
    "slideshow": {
     "slide_type": "slide"
    }
   },
   "source": [
    "# Korrelation"
   ]
  },
  {
   "cell_type": "markdown",
   "id": "718e8551",
   "metadata": {
    "slideshow": {
     "slide_type": "slide"
    }
   },
   "source": [
    "* Eine Korrelation zwischen zwei Datensätzen ist eine gemeinsame oder gegenläufige Tendenz.\n",
    "* Beispielsweise steigt der Blutdruck tendenziell mit dem Alter.\n",
    "* Gemessen wird die Korrelation durch den empirischen Korrelationskoeffizienten.\n",
    "* Der empirischen Korrelationskoeffizient beantwortet die Frage\n",
    " \n",
    ">      Gibt es eine Korrelation?"
   ]
  },
  {
   "cell_type": "markdown",
   "id": "08060b2d",
   "metadata": {
    "slideshow": {
     "slide_type": "slide"
    }
   },
   "source": [
    "### Beispiel für zwei unkorrelierte Größen\n",
    "\n",
    "* formal ist es auch möglich, Regressionsplot für zwei unkorrelierte Größen auszurechnen"
   ]
  },
  {
   "cell_type": "code",
   "execution_count": 2,
   "id": "4013cc18",
   "metadata": {},
   "outputs": [
    {
     "data": {
      "text/html": [
       "<div>\n",
       "<style scoped>\n",
       "    .dataframe tbody tr th:only-of-type {\n",
       "        vertical-align: middle;\n",
       "    }\n",
       "\n",
       "    .dataframe tbody tr th {\n",
       "        vertical-align: top;\n",
       "    }\n",
       "\n",
       "    .dataframe thead th {\n",
       "        text-align: right;\n",
       "    }\n",
       "</style>\n",
       "<table border=\"1\" class=\"dataframe\">\n",
       "  <thead>\n",
       "    <tr style=\"text-align: right;\">\n",
       "      <th></th>\n",
       "      <th>Zufall1</th>\n",
       "      <th>Zufall2</th>\n",
       "    </tr>\n",
       "  </thead>\n",
       "  <tbody>\n",
       "    <tr>\n",
       "      <th>0</th>\n",
       "      <td>0.505742</td>\n",
       "      <td>-1.502576</td>\n",
       "    </tr>\n",
       "    <tr>\n",
       "      <th>1</th>\n",
       "      <td>1.089853</td>\n",
       "      <td>-0.093230</td>\n",
       "    </tr>\n",
       "    <tr>\n",
       "      <th>2</th>\n",
       "      <td>0.742122</td>\n",
       "      <td>-0.841239</td>\n",
       "    </tr>\n",
       "    <tr>\n",
       "      <th>3</th>\n",
       "      <td>0.559189</td>\n",
       "      <td>-0.379652</td>\n",
       "    </tr>\n",
       "    <tr>\n",
       "      <th>4</th>\n",
       "      <td>1.406075</td>\n",
       "      <td>-0.207520</td>\n",
       "    </tr>\n",
       "  </tbody>\n",
       "</table>\n",
       "</div>"
      ],
      "text/plain": [
       "    Zufall1   Zufall2\n",
       "0  0.505742 -1.502576\n",
       "1  1.089853 -0.093230\n",
       "2  0.742122 -0.841239\n",
       "3  0.559189 -0.379652\n",
       "4  1.406075 -0.207520"
      ]
     },
     "execution_count": 2,
     "metadata": {},
     "output_type": "execute_result"
    }
   ],
   "source": [
    "df = pd.DataFrame()\n",
    "df['Zufall1'] = stats.norm.rvs(size=30)\n",
    "df['Zufall2'] = stats.norm.rvs(size=30)\n",
    "df.head()"
   ]
  },
  {
   "cell_type": "code",
   "execution_count": 3,
   "id": "be711e7e",
   "metadata": {},
   "outputs": [
    {
     "data": {
      "image/png": "[encoded data removed]",
      "text/plain": [
       "<Figure size 640x480 with 1 Axes>"
      ]
     },
     "metadata": {},
     "output_type": "display_data"
    }
   ],
   "source": [
    "sns.regplot(df, x='Zufall1', y='Zufall2');"
   ]
  },
  {
   "cell_type": "markdown",
   "id": "056ee792",
   "metadata": {
    "slideshow": {
     "slide_type": "slide"
    }
   },
   "source": [
    "# Empirischer Korrelationskoeffizient\n",
    "\n",
    "* Kennzahl zur Überprüfung gemeinsamer Tendenz\n",
    "* $s_x$ sei die Stichprobenstreuung der $x_j$ und $s_y$ die Stichprobenstreuung der $y_j$ \n",
    "* dann ist der *empirische Korrelationskoeffizient* gleich\n",
    "$$      r = \\frac{\\text{covar}_{\\text{emp}}(x,y)}{s_x \\cdot s_y} $$"
   ]
  },
  {
   "cell_type": "markdown",
   "id": "37c939e2",
   "metadata": {
    "slideshow": {
     "slide_type": "fragment"
    }
   },
   "source": [
    "* Der Korrelationskoeffizient ist dimensionslos"
   ]
  },
  {
   "cell_type": "markdown",
   "id": "a487e1d7",
   "metadata": {
    "slideshow": {
     "slide_type": "slide"
    }
   },
   "source": [
    "### Beispiel \"Zufall\""
   ]
  },
  {
   "cell_type": "code",
   "execution_count": 4,
   "id": "a9e10828",
   "metadata": {},
   "outputs": [
    {
     "data": {
      "text/html": [
       "<div>\n",
       "<style scoped>\n",
       "    .dataframe tbody tr th:only-of-type {\n",
       "        vertical-align: middle;\n",
       "    }\n",
       "\n",
       "    .dataframe tbody tr th {\n",
       "        vertical-align: top;\n",
       "    }\n",
       "\n",
       "    .dataframe thead th {\n",
       "        text-align: right;\n",
       "    }\n",
       "</style>\n",
       "<table border=\"1\" class=\"dataframe\">\n",
       "  <thead>\n",
       "    <tr style=\"text-align: right;\">\n",
       "      <th></th>\n",
       "      <th>Zufall1</th>\n",
       "      <th>Zufall2</th>\n",
       "    </tr>\n",
       "  </thead>\n",
       "  <tbody>\n",
       "    <tr>\n",
       "      <th>Zufall1</th>\n",
       "      <td>0.698120</td>\n",
       "      <td>-0.013018</td>\n",
       "    </tr>\n",
       "    <tr>\n",
       "      <th>Zufall2</th>\n",
       "      <td>-0.013018</td>\n",
       "      <td>0.737468</td>\n",
       "    </tr>\n",
       "  </tbody>\n",
       "</table>\n",
       "</div>"
      ],
      "text/plain": [
       "          Zufall1   Zufall2\n",
       "Zufall1  0.698120 -0.013018\n",
       "Zufall2 -0.013018  0.737468"
      ]
     },
     "execution_count": 4,
     "metadata": {},
     "output_type": "execute_result"
    }
   ],
   "source": [
    "df.cov()"
   ]
  },
  {
   "cell_type": "code",
   "execution_count": 5,
   "id": "7c4218e0",
   "metadata": {},
   "outputs": [
    {
     "data": {
      "text/plain": [
       "0.835536022855466"
      ]
     },
     "execution_count": 5,
     "metadata": {},
     "output_type": "execute_result"
    }
   ],
   "source": [
    "sx = df.Zufall1.std()\n",
    "sx"
   ]
  },
  {
   "cell_type": "code",
   "execution_count": 6,
   "id": "5da907c7",
   "metadata": {},
   "outputs": [
    {
     "data": {
      "text/plain": [
       "0.8587593030657297"
      ]
     },
     "execution_count": 6,
     "metadata": {},
     "output_type": "execute_result"
    }
   ],
   "source": [
    "sy = df.Zufall2.std()\n",
    "sy"
   ]
  },
  {
   "cell_type": "code",
   "execution_count": 7,
   "id": "7a2ffb06",
   "metadata": {},
   "outputs": [
    {
     "data": {
      "text/plain": [
       "-0.013017976048013774"
      ]
     },
     "execution_count": 7,
     "metadata": {},
     "output_type": "execute_result"
    }
   ],
   "source": [
    "covar = df.Zufall1.cov(df.Zufall2)\n",
    "covar"
   ]
  },
  {
   "cell_type": "code",
   "execution_count": 8,
   "id": "5a9f563a",
   "metadata": {},
   "outputs": [
    {
     "data": {
      "text/plain": [
       "-0.01814290534162877"
      ]
     },
     "execution_count": 8,
     "metadata": {},
     "output_type": "execute_result"
    }
   ],
   "source": [
    "r = covar / (sx*sy)\n",
    "r"
   ]
  },
  {
   "cell_type": "markdown",
   "id": "6a1cf246",
   "metadata": {
    "slideshow": {
     "slide_type": "slide"
    }
   },
   "source": [
    "## Interpretation des empirischen Korrelationskoeffizienten\n",
    "\n",
    "Der Korrelationskoeffizient zeigt an, ob zwei Datensätze eine gemeinsame Tendenz aufweisen\n",
    "\n",
    "* wenn er nahe bei $1$ liegt, dann wachsen $x$ und $y$ gemeinsam (gemeinsame Tendenz)\n",
    "* wenn er nahe bei $-1$ liegt, dann fällt $y$, wenn $x$ wächst (gegenläufige Tendenz)\n",
    "* wenn er nahe bei $0$ liegt, dann gibt es kein gemeinsames Verhalten"
   ]
  },
  {
   "cell_type": "markdown",
   "id": "52c02e4f",
   "metadata": {
    "slideshow": {
     "slide_type": "fragment"
    }
   },
   "source": [
    "* auch ein negativer Korrelationskoeffizient hat eine Bedeutung\n",
    "* Beispiel:  Je weniger Pestizide ich im Garten ausbringe, desto mehr Bienen habe ich"
   ]
  },
  {
   "cell_type": "markdown",
   "id": "0c04450d",
   "metadata": {
    "slideshow": {
     "slide_type": "slide"
    }
   },
   "source": [
    "## Berechnung mit `pandas`"
   ]
  },
  {
   "cell_type": "code",
   "execution_count": 9,
   "id": "c854a245",
   "metadata": {},
   "outputs": [
    {
     "data": {
      "text/html": [
       "<div>\n",
       "<style scoped>\n",
       "    .dataframe tbody tr th:only-of-type {\n",
       "        vertical-align: middle;\n",
       "    }\n",
       "\n",
       "    .dataframe tbody tr th {\n",
       "        vertical-align: top;\n",
       "    }\n",
       "\n",
       "    .dataframe thead th {\n",
       "        text-align: right;\n",
       "    }\n",
       "</style>\n",
       "<table border=\"1\" class=\"dataframe\">\n",
       "  <thead>\n",
       "    <tr style=\"text-align: right;\">\n",
       "      <th></th>\n",
       "      <th>Zufall1</th>\n",
       "      <th>Zufall2</th>\n",
       "    </tr>\n",
       "  </thead>\n",
       "  <tbody>\n",
       "    <tr>\n",
       "      <th>Zufall1</th>\n",
       "      <td>1.000000</td>\n",
       "      <td>-0.018143</td>\n",
       "    </tr>\n",
       "    <tr>\n",
       "      <th>Zufall2</th>\n",
       "      <td>-0.018143</td>\n",
       "      <td>1.000000</td>\n",
       "    </tr>\n",
       "  </tbody>\n",
       "</table>\n",
       "</div>"
      ],
      "text/plain": [
       "          Zufall1   Zufall2\n",
       "Zufall1  1.000000 -0.018143\n",
       "Zufall2 -0.018143  1.000000"
      ]
     },
     "execution_count": 9,
     "metadata": {},
     "output_type": "execute_result"
    }
   ],
   "source": [
    "df.corr()"
   ]
  },
  {
   "cell_type": "markdown",
   "id": "465c26f2",
   "metadata": {
    "slideshow": {
     "slide_type": "slide"
    }
   },
   "source": [
    "### Beispiel: Blutdruckdaten \n",
    "    \n",
    "Wir hatten in der letzten Woche die Kovarianzen für die Blutdruckdaten bestimmt  "
   ]
  },
  {
   "cell_type": "code",
   "execution_count": 10,
   "id": "d8630add",
   "metadata": {},
   "outputs": [
    {
     "data": {
      "text/html": [
       "<div>\n",
       "<style scoped>\n",
       "    .dataframe tbody tr th:only-of-type {\n",
       "        vertical-align: middle;\n",
       "    }\n",
       "\n",
       "    .dataframe tbody tr th {\n",
       "        vertical-align: top;\n",
       "    }\n",
       "\n",
       "    .dataframe thead th {\n",
       "        text-align: right;\n",
       "    }\n",
       "</style>\n",
       "<table border=\"1\" class=\"dataframe\">\n",
       "  <thead>\n",
       "    <tr style=\"text-align: right;\">\n",
       "      <th></th>\n",
       "      <th>Alter</th>\n",
       "      <th>Blutdruck</th>\n",
       "      <th>Größe</th>\n",
       "    </tr>\n",
       "  </thead>\n",
       "  <tbody>\n",
       "    <tr>\n",
       "      <th>Alter</th>\n",
       "      <td>231.131034</td>\n",
       "      <td>348.572414</td>\n",
       "      <td>36.128966</td>\n",
       "    </tr>\n",
       "    <tr>\n",
       "      <th>Blutdruck</th>\n",
       "      <td>348.572414</td>\n",
       "      <td>750.271264</td>\n",
       "      <td>69.805057</td>\n",
       "    </tr>\n",
       "    <tr>\n",
       "      <th>Größe</th>\n",
       "      <td>36.128966</td>\n",
       "      <td>69.805057</td>\n",
       "      <td>28.617195</td>\n",
       "    </tr>\n",
       "  </tbody>\n",
       "</table>\n",
       "</div>"
      ],
      "text/plain": [
       "                Alter   Blutdruck      Größe\n",
       "Alter      231.131034  348.572414  36.128966\n",
       "Blutdruck  348.572414  750.271264  69.805057\n",
       "Größe       36.128966   69.805057  28.617195"
      ]
     },
     "execution_count": 10,
     "metadata": {},
     "output_type": "execute_result"
    }
   ],
   "source": [
    "df = pd.read_csv('blutdruckdaten.csv')\n",
    "df.cov()"
   ]
  },
  {
   "cell_type": "markdown",
   "id": "f9486094",
   "metadata": {
    "slideshow": {
     "slide_type": "fragment"
    }
   },
   "source": [
    "Jetzt bestimmen wir die Korrelationskoeffizienten"
   ]
  },
  {
   "cell_type": "code",
   "execution_count": 11,
   "id": "850a64c7",
   "metadata": {},
   "outputs": [
    {
     "data": {
      "text/html": [
       "<div>\n",
       "<style scoped>\n",
       "    .dataframe tbody tr th:only-of-type {\n",
       "        vertical-align: middle;\n",
       "    }\n",
       "\n",
       "    .dataframe tbody tr th {\n",
       "        vertical-align: top;\n",
       "    }\n",
       "\n",
       "    .dataframe thead th {\n",
       "        text-align: right;\n",
       "    }\n",
       "</style>\n",
       "<table border=\"1\" class=\"dataframe\">\n",
       "  <thead>\n",
       "    <tr style=\"text-align: right;\">\n",
       "      <th></th>\n",
       "      <th>Alter</th>\n",
       "      <th>Blutdruck</th>\n",
       "      <th>Größe</th>\n",
       "    </tr>\n",
       "  </thead>\n",
       "  <tbody>\n",
       "    <tr>\n",
       "      <th>Alter</th>\n",
       "      <td>1.000000</td>\n",
       "      <td>0.837056</td>\n",
       "      <td>0.444235</td>\n",
       "    </tr>\n",
       "    <tr>\n",
       "      <th>Blutdruck</th>\n",
       "      <td>0.837056</td>\n",
       "      <td>1.000000</td>\n",
       "      <td>0.476392</td>\n",
       "    </tr>\n",
       "    <tr>\n",
       "      <th>Größe</th>\n",
       "      <td>0.444235</td>\n",
       "      <td>0.476392</td>\n",
       "      <td>1.000000</td>\n",
       "    </tr>\n",
       "  </tbody>\n",
       "</table>\n",
       "</div>"
      ],
      "text/plain": [
       "              Alter  Blutdruck     Größe\n",
       "Alter      1.000000   0.837056  0.444235\n",
       "Blutdruck  0.837056   1.000000  0.476392\n",
       "Größe      0.444235   0.476392  1.000000"
      ]
     },
     "execution_count": 11,
     "metadata": {},
     "output_type": "execute_result"
    }
   ],
   "source": [
    "df.corr()"
   ]
  },
  {
   "cell_type": "markdown",
   "id": "ed72013d",
   "metadata": {
    "slideshow": {
     "slide_type": "fragment"
    }
   },
   "source": [
    "* Alter und Blutdruck sind korreliert (aber nicht stark)\n",
    "* die anderen Größen sind nicht korreliert"
   ]
  },
  {
   "cell_type": "markdown",
   "id": "788e4ba9",
   "metadata": {
    "slideshow": {
     "slide_type": "slide"
    }
   },
   "source": [
    "## Beispielgraph mit sehr guter Korrelation"
   ]
  },
  {
   "cell_type": "code",
   "execution_count": 12,
   "id": "cd4fd7e1",
   "metadata": {},
   "outputs": [
    {
     "data": {
      "text/html": [
       "<div>\n",
       "<style scoped>\n",
       "    .dataframe tbody tr th:only-of-type {\n",
       "        vertical-align: middle;\n",
       "    }\n",
       "\n",
       "    .dataframe tbody tr th {\n",
       "        vertical-align: top;\n",
       "    }\n",
       "\n",
       "    .dataframe thead th {\n",
       "        text-align: right;\n",
       "    }\n",
       "</style>\n",
       "<table border=\"1\" class=\"dataframe\">\n",
       "  <thead>\n",
       "    <tr style=\"text-align: right;\">\n",
       "      <th></th>\n",
       "      <th>Länge</th>\n",
       "      <th>Breite</th>\n",
       "    </tr>\n",
       "  </thead>\n",
       "  <tbody>\n",
       "    <tr>\n",
       "      <th>0</th>\n",
       "      <td>0</td>\n",
       "      <td>5.011937</td>\n",
       "    </tr>\n",
       "    <tr>\n",
       "      <th>1</th>\n",
       "      <td>1</td>\n",
       "      <td>5.005393</td>\n",
       "    </tr>\n",
       "    <tr>\n",
       "      <th>2</th>\n",
       "      <td>2</td>\n",
       "      <td>5.001882</td>\n",
       "    </tr>\n",
       "    <tr>\n",
       "      <th>3</th>\n",
       "      <td>3</td>\n",
       "      <td>4.999195</td>\n",
       "    </tr>\n",
       "    <tr>\n",
       "      <th>4</th>\n",
       "      <td>4</td>\n",
       "      <td>5.005367</td>\n",
       "    </tr>\n",
       "  </tbody>\n",
       "</table>\n",
       "</div>"
      ],
      "text/plain": [
       "   Länge    Breite\n",
       "0      0  5.011937\n",
       "1      1  5.005393\n",
       "2      2  5.001882\n",
       "3      3  4.999195\n",
       "4      4  5.005367"
      ]
     },
     "execution_count": 12,
     "metadata": {},
     "output_type": "execute_result"
    }
   ],
   "source": [
    "df1 = pd.DataFrame()\n",
    "P = stats.norm(0.005, 0.005)    # ganz kleine Störung\n",
    "df1['Länge'] = np.arange(30)\n",
    "df1['Breite'] = 5 - 0.002*df1.Länge + P.rvs(size=30)\n",
    "df1.head()"
   ]
  },
  {
   "cell_type": "code",
   "execution_count": 13,
   "id": "a0158e3c",
   "metadata": {
    "slideshow": {
     "slide_type": "slide"
    }
   },
   "outputs": [
    {
     "data": {
      "image/png": "[encoded data removed]",
      "text/plain": [
       "<Figure size 640x480 with 1 Axes>"
      ]
     },
     "metadata": {},
     "output_type": "display_data"
    }
   ],
   "source": [
    "sns.regplot(df1, x='Länge', y='Breite');"
   ]
  },
  {
   "cell_type": "code",
   "execution_count": 14,
   "id": "df002e87",
   "metadata": {
    "slideshow": {
     "slide_type": "slide"
    }
   },
   "outputs": [
    {
     "data": {
      "text/html": [
       "<div>\n",
       "<style scoped>\n",
       "    .dataframe tbody tr th:only-of-type {\n",
       "        vertical-align: middle;\n",
       "    }\n",
       "\n",
       "    .dataframe tbody tr th {\n",
       "        vertical-align: top;\n",
       "    }\n",
       "\n",
       "    .dataframe thead th {\n",
       "        text-align: right;\n",
       "    }\n",
       "</style>\n",
       "<table border=\"1\" class=\"dataframe\">\n",
       "  <thead>\n",
       "    <tr style=\"text-align: right;\">\n",
       "      <th></th>\n",
       "      <th>Länge</th>\n",
       "      <th>Breite</th>\n",
       "    </tr>\n",
       "  </thead>\n",
       "  <tbody>\n",
       "    <tr>\n",
       "      <th>Länge</th>\n",
       "      <td>1.000000</td>\n",
       "      <td>-0.977345</td>\n",
       "    </tr>\n",
       "    <tr>\n",
       "      <th>Breite</th>\n",
       "      <td>-0.977345</td>\n",
       "      <td>1.000000</td>\n",
       "    </tr>\n",
       "  </tbody>\n",
       "</table>\n",
       "</div>"
      ],
      "text/plain": [
       "           Länge    Breite\n",
       "Länge   1.000000 -0.977345\n",
       "Breite -0.977345  1.000000"
      ]
     },
     "execution_count": 14,
     "metadata": {},
     "output_type": "execute_result"
    }
   ],
   "source": [
    "df1.corr()"
   ]
  },
  {
   "cell_type": "markdown",
   "id": "0c1b72f6",
   "metadata": {
    "slideshow": {
     "slide_type": "fragment"
    }
   },
   "source": [
    "Das darf man nicht verwechseln mit der Steigung der Regressionsgeraden"
   ]
  },
  {
   "cell_type": "code",
   "execution_count": 15,
   "id": "170da898",
   "metadata": {},
   "outputs": [
    {
     "data": {
      "text/plain": [
       "-0.002197168909885257"
      ]
     },
     "execution_count": 15,
     "metadata": {},
     "output_type": "execute_result"
    }
   ],
   "source": [
    "m = df1.Länge.cov(df1.Breite) / df1.Länge.var()\n",
    "m"
   ]
  },
  {
   "cell_type": "markdown",
   "id": "01448a60",
   "metadata": {
    "slideshow": {
     "slide_type": "slide"
    }
   },
   "source": [
    "# Regression zum Mittelwert\n",
    "\n",
    "* Der Begriff *Regression* kommt von Francis Galton, einem Neffen von Charles Darwin\n",
    "* Er hatte den auf der nächsten Folie gezeigten Datensatz analysiert\n",
    "* Auf der $x$-Achse stehen die Größen der Väter in Zoll\n",
    "* Auf der $y$-Achse stehen die Größen der Söhne in Zoll"
   ]
  },
  {
   "cell_type": "code",
   "execution_count": 16,
   "id": "bd73fada",
   "metadata": {
    "slideshow": {
     "slide_type": "slide"
    }
   },
   "outputs": [
    {
     "data": {
      "text/html": [
       "<div>\n",
       "<style scoped>\n",
       "    .dataframe tbody tr th:only-of-type {\n",
       "        vertical-align: middle;\n",
       "    }\n",
       "\n",
       "    .dataframe tbody tr th {\n",
       "        vertical-align: top;\n",
       "    }\n",
       "\n",
       "    .dataframe thead th {\n",
       "        text-align: right;\n",
       "    }\n",
       "</style>\n",
       "<table border=\"1\" class=\"dataframe\">\n",
       "  <thead>\n",
       "    <tr style=\"text-align: right;\">\n",
       "      <th></th>\n",
       "      <th>family</th>\n",
       "      <th>father</th>\n",
       "      <th>mother</th>\n",
       "      <th>midparentHeight</th>\n",
       "      <th>children</th>\n",
       "      <th>childNum</th>\n",
       "      <th>gender</th>\n",
       "      <th>childHeight</th>\n",
       "    </tr>\n",
       "  </thead>\n",
       "  <tbody>\n",
       "    <tr>\n",
       "      <th>0</th>\n",
       "      <td>001</td>\n",
       "      <td>78.5</td>\n",
       "      <td>67.0</td>\n",
       "      <td>75.43</td>\n",
       "      <td>4</td>\n",
       "      <td>1</td>\n",
       "      <td>male</td>\n",
       "      <td>73.2</td>\n",
       "    </tr>\n",
       "    <tr>\n",
       "      <th>1</th>\n",
       "      <td>002</td>\n",
       "      <td>75.5</td>\n",
       "      <td>66.5</td>\n",
       "      <td>73.66</td>\n",
       "      <td>4</td>\n",
       "      <td>1</td>\n",
       "      <td>male</td>\n",
       "      <td>73.5</td>\n",
       "    </tr>\n",
       "    <tr>\n",
       "      <th>2</th>\n",
       "      <td>002</td>\n",
       "      <td>75.5</td>\n",
       "      <td>66.5</td>\n",
       "      <td>73.66</td>\n",
       "      <td>4</td>\n",
       "      <td>2</td>\n",
       "      <td>male</td>\n",
       "      <td>72.5</td>\n",
       "    </tr>\n",
       "    <tr>\n",
       "      <th>3</th>\n",
       "      <td>003</td>\n",
       "      <td>75.0</td>\n",
       "      <td>64.0</td>\n",
       "      <td>72.06</td>\n",
       "      <td>2</td>\n",
       "      <td>1</td>\n",
       "      <td>male</td>\n",
       "      <td>71.0</td>\n",
       "    </tr>\n",
       "    <tr>\n",
       "      <th>4</th>\n",
       "      <td>004</td>\n",
       "      <td>75.0</td>\n",
       "      <td>64.0</td>\n",
       "      <td>72.06</td>\n",
       "      <td>5</td>\n",
       "      <td>1</td>\n",
       "      <td>male</td>\n",
       "      <td>70.5</td>\n",
       "    </tr>\n",
       "  </tbody>\n",
       "</table>\n",
       "</div>"
      ],
      "text/plain": [
       "  family  father  mother  midparentHeight  children  childNum gender  \\\n",
       "0    001    78.5    67.0            75.43         4         1   male   \n",
       "1    002    75.5    66.5            73.66         4         1   male   \n",
       "2    002    75.5    66.5            73.66         4         2   male   \n",
       "3    003    75.0    64.0            72.06         2         1   male   \n",
       "4    004    75.0    64.0            72.06         5         1   male   \n",
       "\n",
       "   childHeight  \n",
       "0         73.2  \n",
       "1         73.5  \n",
       "2         72.5  \n",
       "3         71.0  \n",
       "4         70.5  "
      ]
     },
     "execution_count": 16,
     "metadata": {},
     "output_type": "execute_result"
    }
   ],
   "source": [
    "df = pd.read_csv('galton.csv')\n",
    "df.head()"
   ]
  },
  {
   "cell_type": "markdown",
   "id": "e2df0b06",
   "metadata": {
    "slideshow": {
     "slide_type": "fragment"
    }
   },
   "source": [
    "* Aufbereitung eines Datensatzes von Galton.  Die Aufbereitung stammt aus den Begleitdaten zum Buch \"Linear Models with Python\" von Faraway"
   ]
  },
  {
   "cell_type": "code",
   "execution_count": 17,
   "id": "a8cb4e6c",
   "metadata": {
    "slideshow": {
     "slide_type": "slide"
    }
   },
   "outputs": [
    {
     "data": {
      "image/png": "[encoded data removed]",
      "text/plain": [
       "<Figure size 640x480 with 1 Axes>"
      ]
     },
     "metadata": {},
     "output_type": "display_data"
    }
   ],
   "source": [
    "sns.regplot(df, x='father', y='childHeight');"
   ]
  },
  {
   "cell_type": "markdown",
   "id": "4abfc283",
   "metadata": {
    "slideshow": {
     "slide_type": "fragment"
    }
   },
   "source": [
    "Die Steigung dieser Geraden ist positiv, aber deutlich kleiner als 1"
   ]
  },
  {
   "cell_type": "code",
   "execution_count": 18,
   "id": "63e2a05d",
   "metadata": {},
   "outputs": [
    {
     "data": {
      "text/plain": [
       "0.44652260468787525"
      ]
     },
     "execution_count": 18,
     "metadata": {},
     "output_type": "execute_result"
    }
   ],
   "source": [
    "m = df.father.cov(df.childHeight) / df.father.var()\n",
    "m"
   ]
  },
  {
   "cell_type": "markdown",
   "id": "3c6490a7",
   "metadata": {
    "slideshow": {
     "slide_type": "slide"
    }
   },
   "source": [
    "## Regression zum Mittelwert:  Interpretation\n",
    "\n",
    "* Die Söhne ungewöhnlich großer oder kleiner Väter sind im Mittel selbst zwar auch größer bzw. kleiner als der Mittelwert, aber diese Differenz ist kleiner als bei den Vätern\n",
    "* Galton bezeichnet dies (ziemlich unfreundlich) als \"Regression to mediocrity\"\n",
    "* Das gilt aber nur für die Individuen, nicht für die Population als Ganzes\n",
    "* auch in der nächsten Generation gibt es wieder ungewöhnlich große Individuen, aber in anderen Familien"
   ]
  },
  {
   "cell_type": "markdown",
   "id": "efe5ac47",
   "metadata": {
    "slideshow": {
     "slide_type": "slide"
    }
   },
   "source": [
    "# Korrelation &ne; Kausalität\n",
    "\n",
    "* Wenn der Korrelationskoeffizient von $x$ und $y$ nahe $0$ liegt, dann gibt es keinen kausalen Zusammenhang     zwischen ihnen (seltene nichtlineare Pänomene mal ausgenommen)\n",
    "* Man kann aber im umgekehrten Fall von einem Korrelationskoeffizienten nahe bei $1$ nicht auf einen kausalen     Zusammenhang schließen"
   ]
  },
  {
   "cell_type": "markdown",
   "id": "6bf5fc41",
   "metadata": {
    "slideshow": {
     "slide_type": "fragment"
    }
   },
   "source": [
    "* Zum Beispiel nimmt seit Jahrzehnten in Deutschland sowohl die Zahl der Geburten als auch die Zahl der Störche ab\n",
    "* Der kausale Zusammenhang ist aber umstritten"
   ]
  },
  {
   "cell_type": "markdown",
   "id": "16c22877",
   "metadata": {
    "slideshow": {
     "slide_type": "fragment"
    }
   },
   "source": [
    "* Beispiel aus der Schlafforschung:  Mittagsschlafdauern über 90 Minuten sind ungesund "
   ]
  },
  {
   "cell_type": "markdown",
   "id": "21bea110",
   "metadata": {
    "slideshow": {
     "slide_type": "fragment"
    }
   },
   "source": [
    "* Bei Menschen korreliert die Rechtschreibfähigkeit mit der Schuhgröße"
   ]
  },
  {
   "cell_type": "markdown",
   "id": "cd6de2f3",
   "metadata": {
    "slideshow": {
     "slide_type": "fragment"
    }
   },
   "source": [
    "* zumindest bei Menschen unter zehn Jahren"
   ]
  },
  {
   "cell_type": "markdown",
   "id": "09032624",
   "metadata": {
    "slideshow": {
     "slide_type": "slide"
    }
   },
   "source": [
    "<img src=\"https://imgs.xkcd.com/comics/correlation.png\" alt=\"xkcd Cartoon 552\" width=\"85%\"/>\n",
    "\n",
    "Quelle: http://xkcd.com/552"
   ]
  },
  {
   "cell_type": "markdown",
   "id": "280dc896",
   "metadata": {
    "slideshow": {
     "slide_type": "slide"
    }
   },
   "source": [
    "## Beispiel: Bleibelastung im Gewebe von Ratten\n",
    "\n",
    "* kontaminiertes Gelände: fange 10 Ratten\n",
    "* unbelastetes Vergleichsgelände:  fange 10 Ratten\n",
    "* für jede Ratte wird ihr Alter in Monaten und der Bleigehalt im Gewebe bestimmt"
   ]
  },
  {
   "cell_type": "code",
   "execution_count": 19,
   "id": "ab2ff3a9",
   "metadata": {},
   "outputs": [
    {
     "data": {
      "text/html": [
       "<div>\n",
       "<style scoped>\n",
       "    .dataframe tbody tr th:only-of-type {\n",
       "        vertical-align: middle;\n",
       "    }\n",
       "\n",
       "    .dataframe tbody tr th {\n",
       "        vertical-align: top;\n",
       "    }\n",
       "\n",
       "    .dataframe thead th {\n",
       "        text-align: right;\n",
       "    }\n",
       "</style>\n",
       "<table border=\"1\" class=\"dataframe\">\n",
       "  <thead>\n",
       "    <tr style=\"text-align: right;\">\n",
       "      <th></th>\n",
       "      <th>Alter</th>\n",
       "      <th>Belastung</th>\n",
       "      <th>Gelände</th>\n",
       "    </tr>\n",
       "  </thead>\n",
       "  <tbody>\n",
       "    <tr>\n",
       "      <th>0</th>\n",
       "      <td>10</td>\n",
       "      <td>63</td>\n",
       "      <td>unkontaminiert</td>\n",
       "    </tr>\n",
       "    <tr>\n",
       "      <th>1</th>\n",
       "      <td>12</td>\n",
       "      <td>67</td>\n",
       "      <td>unkontaminiert</td>\n",
       "    </tr>\n",
       "    <tr>\n",
       "      <th>2</th>\n",
       "      <td>6</td>\n",
       "      <td>55</td>\n",
       "      <td>unkontaminiert</td>\n",
       "    </tr>\n",
       "    <tr>\n",
       "      <th>3</th>\n",
       "      <td>6</td>\n",
       "      <td>42</td>\n",
       "      <td>unkontaminiert</td>\n",
       "    </tr>\n",
       "    <tr>\n",
       "      <th>4</th>\n",
       "      <td>11</td>\n",
       "      <td>73</td>\n",
       "      <td>unkontaminiert</td>\n",
       "    </tr>\n",
       "  </tbody>\n",
       "</table>\n",
       "</div>"
      ],
      "text/plain": [
       "   Alter  Belastung         Gelände\n",
       "0     10         63  unkontaminiert\n",
       "1     12         67  unkontaminiert\n",
       "2      6         55  unkontaminiert\n",
       "3      6         42  unkontaminiert\n",
       "4     11         73  unkontaminiert"
      ]
     },
     "execution_count": 19,
     "metadata": {},
     "output_type": "execute_result"
    }
   ],
   "source": [
    "df = pd.read_csv('ratten.csv')\n",
    "df.head()"
   ]
  },
  {
   "cell_type": "code",
   "execution_count": 20,
   "id": "ff65c53d",
   "metadata": {},
   "outputs": [],
   "source": [
    "df_b = df[df.Gelände=='kontaminiert']\n",
    "df_u = df[df.Gelände=='unkontaminiert']"
   ]
  },
  {
   "cell_type": "code",
   "execution_count": 21,
   "id": "dcf3c103",
   "metadata": {
    "slideshow": {
     "slide_type": "slide"
    }
   },
   "outputs": [
    {
     "data": {
      "text/html": [
       "<div>\n",
       "<style scoped>\n",
       "    .dataframe tbody tr th:only-of-type {\n",
       "        vertical-align: middle;\n",
       "    }\n",
       "\n",
       "    .dataframe tbody tr th {\n",
       "        vertical-align: top;\n",
       "    }\n",
       "\n",
       "    .dataframe thead th {\n",
       "        text-align: right;\n",
       "    }\n",
       "</style>\n",
       "<table border=\"1\" class=\"dataframe\">\n",
       "  <thead>\n",
       "    <tr style=\"text-align: right;\">\n",
       "      <th></th>\n",
       "      <th>Alter</th>\n",
       "      <th>Belastung</th>\n",
       "    </tr>\n",
       "  </thead>\n",
       "  <tbody>\n",
       "    <tr>\n",
       "      <th>count</th>\n",
       "      <td>10.000000</td>\n",
       "      <td>10.000000</td>\n",
       "    </tr>\n",
       "    <tr>\n",
       "      <th>mean</th>\n",
       "      <td>7.700000</td>\n",
       "      <td>66.500000</td>\n",
       "    </tr>\n",
       "    <tr>\n",
       "      <th>std</th>\n",
       "      <td>2.451757</td>\n",
       "      <td>10.384283</td>\n",
       "    </tr>\n",
       "    <tr>\n",
       "      <th>min</th>\n",
       "      <td>4.000000</td>\n",
       "      <td>50.000000</td>\n",
       "    </tr>\n",
       "    <tr>\n",
       "      <th>25%</th>\n",
       "      <td>6.250000</td>\n",
       "      <td>61.000000</td>\n",
       "    </tr>\n",
       "    <tr>\n",
       "      <th>50%</th>\n",
       "      <td>8.000000</td>\n",
       "      <td>66.000000</td>\n",
       "    </tr>\n",
       "    <tr>\n",
       "      <th>75%</th>\n",
       "      <td>9.750000</td>\n",
       "      <td>75.250000</td>\n",
       "    </tr>\n",
       "    <tr>\n",
       "      <th>max</th>\n",
       "      <td>11.000000</td>\n",
       "      <td>81.000000</td>\n",
       "    </tr>\n",
       "  </tbody>\n",
       "</table>\n",
       "</div>"
      ],
      "text/plain": [
       "           Alter  Belastung\n",
       "count  10.000000  10.000000\n",
       "mean    7.700000  66.500000\n",
       "std     2.451757  10.384283\n",
       "min     4.000000  50.000000\n",
       "25%     6.250000  61.000000\n",
       "50%     8.000000  66.000000\n",
       "75%     9.750000  75.250000\n",
       "max    11.000000  81.000000"
      ]
     },
     "execution_count": 21,
     "metadata": {},
     "output_type": "execute_result"
    }
   ],
   "source": [
    "df_b.describe()"
   ]
  },
  {
   "cell_type": "code",
   "execution_count": 22,
   "id": "879f2f20",
   "metadata": {},
   "outputs": [
    {
     "data": {
      "text/html": [
       "<div>\n",
       "<style scoped>\n",
       "    .dataframe tbody tr th:only-of-type {\n",
       "        vertical-align: middle;\n",
       "    }\n",
       "\n",
       "    .dataframe tbody tr th {\n",
       "        vertical-align: top;\n",
       "    }\n",
       "\n",
       "    .dataframe thead th {\n",
       "        text-align: right;\n",
       "    }\n",
       "</style>\n",
       "<table border=\"1\" class=\"dataframe\">\n",
       "  <thead>\n",
       "    <tr style=\"text-align: right;\">\n",
       "      <th></th>\n",
       "      <th>Alter</th>\n",
       "      <th>Belastung</th>\n",
       "    </tr>\n",
       "  </thead>\n",
       "  <tbody>\n",
       "    <tr>\n",
       "      <th>count</th>\n",
       "      <td>10.000000</td>\n",
       "      <td>10.000000</td>\n",
       "    </tr>\n",
       "    <tr>\n",
       "      <th>mean</th>\n",
       "      <td>9.700000</td>\n",
       "      <td>62.500000</td>\n",
       "    </tr>\n",
       "    <tr>\n",
       "      <th>std</th>\n",
       "      <td>2.451757</td>\n",
       "      <td>11.017663</td>\n",
       "    </tr>\n",
       "    <tr>\n",
       "      <th>min</th>\n",
       "      <td>6.000000</td>\n",
       "      <td>42.000000</td>\n",
       "    </tr>\n",
       "    <tr>\n",
       "      <th>25%</th>\n",
       "      <td>8.250000</td>\n",
       "      <td>55.750000</td>\n",
       "    </tr>\n",
       "    <tr>\n",
       "      <th>50%</th>\n",
       "      <td>10.000000</td>\n",
       "      <td>65.000000</td>\n",
       "    </tr>\n",
       "    <tr>\n",
       "      <th>75%</th>\n",
       "      <td>11.750000</td>\n",
       "      <td>72.000000</td>\n",
       "    </tr>\n",
       "    <tr>\n",
       "      <th>max</th>\n",
       "      <td>13.000000</td>\n",
       "      <td>75.000000</td>\n",
       "    </tr>\n",
       "  </tbody>\n",
       "</table>\n",
       "</div>"
      ],
      "text/plain": [
       "           Alter  Belastung\n",
       "count  10.000000  10.000000\n",
       "mean    9.700000  62.500000\n",
       "std     2.451757  11.017663\n",
       "min     6.000000  42.000000\n",
       "25%     8.250000  55.750000\n",
       "50%    10.000000  65.000000\n",
       "75%    11.750000  72.000000\n",
       "max    13.000000  75.000000"
      ]
     },
     "execution_count": 22,
     "metadata": {},
     "output_type": "execute_result"
    }
   ],
   "source": [
    "df_u.describe()"
   ]
  },
  {
   "cell_type": "markdown",
   "id": "4acc34bc",
   "metadata": {
    "slideshow": {
     "slide_type": "fragment"
    }
   },
   "source": [
    "* Es gibt einen Unterschied in der Bleibelastung; aber auch eine große Stichprobenstreuung."
   ]
  },
  {
   "cell_type": "code",
   "execution_count": 23,
   "id": "87ae391d",
   "metadata": {
    "slideshow": {
     "slide_type": "slide"
    }
   },
   "outputs": [
    {
     "data": {
      "text/plain": [
       "TtestResult(statistic=-0.8354714854531734, pvalue=0.20720251637482168, df=18.0)"
      ]
     },
     "execution_count": 23,
     "metadata": {},
     "output_type": "execute_result"
    }
   ],
   "source": [
    "stats.ttest_ind(df_u.Belastung, df_b.Belastung, alternative='less')"
   ]
  },
  {
   "cell_type": "markdown",
   "id": "14f7c74c",
   "metadata": {
    "slideshow": {
     "slide_type": "fragment"
    }
   },
   "source": [
    "* Der Unterschied ist nicht signifikant.\n",
    "* Es fällt aber auf, dass die Ratten von dem belasteten Gebiet im Mittel jünger als die anderen sind.\n",
    "* Wir wollen das Alter herausrechnen"
   ]
  },
  {
   "cell_type": "markdown",
   "id": "a8e0218c",
   "metadata": {
    "slideshow": {
     "slide_type": "slide"
    }
   },
   "source": [
    "* Steigt die Bleibelastung mit dem Alter?"
   ]
  },
  {
   "cell_type": "code",
   "execution_count": 24,
   "id": "a39f6da0",
   "metadata": {},
   "outputs": [
    {
     "data": {
      "text/html": [
       "<div>\n",
       "<style scoped>\n",
       "    .dataframe tbody tr th:only-of-type {\n",
       "        vertical-align: middle;\n",
       "    }\n",
       "\n",
       "    .dataframe tbody tr th {\n",
       "        vertical-align: top;\n",
       "    }\n",
       "\n",
       "    .dataframe thead th {\n",
       "        text-align: right;\n",
       "    }\n",
       "</style>\n",
       "<table border=\"1\" class=\"dataframe\">\n",
       "  <thead>\n",
       "    <tr style=\"text-align: right;\">\n",
       "      <th></th>\n",
       "      <th>Alter</th>\n",
       "      <th>Belastung</th>\n",
       "    </tr>\n",
       "  </thead>\n",
       "  <tbody>\n",
       "    <tr>\n",
       "      <th>Alter</th>\n",
       "      <td>1.000000</td>\n",
       "      <td>0.796465</td>\n",
       "    </tr>\n",
       "    <tr>\n",
       "      <th>Belastung</th>\n",
       "      <td>0.796465</td>\n",
       "      <td>1.000000</td>\n",
       "    </tr>\n",
       "  </tbody>\n",
       "</table>\n",
       "</div>"
      ],
      "text/plain": [
       "              Alter  Belastung\n",
       "Alter      1.000000   0.796465\n",
       "Belastung  0.796465   1.000000"
      ]
     },
     "execution_count": 24,
     "metadata": {},
     "output_type": "execute_result"
    }
   ],
   "source": [
    "df_b.corr(numeric_only=True)   #  ohne die Option gibt es einen ValueError"
   ]
  },
  {
   "cell_type": "code",
   "execution_count": 25,
   "id": "003ffc48",
   "metadata": {},
   "outputs": [
    {
     "data": {
      "text/html": [
       "<div>\n",
       "<style scoped>\n",
       "    .dataframe tbody tr th:only-of-type {\n",
       "        vertical-align: middle;\n",
       "    }\n",
       "\n",
       "    .dataframe tbody tr th {\n",
       "        vertical-align: top;\n",
       "    }\n",
       "\n",
       "    .dataframe thead th {\n",
       "        text-align: right;\n",
       "    }\n",
       "</style>\n",
       "<table border=\"1\" class=\"dataframe\">\n",
       "  <thead>\n",
       "    <tr style=\"text-align: right;\">\n",
       "      <th></th>\n",
       "      <th>Alter</th>\n",
       "      <th>Belastung</th>\n",
       "    </tr>\n",
       "  </thead>\n",
       "  <tbody>\n",
       "    <tr>\n",
       "      <th>Alter</th>\n",
       "      <td>1.00000</td>\n",
       "      <td>0.82883</td>\n",
       "    </tr>\n",
       "    <tr>\n",
       "      <th>Belastung</th>\n",
       "      <td>0.82883</td>\n",
       "      <td>1.00000</td>\n",
       "    </tr>\n",
       "  </tbody>\n",
       "</table>\n",
       "</div>"
      ],
      "text/plain": [
       "             Alter  Belastung\n",
       "Alter      1.00000    0.82883\n",
       "Belastung  0.82883    1.00000"
      ]
     },
     "execution_count": 25,
     "metadata": {},
     "output_type": "execute_result"
    }
   ],
   "source": [
    "df_u.corr(numeric_only=True)"
   ]
  },
  {
   "cell_type": "markdown",
   "id": "f0322eb1",
   "metadata": {
    "slideshow": {
     "slide_type": "slide"
    }
   },
   "source": [
    "Wir zeigen beide Regressionen in einem Bild"
   ]
  },
  {
   "cell_type": "code",
   "execution_count": 26,
   "id": "79d0c88c",
   "metadata": {},
   "outputs": [
    {
     "data": {
      "image/png": "[encoded data removed]",
      "text/plain": [
       "<Figure size 655.125x500 with 1 Axes>"
      ]
     },
     "metadata": {},
     "output_type": "display_data"
    }
   ],
   "source": [
    "sns.lmplot(df, x='Alter', y='Belastung', hue='Gelände');"
   ]
  },
  {
   "cell_type": "markdown",
   "id": "6f3b893b",
   "metadata": {},
   "source": [
    "* Die Gerade zu den Daten des kontaminierten Geländes liegt klar oberhalb der Geraden des unkontaminierten Geländes"
   ]
  },
  {
   "cell_type": "markdown",
   "id": "fc4995d7",
   "metadata": {
    "slideshow": {
     "slide_type": "slide"
    }
   },
   "source": [
    "* `sns.lmplot` vereint mehrere regplots, ähnlich wie das `sns.displot` tut\n",
    "* es hat auch ähnliche Optionen"
   ]
  },
  {
   "cell_type": "code",
   "execution_count": 27,
   "id": "54962666",
   "metadata": {},
   "outputs": [
    {
     "data": {
      "image/png": "[encoded data removed]",
      "text/plain": [
       "<Figure size 1000x500 with 2 Axes>"
      ]
     },
     "metadata": {},
     "output_type": "display_data"
    }
   ],
   "source": [
    "sns.lmplot(df, x='Alter', y='Belastung', col='Gelände');"
   ]
  }
 ],
 "metadata": {
  "celltoolbar": "Slideshow",
  "kernelspec": {
   "display_name": "Python 3 (ipykernel)",
   "language": "python",
   "name": "python3"
  },
  "language_info": {
   "codemirror_mode": {
    "name": "ipython",
    "version": 3
   },
   "file_extension": ".py",
   "mimetype": "text/x-python",
   "name": "python",
   "nbconvert_exporter": "python",
   "pygments_lexer": "ipython3",
   "version": "3.11.10"
  }
 },
 "nbformat": 4,
 "nbformat_minor": 5
}
