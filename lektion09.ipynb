{
 "cells": [
  {
   "cell_type": "markdown",
   "id": "97e910de",
   "metadata": {
    "slideshow": {
     "slide_type": "slide"
    }
   },
   "source": [
    "# Mathematik für Biologiestudierende\n",
    "\n",
    "Wintersemester 2024/25\n",
    "\n",
    "04.12.2024\n",
    "\n",
    "&copy; 2024 Prof. Dr. Rüdiger W. Braun "
   ]
  },
  {
   "cell_type": "markdown",
   "id": "d10dd87d",
   "metadata": {
    "slideshow": {
     "slide_type": "slide"
    }
   },
   "source": [
    "# Fehler erster und zweiter Art\n",
    "\n",
    "* *Der Fehler 1. Art* ist die fälschliche Ablehnung der Nullhypothese.\n",
    "* *Der Fehler 2. Art* ist die fälschliche Beibehaltung der Nullhypothese \n",
    "\n",
    "Die Priorität liegt auf der Vermeidung des Fehlers 1. Art.  Diese Asymmetrie ist ein entscheidendes Merkmal der Testtheorie.\n",
    "\n",
    "|                     | $H_0$ wird beibehalten | $H_0$ wird abgelehnt  |\n",
    "|---------------------|:----------------------:|:---------------------:|\n",
    "| $H_0$ **trifft zu** | richtige Entscheidung  | Fehler 1. Art         |\n",
    "| $H_1$ **trifft zu** | Fehler 2. Art          | richtige Entscheidung |"
   ]
  },
  {
   "cell_type": "markdown",
   "id": "d2f27ff8",
   "metadata": {
    "slideshow": {
     "slide_type": "fragment"
    }
   },
   "source": [
    "* Fehlerwahrscheinlichkeit 1. Art soll kleiner sein als das Signifikanzniveau $\\alpha$\n",
    "* Die Komplementärwhrscheinlichkeit der Fehlerwahrscheinlichkeit 2. Art ist die Power"
   ]
  },
  {
   "cell_type": "markdown",
   "id": "e5d07f4a",
   "metadata": {
    "slideshow": {
     "slide_type": "slide"
    }
   },
   "source": [
    "## Ein- und zweiseitige Tests\n",
    "\n",
    "* Ein ja/nein-Experiment mit unbekannter Erfolgswahrscheinlichkeit $p$ wird $n$-mal wiederholt\n",
    "* Ziel:  Aussage über $p$ relativ zu einem Referenzwert $p_0$ \n",
    "* verschiedene Nullhypothesen sind denkbar\n",
    "  * $H_0 : p\\ge p_0$: einseitiger unterer Test\n",
    "  * $H_0 : p \\le p_0$: einseitiger oberer Test\n",
    "  * $H_0 : p = p_0$: zweiseitiger Test"
   ]
  },
  {
   "cell_type": "markdown",
   "id": "3a716757",
   "metadata": {
    "slideshow": {
     "slide_type": "fragment"
    }
   },
   "source": [
    "* einseitige Tests kennen wir aus der vorigen Lektion\n",
    "* zweiseitige folgen in dieser"
   ]
  },
  {
   "cell_type": "markdown",
   "id": "71caca00",
   "metadata": {
    "slideshow": {
     "slide_type": "fragment"
    }
   },
   "source": [
    "* vorher noch ein einseitiger"
   ]
  },
  {
   "cell_type": "markdown",
   "id": "2ed46c52",
   "metadata": {
    "slideshow": {
     "slide_type": "slide"
    }
   },
   "source": [
    "## Beispiel: Mutationen\n",
    "\n",
    "* In einer Population weist normalerweise jedes 250te Individuum eine gewisse Mutation auf.  \n",
    "* Bei einer Untersuchung von 2000 Individuen werden nun aber sogar 12 Träger der Mutation gefunden,\n",
    "* $2000/250=8$, man hätte also 8 Träger von Mutationen erwartet"
   ]
  },
  {
   "cell_type": "markdown",
   "id": "b30b0b33",
   "metadata": {
    "slideshow": {
     "slide_type": "fragment"
    }
   },
   "source": [
    "Zwei Interpretationen sind denkbar\n",
    "\n",
    "* Eine Steigerung der Mutationshäufigkeit um 50% wurde entdeckt\n",
    "* Unter 2000 Individuen wurden gerade mal vier Ausreißer entdeckt"
   ]
  },
  {
   "cell_type": "markdown",
   "id": "c8a210dc",
   "metadata": {
    "slideshow": {
     "slide_type": "fragment"
    }
   },
   "source": [
    "#### Statistics to the rescue!\n",
    "\n",
    "* Bevor wir diese Entdeckung an die Presse geben, wollen wir sicher sein, dass die Mutationsrate tatsächlich gestiegen ist\n",
    "* Sicherheit ist relativ.  Mit einem Irrtumsrisiko von 5% können wir leben"
   ]
  },
  {
   "cell_type": "markdown",
   "id": "f97253c9",
   "metadata": {
    "slideshow": {
     "slide_type": "slide"
    }
   },
   "source": [
    "## Binomialtest für das Beispiel\n",
    "\n",
    "* Wir machen einen Binomialtest.  Die Referenzwahrscheinlichkeit ist $p_0 = 0.004$\n",
    "* Die Nullhypothese ist $H_0 = \\{ p \\le p_0 \\}$\n",
    "    * Es handelt sich um einen einseitigen, oberen Binomialtest\n",
    "    * Das Signifikanzniveau beträgt $\\alpha = 0.05$"
   ]
  },
  {
   "cell_type": "markdown",
   "id": "64038c09",
   "metadata": {
    "slideshow": {
     "slide_type": "fragment"
    }
   },
   "source": [
    "* Der kritische Wert $c$ ist so zu wählen, dass `P.cdf(c-1)`$<1-\\alpha$ und `P.cdf(c)`$\\ge1-\\alpha$"
   ]
  },
  {
   "cell_type": "markdown",
   "id": "958bfd85",
   "metadata": {},
   "source": [
    "* Entscheidungsregel:\n",
    "     * Die Nullhypothese wird abgelehnt, falls die Anzahl der Erfolge echt größer als $c$ ist\n",
    "     * Die Nullhypothese wird beibehalten, falls die Anzahl der Erfolge höchstens $c$ ist"
   ]
  },
  {
   "cell_type": "code",
   "execution_count": 1,
   "id": "84a57472",
   "metadata": {
    "slideshow": {
     "slide_type": "slide"
    }
   },
   "outputs": [],
   "source": [
    "from scipy import stats\n",
    "import numpy as np\n",
    "np.set_printoptions(legacy='1.21')\n",
    "P = stats.binom(2000, 0.004)\n",
    "alpha = 0.05"
   ]
  },
  {
   "cell_type": "code",
   "execution_count": 2,
   "id": "4b130f6b",
   "metadata": {},
   "outputs": [
    {
     "data": {
      "text/plain": [
       "13.0"
      ]
     },
     "execution_count": 2,
     "metadata": {},
     "output_type": "execute_result"
    }
   ],
   "source": [
    "P.ppf(1-alpha)"
   ]
  },
  {
   "cell_type": "markdown",
   "id": "493298b8",
   "metadata": {
    "slideshow": {
     "slide_type": "fragment"
    }
   },
   "source": [
    "### Mutation: Entscheidung\n",
    "\n",
    "* Die Rechnung ergibt $c = 13$\n",
    "* Bei bis zu 13 Erfolgen (einschließlich) wird die Nullhypothese beibehalten\n",
    "* Wir haben nur 12 Mutationen beobachtet:  Nullhypothese wir beibehalten\n",
    "* Keine signifikante Erhöhung beobachtet"
   ]
  },
  {
   "cell_type": "markdown",
   "id": "dfc2d5f8",
   "metadata": {
    "slideshow": {
     "slide_type": "slide"
    }
   },
   "source": [
    "## Maschinelle Auswertung und der *p*-Wert"
   ]
  },
  {
   "cell_type": "markdown",
   "id": "93464da7",
   "metadata": {
    "slideshow": {
     "slide_type": "slide"
    }
   },
   "source": [
    "## Der *p*-Wert\n",
    "\n",
    "* Der $p$-Wert ist das kleinste Signifikanzniveau, zu dem die Daten den Test noch bestehen würden.\n",
    "* Der $p$-Wert beantwortet die Frage\n",
    ">  Wie knapp wurde das vorgeschriebene Signifikanzniveau eingehalten bzw. verfehlt?\n",
    "* Wenn $\\alpha$ das Signifikanzniveau ist\n",
    "  * $p \\le \\alpha$: Nullhypothese wird abgelehnt \n",
    "  * $p > \\alpha$: Nullhypothese wird beibehalten"
   ]
  },
  {
   "cell_type": "markdown",
   "id": "13b4363e",
   "metadata": {
    "slideshow": {
     "slide_type": "slide"
    }
   },
   "source": [
    "Software gibt immer den $p$-Wert aus"
   ]
  },
  {
   "cell_type": "code",
   "execution_count": 3,
   "id": "7f8e4e5f",
   "metadata": {
    "slideshow": {
     "slide_type": "-"
    }
   },
   "outputs": [
    {
     "data": {
      "text/plain": [
       "BinomTestResult(k=12, n=2000, alternative='greater', statistic=0.006, pvalue=0.1114898591368222)"
      ]
     },
     "execution_count": 3,
     "metadata": {},
     "output_type": "execute_result"
    }
   ],
   "source": [
    "res = stats.binomtest(12, 2000, 0.004, alternative=\"greater\")\n",
    "res"
   ]
  },
  {
   "cell_type": "code",
   "execution_count": 4,
   "id": "64aa11e2",
   "metadata": {},
   "outputs": [
    {
     "data": {
      "text/plain": [
       "0.1114898591368222"
      ]
     },
     "execution_count": 4,
     "metadata": {},
     "output_type": "execute_result"
    }
   ],
   "source": [
    "res.pvalue"
   ]
  },
  {
   "cell_type": "code",
   "execution_count": 5,
   "id": "e9e60271",
   "metadata": {},
   "outputs": [
    {
     "data": {
      "text/plain": [
       "0.006"
      ]
     },
     "execution_count": 5,
     "metadata": {},
     "output_type": "execute_result"
    }
   ],
   "source": [
    "res.statistic"
   ]
  },
  {
   "cell_type": "code",
   "execution_count": 6,
   "id": "6e96a7bd",
   "metadata": {},
   "outputs": [
    {
     "data": {
      "text/plain": [
       "True"
      ]
     },
     "execution_count": 6,
     "metadata": {},
     "output_type": "execute_result"
    }
   ],
   "source": [
    "res.statistic == 12/2000"
   ]
  },
  {
   "cell_type": "markdown",
   "id": "71782c2a",
   "metadata": {},
   "source": [
    "Der Begriff der Teststatistik spielt erst bei den später zu besprechenden Tests eine Rolle"
   ]
  },
  {
   "cell_type": "markdown",
   "id": "8dd9d96a",
   "metadata": {
    "slideshow": {
     "slide_type": "slide"
    }
   },
   "source": [
    "> `stats.binomialtest(k, n, p0, alternative)`\n",
    "\n",
    "* `k` ist die beobachtete Anzahl\n",
    "* `n` ist der Stichprobenumfang\n",
    "* `p0` ist die Referenzwahrscheinlichkeit\n",
    "* `alternative` legt fest, ob ein oberer, unterer oder zweiseitiger Test gerechnet wird\n",
    "  * `alternative=\"greater\"` bedeutet:  oberer Test\n",
    "  * `alternative=\"less\"` bedeutet: unterer Test\n",
    "  * `alternative=\"two-sided\"` bedeutet:  zweiseitiger Test\n",
    "  * keine Angabe:  zweiseitiger Test"
   ]
  },
  {
   "cell_type": "markdown",
   "id": "da449cf4",
   "metadata": {
    "slideshow": {
     "slide_type": "slide"
    }
   },
   "source": [
    "### Alternative\n",
    "\n",
    "* `alternative=\"greater\"` heißt:  wir behaupten, dass die tatsächliche Erfolgswahrscheinlichkeit größer als die Referenzwahrscheinlichkeit ist"
   ]
  },
  {
   "cell_type": "markdown",
   "id": "64d1edc0",
   "metadata": {
    "slideshow": {
     "slide_type": "slide"
    }
   },
   "source": [
    "## Power des Tests\n",
    "\n",
    "* Wir wollen eine Erhöhung der Mutationsrate um 50%, also von $p_0=0.004$ auf $p=0.006$ entdecken\n",
    "* Was ist dann die Power des Tests?\n",
    "* Die Power ist die Wahrscheinlichtkeit für die richtige Entscheidung, wenn die Alternative tatsächlich zutrifft\n",
    "\n",
    "* $H_0$ wird abgelehnt bei mindestens 14 Erfolgen"
   ]
  },
  {
   "cell_type": "code",
   "execution_count": 7,
   "id": "618cc701",
   "metadata": {
    "slideshow": {
     "slide_type": "slide"
    }
   },
   "outputs": [],
   "source": [
    "Q = stats.binom(2000, 0.006)"
   ]
  },
  {
   "cell_type": "markdown",
   "id": "d6956872",
   "metadata": {
    "slideshow": {
     "slide_type": "-"
    }
   },
   "source": [
    "* Wenn 13 oder weniger Erfolge beobachtet werden, mache ich den Fehler zweiter Art\n",
    "* Also ist die Fehlerwahrscheinlichkeit zweiter Art gleich"
   ]
  },
  {
   "cell_type": "code",
   "execution_count": 8,
   "id": "1edad9b2",
   "metadata": {},
   "outputs": [
    {
     "data": {
      "text/plain": [
       "0.6818540941767756"
      ]
     },
     "execution_count": 8,
     "metadata": {},
     "output_type": "execute_result"
    }
   ],
   "source": [
    "Q.cdf(13)"
   ]
  },
  {
   "cell_type": "markdown",
   "id": "0383d6ad",
   "metadata": {
    "slideshow": {
     "slide_type": "-"
    }
   },
   "source": [
    "und die Power ist gleich"
   ]
  },
  {
   "cell_type": "code",
   "execution_count": 9,
   "id": "db2407f1",
   "metadata": {},
   "outputs": [
    {
     "data": {
      "text/plain": [
       "0.31814590582322444"
      ]
     },
     "execution_count": 9,
     "metadata": {},
     "output_type": "execute_result"
    }
   ],
   "source": [
    "1 - Q.cdf(13)"
   ]
  },
  {
   "cell_type": "markdown",
   "id": "232abd8e",
   "metadata": {
    "slideshow": {
     "slide_type": "slide"
    }
   },
   "source": [
    "## Zweiseitiger Binomialtest zum Niveau  $\\alpha$\n",
    "\n",
    "* Gegeben sind unabhängige $B(1, p)$-verteilte Zufallsvariable $X_1, \\dots, X_n$ mit unbekanntem $p$ sowie ein Signifikanzniveau $\\alpha$\n",
    "* Verglichen werden soll mit einem Referenzwert $p_0$\n",
    "* Getestet wird die Nullhypothese $H_0 = \\{p = p_0\\}$ gegen die Alternative $H_1 = \\{p \\ne p_0\\}$\n",
    "* `P` ist die Binomialverteilung $B_{n,p_0}$"
   ]
  },
  {
   "cell_type": "markdown",
   "id": "269cf098",
   "metadata": {
    "slideshow": {
     "slide_type": "fragment"
    }
   },
   "source": [
    "* Der *untere kritische Wert* $c_1$ ist so zu wählen, dass `P.cdf(c1 - 1)`$\\le\\frac\\alpha2$ und `P.cdf(c1)`$>\\frac\\alpha2$"
   ]
  },
  {
   "cell_type": "markdown",
   "id": "96a01338",
   "metadata": {
    "slideshow": {
     "slide_type": "fragment"
    }
   },
   "source": [
    "* Der *obere kritische Wert* $c_2$ ist so zu wählen, dass `P.cdf(c2 - 1)`$<1-\\frac\\alpha2$ und `P.cdf(c2)`$\\ge1-\\frac\\alpha2$"
   ]
  },
  {
   "cell_type": "markdown",
   "id": "cdee61fe",
   "metadata": {
    "slideshow": {
     "slide_type": "fragment"
    }
   },
   "source": [
    "Der zweiseitige Binomialtest besteht also aus einem unteren und einem oberen einseitigen Binomialtest, die aber beide zum halben Signifikanzniveau durchgeführt werden"
   ]
  },
  {
   "cell_type": "markdown",
   "id": "d5dcec0d",
   "metadata": {
    "slideshow": {
     "slide_type": "slide"
    }
   },
   "source": [
    "## Zweiseitiger Binomialtest, Beispiel\n",
    "\n",
    "* Bei 250 Würfen eines Würfels fiel 55 mal eine Sechs.  Kann man zu 95% sicher sein, dass der Würfel gezinkt ist?\n",
    "* Sei $p$ die unbekannte Wahrscheinlichkeit des Würfels für eine Sechs\n",
    "* Zweiseitiger Binomialtest mit\n",
    "  * Nullhypothese: $H_0 = \\left\\{ p = \\frac16 \\right\\}$\n",
    "  * Alternative: $H_1 = \\left\\{ p \\ne \\frac16 \\right\\}$\n",
    "  * Signifikanzniveau ist $\\alpha = 0.05$"
   ]
  },
  {
   "cell_type": "code",
   "execution_count": 10,
   "id": "b174a6a9",
   "metadata": {
    "slideshow": {
     "slide_type": "slide"
    }
   },
   "outputs": [],
   "source": [
    "P = stats.binom(250, 1/6)\n",
    "alpha = 0.05"
   ]
  },
  {
   "cell_type": "code",
   "execution_count": 11,
   "id": "e0f9a70d",
   "metadata": {},
   "outputs": [
    {
     "data": {
      "text/plain": [
       "30.0"
      ]
     },
     "execution_count": 11,
     "metadata": {},
     "output_type": "execute_result"
    }
   ],
   "source": [
    "c1 = P.ppf(alpha/2)\n",
    "c1"
   ]
  },
  {
   "cell_type": "code",
   "execution_count": 12,
   "id": "010c382c",
   "metadata": {
    "slideshow": {
     "slide_type": "fragment"
    }
   },
   "outputs": [
    {
     "data": {
      "text/plain": [
       "54.0"
      ]
     },
     "execution_count": 12,
     "metadata": {},
     "output_type": "execute_result"
    }
   ],
   "source": [
    "c2 = P.ppf(1-alpha/2)\n",
    "c2"
   ]
  },
  {
   "cell_type": "markdown",
   "id": "10ba838d",
   "metadata": {
    "slideshow": {
     "slide_type": "slide"
    }
   },
   "source": [
    "Punktrechnung vor Strichrechnung\n",
    "\n",
    "Achtung:  keine Seite der HHU: https://www.spiegel.de/spiegel/print/index-2023.html"
   ]
  },
  {
   "cell_type": "markdown",
   "id": "af8001a2",
   "metadata": {
    "slideshow": {
     "slide_type": "slide"
    }
   },
   "source": [
    "### Beispiel, Fortsetzung\n",
    "\n",
    "* $c_1 = 30$ und $c_2 = 54$\n",
    "* Die Nullhypothese kann zum Niveau $\\alpha = 0.05$ abgelehnt werden, wenn höchstens 29 oder mindestens 55 Sechsen fallen\n",
    "* Bei 55 Sechsen kann die Nullhypothese also abgelehnt werden\n",
    "* Wir können mit 95% Sicherheit sagen, dass der Würfel gezinkt ist"
   ]
  },
  {
   "cell_type": "markdown",
   "id": "9870230e",
   "metadata": {
    "slideshow": {
     "slide_type": "slide"
    }
   },
   "source": [
    "<img src=\"bilder/b250.svg\" alt=\"Fehler zweiter Art für das Würfelbeispiel\" width=\"55%\"/>\n",
    "\n",
    "Gelbe Balken zeigen Fehlentscheidungen"
   ]
  },
  {
   "cell_type": "markdown",
   "id": "32bc5de3",
   "metadata": {
    "slideshow": {
     "slide_type": "slide"
    }
   },
   "source": [
    "## *p*-Wert des zweiseitigen Tests"
   ]
  },
  {
   "cell_type": "code",
   "execution_count": 13,
   "id": "1dccbe4b",
   "metadata": {
    "slideshow": {
     "slide_type": "-"
    }
   },
   "outputs": [
    {
     "data": {
      "text/plain": [
       "0.02718643157092374"
      ]
     },
     "execution_count": 13,
     "metadata": {},
     "output_type": "execute_result"
    }
   ],
   "source": [
    "res = stats.binomtest(55, 250, 1/6)  # \"zweiseitig\" ist die Standardeinstellung\n",
    "res.pvalue"
   ]
  },
  {
   "cell_type": "markdown",
   "id": "d96e7175",
   "metadata": {
    "slideshow": {
     "slide_type": "slide"
    }
   },
   "source": [
    "## Power des zweiseitigen Tests\n",
    "\n",
    "* Wir wollen erkennen können, wenn der Würfel so stark gezinkt ist,  dass die Wahrscheinlichkeit für eine Sechs 20% beträgt.  Was ist dann die Power des Tests?"
   ]
  },
  {
   "cell_type": "markdown",
   "id": "b7aecaff",
   "metadata": {
    "slideshow": {
     "slide_type": "slide"
    }
   },
   "source": [
    "* Die Wahrscheinlichkeit der richtigen Entscheidung ist\n",
    "$$  \\sum_{k=0}^{29} B_{250,\\,0.2}(k) + \\sum_{k=55}^{250} B_{250,\\,0.2}(k) $$"
   ]
  },
  {
   "cell_type": "code",
   "execution_count": 14,
   "id": "269c0998",
   "metadata": {},
   "outputs": [],
   "source": [
    "Q = stats.binom(250, 0.2)"
   ]
  },
  {
   "cell_type": "code",
   "execution_count": 15,
   "id": "a2dddd76",
   "metadata": {},
   "outputs": [
    {
     "data": {
      "text/plain": [
       "0.0002997560505954973"
      ]
     },
     "execution_count": 15,
     "metadata": {},
     "output_type": "execute_result"
    }
   ],
   "source": [
    "erste_summe = Q.cdf(29)\n",
    "erste_summe"
   ]
  },
  {
   "cell_type": "code",
   "execution_count": 16,
   "id": "58ac465f",
   "metadata": {},
   "outputs": [
    {
     "data": {
      "text/plain": [
       "0.2359822558674649"
      ]
     },
     "execution_count": 16,
     "metadata": {},
     "output_type": "execute_result"
    }
   ],
   "source": [
    "zweite_summe = 1 - Q.cdf(54)\n",
    "zweite_summe"
   ]
  },
  {
   "cell_type": "code",
   "execution_count": 17,
   "id": "07884d1f",
   "metadata": {},
   "outputs": [
    {
     "data": {
      "text/plain": [
       "0.2362820119180604"
      ]
     },
     "execution_count": 17,
     "metadata": {},
     "output_type": "execute_result"
    }
   ],
   "source": [
    "power = erste_summe + zweite_summe\n",
    "power"
   ]
  },
  {
   "cell_type": "markdown",
   "id": "aa160d63",
   "metadata": {
    "slideshow": {
     "slide_type": "slide"
    }
   },
   "source": [
    "# Versuchsplanung"
   ]
  },
  {
   "cell_type": "markdown",
   "id": "ed31e609",
   "metadata": {
    "slideshow": {
     "slide_type": "fragment"
    }
   },
   "source": [
    "* Im Beispiel \"Mutation\" hatten wir für n=2000 eine Power von 32% erzielt.  \n",
    "* Welche Power hätten wir für n=10000?"
   ]
  },
  {
   "cell_type": "code",
   "execution_count": 18,
   "id": "73599203",
   "metadata": {
    "slideshow": {
     "slide_type": "slide"
    }
   },
   "outputs": [
    {
     "data": {
      "text/plain": [
       "51.0"
      ]
     },
     "execution_count": 18,
     "metadata": {},
     "output_type": "execute_result"
    }
   ],
   "source": [
    "n = 10000\n",
    "alpha = 0.05\n",
    "p0 = 0.004\n",
    "P = stats.binom(n, p0)\n",
    "c = P.ppf(1-alpha)\n",
    "c"
   ]
  },
  {
   "cell_type": "markdown",
   "id": "c322cc6d",
   "metadata": {
    "slideshow": {
     "slide_type": "fragment"
    }
   },
   "source": [
    "Der kritische Wert ist also $c=51$"
   ]
  },
  {
   "cell_type": "code",
   "execution_count": 19,
   "id": "d43c67b5",
   "metadata": {
    "slideshow": {
     "slide_type": "fragment"
    }
   },
   "outputs": [
    {
     "data": {
      "text/plain": [
       "0.865685152339395"
      ]
     },
     "execution_count": 19,
     "metadata": {},
     "output_type": "execute_result"
    }
   ],
   "source": [
    "p = 0.006\n",
    "Q = stats.binom(n, p)\n",
    "1 - Q.cdf(c)  "
   ]
  },
  {
   "cell_type": "markdown",
   "id": "5ea352cd",
   "metadata": {},
   "source": [
    "* 0.8657 ist die Wahrscheinlichkeit für die richtige Entshceidung, also die Power \n",
    "* Der Stichprobenumfang beträgt dabei n=10000"
   ]
  },
  {
   "cell_type": "markdown",
   "id": "bdcf144e",
   "metadata": {
    "slideshow": {
     "slide_type": "slide"
    }
   },
   "source": [
    "### Frage:  Bei welchem Stichprobenumfang bekommen wir eine Power von 90%"
   ]
  },
  {
   "cell_type": "markdown",
   "id": "28cb0a34",
   "metadata": {
    "slideshow": {
     "slide_type": "fragment"
    }
   },
   "source": [
    "* Bereits gesehen:  n=10000 ist zu wenig\n",
    "* Dasselbe mit n=20000:"
   ]
  },
  {
   "cell_type": "code",
   "execution_count": 20,
   "id": "bed5b2b8",
   "metadata": {
    "slideshow": {
     "slide_type": "-"
    }
   },
   "outputs": [
    {
     "data": {
      "text/plain": [
       "95.0"
      ]
     },
     "execution_count": 20,
     "metadata": {},
     "output_type": "execute_result"
    }
   ],
   "source": [
    "n = 20000\n",
    "P = stats.binom(n, p0)\n",
    "c = P.ppf(1-alpha)\n",
    "c"
   ]
  },
  {
   "cell_type": "code",
   "execution_count": 21,
   "id": "798206fa",
   "metadata": {},
   "outputs": [
    {
     "data": {
      "text/plain": [
       "0.989577529617209"
      ]
     },
     "execution_count": 21,
     "metadata": {},
     "output_type": "execute_result"
    }
   ],
   "source": [
    "Q = stats.binom(n, p)\n",
    "1 - Q.cdf(c)"
   ]
  },
  {
   "cell_type": "markdown",
   "id": "4c06494c",
   "metadata": {
    "slideshow": {
     "slide_type": "slide"
    }
   },
   "source": [
    "Zu viel"
   ]
  },
  {
   "cell_type": "code",
   "execution_count": 22,
   "id": "f446ce92",
   "metadata": {
    "slideshow": {
     "slide_type": "-"
    }
   },
   "outputs": [
    {
     "data": {
      "text/plain": [
       "60.0"
      ]
     },
     "execution_count": 22,
     "metadata": {},
     "output_type": "execute_result"
    }
   ],
   "source": [
    "n = 12000\n",
    "P = stats.binom(n, p0)\n",
    "c = P.ppf(1-alpha)\n",
    "c"
   ]
  },
  {
   "cell_type": "code",
   "execution_count": 23,
   "id": "8c97bfd4",
   "metadata": {},
   "outputs": [
    {
     "data": {
      "text/plain": [
       "0.9158835701280577"
      ]
     },
     "execution_count": 23,
     "metadata": {},
     "output_type": "execute_result"
    }
   ],
   "source": [
    "Q = stats.binom(n, p)\n",
    "1 - Q.cdf(c)"
   ]
  },
  {
   "cell_type": "markdown",
   "id": "774d9994",
   "metadata": {
    "slideshow": {
     "slide_type": "slide"
    }
   },
   "source": [
    "* n=12000 reicht aus\n",
    "* Genaue Wert sind hier nicht nötig, weil der Wert p=0.006 auch nur geschätzt ist\n",
    "* Deswegen genügt es in der Praxis meistens, mit copy und paste ein halbes Dutzend Szenarien zu rechnen"
   ]
  },
  {
   "cell_type": "markdown",
   "id": "84ec6a94",
   "metadata": {
    "slideshow": {
     "slide_type": "slide"
    }
   },
   "source": [
    "Geht natürlich auch automatisch "
   ]
  },
  {
   "cell_type": "code",
   "execution_count": 24,
   "id": "4784d7b4",
   "metadata": {
    "slideshow": {
     "slide_type": "-"
    }
   },
   "outputs": [],
   "source": [
    "import numpy as np\n",
    "import pandas as pd\n",
    "import seaborn as sns\n",
    "sns.set_theme()"
   ]
  },
  {
   "cell_type": "code",
   "execution_count": 25,
   "id": "e9b6d920",
   "metadata": {
    "slideshow": {
     "slide_type": "slide"
    }
   },
   "outputs": [
    {
     "data": {
      "text/html": [
       "<div>\n",
       "<style scoped>\n",
       "    .dataframe tbody tr th:only-of-type {\n",
       "        vertical-align: middle;\n",
       "    }\n",
       "\n",
       "    .dataframe tbody tr th {\n",
       "        vertical-align: top;\n",
       "    }\n",
       "\n",
       "    .dataframe thead th {\n",
       "        text-align: right;\n",
       "    }\n",
       "</style>\n",
       "<table border=\"1\" class=\"dataframe\">\n",
       "  <thead>\n",
       "    <tr style=\"text-align: right;\">\n",
       "      <th></th>\n",
       "      <th>n</th>\n",
       "      <th>c</th>\n",
       "      <th>power</th>\n",
       "    </tr>\n",
       "  </thead>\n",
       "  <tbody>\n",
       "    <tr>\n",
       "      <th>0</th>\n",
       "      <td>5000</td>\n",
       "      <td>28.0</td>\n",
       "      <td>0.597340</td>\n",
       "    </tr>\n",
       "    <tr>\n",
       "      <th>1</th>\n",
       "      <td>5001</td>\n",
       "      <td>28.0</td>\n",
       "      <td>0.597763</td>\n",
       "    </tr>\n",
       "    <tr>\n",
       "      <th>2</th>\n",
       "      <td>5002</td>\n",
       "      <td>28.0</td>\n",
       "      <td>0.598185</td>\n",
       "    </tr>\n",
       "    <tr>\n",
       "      <th>3</th>\n",
       "      <td>5003</td>\n",
       "      <td>28.0</td>\n",
       "      <td>0.598607</td>\n",
       "    </tr>\n",
       "    <tr>\n",
       "      <th>4</th>\n",
       "      <td>5004</td>\n",
       "      <td>28.0</td>\n",
       "      <td>0.599029</td>\n",
       "    </tr>\n",
       "    <tr>\n",
       "      <th>...</th>\n",
       "      <td>...</td>\n",
       "      <td>...</td>\n",
       "      <td>...</td>\n",
       "    </tr>\n",
       "    <tr>\n",
       "      <th>10995</th>\n",
       "      <td>15995</td>\n",
       "      <td>77.0</td>\n",
       "      <td>0.973767</td>\n",
       "    </tr>\n",
       "    <tr>\n",
       "      <th>10996</th>\n",
       "      <td>15996</td>\n",
       "      <td>77.0</td>\n",
       "      <td>0.973804</td>\n",
       "    </tr>\n",
       "    <tr>\n",
       "      <th>10997</th>\n",
       "      <td>15997</td>\n",
       "      <td>77.0</td>\n",
       "      <td>0.973840</td>\n",
       "    </tr>\n",
       "    <tr>\n",
       "      <th>10998</th>\n",
       "      <td>15998</td>\n",
       "      <td>77.0</td>\n",
       "      <td>0.973876</td>\n",
       "    </tr>\n",
       "    <tr>\n",
       "      <th>10999</th>\n",
       "      <td>15999</td>\n",
       "      <td>77.0</td>\n",
       "      <td>0.973912</td>\n",
       "    </tr>\n",
       "  </tbody>\n",
       "</table>\n",
       "<p>11000 rows × 3 columns</p>\n",
       "</div>"
      ],
      "text/plain": [
       "           n     c     power\n",
       "0       5000  28.0  0.597340\n",
       "1       5001  28.0  0.597763\n",
       "2       5002  28.0  0.598185\n",
       "3       5003  28.0  0.598607\n",
       "4       5004  28.0  0.599029\n",
       "...      ...   ...       ...\n",
       "10995  15995  77.0  0.973767\n",
       "10996  15996  77.0  0.973804\n",
       "10997  15997  77.0  0.973840\n",
       "10998  15998  77.0  0.973876\n",
       "10999  15999  77.0  0.973912\n",
       "\n",
       "[11000 rows x 3 columns]"
      ]
     },
     "execution_count": 25,
     "metadata": {},
     "output_type": "execute_result"
    }
   ],
   "source": [
    "df = pd.DataFrame()\n",
    "df['n'] = np.arange(5000, 16000)\n",
    "df['c'] = stats.binom(df.n, p0).ppf(1-alpha)\n",
    "df['power'] = 1 - stats.binom(df.n, p).cdf(df.c)\n",
    "df"
   ]
  },
  {
   "cell_type": "code",
   "execution_count": 26,
   "id": "b694f128",
   "metadata": {
    "slideshow": {
     "slide_type": "slide"
    }
   },
   "outputs": [
    {
     "data": {
      "image/png": "[encoded data removed]",
      "text/plain": [
       "<Figure size 640x480 with 1 Axes>"
      ]
     },
     "metadata": {},
     "output_type": "display_data"
    }
   ],
   "source": [
    "sns.scatterplot(data=df, x='n', y='power');"
   ]
  },
  {
   "cell_type": "markdown",
   "id": "0b16c5a2",
   "metadata": {
    "slideshow": {
     "slide_type": "slide"
    }
   },
   "source": [
    "Wir schauen noch einmal feiner in den interessanten Abschnitt"
   ]
  },
  {
   "cell_type": "code",
   "execution_count": 27,
   "id": "372e9fda",
   "metadata": {
    "slideshow": {
     "slide_type": "-"
    }
   },
   "outputs": [
    {
     "data": {
      "text/html": [
       "<div>\n",
       "<style scoped>\n",
       "    .dataframe tbody tr th:only-of-type {\n",
       "        vertical-align: middle;\n",
       "    }\n",
       "\n",
       "    .dataframe tbody tr th {\n",
       "        vertical-align: top;\n",
       "    }\n",
       "\n",
       "    .dataframe thead th {\n",
       "        text-align: right;\n",
       "    }\n",
       "</style>\n",
       "<table border=\"1\" class=\"dataframe\">\n",
       "  <thead>\n",
       "    <tr style=\"text-align: right;\">\n",
       "      <th></th>\n",
       "      <th>n</th>\n",
       "      <th>c</th>\n",
       "      <th>power</th>\n",
       "    </tr>\n",
       "  </thead>\n",
       "  <tbody>\n",
       "    <tr>\n",
       "      <th>0</th>\n",
       "      <td>10200</td>\n",
       "      <td>52.0</td>\n",
       "      <td>0.869007</td>\n",
       "    </tr>\n",
       "    <tr>\n",
       "      <th>1</th>\n",
       "      <td>10201</td>\n",
       "      <td>52.0</td>\n",
       "      <td>0.869167</td>\n",
       "    </tr>\n",
       "    <tr>\n",
       "      <th>2</th>\n",
       "      <td>10202</td>\n",
       "      <td>52.0</td>\n",
       "      <td>0.869326</td>\n",
       "    </tr>\n",
       "    <tr>\n",
       "      <th>3</th>\n",
       "      <td>10203</td>\n",
       "      <td>52.0</td>\n",
       "      <td>0.869485</td>\n",
       "    </tr>\n",
       "    <tr>\n",
       "      <th>4</th>\n",
       "      <td>10204</td>\n",
       "      <td>52.0</td>\n",
       "      <td>0.869645</td>\n",
       "    </tr>\n",
       "    <tr>\n",
       "      <th>...</th>\n",
       "      <td>...</td>\n",
       "      <td>...</td>\n",
       "      <td>...</td>\n",
       "    </tr>\n",
       "    <tr>\n",
       "      <th>495</th>\n",
       "      <td>10695</td>\n",
       "      <td>54.0</td>\n",
       "      <td>0.889120</td>\n",
       "    </tr>\n",
       "    <tr>\n",
       "      <th>496</th>\n",
       "      <td>10696</td>\n",
       "      <td>54.0</td>\n",
       "      <td>0.889258</td>\n",
       "    </tr>\n",
       "    <tr>\n",
       "      <th>497</th>\n",
       "      <td>10697</td>\n",
       "      <td>54.0</td>\n",
       "      <td>0.889396</td>\n",
       "    </tr>\n",
       "    <tr>\n",
       "      <th>498</th>\n",
       "      <td>10698</td>\n",
       "      <td>54.0</td>\n",
       "      <td>0.889535</td>\n",
       "    </tr>\n",
       "    <tr>\n",
       "      <th>499</th>\n",
       "      <td>10699</td>\n",
       "      <td>54.0</td>\n",
       "      <td>0.889673</td>\n",
       "    </tr>\n",
       "  </tbody>\n",
       "</table>\n",
       "<p>500 rows × 3 columns</p>\n",
       "</div>"
      ],
      "text/plain": [
       "         n     c     power\n",
       "0    10200  52.0  0.869007\n",
       "1    10201  52.0  0.869167\n",
       "2    10202  52.0  0.869326\n",
       "3    10203  52.0  0.869485\n",
       "4    10204  52.0  0.869645\n",
       "..     ...   ...       ...\n",
       "495  10695  54.0  0.889120\n",
       "496  10696  54.0  0.889258\n",
       "497  10697  54.0  0.889396\n",
       "498  10698  54.0  0.889535\n",
       "499  10699  54.0  0.889673\n",
       "\n",
       "[500 rows x 3 columns]"
      ]
     },
     "execution_count": 27,
     "metadata": {},
     "output_type": "execute_result"
    }
   ],
   "source": [
    "dfein = pd.DataFrame()\n",
    "dfein['n'] = np.arange(10200, 10700)\n",
    "dfein['c'] = stats.binom(dfein.n, p0).ppf(1-alpha)\n",
    "dfein['power'] = 1 - stats.binom(dfein.n, p).cdf(dfein.c)\n",
    "dfein"
   ]
  },
  {
   "cell_type": "code",
   "execution_count": 28,
   "id": "ed6872d3",
   "metadata": {
    "slideshow": {
     "slide_type": "slide"
    }
   },
   "outputs": [
    {
     "data": {
      "image/png": "[encoded data removed]",
      "text/plain": [
       "<Figure size 640x480 with 1 Axes>"
      ]
     },
     "metadata": {},
     "output_type": "display_data"
    }
   ],
   "source": [
    "sns.scatterplot(data=dfein, x='n', y='power');"
   ]
  },
  {
   "cell_type": "markdown",
   "id": "7869ad8e",
   "metadata": {},
   "source": [
    "* Wir benötigen n=10600 "
   ]
  },
  {
   "cell_type": "markdown",
   "id": "eacf2348",
   "metadata": {
    "slideshow": {
     "slide_type": "slide"
    }
   },
   "source": [
    "* An den Stellen, wo die Kurve nach unten springt, ändert sich der kritische Wert\n",
    "* (falls das jemanden interessiert)"
   ]
  },
  {
   "cell_type": "markdown",
   "id": "816aaa5d",
   "metadata": {
    "slideshow": {
     "slide_type": "slide"
    }
   },
   "source": [
    "* In der Praxis würde man jetzt einen Stichprobenumfang von 10600 anstreben\n",
    "* Ich zeige nun, wie man die genaue Zahl bekommt\n",
    "* Dazu muss man die in `df` abgelegte Tabelle inspizieren"
   ]
  },
  {
   "cell_type": "code",
   "execution_count": 29,
   "id": "07653f71",
   "metadata": {},
   "outputs": [
    {
     "data": {
      "text/html": [
       "<div>\n",
       "<style scoped>\n",
       "    .dataframe tbody tr th:only-of-type {\n",
       "        vertical-align: middle;\n",
       "    }\n",
       "\n",
       "    .dataframe tbody tr th {\n",
       "        vertical-align: top;\n",
       "    }\n",
       "\n",
       "    .dataframe thead th {\n",
       "        text-align: right;\n",
       "    }\n",
       "</style>\n",
       "<table border=\"1\" class=\"dataframe\">\n",
       "  <thead>\n",
       "    <tr style=\"text-align: right;\">\n",
       "      <th></th>\n",
       "      <th>n</th>\n",
       "      <th>c</th>\n",
       "      <th>power</th>\n",
       "    </tr>\n",
       "  </thead>\n",
       "  <tbody>\n",
       "  </tbody>\n",
       "</table>\n",
       "</div>"
      ],
      "text/plain": [
       "Empty DataFrame\n",
       "Columns: [n, c, power]\n",
       "Index: []"
      ]
     },
     "execution_count": 29,
     "metadata": {},
     "output_type": "execute_result"
    }
   ],
   "source": [
    "df[df.power==0.90]"
   ]
  },
  {
   "cell_type": "markdown",
   "id": "c21bcf62",
   "metadata": {
    "slideshow": {
     "slide_type": "fragment"
    }
   },
   "source": [
    "* der genaue Wert wird nicht angenommen\n",
    "* daher ist die Tabelle leer\n",
    "* Ausweg:  Schachtelung"
   ]
  },
  {
   "cell_type": "code",
   "execution_count": 31,
   "id": "0c642508",
   "metadata": {
    "slideshow": {
     "slide_type": "slide"
    }
   },
   "outputs": [
    {
     "data": {
      "text/html": [
       "<div>\n",
       "<style scoped>\n",
       "    .dataframe tbody tr th:only-of-type {\n",
       "        vertical-align: middle;\n",
       "    }\n",
       "\n",
       "    .dataframe tbody tr th {\n",
       "        vertical-align: top;\n",
       "    }\n",
       "\n",
       "    .dataframe thead th {\n",
       "        text-align: right;\n",
       "    }\n",
       "</style>\n",
       "<table border=\"1\" class=\"dataframe\">\n",
       "  <thead>\n",
       "    <tr style=\"text-align: right;\">\n",
       "      <th></th>\n",
       "      <th>n</th>\n",
       "      <th>c</th>\n",
       "      <th>power</th>\n",
       "    </tr>\n",
       "  </thead>\n",
       "  <tbody>\n",
       "    <tr>\n",
       "      <th>5595</th>\n",
       "      <td>10595</td>\n",
       "      <td>53.0</td>\n",
       "      <td>0.899921</td>\n",
       "    </tr>\n",
       "    <tr>\n",
       "      <th>5596</th>\n",
       "      <td>10596</td>\n",
       "      <td>53.0</td>\n",
       "      <td>0.900050</td>\n",
       "    </tr>\n",
       "    <tr>\n",
       "      <th>5776</th>\n",
       "      <td>10776</td>\n",
       "      <td>54.0</td>\n",
       "      <td>0.899905</td>\n",
       "    </tr>\n",
       "    <tr>\n",
       "      <th>5777</th>\n",
       "      <td>10777</td>\n",
       "      <td>54.0</td>\n",
       "      <td>0.900033</td>\n",
       "    </tr>\n",
       "    <tr>\n",
       "      <th>5957</th>\n",
       "      <td>10957</td>\n",
       "      <td>55.0</td>\n",
       "      <td>0.899906</td>\n",
       "    </tr>\n",
       "    <tr>\n",
       "      <th>5958</th>\n",
       "      <td>10958</td>\n",
       "      <td>55.0</td>\n",
       "      <td>0.900033</td>\n",
       "    </tr>\n",
       "    <tr>\n",
       "      <th>6138</th>\n",
       "      <td>11138</td>\n",
       "      <td>56.0</td>\n",
       "      <td>0.899923</td>\n",
       "    </tr>\n",
       "    <tr>\n",
       "      <th>6139</th>\n",
       "      <td>11139</td>\n",
       "      <td>56.0</td>\n",
       "      <td>0.900049</td>\n",
       "    </tr>\n",
       "    <tr>\n",
       "      <th>6319</th>\n",
       "      <td>11319</td>\n",
       "      <td>57.0</td>\n",
       "      <td>0.899956</td>\n",
       "    </tr>\n",
       "    <tr>\n",
       "      <th>6320</th>\n",
       "      <td>11320</td>\n",
       "      <td>57.0</td>\n",
       "      <td>0.900081</td>\n",
       "    </tr>\n",
       "  </tbody>\n",
       "</table>\n",
       "</div>"
      ],
      "text/plain": [
       "          n     c     power\n",
       "5595  10595  53.0  0.899921\n",
       "5596  10596  53.0  0.900050\n",
       "5776  10776  54.0  0.899905\n",
       "5777  10777  54.0  0.900033\n",
       "5957  10957  55.0  0.899906\n",
       "5958  10958  55.0  0.900033\n",
       "6138  11138  56.0  0.899923\n",
       "6139  11139  56.0  0.900049\n",
       "6319  11319  57.0  0.899956\n",
       "6320  11320  57.0  0.900081"
      ]
     },
     "execution_count": 31,
     "metadata": {},
     "output_type": "execute_result"
    }
   ],
   "source": [
    "df[(0.8999 <= df.power) & (df.power <= 0.9001)]"
   ]
  },
  {
   "cell_type": "markdown",
   "id": "d3be4715",
   "metadata": {},
   "source": [
    "Das kleinste n, bei dem die Power mindestens 90% beträgt, ist 10596"
   ]
  },
  {
   "cell_type": "markdown",
   "id": "b3db741b",
   "metadata": {
    "slideshow": {
     "slide_type": "slide"
    }
   },
   "source": [
    "> `df[(0.8999 <= df.power) & (df.power <= 0.9001)]`\n",
    "\n",
    "* `df.power`: Spalte der Tabelle\n",
    "* `<`, `>`, `<=`, `>=`, `==`, `!=`: Vergleichsoperatoren\n",
    "* der letzte bedeutet \"ungleich\"\n",
    "* zwei Vergleiche werden verknüpft durch \n",
    "  * `&` \"und\"  (beide wahr)\n",
    "  * `|` \"oder\" (mindestens einer wahr)"
   ]
  }
 ],
 "metadata": {
  "celltoolbar": "Slideshow",
  "kernelspec": {
   "display_name": "Python 3 (ipykernel)",
   "language": "python",
   "name": "python3"
  },
  "language_info": {
   "codemirror_mode": {
    "name": "ipython",
    "version": 3
   },
   "file_extension": ".py",
   "mimetype": "text/x-python",
   "name": "python",
   "nbconvert_exporter": "python",
   "pygments_lexer": "ipython3",
   "version": "3.11.10"
  }
 },
 "nbformat": 4,
 "nbformat_minor": 5
}
