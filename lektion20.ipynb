{
 "cells": [
  {
   "cell_type": "markdown",
   "id": "67cd263b",
   "metadata": {
    "slideshow": {
     "slide_type": "slide"
    }
   },
   "source": [
    "# Mathematik für Biologiestudierende II\n",
    "\n",
    "Sommersemester 2025\n",
    "\n",
    "13.05.2025\n",
    "\n",
    "&copy; 2025 Prof. Dr. Rüdiger W. Braun "
   ]
  },
  {
   "cell_type": "code",
   "execution_count": 1,
   "id": "6d700937",
   "metadata": {
    "slideshow": {
     "slide_type": "slide"
    }
   },
   "outputs": [],
   "source": [
    "import numpy as np\n",
    "np.set_printoptions(legacy='1.21')\n",
    "import pandas as pd\n",
    "from scipy import stats\n",
    "import seaborn as sns\n",
    "sns.set_theme()"
   ]
  },
  {
   "cell_type": "markdown",
   "id": "8b19bc89",
   "metadata": {
    "slideshow": {
     "slide_type": "slide"
    }
   },
   "source": [
    "# Themen\n",
    "\n",
    "* $\\chi^2$-Unabhängigkeitsstest \n",
    "* Mosaik-Grafik\n",
    "* Durchführung mit `stats`\n",
    "* Anwendbarkeit"
   ]
  },
  {
   "cell_type": "markdown",
   "id": "ec809ead",
   "metadata": {
    "slideshow": {
     "slide_type": "slide"
    }
   },
   "source": [
    "# Tests für kategorielle Daten"
   ]
  },
  {
   "cell_type": "markdown",
   "id": "dcde8c53",
   "metadata": {
    "slideshow": {
     "slide_type": "slide"
    }
   },
   "source": [
    "# $\\chi^2$-Unabhängigkeitsstest "
   ]
  },
  {
   "cell_type": "markdown",
   "id": "07d028a9",
   "metadata": {
    "slideshow": {
     "slide_type": "fragment"
    }
   },
   "source": [
    "* Der Unabhängigkeitstest überprüft, ob zwei Merkmale stochastisch unabhängig sind\n",
    "* Die Zufallsvariablen $X_1, \\dots, X_n$ sind unabhängig mit gleicher Verteilung\n",
    "* Die Zufallsvariablen $Y_1, \\dots, Y_n$ sind unabhängig mit gleicher, aber möglicherweise anderer Verteilung\n",
    "* Die Zufallsvariable $X_j$ beschreibt ein Merkmal mit den Ausprägungen $w_1, \\dots, w_s$  \n",
    "* Die Zufallsvariable $Y_j$ beschreibt ein Merkmal mit den Ausprägungen $v_1, \\dots, v_r$\n",
    "* Die Nullhypothese ist $P(X_1=w_\\ell,\\,Y_1=v_k) = P(X_1=w_\\ell) \\cdot P(Y_1=v_k)$ für alle Wahlen von $k$ und $\\ell$ "
   ]
  },
  {
   "cell_type": "markdown",
   "id": "e74679d9",
   "metadata": {
    "slideshow": {
     "slide_type": "slide"
    }
   },
   "source": [
    "## Beispiel: Geschlechterverteilung in verschiedenen Fächern\n",
    "   \n",
    "Die Tafel zeigt die eingeschriebenen Erstsemester in einigen Fächern, sortiert nach Geschlecht\n",
    "\n",
    "|                | Biologie | Biochemie | Chemie | Pharmazie |\n",
    "|:---------------|----------|-----------|--------|-----------|\n",
    "| weiblich       | 237      | 31        | 136    | 56        |\n",
    "| nicht weiblich | 117      | 20        | 104    | 21        |\n",
    "\n",
    "Quelle: https://www.hhu.de/die-hhu/profil/facts-figures/die-universitaet-in-zahlen/studierendenstatistik\n",
    "\n",
    "<!--| Summe          | 354      | 51       | 240    | 77        |  -->"
   ]
  },
  {
   "cell_type": "markdown",
   "id": "9d98f0da",
   "metadata": {
    "slideshow": {
     "slide_type": "fragment"
    }
   },
   "source": [
    "* Frage: Unterscheiden sich die Geschlechterverhältnisse zwischen den Fächern signifikant zum Niveau $\\alpha = 0.05$\n",
    "* Das ist die Frage nach der Unabhängigkeit der Merkmale \"Studienfach\" und \"Geschlecht\""
   ]
  },
  {
   "cell_type": "markdown",
   "id": "c806b36e",
   "metadata": {
    "slideshow": {
     "slide_type": "slide"
    }
   },
   "source": [
    "## Kontingenztafel\n",
    "\n",
    "* Die oben abgebildete Tafel heißt *Kontingenztafel*\n",
    "* Wir geben sie als DataFrame ein"
   ]
  },
  {
   "cell_type": "code",
   "execution_count": 2,
   "id": "65732006",
   "metadata": {},
   "outputs": [
    {
     "data": {
      "text/html": [
       "<div>\n",
       "<style scoped>\n",
       "    .dataframe tbody tr th:only-of-type {\n",
       "        vertical-align: middle;\n",
       "    }\n",
       "\n",
       "    .dataframe tbody tr th {\n",
       "        vertical-align: top;\n",
       "    }\n",
       "\n",
       "    .dataframe thead th {\n",
       "        text-align: right;\n",
       "    }\n",
       "</style>\n",
       "<table border=\"1\" class=\"dataframe\">\n",
       "  <thead>\n",
       "    <tr style=\"text-align: right;\">\n",
       "      <th></th>\n",
       "      <th>Biologie</th>\n",
       "      <th>Biochemie</th>\n",
       "      <th>Chemie</th>\n",
       "      <th>Pharmazie</th>\n",
       "    </tr>\n",
       "  </thead>\n",
       "  <tbody>\n",
       "    <tr>\n",
       "      <th>weiblich</th>\n",
       "      <td>237</td>\n",
       "      <td>31</td>\n",
       "      <td>136</td>\n",
       "      <td>56</td>\n",
       "    </tr>\n",
       "    <tr>\n",
       "      <th>nicht weiblich</th>\n",
       "      <td>117</td>\n",
       "      <td>20</td>\n",
       "      <td>104</td>\n",
       "      <td>21</td>\n",
       "    </tr>\n",
       "  </tbody>\n",
       "</table>\n",
       "</div>"
      ],
      "text/plain": [
       "                Biologie  Biochemie  Chemie  Pharmazie\n",
       "weiblich             237         31     136         56\n",
       "nicht weiblich       117         20     104         21"
      ]
     },
     "execution_count": 2,
     "metadata": {},
     "output_type": "execute_result"
    }
   ],
   "source": [
    "tafel = pd.DataFrame(index=['weiblich', 'nicht weiblich'])\n",
    "tafel['Biologie'] = [237, 117]\n",
    "tafel['Biochemie'] = [31, 20]\n",
    "tafel['Chemie'] = [136, 104]\n",
    "tafel['Pharmazie'] = [56, 21]\n",
    "tafel"
   ]
  },
  {
   "cell_type": "code",
   "execution_count": 3,
   "id": "86be3146",
   "metadata": {
    "slideshow": {
     "slide_type": "slide"
    }
   },
   "outputs": [],
   "source": [
    "from statsmodels.graphics.mosaicplot import mosaic"
   ]
  },
  {
   "cell_type": "code",
   "execution_count": 4,
   "id": "c44804de",
   "metadata": {},
   "outputs": [
    {
     "data": {
      "image/png": "[encoded data removed]",
      "text/plain": [
       "<Figure size 640x480 with 3 Axes>"
      ]
     },
     "metadata": {},
     "output_type": "display_data"
    }
   ],
   "source": [
    "mosaic(tafel.stack());"
   ]
  },
  {
   "cell_type": "markdown",
   "id": "9062b329",
   "metadata": {
    "slideshow": {
     "slide_type": "slide"
    }
   },
   "source": [
    "Die ursprüngliche Kontingenztafel wird später noch gebraucht"
   ]
  },
  {
   "cell_type": "code",
   "execution_count": 5,
   "id": "b9681c37",
   "metadata": {},
   "outputs": [],
   "source": [
    "df = tafel.copy()   #  df = tafel würde nur einen zweiten Namen vergeben"
   ]
  },
  {
   "cell_type": "markdown",
   "id": "fa19f1ad",
   "metadata": {
    "slideshow": {
     "slide_type": "slide"
    }
   },
   "source": [
    "### Spaltensummen"
   ]
  },
  {
   "cell_type": "code",
   "execution_count": 6,
   "id": "9f422995",
   "metadata": {},
   "outputs": [
    {
     "data": {
      "text/plain": [
       "Biologie     354\n",
       "Biochemie     51\n",
       "Chemie       240\n",
       "Pharmazie     77\n",
       "dtype: int64"
      ]
     },
     "execution_count": 6,
     "metadata": {},
     "output_type": "execute_result"
    }
   ],
   "source": [
    "df.sum()"
   ]
  },
  {
   "cell_type": "code",
   "execution_count": 7,
   "id": "6ff62393",
   "metadata": {},
   "outputs": [
    {
     "data": {
      "text/html": [
       "<div>\n",
       "<style scoped>\n",
       "    .dataframe tbody tr th:only-of-type {\n",
       "        vertical-align: middle;\n",
       "    }\n",
       "\n",
       "    .dataframe tbody tr th {\n",
       "        vertical-align: top;\n",
       "    }\n",
       "\n",
       "    .dataframe thead th {\n",
       "        text-align: right;\n",
       "    }\n",
       "</style>\n",
       "<table border=\"1\" class=\"dataframe\">\n",
       "  <thead>\n",
       "    <tr style=\"text-align: right;\">\n",
       "      <th></th>\n",
       "      <th>Biologie</th>\n",
       "      <th>Biochemie</th>\n",
       "      <th>Chemie</th>\n",
       "      <th>Pharmazie</th>\n",
       "    </tr>\n",
       "  </thead>\n",
       "  <tbody>\n",
       "    <tr>\n",
       "      <th>weiblich</th>\n",
       "      <td>237</td>\n",
       "      <td>31</td>\n",
       "      <td>136</td>\n",
       "      <td>56</td>\n",
       "    </tr>\n",
       "    <tr>\n",
       "      <th>nicht weiblich</th>\n",
       "      <td>117</td>\n",
       "      <td>20</td>\n",
       "      <td>104</td>\n",
       "      <td>21</td>\n",
       "    </tr>\n",
       "    <tr>\n",
       "      <th>Summe</th>\n",
       "      <td>354</td>\n",
       "      <td>51</td>\n",
       "      <td>240</td>\n",
       "      <td>77</td>\n",
       "    </tr>\n",
       "  </tbody>\n",
       "</table>\n",
       "</div>"
      ],
      "text/plain": [
       "                Biologie  Biochemie  Chemie  Pharmazie\n",
       "weiblich             237         31     136         56\n",
       "nicht weiblich       117         20     104         21\n",
       "Summe                354         51     240         77"
      ]
     },
     "execution_count": 7,
     "metadata": {},
     "output_type": "execute_result"
    }
   ],
   "source": [
    "df.loc['Summe'] = df.sum()\n",
    "df"
   ]
  },
  {
   "cell_type": "markdown",
   "id": "0a514f3a",
   "metadata": {},
   "source": [
    "* `df.loc `…` ändert die **Zeile** mit dem entsprechenden Namen\n",
    "* wenn sie noch nicht existiert, dann wird die hinzugefügt"
   ]
  },
  {
   "cell_type": "markdown",
   "id": "d6efe332",
   "metadata": {
    "slideshow": {
     "slide_type": "slide"
    }
   },
   "source": [
    "### Zeilensummen"
   ]
  },
  {
   "cell_type": "code",
   "execution_count": 9,
   "id": "b6e9b731",
   "metadata": {},
   "outputs": [
    {
     "data": {
      "text/plain": [
       "weiblich          460\n",
       "nicht weiblich    262\n",
       "Summe             722\n",
       "dtype: int64"
      ]
     },
     "execution_count": 9,
     "metadata": {},
     "output_type": "execute_result"
    }
   ],
   "source": [
    "df.sum(axis=1)"
   ]
  },
  {
   "cell_type": "code",
   "execution_count": 10,
   "id": "31a69eda",
   "metadata": {},
   "outputs": [
    {
     "data": {
      "text/html": [
       "<div>\n",
       "<style scoped>\n",
       "    .dataframe tbody tr th:only-of-type {\n",
       "        vertical-align: middle;\n",
       "    }\n",
       "\n",
       "    .dataframe tbody tr th {\n",
       "        vertical-align: top;\n",
       "    }\n",
       "\n",
       "    .dataframe thead th {\n",
       "        text-align: right;\n",
       "    }\n",
       "</style>\n",
       "<table border=\"1\" class=\"dataframe\">\n",
       "  <thead>\n",
       "    <tr style=\"text-align: right;\">\n",
       "      <th></th>\n",
       "      <th>Biologie</th>\n",
       "      <th>Biochemie</th>\n",
       "      <th>Chemie</th>\n",
       "      <th>Pharmazie</th>\n",
       "      <th>Stud_insgesamt</th>\n",
       "    </tr>\n",
       "  </thead>\n",
       "  <tbody>\n",
       "    <tr>\n",
       "      <th>weiblich</th>\n",
       "      <td>237</td>\n",
       "      <td>31</td>\n",
       "      <td>136</td>\n",
       "      <td>56</td>\n",
       "      <td>460</td>\n",
       "    </tr>\n",
       "    <tr>\n",
       "      <th>nicht weiblich</th>\n",
       "      <td>117</td>\n",
       "      <td>20</td>\n",
       "      <td>104</td>\n",
       "      <td>21</td>\n",
       "      <td>262</td>\n",
       "    </tr>\n",
       "    <tr>\n",
       "      <th>Summe</th>\n",
       "      <td>354</td>\n",
       "      <td>51</td>\n",
       "      <td>240</td>\n",
       "      <td>77</td>\n",
       "      <td>722</td>\n",
       "    </tr>\n",
       "  </tbody>\n",
       "</table>\n",
       "</div>"
      ],
      "text/plain": [
       "                Biologie  Biochemie  Chemie  Pharmazie  Stud_insgesamt\n",
       "weiblich             237         31     136         56             460\n",
       "nicht weiblich       117         20     104         21             262\n",
       "Summe                354         51     240         77             722"
      ]
     },
     "execution_count": 10,
     "metadata": {},
     "output_type": "execute_result"
    }
   ],
   "source": [
    "df['Stud_insgesamt'] = df.sum(axis=1)\n",
    "df"
   ]
  },
  {
   "cell_type": "markdown",
   "id": "3491d9ed",
   "metadata": {
    "slideshow": {
     "slide_type": "slide"
    }
   },
   "source": [
    "Die Wahrscheinlichkeit, dass eine studierende Person weiblich ist, ist"
   ]
  },
  {
   "cell_type": "code",
   "execution_count": 11,
   "id": "34c182a2",
   "metadata": {},
   "outputs": [
    {
     "data": {
      "text/plain": [
       "0.6371191135734072"
      ]
     },
     "execution_count": 11,
     "metadata": {},
     "output_type": "execute_result"
    }
   ],
   "source": [
    "p_w = 460 / 722\n",
    "p_w"
   ]
  },
  {
   "cell_type": "markdown",
   "id": "b571a87c",
   "metadata": {
    "slideshow": {
     "slide_type": "fragment"
    }
   },
   "source": [
    "Die Wahrscheinlichkeit, dass eine Person Biologie studiert, ist"
   ]
  },
  {
   "cell_type": "code",
   "execution_count": 12,
   "id": "8e7a0362",
   "metadata": {},
   "outputs": [
    {
     "data": {
      "text/plain": [
       "0.4903047091412742"
      ]
     },
     "execution_count": 12,
     "metadata": {},
     "output_type": "execute_result"
    }
   ],
   "source": [
    "p_bio = 354 / 722\n",
    "p_bio"
   ]
  },
  {
   "cell_type": "markdown",
   "id": "1b35e923",
   "metadata": {
    "slideshow": {
     "slide_type": "slide"
    }
   },
   "source": [
    "Wenn Studienwahl und Geschlecht unabhängig sind, würde man im linken oberen Feld der Tafel den folgenden Wert erwarten"
   ]
  },
  {
   "cell_type": "code",
   "execution_count": 13,
   "id": "8c07e419",
   "metadata": {},
   "outputs": [
    {
     "data": {
      "text/plain": [
       "225.54016620498615"
      ]
     },
     "execution_count": 13,
     "metadata": {},
     "output_type": "execute_result"
    }
   ],
   "source": [
    "p_w * p_bio * 722"
   ]
  },
  {
   "cell_type": "markdown",
   "id": "72b6c4c0",
   "metadata": {
    "slideshow": {
     "slide_type": "fragment"
    }
   },
   "source": [
    "* Tatsächlich gibt es aber 237 weibliche Studierende der Biologie\n",
    "* Ist das signifikant?\n",
    "* Wie groß sind diese Abweichungen in den anderen Fächern?"
   ]
  },
  {
   "cell_type": "code",
   "execution_count": 14,
   "id": "972db14c",
   "metadata": {
    "slideshow": {
     "slide_type": "slide"
    }
   },
   "outputs": [
    {
     "data": {
      "text/plain": [
       "722"
      ]
     },
     "execution_count": 14,
     "metadata": {},
     "output_type": "execute_result"
    }
   ],
   "source": [
    "n = df.loc['Summe'].Stud_insgesamt\n",
    "n"
   ]
  },
  {
   "cell_type": "code",
   "execution_count": 15,
   "id": "7493479d",
   "metadata": {},
   "outputs": [
    {
     "data": {
      "text/plain": [
       "Biologie          0.490305\n",
       "Biochemie         0.070637\n",
       "Chemie            0.332410\n",
       "Pharmazie         0.106648\n",
       "Stud_insgesamt    1.000000\n",
       "Name: Summe, dtype: float64"
      ]
     },
     "execution_count": 15,
     "metadata": {},
     "output_type": "execute_result"
    }
   ],
   "source": [
    "p_faecher = df.loc['Summe'] / n\n",
    "p_faecher"
   ]
  },
  {
   "cell_type": "code",
   "execution_count": 16,
   "id": "806c19cb",
   "metadata": {
    "slideshow": {
     "slide_type": "fragment"
    }
   },
   "outputs": [
    {
     "data": {
      "text/plain": [
       "weiblich          0.637119\n",
       "nicht weiblich    0.362881\n",
       "Summe             1.000000\n",
       "Name: Stud_insgesamt, dtype: float64"
      ]
     },
     "execution_count": 16,
     "metadata": {},
     "output_type": "execute_result"
    }
   ],
   "source": [
    "p_geschlecht = df.Stud_insgesamt / n\n",
    "p_geschlecht"
   ]
  },
  {
   "cell_type": "markdown",
   "id": "2aae69d8",
   "metadata": {
    "slideshow": {
     "slide_type": "slide"
    }
   },
   "source": [
    "### Tafel der erwarteten Werte"
   ]
  },
  {
   "cell_type": "code",
   "execution_count": 17,
   "id": "a4cdc4fe",
   "metadata": {
    "slideshow": {
     "slide_type": "fragment"
    }
   },
   "outputs": [],
   "source": [
    "erwartet = pd.DataFrame(index = tafel.index)"
   ]
  },
  {
   "cell_type": "code",
   "execution_count": 18,
   "id": "d45997dd",
   "metadata": {},
   "outputs": [
    {
     "data": {
      "text/html": [
       "<div>\n",
       "<style scoped>\n",
       "    .dataframe tbody tr th:only-of-type {\n",
       "        vertical-align: middle;\n",
       "    }\n",
       "\n",
       "    .dataframe tbody tr th {\n",
       "        vertical-align: top;\n",
       "    }\n",
       "\n",
       "    .dataframe thead th {\n",
       "        text-align: right;\n",
       "    }\n",
       "</style>\n",
       "<table border=\"1\" class=\"dataframe\">\n",
       "  <thead>\n",
       "    <tr style=\"text-align: right;\">\n",
       "      <th></th>\n",
       "      <th>Biologie</th>\n",
       "      <th>Biochemie</th>\n",
       "      <th>Chemie</th>\n",
       "      <th>Pharmazie</th>\n",
       "    </tr>\n",
       "  </thead>\n",
       "  <tbody>\n",
       "    <tr>\n",
       "      <th>weiblich</th>\n",
       "      <td>225.540166</td>\n",
       "      <td>32.493075</td>\n",
       "      <td>152.908587</td>\n",
       "      <td>49.058172</td>\n",
       "    </tr>\n",
       "    <tr>\n",
       "      <th>nicht weiblich</th>\n",
       "      <td>128.459834</td>\n",
       "      <td>18.506925</td>\n",
       "      <td>87.091413</td>\n",
       "      <td>27.941828</td>\n",
       "    </tr>\n",
       "  </tbody>\n",
       "</table>\n",
       "</div>"
      ],
      "text/plain": [
       "                  Biologie  Biochemie      Chemie  Pharmazie\n",
       "weiblich        225.540166  32.493075  152.908587  49.058172\n",
       "nicht weiblich  128.459834  18.506925   87.091413  27.941828"
      ]
     },
     "execution_count": 18,
     "metadata": {},
     "output_type": "execute_result"
    }
   ],
   "source": [
    "erwartet['Biologie'] = n * p_faecher['Biologie'] * p_geschlecht\n",
    "erwartet['Biochemie'] = n * p_faecher['Biochemie'] * p_geschlecht\n",
    "erwartet['Chemie'] = n * p_faecher['Chemie'] * p_geschlecht\n",
    "erwartet['Pharmazie'] = n * p_faecher['Pharmazie'] * p_geschlecht\n",
    "erwartet"
   ]
  },
  {
   "cell_type": "code",
   "execution_count": 19,
   "id": "b60ccb9e",
   "metadata": {
    "slideshow": {
     "slide_type": "slide"
    }
   },
   "outputs": [
    {
     "data": {
      "image/png": "[encoded data removed]",
      "text/plain": [
       "<Figure size 640x480 with 3 Axes>"
      ]
     },
     "metadata": {},
     "output_type": "display_data"
    }
   ],
   "source": [
    "mosaic(erwartet.stack());"
   ]
  },
  {
   "cell_type": "markdown",
   "id": "753d8e3e",
   "metadata": {},
   "source": [
    "Das ist das Bild, wenn die beiden Zufallsvariablen unabhängig sind"
   ]
  },
  {
   "cell_type": "markdown",
   "id": "6db131fb",
   "metadata": {
    "slideshow": {
     "slide_type": "slide"
    }
   },
   "source": [
    "Das tatsächliche Bild ist "
   ]
  },
  {
   "cell_type": "code",
   "execution_count": 20,
   "id": "aed17c4e",
   "metadata": {},
   "outputs": [
    {
     "data": {
      "image/png": "[encoded data removed]",
      "text/plain": [
       "<Figure size 640x480 with 3 Axes>"
      ]
     },
     "metadata": {},
     "output_type": "display_data"
    }
   ],
   "source": [
    "mosaic(tafel.stack());"
   ]
  },
  {
   "cell_type": "markdown",
   "id": "7fe6fb7e",
   "metadata": {
    "slideshow": {
     "slide_type": "slide"
    }
   },
   "source": [
    "#### Differenzen"
   ]
  },
  {
   "cell_type": "code",
   "execution_count": 21,
   "id": "8189ad71",
   "metadata": {},
   "outputs": [
    {
     "data": {
      "text/html": [
       "<div>\n",
       "<style scoped>\n",
       "    .dataframe tbody tr th:only-of-type {\n",
       "        vertical-align: middle;\n",
       "    }\n",
       "\n",
       "    .dataframe tbody tr th {\n",
       "        vertical-align: top;\n",
       "    }\n",
       "\n",
       "    .dataframe thead th {\n",
       "        text-align: right;\n",
       "    }\n",
       "</style>\n",
       "<table border=\"1\" class=\"dataframe\">\n",
       "  <thead>\n",
       "    <tr style=\"text-align: right;\">\n",
       "      <th></th>\n",
       "      <th>Biologie</th>\n",
       "      <th>Biochemie</th>\n",
       "      <th>Chemie</th>\n",
       "      <th>Pharmazie</th>\n",
       "    </tr>\n",
       "  </thead>\n",
       "  <tbody>\n",
       "    <tr>\n",
       "      <th>weiblich</th>\n",
       "      <td>11.459834</td>\n",
       "      <td>-1.493075</td>\n",
       "      <td>-16.908587</td>\n",
       "      <td>6.941828</td>\n",
       "    </tr>\n",
       "    <tr>\n",
       "      <th>nicht weiblich</th>\n",
       "      <td>-11.459834</td>\n",
       "      <td>1.493075</td>\n",
       "      <td>16.908587</td>\n",
       "      <td>-6.941828</td>\n",
       "    </tr>\n",
       "  </tbody>\n",
       "</table>\n",
       "</div>"
      ],
      "text/plain": [
       "                 Biologie  Biochemie     Chemie  Pharmazie\n",
       "weiblich        11.459834  -1.493075 -16.908587   6.941828\n",
       "nicht weiblich -11.459834   1.493075  16.908587  -6.941828"
      ]
     },
     "execution_count": 21,
     "metadata": {},
     "output_type": "execute_result"
    }
   ],
   "source": [
    "tafel - erwartet"
   ]
  },
  {
   "cell_type": "markdown",
   "id": "92c3a9be",
   "metadata": {
    "slideshow": {
     "slide_type": "fragment"
    }
   },
   "source": [
    "* Weil es fünfmal so viele Biologiestudierende wie Pharmaziestudierende gibt, ist der Unterschied von 7 Studierenden in der Pharmazie gewichtiger als der von 11 in der Biologie\n",
    "* wir müssen die Differenzen normieren"
   ]
  },
  {
   "cell_type": "markdown",
   "id": "be09f58e",
   "metadata": {
    "slideshow": {
     "slide_type": "fragment"
    }
   },
   "source": [
    "* dabei werden die Differenzen quadriert und durch die erwarteten Werte geteilt"
   ]
  },
  {
   "cell_type": "markdown",
   "id": "b47319dc",
   "metadata": {
    "slideshow": {
     "slide_type": "slide"
    }
   },
   "source": [
    "### Tabelle der normierten Differenzen"
   ]
  },
  {
   "cell_type": "code",
   "execution_count": 22,
   "id": "816dabc7",
   "metadata": {},
   "outputs": [
    {
     "data": {
      "text/html": [
       "<div>\n",
       "<style scoped>\n",
       "    .dataframe tbody tr th:only-of-type {\n",
       "        vertical-align: middle;\n",
       "    }\n",
       "\n",
       "    .dataframe tbody tr th {\n",
       "        vertical-align: top;\n",
       "    }\n",
       "\n",
       "    .dataframe thead th {\n",
       "        text-align: right;\n",
       "    }\n",
       "</style>\n",
       "<table border=\"1\" class=\"dataframe\">\n",
       "  <thead>\n",
       "    <tr style=\"text-align: right;\">\n",
       "      <th></th>\n",
       "      <th>Biologie</th>\n",
       "      <th>Biochemie</th>\n",
       "      <th>Chemie</th>\n",
       "      <th>Pharmazie</th>\n",
       "    </tr>\n",
       "  </thead>\n",
       "  <tbody>\n",
       "    <tr>\n",
       "      <th>weiblich</th>\n",
       "      <td>0.582281</td>\n",
       "      <td>0.068608</td>\n",
       "      <td>1.869747</td>\n",
       "      <td>0.982282</td>\n",
       "    </tr>\n",
       "    <tr>\n",
       "      <th>nicht weiblich</th>\n",
       "      <td>1.022326</td>\n",
       "      <td>0.120456</td>\n",
       "      <td>3.282761</td>\n",
       "      <td>1.724618</td>\n",
       "    </tr>\n",
       "  </tbody>\n",
       "</table>\n",
       "</div>"
      ],
      "text/plain": [
       "                Biologie  Biochemie    Chemie  Pharmazie\n",
       "weiblich        0.582281   0.068608  1.869747   0.982282\n",
       "nicht weiblich  1.022326   0.120456  3.282761   1.724618"
      ]
     },
     "execution_count": 22,
     "metadata": {},
     "output_type": "execute_result"
    }
   ],
   "source": [
    "differenzen = (tafel-erwartet)**2 / erwartet\n",
    "differenzen"
   ]
  },
  {
   "cell_type": "markdown",
   "id": "16e729aa",
   "metadata": {
    "slideshow": {
     "slide_type": "fragment"
    }
   },
   "source": [
    "Jetzt müssen wir wieder die Summen ausrechnen"
   ]
  },
  {
   "cell_type": "code",
   "execution_count": 23,
   "id": "47340c85",
   "metadata": {},
   "outputs": [
    {
     "data": {
      "text/html": [
       "<div>\n",
       "<style scoped>\n",
       "    .dataframe tbody tr th:only-of-type {\n",
       "        vertical-align: middle;\n",
       "    }\n",
       "\n",
       "    .dataframe tbody tr th {\n",
       "        vertical-align: top;\n",
       "    }\n",
       "\n",
       "    .dataframe thead th {\n",
       "        text-align: right;\n",
       "    }\n",
       "</style>\n",
       "<table border=\"1\" class=\"dataframe\">\n",
       "  <thead>\n",
       "    <tr style=\"text-align: right;\">\n",
       "      <th></th>\n",
       "      <th>Biologie</th>\n",
       "      <th>Biochemie</th>\n",
       "      <th>Chemie</th>\n",
       "      <th>Pharmazie</th>\n",
       "    </tr>\n",
       "  </thead>\n",
       "  <tbody>\n",
       "    <tr>\n",
       "      <th>weiblich</th>\n",
       "      <td>0.582281</td>\n",
       "      <td>0.068608</td>\n",
       "      <td>1.869747</td>\n",
       "      <td>0.982282</td>\n",
       "    </tr>\n",
       "    <tr>\n",
       "      <th>nicht weiblich</th>\n",
       "      <td>1.022326</td>\n",
       "      <td>0.120456</td>\n",
       "      <td>3.282761</td>\n",
       "      <td>1.724618</td>\n",
       "    </tr>\n",
       "    <tr>\n",
       "      <th>Summe</th>\n",
       "      <td>1.604607</td>\n",
       "      <td>0.189064</td>\n",
       "      <td>5.152508</td>\n",
       "      <td>2.706900</td>\n",
       "    </tr>\n",
       "  </tbody>\n",
       "</table>\n",
       "</div>"
      ],
      "text/plain": [
       "                Biologie  Biochemie    Chemie  Pharmazie\n",
       "weiblich        0.582281   0.068608  1.869747   0.982282\n",
       "nicht weiblich  1.022326   0.120456  3.282761   1.724618\n",
       "Summe           1.604607   0.189064  5.152508   2.706900"
      ]
     },
     "execution_count": 23,
     "metadata": {},
     "output_type": "execute_result"
    }
   ],
   "source": [
    "differenzen.loc['Summe'] = differenzen.sum()\n",
    "differenzen"
   ]
  },
  {
   "cell_type": "code",
   "execution_count": 24,
   "id": "48585d0a",
   "metadata": {
    "slideshow": {
     "slide_type": "slide"
    }
   },
   "outputs": [
    {
     "data": {
      "text/plain": [
       "9.653079025502825"
      ]
     },
     "execution_count": 24,
     "metadata": {},
     "output_type": "execute_result"
    }
   ],
   "source": [
    "Gesamtsumme = sum(differenzen.loc['Summe'])\n",
    "Gesamtsumme"
   ]
  },
  {
   "cell_type": "markdown",
   "id": "b4649b2f",
   "metadata": {
    "slideshow": {
     "slide_type": "fragment"
    }
   },
   "source": [
    "Das ist die Teststatistik"
   ]
  },
  {
   "cell_type": "code",
   "execution_count": 25,
   "id": "0c70bcfa",
   "metadata": {},
   "outputs": [],
   "source": [
    "t = Gesamtsumme"
   ]
  },
  {
   "cell_type": "markdown",
   "id": "da9c0092",
   "metadata": {
    "slideshow": {
     "slide_type": "slide"
    }
   },
   "source": [
    "* Die zum $\\chi^2$-Unabhängigkeitstest gehörende Verteilung ist die $\\chi^2$-Verteilung\n",
    "* Sie wird aufgerufen als `stats.chi2`\n",
    "* Sie ist abhängig von der Zahl der Freiheitsgrade\n",
    "* Wenn die Kontingenztafel $r$ Zeilen und $c$ Spalten hat, dann ist die Zahl der Freiheitsgrade gleich $(r-1) \\cdot (c-1)$"
   ]
  },
  {
   "cell_type": "markdown",
   "id": "44216992",
   "metadata": {
    "slideshow": {
     "slide_type": "fragment"
    }
   },
   "source": [
    "* Im Beispiel ist das $(2-1) \\cdot (4-1) = 3$ "
   ]
  },
  {
   "cell_type": "code",
   "execution_count": 26,
   "id": "1c53f7c6",
   "metadata": {},
   "outputs": [],
   "source": [
    "P = stats.chi2(3)"
   ]
  },
  {
   "cell_type": "code",
   "execution_count": 27,
   "id": "f6c3e894",
   "metadata": {
    "slideshow": {
     "slide_type": "fragment"
    }
   },
   "outputs": [
    {
     "data": {
      "text/plain": [
       "0.021757400637373303"
      ]
     },
     "execution_count": 27,
     "metadata": {},
     "output_type": "execute_result"
    }
   ],
   "source": [
    "p = 1 - P.cdf(t)\n",
    "p"
   ]
  },
  {
   "cell_type": "markdown",
   "id": "9cf6ef55",
   "metadata": {
    "slideshow": {
     "slide_type": "fragment"
    }
   },
   "source": [
    "* Der *p*-Wert beträgt 0.022\n",
    "* Der Unterschied ist signifikant"
   ]
  },
  {
   "cell_type": "markdown",
   "id": "2417c438",
   "metadata": {
    "slideshow": {
     "slide_type": "fragment"
    }
   },
   "source": [
    "* letztes Jahr war er das nicht"
   ]
  },
  {
   "cell_type": "markdown",
   "id": "95aaa78d",
   "metadata": {
    "slideshow": {
     "slide_type": "slide"
    }
   },
   "source": [
    "## Berechnung mit `stats`\n",
    "\n",
    "* Das geht auch automatisch\n",
    "* Achtung:  Es muss die ursprüngliche Kontingenztafel ohne hinzugefügte Summenzeilen oder -spalten verwendet werden"
   ]
  },
  {
   "cell_type": "code",
   "execution_count": 28,
   "id": "f30a476f",
   "metadata": {},
   "outputs": [
    {
     "data": {
      "text/plain": [
       "Chi2ContingencyResult(statistic=9.65307902550282, pvalue=0.021757400637373383, dof=3, expected_freq=array([[225.5401662 ,  32.49307479, 152.90858726,  49.05817175],\n",
       "       [128.4598338 ,  18.50692521,  87.09141274,  27.94182825]]))"
      ]
     },
     "execution_count": 28,
     "metadata": {},
     "output_type": "execute_result"
    }
   ],
   "source": [
    "res = stats.chi2_contingency(tafel)\n",
    "res"
   ]
  },
  {
   "cell_type": "code",
   "execution_count": 29,
   "id": "6cfcb655",
   "metadata": {},
   "outputs": [
    {
     "data": {
      "text/plain": [
       "0.021757400637373383"
      ]
     },
     "execution_count": 29,
     "metadata": {},
     "output_type": "execute_result"
    }
   ],
   "source": [
    "res.pvalue"
   ]
  },
  {
   "cell_type": "code",
   "execution_count": 30,
   "id": "8a2a06ae",
   "metadata": {},
   "outputs": [
    {
     "data": {
      "text/plain": [
       "9.65307902550282"
      ]
     },
     "execution_count": 30,
     "metadata": {},
     "output_type": "execute_result"
    }
   ],
   "source": [
    "res.statistic"
   ]
  },
  {
   "cell_type": "markdown",
   "id": "a1e49bae",
   "metadata": {
    "slideshow": {
     "slide_type": "slide"
    }
   },
   "source": [
    "Tabelle der erwarteten Werte (aber ohne Überschriften)"
   ]
  },
  {
   "cell_type": "code",
   "execution_count": 31,
   "id": "31c90f8c",
   "metadata": {},
   "outputs": [
    {
     "data": {
      "text/html": [
       "<div>\n",
       "<style scoped>\n",
       "    .dataframe tbody tr th:only-of-type {\n",
       "        vertical-align: middle;\n",
       "    }\n",
       "\n",
       "    .dataframe tbody tr th {\n",
       "        vertical-align: top;\n",
       "    }\n",
       "\n",
       "    .dataframe thead th {\n",
       "        text-align: right;\n",
       "    }\n",
       "</style>\n",
       "<table border=\"1\" class=\"dataframe\">\n",
       "  <thead>\n",
       "    <tr style=\"text-align: right;\">\n",
       "      <th></th>\n",
       "      <th>0</th>\n",
       "      <th>1</th>\n",
       "      <th>2</th>\n",
       "      <th>3</th>\n",
       "    </tr>\n",
       "  </thead>\n",
       "  <tbody>\n",
       "    <tr>\n",
       "      <th>0</th>\n",
       "      <td>225.540166</td>\n",
       "      <td>32.493075</td>\n",
       "      <td>152.908587</td>\n",
       "      <td>49.058172</td>\n",
       "    </tr>\n",
       "    <tr>\n",
       "      <th>1</th>\n",
       "      <td>128.459834</td>\n",
       "      <td>18.506925</td>\n",
       "      <td>87.091413</td>\n",
       "      <td>27.941828</td>\n",
       "    </tr>\n",
       "  </tbody>\n",
       "</table>\n",
       "</div>"
      ],
      "text/plain": [
       "            0          1           2          3\n",
       "0  225.540166  32.493075  152.908587  49.058172\n",
       "1  128.459834  18.506925   87.091413  27.941828"
      ]
     },
     "execution_count": 31,
     "metadata": {},
     "output_type": "execute_result"
    }
   ],
   "source": [
    "pd.DataFrame(res.expected_freq)"
   ]
  },
  {
   "cell_type": "markdown",
   "id": "d68060ff",
   "metadata": {
    "slideshow": {
     "slide_type": "fragment"
    }
   },
   "source": [
    "Zahl der Freiheitsgrade"
   ]
  },
  {
   "cell_type": "code",
   "execution_count": 32,
   "id": "83ab5d61",
   "metadata": {},
   "outputs": [
    {
     "data": {
      "text/plain": [
       "3"
      ]
     },
     "execution_count": 32,
     "metadata": {},
     "output_type": "execute_result"
    }
   ],
   "source": [
    "res.dof"
   ]
  },
  {
   "cell_type": "markdown",
   "id": "e9369c92",
   "metadata": {
    "slideshow": {
     "slide_type": "slide"
    }
   },
   "source": [
    "## Anwendbarkeit"
   ]
  },
  {
   "cell_type": "markdown",
   "id": "29485b4b",
   "metadata": {},
   "source": [
    "* Der $\\chi^2$-Unabhängigkeitstest beruht auf einer Approximation\n",
    "* Er ist nur zulässig, wenn alle erwarteten Werte mindestens den Wert 5 haben"
   ]
  }
 ],
 "metadata": {
  "celltoolbar": "Slideshow",
  "kernelspec": {
   "display_name": "Python 3 (ipykernel)",
   "language": "python",
   "name": "python3"
  },
  "language_info": {
   "codemirror_mode": {
    "name": "ipython",
    "version": 3
   },
   "file_extension": ".py",
   "mimetype": "text/x-python",
   "name": "python",
   "nbconvert_exporter": "python",
   "pygments_lexer": "ipython3",
   "version": "3.12.7"
  }
 },
 "nbformat": 4,
 "nbformat_minor": 5
}
