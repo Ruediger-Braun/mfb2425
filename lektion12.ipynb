{
 "cells": [
  {
   "cell_type": "markdown",
   "id": "97e910de",
   "metadata": {
    "slideshow": {
     "slide_type": "slide"
    }
   },
   "source": [
    "# Mathematik für Biologiestudierende\n",
    "\n",
    "Wintersemester 2024/25\n",
    "\n",
    "08.01.2025\n",
    "\n",
    "&copy; 2025 Prof. Dr. Rüdiger W. Braun "
   ]
  },
  {
   "cell_type": "markdown",
   "id": "d262c97d",
   "metadata": {
    "slideshow": {
     "slide_type": "slide"
    }
   },
   "source": [
    "## Normalapproximation\n",
    "\n",
    "* $X$ sei $B(n,p)$-verteilt\n",
    "* Es gilt näherungsweise für natürliche Zahlen $a < b$\n",
    "\n",
    "$$     P(a \\le X \\le b) \n",
    "      \\cong \\Phi\\!\\left( \\frac{b - n \\cdot p}{\\sqrt{n \\cdot p\n",
    "            \\cdot (1-p)}} \\right) - \\Phi\\!\\left( \\frac{a - n\n",
    "          \\cdot p}{\\sqrt{n \\cdot p \\cdot (1-p)}} \\right)  $$\n",
    "\n",
    "* Wenn $a = 0$ oder $b = n$ ist, braucht man nur einen Term\n",
    "\n",
    "\\begin{align*}\n",
    "      P(a \\le X)\n",
    "      &\\cong 1 - \\Phi\\!\\left( \\frac{a - n \\cdot p}{\\sqrt{n \\cdot\n",
    "            p \\cdot (1-p)}} \\right) \\\\\n",
    "      P(X \\le b) \n",
    "      &\\cong \\Phi\\!\\left( \\frac{b - n \\cdot p}{\\sqrt{n \\cdot p\n",
    "            \\cdot (1-p)}} \\right) \n",
    "\\end{align*}  "
   ]
  },
  {
   "cell_type": "markdown",
   "id": "1adbcbdd",
   "metadata": {
    "slideshow": {
     "slide_type": "slide"
    }
   },
   "source": [
    "# Normalapproximation zur Versuchsplanung\n",
    "\n",
    "## Extinktionsexperiment\n",
    "\n",
    "* Ein Extinktionsexperiment wird geplant, bei dem die Versuchstiere eine einmal erlernte Aufgabe wieder verlernen   sollen.  Dazu sollen zuerst mindestens 50 Tiere diese Handlung erlernen.  Aus früheren Versuchen weiß man, dass dies nur bei 80% der Versuchstiere gelingt. \n",
    "* Wenn man also zu Beginn der Verlernphase 50 Tiere haben will, welche die Aufgabe gelernt haben, dann muss man deutlich mehr als diese 50 Tiere trainieren.\n",
    "* Wir wollen zu 90% sicher sein, dass mindestens 50 Tiere die Aufgabe gelernt haben"
   ]
  },
  {
   "cell_type": "markdown",
   "id": "e7b951eb",
   "metadata": {
    "slideshow": {
     "slide_type": "slide"
    }
   },
   "source": [
    "### Normalapproximation\n",
    "\n",
    "* $X$ ist die Anzahl der Tiere, welche die Aufgabe gelernt haben\n",
    "* $X$ ist $B_{n,p}$-verteilt für $p=0.8$ und *unbekanntes* n\n",
    "* Ziel\n",
    "$$ P(50 \\le X) \\ge 0.9  $$"
   ]
  },
  {
   "cell_type": "markdown",
   "id": "76c88811",
   "metadata": {
    "slideshow": {
     "slide_type": "fragment"
    }
   },
   "source": [
    "$$ P(50 \\le X) \\cong 1 - \\Phi\\left( \\frac{50 - 0.8 \\cdot n}{\\sqrt{n \\cdot 0.8 \\cdot 0.2}} \\right) \n",
    "\\overset{!}{=} 0.9\n",
    "$$"
   ]
  },
  {
   "cell_type": "markdown",
   "id": "24d0fd49",
   "metadata": {
    "slideshow": {
     "slide_type": "fragment"
    }
   },
   "source": [
    "Das bedeutet\n",
    "$$  \\Phi\\left( \\frac{50 - 0.8 \\cdot n}{\\sqrt{0.16 \\cdot n}} \\right) = 0.1\n",
    "$$"
   ]
  },
  {
   "cell_type": "markdown",
   "id": "993ef3cc",
   "metadata": {
    "slideshow": {
     "slide_type": "slide"
    }
   },
   "source": [
    "* Wir benötigen das $u$ mit $\\Phi(u) = 0.1$.  \n",
    "* Das ist das Quantil $q_{0.1}$"
   ]
  },
  {
   "cell_type": "code",
   "execution_count": 47,
   "id": "3fb72009",
   "metadata": {},
   "outputs": [
    {
     "data": {
      "text/plain": [
       "-1.2815515655446004"
      ]
     },
     "execution_count": 47,
     "metadata": {},
     "output_type": "execute_result"
    }
   ],
   "source": [
    "import numpy as np\n",
    "np.set_printoptions(legacy='1.21')\n",
    "from scipy import stats\n",
    "Phi = stats.norm()\n",
    "Phi.ppf(0.1)"
   ]
  },
  {
   "cell_type": "markdown",
   "id": "ce0b3d19",
   "metadata": {
    "slideshow": {
     "slide_type": "slide"
    }
   },
   "source": [
    "* neue Gleichung\n",
    "$$ \\frac{50 - 0.8 \\cdot n}{\\sqrt{0.16 \\cdot n}} = -1.28155  $$ "
   ]
  },
  {
   "cell_type": "markdown",
   "id": "4c03ae10",
   "metadata": {
    "slideshow": {
     "slide_type": "fragment"
    }
   },
   "source": [
    "Nenner hochmultiplizieren"
   ]
  },
  {
   "cell_type": "code",
   "execution_count": 48,
   "id": "416eba10",
   "metadata": {},
   "outputs": [
    {
     "data": {
      "text/plain": [
       "-0.51262"
      ]
     },
     "execution_count": 48,
     "metadata": {},
     "output_type": "execute_result"
    }
   ],
   "source": [
    "-1.28155 * np.sqrt(0.16)"
   ]
  },
  {
   "cell_type": "markdown",
   "id": "960b7915",
   "metadata": {
    "slideshow": {
     "slide_type": "fragment"
    }
   },
   "source": [
    "$$ 50 - 0.8n = -0.51262 \\sqrt n  $$"
   ]
  },
  {
   "cell_type": "markdown",
   "id": "c6048eff",
   "metadata": {
    "slideshow": {
     "slide_type": "slide"
    }
   },
   "source": [
    "Trick:  Wir nennen $\\sqrt n$ mal kurz $x$ und bringen alles auf die linke Seite.  Dann können wir mit der p-q-Formel weitermachen\n",
    "\n",
    "\n",
    "$$  50 - 0.8 x^2 + 0.51262 x = 0 $$ "
   ]
  },
  {
   "cell_type": "code",
   "execution_count": 49,
   "id": "a432b51d",
   "metadata": {},
   "outputs": [
    {
     "data": {
      "text/plain": [
       "62.5"
      ]
     },
     "execution_count": 49,
     "metadata": {},
     "output_type": "execute_result"
    }
   ],
   "source": [
    "50 / 0.8"
   ]
  },
  {
   "cell_type": "code",
   "execution_count": 50,
   "id": "921b31cb",
   "metadata": {},
   "outputs": [
    {
     "data": {
      "text/plain": [
       "0.6407749999999999"
      ]
     },
     "execution_count": 50,
     "metadata": {},
     "output_type": "execute_result"
    }
   ],
   "source": [
    "0.51262 / 0.8"
   ]
  },
  {
   "cell_type": "markdown",
   "id": "c9e70bdb",
   "metadata": {
    "slideshow": {
     "slide_type": "fragment"
    }
   },
   "source": [
    "$$ x^2 - 0.640775x - 62.5 = 0    $$"
   ]
  },
  {
   "cell_type": "markdown",
   "id": "ad9e0315",
   "metadata": {
    "slideshow": {
     "slide_type": "fragment"
    }
   },
   "source": [
    "$$ x = \\frac{0.640775}2 \\pm \\sqrt{\\frac{0.640775^2}4 + 62.5} $$\n",
    "\n",
    "Die negative Lösung ist unsinnig"
   ]
  },
  {
   "cell_type": "code",
   "execution_count": 51,
   "id": "9c758d7f",
   "metadata": {
    "slideshow": {
     "slide_type": "slide"
    }
   },
   "outputs": [
    {
     "data": {
      "text/plain": [
       "8.232571026066383"
      ]
     },
     "execution_count": 51,
     "metadata": {},
     "output_type": "execute_result"
    }
   ],
   "source": [
    "x = 0.640775 / 2 + np.sqrt(0.640775**2/4 + 62.5)\n",
    "x"
   ]
  },
  {
   "cell_type": "code",
   "execution_count": 52,
   "id": "7c7d001e",
   "metadata": {},
   "outputs": [
    {
     "data": {
      "text/plain": [
       "67.77522569922769"
      ]
     },
     "execution_count": 52,
     "metadata": {},
     "output_type": "execute_result"
    }
   ],
   "source": [
    "n = x**2\n",
    "n"
   ]
  },
  {
   "cell_type": "markdown",
   "id": "a997411a",
   "metadata": {},
   "source": [
    "Also 68 Tiere.\n",
    "\n",
    "Das ist dasselbe Ergebnis, das wir in Lektion 6 mit zwei anderen Methoden herausbekommen hatten."
   ]
  },
  {
   "cell_type": "markdown",
   "id": "2f4144d1",
   "metadata": {
    "slideshow": {
     "slide_type": "slide"
    }
   },
   "source": [
    "# t-Test für Erwartungswerte"
   ]
  },
  {
   "cell_type": "markdown",
   "id": "53e5d419",
   "metadata": {
    "slideshow": {
     "slide_type": "slide"
    }
   },
   "source": [
    "## Verbundene und unverbundene Stichproben\n",
    "\n",
    "* Zwei Versuchsreihen liefern Messergebnisse.  Der Test soll entscheiden, ob sich diese Ergebnisse signifikant unterscheiden.\n",
    "\n",
    "* *Unverbundene Stichproben:* Die Messerergebnisse werden an verschiedenen Populationen gewonnen.\n",
    "\n",
    "  Beispiel: 9 Maisfelder werden mit einem Bodenbakterium behandelt, 10 weitere bleiben unbehandelt.  Bei allen wird der Befall mit Maiszünsler bestimmt.\n",
    "\n",
    "* *Verbundene Stichproben:* Beide Messungen werden an derselben Population durchgeführt.\n",
    "\n",
    "  Beispiel: Bei 10 Patienten mit Bluthochdruck wird der Blutdruck vor und nach einer Therapie bestimmt."
   ]
  },
  {
   "cell_type": "markdown",
   "id": "3cc16031",
   "metadata": {
    "slideshow": {
     "slide_type": "slide"
    }
   },
   "source": [
    "## Teststatistik für verbundene Stichproben\n",
    "\n",
    "* Ein Versuch wird $n$-mal durchgeführt\n",
    "* Ein Parameter wird geändert \n",
    "* Der Versuch wird mit dem geänderten Parameter mit *demselben* Kollektiv wiederholt\n",
    "* Die Messergebnisse werden verglichen "
   ]
  },
  {
   "cell_type": "markdown",
   "id": "120fb1a5",
   "metadata": {
    "slideshow": {
     "slide_type": "slide"
    }
   },
   "source": [
    "# t-Test zum Vergleich zweier Erwartungswerte bei verbundenen Stichproben\n",
    "\n",
    "* Gegeben sind Zufallsvariable $X_1, \\dots, X_n$ und $Y_1, \\dots, Y_n$\n",
    "* Verteilungsvoraussetzungen:\n",
    "  * Alle $X_j$ sind normalverteilt mit unbekanntem Erwartungswert $\\mu_1$ und unbekannter Varianz $\\sigma^2$\n",
    "  * Alle $Y_j$ sind normalverteilt mit unbekanntem Erwartungswert $\\mu_2$ und unbekannter Varianz $\\sigma^2$\n",
    "  * Die beiden Varianzen müssen also gleich sein\n",
    "* Ziel: $\\mu_1$ und $\\mu_2$ sollen verglichen werden"
   ]
  },
  {
   "cell_type": "markdown",
   "id": "6a2cde7d",
   "metadata": {
    "slideshow": {
     "slide_type": "slide"
    }
   },
   "source": [
    "* $x_j$ und $ y_j$ seien Realisierungen (d.h. die Daten)\n",
    "* $z_j = x_j - y_j$ seien die Differenzen\n",
    "* Bestimme arithmetischen Mittelwert\n",
    "$$      \\overline z = \\frac1n \\sum_{j=1}^n z_j   $$\n",
    "* und Stichprobenstreuung\n",
    "$$      s = \\sqrt{ \\frac1{n-1} \\sum_{j=1}^n (z_j - \\overline z)^2 } $$"
   ]
  },
  {
   "cell_type": "markdown",
   "id": "42d6e597",
   "metadata": {
    "slideshow": {
     "slide_type": "fragment"
    }
   },
   "source": [
    "* Die *Teststatistik* ist\n",
    "$$        t = \\frac{\\overline z}s \\cdot \\sqrt{n}  $$\n",
    "* Die Teststatistik wird mit einem Quantil der $t$-Verteilung verglichen "
   ]
  },
  {
   "cell_type": "markdown",
   "id": "e8729590",
   "metadata": {
    "slideshow": {
     "slide_type": "slide"
    }
   },
   "source": [
    "# Die t-Verteilung\n",
    "\n",
    "* Wenn kein Unterschied zwischen $X_j$ und $Y_j$ besteht, dann ist die Teststatistik für große $n$ annähernd standardnormalverteilt\n",
    "* Die tatsächliche Verteilung der Teststatistik ist die $t$-Verteilung mit $(n-1)$ Freiheitsgraden\n",
    "* Die $t$-Verteilung mit $f$ Freiheitsgraden ist in scipy implementiert als <code>stats.t(f)</code>"
   ]
  },
  {
   "cell_type": "code",
   "execution_count": 53,
   "id": "2d631e2c",
   "metadata": {
    "slideshow": {
     "slide_type": "fragment"
    }
   },
   "outputs": [],
   "source": [
    "from scipy import stats"
   ]
  },
  {
   "cell_type": "code",
   "execution_count": 54,
   "id": "fd2df8a4",
   "metadata": {},
   "outputs": [],
   "source": [
    "P = stats.t(30)"
   ]
  },
  {
   "cell_type": "markdown",
   "id": "cee17527",
   "metadata": {},
   "source": [
    "Die Verteilungsfunktion heißt wie immer <code>cdf</code>"
   ]
  },
  {
   "cell_type": "code",
   "execution_count": 55,
   "id": "2ccece8e",
   "metadata": {},
   "outputs": [
    {
     "data": {
      "text/plain": [
       "0.5"
      ]
     },
     "execution_count": 55,
     "metadata": {},
     "output_type": "execute_result"
    }
   ],
   "source": [
    "P.cdf(0)"
   ]
  },
  {
   "cell_type": "markdown",
   "id": "84f07983",
   "metadata": {
    "slideshow": {
     "slide_type": "slide"
    }
   },
   "source": [
    "Das Quantil heißt <code>ppf</code>"
   ]
  },
  {
   "cell_type": "code",
   "execution_count": 56,
   "id": "fff23268",
   "metadata": {},
   "outputs": [
    {
     "data": {
      "text/plain": [
       "1.6972608865939571"
      ]
     },
     "execution_count": 56,
     "metadata": {},
     "output_type": "execute_result"
    }
   ],
   "source": [
    "P.ppf(0.95)"
   ]
  },
  {
   "cell_type": "markdown",
   "id": "aed3d9dd",
   "metadata": {},
   "source": [
    "Zum Vergleich"
   ]
  },
  {
   "cell_type": "code",
   "execution_count": 57,
   "id": "00c3b046",
   "metadata": {},
   "outputs": [
    {
     "data": {
      "text/plain": [
       "1.6448536269514722"
      ]
     },
     "execution_count": 57,
     "metadata": {},
     "output_type": "execute_result"
    }
   ],
   "source": [
    "stats.norm().ppf(0.95)"
   ]
  },
  {
   "cell_type": "markdown",
   "id": "83784a15",
   "metadata": {
    "slideshow": {
     "slide_type": "slide"
    }
   },
   "source": [
    "* Die Quantile der t-Verteilungen sind größer als die entsprechenden Quantile der Standardnormalverteilung"
   ]
  },
  {
   "cell_type": "markdown",
   "id": "15a9c600",
   "metadata": {
    "slideshow": {
     "slide_type": "fragment"
    }
   },
   "source": [
    "* Das führt dazu dass es schwerer ist, die Nullhypothese abzulehnen"
   ]
  },
  {
   "cell_type": "markdown",
   "id": "815adeee",
   "metadata": {
    "slideshow": {
     "slide_type": "fragment"
    }
   },
   "source": [
    "* Das ist der Preis, den wir dafür zahlen müssen, dass wir die Varianz nicht wissen, sondern aus den Daten schätzen müssen"
   ]
  },
  {
   "cell_type": "markdown",
   "id": "9ff00319",
   "metadata": {
    "slideshow": {
     "slide_type": "fragment"
    }
   },
   "source": [
    "* Der Unterschied ist umso größer, je kleiner der Stichprobenumfang ist"
   ]
  },
  {
   "cell_type": "markdown",
   "id": "fafc7fa3",
   "metadata": {
    "slideshow": {
     "slide_type": "slide"
    }
   },
   "source": [
    "## Freiheitsgrade\n",
    "  \n",
    "Heuristisch: \n",
    "\n",
    "* $n$ Versuche, um den Parameter $\\overline z$ zu schätzen \n",
    "* Jeder andere Parameter, der hilfsweise geschätzt werden muss, verringert die Zahl der Freiheitsgrade um 1\n",
    "* Beim $t$-Test für verbundene Stichproben muss $s$ hilfsweise geschätzt werden\n",
    "* Daher gibt es $(n-1)$ Freiheitsgrade\n",
    "* Die Schätzung von $s$ verringert die Genauigkeit.  Daher sind die Quantile der $t$-Verteilungen größer als die der Standardnormalverteilung."
   ]
  },
  {
   "cell_type": "markdown",
   "id": "bdf2e07c",
   "metadata": {
    "slideshow": {
     "slide_type": "slide"
    }
   },
   "source": [
    "## Ein- und zweiseitige Tests\n",
    "\n",
    "* Tests können ein- oder zweiseitig sein\n",
    "* Es sind $\\mu_1$ und $ \\mu_2 $ die unbekannten wahren Erwartungswerte der beiden Stichproben\n",
    "* Bei zweiseitigen Tests ist die Nullhypothese von der Form $H_0 =  \\{\\mu_1 = \\mu_2\\}$\n",
    "* Beim einseitigen unteren Test ist die Nullhypothese von der Form $H_0 = \\{\\mu_1 \\ge \\mu_2\\}$, d.h. die Alternativhypothese ist $\\mu_1 < \\mu_2$\n",
    "* Beim einseitigen oberen Test ist die Nullhypothese von der Form $H_0 = \\{\\mu_1 \\le \\mu_2\\}$, d.h. die Alternativhypothese ist $\\mu_1 > \\mu_2$"
   ]
  },
  {
   "cell_type": "markdown",
   "id": "a5d0cee3",
   "metadata": {
    "slideshow": {
     "slide_type": "slide"
    }
   },
   "source": [
    "### Entscheidungsregel\n",
    "\n",
    "* Das Signifikanzniveau sei $\\alpha$\n",
    "* Die Quantile der $t$-Verteilung müssen verwendet werden\n",
    "\n",
    "\\begin{align*}\n",
    "      &t_{n-1,\\,1-\\alpha/2} &&\\text{beim zweiseitigen Test} \\\\\n",
    "      &t_{n-1,\\,1-\\alpha} &&\\text{bei einem einseitigen Test}\n",
    "\\end{align*}\n",
    "\n",
    "* $z_j = x_j - y_j$ und Teststatistik\n",
    "\n",
    "$$      t = \\frac{\\overline z}s \\cdot \\sqrt{n}  $$"
   ]
  },
  {
   "cell_type": "markdown",
   "id": "1a1dce1b",
   "metadata": {
    "slideshow": {
     "slide_type": "fragment"
    }
   },
   "source": [
    "* Entscheidung:\n",
    "  * $H_0 = \\{\\mu_1=\\mu_2\\} $: Die Nullhypothese $H_0$ wird abgelehnt, wenn $\\left|t\\right| > t_{n-1,\\,1-\\alpha/2}$\n",
    "  * $H_0 = \\{\\mu_1\\le\\mu_2\\}$: Die Nullhypothese $H_0$ wird abgelehnt, wenn $t > t_{n-1,\\,1-\\alpha}$\n",
    "  * $H_0 = \\{\\mu_1\\ge\\mu_2\\}$: Die Nullhypothese $H_0$ wird abgelehnt, wenn $t < -t_{n-1,\\,1-\\alpha}$"
   ]
  },
  {
   "cell_type": "markdown",
   "id": "1b6359dd",
   "metadata": {
    "slideshow": {
     "slide_type": "slide"
    }
   },
   "source": [
    "### Beispiel Blutdrucksenker\n",
    "\n",
    "* 10 Blutdruckpatienten erhalten eine Woche lang das Medikament und eine Woche lang das Placebo.  Der Blutdruck am Ende der jeweiligen Behandlung wird notiert.  Zwischen beiden Behandlungen vergehen zwei Wochen mit Standard-Therapie.\n",
    "* Für den $j$-ten Patienten \n",
    "\n",
    "\\begin{align*}\n",
    "      X_j &= \\text{Blutdruck unter Placebo} \\\\\n",
    "      Y_j &= \\text{Blutdruck unter Medikament} \\\\\n",
    "      Z_j &= X_j - Y_j\n",
    "\\end{align*}"
   ]
  },
  {
   "cell_type": "markdown",
   "id": "7c7a0ea3",
   "metadata": {
    "slideshow": {
     "slide_type": "fragment"
    }
   },
   "source": [
    "* Beim Blutdrucksenker interessiert nur, ob der Blutdruck tatsächlich sinkt\n",
    "* Ein einseitiger Test ist angemessen\n",
    "* $\\mu_1 =$ Blutdruck unter Placebo, $\\mu_2 =$ Blutdruck unter Medikament\n",
    "* Die Nullhypothese ist $ H_0 : \\mu_1 \\le \\mu_2 $, also ein oberer Test\n",
    "* Das Signifikanzniveau ist $\\alpha = 0.05$\n",
    "* Die Zahl der Freiheitsgrade ist 9"
   ]
  },
  {
   "cell_type": "markdown",
   "id": "443ba01a",
   "metadata": {
    "slideshow": {
     "slide_type": "slide"
    }
   },
   "source": [
    "Das benötigte Quantil ist"
   ]
  },
  {
   "cell_type": "code",
   "execution_count": 58,
   "id": "2bcb1ead",
   "metadata": {
    "slideshow": {
     "slide_type": "-"
    }
   },
   "outputs": [],
   "source": [
    "P = stats.t(9)"
   ]
  },
  {
   "cell_type": "code",
   "execution_count": 59,
   "id": "f5947f62",
   "metadata": {},
   "outputs": [
    {
     "data": {
      "text/plain": [
       "1.8331129326536335"
      ]
     },
     "execution_count": 59,
     "metadata": {},
     "output_type": "execute_result"
    }
   ],
   "source": [
    "P.ppf(0.95)"
   ]
  },
  {
   "cell_type": "markdown",
   "id": "99bf9507",
   "metadata": {
    "slideshow": {
     "slide_type": "slide"
    }
   },
   "source": [
    "### Beispieldaten"
   ]
  },
  {
   "cell_type": "code",
   "execution_count": 60,
   "id": "d6d6c988",
   "metadata": {},
   "outputs": [
    {
     "data": {
      "text/html": [
       "<div>\n",
       "<style scoped>\n",
       "    .dataframe tbody tr th:only-of-type {\n",
       "        vertical-align: middle;\n",
       "    }\n",
       "\n",
       "    .dataframe tbody tr th {\n",
       "        vertical-align: top;\n",
       "    }\n",
       "\n",
       "    .dataframe thead th {\n",
       "        text-align: right;\n",
       "    }\n",
       "</style>\n",
       "<table border=\"1\" class=\"dataframe\">\n",
       "  <thead>\n",
       "    <tr style=\"text-align: right;\">\n",
       "      <th></th>\n",
       "      <th>x</th>\n",
       "      <th>y</th>\n",
       "    </tr>\n",
       "  </thead>\n",
       "  <tbody>\n",
       "    <tr>\n",
       "      <th>0</th>\n",
       "      <td>168</td>\n",
       "      <td>176</td>\n",
       "    </tr>\n",
       "    <tr>\n",
       "      <th>1</th>\n",
       "      <td>184</td>\n",
       "      <td>145</td>\n",
       "    </tr>\n",
       "    <tr>\n",
       "      <th>2</th>\n",
       "      <td>172</td>\n",
       "      <td>150</td>\n",
       "    </tr>\n",
       "    <tr>\n",
       "      <th>3</th>\n",
       "      <td>173</td>\n",
       "      <td>163</td>\n",
       "    </tr>\n",
       "    <tr>\n",
       "      <th>4</th>\n",
       "      <td>150</td>\n",
       "      <td>136</td>\n",
       "    </tr>\n",
       "    <tr>\n",
       "      <th>5</th>\n",
       "      <td>155</td>\n",
       "      <td>168</td>\n",
       "    </tr>\n",
       "    <tr>\n",
       "      <th>6</th>\n",
       "      <td>163</td>\n",
       "      <td>164</td>\n",
       "    </tr>\n",
       "    <tr>\n",
       "      <th>7</th>\n",
       "      <td>164</td>\n",
       "      <td>139</td>\n",
       "    </tr>\n",
       "    <tr>\n",
       "      <th>8</th>\n",
       "      <td>151</td>\n",
       "      <td>145</td>\n",
       "    </tr>\n",
       "    <tr>\n",
       "      <th>9</th>\n",
       "      <td>146</td>\n",
       "      <td>112</td>\n",
       "    </tr>\n",
       "  </tbody>\n",
       "</table>\n",
       "</div>"
      ],
      "text/plain": [
       "     x    y\n",
       "0  168  176\n",
       "1  184  145\n",
       "2  172  150\n",
       "3  173  163\n",
       "4  150  136\n",
       "5  155  168\n",
       "6  163  164\n",
       "7  164  139\n",
       "8  151  145\n",
       "9  146  112"
      ]
     },
     "execution_count": 60,
     "metadata": {},
     "output_type": "execute_result"
    }
   ],
   "source": [
    "import pandas as pd\n",
    "\n",
    "df = pd.DataFrame()\n",
    "df['x'] = [168, 184, 172, 173, 150, 155, 163, 164, 151, 146]\n",
    "df['y'] = [176, 145, 150, 163, 136, 168, 164, 139, 145, 112]\n",
    "df"
   ]
  },
  {
   "cell_type": "code",
   "execution_count": 61,
   "id": "0879284b",
   "metadata": {
    "slideshow": {
     "slide_type": "slide"
    }
   },
   "outputs": [
    {
     "data": {
      "text/plain": [
       "count    10.000000\n",
       "mean     12.800000\n",
       "std      17.364075\n",
       "min     -13.000000\n",
       "25%       0.750000\n",
       "50%      12.000000\n",
       "75%      24.250000\n",
       "max      39.000000\n",
       "Name: z, dtype: float64"
      ]
     },
     "execution_count": 61,
     "metadata": {},
     "output_type": "execute_result"
    }
   ],
   "source": [
    "df['z'] = df.x - df.y\n",
    "df.z.describe()"
   ]
  },
  {
   "cell_type": "code",
   "execution_count": 62,
   "id": "c96f7388",
   "metadata": {},
   "outputs": [
    {
     "data": {
      "text/plain": [
       "2.3310827540820003"
      ]
     },
     "execution_count": 62,
     "metadata": {},
     "output_type": "execute_result"
    }
   ],
   "source": [
    "t = 12.8 / 17.3641 * np.sqrt(10)\n",
    "t"
   ]
  },
  {
   "cell_type": "markdown",
   "id": "e06a732c",
   "metadata": {},
   "source": [
    "Das ist größer als das Quantil:  Die Nullhypothese kann abgelehnt werden.  Die Wirksamkeit des Blutdruchsenkers ist zu dem angegebenen Signifikanzniveau nachgewiesen."
   ]
  },
  {
   "cell_type": "markdown",
   "id": "660f6614",
   "metadata": {
    "slideshow": {
     "slide_type": "slide"
    }
   },
   "source": [
    "## Automatische Auswertung mit stats"
   ]
  },
  {
   "cell_type": "code",
   "execution_count": 63,
   "id": "ea1c149e",
   "metadata": {},
   "outputs": [
    {
     "data": {
      "text/plain": [
       "TtestResult(statistic=2.331086069657434, pvalue=0.02233380789226441, df=9)"
      ]
     },
     "execution_count": 63,
     "metadata": {},
     "output_type": "execute_result"
    }
   ],
   "source": [
    "stats.ttest_rel(df.x, df.y, alternative=\"greater\")"
   ]
  },
  {
   "cell_type": "code",
   "execution_count": 64,
   "id": "c70045bc",
   "metadata": {},
   "outputs": [
    {
     "data": {
      "text/plain": [
       "2.331086069657434"
      ]
     },
     "execution_count": 64,
     "metadata": {},
     "output_type": "execute_result"
    }
   ],
   "source": [
    "res = stats.ttest_rel(df.x, df.y, alternative=\"greater\")\n",
    "res.statistic  #  Die Teststatistik"
   ]
  },
  {
   "cell_type": "code",
   "execution_count": 65,
   "id": "f3d4f694",
   "metadata": {},
   "outputs": [
    {
     "data": {
      "text/plain": [
       "0.02233380789226441"
      ]
     },
     "execution_count": 65,
     "metadata": {},
     "output_type": "execute_result"
    }
   ],
   "source": [
    "res.pvalue   # Der p-Wert"
   ]
  },
  {
   "cell_type": "markdown",
   "id": "e6f2f2a5",
   "metadata": {
    "slideshow": {
     "slide_type": "fragment"
    }
   },
   "source": [
    "Der p-Wert ist kleiner als das Signifikanzniveau $\\alpha=0.05$, also kann $H_0$ abgelehnt werden"
   ]
  },
  {
   "cell_type": "code",
   "execution_count": null,
   "id": "867d6183",
   "metadata": {
    "slideshow": {
     "slide_type": "fragment"
    }
   },
   "outputs": [],
   "source": [
    "res.df    #  Die Anzahl der Freiheitsgrade"
   ]
  },
  {
   "cell_type": "markdown",
   "id": "1aaefda6",
   "metadata": {
    "slideshow": {
     "slide_type": "slide"
    }
   },
   "source": [
    "## Vergleich mit einem Referenzwert\n",
    "\n",
    "Das ist der Spezialfall, bei dem der zweite Datensatz für alle Einträge gleich dem Referenzwert ist"
   ]
  },
  {
   "cell_type": "markdown",
   "id": "b8e6d0dd",
   "metadata": {
    "slideshow": {
     "slide_type": "fragment"
    }
   },
   "source": [
    "Beispiel\n",
    "\n",
    "* Ein Betrieb leitet Abwasser ein.  Die Konzentration eines bestimmten Schadstoffes darf 0.08% nicht überschreiten\n",
    "* An fünf Messstellen werden insgesamt 80 Proben entnommen\n",
    "* Wenn zum Signifikanzniveau $\\alpha=0.01$ nachgewiesen ist, dass der Schadstoffgehalt über dem Referenzwert 0.08% liegt, dann wird der Betrieb vom Ordnungsamt geschlossen"
   ]
  },
  {
   "cell_type": "code",
   "execution_count": 66,
   "id": "fc43da40",
   "metadata": {
    "slideshow": {
     "slide_type": "slide"
    }
   },
   "outputs": [],
   "source": [
    "u = \"https://www.math.uni-duesseldorf.de/~braun/bio2324/data/schadstoffe.csv\""
   ]
  },
  {
   "cell_type": "code",
   "execution_count": 67,
   "id": "77b682a8",
   "metadata": {
    "slideshow": {
     "slide_type": "-"
    }
   },
   "outputs": [],
   "source": [
    "df = pd.read_csv(u, index_col=0)"
   ]
  },
  {
   "cell_type": "code",
   "execution_count": 68,
   "id": "5ce50fae",
   "metadata": {},
   "outputs": [
    {
     "data": {
      "text/html": [
       "<div>\n",
       "<style scoped>\n",
       "    .dataframe tbody tr th:only-of-type {\n",
       "        vertical-align: middle;\n",
       "    }\n",
       "\n",
       "    .dataframe tbody tr th {\n",
       "        vertical-align: top;\n",
       "    }\n",
       "\n",
       "    .dataframe thead th {\n",
       "        text-align: right;\n",
       "    }\n",
       "</style>\n",
       "<table border=\"1\" class=\"dataframe\">\n",
       "  <thead>\n",
       "    <tr style=\"text-align: right;\">\n",
       "      <th></th>\n",
       "      <th>Messstelle</th>\n",
       "      <th>Konzentration</th>\n",
       "    </tr>\n",
       "  </thead>\n",
       "  <tbody>\n",
       "    <tr>\n",
       "      <th>0</th>\n",
       "      <td>5</td>\n",
       "      <td>0.000867</td>\n",
       "    </tr>\n",
       "    <tr>\n",
       "      <th>1</th>\n",
       "      <td>3</td>\n",
       "      <td>0.000490</td>\n",
       "    </tr>\n",
       "    <tr>\n",
       "      <th>2</th>\n",
       "      <td>1</td>\n",
       "      <td>0.000589</td>\n",
       "    </tr>\n",
       "    <tr>\n",
       "      <th>3</th>\n",
       "      <td>1</td>\n",
       "      <td>0.000950</td>\n",
       "    </tr>\n",
       "    <tr>\n",
       "      <th>4</th>\n",
       "      <td>4</td>\n",
       "      <td>0.001152</td>\n",
       "    </tr>\n",
       "    <tr>\n",
       "      <th>...</th>\n",
       "      <td>...</td>\n",
       "      <td>...</td>\n",
       "    </tr>\n",
       "    <tr>\n",
       "      <th>75</th>\n",
       "      <td>5</td>\n",
       "      <td>0.000918</td>\n",
       "    </tr>\n",
       "    <tr>\n",
       "      <th>76</th>\n",
       "      <td>3</td>\n",
       "      <td>0.000528</td>\n",
       "    </tr>\n",
       "    <tr>\n",
       "      <th>77</th>\n",
       "      <td>3</td>\n",
       "      <td>0.000961</td>\n",
       "    </tr>\n",
       "    <tr>\n",
       "      <th>78</th>\n",
       "      <td>4</td>\n",
       "      <td>0.001272</td>\n",
       "    </tr>\n",
       "    <tr>\n",
       "      <th>79</th>\n",
       "      <td>3</td>\n",
       "      <td>0.001012</td>\n",
       "    </tr>\n",
       "  </tbody>\n",
       "</table>\n",
       "<p>80 rows × 2 columns</p>\n",
       "</div>"
      ],
      "text/plain": [
       "    Messstelle  Konzentration\n",
       "0            5       0.000867\n",
       "1            3       0.000490\n",
       "2            1       0.000589\n",
       "3            1       0.000950\n",
       "4            4       0.001152\n",
       "..         ...            ...\n",
       "75           5       0.000918\n",
       "76           3       0.000528\n",
       "77           3       0.000961\n",
       "78           4       0.001272\n",
       "79           3       0.001012\n",
       "\n",
       "[80 rows x 2 columns]"
      ]
     },
     "execution_count": 68,
     "metadata": {},
     "output_type": "execute_result"
    }
   ],
   "source": [
    "df"
   ]
  },
  {
   "cell_type": "code",
   "execution_count": 69,
   "id": "f41884c5",
   "metadata": {
    "slideshow": {
     "slide_type": "slide"
    }
   },
   "outputs": [
    {
     "data": {
      "text/plain": [
       "0.0008665284923875"
      ]
     },
     "execution_count": 69,
     "metadata": {},
     "output_type": "execute_result"
    }
   ],
   "source": [
    "df.loc[0].Konzentration"
   ]
  },
  {
   "cell_type": "code",
   "execution_count": 70,
   "id": "ac86256f",
   "metadata": {
    "slideshow": {
     "slide_type": "slide"
    }
   },
   "outputs": [
    {
     "data": {
      "text/html": [
       "<div>\n",
       "<style scoped>\n",
       "    .dataframe tbody tr th:only-of-type {\n",
       "        vertical-align: middle;\n",
       "    }\n",
       "\n",
       "    .dataframe tbody tr th {\n",
       "        vertical-align: top;\n",
       "    }\n",
       "\n",
       "    .dataframe thead th {\n",
       "        text-align: right;\n",
       "    }\n",
       "</style>\n",
       "<table border=\"1\" class=\"dataframe\">\n",
       "  <thead>\n",
       "    <tr style=\"text-align: right;\">\n",
       "      <th></th>\n",
       "      <th>Messstelle</th>\n",
       "      <th>Konzentration</th>\n",
       "    </tr>\n",
       "  </thead>\n",
       "  <tbody>\n",
       "    <tr>\n",
       "      <th>count</th>\n",
       "      <td>80.000000</td>\n",
       "      <td>80.000000</td>\n",
       "    </tr>\n",
       "    <tr>\n",
       "      <th>mean</th>\n",
       "      <td>2.987500</td>\n",
       "      <td>0.000905</td>\n",
       "    </tr>\n",
       "    <tr>\n",
       "      <th>std</th>\n",
       "      <td>1.409675</td>\n",
       "      <td>0.000341</td>\n",
       "    </tr>\n",
       "    <tr>\n",
       "      <th>min</th>\n",
       "      <td>1.000000</td>\n",
       "      <td>0.000061</td>\n",
       "    </tr>\n",
       "    <tr>\n",
       "      <th>25%</th>\n",
       "      <td>2.000000</td>\n",
       "      <td>0.000701</td>\n",
       "    </tr>\n",
       "    <tr>\n",
       "      <th>50%</th>\n",
       "      <td>3.000000</td>\n",
       "      <td>0.000938</td>\n",
       "    </tr>\n",
       "    <tr>\n",
       "      <th>75%</th>\n",
       "      <td>4.000000</td>\n",
       "      <td>0.001158</td>\n",
       "    </tr>\n",
       "    <tr>\n",
       "      <th>max</th>\n",
       "      <td>5.000000</td>\n",
       "      <td>0.001605</td>\n",
       "    </tr>\n",
       "  </tbody>\n",
       "</table>\n",
       "</div>"
      ],
      "text/plain": [
       "       Messstelle  Konzentration\n",
       "count   80.000000      80.000000\n",
       "mean     2.987500       0.000905\n",
       "std      1.409675       0.000341\n",
       "min      1.000000       0.000061\n",
       "25%      2.000000       0.000701\n",
       "50%      3.000000       0.000938\n",
       "75%      4.000000       0.001158\n",
       "max      5.000000       0.001605"
      ]
     },
     "execution_count": 70,
     "metadata": {},
     "output_type": "execute_result"
    }
   ],
   "source": [
    "df.describe()"
   ]
  },
  {
   "cell_type": "code",
   "execution_count": 71,
   "id": "eb271b9b",
   "metadata": {
    "slideshow": {
     "slide_type": "slide"
    }
   },
   "outputs": [],
   "source": [
    "df['referenz'] = 0.08 / 100"
   ]
  },
  {
   "cell_type": "code",
   "execution_count": 72,
   "id": "ce923a04",
   "metadata": {},
   "outputs": [
    {
     "data": {
      "text/plain": [
       "TtestResult(statistic=2.768040010585661, pvalue=0.0035114445640696246, df=79)"
      ]
     },
     "execution_count": 72,
     "metadata": {},
     "output_type": "execute_result"
    }
   ],
   "source": [
    "res = stats.ttest_rel(df.Konzentration, df.referenz, alternative=\"greater\")\n",
    "res"
   ]
  },
  {
   "cell_type": "code",
   "execution_count": 73,
   "id": "ac84210b",
   "metadata": {},
   "outputs": [
    {
     "data": {
      "text/plain": [
       "0.0035114445640696246"
      ]
     },
     "execution_count": 73,
     "metadata": {},
     "output_type": "execute_result"
    }
   ],
   "source": [
    "res.pvalue"
   ]
  },
  {
   "cell_type": "markdown",
   "id": "0fefe438",
   "metadata": {},
   "source": [
    "Zum Signifikanzniveau $\\alpha=0.01$ ist die Überschreitung der Grenzwerte nachgewiesen"
   ]
  },
  {
   "cell_type": "markdown",
   "id": "f58c995e",
   "metadata": {
    "slideshow": {
     "slide_type": "slide"
    }
   },
   "source": [
    "# t-Test für unverbundene Stichproben\n",
    "\n",
    "* Ein Versuch wird $n_1$-mal durchgeführt\n",
    "* Ein Parameter wird geändert\n",
    "* Der Versuch wird mit dem geänderten Parameter $n_2$-mal mit einem anderen Kollektiv wiederholt\n",
    "* Die Messergebnisse werden verglichen \n",
    "* Da die Stichproben unverbunden sind, ist $n_1 \\ne n_2$ möglich "
   ]
  },
  {
   "cell_type": "markdown",
   "id": "31955e69",
   "metadata": {
    "slideshow": {
     "slide_type": "slide"
    }
   },
   "source": [
    "## t-Test zum Vergleich zweier Erwartungswerte bei unverbundenen Stichproben\n",
    "\n",
    "* Gegeben sind Zufallsvariable $X_1, \\dots, X_{n_1}$ und $Y_1, \\dots, Y_{n_2}$\n",
    "* Verteilungsvoraussetzungen \n",
    "  * Die $X_j$ sind normalverteilt mit unbekanntem Erwartungswert $\\mu_1$ und unbekannter Varianz $\\sigma^2$\n",
    "  * Die $Y_j$ sind normalverteilt mit unbekanntem Erwartungswert $\\mu_2$ und unbekannter Varianz $\\sigma^2$\n",
    "* Ziel: $\\mu_1$ und $\\mu_2$ sollen verglichen werden"
   ]
  },
  {
   "cell_type": "markdown",
   "id": "83755c44",
   "metadata": {
    "slideshow": {
     "slide_type": "slide"
    }
   },
   "source": [
    "* $x_j$ und $y_j$ seien Realisierungen\n",
    "* Bestimme arithmetische Mittelwerte \n",
    "$$      \\overline x = \\frac1{n_1} \\sum_{j=1}^{n_1} x_j \n",
    "\\text{ und } \\overline y = \\frac1{n_2} \\sum_{j=1}^{n_2} y_j $$\n",
    "\n",
    "* und Stichprobenstreuungen\n",
    "\n",
    "$$  s_x = \\sqrt{ \\frac1{n_1-1} \\sum_{j=1}^{n_1} (x_j - \\overline x)^2 } \\text{ und } \n",
    "        s_y = \\sqrt{ \\frac1{n_2-1} \\sum_{j=1}^{n_2} (y_j - \\overline y)^2 }  $$"
   ]
  },
  {
   "cell_type": "markdown",
   "id": "65c875d0",
   "metadata": {
    "slideshow": {
     "slide_type": "fragment"
    }
   },
   "source": [
    "## Standardabweichung der gepoolten Stichproben\n",
    "\n",
    "* Bestimme die *Standardabweichung der gepoolten Stichproben*\n",
    "\n",
    "$$       s_p = \\sqrt{ \\frac{(n_1-1) \\cdot s_x^2 + (n_2 - 1) \\cdot\n",
    "          s_y^2}{n_1 + n_2 - 2} }  $$"
   ]
  },
  {
   "cell_type": "markdown",
   "id": "a67754d9",
   "metadata": {
    "slideshow": {
     "slide_type": "slide"
    }
   },
   "source": [
    "## Teststatistik\n",
    "\n",
    "Die Teststatistik ist\n",
    "\n",
    "$$      t = \\frac{\\overline x - \\overline y}{s_p} \\sqrt{\\frac{n_1\n",
    "          \\cdot n_2}{n_1 + n_2}}  $$"
   ]
  },
  {
   "cell_type": "markdown",
   "id": "94e8e51a",
   "metadata": {
    "slideshow": {
     "slide_type": "slide"
    }
   },
   "source": [
    "## Entscheidungsregel\n",
    "\n",
    "* Bestimme zugehörige Quantile der $t$-Verteilung    \n",
    "\n",
    "\\begin{align*}\n",
    "      &t_{n_1+n_2-2,\\,1-\\alpha/2} && \\text{beim zweiseitigen Test} \\\\\n",
    "      &t_{n_1+n_2-2,\\,1-\\alpha} && \\text{bei einem einseitigen Test}\n",
    "\\end{align*}\n",
    "\n",
    "* Entscheidungsregel\n",
    "  * $H_0 = \\{\\mu_1=\\mu_2\\}$: Die Nullhypothese $H_0$ wird abgelehnt, wenn $\\left|t\\right| > t_{n_1+n_2-2,\\,1-\\alpha/2}$\n",
    "  * $H_0 = \\{\\mu_1\\le\\mu_2\\}$: Die Nullhypothese $H_0$ wird abgelehnt, wenn $t > t_{n_1+n_2-2,\\,1-\\alpha}$\n",
    "  * $H_0 = \\{\\mu_1\\ge\\mu_2\\}$: Die Nullhypothese $H_0$ wird abgelehnt, wenn $t < -t_{n_1+n_2-2,\\,1-\\alpha}$"
   ]
  },
  {
   "cell_type": "markdown",
   "id": "e62c0f87",
   "metadata": {
    "slideshow": {
     "slide_type": "slide"
    }
   },
   "source": [
    "### Beispiel Maiszünsler\n",
    "    \n",
    "<img src=\"bilder/744px-Ostrinia_nubilalis01.jpg\" alt=\"Maiszünsler\" width=\"25%\"/>\n",
    "\n",
    "* Der Maiszünsler soll mit einem Bodenbakterium bekämpft werden\n",
    "* Die Befallsraten (in Larven pro Quadratmeter) wurden gemessen\n"
   ]
  },
  {
   "cell_type": "markdown",
   "id": "f3d7fee0",
   "metadata": {
    "slideshow": {
     "slide_type": "slide"
    }
   },
   "source": [
    "Wir müssen ein `DataFrame` in Langform herstellen, ähnlich wie in Lektion 10"
   ]
  },
  {
   "cell_type": "code",
   "execution_count": 74,
   "id": "d35f70ca",
   "metadata": {
    "slideshow": {
     "slide_type": "fragment"
    }
   },
   "outputs": [],
   "source": [
    "df1 = pd.DataFrame()\n",
    "df1['Befall'] = [61 ,  60 , 62 , 58 , 75 , 63 , 52 , 66 , 59]\n",
    "df1['Behandlung'] = 'ja'"
   ]
  },
  {
   "cell_type": "code",
   "execution_count": 75,
   "id": "68260baf",
   "metadata": {},
   "outputs": [],
   "source": [
    "df2 = pd.DataFrame()\n",
    "df2['Befall'] = [55 , 69 , 64 , 70 , 75 , 70 , 83 , 69 , 75 , 69]\n",
    "df2['Behandlung'] = 'nein'"
   ]
  },
  {
   "cell_type": "code",
   "execution_count": 76,
   "id": "46bc8eee",
   "metadata": {
    "slideshow": {
     "slide_type": "slide"
    }
   },
   "outputs": [
    {
     "data": {
      "text/html": [
       "<div>\n",
       "<style scoped>\n",
       "    .dataframe tbody tr th:only-of-type {\n",
       "        vertical-align: middle;\n",
       "    }\n",
       "\n",
       "    .dataframe tbody tr th {\n",
       "        vertical-align: top;\n",
       "    }\n",
       "\n",
       "    .dataframe thead th {\n",
       "        text-align: right;\n",
       "    }\n",
       "</style>\n",
       "<table border=\"1\" class=\"dataframe\">\n",
       "  <thead>\n",
       "    <tr style=\"text-align: right;\">\n",
       "      <th></th>\n",
       "      <th>Befall</th>\n",
       "      <th>Behandlung</th>\n",
       "    </tr>\n",
       "  </thead>\n",
       "  <tbody>\n",
       "    <tr>\n",
       "      <th>0</th>\n",
       "      <td>61</td>\n",
       "      <td>ja</td>\n",
       "    </tr>\n",
       "    <tr>\n",
       "      <th>1</th>\n",
       "      <td>60</td>\n",
       "      <td>ja</td>\n",
       "    </tr>\n",
       "    <tr>\n",
       "      <th>2</th>\n",
       "      <td>62</td>\n",
       "      <td>ja</td>\n",
       "    </tr>\n",
       "    <tr>\n",
       "      <th>3</th>\n",
       "      <td>58</td>\n",
       "      <td>ja</td>\n",
       "    </tr>\n",
       "    <tr>\n",
       "      <th>4</th>\n",
       "      <td>75</td>\n",
       "      <td>ja</td>\n",
       "    </tr>\n",
       "    <tr>\n",
       "      <th>5</th>\n",
       "      <td>63</td>\n",
       "      <td>ja</td>\n",
       "    </tr>\n",
       "    <tr>\n",
       "      <th>6</th>\n",
       "      <td>52</td>\n",
       "      <td>ja</td>\n",
       "    </tr>\n",
       "    <tr>\n",
       "      <th>7</th>\n",
       "      <td>66</td>\n",
       "      <td>ja</td>\n",
       "    </tr>\n",
       "    <tr>\n",
       "      <th>8</th>\n",
       "      <td>59</td>\n",
       "      <td>ja</td>\n",
       "    </tr>\n",
       "    <tr>\n",
       "      <th>9</th>\n",
       "      <td>55</td>\n",
       "      <td>nein</td>\n",
       "    </tr>\n",
       "    <tr>\n",
       "      <th>10</th>\n",
       "      <td>69</td>\n",
       "      <td>nein</td>\n",
       "    </tr>\n",
       "    <tr>\n",
       "      <th>11</th>\n",
       "      <td>64</td>\n",
       "      <td>nein</td>\n",
       "    </tr>\n",
       "    <tr>\n",
       "      <th>12</th>\n",
       "      <td>70</td>\n",
       "      <td>nein</td>\n",
       "    </tr>\n",
       "    <tr>\n",
       "      <th>13</th>\n",
       "      <td>75</td>\n",
       "      <td>nein</td>\n",
       "    </tr>\n",
       "    <tr>\n",
       "      <th>14</th>\n",
       "      <td>70</td>\n",
       "      <td>nein</td>\n",
       "    </tr>\n",
       "    <tr>\n",
       "      <th>15</th>\n",
       "      <td>83</td>\n",
       "      <td>nein</td>\n",
       "    </tr>\n",
       "    <tr>\n",
       "      <th>16</th>\n",
       "      <td>69</td>\n",
       "      <td>nein</td>\n",
       "    </tr>\n",
       "    <tr>\n",
       "      <th>17</th>\n",
       "      <td>75</td>\n",
       "      <td>nein</td>\n",
       "    </tr>\n",
       "    <tr>\n",
       "      <th>18</th>\n",
       "      <td>69</td>\n",
       "      <td>nein</td>\n",
       "    </tr>\n",
       "  </tbody>\n",
       "</table>\n",
       "</div>"
      ],
      "text/plain": [
       "    Befall Behandlung\n",
       "0       61         ja\n",
       "1       60         ja\n",
       "2       62         ja\n",
       "3       58         ja\n",
       "4       75         ja\n",
       "5       63         ja\n",
       "6       52         ja\n",
       "7       66         ja\n",
       "8       59         ja\n",
       "9       55       nein\n",
       "10      69       nein\n",
       "11      64       nein\n",
       "12      70       nein\n",
       "13      75       nein\n",
       "14      70       nein\n",
       "15      83       nein\n",
       "16      69       nein\n",
       "17      75       nein\n",
       "18      69       nein"
      ]
     },
     "execution_count": 76,
     "metadata": {},
     "output_type": "execute_result"
    }
   ],
   "source": [
    "df = pd.concat([df1, df2], ignore_index=True)\n",
    "df"
   ]
  },
  {
   "cell_type": "code",
   "execution_count": 77,
   "id": "7341b9b6",
   "metadata": {
    "slideshow": {
     "slide_type": "slide"
    }
   },
   "outputs": [],
   "source": [
    "import seaborn as sns\n",
    "sns.set_theme()"
   ]
  },
  {
   "cell_type": "code",
   "execution_count": 78,
   "id": "02367169",
   "metadata": {},
   "outputs": [
    {
     "data": {
      "image/png": "[encoded data removed]",
      "text/plain": [
       "<Figure size 601.347x500 with 1 Axes>"
      ]
     },
     "metadata": {},
     "output_type": "display_data"
    }
   ],
   "source": [
    "sns.displot(data=df, x='Befall', hue='Behandlung', multiple='stack');"
   ]
  },
  {
   "cell_type": "code",
   "execution_count": 79,
   "id": "2e7ed46b",
   "metadata": {
    "slideshow": {
     "slide_type": "slide"
    }
   },
   "outputs": [
    {
     "data": {
      "text/html": [
       "<div>\n",
       "<style scoped>\n",
       "    .dataframe tbody tr th:only-of-type {\n",
       "        vertical-align: middle;\n",
       "    }\n",
       "\n",
       "    .dataframe tbody tr th {\n",
       "        vertical-align: top;\n",
       "    }\n",
       "\n",
       "    .dataframe thead th {\n",
       "        text-align: right;\n",
       "    }\n",
       "</style>\n",
       "<table border=\"1\" class=\"dataframe\">\n",
       "  <thead>\n",
       "    <tr style=\"text-align: right;\">\n",
       "      <th></th>\n",
       "      <th>Befall</th>\n",
       "    </tr>\n",
       "  </thead>\n",
       "  <tbody>\n",
       "    <tr>\n",
       "      <th>count</th>\n",
       "      <td>9.000000</td>\n",
       "    </tr>\n",
       "    <tr>\n",
       "      <th>mean</th>\n",
       "      <td>61.777778</td>\n",
       "    </tr>\n",
       "    <tr>\n",
       "      <th>std</th>\n",
       "      <td>6.280481</td>\n",
       "    </tr>\n",
       "    <tr>\n",
       "      <th>min</th>\n",
       "      <td>52.000000</td>\n",
       "    </tr>\n",
       "    <tr>\n",
       "      <th>25%</th>\n",
       "      <td>59.000000</td>\n",
       "    </tr>\n",
       "    <tr>\n",
       "      <th>50%</th>\n",
       "      <td>61.000000</td>\n",
       "    </tr>\n",
       "    <tr>\n",
       "      <th>75%</th>\n",
       "      <td>63.000000</td>\n",
       "    </tr>\n",
       "    <tr>\n",
       "      <th>max</th>\n",
       "      <td>75.000000</td>\n",
       "    </tr>\n",
       "  </tbody>\n",
       "</table>\n",
       "</div>"
      ],
      "text/plain": [
       "          Befall\n",
       "count   9.000000\n",
       "mean   61.777778\n",
       "std     6.280481\n",
       "min    52.000000\n",
       "25%    59.000000\n",
       "50%    61.000000\n",
       "75%    63.000000\n",
       "max    75.000000"
      ]
     },
     "execution_count": 79,
     "metadata": {},
     "output_type": "execute_result"
    }
   ],
   "source": [
    "df1.describe()"
   ]
  },
  {
   "cell_type": "code",
   "execution_count": 80,
   "id": "e2a38738",
   "metadata": {},
   "outputs": [
    {
     "data": {
      "text/html": [
       "<div>\n",
       "<style scoped>\n",
       "    .dataframe tbody tr th:only-of-type {\n",
       "        vertical-align: middle;\n",
       "    }\n",
       "\n",
       "    .dataframe tbody tr th {\n",
       "        vertical-align: top;\n",
       "    }\n",
       "\n",
       "    .dataframe thead th {\n",
       "        text-align: right;\n",
       "    }\n",
       "</style>\n",
       "<table border=\"1\" class=\"dataframe\">\n",
       "  <thead>\n",
       "    <tr style=\"text-align: right;\">\n",
       "      <th></th>\n",
       "      <th>Befall</th>\n",
       "    </tr>\n",
       "  </thead>\n",
       "  <tbody>\n",
       "    <tr>\n",
       "      <th>count</th>\n",
       "      <td>10.000000</td>\n",
       "    </tr>\n",
       "    <tr>\n",
       "      <th>mean</th>\n",
       "      <td>69.900000</td>\n",
       "    </tr>\n",
       "    <tr>\n",
       "      <th>std</th>\n",
       "      <td>7.324995</td>\n",
       "    </tr>\n",
       "    <tr>\n",
       "      <th>min</th>\n",
       "      <td>55.000000</td>\n",
       "    </tr>\n",
       "    <tr>\n",
       "      <th>25%</th>\n",
       "      <td>69.000000</td>\n",
       "    </tr>\n",
       "    <tr>\n",
       "      <th>50%</th>\n",
       "      <td>69.500000</td>\n",
       "    </tr>\n",
       "    <tr>\n",
       "      <th>75%</th>\n",
       "      <td>73.750000</td>\n",
       "    </tr>\n",
       "    <tr>\n",
       "      <th>max</th>\n",
       "      <td>83.000000</td>\n",
       "    </tr>\n",
       "  </tbody>\n",
       "</table>\n",
       "</div>"
      ],
      "text/plain": [
       "          Befall\n",
       "count  10.000000\n",
       "mean   69.900000\n",
       "std     7.324995\n",
       "min    55.000000\n",
       "25%    69.000000\n",
       "50%    69.500000\n",
       "75%    73.750000\n",
       "max    83.000000"
      ]
     },
     "execution_count": 80,
     "metadata": {},
     "output_type": "execute_result"
    }
   ],
   "source": [
    "df2.describe()"
   ]
  },
  {
   "cell_type": "code",
   "execution_count": 81,
   "id": "adef93fb",
   "metadata": {
    "slideshow": {
     "slide_type": "slide"
    }
   },
   "outputs": [
    {
     "data": {
      "text/plain": [
       "6.853544866366173"
      ]
     },
     "execution_count": 81,
     "metadata": {},
     "output_type": "execute_result"
    }
   ],
   "source": [
    "zaehler = 9*7.325**2 + 8*6.281**2\n",
    "nenner = 17\n",
    "std_pool = np.sqrt( zaehler / nenner )\n",
    "std_pool"
   ]
  },
  {
   "cell_type": "code",
   "execution_count": 82,
   "id": "ca08e64a",
   "metadata": {},
   "outputs": [
    {
     "data": {
      "text/plain": [
       "-2.579242516807668"
      ]
     },
     "execution_count": 82,
     "metadata": {},
     "output_type": "execute_result"
    }
   ],
   "source": [
    "faktor = 10*9 / (10+9)\n",
    "t = (61.778 - 69.9) / std_pool * np.sqrt(faktor)\n",
    "t   # Teststatistik"
   ]
  },
  {
   "cell_type": "markdown",
   "id": "3ad45ed8",
   "metadata": {
    "slideshow": {
     "slide_type": "slide"
    }
   },
   "source": [
    "* Wir machen den Test zum Signifikanzniveau $\\alpha=0.05$\n",
    "* Die Zahl der Freiheitsgrade ist 17\n",
    "* Das benötigte Quantil ist"
   ]
  },
  {
   "cell_type": "code",
   "execution_count": 83,
   "id": "bb03b72b",
   "metadata": {},
   "outputs": [
    {
     "data": {
      "text/plain": [
       "1.7396067260750672"
      ]
     },
     "execution_count": 83,
     "metadata": {},
     "output_type": "execute_result"
    }
   ],
   "source": [
    "P = stats.t(17)\n",
    "P.ppf(0.95)"
   ]
  },
  {
   "cell_type": "markdown",
   "id": "089a3ee1",
   "metadata": {},
   "source": [
    "Es gilt $t < -t_{17,0.95}$, also wird die Nullhypothese abgelehnt"
   ]
  },
  {
   "cell_type": "code",
   "execution_count": 84,
   "id": "a1804e1c",
   "metadata": {
    "slideshow": {
     "slide_type": "slide"
    }
   },
   "outputs": [
    {
     "data": {
      "text/plain": [
       "TtestResult(statistic=-2.5793982980797687, pvalue=0.009746177193200247, df=17.0)"
      ]
     },
     "execution_count": 84,
     "metadata": {},
     "output_type": "execute_result"
    }
   ],
   "source": [
    "stats.ttest_ind(df1.Befall, df2.Befall, alternative=\"less\")"
   ]
  },
  {
   "cell_type": "markdown",
   "id": "5d0146dc",
   "metadata": {},
   "source": [
    "\n",
    "Der p-Wert ist 0.01"
   ]
  },
  {
   "cell_type": "markdown",
   "id": "1b1bea94",
   "metadata": {
    "slideshow": {
     "slide_type": "slide"
    }
   },
   "source": [
    "* <code>stats.ttest_rel(x,y,alternative)</code> t-Test für verbundene Stichproben (engl: related)\n",
    "* <code>stats.ttest_ind(x,y,alternative)</code> t-Test für unverbundene Stichproben (engl: independent)\n",
    "* x, y: Daten\n",
    "* alternative:  entweder <code>less</code>, <code>greater</code> oder <code>two-sided</code>"
   ]
  },
  {
   "cell_type": "markdown",
   "id": "beeb8299",
   "metadata": {
    "slideshow": {
     "slide_type": "slide"
    }
   },
   "source": [
    "# Termine\n",
    "\n",
    "* 29.01.2025:  Probeklausur, Aufgaben werden vorher auf https://www.math.uni-duesseldorf.de/~internet/bio2425 hochgeladen\n",
    "* Juli oder August 2025:  1. Klausur zu Mathe für Biologiestudierende\n",
    "* September 2025:  2. Klausur zu Mathe für Biologiestudierende\n",
    "\n",
    "Offizielle Klausurtermine auf den Seiten der Biologie https://www.biologie.hhu.de/\n",
    "\n",
    "<span style='color: red;'>Die Klausur am 20.02.2025 richtet sich ausschließlich an Wiederholer.</span>\n",
    "\n"
   ]
  }
 ],
 "metadata": {
  "celltoolbar": "Slideshow",
  "kernelspec": {
   "display_name": "Python 3 (ipykernel)",
   "language": "python",
   "name": "python3"
  },
  "language_info": {
   "codemirror_mode": {
    "name": "ipython",
    "version": 3
   },
   "file_extension": ".py",
   "mimetype": "text/x-python",
   "name": "python",
   "nbconvert_exporter": "python",
   "pygments_lexer": "ipython3",
   "version": "3.11.10"
  }
 },
 "nbformat": 4,
 "nbformat_minor": 5
}
