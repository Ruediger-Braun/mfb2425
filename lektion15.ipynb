{
 "cells": [
  {
   "cell_type": "markdown",
   "id": "97e910de",
   "metadata": {
    "slideshow": {
     "slide_type": "slide"
    }
   },
   "source": [
    "# Mathematik für Biologiestudierende II\n",
    "\n",
    "Sommersemester 2025\n",
    "\n",
    "08.04.2025\n",
    "\n",
    "&copy; 2025 Prof. Dr. Rüdiger W. Braun "
   ]
  },
  {
   "cell_type": "code",
   "execution_count": 1,
   "id": "a56ebe0f",
   "metadata": {
    "slideshow": {
     "slide_type": "slide"
    }
   },
   "outputs": [],
   "source": [
    "import numpy as np\n",
    "np.set_printoptions(legacy='1.21')\n",
    "from scipy import stats\n",
    "import pandas as pd\n",
    "import seaborn as sns\n",
    "sns.set_theme()"
   ]
  },
  {
   "cell_type": "markdown",
   "id": "c37de901",
   "metadata": {
    "slideshow": {
     "slide_type": "slide"
    }
   },
   "source": [
    "# Themen\n",
    "\n",
    "* Diversitätsindex nach Simpson\n",
    "* Data Snooping\n",
    "* Multiples Testen"
   ]
  },
  {
   "cell_type": "markdown",
   "id": "c7843b88",
   "metadata": {
    "slideshow": {
     "slide_type": "slide"
    }
   },
   "source": [
    "# Diversitätsindex nach Simpson"
   ]
  },
  {
   "cell_type": "markdown",
   "id": "268a9e1e",
   "metadata": {
    "slideshow": {
     "slide_type": "slide"
    }
   },
   "source": [
    "## Wahrscheinlichkeit"
   ]
  },
  {
   "cell_type": "markdown",
   "id": "b9a03ac4",
   "metadata": {
    "slideshow": {
     "slide_type": "fragment"
    }
   },
   "source": [
    "* Wahrscheinlichkeitsverteilungen sind Modellannahmen"
   ]
  },
  {
   "cell_type": "markdown",
   "id": "3be97bec",
   "metadata": {
    "slideshow": {
     "slide_type": "fragment"
    }
   },
   "source": [
    "* Beispielsweise wollen wir in der Statistik die Wahrscheinlichkeit einer falschen Antwort minimieren"
   ]
  },
  {
   "cell_type": "markdown",
   "id": "b0b4f45d",
   "metadata": {
    "slideshow": {
     "slide_type": "slide"
    }
   },
   "source": [
    "#### Diversitätsindex\n",
    "\n",
    "Beispiel:  Wir haben zwei Bienenpopulationen aus je 1000 Individuen\n",
    "\n",
    "* Population 1 umfasst 900 Honigbienen, 80 rote Mauerbienen und 20 Löcherbienen\n",
    "* Population 2 umfasst 600 rote und 400 gehörnte Mauerbienen\n",
    "\n",
    "Welche von beiden Artengemeinschaften hat die größere Artenvielfalt?"
   ]
  },
  {
   "cell_type": "markdown",
   "id": "dcc2845b",
   "metadata": {
    "slideshow": {
     "slide_type": "slide"
    }
   },
   "source": [
    "* Der *Diversitätsindex* nach Simpson ist die Wahrscheinlichkeit, dass zwei aus einer Artengemeinschaft zufällig ausgewählte Individuen derselben Art angehören.  \n",
    "\n",
    "* Je kleiner er ist, umso größer ist die Diversität."
   ]
  },
  {
   "cell_type": "markdown",
   "id": "5edaacff",
   "metadata": {
    "slideshow": {
     "slide_type": "fragment"
    }
   },
   "source": [
    "* Es gibt auch noch andere Definitionen des Diversitätsindex.  Wir verwenden immer die von Simpson."
   ]
  },
  {
   "cell_type": "markdown",
   "id": "4ed8a6ca",
   "metadata": {
    "slideshow": {
     "slide_type": "slide"
    }
   },
   "source": [
    "### Beispiel Population 1"
   ]
  },
  {
   "cell_type": "markdown",
   "id": "58c14c84",
   "metadata": {},
   "source": [
    "Es gibt"
   ]
  },
  {
   "cell_type": "code",
   "execution_count": 2,
   "id": "8f27b38d",
   "metadata": {},
   "outputs": [
    {
     "data": {
      "text/plain": [
       "999000"
      ]
     },
     "execution_count": 2,
     "metadata": {},
     "output_type": "execute_result"
    }
   ],
   "source": [
    "gesamt = 1000 * 999\n",
    "gesamt"
   ]
  },
  {
   "cell_type": "markdown",
   "id": "31dd4cc1",
   "metadata": {},
   "source": [
    "Paare verschiedener Bienen"
   ]
  },
  {
   "cell_type": "markdown",
   "id": "67598eda",
   "metadata": {
    "slideshow": {
     "slide_type": "fragment"
    }
   },
   "source": [
    "Es gibt"
   ]
  },
  {
   "cell_type": "code",
   "execution_count": 3,
   "id": "fd30ad22",
   "metadata": {},
   "outputs": [
    {
     "data": {
      "text/plain": [
       "809100"
      ]
     },
     "execution_count": 3,
     "metadata": {},
     "output_type": "execute_result"
    }
   ],
   "source": [
    "honig = 900*899\n",
    "honig"
   ]
  },
  {
   "cell_type": "markdown",
   "id": "eacc6a5d",
   "metadata": {},
   "source": [
    "Paare von Honigbienen"
   ]
  },
  {
   "cell_type": "markdown",
   "id": "2e67ee41",
   "metadata": {
    "slideshow": {
     "slide_type": "slide"
    }
   },
   "source": [
    "Es gibt"
   ]
  },
  {
   "cell_type": "code",
   "execution_count": 4,
   "id": "15424c7e",
   "metadata": {},
   "outputs": [
    {
     "data": {
      "text/plain": [
       "6320"
      ]
     },
     "execution_count": 4,
     "metadata": {},
     "output_type": "execute_result"
    }
   ],
   "source": [
    "mauer = 80*79\n",
    "mauer"
   ]
  },
  {
   "cell_type": "markdown",
   "id": "2d9a88c9",
   "metadata": {},
   "source": [
    "Paare von Mauerbienen"
   ]
  },
  {
   "cell_type": "markdown",
   "id": "62bfa6fa",
   "metadata": {
    "slideshow": {
     "slide_type": "fragment"
    }
   },
   "source": [
    "Es gibt"
   ]
  },
  {
   "cell_type": "code",
   "execution_count": 5,
   "id": "9dab630e",
   "metadata": {},
   "outputs": [
    {
     "data": {
      "text/plain": [
       "380"
      ]
     },
     "execution_count": 5,
     "metadata": {},
     "output_type": "execute_result"
    }
   ],
   "source": [
    "loecher = 20*19\n",
    "loecher"
   ]
  },
  {
   "cell_type": "markdown",
   "id": "2d7e0957",
   "metadata": {},
   "source": [
    "Paare von Löcherbienen"
   ]
  },
  {
   "cell_type": "markdown",
   "id": "2a3ee2d4",
   "metadata": {
    "slideshow": {
     "slide_type": "slide"
    }
   },
   "source": [
    "Das bedeutet, dass es "
   ]
  },
  {
   "cell_type": "code",
   "execution_count": 6,
   "id": "77a543a5",
   "metadata": {},
   "outputs": [
    {
     "data": {
      "text/plain": [
       "815800"
      ]
     },
     "execution_count": 6,
     "metadata": {},
     "output_type": "execute_result"
    }
   ],
   "source": [
    "paare_gleich_pop1 = honig + mauer + loecher\n",
    "paare_gleich_pop1"
   ]
  },
  {
   "cell_type": "markdown",
   "id": "cf114c28",
   "metadata": {},
   "source": [
    "Paare gibt, bei denen beide Bienen der selben Art angehören"
   ]
  },
  {
   "cell_type": "markdown",
   "id": "9441c811",
   "metadata": {
    "slideshow": {
     "slide_type": "fragment"
    }
   },
   "source": [
    "Der Diversitätsindex ist"
   ]
  },
  {
   "cell_type": "code",
   "execution_count": 7,
   "id": "001a761a",
   "metadata": {},
   "outputs": [
    {
     "data": {
      "text/plain": [
       "0.8166166166166167"
      ]
     },
     "execution_count": 7,
     "metadata": {},
     "output_type": "execute_result"
    }
   ],
   "source": [
    "d1 = paare_gleich_pop1 / gesamt\n",
    "d1"
   ]
  },
  {
   "cell_type": "markdown",
   "id": "e29fe9e1",
   "metadata": {
    "slideshow": {
     "slide_type": "slide"
    }
   },
   "source": [
    "### Jetzt dasselbe für die andere Population"
   ]
  },
  {
   "cell_type": "markdown",
   "id": "96cb79e0",
   "metadata": {},
   "source": [
    "Es gibt"
   ]
  },
  {
   "cell_type": "code",
   "execution_count": 8,
   "id": "8d8bfcfe",
   "metadata": {},
   "outputs": [
    {
     "data": {
      "text/plain": [
       "359400"
      ]
     },
     "execution_count": 8,
     "metadata": {},
     "output_type": "execute_result"
    }
   ],
   "source": [
    "rot = 600*599\n",
    "rot"
   ]
  },
  {
   "cell_type": "markdown",
   "id": "ef23bd4a",
   "metadata": {},
   "source": [
    "Paare von roten Mauerbienen"
   ]
  },
  {
   "cell_type": "markdown",
   "id": "4e7f2e22",
   "metadata": {
    "slideshow": {
     "slide_type": "fragment"
    }
   },
   "source": [
    "Es gibt"
   ]
  },
  {
   "cell_type": "code",
   "execution_count": 9,
   "id": "4a5105a3",
   "metadata": {},
   "outputs": [
    {
     "data": {
      "text/plain": [
       "159600"
      ]
     },
     "execution_count": 9,
     "metadata": {},
     "output_type": "execute_result"
    }
   ],
   "source": [
    "gehoernt = 400*399\n",
    "gehoernt"
   ]
  },
  {
   "cell_type": "markdown",
   "id": "5c186c1e",
   "metadata": {},
   "source": [
    "Paare von gehörnten Mauerbienen"
   ]
  },
  {
   "cell_type": "markdown",
   "id": "27664a50",
   "metadata": {
    "slideshow": {
     "slide_type": "slide"
    }
   },
   "source": [
    "Also gibt es "
   ]
  },
  {
   "cell_type": "code",
   "execution_count": 10,
   "id": "474ac4e1",
   "metadata": {
    "slideshow": {
     "slide_type": "-"
    }
   },
   "outputs": [
    {
     "data": {
      "text/plain": [
       "519000"
      ]
     },
     "execution_count": 10,
     "metadata": {},
     "output_type": "execute_result"
    }
   ],
   "source": [
    "paare_gleich_pop2 = rot + gehoernt\n",
    "paare_gleich_pop2"
   ]
  },
  {
   "cell_type": "markdown",
   "id": "ccf24ccc",
   "metadata": {},
   "source": [
    "Paare, bei denen beide Bienen der selben Art angehören"
   ]
  },
  {
   "cell_type": "markdown",
   "id": "c121febf",
   "metadata": {
    "slideshow": {
     "slide_type": "fragment"
    }
   },
   "source": [
    "Der Diversitätsindex der zweiten Population beträgt "
   ]
  },
  {
   "cell_type": "code",
   "execution_count": 11,
   "id": "a8fc938c",
   "metadata": {},
   "outputs": [
    {
     "data": {
      "text/plain": [
       "0.5195195195195195"
      ]
     },
     "execution_count": 11,
     "metadata": {},
     "output_type": "execute_result"
    }
   ],
   "source": [
    "d2 = paare_gleich_pop2 / gesamt\n",
    "d2"
   ]
  },
  {
   "cell_type": "markdown",
   "id": "61ca7c6e",
   "metadata": {
    "slideshow": {
     "slide_type": "fragment"
    }
   },
   "source": [
    "Nach Simpson ist die zweite Artengemeinschaft diverser als die erste."
   ]
  },
  {
   "cell_type": "markdown",
   "id": "f703dc4d",
   "metadata": {
    "slideshow": {
     "slide_type": "slide"
    }
   },
   "source": [
    "# Data Snooping "
   ]
  },
  {
   "cell_type": "markdown",
   "id": "84e8a182",
   "metadata": {
    "slideshow": {
     "slide_type": "slide"
    }
   },
   "source": [
    "Wir kommen zurück zur schließenden Statistik"
   ]
  },
  {
   "cell_type": "markdown",
   "id": "399b9b66",
   "metadata": {},
   "source": [
    "* \"Snooping\" = \"Schnüffeln\"\n",
    "* Data Snooping bedeutet, dass man den Test für dieselben Daten rechnet, die man auch für die Formulierung der Hypothese benutzt hat "
   ]
  },
  {
   "cell_type": "markdown",
   "id": "3e46520b",
   "metadata": {
    "slideshow": {
     "slide_type": "fragment"
    }
   },
   "source": [
    "* Jemand stellt fest, dass in einer Stadt von 50 Neugeborenen 35 weiblich sind.\n",
    "* Wir machen den entsprechenden Binomialtest"
   ]
  },
  {
   "cell_type": "code",
   "execution_count": 13,
   "id": "0037131d",
   "metadata": {},
   "outputs": [],
   "source": [
    "stats.binomtest?"
   ]
  },
  {
   "cell_type": "code",
   "execution_count": 12,
   "id": "4946c00e",
   "metadata": {},
   "outputs": [
    {
     "data": {
      "text/plain": [
       "BinomTestResult(k=35, n=50, alternative='two-sided', statistic=0.7, pvalue=0.006600447966810918)"
      ]
     },
     "execution_count": 12,
     "metadata": {},
     "output_type": "execute_result"
    }
   ],
   "source": [
    "stats.binomtest(35, 50)"
   ]
  },
  {
   "cell_type": "markdown",
   "id": "af318c61",
   "metadata": {
    "slideshow": {
     "slide_type": "fragment"
    }
   },
   "source": [
    "* Die Nullhypothese, dass die Wahrscheinlichkeiten von Jungs- und Mädchengeburten gleich sind, kann abgelehnt werden.  Der $p$-Wert beträgt $0.0066$\n",
    "\n"
   ]
  },
  {
   "cell_type": "markdown",
   "id": "2ccadbac",
   "metadata": {},
   "source": [
    "* Was bedeutet das?\n",
    "\n"
   ]
  },
  {
   "cell_type": "markdown",
   "id": "14553b65",
   "metadata": {
    "slideshow": {
     "slide_type": "slide"
    }
   },
   "source": [
    "### Szenario 1\n",
    "\n",
    "* *Theorie:* Bekanntlich werden die Babies von den Weißstörchen gebracht.  Eine neue Theorie besagt, dass Schwarzstörche das zwar auch tun, aber nicht im korrekten Geschlechterverhältnis.\n",
    "* *Vorgehen:* Die Forscher wählen daher einen Ort mit einer großen Population an Schwarzstörchen aus und untersuchen dort das Verhältnis von Mädchen- zu Jungsgeburten.\n",
    "* *Bewertung:* Wenn dort das Zahlenverhältnis 35:15 beträgt, ist die Theorie zum Signifikanzniveau $p = 0.0066$ bestätigt."
   ]
  },
  {
   "cell_type": "markdown",
   "id": "ddf13902",
   "metadata": {
    "slideshow": {
     "slide_type": "slide"
    }
   },
   "source": [
    "## Szenario 2\n",
    "\n",
    "* *Theorie:* Keine.  Man will bloss mal gucken.\n",
    "* *Vorgehen:* In 100 Gemeinden mit mehr als 50 Geburten wird das Verhältnis zwischen Mädchen- und Jungsgeburten untersucht. Tatsächlich findet sich eine Gemeinde mit dem Zahlenverhältnis 35:15\n",
    "* *Bewertung:* Das ist **Data Snooping**, weil die Hypothese aus denselben Daten generiert worden ist, mit denen anschließend der Test gerechnet wird."
   ]
  },
  {
   "cell_type": "markdown",
   "id": "0b13c513",
   "metadata": {
    "slideshow": {
     "slide_type": "slide"
    }
   },
   "source": [
    "### Warum ist Data Snooping schlecht?\n",
    "\n",
    "* Wir haben ein Experiment, welches nur mit einer Wahrscheinlichkeit $ p = 0.0066 $ gelingt.\n",
    "* Wir wiederholen dieses Experiment 100 mal."
   ]
  },
  {
   "cell_type": "markdown",
   "id": "8834bf4e",
   "metadata": {
    "slideshow": {
     "slide_type": "fragment"
    }
   },
   "source": [
    "Mit welcher Wahrscheinlichkeit gelingt das Experiment in mindestens einem dieser Fälle?"
   ]
  },
  {
   "cell_type": "markdown",
   "id": "8e78e1fd",
   "metadata": {},
   "source": [
    "Das ist eine Wiederholung eines ja/nein-Experiments mit folgenden Daten\n",
    "\n",
    "* Erfolgswahrscheinlichkeit im Einzelfall $p=0.0066$\n",
    "* Stichpropenumfang $n=100$"
   ]
  },
  {
   "cell_type": "markdown",
   "id": "e3400077",
   "metadata": {},
   "source": [
    "Zugehörige Binomialverteilung"
   ]
  },
  {
   "cell_type": "code",
   "execution_count": 15,
   "id": "109de526",
   "metadata": {
    "slideshow": {
     "slide_type": "fragment"
    }
   },
   "outputs": [],
   "source": [
    "P = stats.binom(100, 0.0066)"
   ]
  },
  {
   "cell_type": "markdown",
   "id": "5d6b1982",
   "metadata": {
    "slideshow": {
     "slide_type": "slide"
    }
   },
   "source": [
    "Wahrscheinlichkeit, dass es keinen einzigen Erfolg gibt"
   ]
  },
  {
   "cell_type": "code",
   "execution_count": 16,
   "id": "539bbb91",
   "metadata": {},
   "outputs": [
    {
     "data": {
      "text/plain": [
       "0.5157218904013275"
      ]
     },
     "execution_count": 16,
     "metadata": {},
     "output_type": "execute_result"
    }
   ],
   "source": [
    "p0 = P.pmf(0)\n",
    "p0"
   ]
  },
  {
   "cell_type": "markdown",
   "id": "bfd7efa6",
   "metadata": {
    "slideshow": {
     "slide_type": "fragment"
    }
   },
   "source": [
    "Wahrscheinlichkeit, dass es mindestens einen Erfolg gibt"
   ]
  },
  {
   "cell_type": "code",
   "execution_count": 17,
   "id": "0743ad73",
   "metadata": {},
   "outputs": [
    {
     "data": {
      "text/plain": [
       "0.48427810959867246"
      ]
     },
     "execution_count": 17,
     "metadata": {},
     "output_type": "execute_result"
    }
   ],
   "source": [
    "1 - p0"
   ]
  },
  {
   "cell_type": "markdown",
   "id": "a7ebe536",
   "metadata": {
    "slideshow": {
     "slide_type": "fragment"
    }
   },
   "source": [
    "#### Fazit\n",
    "\n",
    "Wenn ein Test, der nur mit Wahrscheinlichkeit 0.0066 ein überraschendes Ergebnis bringt, 100 mal wiederholt wird, dann ist die Wahrscheinlichkeit mindestens eines überraschendenen Ergebnisses fast gleich 50%"
   ]
  },
  {
   "cell_type": "markdown",
   "id": "1f6970e5",
   "metadata": {
    "slideshow": {
     "slide_type": "slide"
    }
   },
   "source": [
    "## Multiple Vergleiche\n",
    "\n",
    "Möglichkeiten für korrektes Vorgehen "
   ]
  },
  {
   "cell_type": "markdown",
   "id": "08457300",
   "metadata": {},
   "source": [
    "* Versuchsplanung\n",
    "  * Pilotversuch"
   ]
  },
  {
   "cell_type": "markdown",
   "id": "567b12ef",
   "metadata": {
    "slideshow": {
     "slide_type": "fragment"
    }
   },
   "source": [
    "* statistische Verfahren\n",
    "  * Bonferroni-Korrektur\n",
    "  * Bonferroni-Holm-Korrektur\n",
    "  * False Discovery Rate"
   ]
  },
  {
   "cell_type": "markdown",
   "id": "5b1633ce",
   "metadata": {
    "slideshow": {
     "slide_type": "slide"
    }
   },
   "source": [
    "# Bonferroni-Korrektur\n",
    "\n",
    "* Wenn man simultan $n$ Vergleiche durchführt, dann schreibt die Bonferroni-Korrektur vor, dass man jeden einzelnen Vergleich zum Signifikanzniveau $\\frac\\alpha n$ durchführt, um insgesamt das Signifikanzniveau $\\alpha$ zu erreichen"
   ]
  },
  {
   "cell_type": "markdown",
   "id": "2cac1b1c",
   "metadata": {
    "slideshow": {
     "slide_type": "fragment"
    }
   },
   "source": [
    "* Im Beispiel der Schwarzstörche hätte für jeden Einzeltest das Signifikanzniveau $\\frac{0.05}{100} =  0.0005$ gewählt werden müssen"
   ]
  },
  {
   "cell_type": "markdown",
   "id": "b2c4c874",
   "metadata": {
    "slideshow": {
     "slide_type": "slide"
    }
   },
   "source": [
    "## Bonferroni-Holm-Korrektur \n",
    "\n",
    "erkläre ich, nachdem ich die Bonferroni-Korrektur für die ANOVA vorgemacht habe"
   ]
  },
  {
   "cell_type": "markdown",
   "id": "f112a985",
   "metadata": {
    "slideshow": {
     "slide_type": "slide"
    }
   },
   "source": [
    "## False Discovery Rate\n",
    "\n",
    "* Beispiel Bilddaten: 20 Magnetresonanztomographie-Aufnahmen (MRT) von gesunden Gehirnen und 20 MRT-Aufnahmen von erkrankten Gehirnen, wobei die Gehirne auf einen Standardatlas normalisiert werden\n",
    "* In dem Standardatlas werden alle Voxel (3D-Pixel) markiert, bei denen der Eisengehalt der Gruppe der Erkrankten signifikant über dem der Gruppe der Gesunden liegt"
   ]
  },
  {
   "cell_type": "markdown",
   "id": "5666767f",
   "metadata": {
    "slideshow": {
     "slide_type": "slide"
    }
   },
   "source": [
    "* Wenn der Bildausschnit $100 mm \\times 100mm \\times 100mm$ beträgt und die Auflösung des MRT bei 1.5mm liegt, dann haben wir"
   ]
  },
  {
   "cell_type": "code",
   "execution_count": 18,
   "id": "d5dc79d6",
   "metadata": {},
   "outputs": [
    {
     "data": {
      "text/plain": [
       "66.66666666666667"
      ]
     },
     "execution_count": 18,
     "metadata": {},
     "output_type": "execute_result"
    }
   ],
   "source": [
    "100/1.5"
   ]
  },
  {
   "cell_type": "markdown",
   "id": "b9eca741",
   "metadata": {},
   "source": [
    "Voxel für eine Seitenlänge, also insgesamt"
   ]
  },
  {
   "cell_type": "code",
   "execution_count": 19,
   "id": "12dd151d",
   "metadata": {},
   "outputs": [
    {
     "data": {
      "text/plain": [
       "287496"
      ]
     },
     "execution_count": 19,
     "metadata": {},
     "output_type": "execute_result"
    }
   ],
   "source": [
    "66 * 66 * 66"
   ]
  },
  {
   "cell_type": "markdown",
   "id": "5fed8185",
   "metadata": {},
   "source": [
    "d.h. knapp 290000 Voxel.  Damit ist eine Bonferroni-Korrektur undenkbar."
   ]
  },
  {
   "cell_type": "markdown",
   "id": "d9a22062",
   "metadata": {
    "slideshow": {
     "slide_type": "slide"
    }
   },
   "source": [
    "* Alternative: False Discovery Rate\n",
    "* FDR von 1% sagt: im Schnitt sind nur 1% aller markierten Voxel falsch\n",
    "* Zum Vergleich: Ein multipler Test zum Signifikanzniveau 5% sagt: Die Wahrscheinlichkeit, dass auch nur ein einziges Voxel zu Unrecht markiert ist, beträgt höchstens 5%"
   ]
  },
  {
   "cell_type": "markdown",
   "id": "433bf3af",
   "metadata": {
    "slideshow": {
     "slide_type": "slide"
    }
   },
   "source": [
    "# Gruppenvergleiche"
   ]
  },
  {
   "cell_type": "markdown",
   "id": "7dc00083",
   "metadata": {},
   "source": [
    "* An fünf verschiedenen Messstellen wurde die Konzentration eines Schadstoffs gemessen\n",
    "* Hat die Messstelle einen Einfluss auf die Konzentration?"
   ]
  },
  {
   "cell_type": "markdown",
   "id": "69479184",
   "metadata": {
    "slideshow": {
     "slide_type": "fragment"
    }
   },
   "source": [
    "* Wir könnten die Konzentrationen an je zwei Messstellen vergleichen\n",
    "* Das sind $\\begin{pmatrix} 5 \\\\ 2 \\end{pmatrix} = 10$ Vergleiche\n",
    "* Wir müssen dann entsprechend Bonferroni korrigieren"
   ]
  },
  {
   "cell_type": "markdown",
   "id": "8db40a0a",
   "metadata": {
    "slideshow": {
     "slide_type": "fragment"
    }
   },
   "source": [
    "* nicht optimal\n",
    "* Solche Gruppenvergleichesind das Einsatzgebiet der ANOVA\n",
    "* ANOVA = Analysis of Variance"
   ]
  }
 ],
 "metadata": {
  "celltoolbar": "Slideshow",
  "kernelspec": {
   "display_name": "Python 3 (ipykernel)",
   "language": "python",
   "name": "python3"
  },
  "language_info": {
   "codemirror_mode": {
    "name": "ipython",
    "version": 3
   },
   "file_extension": ".py",
   "mimetype": "text/x-python",
   "name": "python",
   "nbconvert_exporter": "python",
   "pygments_lexer": "ipython3",
   "version": "3.12.7"
  }
 },
 "nbformat": 4,
 "nbformat_minor": 5
}
