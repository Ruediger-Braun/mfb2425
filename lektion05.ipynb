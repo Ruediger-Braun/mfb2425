{
 "cells": [
  {
   "cell_type": "markdown",
   "id": "e01baa24",
   "metadata": {
    "slideshow": {
     "slide_type": "slide"
    }
   },
   "source": [
    "# Mathematik für Biologiestudierende\n",
    "\n",
    "Wintersemester 2024/25\n",
    "\n",
    "6. November 2024\n",
    "\n",
    "&copy; 2024 Prof. Dr. Rüdiger W. Braun "
   ]
  },
  {
   "cell_type": "markdown",
   "id": "f33d489e",
   "metadata": {
    "slideshow": {
     "slide_type": "slide"
    }
   },
   "source": [
    "# Wahrscheinlichkeitsheorie"
   ]
  },
  {
   "cell_type": "markdown",
   "id": "c968e670",
   "metadata": {
    "slideshow": {
     "slide_type": "slide"
    }
   },
   "source": [
    "## Wahrscheinlichkeit\n",
    "\n",
    "* Was ist eine Wahrscheinlichkeit?"
   ]
  },
  {
   "cell_type": "markdown",
   "id": "e47873f2",
   "metadata": {
    "slideshow": {
     "slide_type": "fragment"
    }
   },
   "source": [
    "* Eine Wahrscheinlichkeit ist eine Modellannahme. \n",
    "* Modellannahmen kommen her von\n",
    "   * beobachteten relativen Häufigkeiten\n",
    "   * abstrakten Überlegungen (z.B. faire Münze)\n",
    "   * Konstruktion aus Teilsystemen (z.B. mehrfacher Münzwurf)\n",
    "* Überprüfung des Modells am Experiment"
   ]
  },
  {
   "cell_type": "markdown",
   "id": "7e2cba91",
   "metadata": {
    "slideshow": {
     "slide_type": "slide"
    }
   },
   "source": [
    "  ## Modelle\n",
    "  \n",
    "  * Die Wissenschaft arbeitet mit Modellen\n",
    "  * Das Forschungsobjekt der Naturwissenschaften kann meist nicht vollständig verstanden werden, weil es\n",
    "    * zu komplex ist (Organismus eines Säugetiers)\n",
    "    * zu schlecht zu beobachten ist (Atomkern, Galaxie)\n",
    "    * beides (Zellstoffwechsel)\n",
    "  * Also macht man sich ein Modell; zu den Modellannahmen gehören oft auch Wahrscheinlichkeiten\n",
    "  * Die wissenschaftliche Methode besteht darin, dass man Vorhersagen aus dem Modell ableitet und diese im Experiment überprüft (Falsifizierbarkeit)"
   ]
  },
  {
   "cell_type": "markdown",
   "id": "55eea5f3",
   "metadata": {
    "slideshow": {
     "slide_type": "slide"
    }
   },
   "source": [
    "## Elementarereignisse\n",
    "\n",
    "* Welchen Objekten können Wahrscheinlichkeiten zugeordnet werden?\n",
    "* Diese Objekte sind die Elementarereignisse\n",
    "* Ein Elementarereignis ist ein Versuchsergebnis, das nicht aus kleineren Einheiten zusammengesetzt ist\n",
    "* Beispiel:  Beim Experiment \"vierfacher Wurf einer fairen Münze\" gibt es 16 Elementarereignisse (\"a\": Adler, \"z\": Zahl)\n",
    " \\begin{array}{cccc}\n",
    "        (a,a,a,a) & (a,a,a,z) & (a,a,z,a) & (a,a,z,z) \\\\\n",
    "        (a,z,a,a) & (a,z,a,z) & (a,z,z,a) & (a,z,z,z) \\\\\n",
    "        (z,a,a,a) & (z,a,a,z) & (z,a,z,a) & (z,a,z,z) \\\\\n",
    "        (z,z,a,a) & (z,z,a,z) & (z,z,z,a) & (z,z,z,z)\n",
    "   \\end{array}\n",
    "    \n",
    "* Die Aussage \"Die Münze ist fair\" bedeutet, dass jedes dieser Elementarereignisse die Wahrscheinlichkeit $1/16$ besitzt\n"
   ]
  },
  {
   "cell_type": "markdown",
   "id": "c16f8a63",
   "metadata": {
    "slideshow": {
     "slide_type": "slide"
    }
   },
   "source": [
    "## Ereignisse\n",
    "\n",
    "* Elementarereignisse werden zu Ereignissen zusammengefasst\n",
    "* Zum Beispiel interessiert\n",
    "      \\begin{equation*}\n",
    "        A = \\{ (a,a,z,z), (a,z,a,z), (a,z,z,a), \n",
    "        (z,a,a,z), (z,a,z,a), (z,z,a,a) \\}  \n",
    "    \\end{equation*}\n",
    "* Elementarereignisse werden häufig durch den griechischen Buchstaben $\\omega$ bezeichnet \n",
    "* Ereignisse durch große lateinische Buchstaben\n",
    "* Spezielle Ereignisse:\n",
    "  * Das *sichere Ereignis* besteht aus allen möglichen Elementarereignissen für das gegebene Experiment.  Es wird mit $\\Omega$ bezeichnet.  $\\Omega$ heißt auch *Ereignisraum*.\n",
    "  * Das *unmögliche Ereignis* ist leer.  Es wird mit $\\emptyset$ bezeichnet."
   ]
  },
  {
   "cell_type": "markdown",
   "id": "031ed1f4",
   "metadata": {
    "slideshow": {
     "slide_type": "slide"
    }
   },
   "source": [
    "## Beispiele für Ereignisse \n",
    "\n",
    "* Zweifacher Wurf eines Würfels:  Der Ereignisraum ist\n",
    "    \\begin{align*}\n",
    "      \\Omega &=\n",
    "      \\begin{aligned}[t]\n",
    "        \\{ &(1,1), (1,2), (1,3), (1,4), (1,5), (1,6), \\\\\n",
    "        &(2,1), (2,2), (2,3), (2,4), (2,5), (2,6), \\\\\n",
    "        &(3,1), (3,2), (3,3), (3,4), (3,5), (3,6), \\\\\n",
    "        &(4,1), (4,2), (4,3), (4,4), (4,5), (4,6), \\\\\n",
    "        &(5,1), (5,2), (5,3), (5,4), (5,5), (5,6), \\\\\n",
    "        &(6,1), (6,2), (6,3), (6,4), (6,5), (6,6) \\}\n",
    "      \\end{aligned}\n",
    "    \\end{align*}"
   ]
  },
  {
   "cell_type": "markdown",
   "id": "3fd28f30",
   "metadata": {
    "slideshow": {
     "slide_type": "fragment"
    }
   },
   "source": [
    "* Mit *Pasch* bezeichnet man das Ereignis\n",
    "    \\begin{equation*}\n",
    "      A = \\{(1,1), (2,2), (3,3), (4,4), (5,5), (6,6) \\}\n",
    "    \\end{equation*}\n",
    "    "
   ]
  },
  {
   "cell_type": "markdown",
   "id": "fa784eef",
   "metadata": {
    "slideshow": {
     "slide_type": "fragment"
    }
   },
   "source": [
    "* Das Ereignis \"eine 3 und eine 4\" ist \n",
    "    \\begin{equation*}\n",
    "      B = \\{(3,4), (4,3) \\}\n",
    "    \\end{equation*}"
   ]
  },
  {
   "cell_type": "markdown",
   "id": "186f90fa",
   "metadata": {
    "slideshow": {
     "slide_type": "slide"
    }
   },
   "source": [
    "## Konstruktionen\n",
    "\n",
    "Aus einfachen Ereignissen werden komplexere aufgebaut.\n",
    "* Durchschnitt\n",
    "* Vereinigung\n",
    "* Differenz\n",
    "* Komplement\n",
    "* Produkt"
   ]
  },
  {
   "cell_type": "markdown",
   "id": "0425c9c7",
   "metadata": {
    "slideshow": {
     "slide_type": "slide"
    }
   },
   "source": [
    "## Durchschnitt zweier Ereignisse\n",
    "\n",
    "![Image](bilder/A_cap_B.svg)\n",
    "  \n",
    "Der Durchschnitt $A \\cap B$ zweier Ereignisse $A$ und $B$ besteht aus allen Elementarereignissen, die sowohl zu $A$ als auch zu $B$ gehören."
   ]
  },
  {
   "cell_type": "markdown",
   "id": "26fbbbd3",
   "metadata": {
    "slideshow": {
     "slide_type": "slide"
    }
   },
   "source": [
    "## Vereinigung zweier Ereignisse\n",
    "\n",
    "![Image](bilder/A_cup_B.svg)\n",
    "  \n",
    "Die Vereinigung $A \\cup B$ zweier Ereignisse $A$ und $B$ besteht aus allen Elementarereignissen, die zu mindestens einem der beiden Ereignisse gehören."
   ]
  },
  {
   "cell_type": "markdown",
   "id": "ba428a3d",
   "metadata": {
    "slideshow": {
     "slide_type": "slide"
    }
   },
   "source": [
    "## Differenz zweier Ereignisse\n",
    "\n",
    "![Image](bilder/A_minus_B.svg)\n",
    "\n",
    "Die Differenz $A \\setminus B$ zweier Ereignisse $A$ und $B$ besteht aus allen Elementarereignissen, die zu $A$, aber nicht zu $B$ gehören."
   ]
  },
  {
   "cell_type": "markdown",
   "id": "c48fda10",
   "metadata": {
    "slideshow": {
     "slide_type": "slide"
    }
   },
   "source": [
    "## Komplement\n",
    "\n",
    "![Image](bilder/A_c.svg)\n",
    "  \n",
    "Das Komplement $A^c$ eines Ereignisses $A$ besteht aus allen Elementarereignissen, die nicht zu $A$ gehören."
   ]
  },
  {
   "cell_type": "markdown",
   "id": "9217248f",
   "metadata": {
    "slideshow": {
     "slide_type": "slide"
    }
   },
   "source": [
    "## Mengensprechweise\n",
    "\n",
    "Die Menge aller Elementarereignisse ist der Ereignisraum.  Seine Teilmengen heißen (Zufalls)-Ereignisse.  Die Mengenlehre dient uns als Sprechweise, Ereignisse kurz und zweifelsfrei zu beschreiben.\n",
    "\n",
    "\n",
    "|    verbal                                                   | mathematisch               |\n",
    "|-------------------------------------------------------------|----------------------------|\n",
    "| Ereignisse $A$ und $B$ treffen ein                          | $ A \\cap B $               |\n",
    "| Ereignis $A$ oder Ereignis $B$ trifft ein                   | $ A \\cup B $               |\n",
    "| Ereignis $A$ trifft nicht ein                               | $ A^c $                    |\n",
    "| Ereignis $A$ trifft ein, Ereignis $B$ aber nicht            | $ A \\setminus B $          |\n",
    "| unmögliches Ereignis                                        | $ \\emptyset $              |\n",
    "| sicheres Ereignis (= Ereignisraum)                          | $ \\Omega $                 |\n",
    "| Elementarereignis $\\omega$ gehört zu $A$                    | $ \\omega \\in A $           |\n",
    "| Elementarereignis $\\omega$ gehört nicht zu $A$              | $ \\omega \\notin A $        |\n",
    "| alle Elementarereignisse von $A$ gehören zu $B$             | $ A \\subseteq B $          |\n"
   ]
  },
  {
   "cell_type": "markdown",
   "id": "8c2aadd6",
   "metadata": {
    "slideshow": {
     "slide_type": "slide"
    }
   },
   "source": [
    "## Beispiele für Mengensprech\n",
    "\n",
    "* $\\Omega = \\text{\"Wurf eines Würfels\"} = \\{1,2,3,4,5,6\\}$\n",
    "* $A = \\text{\"ungerade Zahl gewürfelt\"} = \\{1, 3, 5\\}$ \n",
    "* $B = \\text{\"Zahl kleiner $4$ gewürfelt\"} = \\{1, 2, 3\\}$\n"
   ]
  },
  {
   "cell_type": "markdown",
   "id": "2c045a8e",
   "metadata": {
    "slideshow": {
     "slide_type": "fragment"
    }
   },
   "source": [
    "* $A \\cap B = \\{ 1, 3 \\}$\n",
    "* $A \\cup B = \\{ 1, 2, 3, 5 \\}$\n",
    "* $A^c = \\{ 2, 4, 6 \\}$\n",
    "* $A \\setminus B = \\{ 5 \\}$\n",
    "* $A \\cup B = \\Omega \\setminus \\{ 4, 6 \\}$"
   ]
  },
  {
   "cell_type": "markdown",
   "id": "33e366dc",
   "metadata": {
    "slideshow": {
     "slide_type": "slide"
    }
   },
   "source": [
    "# Produkt\n",
    "\n",
    "* Gegeben zwei Ereignisräume $\\Omega_1$ und $\\Omega_2$ und in jedem ein Ereignis\n",
    "    \\begin{equation*}\n",
    "      A \\subseteq \\Omega_1 \\qquad B \\subseteq \\Omega_2 \n",
    "    \\end{equation*}\n",
    "* Das Produktereignis $A \\times B$ besteht aus allen Paaren $(a,b)$ mit $a \\in A$ und $b \\in B$"
   ]
  },
  {
   "cell_type": "markdown",
   "id": "c7595f06",
   "metadata": {
    "slideshow": {
     "slide_type": "fragment"
    }
   },
   "source": [
    "* Mathematisch\n",
    "    \\begin{equation*}\n",
    "      A \\times B\n",
    "      = \\{ (a,b) \\mid a \\in A,\\, b \\in B \\}\n",
    "    \\end{equation*}\n",
    "* Es ist ein Ereignis im Ereignisraum $\\Omega_1 \\times \\Omega_2$\n",
    "* Der Begriff des Produkts erlaubt die Modellierung von Messwiederholungen."
   ]
  },
  {
   "cell_type": "markdown",
   "id": "fca0c0c3",
   "metadata": {
    "slideshow": {
     "slide_type": "slide"
    }
   },
   "source": [
    "## Ein Produkt mit 12 Elementen\n",
    "\n",
    "$\\color{blue} A = \\{a_1, a_2, a_3\\}$\n",
    "    \n",
    "$\\color{green} B = \\{b_1, b_2, b_3, b_4\\} $\n",
    "    \n",
    "\\begin{array}{c|cccc}\n",
    "      & \\color{green} b_1 & \\color{green} b_2 & \\color{green} b_3 & \\color{green} b_4 \\\\\\hline\n",
    "      \\color{blue} a_1 & (\\color{blue} a_1, \\color{green} b_1) & (\\color{blue} a_1, \\color{green} b_2) &\n",
    "      (\\color{blue} a_1, \\color{green} b_3) & (\\color{blue} a_1, \\color{green} b_4) \\\\\n",
    "      \\color{blue} a_2 & (\\color{blue} a_2, \\color{green} b_1) & (\\color{blue} a_2, \\color{green} b_2) &\n",
    "      (\\color{blue} a_2, \\color{green} b_3) & (\\color{blue} a_2, \\color{green} b_4) \\\\\n",
    "      \\color{blue} a_3 & (\\color{blue} a_3, \\color{green} b_1) & (\\color{blue} a_3, \\color{green} b_2) &\n",
    "      (\\color{blue} a_3, \\color{green} b_3) & (\\color{blue} a_3, \\color{green} b_4) \n",
    "\\end{array}"
   ]
  },
  {
   "cell_type": "markdown",
   "id": "9b56dae1",
   "metadata": {
    "slideshow": {
     "slide_type": "slide"
    }
   },
   "source": [
    "## Beispiel für Produktereignis\n",
    "\n",
    "Zweifacher Wurf eines Würfels\n",
    "    \\begin{align*}\n",
    "      \\Omega &= \\{ 1,2,3,4,5,6\\}^2 \\\\\n",
    "      &=\n",
    "      \\begin{aligned}[t]\n",
    "        \\{ &(1,1), (1,2), (1,3), (1,4), (1,5), (1,6), \\\\\n",
    "        &(2,1), (2,2), (2,3), (2,4), (2,5), (2,6), \\\\\n",
    "        &(3,1), (3,2), (3,3), (3,4), (3,5), (3,6), \\\\\n",
    "        &(4,1), (4,2), (4,3), (4,4), (4,5), (4,6), \\\\\n",
    "        &(5,1), (5,2), (5,3), (5,4), (5,5), (5,6), \\\\\n",
    "        &(6,1), (6,2), (6,3), (6,4), (6,5), (6,6) \\}\n",
    "      \\end{aligned}\n",
    "    \\end{align*}"
   ]
  },
  {
   "cell_type": "markdown",
   "id": "040336ac",
   "metadata": {
    "slideshow": {
     "slide_type": "slide"
    }
   },
   "source": [
    "# Wahrscheinlichkeiten"
   ]
  },
  {
   "cell_type": "markdown",
   "id": "702d26f0",
   "metadata": {
    "slideshow": {
     "slide_type": "slide"
    }
   },
   "source": [
    "## Konsistenzregeln\n",
    "\n",
    "Für jedes Ereignis $A$ gebe es eine Zahl $P(A)$ mit\n",
    "\n",
    "* (P1) $P(A) \\ge0 $ für alle $A$\n",
    "* (P2) $P(\\Omega) = 1$\n",
    "* (P3) $P(A \\cup B) = P(A) + P(B)$, falls $ A $ und $ B $ **disjunkte** Ereignisse sind, also keine gemeinsamen     Elementarereignisse enthalten\n",
    "\n",
    "Dann ist $P$ eine Wahrscheinlichkeitsverteilung auf $\\Omega$, und $(\\Omega, P)$ ist ein wahrscheinlichkeitstheoretisches Modell des Zufallsexperiments"
   ]
  },
  {
   "cell_type": "markdown",
   "id": "d875dbe9",
   "metadata": {
    "slideshow": {
     "slide_type": "slide"
    }
   },
   "source": [
    "# Rechenregeln\n",
    "\n",
    "* $P(\\emptyset) = 0$\n",
    "* $P(A^c) = 1 - P(A)$\n",
    "* $P(A \\cup B) = P(A) + P(B)$, wenn $A \\cap B = \\emptyset$\n",
    "* $P(A \\cup B) = P(A) + P(B) - P(A\\cap B)$\n",
    "* wenn $A \\subseteq B$, dann $P(A) \\le P(B)$"
   ]
  },
  {
   "cell_type": "markdown",
   "id": "f44bb479",
   "metadata": {
    "slideshow": {
     "slide_type": "slide"
    }
   },
   "source": [
    "# Binomialkoeffizienten"
   ]
  },
  {
   "cell_type": "markdown",
   "id": "8ab129c3",
   "metadata": {
    "slideshow": {
     "slide_type": "slide"
    }
   },
   "source": [
    "# Fakultät\n",
    "\n",
    "* In der Lottotrommel sind 49 Kugeln.  **Alle** Kugeln werden gezogen, die Reihenfolge wird notiert.  Wie viele     Möglichkeiten gibt es?\n",
    "* Es gibt 49 Möglichkeiten für die erste Kugel, 48 für die zweite, 47 für die dritte, \\dots, 2 für die 48-te (also die vorletzte), und 1 für die letzte\n",
    "* Anzahl der Möglichkeiten:\n",
    "$$ 49 \\cdot 48 \\cdot 47 \\cdots 3 \\cdot 2 \\cdot 1\n",
    "$$\n",
    "* Diese Zahl schreibt man $49!$\n",
    "* Sprich \"49 Fakultät\""
   ]
  },
  {
   "cell_type": "markdown",
   "id": "de4c93fd",
   "metadata": {
    "slideshow": {
     "slide_type": "slide"
    }
   },
   "source": [
    "## Fakultät\n",
    "\n",
    "* Die Zahl\n",
    "$$      n! = n \\cdot (n-1) \\cdot (n-2) \\cdots 3 \\cdot 2 \\cdot 1 $$\n",
    "  bezeichnet man als *Fakultät* von $n$\n",
    "* Sie gibt die Anzahl der Möglichkeiten an, $n$ verschiedene Objekte anzuordnen\n",
    "* Jede solche Anordnung bezeichnet man als *Permutation*\n",
    "* Beispiele\n",
    "$$   1! = 1, 2! = 2, 3! = 6, 4! = 24, 5! = 120, 70! = 1.198 \\cdot 10^{100} $$\n",
    "* Außerdem definiert man $ 0! = 1 $ "
   ]
  },
  {
   "cell_type": "code",
   "execution_count": 1,
   "id": "c063998c",
   "metadata": {},
   "outputs": [],
   "source": [
    "import numpy as np\n",
    "np.set_printoptions(legacy=\"1.21\")"
   ]
  },
  {
   "cell_type": "code",
   "execution_count": 4,
   "id": "2c7044ff",
   "metadata": {
    "slideshow": {
     "slide_type": "slide"
    }
   },
   "outputs": [
    {
     "data": {
      "text/plain": [
       "1.197857166996989e+100"
      ]
     },
     "execution_count": 4,
     "metadata": {},
     "output_type": "execute_result"
    }
   ],
   "source": [
    "from scipy import special\n",
    "special.factorial(70)"
   ]
  },
  {
   "cell_type": "markdown",
   "id": "bb016043",
   "metadata": {
    "slideshow": {
     "slide_type": "fragment"
    }
   },
   "source": [
    "* `scipy`:  Bibliothek für wissenschaftliches Rechnen\n",
    "* gliedert sich in Teilbibliotheken\n",
    "  * eine davon ist `special` mit speziellen Funktionen\n",
    "  * eine andere ist `stats` mit statistischen Funktionen"
   ]
  },
  {
   "cell_type": "markdown",
   "id": "fc39aaa0",
   "metadata": {
    "slideshow": {
     "slide_type": "fragment"
    }
   },
   "source": [
    "Es gibt auch Bibliotheken, die $49!$ genau ausrechnen können\n",
    "\n",
    "$$\n",
    "49! = 608281864034267560872252163321295376887552831379210240000000000\n",
    "$$\n"
   ]
  },
  {
   "cell_type": "markdown",
   "id": "1d11f200",
   "metadata": {
    "slideshow": {
     "slide_type": "slide"
    }
   },
   "source": [
    "## Ziehen ohne Zurücklegen unter Beachtung der Reihenfolge\n",
    "\n",
    "* Aus der Lottotrommel werden 6 Kugeln gezogen\n",
    "* Anzahl der Möglichkeiten **unter** Beachtung der Reihenfolge\n",
    "    \\begin{equation*}\n",
    "      49 \\cdot 48 \\cdot 47 \\cdot 46 \\cdot 45 \\cdot 44\n",
    "      = 10 068 347 520\n",
    "    \\end{equation*}\n",
    "* Taschenrechner Taste `nPr`\n"
   ]
  },
  {
   "cell_type": "markdown",
   "id": "01ae3f1b",
   "metadata": {
    "slideshow": {
     "slide_type": "slide"
    }
   },
   "source": [
    "## Ziehen ohne Zurücklegen ohne Beachtung der Reihenfolge\n",
    "\n",
    "* Aus der Lottotrommel werden 6 Kugeln gezogen\n",
    "* Anzahl der Möglichkeiten **ohne** Beachtung der Reihenfolge\n",
    "$$      \\frac{49 \\cdot 48 \\cdot 47 \\cdot 46 \\cdot 45 \\cdot 44}{6 \\cdot 5\n",
    "        \\cdot 4 \\cdot 3 \\cdot 2 \\cdot 1}\n",
    "      = 13 983 816\n",
    "$$\n",
    "* Diese Zahl ist gleich\n",
    "$$      \\frac{49!}{6! \\cdot 43!} $$\n",
    "* Sie heißt \"49 über 6\" und man schreibt sie $ \\displaystyle\n",
    "    \\begin{pmatrix}\n",
    "      49 \\\\ 6\n",
    "    \\end{pmatrix} $\n",
    "* Taschenrechner: Taste `nCr`\n"
   ]
  },
  {
   "cell_type": "markdown",
   "id": "b278e71a",
   "metadata": {
    "slideshow": {
     "slide_type": "slide"
    }
   },
   "source": [
    "## Ziehen ohne Zurücklegen ohne Beachtung der Reihenfolge\n",
    "\n",
    "* $n$ bezeichne die Gesamtzahl der Objekte, und $k$ bezeichne die Anzahl der Züge.\n",
    "*\n",
    "$$      \\begin{pmatrix}\n",
    "        n \\\\k \n",
    "      \\end{pmatrix} \n",
    "      = \\frac{n!}{k! \\cdot (n-k)!}\n",
    "      = \\frac{n \\cdot (n-1) \\cdots (n-k+2) \\cdot (n-k+1)} {k \\cdot\n",
    "        (k-1) \\cdots 2 \\cdot 1} $$\n",
    "    ist die Anzahl der möglichen Auswahlen von $k$ Objekten aus $n$-Objekten.\n",
    "* Die Zahl $\n",
    "    \\begin{pmatrix}\n",
    "      n \\\\ k\n",
    "    \\end{pmatrix}\n",
    "    $ heißt *Binomialkoeffizient.*  Man sagt \"$n$ über $k$\".\n"
   ]
  },
  {
   "cell_type": "code",
   "execution_count": 5,
   "id": "4b3668d7",
   "metadata": {
    "slideshow": {
     "slide_type": "fragment"
    }
   },
   "outputs": [
    {
     "data": {
      "text/plain": [
       "13983816.0"
      ]
     },
     "execution_count": 5,
     "metadata": {},
     "output_type": "execute_result"
    }
   ],
   "source": [
    "special.binom(49, 6)"
   ]
  },
  {
   "cell_type": "markdown",
   "id": "072cb7cf",
   "metadata": {
    "slideshow": {
     "slide_type": "slide"
    }
   },
   "source": [
    "## weitere Beispiele für Binomialkoeffizienten\n",
    "\n",
    "* Wie viele Möglichkeiten gibt es, zwei Ecken eines Quadrats auszuwählen?\n",
    "  \n",
    "  Die Antwort ist\n",
    "$$      \\begin{pmatrix} \n",
    "        4 \\\\ 2\n",
    "      \\end{pmatrix}\n",
    "      = \\frac{4 \\cdot 3}{2 \\cdot 1} = 6 $$"
   ]
  },
  {
   "cell_type": "markdown",
   "id": "defa15af",
   "metadata": {
    "slideshow": {
     "slide_type": "fragment"
    }
   },
   "source": [
    "* Möglichkeiten, 3 Elemente aus 10 auszuwählen\n",
    "$$  \\begin{pmatrix}\n",
    "        10 \\\\ 3\n",
    "      \\end{pmatrix}\n",
    "      = \\frac{10 \\cdot 9 \\cdot 8}{3 \\cdot 2 \\cdot 1}\n",
    "      = 120  $$"
   ]
  },
  {
   "cell_type": "markdown",
   "id": "696bd1b5",
   "metadata": {
    "slideshow": {
     "slide_type": "fragment"
    }
   },
   "source": [
    "* Möglichkeiten, 7 Elemente aus 10 auszuwählen\n",
    "$$      \\begin{pmatrix}\n",
    "        10 \\\\ 7\n",
    "      \\end{pmatrix}\n",
    "      = \\frac{10 \\cdot 9 \\cdot 8 \\cdot 7 \\cdot 6 \\cdot 5 \\cdot 4}{7\n",
    "        \\cdot 6 \\cdot 5 \\cdot 4 \\cdot 3 \\cdot 2 \\cdot 1}\n",
    "      = 120 $$      "
   ]
  },
  {
   "cell_type": "markdown",
   "id": "6be6d1f0",
   "metadata": {
    "slideshow": {
     "slide_type": "fragment"
    }
   },
   "source": [
    "* Sieben Elemente auszuwählen heißt drei Elemente nicht auszuwählen"
   ]
  },
  {
   "cell_type": "code",
   "execution_count": 6,
   "id": "94a13d14",
   "metadata": {
    "slideshow": {
     "slide_type": "slide"
    }
   },
   "outputs": [
    {
     "data": {
      "text/plain": [
       "120.0"
      ]
     },
     "execution_count": 6,
     "metadata": {},
     "output_type": "execute_result"
    }
   ],
   "source": [
    "special.binom(10, 7)"
   ]
  },
  {
   "cell_type": "code",
   "execution_count": 7,
   "id": "44658df4",
   "metadata": {},
   "outputs": [
    {
     "data": {
      "text/plain": [
       "2.9469242702254086e+26"
      ]
     },
     "execution_count": 7,
     "metadata": {},
     "output_type": "execute_result"
    }
   ],
   "source": [
    "special.binom(100, 33)"
   ]
  },
  {
   "cell_type": "markdown",
   "id": "f4c3bf5a",
   "metadata": {
    "slideshow": {
     "slide_type": "slide"
    }
   },
   "source": [
    "## Rechenregeln für Binomialkoeffizienten\n",
    "  \n",
    "  \n",
    "Für jedes $n$ und jedes $k \\le n$ gelten\n",
    "\n",
    "*\n",
    "$$    \\begin{pmatrix}\n",
    "        n \\\\ 0 \n",
    "      \\end{pmatrix}\n",
    "      = 1 $$\n",
    "*\n",
    "$$    \\begin{pmatrix}\n",
    "      n \\\\ 1\n",
    "    \\end{pmatrix}\n",
    "    = n      $$\n",
    "*\n",
    "$$      \\begin{pmatrix}\n",
    "        n \\\\ k\n",
    "      \\end{pmatrix}\n",
    "      =\n",
    "      \\begin{pmatrix}\n",
    "        n \\\\ n-k\n",
    "      \\end{pmatrix} $$"
   ]
  },
  {
   "cell_type": "markdown",
   "id": "23b089d3",
   "metadata": {
    "slideshow": {
     "slide_type": "slide"
    }
   },
   "source": [
    "# Diskrete Zufallsvariable"
   ]
  },
  {
   "cell_type": "markdown",
   "id": "20f7fb08",
   "metadata": {
    "slideshow": {
     "slide_type": "slide"
    }
   },
   "source": [
    "# Zufallsvariable\n",
    "\n",
    "* Zufallsexperiment wird durchgeführt, dessen Ergebnis ein Wert ist\n",
    "* Das ist der Wert der Zufallsvariablen"
   ]
  },
  {
   "cell_type": "markdown",
   "id": "52828602",
   "metadata": {
    "slideshow": {
     "slide_type": "fragment"
    }
   },
   "source": [
    "* Zufallsvariablen heißen meist $X$, $Y$\n",
    "* Mathematisch ausgedrückt: Eine Zufallsvariable ordnet jedem Elementarereignis $\\omega$ eine Zahl $X(\\omega)$ zu"
   ]
  },
  {
   "cell_type": "markdown",
   "id": "329d88aa",
   "metadata": {
    "slideshow": {
     "slide_type": "fragment"
    }
   },
   "source": [
    "* Beispiel 10-facher Wurf eines fairen Würfels:  Die Anzahl der Sechsen definiert eine Zufallsvariable $X$"
   ]
  },
  {
   "cell_type": "markdown",
   "id": "7225d1b7",
   "metadata": {
    "slideshow": {
     "slide_type": "fragment"
    }
   },
   "source": [
    "* Zufallsvariable lenken den Blick auf die interessanten Daten, indem sie die Elementarereignisse ausblenden"
   ]
  },
  {
   "cell_type": "markdown",
   "id": "0df729f3",
   "metadata": {
    "slideshow": {
     "slide_type": "fragment"
    }
   },
   "source": [
    "* Eine Zufallsvariable heißt *diskret*, wenn alle ihre Werte ganze Zahlen sind\n",
    "* Andernfalls heißt sie *kontinuierlich*"
   ]
  },
  {
   "cell_type": "markdown",
   "id": "e85bd28d",
   "metadata": {
    "slideshow": {
     "slide_type": "slide"
    }
   },
   "source": [
    "## Interpretation\n",
    "\n",
    "| Wahrscheinlichkeitstheorie            | Experiment                            |\n",
    "|---------------------------------------|---------------------------------------|\n",
    "| Zufallsvariable $X$                   | Messvorrichtung                       |\n",
    "| Ereignisraum $\\Omega$                 | Menge aller möglichen Versuchsabläufe |\n",
    "| Elementarereignis $\\omega$            | beobachteter Versuchsablauf           |\n",
    "| Wert $X(\\omega)$                      | beobachteter Messwert                 |"
   ]
  },
  {
   "cell_type": "markdown",
   "id": "5238942e",
   "metadata": {
    "slideshow": {
     "slide_type": "slide"
    }
   },
   "source": [
    "## Beispiele für diskrete Zufallsvariable\n",
    "\n",
    "* Augensumme beim Wurf zweier fairer Würfel\n",
    "* Anzahl der $\\alpha$-Teilchen, die in einem bestimmten Zeitraum auf einen Geiger-Müller Zähler treffen\n",
    "* Alter eines einzelnen Versuchstiers in Wochen \n",
    "* Anzahl der erkrankten Fische in einem Aquarium\n",
    "* Anzahl der geheilten Fische bei einem Versuch"
   ]
  },
  {
   "cell_type": "markdown",
   "id": "1dc119c2",
   "metadata": {
    "slideshow": {
     "slide_type": "fragment"
    }
   },
   "source": [
    "* Es ist durchaus nicht immer sofort klar, wie man die Wahrscheinlichkeit eines Ergebnisses modelliert"
   ]
  },
  {
   "cell_type": "markdown",
   "id": "9691381e",
   "metadata": {
    "slideshow": {
     "slide_type": "slide"
    }
   },
   "source": [
    "## Beispiele für kontinuierliche Zufallsvariable\n",
    "\n",
    "* Gewicht eines Versuchstiers\n",
    "* Mittleres Gewicht einer Gruppe von Versuchstieren\n",
    "* Mittleres Alter einer Gruppe von Versuchstieren\n",
    "* Schadstoffgehalt im Blut eines Versuchstiers"
   ]
  },
  {
   "cell_type": "markdown",
   "id": "ef68c5e9",
   "metadata": {
    "slideshow": {
     "slide_type": "slide"
    }
   },
   "source": [
    "## Schreibweisen\n",
    "\n",
    "$X$ eine Zufallsvariable auf $\\Omega$.  Wir schreiben zur Abkürzung (hierbei sind $a$ und $b$ irgendwelche Zahlen):\n",
    "\\begin{align*}\n",
    "  \\{ X=a \\} &= \\{ \\text{alle Elementarereignisse $ \\omega $, für die $\n",
    "    X(\\omega) = a $} \\} \\\\\n",
    "  \\{X \\le a \\} &= \\{ \\text{alle Elementarereignisse $ \\omega $, für die $\n",
    "    X(\\omega) \\le a $} \\} \\\\\n",
    "  \\{ a < X \\le b \\} & = \\{ \\text{alle Elementarereignisse $ \\omega $, für die $\n",
    "    a < X(\\omega) \\le b $} \\}\n",
    "\\end{align*}"
   ]
  },
  {
   "cell_type": "markdown",
   "id": "899c6274",
   "metadata": {
    "slideshow": {
     "slide_type": "slide"
    }
   },
   "source": [
    "## Beispiel zur Schreibweise\n",
    "\n",
    "* $X$ der Schadstoffgehalt im Blut eines Fisches, gemessen in ppm\n",
    "* $P(X\\ge3)$ ist die Wahrscheinlichkeit, dass ein Fisch mindestens 3 ppm Schadstoff im Blut hat"
   ]
  },
  {
   "cell_type": "markdown",
   "id": "e698b155",
   "metadata": {
    "slideshow": {
     "slide_type": "fragment"
    }
   },
   "source": [
    "* Dreifacher Wurf einer fairen Münze, also $\\Omega = \\{ A, Z \\}^3$\n",
    "* $X$ bezeichne die Anzahl der Würfe mit \"Adler\".  Dann kann $X$ die Zahlen 0,1,2 und 3 annehmen\n",
    "* $\\{ X = 2 \\} = \\{ (A,A,Z), (A,Z,A), (Z,A,A) \\}$"
   ]
  },
  {
   "cell_type": "markdown",
   "id": "d1fcfca3",
   "metadata": {
    "slideshow": {
     "slide_type": "fragment"
    }
   },
   "source": [
    "* $P(X=2) = \\displaystyle\\frac38 = 0.375$\n",
    "* Statt $P(X=2)$ schreibt man auch $P_X(2)$"
   ]
  },
  {
   "cell_type": "markdown",
   "id": "5d0c77b4",
   "metadata": {
    "slideshow": {
     "slide_type": "fragment"
    }
   },
   "source": [
    "* Dann ist $ P_X $ eine Wahrscheinlichkeitsverteilung auf den ganzen Zahlen mit den folgenden Werten\n",
    "      \\begin{array}{c|cccc}\n",
    "        n & 0 & 1 & 2 & 3 \\\\\\hline \n",
    "        \\rule{0pt}{2.25ex} P_X(n) & \\frac18 & \\frac38 & \\frac38 & \\frac18  \n",
    "      \\end{array}"
   ]
  },
  {
   "cell_type": "markdown",
   "id": "37eb92d9",
   "metadata": {
    "slideshow": {
     "slide_type": "slide"
    }
   },
   "source": [
    "## Binomialverteilung"
   ]
  },
  {
   "cell_type": "markdown",
   "id": "a7bb79dc",
   "metadata": {
    "slideshow": {
     "slide_type": "fragment"
    }
   },
   "source": [
    "## Erfolgswahrscheinlichkeit\n",
    "\n",
    "* $n$ unabhängige Wiederholungen eines ja/nein-Experiments\n",
    "* das Ergebnis \"ja\" bezeichnet man als \"Erfolg\"\n",
    "* die Wahrscheinlichkeit von \"ja\" sei $p$, genannt *Erfolgswahrscheinlichkeit im Einzelfall*\n",
    "* Erfolg kann dabei alles mögliche sein\n",
    "  * Münze zeigt Kopf\n",
    "  * Saatkorn keimt\n",
    "  * Fisch erkrankt an einem Parasiten"
   ]
  },
  {
   "cell_type": "markdown",
   "id": "11a97eca",
   "metadata": {
    "slideshow": {
     "slide_type": "slide"
    }
   },
   "source": [
    "## Binomialverteilung\n",
    "\n",
    "* $B_{n,p}(k)$ ist die Wahrscheinlichkeit von genau $k$ Erfolgen, wenn ein ja/nein-Experiment mit     Erfolgswahrscheinlichkeit $p$ genau $n$-mal unabhängig wiederholt wird\n",
    "$$\n",
    "      B_{n,p}(k) =\n",
    "      \\begin{pmatrix}\n",
    "        n \\\\ k\n",
    "      \\end{pmatrix}\n",
    "      \\cdot p^k \\cdot (1-p)^{n-k} $$\n",
    "* $B_{n,p}$ bezeichnet man als *Binomialverteilung*"
   ]
  },
  {
   "cell_type": "markdown",
   "id": "ed9684f2",
   "metadata": {
    "slideshow": {
     "slide_type": "slide"
    }
   },
   "source": [
    "## Beispiel: fairer Würfel\n",
    "\n",
    "* Erfolg: Wurf einer 6\n",
    "* Erfolgswahrscheinlichkeit im Einzelfall: $p = \\frac16$\n",
    "* Misserfolg:  Wurf 1,2,3,4,5\n",
    "* Misserfolgswahrscheinlichkeit im Einzelfall: $q = 1 - p = \\frac56$"
   ]
  },
  {
   "cell_type": "markdown",
   "id": "5693ed56",
   "metadata": {
    "slideshow": {
     "slide_type": "fragment"
    }
   },
   "source": [
    "* Gesucht:  Wahrscheinlichkeit von $A$ = {\"genau 2 Erfolge bei 5 Würfen\"}\n",
    "* Antwort $\\displaystyle B_{5,\\,1/6}(2) =\n",
    "    \\begin{pmatrix}\n",
    "      5 \\\\ 2\n",
    "    \\end{pmatrix} \\left( \\frac16 \\right)^2 \\left( 1 - \\frac16 \\right)^3 \n",
    "    = 10 \\cdot \\frac1{36} \\cdot\n",
    "    \\frac{125}{216} = 0.1608 $\n",
    "* Wie kommt das zustande?"
   ]
  },
  {
   "cell_type": "markdown",
   "id": "8c3f8799",
   "metadata": {
    "slideshow": {
     "slide_type": "slide"
    }
   },
   "source": [
    "## Binomialverteilung: Beispiel\n",
    "  \n",
    "$e$: Erfolg, $m$: Misserfolg, $q = 1 - p$ \n",
    "\n",
    "\\begin{array}{ccc}\n",
    "      P(eemmm) \n",
    "      & = \\color{blue} p \\cdot \\color{blue} p \\cdot \\color{green} q \\cdot \\color{green} q \\cdot \\color{green} q \n",
    "      & = \\color{blue} p^2 \\cdot \\color{green} q^3 \\\\\n",
    "      P(ememm) \n",
    "      & = \\color{blue} p \\cdot \\color{green} q \\cdot \\color{blue} p \\cdot \\color{green} q \\cdot \\color{green} q \n",
    "      & = \\color{blue} p^2 \\cdot \\color{green} q^3 \\\\\n",
    "      P(emmem) \n",
    "      &= \\color{blue} p \\cdot \\color{green} q \\cdot \\color{green} q \\cdot \\color{blue} p \\cdot \n",
    "      \\color{green} q \n",
    "      &= \\color{blue} p^2 \\cdot \\color{green} q^3 \\\\\n",
    "      P(emmme) \n",
    "      &= \\color{blue} p \\cdot \\color{green} q \\cdot \\color{green} q \\cdot \\color{green} q \\cdot \n",
    "      \\color{blue} p \n",
    "      &= \\color{blue} p^2 \\cdot \\color{green} q^3 \\\\\n",
    "      P(meemm) \n",
    "      &= \\color{green} q \\cdot \\color{blue} p \\cdot \\color{blue} p \\cdot \\color{green} q \\cdot \n",
    "      \\color{green} q \n",
    "      &= \\color{blue} p^2 \\cdot \\color{green} q^3 \\\\\n",
    "      P(memem) \n",
    "      &= \\color{green} q \\cdot \\color{blue} p \\cdot \\color{green} q \\cdot \\color{blue} p \\cdot \n",
    "      \\color{green} q\n",
    "      &= \\color{blue} p^2 \\cdot \\color{green} q^3 \\\\\n",
    "      P(memme) \n",
    "      &= \\color{green} q \\cdot \\color{blue} p \\cdot \\color{green} q \\cdot \\color{green} q \\cdot\n",
    "      \\color{blue} p \n",
    "      &= \\color{blue} p^2 \\cdot \\color{green} q^3 \\\\\n",
    "      P(mmeem) \n",
    "      &= \\color{green} q \\cdot \\color{green} q \\cdot \\color{blue} p \\cdot \\color{blue} p \\cdot\n",
    "      \\color{green} q \n",
    "      &= \\color{blue} p^2 \\cdot \\color{green} q^3 \\\\\n",
    "      P(mmeme) \n",
    "      &= \\color{green} q \\cdot \\color{green} q \\cdot \\color{blue} p \\cdot \\color{green} q \\cdot \n",
    "      \\color{blue} p \n",
    "      &= \\color{blue} p^2 \\cdot \\color{green} q^3 \\\\\n",
    "      P(mmmee) \n",
    "      &= \\color{green} q \\cdot \\color{green} q \\cdot \\color{green} q \\cdot \\color{blue} p \\cdot \n",
    "      \\color{blue} p \n",
    "      &= \\color{blue} p^2 \\cdot \\color{green} q^3 \n",
    "\\end{array}"
   ]
  },
  {
   "cell_type": "markdown",
   "id": "ec23df19",
   "metadata": {
    "slideshow": {
     "slide_type": "fragment"
    }
   },
   "source": [
    "$P(A)$ ist dann die Summe, $P(A) = 10 \\cdot p^2 \\cdot q^3$."
   ]
  },
  {
   "cell_type": "code",
   "execution_count": 8,
   "id": "b19c4679",
   "metadata": {
    "slideshow": {
     "slide_type": "slide"
    }
   },
   "outputs": [],
   "source": [
    "from scipy import stats\n",
    "P = stats.binom(5, 1/6)"
   ]
  },
  {
   "cell_type": "code",
   "execution_count": 9,
   "id": "65243483",
   "metadata": {},
   "outputs": [
    {
     "data": {
      "text/plain": [
       "0.16075102880658423"
      ]
     },
     "execution_count": 9,
     "metadata": {},
     "output_type": "execute_result"
    }
   ],
   "source": [
    "P.pmf(2)"
   ]
  },
  {
   "cell_type": "markdown",
   "id": "97f8c8ae",
   "metadata": {},
   "source": [
    "* `pmf`  probability mass distribution"
   ]
  },
  {
   "cell_type": "markdown",
   "id": "35e26a35",
   "metadata": {},
   "source": [
    "* `special.binom`  Binomialkoeffizient\n",
    "* `stats.binom`  Binomialverteilung"
   ]
  },
  {
   "cell_type": "markdown",
   "id": "7b547a93",
   "metadata": {
    "slideshow": {
     "slide_type": "slide"
    }
   },
   "source": [
    "## Meeresschildkröten\n",
    "\n",
    "* In einigen Gewässern Australiens finden sich in den Gelegen der Meeresschildkröten nur noch 1% männliche Eier.\n",
    "* Mit welcher Wahrscheinlichkeit ist in einem Gelege mit 50 Eiern genau ein männliches?"
   ]
  },
  {
   "cell_type": "code",
   "execution_count": 10,
   "id": "9bca5643",
   "metadata": {
    "slideshow": {
     "slide_type": "fragment"
    }
   },
   "outputs": [],
   "source": [
    "P = stats.binom(50, 0.01)"
   ]
  },
  {
   "cell_type": "code",
   "execution_count": 11,
   "id": "c059366c",
   "metadata": {
    "slideshow": {
     "slide_type": "-"
    }
   },
   "outputs": [
    {
     "data": {
      "text/plain": [
       "0.3055586197664328"
      ]
     },
     "execution_count": 11,
     "metadata": {},
     "output_type": "execute_result"
    }
   ],
   "source": [
    "P.pmf(1)"
   ]
  },
  {
   "cell_type": "markdown",
   "id": "c6510147",
   "metadata": {},
   "source": [
    "Genau zwei männliche?"
   ]
  },
  {
   "cell_type": "code",
   "execution_count": 12,
   "id": "16a41fd4",
   "metadata": {
    "slideshow": {
     "slide_type": "fragment"
    }
   },
   "outputs": [
    {
     "data": {
      "text/plain": [
       "0.07561804226543027"
      ]
     },
     "execution_count": 12,
     "metadata": {},
     "output_type": "execute_result"
    }
   ],
   "source": [
    "P.pmf(2)"
   ]
  },
  {
   "cell_type": "markdown",
   "id": "10b030e3",
   "metadata": {
    "slideshow": {
     "slide_type": "slide"
    }
   },
   "source": [
    "## anderer Blick auf dieselbe Frage\n",
    "\n",
    "* von 100 Eiern sind 99 weiblich\n",
    "* mit welcher Wahrscheinlichkeit sind in einem Gelege mit 50 Eiern genau 49 weibliche?"
   ]
  },
  {
   "cell_type": "code",
   "execution_count": 13,
   "id": "e4b06e4a",
   "metadata": {},
   "outputs": [
    {
     "data": {
      "text/plain": [
       "0.30555861976643284"
      ]
     },
     "execution_count": 13,
     "metadata": {},
     "output_type": "execute_result"
    }
   ],
   "source": [
    "P = stats.binom(50, 0.99)\n",
    "P.pmf(49)"
   ]
  }
 ],
 "metadata": {
  "celltoolbar": "Slideshow",
  "kernelspec": {
   "display_name": "Python 3 (ipykernel)",
   "language": "python",
   "name": "python3"
  },
  "language_info": {
   "codemirror_mode": {
    "name": "ipython",
    "version": 3
   },
   "file_extension": ".py",
   "mimetype": "text/x-python",
   "name": "python",
   "nbconvert_exporter": "python",
   "pygments_lexer": "ipython3",
   "version": "3.12.7"
  }
 },
 "nbformat": 4,
 "nbformat_minor": 5
}
