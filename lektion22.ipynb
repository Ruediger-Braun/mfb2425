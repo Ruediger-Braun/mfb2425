{
 "cells": [
  {
   "cell_type": "markdown",
   "id": "67cd263b",
   "metadata": {
    "slideshow": {
     "slide_type": "slide"
    }
   },
   "source": [
    "# Mathematik für Biologiestudierende II\n",
    "\n",
    "Sommersemester 2025\n",
    "\n",
    "27.05.2025\n",
    "\n",
    "&copy; 2025 Prof. Dr. Rüdiger W. Braun "
   ]
  },
  {
   "cell_type": "code",
   "execution_count": 1,
   "id": "6d700937",
   "metadata": {
    "slideshow": {
     "slide_type": "slide"
    }
   },
   "outputs": [],
   "source": [
    "import numpy as np\n",
    "np.set_printoptions(legacy='1.21')\n",
    "import pandas as pd\n",
    "from scipy import stats\n",
    "import seaborn as sns\n",
    "sns.set_theme()"
   ]
  },
  {
   "cell_type": "markdown",
   "id": "8b19bc89",
   "metadata": {
    "slideshow": {
     "slide_type": "slide"
    }
   },
   "source": [
    "# Themen\n",
    "\n"
   ]
  },
  {
   "cell_type": "markdown",
   "id": "a4643053",
   "metadata": {
    "slideshow": {
     "slide_type": "slide"
    }
   },
   "source": [
    "# Konfidenzintervalle"
   ]
  },
  {
   "cell_type": "markdown",
   "id": "23c2178b",
   "metadata": {
    "slideshow": {
     "slide_type": "slide"
    }
   },
   "source": [
    "# Konfidenzintervall für den Erwartungswert\n",
    "\n",
    "* $X_1, \\dots, X_n$ seien normalverteilt mit unbekanntem Erwartungswert und unbekannter Streuung\n",
    "* alle haben denselben Erwartungswert und dieselbe Streuung\n",
    "* Für den Erwartungswert soll ein Konfidenzintervall zum Konfidenzniveau $1-\\alpha$ geschätzt werden"
   ]
  },
  {
   "cell_type": "markdown",
   "id": "fa2b4adf",
   "metadata": {
    "slideshow": {
     "slide_type": "fragment"
    }
   },
   "source": [
    "* Benötigt werden das $1 - \\frac\\alpha2$-Quantil $t_{n-1, 1-\\alpha/2}$ der $t$-Verteilung mit $n-1$-Freiheitsgraden,\n",
    "* das arithmetische Mittel $\\overline x$ der Daten,\n",
    "* und die Stichprobenstreuung $s$ der Daten"
   ]
  },
  {
   "cell_type": "markdown",
   "id": "a4161f12",
   "metadata": {
    "slideshow": {
     "slide_type": "fragment"
    }
   },
   "source": [
    "* Das Konfidenzintervall ist\n",
    "$$   \\left[ \\overline x - \\frac{s \\cdot t_{n-1, 1-\\alpha/2}}{\\sqrt n},\\,\n",
    "        \\overline x + \\frac{s \\cdot t_{n-1, 1-\\alpha/2}}{\\sqrt n} \\right]  $$"
   ]
  },
  {
   "cell_type": "markdown",
   "id": "2e1ca8ee",
   "metadata": {
    "slideshow": {
     "slide_type": "slide"
    }
   },
   "source": [
    "### Bedeutung des Konfidenzintervalls\n",
    "\n",
    "* Das Konfidenzintervalls zum Konfidenzniveau $1-\\alpha$ ist ein Intervall, in welchem der wahre Erwartungswert $\\mu$ mit Wahrscheinlichkeit $1-\\alpha$ liegt\n",
    "* Die beiden Grenzen des Konfidenzintervalls bezeichnet man als obere und untere *Vertrauensgrenze*\n",
    "* Das Konfidenzintervall ist die zufallsbehaftete Größe, nicht der Erwartungswert"
   ]
  },
  {
   "cell_type": "markdown",
   "id": "a09ef356",
   "metadata": {
    "slideshow": {
     "slide_type": "slide"
    }
   },
   "source": [
    "### Beispiel: Roggenpflanzen\n",
    "\n",
    "* Gesunde Roggenpflanzen einer bestimmten Art sind im Mittel $102.5cm$ lang.  Die Länge sei normalverteilt\n",
    "* Durch Umwelteinflüsse änderte sich möglicherweise die mittlere Halmlänge.  Das soll zum Konfidenzniveau 95% überprüft werden\n",
    "* Die folgenden Längen werden gemessen"
   ]
  },
  {
   "cell_type": "code",
   "execution_count": 2,
   "id": "2a4c47eb",
   "metadata": {},
   "outputs": [
    {
     "data": {
      "text/html": [
       "<div>\n",
       "<style scoped>\n",
       "    .dataframe tbody tr th:only-of-type {\n",
       "        vertical-align: middle;\n",
       "    }\n",
       "\n",
       "    .dataframe tbody tr th {\n",
       "        vertical-align: top;\n",
       "    }\n",
       "\n",
       "    .dataframe thead th {\n",
       "        text-align: right;\n",
       "    }\n",
       "</style>\n",
       "<table border=\"1\" class=\"dataframe\">\n",
       "  <thead>\n",
       "    <tr style=\"text-align: right;\">\n",
       "      <th></th>\n",
       "      <th>Länge</th>\n",
       "    </tr>\n",
       "  </thead>\n",
       "  <tbody>\n",
       "    <tr>\n",
       "      <th>0</th>\n",
       "      <td>96.62</td>\n",
       "    </tr>\n",
       "    <tr>\n",
       "      <th>1</th>\n",
       "      <td>94.91</td>\n",
       "    </tr>\n",
       "    <tr>\n",
       "      <th>2</th>\n",
       "      <td>85.05</td>\n",
       "    </tr>\n",
       "    <tr>\n",
       "      <th>3</th>\n",
       "      <td>101.61</td>\n",
       "    </tr>\n",
       "    <tr>\n",
       "      <th>4</th>\n",
       "      <td>109.55</td>\n",
       "    </tr>\n",
       "    <tr>\n",
       "      <th>5</th>\n",
       "      <td>93.05</td>\n",
       "    </tr>\n",
       "    <tr>\n",
       "      <th>6</th>\n",
       "      <td>97.86</td>\n",
       "    </tr>\n",
       "    <tr>\n",
       "      <th>7</th>\n",
       "      <td>96.66</td>\n",
       "    </tr>\n",
       "    <tr>\n",
       "      <th>8</th>\n",
       "      <td>95.08</td>\n",
       "    </tr>\n",
       "    <tr>\n",
       "      <th>9</th>\n",
       "      <td>98.87</td>\n",
       "    </tr>\n",
       "  </tbody>\n",
       "</table>\n",
       "</div>"
      ],
      "text/plain": [
       "    Länge\n",
       "0   96.62\n",
       "1   94.91\n",
       "2   85.05\n",
       "3  101.61\n",
       "4  109.55\n",
       "5   93.05\n",
       "6   97.86\n",
       "7   96.66\n",
       "8   95.08\n",
       "9   98.87"
      ]
     },
     "execution_count": 2,
     "metadata": {},
     "output_type": "execute_result"
    }
   ],
   "source": [
    "df = pd.DataFrame()\n",
    "df['Länge'] = [96.62, 94.91, 85.05, 101.61, 109.55, 93.05, 97.86, 96.66, 95.08, 98.87]\n",
    "df"
   ]
  },
  {
   "cell_type": "code",
   "execution_count": 3,
   "id": "19ba034e",
   "metadata": {
    "slideshow": {
     "slide_type": "slide"
    }
   },
   "outputs": [
    {
     "data": {
      "text/html": [
       "<div>\n",
       "<style scoped>\n",
       "    .dataframe tbody tr th:only-of-type {\n",
       "        vertical-align: middle;\n",
       "    }\n",
       "\n",
       "    .dataframe tbody tr th {\n",
       "        vertical-align: top;\n",
       "    }\n",
       "\n",
       "    .dataframe thead th {\n",
       "        text-align: right;\n",
       "    }\n",
       "</style>\n",
       "<table border=\"1\" class=\"dataframe\">\n",
       "  <thead>\n",
       "    <tr style=\"text-align: right;\">\n",
       "      <th></th>\n",
       "      <th>Länge</th>\n",
       "    </tr>\n",
       "  </thead>\n",
       "  <tbody>\n",
       "    <tr>\n",
       "      <th>count</th>\n",
       "      <td>10.000000</td>\n",
       "    </tr>\n",
       "    <tr>\n",
       "      <th>mean</th>\n",
       "      <td>96.926000</td>\n",
       "    </tr>\n",
       "    <tr>\n",
       "      <th>std</th>\n",
       "      <td>6.233029</td>\n",
       "    </tr>\n",
       "    <tr>\n",
       "      <th>min</th>\n",
       "      <td>85.050000</td>\n",
       "    </tr>\n",
       "    <tr>\n",
       "      <th>25%</th>\n",
       "      <td>94.952500</td>\n",
       "    </tr>\n",
       "    <tr>\n",
       "      <th>50%</th>\n",
       "      <td>96.640000</td>\n",
       "    </tr>\n",
       "    <tr>\n",
       "      <th>75%</th>\n",
       "      <td>98.617500</td>\n",
       "    </tr>\n",
       "    <tr>\n",
       "      <th>max</th>\n",
       "      <td>109.550000</td>\n",
       "    </tr>\n",
       "  </tbody>\n",
       "</table>\n",
       "</div>"
      ],
      "text/plain": [
       "            Länge\n",
       "count   10.000000\n",
       "mean    96.926000\n",
       "std      6.233029\n",
       "min     85.050000\n",
       "25%     94.952500\n",
       "50%     96.640000\n",
       "75%     98.617500\n",
       "max    109.550000"
      ]
     },
     "execution_count": 3,
     "metadata": {},
     "output_type": "execute_result"
    }
   ],
   "source": [
    "df.describe()"
   ]
  },
  {
   "cell_type": "markdown",
   "id": "5a4e1614",
   "metadata": {
    "slideshow": {
     "slide_type": "fragment"
    }
   },
   "source": [
    "* $1 - \\alpha = 0.95$, also $\\alpha = 0.05$ und $1 - \\frac\\alpha2 = 0.975$\n",
    "* Es wird das Quantil $t_{9,0.975}$ benötigt"
   ]
  },
  {
   "cell_type": "code",
   "execution_count": 4,
   "id": "946624e0",
   "metadata": {},
   "outputs": [
    {
     "data": {
      "text/plain": [
       "2.2621571628540993"
      ]
     },
     "execution_count": 4,
     "metadata": {},
     "output_type": "execute_result"
    }
   ],
   "source": [
    "P = stats.t(9)\n",
    "P.ppf(0.975)"
   ]
  },
  {
   "cell_type": "code",
   "execution_count": 5,
   "id": "9891ffb2",
   "metadata": {
    "slideshow": {
     "slide_type": "slide"
    }
   },
   "outputs": [
    {
     "data": {
      "text/plain": [
       "92.46718040497468"
      ]
     },
     "execution_count": 5,
     "metadata": {},
     "output_type": "execute_result"
    }
   ],
   "source": [
    "ugrenze = 96.926 - 6.233*P.ppf(0.975) / np.sqrt(10)\n",
    "ugrenze"
   ]
  },
  {
   "cell_type": "code",
   "execution_count": 6,
   "id": "769a3f04",
   "metadata": {},
   "outputs": [
    {
     "data": {
      "text/plain": [
       "101.38481959502532"
      ]
     },
     "execution_count": 6,
     "metadata": {},
     "output_type": "execute_result"
    }
   ],
   "source": [
    "ogrenze = 96.926 + 6.233*P.ppf(0.975) / np.sqrt(10)\n",
    "ogrenze"
   ]
  },
  {
   "cell_type": "markdown",
   "id": "67fe0ded",
   "metadata": {
    "slideshow": {
     "slide_type": "fragment"
    }
   },
   "source": [
    "* Der Erwartungswert für gesunde Pflanzen beträgt 102.5$cm$.  Da er nicht in dem Konfidenzintervall zum Konfidenzniveau 95% liegt, kann man zum Signifikanzniveau 5% sagen, dass die Roggenpflanzen geschädigt sind\n",
    "* Kennt man also das Konfidenzintervall zum Konfidenzniveau $1-\\alpha$, so kann man den *zweiseitigen* t-Test zum Signifikanzniveau $\\alpha$ durchführen"
   ]
  },
  {
   "cell_type": "markdown",
   "id": "21d14285",
   "metadata": {
    "slideshow": {
     "slide_type": "slide"
    }
   },
   "source": [
    "* dasselbe mit `statsmodels`"
   ]
  },
  {
   "cell_type": "code",
   "execution_count": 7,
   "id": "220092bb",
   "metadata": {},
   "outputs": [
    {
     "data": {
      "text/plain": [
       "(92.46715975292865, 101.38484024707135)"
      ]
     },
     "execution_count": 7,
     "metadata": {},
     "output_type": "execute_result"
    }
   ],
   "source": [
    "import statsmodels.stats.api as sms\n",
    "\n",
    "sms.DescrStatsW(df.Länge).tconfint_mean()"
   ]
  },
  {
   "cell_type": "markdown",
   "id": "9f82b9a5",
   "metadata": {
    "slideshow": {
     "slide_type": "slide"
    }
   },
   "source": [
    "### Plot des Konfidenzintervalls\n",
    "\n",
    "<img src=\"bilder/roggen2.svg\" alt=\"Konfidenzintervall\" width=\"65%\"/>\n",
    "\n",
    "Der gelbe Bereich ist das Konfidenzintervall zum Konfidenzniveau 95%"
   ]
  },
  {
   "cell_type": "markdown",
   "id": "f033e2c4",
   "metadata": {
    "slideshow": {
     "slide_type": "slide"
    }
   },
   "source": [
    "# Datenpaare"
   ]
  },
  {
   "cell_type": "code",
   "execution_count": 8,
   "id": "926f3c99",
   "metadata": {
    "slideshow": {
     "slide_type": "slide"
    }
   },
   "outputs": [
    {
     "data": {
      "text/html": [
       "<div>\n",
       "<style scoped>\n",
       "    .dataframe tbody tr th:only-of-type {\n",
       "        vertical-align: middle;\n",
       "    }\n",
       "\n",
       "    .dataframe tbody tr th {\n",
       "        vertical-align: top;\n",
       "    }\n",
       "\n",
       "    .dataframe thead th {\n",
       "        text-align: right;\n",
       "    }\n",
       "</style>\n",
       "<table border=\"1\" class=\"dataframe\">\n",
       "  <thead>\n",
       "    <tr style=\"text-align: right;\">\n",
       "      <th></th>\n",
       "      <th>Alter</th>\n",
       "      <th>Blutdruck</th>\n",
       "      <th>Größe</th>\n",
       "    </tr>\n",
       "  </thead>\n",
       "  <tbody>\n",
       "    <tr>\n",
       "      <th>0</th>\n",
       "      <td>17</td>\n",
       "      <td>110.0</td>\n",
       "      <td>165.3</td>\n",
       "    </tr>\n",
       "    <tr>\n",
       "      <th>1</th>\n",
       "      <td>19</td>\n",
       "      <td>125.0</td>\n",
       "      <td>180.0</td>\n",
       "    </tr>\n",
       "    <tr>\n",
       "      <th>2</th>\n",
       "      <td>21</td>\n",
       "      <td>118.0</td>\n",
       "      <td>177.8</td>\n",
       "    </tr>\n",
       "    <tr>\n",
       "      <th>3</th>\n",
       "      <td>23</td>\n",
       "      <td>119.0</td>\n",
       "      <td>173.3</td>\n",
       "    </tr>\n",
       "    <tr>\n",
       "      <th>4</th>\n",
       "      <td>25</td>\n",
       "      <td>125.0</td>\n",
       "      <td>173.5</td>\n",
       "    </tr>\n",
       "  </tbody>\n",
       "</table>\n",
       "</div>"
      ],
      "text/plain": [
       "   Alter  Blutdruck  Größe\n",
       "0     17      110.0  165.3\n",
       "1     19      125.0  180.0\n",
       "2     21      118.0  177.8\n",
       "3     23      119.0  173.3\n",
       "4     25      125.0  173.5"
      ]
     },
     "execution_count": 8,
     "metadata": {},
     "output_type": "execute_result"
    }
   ],
   "source": [
    "df = pd.read_csv('blutdruckdaten.csv')\n",
    "df.head()"
   ]
  },
  {
   "cell_type": "code",
   "execution_count": 9,
   "id": "077705d2",
   "metadata": {},
   "outputs": [
    {
     "data": {
      "image/png": "[encoded data removed]",
      "text/plain": [
       "<Figure size 640x480 with 1 Axes>"
      ]
     },
     "metadata": {},
     "output_type": "display_data"
    }
   ],
   "source": [
    "sns.regplot(df, x='Alter', y='Blutdruck', fit_reg=False);"
   ]
  },
  {
   "cell_type": "markdown",
   "id": "d00354a9",
   "metadata": {
    "slideshow": {
     "slide_type": "slide"
    }
   },
   "source": [
    "Wir wollen die \"beste\" Gerade durch diese Punkte"
   ]
  },
  {
   "cell_type": "code",
   "execution_count": 10,
   "id": "49dc0199",
   "metadata": {},
   "outputs": [
    {
     "data": {
      "image/png": "[encoded data removed]",
      "text/plain": [
       "<Figure size 640x480 with 1 Axes>"
      ]
     },
     "metadata": {},
     "output_type": "display_data"
    }
   ],
   "source": [
    "sns.regplot(df, x='Alter', y='Blutdruck');"
   ]
  },
  {
   "cell_type": "markdown",
   "id": "36228c64",
   "metadata": {
    "slideshow": {
     "slide_type": "fragment"
    }
   },
   "source": [
    "Die Bedeutung des hellblauen Bereichs verstehen wir nach der Erläuterung der Geraden"
   ]
  },
  {
   "cell_type": "markdown",
   "id": "1aef1293",
   "metadata": {
    "slideshow": {
     "slide_type": "slide"
    }
   },
   "source": [
    "# Empirische Kovarianz"
   ]
  },
  {
   "cell_type": "markdown",
   "id": "78728f15",
   "metadata": {
    "slideshow": {
     "slide_type": "fragment"
    }
   },
   "source": [
    "* Empirische Kovarianz: Wie empirische Varianz, aber für Datenpaare\n",
    "* Wir haben $n$ Datenpaare $(x_1, y_1), (x_2, y_2), \\dots, (x_n,y_n)$\n",
    "* das arithmetische Mittel der $x_j$ ist $\\overline x$, das der $y_j$ ist $\\overline y$\n",
    "* die *empirische Kovarianz* von $x$ und $y$ ist\n",
    "$$ \\text{covar}_{\\text{emp}}(x,y) \n",
    "      = \\frac1{n-1} \\bigl( (x_1-\\overline x)(y_1-\\overline y) + (x_2-\\overline\n",
    "        x)(y_2-\\overline y) + \\dots + (x_n-\\overline x)(y_n-\\overline y)\\bigr) $$"
   ]
  },
  {
   "cell_type": "markdown",
   "id": "4a3324f5",
   "metadata": {
    "slideshow": {
     "slide_type": "fragment"
    }
   },
   "source": [
    "* Formel ohne Pünktchen\n",
    "$$   \\text{covar}_{\\text{emp}}(x,y) = \\frac1{n-1} \\sum_{j=1}^n (x_j - \\overline x)(y_j - \\overline y) $$\n",
    "* Die Kovarianz misst, wie $x$ und $y$ zusammenhängen"
   ]
  },
  {
   "cell_type": "code",
   "execution_count": 11,
   "id": "0cceb80c",
   "metadata": {
    "slideshow": {
     "slide_type": "slide"
    }
   },
   "outputs": [
    {
     "data": {
      "text/html": [
       "<div>\n",
       "<style scoped>\n",
       "    .dataframe tbody tr th:only-of-type {\n",
       "        vertical-align: middle;\n",
       "    }\n",
       "\n",
       "    .dataframe tbody tr th {\n",
       "        vertical-align: top;\n",
       "    }\n",
       "\n",
       "    .dataframe thead th {\n",
       "        text-align: right;\n",
       "    }\n",
       "</style>\n",
       "<table border=\"1\" class=\"dataframe\">\n",
       "  <thead>\n",
       "    <tr style=\"text-align: right;\">\n",
       "      <th></th>\n",
       "      <th>Alter</th>\n",
       "      <th>Blutdruck</th>\n",
       "      <th>Größe</th>\n",
       "    </tr>\n",
       "  </thead>\n",
       "  <tbody>\n",
       "    <tr>\n",
       "      <th>Alter</th>\n",
       "      <td>231.131034</td>\n",
       "      <td>348.572414</td>\n",
       "      <td>36.128966</td>\n",
       "    </tr>\n",
       "    <tr>\n",
       "      <th>Blutdruck</th>\n",
       "      <td>348.572414</td>\n",
       "      <td>750.271264</td>\n",
       "      <td>69.805057</td>\n",
       "    </tr>\n",
       "    <tr>\n",
       "      <th>Größe</th>\n",
       "      <td>36.128966</td>\n",
       "      <td>69.805057</td>\n",
       "      <td>28.617195</td>\n",
       "    </tr>\n",
       "  </tbody>\n",
       "</table>\n",
       "</div>"
      ],
      "text/plain": [
       "                Alter   Blutdruck      Größe\n",
       "Alter      231.131034  348.572414  36.128966\n",
       "Blutdruck  348.572414  750.271264  69.805057\n",
       "Größe       36.128966   69.805057  28.617195"
      ]
     },
     "execution_count": 11,
     "metadata": {},
     "output_type": "execute_result"
    }
   ],
   "source": [
    "df.cov()"
   ]
  },
  {
   "cell_type": "markdown",
   "id": "8466d054",
   "metadata": {
    "slideshow": {
     "slide_type": "fragment"
    }
   },
   "source": [
    "* Die Tabelle zeigt für jedes Faktorpaar die zugehörige Kovarianz\n",
    "* Sie ist symmetrisch\n",
    "* Auf der Diagonalen stehen die empirischen Varianzen"
   ]
  },
  {
   "cell_type": "markdown",
   "id": "13173aca",
   "metadata": {
    "slideshow": {
     "slide_type": "slide"
    }
   },
   "source": [
    "# Lineare Regression"
   ]
  },
  {
   "cell_type": "markdown",
   "id": "706b93c0",
   "metadata": {
    "slideshow": {
     "slide_type": "slide"
    }
   },
   "source": [
    "* \"Lineare Regression\":  Bestimmung einer Regressionsgeraden \n",
    "* \"linear\": auf einer Gerade liegend\n",
    "* \"Gerade\": Funktionsvorschrift\n",
    "$$      y = m \\cdot x + b  $$\n",
    "* Hierbei ist \n",
    "  * $m$ die Steigung der Geraden\n",
    "  * $b$ der Ordinatenabschnitt der Geraden"
   ]
  },
  {
   "cell_type": "markdown",
   "id": "d79bb61c",
   "metadata": {
    "slideshow": {
     "slide_type": "fragment"
    }
   },
   "source": [
    "* Die Regressionsgerade ist die Gerade mit der bestmöglichen Annäherung an die Datenpunkte \n",
    "* \"bestmöglich\" bedeutet\n",
    "$$ \\sum_{j=1}^n (m \\cdot x_j + b - y_j)^2 \\overset{!}{=} \\min $$"
   ]
  },
  {
   "cell_type": "markdown",
   "id": "07574aa5",
   "metadata": {
    "slideshow": {
     "slide_type": "slide"
    }
   },
   "source": [
    "## Formel für die lineare Regression\n",
    "\n",
    "* Gegeben: Datenpaare $(x_1, y_1), (x_2, y_2), \\dots, (x_n, y_n)$\n",
    "* Gesucht: Regressionsgerade $y = m \\cdot x + b$\n",
    "* Rechenvorschrift:  \n",
    "    \\begin{align*}\n",
    "      m &= \\frac{\\text{covar}_\\text{emp}(x,y)}{s_x^2} \\\\\n",
    "      b &= \\overline y - m \\overline x\n",
    "    \\end{align*}\n",
    "* Dabei:\n",
    "  * $\\overline x$ und $\\overline y$: arithmetisches Mittel von $x$ und $y$\n",
    "  * $s_x^2$ empirische Varianz von $x$ \n",
    "  * $\\text{covar}_\\text{emp}(x,y)$ empirische Kovarianz von $x$ und $y$"
   ]
  },
  {
   "cell_type": "markdown",
   "id": "98f6a790",
   "metadata": {
    "slideshow": {
     "slide_type": "slide"
    }
   },
   "source": [
    "### Beispiel Blutdruck"
   ]
  },
  {
   "cell_type": "code",
   "execution_count": 12,
   "id": "48b99cd5",
   "metadata": {
    "slideshow": {
     "slide_type": "slide"
    }
   },
   "outputs": [
    {
     "data": {
      "text/plain": [
       "1.5081123177432614"
      ]
     },
     "execution_count": 12,
     "metadata": {},
     "output_type": "execute_result"
    }
   ],
   "source": [
    "cov = 348.57\n",
    "var_x = 231.13\n",
    "m = cov / var_x\n",
    "m"
   ]
  },
  {
   "cell_type": "code",
   "execution_count": 13,
   "id": "137ff684",
   "metadata": {},
   "outputs": [
    {
     "data": {
      "text/html": [
       "<div>\n",
       "<style scoped>\n",
       "    .dataframe tbody tr th:only-of-type {\n",
       "        vertical-align: middle;\n",
       "    }\n",
       "\n",
       "    .dataframe tbody tr th {\n",
       "        vertical-align: top;\n",
       "    }\n",
       "\n",
       "    .dataframe thead th {\n",
       "        text-align: right;\n",
       "    }\n",
       "</style>\n",
       "<table border=\"1\" class=\"dataframe\">\n",
       "  <thead>\n",
       "    <tr style=\"text-align: right;\">\n",
       "      <th></th>\n",
       "      <th>Alter</th>\n",
       "      <th>Blutdruck</th>\n",
       "      <th>Größe</th>\n",
       "    </tr>\n",
       "  </thead>\n",
       "  <tbody>\n",
       "    <tr>\n",
       "      <th>count</th>\n",
       "      <td>30.000000</td>\n",
       "      <td>30.000000</td>\n",
       "      <td>30.000000</td>\n",
       "    </tr>\n",
       "    <tr>\n",
       "      <th>mean</th>\n",
       "      <td>44.800000</td>\n",
       "      <td>147.933333</td>\n",
       "      <td>176.373333</td>\n",
       "    </tr>\n",
       "    <tr>\n",
       "      <th>std</th>\n",
       "      <td>15.202994</td>\n",
       "      <td>27.391080</td>\n",
       "      <td>5.349504</td>\n",
       "    </tr>\n",
       "    <tr>\n",
       "      <th>min</th>\n",
       "      <td>17.000000</td>\n",
       "      <td>108.000000</td>\n",
       "      <td>165.300000</td>\n",
       "    </tr>\n",
       "    <tr>\n",
       "      <th>25%</th>\n",
       "      <td>37.250000</td>\n",
       "      <td>125.250000</td>\n",
       "      <td>173.350000</td>\n",
       "    </tr>\n",
       "    <tr>\n",
       "      <th>50%</th>\n",
       "      <td>45.000000</td>\n",
       "      <td>144.500000</td>\n",
       "      <td>176.650000</td>\n",
       "    </tr>\n",
       "    <tr>\n",
       "      <th>75%</th>\n",
       "      <td>56.000000</td>\n",
       "      <td>173.250000</td>\n",
       "      <td>179.075000</td>\n",
       "    </tr>\n",
       "    <tr>\n",
       "      <th>max</th>\n",
       "      <td>69.000000</td>\n",
       "      <td>199.000000</td>\n",
       "      <td>189.000000</td>\n",
       "    </tr>\n",
       "  </tbody>\n",
       "</table>\n",
       "</div>"
      ],
      "text/plain": [
       "           Alter   Blutdruck       Größe\n",
       "count  30.000000   30.000000   30.000000\n",
       "mean   44.800000  147.933333  176.373333\n",
       "std    15.202994   27.391080    5.349504\n",
       "min    17.000000  108.000000  165.300000\n",
       "25%    37.250000  125.250000  173.350000\n",
       "50%    45.000000  144.500000  176.650000\n",
       "75%    56.000000  173.250000  179.075000\n",
       "max    69.000000  199.000000  189.000000"
      ]
     },
     "execution_count": 13,
     "metadata": {},
     "output_type": "execute_result"
    }
   ],
   "source": [
    "df.describe()"
   ]
  },
  {
   "cell_type": "code",
   "execution_count": 14,
   "id": "e6072207",
   "metadata": {},
   "outputs": [],
   "source": [
    "xq = 44.8"
   ]
  },
  {
   "cell_type": "code",
   "execution_count": 15,
   "id": "8b817c12",
   "metadata": {},
   "outputs": [],
   "source": [
    "yq = 147.93"
   ]
  },
  {
   "cell_type": "code",
   "execution_count": 16,
   "id": "717f6bc6",
   "metadata": {},
   "outputs": [
    {
     "data": {
      "text/plain": [
       "80.3665681651019"
      ]
     },
     "execution_count": 16,
     "metadata": {},
     "output_type": "execute_result"
    }
   ],
   "source": [
    "b = yq - m*xq\n",
    "b"
   ]
  },
  {
   "cell_type": "markdown",
   "id": "227c22ee",
   "metadata": {
    "slideshow": {
     "slide_type": "slide"
    }
   },
   "source": [
    "# Blutdruckdaten: Interpretation\n",
    "\n",
    "* Pro Jahr steigt der Blutdruck um 1.5$mm$Hg \n",
    "* $b$ hat hier keine eigenständige Bedeutung, denn nahe $x=0$ wurden keine Daten erhoben\n",
    "* Bei einem 50jährigen erwartet man einen Blutdruck von\n",
    "  $$ 1.51 \\cdot 50 + 80.4 = 155.9 $$\n",
    "* Das ist absolut ungesund!"
   ]
  },
  {
   "cell_type": "code",
   "execution_count": 17,
   "id": "25da2cbb",
   "metadata": {
    "slideshow": {
     "slide_type": "slide"
    }
   },
   "outputs": [
    {
     "data": {
      "image/png": "[encoded data removed]",
      "text/plain": [
       "<Figure size 640x480 with 1 Axes>"
      ]
     },
     "metadata": {},
     "output_type": "display_data"
    }
   ],
   "source": [
    "sns.regplot(df, x='Alter', y='Blutdruck');"
   ]
  },
  {
   "cell_type": "markdown",
   "id": "e143939f",
   "metadata": {
    "slideshow": {
     "slide_type": "fragment"
    }
   },
   "source": [
    "## Bedeutung des hellblauen Bereichs\n",
    "\n",
    "* `seaborn` berechnet ein Konfidenzintervall für $m$ und eins für $b$\n",
    "* und daraus ein Konfidenzintervall für die erwarteten Werte für jedes Alter\n",
    "* an den Rändern wird die Schätzung ungenauer, daher geht der Konfidenzbereich zu den Rändern hin etwas auseinander"
   ]
  },
  {
   "cell_type": "markdown",
   "id": "717da790",
   "metadata": {
    "slideshow": {
     "slide_type": "slide"
    }
   },
   "source": [
    "* dasselbe für ein kleineres $\\alpha$\n",
    "* Achtung:  der Parameter `ci` wird in % angegeben"
   ]
  },
  {
   "cell_type": "code",
   "execution_count": 18,
   "id": "55ecf350",
   "metadata": {},
   "outputs": [
    {
     "data": {
      "image/png": "[encoded data removed]",
      "text/plain": [
       "<Figure size 640x480 with 1 Axes>"
      ]
     },
     "metadata": {},
     "output_type": "display_data"
    }
   ],
   "source": [
    "sns.regplot(df, x='Alter', y='Blutdruck', ci=99.9);"
   ]
  },
  {
   "cell_type": "markdown",
   "id": "f3807e73",
   "metadata": {},
   "source": [
    "* `seaborn` bestimmt das Konfidenzintervall mit einer nichtparametrischen Methode"
   ]
  },
  {
   "cell_type": "markdown",
   "id": "6709d9c7",
   "metadata": {
    "slideshow": {
     "slide_type": "slide"
    }
   },
   "source": [
    "### Beispiel für zwei unkorrelierte Größen\n",
    "\n",
    "* formal ist es auch möglich, Regressionsplot für zwei unkorrelierte Größen auszurechnen"
   ]
  },
  {
   "cell_type": "markdown",
   "id": "aa891030",
   "metadata": {
    "slideshow": {
     "slide_type": "fragment"
    }
   },
   "source": [
    "* man glaubt, einen Zusammenhang zu sehen\n",
    "* das ist ein Irrtum\n",
    "* die Größe habe ich als normalverteilte Zufallsdaten an den Datensatz angefügt"
   ]
  },
  {
   "cell_type": "code",
   "execution_count": 19,
   "id": "2cc180ed",
   "metadata": {
    "slideshow": {
     "slide_type": "slide"
    }
   },
   "outputs": [],
   "source": [
    "df['Zufall'] = stats.norm().rvs(size=30)"
   ]
  },
  {
   "cell_type": "code",
   "execution_count": 20,
   "id": "53c61919",
   "metadata": {},
   "outputs": [
    {
     "data": {
      "image/png": "[encoded data removed]",
      "text/plain": [
       "<Figure size 640x480 with 1 Axes>"
      ]
     },
     "metadata": {},
     "output_type": "display_data"
    }
   ],
   "source": [
    "sns.regplot(df, x='Zufall', y='Blutdruck');"
   ]
  }
 ],
 "metadata": {
  "celltoolbar": "Slideshow",
  "kernelspec": {
   "display_name": "Python 3 (ipykernel)",
   "language": "python",
   "name": "python3"
  },
  "language_info": {
   "codemirror_mode": {
    "name": "ipython",
    "version": 3
   },
   "file_extension": ".py",
   "mimetype": "text/x-python",
   "name": "python",
   "nbconvert_exporter": "python",
   "pygments_lexer": "ipython3",
   "version": "3.11.10"
  }
 },
 "nbformat": 4,
 "nbformat_minor": 5
}
