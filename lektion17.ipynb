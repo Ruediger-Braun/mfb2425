{
 "cells": [
  {
   "cell_type": "markdown",
   "id": "67cd263b",
   "metadata": {
    "slideshow": {
     "slide_type": "slide"
    }
   },
   "source": [
    "# Mathematik für Biologiestudierende II\n",
    "\n",
    "Sommersemester 2025\n",
    "\n",
    "22.04.2025\n",
    "\n",
    "&copy; 2025 Prof. Dr. Rüdiger W. Braun "
   ]
  },
  {
   "cell_type": "code",
   "execution_count": 1,
   "id": "6d700937",
   "metadata": {
    "slideshow": {
     "slide_type": "slide"
    }
   },
   "outputs": [],
   "source": [
    "import numpy as np\n",
    "np.set_printoptions(legacy='1.21')\n",
    "import pandas as pd\n",
    "from scipy import stats\n",
    "import seaborn as sns\n",
    "sns.set_theme()"
   ]
  },
  {
   "cell_type": "markdown",
   "id": "4f7a0499",
   "metadata": {
    "slideshow": {
     "slide_type": "slide"
    }
   },
   "source": [
    "# Post-hoc Analyse"
   ]
  },
  {
   "cell_type": "markdown",
   "id": "4a456feb",
   "metadata": {
    "slideshow": {
     "slide_type": "fragment"
    }
   },
   "source": [
    "* Wenn die ANOVA einen signifikanten Unterschied zwischen den Gruppen gezeigt hat, dann versucht man mit der post-hoc Analyse herauszubekommen, zwischen welchen einzelnen Gruppen signifikante Unterschiede bestehen\n",
    "* Die post-hoc Analyse muss für multiple Vergleiche korrigiert werden"
   ]
  },
  {
   "cell_type": "markdown",
   "id": "6496a7f3",
   "metadata": {
    "slideshow": {
     "slide_type": "slide"
    }
   },
   "source": [
    "### Beispiel Zitronen"
   ]
  },
  {
   "cell_type": "code",
   "execution_count": 2,
   "id": "dd05842b",
   "metadata": {},
   "outputs": [],
   "source": [
    "df = pd.read_csv(\"http://reh.math.uni-duesseldorf.de/~braun/bio2425/zitronen.csv\")"
   ]
  },
  {
   "cell_type": "code",
   "execution_count": 3,
   "id": "a69345e9",
   "metadata": {},
   "outputs": [
    {
     "data": {
      "text/html": [
       "<div>\n",
       "<style scoped>\n",
       "    .dataframe tbody tr th:only-of-type {\n",
       "        vertical-align: middle;\n",
       "    }\n",
       "\n",
       "    .dataframe tbody tr th {\n",
       "        vertical-align: top;\n",
       "    }\n",
       "\n",
       "    .dataframe thead th {\n",
       "        text-align: right;\n",
       "    }\n",
       "</style>\n",
       "<table border=\"1\" class=\"dataframe\">\n",
       "  <thead>\n",
       "    <tr style=\"text-align: right;\">\n",
       "      <th></th>\n",
       "      <th>Vitamin_C_Gehalt</th>\n",
       "      <th>Land</th>\n",
       "    </tr>\n",
       "  </thead>\n",
       "  <tbody>\n",
       "    <tr>\n",
       "      <th>0</th>\n",
       "      <td>494.5</td>\n",
       "      <td>Spanien</td>\n",
       "    </tr>\n",
       "    <tr>\n",
       "      <th>1</th>\n",
       "      <td>499.2</td>\n",
       "      <td>Spanien</td>\n",
       "    </tr>\n",
       "    <tr>\n",
       "      <th>2</th>\n",
       "      <td>494.3</td>\n",
       "      <td>Spanien</td>\n",
       "    </tr>\n",
       "    <tr>\n",
       "      <th>3</th>\n",
       "      <td>478.0</td>\n",
       "      <td>Spanien</td>\n",
       "    </tr>\n",
       "    <tr>\n",
       "      <th>4</th>\n",
       "      <td>500.1</td>\n",
       "      <td>Spanien</td>\n",
       "    </tr>\n",
       "  </tbody>\n",
       "</table>\n",
       "</div>"
      ],
      "text/plain": [
       "   Vitamin_C_Gehalt     Land\n",
       "0             494.5  Spanien\n",
       "1             499.2  Spanien\n",
       "2             494.3  Spanien\n",
       "3             478.0  Spanien\n",
       "4             500.1  Spanien"
      ]
     },
     "execution_count": 3,
     "metadata": {},
     "output_type": "execute_result"
    }
   ],
   "source": [
    "df.head()"
   ]
  },
  {
   "cell_type": "markdown",
   "id": "983878a0",
   "metadata": {},
   "source": [
    "Die Tabelle (mit erfundenen Daten) zeigt den Vitamin C Gehalt in [mg] pro [kg] von Zitronen aus verschiedenen Ländern"
   ]
  },
  {
   "cell_type": "code",
   "execution_count": 4,
   "id": "c692ffe8",
   "metadata": {},
   "outputs": [
    {
     "data": {
      "text/plain": [
       "Land\n",
       "Spanien         8\n",
       "Italien         8\n",
       "Griechenland    8\n",
       "Marokko         8\n",
       "Indien          8\n",
       "Name: count, dtype: int64"
      ]
     },
     "execution_count": 4,
     "metadata": {},
     "output_type": "execute_result"
    }
   ],
   "source": [
    "df.Land.value_counts()"
   ]
  },
  {
   "cell_type": "code",
   "execution_count": 5,
   "id": "a884ab6b",
   "metadata": {
    "slideshow": {
     "slide_type": "slide"
    }
   },
   "outputs": [
    {
     "data": {
      "image/png": "[encoded data removed]",
      "text/plain": [
       "<Figure size 646x500 with 1 Axes>"
      ]
     },
     "metadata": {},
     "output_type": "display_data"
    }
   ],
   "source": [
    "sns.displot(df, x='Vitamin_C_Gehalt', hue='Land', multiple='stack');"
   ]
  },
  {
   "cell_type": "code",
   "execution_count": 6,
   "id": "af461452",
   "metadata": {
    "slideshow": {
     "slide_type": "slide"
    }
   },
   "outputs": [],
   "source": [
    "spanien = df[df.Land=='Spanien'].Vitamin_C_Gehalt\n",
    "italien = df[df.Land=='Italien'].Vitamin_C_Gehalt\n",
    "griechenland = df[df.Land=='Griechenland'].Vitamin_C_Gehalt\n",
    "marokko = df[df.Land=='Marokko'].Vitamin_C_Gehalt\n",
    "indien = df[df.Land=='Indien'].Vitamin_C_Gehalt"
   ]
  },
  {
   "cell_type": "code",
   "execution_count": 7,
   "id": "35c05601",
   "metadata": {},
   "outputs": [
    {
     "data": {
      "text/plain": [
       "F_onewayResult(statistic=11.873757820342005, pvalue=3.373341669675729e-06)"
      ]
     },
     "execution_count": 7,
     "metadata": {},
     "output_type": "execute_result"
    }
   ],
   "source": [
    "stats.f_oneway(spanien, italien, griechenland, marokko, indien)"
   ]
  },
  {
   "cell_type": "markdown",
   "id": "d30f1e76",
   "metadata": {
    "slideshow": {
     "slide_type": "fragment"
    }
   },
   "source": [
    "Die Unterschiede zwischen den Vitamin C Gehalten sind signifikant"
   ]
  },
  {
   "cell_type": "markdown",
   "id": "0d64a4d9",
   "metadata": {
    "slideshow": {
     "slide_type": "slide"
    }
   },
   "source": [
    "## Paarvergleiche"
   ]
  },
  {
   "cell_type": "markdown",
   "id": "d8e045e2",
   "metadata": {},
   "source": [
    "* Wir könnten zwischen je zwei Gruppen die Paarvergleiche zu Fuß ausrechnen und Bonferroni-korrigieren\n",
    "* Dieser Prozess ist aber implementiert"
   ]
  },
  {
   "cell_type": "code",
   "execution_count": 8,
   "id": "12c4c5f7",
   "metadata": {},
   "outputs": [],
   "source": [
    "from statsmodels.sandbox.stats.multicomp import MultiComparison"
   ]
  },
  {
   "cell_type": "markdown",
   "id": "564ac6f1",
   "metadata": {
    "slideshow": {
     "slide_type": "fragment"
    }
   },
   "source": [
    "Achtung:  Hier wird irgendwann der Bestandteil `sandbox` überflüssig"
   ]
  },
  {
   "cell_type": "code",
   "execution_count": 9,
   "id": "eb550fbc",
   "metadata": {
    "slideshow": {
     "slide_type": "slide"
    }
   },
   "outputs": [],
   "source": [
    "muc = MultiComparison(df.Vitamin_C_Gehalt, df.Land)"
   ]
  },
  {
   "cell_type": "markdown",
   "id": "c940054f",
   "metadata": {},
   "source": [
    "`muc = MultiComparison(daten_liste, gruppen_liste)`\n",
    "\n",
    "* das erste Element von `daten_liste` gehört zur ersten Gruppe in Gruppenliste\n",
    "* das zweite Element von `daten_liste` gehört zur zweiten Gruppe in Gruppenliste\n",
    "* usw."
   ]
  },
  {
   "cell_type": "markdown",
   "id": "a5c05b26",
   "metadata": {
    "slideshow": {
     "slide_type": "slide"
    }
   },
   "source": [
    "`muc.allpairtest(test, alpha, method)`\n",
    "\n",
    "* Paarvergleiche zwischen allen Paaren von Gruppen aus der Gruppenliste, mit der `muc` angelegt wurde\n",
    "* `test` ist der einzusetzende Test\n",
    "* `alpha` das Signifikanzniveau (Standardwert ist 0.05)\n",
    "* `method` die Korrekturmethode für das multiple Testen, für uns relevant:\n",
    "  * `bonferroni`: Bonferroni\n",
    "  * `holm`: Bonferroni-Holm"
   ]
  },
  {
   "cell_type": "code",
   "execution_count": 10,
   "id": "26f019eb",
   "metadata": {
    "slideshow": {
     "slide_type": "slide"
    }
   },
   "outputs": [
    {
     "data": {
      "text/html": [
       "<table class=\"simpletable\">\n",
       "<caption>Test Multiple Comparison ttest_ind \n",
       "FWER=0.05 method=bonferroni\n",
       "alphacSidak=0.01, alphacBonf=0.005</caption>\n",
       "<tr>\n",
       "     <th>group1</th>    <th>group2</th>   <th>stat</th>    <th>pval</th>  <th>pval_corr</th> <th>reject</th>\n",
       "</tr>\n",
       "<tr>\n",
       "  <td>Griechenland</td> <td>Indien</td>  <td>-4.9524</td> <td>0.0002</td>  <td>0.0021</td>    <td>True</td> \n",
       "</tr>\n",
       "<tr>\n",
       "  <td>Griechenland</td> <td>Italien</td>  <td>1.113</td>  <td>0.2845</td>    <td>1.0</td>     <td>False</td>\n",
       "</tr>\n",
       "<tr>\n",
       "  <td>Griechenland</td> <td>Marokko</td> <td>-3.5339</td> <td>0.0033</td>  <td>0.0331</td>    <td>True</td> \n",
       "</tr>\n",
       "<tr>\n",
       "  <td>Griechenland</td> <td>Spanien</td> <td>-1.9478</td> <td>0.0718</td>  <td>0.7178</td>    <td>False</td>\n",
       "</tr>\n",
       "<tr>\n",
       "     <td>Indien</td>    <td>Italien</td> <td>6.2008</td>    <td>0.0</td>   <td>0.0002</td>    <td>True</td> \n",
       "</tr>\n",
       "<tr>\n",
       "     <td>Indien</td>    <td>Marokko</td> <td>0.3183</td>  <td>0.7549</td>    <td>1.0</td>     <td>False</td>\n",
       "</tr>\n",
       "<tr>\n",
       "     <td>Indien</td>    <td>Spanien</td> <td>3.3226</td>   <td>0.005</td>  <td>0.0503</td>    <td>False</td>\n",
       "</tr>\n",
       "<tr>\n",
       "     <td>Italien</td>   <td>Marokko</td> <td>-4.3312</td> <td>0.0007</td>  <td>0.0069</td>    <td>True</td> \n",
       "</tr>\n",
       "<tr>\n",
       "     <td>Italien</td>   <td>Spanien</td> <td>-3.3042</td> <td>0.0052</td>  <td>0.0522</td>    <td>False</td>\n",
       "</tr>\n",
       "<tr>\n",
       "     <td>Marokko</td>   <td>Spanien</td> <td>2.2786</td>  <td>0.0389</td>   <td>0.389</td>    <td>False</td>\n",
       "</tr>\n",
       "</table>"
      ],
      "text/latex": [
       "\\begin{center}\n",
       "\\begin{tabular}{cccccc}\n",
       "\\toprule\n",
       "\\textbf{group1} & \\textbf{group2} & \\textbf{stat} & \\textbf{pval} & \\textbf{pval\\_corr} & \\textbf{reject}  \\\\\n",
       "\\midrule\n",
       "  Griechenland  &      Indien     &    -4.9524    &     0.0002    &        0.0021       &       True       \\\\\n",
       "  Griechenland  &     Italien     &     1.113     &     0.2845    &         1.0         &      False       \\\\\n",
       "  Griechenland  &     Marokko     &    -3.5339    &     0.0033    &        0.0331       &       True       \\\\\n",
       "  Griechenland  &     Spanien     &    -1.9478    &     0.0718    &        0.7178       &      False       \\\\\n",
       "     Indien     &     Italien     &     6.2008    &      0.0      &        0.0002       &       True       \\\\\n",
       "     Indien     &     Marokko     &     0.3183    &     0.7549    &         1.0         &      False       \\\\\n",
       "     Indien     &     Spanien     &     3.3226    &     0.005     &        0.0503       &      False       \\\\\n",
       "    Italien     &     Marokko     &    -4.3312    &     0.0007    &        0.0069       &       True       \\\\\n",
       "    Italien     &     Spanien     &    -3.3042    &     0.0052    &        0.0522       &      False       \\\\\n",
       "    Marokko     &     Spanien     &     2.2786    &     0.0389    &        0.389        &      False       \\\\\n",
       "\\bottomrule\n",
       "\\end{tabular}\n",
       "%\\caption{Test Multiple Comparison ttest_ind \n",
       "FWER=0.05 method=bonferroni\n",
       "alphacSidak=0.01, alphacBonf=0.005}\n",
       "\\end{center}"
      ],
      "text/plain": [
       "<class 'statsmodels.iolib.table.SimpleTable'>"
      ]
     },
     "execution_count": 10,
     "metadata": {},
     "output_type": "execute_result"
    }
   ],
   "source": [
    "res = muc.allpairtest(stats.ttest_ind, method='bonferroni')\n",
    "res[0]"
   ]
  },
  {
   "cell_type": "markdown",
   "id": "459021a6",
   "metadata": {
    "slideshow": {
     "slide_type": "fragment"
    }
   },
   "source": [
    "Nur vier der Paarvergleiche sind signifikant, wenn Bonferroni korrigiert wird"
   ]
  },
  {
   "cell_type": "markdown",
   "id": "7d3338b1",
   "metadata": {
    "slideshow": {
     "slide_type": "slide"
    }
   },
   "source": [
    "Dasselbe mit Bonferroni-Holm"
   ]
  },
  {
   "cell_type": "code",
   "execution_count": 11,
   "id": "16755f9c",
   "metadata": {},
   "outputs": [
    {
     "data": {
      "text/html": [
       "<table class=\"simpletable\">\n",
       "<caption>Test Multiple Comparison ttest_ind \n",
       "FWER=0.05 method=holm\n",
       "alphacSidak=0.01, alphacBonf=0.005</caption>\n",
       "<tr>\n",
       "     <th>group1</th>    <th>group2</th>   <th>stat</th>    <th>pval</th>  <th>pval_corr</th> <th>reject</th>\n",
       "</tr>\n",
       "<tr>\n",
       "  <td>Griechenland</td> <td>Indien</td>  <td>-4.9524</td> <td>0.0002</td>  <td>0.0019</td>    <td>True</td> \n",
       "</tr>\n",
       "<tr>\n",
       "  <td>Griechenland</td> <td>Italien</td>  <td>1.113</td>  <td>0.2845</td>  <td>0.5689</td>    <td>False</td>\n",
       "</tr>\n",
       "<tr>\n",
       "  <td>Griechenland</td> <td>Marokko</td> <td>-3.5339</td> <td>0.0033</td>  <td>0.0231</td>    <td>True</td> \n",
       "</tr>\n",
       "<tr>\n",
       "  <td>Griechenland</td> <td>Spanien</td> <td>-1.9478</td> <td>0.0718</td>  <td>0.2153</td>    <td>False</td>\n",
       "</tr>\n",
       "<tr>\n",
       "     <td>Indien</td>    <td>Italien</td> <td>6.2008</td>    <td>0.0</td>   <td>0.0002</td>    <td>True</td> \n",
       "</tr>\n",
       "<tr>\n",
       "     <td>Indien</td>    <td>Marokko</td> <td>0.3183</td>  <td>0.7549</td>  <td>0.7549</td>    <td>False</td>\n",
       "</tr>\n",
       "<tr>\n",
       "     <td>Indien</td>    <td>Spanien</td> <td>3.3226</td>   <td>0.005</td>  <td>0.0302</td>    <td>True</td> \n",
       "</tr>\n",
       "<tr>\n",
       "     <td>Italien</td>   <td>Marokko</td> <td>-4.3312</td> <td>0.0007</td>  <td>0.0055</td>    <td>True</td> \n",
       "</tr>\n",
       "<tr>\n",
       "     <td>Italien</td>   <td>Spanien</td> <td>-3.3042</td> <td>0.0052</td>  <td>0.0302</td>    <td>True</td> \n",
       "</tr>\n",
       "<tr>\n",
       "     <td>Marokko</td>   <td>Spanien</td> <td>2.2786</td>  <td>0.0389</td>  <td>0.1556</td>    <td>False</td>\n",
       "</tr>\n",
       "</table>"
      ],
      "text/latex": [
       "\\begin{center}\n",
       "\\begin{tabular}{cccccc}\n",
       "\\toprule\n",
       "\\textbf{group1} & \\textbf{group2} & \\textbf{stat} & \\textbf{pval} & \\textbf{pval\\_corr} & \\textbf{reject}  \\\\\n",
       "\\midrule\n",
       "  Griechenland  &      Indien     &    -4.9524    &     0.0002    &        0.0019       &       True       \\\\\n",
       "  Griechenland  &     Italien     &     1.113     &     0.2845    &        0.5689       &      False       \\\\\n",
       "  Griechenland  &     Marokko     &    -3.5339    &     0.0033    &        0.0231       &       True       \\\\\n",
       "  Griechenland  &     Spanien     &    -1.9478    &     0.0718    &        0.2153       &      False       \\\\\n",
       "     Indien     &     Italien     &     6.2008    &      0.0      &        0.0002       &       True       \\\\\n",
       "     Indien     &     Marokko     &     0.3183    &     0.7549    &        0.7549       &      False       \\\\\n",
       "     Indien     &     Spanien     &     3.3226    &     0.005     &        0.0302       &       True       \\\\\n",
       "    Italien     &     Marokko     &    -4.3312    &     0.0007    &        0.0055       &       True       \\\\\n",
       "    Italien     &     Spanien     &    -3.3042    &     0.0052    &        0.0302       &       True       \\\\\n",
       "    Marokko     &     Spanien     &     2.2786    &     0.0389    &        0.1556       &      False       \\\\\n",
       "\\bottomrule\n",
       "\\end{tabular}\n",
       "%\\caption{Test Multiple Comparison ttest_ind \n",
       "FWER=0.05 method=holm\n",
       "alphacSidak=0.01, alphacBonf=0.005}\n",
       "\\end{center}"
      ],
      "text/plain": [
       "<class 'statsmodels.iolib.table.SimpleTable'>"
      ]
     },
     "execution_count": 11,
     "metadata": {},
     "output_type": "execute_result"
    }
   ],
   "source": [
    "res = muc.allpairtest(stats.ttest_ind, method='holm')\n",
    "res[0]"
   ]
  },
  {
   "cell_type": "markdown",
   "id": "964fead5",
   "metadata": {
    "slideshow": {
     "slide_type": "fragment"
    }
   },
   "source": [
    "* Wenn Bonferroni-Holm korrigiert wird, dann sind sechs der Paarvergleiche signifikant"
   ]
  },
  {
   "cell_type": "markdown",
   "id": "1cce7cba",
   "metadata": {},
   "source": [
    "* Es hängt von der Fächerkultur ab, ob Bonferroni-Holm akzeptiert wird"
   ]
  },
  {
   "cell_type": "markdown",
   "id": "9cab6974",
   "metadata": {
    "slideshow": {
     "slide_type": "slide"
    }
   },
   "source": [
    "## Bonferroni-Holm"
   ]
  },
  {
   "cell_type": "markdown",
   "id": "a7578b16",
   "metadata": {},
   "source": [
    "* n multiple Vergleiche werden durchgeführt\n",
    "* Die p-Werte werden der Größe nach geordnet\n",
    "* der kleinste p-Wert muss signifikant zu $\\frac\\alpha n$ sein\n",
    "* der zweitkleinste zu $\\frac\\alpha{n-1}$\n",
    "* drittkleinste zu $\\frac\\alpha{n-2}$\n",
    "* usw.\n",
    "* der größte zum Niveau $\\alpha$"
   ]
  },
  {
   "cell_type": "markdown",
   "id": "664ded03",
   "metadata": {
    "slideshow": {
     "slide_type": "slide"
    }
   },
   "source": [
    "Bei den Zitronen\n",
    "\n",
    "* der kleinste *p*-Wert ist der des Vergleichs zwischen Indien und Italien\n",
    "* er ist unkorrigiert gleich 2.311e-5 \n",
    "* es gibt 10 Paarvergleiche, also ist der Bonferroni-korrigierte Wert gleich 0.0002311\n",
    "* die Bonferroni-Holm Korrektur führt zum selben Wert\n"
   ]
  },
  {
   "cell_type": "markdown",
   "id": "e51f2067",
   "metadata": {
    "slideshow": {
     "slide_type": "fragment"
    }
   },
   "source": [
    "* der zweitkleinste *p*-Wert ist der des Vergleichs zwischen Griechenland und Indien\n",
    "* er ist unkorrigiert gleich 2.125e-4\n",
    "* also mit Bonferroni-Korrektur gleich 0.002125\n",
    "* nach Bonferroni-Holm ist der gleich 2.125e-4/9 = 1.913"
   ]
  },
  {
   "cell_type": "markdown",
   "id": "262ad131",
   "metadata": {
    "slideshow": {
     "slide_type": "slide"
    }
   },
   "source": [
    "## Ablesung genauerer Werte"
   ]
  },
  {
   "cell_type": "markdown",
   "id": "6ab94e18",
   "metadata": {},
   "source": [
    "* Woher weiss ich die genauen *p*-Werte?\n",
    "* `res = muc.allpairtest(stats.ttest_ind, method='bonferroni')` ist ein Paar mit zwei Einträgen\n",
    "* `res[0]` ist die leserfreundlich formatierte Tabelle\n",
    "* die genauen Werte stehen in `res[1]`"
   ]
  },
  {
   "cell_type": "code",
   "execution_count": 12,
   "id": "8f8ecc77",
   "metadata": {
    "slideshow": {
     "slide_type": "slide"
    }
   },
   "outputs": [
    {
     "data": {
      "text/plain": [
       "(array([[-4.95235073e+00,  2.12516086e-04],\n",
       "        [ 1.11298427e+00,  2.84460819e-01],\n",
       "        [-3.53387275e+00,  3.30511610e-03],\n",
       "        [-1.94781061e+00,  7.17760991e-02],\n",
       "        [ 6.20082296e+00,  2.31091193e-05],\n",
       "        [ 3.18345880e-01,  7.54921930e-01],\n",
       "        [ 3.32261512e+00,  5.03074269e-03],\n",
       "        [-4.33123161e+00,  6.90566981e-04],\n",
       "        [-3.30423221e+00,  5.21815835e-03],\n",
       "        [ 2.27858634e+00,  3.88961763e-02]]),\n",
       " array([ True, False,  True, False,  True, False,  True,  True,  True,\n",
       "        False]),\n",
       " array([1.91264477e-03, 5.68921637e-01, 2.31358127e-02, 2.15328297e-01,\n",
       "        2.31091193e-04, 7.54921930e-01, 3.01844561e-02, 5.52453585e-03,\n",
       "        3.01844561e-02, 1.55584705e-01]),\n",
       " 0.005116196891823743,\n",
       " 0.005)"
      ]
     },
     "execution_count": 12,
     "metadata": {},
     "output_type": "execute_result"
    }
   ],
   "source": [
    "res[1] "
   ]
  },
  {
   "cell_type": "markdown",
   "id": "3ca8538a",
   "metadata": {
    "slideshow": {
     "slide_type": "fragment"
    }
   },
   "source": [
    "* Der erste Array ist zweidimensional und enthält die genauen Werte der Statistik und die unkorrigierten *p*-Werte"
   ]
  },
  {
   "cell_type": "markdown",
   "id": "8af02e4a",
   "metadata": {
    "slideshow": {
     "slide_type": "fragment"
    }
   },
   "source": [
    "* wichtig ist der dritte Array, der die korrigierten *p*-Werte in der Reihenfolge enthält in der die Paarvergleiche in der Tabelle aufgeführt sind"
   ]
  },
  {
   "cell_type": "code",
   "execution_count": 13,
   "id": "1399ad0d",
   "metadata": {},
   "outputs": [
    {
     "data": {
      "text/plain": [
       "array([1.91264477e-03, 5.68921637e-01, 2.31358127e-02, 2.15328297e-01,\n",
       "       2.31091193e-04, 7.54921930e-01, 3.01844561e-02, 5.52453585e-03,\n",
       "       3.01844561e-02, 1.55584705e-01])"
      ]
     },
     "execution_count": 13,
     "metadata": {},
     "output_type": "execute_result"
    }
   ],
   "source": [
    "p_werte_korrigiert = res[1][2]\n",
    "p_werte_korrigiert"
   ]
  },
  {
   "cell_type": "code",
   "execution_count": 14,
   "id": "6098e786",
   "metadata": {
    "slideshow": {
     "slide_type": "slide"
    }
   },
   "outputs": [
    {
     "data": {
      "text/plain": [
       "3.373341669675729e-06"
      ]
     },
     "execution_count": 14,
     "metadata": {},
     "output_type": "execute_result"
    }
   ],
   "source": [
    "stats.f_oneway(spanien, italien, griechenland, marokko, indien).pvalue"
   ]
  },
  {
   "cell_type": "markdown",
   "id": "a5380bf6",
   "metadata": {},
   "source": [
    "Der *p*-Wert der ANOVA ist kleiner als 5.0E-6.  Daher ist zu diesem Signifikanzniveau nachgewiesen, dass Zitronen aus verschiedenen Ländern unterschiedliche Vitamin C Gehalte haben.  Wir rechnen die post-hoc Analyse für dieses Signifikanzniveau"
   ]
  },
  {
   "cell_type": "code",
   "execution_count": 15,
   "id": "34512ffe",
   "metadata": {
    "slideshow": {
     "slide_type": "slide"
    }
   },
   "outputs": [],
   "source": [
    "res = muc.allpairtest(stats.ttest_ind, alpha=5.0E-6, method='bonferroni')"
   ]
  },
  {
   "cell_type": "code",
   "execution_count": 16,
   "id": "7d37c16e",
   "metadata": {},
   "outputs": [
    {
     "data": {
      "text/html": [
       "<table class=\"simpletable\">\n",
       "<caption>Test Multiple Comparison ttest_ind \n",
       "FWER=0.00 method=bonferroni\n",
       "alphacSidak=0.00, alphacBonf=0.000</caption>\n",
       "<tr>\n",
       "     <th>group1</th>    <th>group2</th>   <th>stat</th>    <th>pval</th>  <th>pval_corr</th> <th>reject</th>\n",
       "</tr>\n",
       "<tr>\n",
       "  <td>Griechenland</td> <td>Indien</td>  <td>-4.9524</td> <td>0.0002</td>  <td>0.0021</td>    <td>False</td>\n",
       "</tr>\n",
       "<tr>\n",
       "  <td>Griechenland</td> <td>Italien</td>  <td>1.113</td>  <td>0.2845</td>    <td>1.0</td>     <td>False</td>\n",
       "</tr>\n",
       "<tr>\n",
       "  <td>Griechenland</td> <td>Marokko</td> <td>-3.5339</td> <td>0.0033</td>  <td>0.0331</td>    <td>False</td>\n",
       "</tr>\n",
       "<tr>\n",
       "  <td>Griechenland</td> <td>Spanien</td> <td>-1.9478</td> <td>0.0718</td>  <td>0.7178</td>    <td>False</td>\n",
       "</tr>\n",
       "<tr>\n",
       "     <td>Indien</td>    <td>Italien</td> <td>6.2008</td>    <td>0.0</td>   <td>0.0002</td>    <td>False</td>\n",
       "</tr>\n",
       "<tr>\n",
       "     <td>Indien</td>    <td>Marokko</td> <td>0.3183</td>  <td>0.7549</td>    <td>1.0</td>     <td>False</td>\n",
       "</tr>\n",
       "<tr>\n",
       "     <td>Indien</td>    <td>Spanien</td> <td>3.3226</td>   <td>0.005</td>  <td>0.0503</td>    <td>False</td>\n",
       "</tr>\n",
       "<tr>\n",
       "     <td>Italien</td>   <td>Marokko</td> <td>-4.3312</td> <td>0.0007</td>  <td>0.0069</td>    <td>False</td>\n",
       "</tr>\n",
       "<tr>\n",
       "     <td>Italien</td>   <td>Spanien</td> <td>-3.3042</td> <td>0.0052</td>  <td>0.0522</td>    <td>False</td>\n",
       "</tr>\n",
       "<tr>\n",
       "     <td>Marokko</td>   <td>Spanien</td> <td>2.2786</td>  <td>0.0389</td>   <td>0.389</td>    <td>False</td>\n",
       "</tr>\n",
       "</table>"
      ],
      "text/latex": [
       "\\begin{center}\n",
       "\\begin{tabular}{cccccc}\n",
       "\\toprule\n",
       "\\textbf{group1} & \\textbf{group2} & \\textbf{stat} & \\textbf{pval} & \\textbf{pval\\_corr} & \\textbf{reject}  \\\\\n",
       "\\midrule\n",
       "  Griechenland  &      Indien     &    -4.9524    &     0.0002    &        0.0021       &      False       \\\\\n",
       "  Griechenland  &     Italien     &     1.113     &     0.2845    &         1.0         &      False       \\\\\n",
       "  Griechenland  &     Marokko     &    -3.5339    &     0.0033    &        0.0331       &      False       \\\\\n",
       "  Griechenland  &     Spanien     &    -1.9478    &     0.0718    &        0.7178       &      False       \\\\\n",
       "     Indien     &     Italien     &     6.2008    &      0.0      &        0.0002       &      False       \\\\\n",
       "     Indien     &     Marokko     &     0.3183    &     0.7549    &         1.0         &      False       \\\\\n",
       "     Indien     &     Spanien     &     3.3226    &     0.005     &        0.0503       &      False       \\\\\n",
       "    Italien     &     Marokko     &    -4.3312    &     0.0007    &        0.0069       &      False       \\\\\n",
       "    Italien     &     Spanien     &    -3.3042    &     0.0052    &        0.0522       &      False       \\\\\n",
       "    Marokko     &     Spanien     &     2.2786    &     0.0389    &        0.389        &      False       \\\\\n",
       "\\bottomrule\n",
       "\\end{tabular}\n",
       "%\\caption{Test Multiple Comparison ttest_ind \n",
       "FWER=0.00 method=bonferroni\n",
       "alphacSidak=0.00, alphacBonf=0.000}\n",
       "\\end{center}"
      ],
      "text/plain": [
       "<class 'statsmodels.iolib.table.SimpleTable'>"
      ]
     },
     "execution_count": 16,
     "metadata": {},
     "output_type": "execute_result"
    }
   ],
   "source": [
    "res[0]"
   ]
  },
  {
   "cell_type": "markdown",
   "id": "caf6c722",
   "metadata": {
    "slideshow": {
     "slide_type": "fragment"
    }
   },
   "source": [
    "Keiner der Paarvergleiche ist signifikant."
   ]
  },
  {
   "cell_type": "markdown",
   "id": "7ea43b45",
   "metadata": {
    "slideshow": {
     "slide_type": "slide"
    }
   },
   "source": [
    "# Behandlung von NaN"
   ]
  },
  {
   "cell_type": "code",
   "execution_count": 17,
   "id": "0275ccd2",
   "metadata": {
    "slideshow": {
     "slide_type": "slide"
    }
   },
   "outputs": [
    {
     "data": {
      "text/html": [
       "<div>\n",
       "<style scoped>\n",
       "    .dataframe tbody tr th:only-of-type {\n",
       "        vertical-align: middle;\n",
       "    }\n",
       "\n",
       "    .dataframe tbody tr th {\n",
       "        vertical-align: top;\n",
       "    }\n",
       "\n",
       "    .dataframe thead th {\n",
       "        text-align: right;\n",
       "    }\n",
       "</style>\n",
       "<table border=\"1\" class=\"dataframe\">\n",
       "  <thead>\n",
       "    <tr style=\"text-align: right;\">\n",
       "      <th></th>\n",
       "      <th>species</th>\n",
       "      <th>island</th>\n",
       "      <th>bill_length_mm</th>\n",
       "      <th>bill_depth_mm</th>\n",
       "      <th>flipper_length_mm</th>\n",
       "      <th>body_mass_g</th>\n",
       "      <th>sex</th>\n",
       "    </tr>\n",
       "  </thead>\n",
       "  <tbody>\n",
       "    <tr>\n",
       "      <th>0</th>\n",
       "      <td>Adelie</td>\n",
       "      <td>Torgersen</td>\n",
       "      <td>39.1</td>\n",
       "      <td>18.7</td>\n",
       "      <td>181.0</td>\n",
       "      <td>3750.0</td>\n",
       "      <td>Male</td>\n",
       "    </tr>\n",
       "    <tr>\n",
       "      <th>1</th>\n",
       "      <td>Adelie</td>\n",
       "      <td>Torgersen</td>\n",
       "      <td>39.5</td>\n",
       "      <td>17.4</td>\n",
       "      <td>186.0</td>\n",
       "      <td>3800.0</td>\n",
       "      <td>Female</td>\n",
       "    </tr>\n",
       "    <tr>\n",
       "      <th>2</th>\n",
       "      <td>Adelie</td>\n",
       "      <td>Torgersen</td>\n",
       "      <td>40.3</td>\n",
       "      <td>18.0</td>\n",
       "      <td>195.0</td>\n",
       "      <td>3250.0</td>\n",
       "      <td>Female</td>\n",
       "    </tr>\n",
       "    <tr>\n",
       "      <th>3</th>\n",
       "      <td>Adelie</td>\n",
       "      <td>Torgersen</td>\n",
       "      <td>NaN</td>\n",
       "      <td>NaN</td>\n",
       "      <td>NaN</td>\n",
       "      <td>NaN</td>\n",
       "      <td>NaN</td>\n",
       "    </tr>\n",
       "    <tr>\n",
       "      <th>4</th>\n",
       "      <td>Adelie</td>\n",
       "      <td>Torgersen</td>\n",
       "      <td>36.7</td>\n",
       "      <td>19.3</td>\n",
       "      <td>193.0</td>\n",
       "      <td>3450.0</td>\n",
       "      <td>Female</td>\n",
       "    </tr>\n",
       "  </tbody>\n",
       "</table>\n",
       "</div>"
      ],
      "text/plain": [
       "  species     island  bill_length_mm  bill_depth_mm  flipper_length_mm  \\\n",
       "0  Adelie  Torgersen            39.1           18.7              181.0   \n",
       "1  Adelie  Torgersen            39.5           17.4              186.0   \n",
       "2  Adelie  Torgersen            40.3           18.0              195.0   \n",
       "3  Adelie  Torgersen             NaN            NaN                NaN   \n",
       "4  Adelie  Torgersen            36.7           19.3              193.0   \n",
       "\n",
       "   body_mass_g     sex  \n",
       "0       3750.0    Male  \n",
       "1       3800.0  Female  \n",
       "2       3250.0  Female  \n",
       "3          NaN     NaN  \n",
       "4       3450.0  Female  "
      ]
     },
     "execution_count": 17,
     "metadata": {},
     "output_type": "execute_result"
    }
   ],
   "source": [
    "df = sns.load_dataset('penguins')\n",
    "df.head()"
   ]
  },
  {
   "cell_type": "code",
   "execution_count": 18,
   "id": "c30a6762",
   "metadata": {
    "slideshow": {
     "slide_type": "slide"
    }
   },
   "outputs": [
    {
     "data": {
      "text/plain": [
       "island\n",
       "Biscoe       168\n",
       "Dream        124\n",
       "Torgersen     52\n",
       "Name: count, dtype: int64"
      ]
     },
     "execution_count": 18,
     "metadata": {},
     "output_type": "execute_result"
    }
   ],
   "source": [
    "df.island.value_counts()"
   ]
  },
  {
   "cell_type": "code",
   "execution_count": 19,
   "id": "cf82f1b6",
   "metadata": {},
   "outputs": [],
   "source": [
    "g1 = df[df.island=='Biscoe'].body_mass_g.dropna()\n",
    "g2 = df[df.island=='Dream'].body_mass_g.dropna()\n",
    "g3 = df[df.island=='Torgersen'].body_mass_g.dropna()"
   ]
  },
  {
   "cell_type": "code",
   "execution_count": 20,
   "id": "039df17b",
   "metadata": {},
   "outputs": [
    {
     "data": {
      "text/plain": [
       "F_onewayResult(statistic=110.00796506232122, pvalue=1.5151291424015603e-37)"
      ]
     },
     "execution_count": 20,
     "metadata": {},
     "output_type": "execute_result"
    }
   ],
   "source": [
    "stats.f_oneway(g1, g2, g3)"
   ]
  },
  {
   "cell_type": "markdown",
   "id": "98571600",
   "metadata": {
    "slideshow": {
     "slide_type": "slide"
    }
   },
   "source": [
    "* `allpairtest` benötigt alle Daten in derselben Tabelle"
   ]
  },
  {
   "cell_type": "markdown",
   "id": "48d59aa2",
   "metadata": {
    "slideshow": {
     "slide_type": "fragment"
    }
   },
   "source": [
    "* Wir müssen also in der Ausgangstabelle alle Zeilen löschen, in denen das Gewicht fehlt"
   ]
  },
  {
   "cell_type": "code",
   "execution_count": 21,
   "id": "0afe6a07",
   "metadata": {},
   "outputs": [
    {
     "data": {
      "text/html": [
       "<div>\n",
       "<style scoped>\n",
       "    .dataframe tbody tr th:only-of-type {\n",
       "        vertical-align: middle;\n",
       "    }\n",
       "\n",
       "    .dataframe tbody tr th {\n",
       "        vertical-align: top;\n",
       "    }\n",
       "\n",
       "    .dataframe thead th {\n",
       "        text-align: right;\n",
       "    }\n",
       "</style>\n",
       "<table border=\"1\" class=\"dataframe\">\n",
       "  <thead>\n",
       "    <tr style=\"text-align: right;\">\n",
       "      <th></th>\n",
       "      <th>species</th>\n",
       "      <th>island</th>\n",
       "      <th>bill_length_mm</th>\n",
       "      <th>bill_depth_mm</th>\n",
       "      <th>flipper_length_mm</th>\n",
       "      <th>body_mass_g</th>\n",
       "      <th>sex</th>\n",
       "    </tr>\n",
       "  </thead>\n",
       "  <tbody>\n",
       "    <tr>\n",
       "      <th>0</th>\n",
       "      <td>Adelie</td>\n",
       "      <td>Torgersen</td>\n",
       "      <td>39.1</td>\n",
       "      <td>18.7</td>\n",
       "      <td>181.0</td>\n",
       "      <td>3750.0</td>\n",
       "      <td>Male</td>\n",
       "    </tr>\n",
       "    <tr>\n",
       "      <th>1</th>\n",
       "      <td>Adelie</td>\n",
       "      <td>Torgersen</td>\n",
       "      <td>39.5</td>\n",
       "      <td>17.4</td>\n",
       "      <td>186.0</td>\n",
       "      <td>3800.0</td>\n",
       "      <td>Female</td>\n",
       "    </tr>\n",
       "    <tr>\n",
       "      <th>2</th>\n",
       "      <td>Adelie</td>\n",
       "      <td>Torgersen</td>\n",
       "      <td>40.3</td>\n",
       "      <td>18.0</td>\n",
       "      <td>195.0</td>\n",
       "      <td>3250.0</td>\n",
       "      <td>Female</td>\n",
       "    </tr>\n",
       "    <tr>\n",
       "      <th>4</th>\n",
       "      <td>Adelie</td>\n",
       "      <td>Torgersen</td>\n",
       "      <td>36.7</td>\n",
       "      <td>19.3</td>\n",
       "      <td>193.0</td>\n",
       "      <td>3450.0</td>\n",
       "      <td>Female</td>\n",
       "    </tr>\n",
       "    <tr>\n",
       "      <th>5</th>\n",
       "      <td>Adelie</td>\n",
       "      <td>Torgersen</td>\n",
       "      <td>39.3</td>\n",
       "      <td>20.6</td>\n",
       "      <td>190.0</td>\n",
       "      <td>3650.0</td>\n",
       "      <td>Male</td>\n",
       "    </tr>\n",
       "    <tr>\n",
       "      <th>...</th>\n",
       "      <td>...</td>\n",
       "      <td>...</td>\n",
       "      <td>...</td>\n",
       "      <td>...</td>\n",
       "      <td>...</td>\n",
       "      <td>...</td>\n",
       "      <td>...</td>\n",
       "    </tr>\n",
       "    <tr>\n",
       "      <th>338</th>\n",
       "      <td>Gentoo</td>\n",
       "      <td>Biscoe</td>\n",
       "      <td>47.2</td>\n",
       "      <td>13.7</td>\n",
       "      <td>214.0</td>\n",
       "      <td>4925.0</td>\n",
       "      <td>Female</td>\n",
       "    </tr>\n",
       "    <tr>\n",
       "      <th>340</th>\n",
       "      <td>Gentoo</td>\n",
       "      <td>Biscoe</td>\n",
       "      <td>46.8</td>\n",
       "      <td>14.3</td>\n",
       "      <td>215.0</td>\n",
       "      <td>4850.0</td>\n",
       "      <td>Female</td>\n",
       "    </tr>\n",
       "    <tr>\n",
       "      <th>341</th>\n",
       "      <td>Gentoo</td>\n",
       "      <td>Biscoe</td>\n",
       "      <td>50.4</td>\n",
       "      <td>15.7</td>\n",
       "      <td>222.0</td>\n",
       "      <td>5750.0</td>\n",
       "      <td>Male</td>\n",
       "    </tr>\n",
       "    <tr>\n",
       "      <th>342</th>\n",
       "      <td>Gentoo</td>\n",
       "      <td>Biscoe</td>\n",
       "      <td>45.2</td>\n",
       "      <td>14.8</td>\n",
       "      <td>212.0</td>\n",
       "      <td>5200.0</td>\n",
       "      <td>Female</td>\n",
       "    </tr>\n",
       "    <tr>\n",
       "      <th>343</th>\n",
       "      <td>Gentoo</td>\n",
       "      <td>Biscoe</td>\n",
       "      <td>49.9</td>\n",
       "      <td>16.1</td>\n",
       "      <td>213.0</td>\n",
       "      <td>5400.0</td>\n",
       "      <td>Male</td>\n",
       "    </tr>\n",
       "  </tbody>\n",
       "</table>\n",
       "<p>342 rows × 7 columns</p>\n",
       "</div>"
      ],
      "text/plain": [
       "    species     island  bill_length_mm  bill_depth_mm  flipper_length_mm  \\\n",
       "0    Adelie  Torgersen            39.1           18.7              181.0   \n",
       "1    Adelie  Torgersen            39.5           17.4              186.0   \n",
       "2    Adelie  Torgersen            40.3           18.0              195.0   \n",
       "4    Adelie  Torgersen            36.7           19.3              193.0   \n",
       "5    Adelie  Torgersen            39.3           20.6              190.0   \n",
       "..      ...        ...             ...            ...                ...   \n",
       "338  Gentoo     Biscoe            47.2           13.7              214.0   \n",
       "340  Gentoo     Biscoe            46.8           14.3              215.0   \n",
       "341  Gentoo     Biscoe            50.4           15.7              222.0   \n",
       "342  Gentoo     Biscoe            45.2           14.8              212.0   \n",
       "343  Gentoo     Biscoe            49.9           16.1              213.0   \n",
       "\n",
       "     body_mass_g     sex  \n",
       "0         3750.0    Male  \n",
       "1         3800.0  Female  \n",
       "2         3250.0  Female  \n",
       "4         3450.0  Female  \n",
       "5         3650.0    Male  \n",
       "..           ...     ...  \n",
       "338       4925.0  Female  \n",
       "340       4850.0  Female  \n",
       "341       5750.0    Male  \n",
       "342       5200.0  Female  \n",
       "343       5400.0    Male  \n",
       "\n",
       "[342 rows x 7 columns]"
      ]
     },
     "execution_count": 21,
     "metadata": {},
     "output_type": "execute_result"
    }
   ],
   "source": [
    "df_dropped = df[df.body_mass_g.notnull()]\n",
    "df_dropped"
   ]
  },
  {
   "cell_type": "markdown",
   "id": "95164525",
   "metadata": {
    "slideshow": {
     "slide_type": "slide"
    }
   },
   "source": [
    "* man möchte testen `df.body_mass_g==np.nan`\n",
    "* das geht aber nicht, weil `nan` besondere Rechenregeln hat\n",
    "* stattdessen prüft die Methode `notnull()` darauf, ob ein Element ungleich `NaN` ist\n",
    "* das Gegenteil von `notnull` ist `isnull`"
   ]
  },
  {
   "cell_type": "markdown",
   "id": "b8b4edc6",
   "metadata": {},
   "source": [
    "Im Gegensatz dazu entfernt die folgende Operation alle Zeilen, in denen mindestens ein Wert fehlt"
   ]
  },
  {
   "cell_type": "code",
   "execution_count": 22,
   "id": "51969651",
   "metadata": {
    "slideshow": {
     "slide_type": "slide"
    }
   },
   "outputs": [
    {
     "data": {
      "text/html": [
       "<div>\n",
       "<style scoped>\n",
       "    .dataframe tbody tr th:only-of-type {\n",
       "        vertical-align: middle;\n",
       "    }\n",
       "\n",
       "    .dataframe tbody tr th {\n",
       "        vertical-align: top;\n",
       "    }\n",
       "\n",
       "    .dataframe thead th {\n",
       "        text-align: right;\n",
       "    }\n",
       "</style>\n",
       "<table border=\"1\" class=\"dataframe\">\n",
       "  <thead>\n",
       "    <tr style=\"text-align: right;\">\n",
       "      <th></th>\n",
       "      <th>species</th>\n",
       "      <th>island</th>\n",
       "      <th>bill_length_mm</th>\n",
       "      <th>bill_depth_mm</th>\n",
       "      <th>flipper_length_mm</th>\n",
       "      <th>body_mass_g</th>\n",
       "      <th>sex</th>\n",
       "    </tr>\n",
       "  </thead>\n",
       "  <tbody>\n",
       "    <tr>\n",
       "      <th>0</th>\n",
       "      <td>Adelie</td>\n",
       "      <td>Torgersen</td>\n",
       "      <td>39.1</td>\n",
       "      <td>18.7</td>\n",
       "      <td>181.0</td>\n",
       "      <td>3750.0</td>\n",
       "      <td>Male</td>\n",
       "    </tr>\n",
       "    <tr>\n",
       "      <th>1</th>\n",
       "      <td>Adelie</td>\n",
       "      <td>Torgersen</td>\n",
       "      <td>39.5</td>\n",
       "      <td>17.4</td>\n",
       "      <td>186.0</td>\n",
       "      <td>3800.0</td>\n",
       "      <td>Female</td>\n",
       "    </tr>\n",
       "    <tr>\n",
       "      <th>2</th>\n",
       "      <td>Adelie</td>\n",
       "      <td>Torgersen</td>\n",
       "      <td>40.3</td>\n",
       "      <td>18.0</td>\n",
       "      <td>195.0</td>\n",
       "      <td>3250.0</td>\n",
       "      <td>Female</td>\n",
       "    </tr>\n",
       "    <tr>\n",
       "      <th>4</th>\n",
       "      <td>Adelie</td>\n",
       "      <td>Torgersen</td>\n",
       "      <td>36.7</td>\n",
       "      <td>19.3</td>\n",
       "      <td>193.0</td>\n",
       "      <td>3450.0</td>\n",
       "      <td>Female</td>\n",
       "    </tr>\n",
       "    <tr>\n",
       "      <th>5</th>\n",
       "      <td>Adelie</td>\n",
       "      <td>Torgersen</td>\n",
       "      <td>39.3</td>\n",
       "      <td>20.6</td>\n",
       "      <td>190.0</td>\n",
       "      <td>3650.0</td>\n",
       "      <td>Male</td>\n",
       "    </tr>\n",
       "    <tr>\n",
       "      <th>...</th>\n",
       "      <td>...</td>\n",
       "      <td>...</td>\n",
       "      <td>...</td>\n",
       "      <td>...</td>\n",
       "      <td>...</td>\n",
       "      <td>...</td>\n",
       "      <td>...</td>\n",
       "    </tr>\n",
       "    <tr>\n",
       "      <th>338</th>\n",
       "      <td>Gentoo</td>\n",
       "      <td>Biscoe</td>\n",
       "      <td>47.2</td>\n",
       "      <td>13.7</td>\n",
       "      <td>214.0</td>\n",
       "      <td>4925.0</td>\n",
       "      <td>Female</td>\n",
       "    </tr>\n",
       "    <tr>\n",
       "      <th>340</th>\n",
       "      <td>Gentoo</td>\n",
       "      <td>Biscoe</td>\n",
       "      <td>46.8</td>\n",
       "      <td>14.3</td>\n",
       "      <td>215.0</td>\n",
       "      <td>4850.0</td>\n",
       "      <td>Female</td>\n",
       "    </tr>\n",
       "    <tr>\n",
       "      <th>341</th>\n",
       "      <td>Gentoo</td>\n",
       "      <td>Biscoe</td>\n",
       "      <td>50.4</td>\n",
       "      <td>15.7</td>\n",
       "      <td>222.0</td>\n",
       "      <td>5750.0</td>\n",
       "      <td>Male</td>\n",
       "    </tr>\n",
       "    <tr>\n",
       "      <th>342</th>\n",
       "      <td>Gentoo</td>\n",
       "      <td>Biscoe</td>\n",
       "      <td>45.2</td>\n",
       "      <td>14.8</td>\n",
       "      <td>212.0</td>\n",
       "      <td>5200.0</td>\n",
       "      <td>Female</td>\n",
       "    </tr>\n",
       "    <tr>\n",
       "      <th>343</th>\n",
       "      <td>Gentoo</td>\n",
       "      <td>Biscoe</td>\n",
       "      <td>49.9</td>\n",
       "      <td>16.1</td>\n",
       "      <td>213.0</td>\n",
       "      <td>5400.0</td>\n",
       "      <td>Male</td>\n",
       "    </tr>\n",
       "  </tbody>\n",
       "</table>\n",
       "<p>333 rows × 7 columns</p>\n",
       "</div>"
      ],
      "text/plain": [
       "    species     island  bill_length_mm  bill_depth_mm  flipper_length_mm  \\\n",
       "0    Adelie  Torgersen            39.1           18.7              181.0   \n",
       "1    Adelie  Torgersen            39.5           17.4              186.0   \n",
       "2    Adelie  Torgersen            40.3           18.0              195.0   \n",
       "4    Adelie  Torgersen            36.7           19.3              193.0   \n",
       "5    Adelie  Torgersen            39.3           20.6              190.0   \n",
       "..      ...        ...             ...            ...                ...   \n",
       "338  Gentoo     Biscoe            47.2           13.7              214.0   \n",
       "340  Gentoo     Biscoe            46.8           14.3              215.0   \n",
       "341  Gentoo     Biscoe            50.4           15.7              222.0   \n",
       "342  Gentoo     Biscoe            45.2           14.8              212.0   \n",
       "343  Gentoo     Biscoe            49.9           16.1              213.0   \n",
       "\n",
       "     body_mass_g     sex  \n",
       "0         3750.0    Male  \n",
       "1         3800.0  Female  \n",
       "2         3250.0  Female  \n",
       "4         3450.0  Female  \n",
       "5         3650.0    Male  \n",
       "..           ...     ...  \n",
       "338       4925.0  Female  \n",
       "340       4850.0  Female  \n",
       "341       5750.0    Male  \n",
       "342       5200.0  Female  \n",
       "343       5400.0    Male  \n",
       "\n",
       "[333 rows x 7 columns]"
      ]
     },
     "execution_count": 22,
     "metadata": {},
     "output_type": "execute_result"
    }
   ],
   "source": [
    "df2 = df.dropna()\n",
    "df2"
   ]
  },
  {
   "cell_type": "markdown",
   "id": "751d64f5",
   "metadata": {
    "slideshow": {
     "slide_type": "slide"
    }
   },
   "source": [
    "* Das sind 9 Zeilen weniger\n",
    "* Es gibt also 9 Pinguine, von denen das Gewicht bestimmt werden konnte, mindestens ein anderer Wert aber nicht"
   ]
  },
  {
   "cell_type": "markdown",
   "id": "d64918d4",
   "metadata": {
    "slideshow": {
     "slide_type": "fragment"
    }
   },
   "source": [
    "Die unbestimmte Größe ist übrigens das Geschlecht:"
   ]
  },
  {
   "cell_type": "code",
   "execution_count": 23,
   "id": "d2704f9f",
   "metadata": {},
   "outputs": [
    {
     "data": {
      "text/html": [
       "<div>\n",
       "<style scoped>\n",
       "    .dataframe tbody tr th:only-of-type {\n",
       "        vertical-align: middle;\n",
       "    }\n",
       "\n",
       "    .dataframe tbody tr th {\n",
       "        vertical-align: top;\n",
       "    }\n",
       "\n",
       "    .dataframe thead th {\n",
       "        text-align: right;\n",
       "    }\n",
       "</style>\n",
       "<table border=\"1\" class=\"dataframe\">\n",
       "  <thead>\n",
       "    <tr style=\"text-align: right;\">\n",
       "      <th></th>\n",
       "      <th>species</th>\n",
       "      <th>island</th>\n",
       "      <th>bill_length_mm</th>\n",
       "      <th>bill_depth_mm</th>\n",
       "      <th>flipper_length_mm</th>\n",
       "      <th>body_mass_g</th>\n",
       "      <th>sex</th>\n",
       "    </tr>\n",
       "  </thead>\n",
       "  <tbody>\n",
       "    <tr>\n",
       "      <th>8</th>\n",
       "      <td>Adelie</td>\n",
       "      <td>Torgersen</td>\n",
       "      <td>34.1</td>\n",
       "      <td>18.1</td>\n",
       "      <td>193.0</td>\n",
       "      <td>3475.0</td>\n",
       "      <td>NaN</td>\n",
       "    </tr>\n",
       "    <tr>\n",
       "      <th>9</th>\n",
       "      <td>Adelie</td>\n",
       "      <td>Torgersen</td>\n",
       "      <td>42.0</td>\n",
       "      <td>20.2</td>\n",
       "      <td>190.0</td>\n",
       "      <td>4250.0</td>\n",
       "      <td>NaN</td>\n",
       "    </tr>\n",
       "    <tr>\n",
       "      <th>10</th>\n",
       "      <td>Adelie</td>\n",
       "      <td>Torgersen</td>\n",
       "      <td>37.8</td>\n",
       "      <td>17.1</td>\n",
       "      <td>186.0</td>\n",
       "      <td>3300.0</td>\n",
       "      <td>NaN</td>\n",
       "    </tr>\n",
       "    <tr>\n",
       "      <th>11</th>\n",
       "      <td>Adelie</td>\n",
       "      <td>Torgersen</td>\n",
       "      <td>37.8</td>\n",
       "      <td>17.3</td>\n",
       "      <td>180.0</td>\n",
       "      <td>3700.0</td>\n",
       "      <td>NaN</td>\n",
       "    </tr>\n",
       "    <tr>\n",
       "      <th>47</th>\n",
       "      <td>Adelie</td>\n",
       "      <td>Dream</td>\n",
       "      <td>37.5</td>\n",
       "      <td>18.9</td>\n",
       "      <td>179.0</td>\n",
       "      <td>2975.0</td>\n",
       "      <td>NaN</td>\n",
       "    </tr>\n",
       "    <tr>\n",
       "      <th>246</th>\n",
       "      <td>Gentoo</td>\n",
       "      <td>Biscoe</td>\n",
       "      <td>44.5</td>\n",
       "      <td>14.3</td>\n",
       "      <td>216.0</td>\n",
       "      <td>4100.0</td>\n",
       "      <td>NaN</td>\n",
       "    </tr>\n",
       "    <tr>\n",
       "      <th>286</th>\n",
       "      <td>Gentoo</td>\n",
       "      <td>Biscoe</td>\n",
       "      <td>46.2</td>\n",
       "      <td>14.4</td>\n",
       "      <td>214.0</td>\n",
       "      <td>4650.0</td>\n",
       "      <td>NaN</td>\n",
       "    </tr>\n",
       "    <tr>\n",
       "      <th>324</th>\n",
       "      <td>Gentoo</td>\n",
       "      <td>Biscoe</td>\n",
       "      <td>47.3</td>\n",
       "      <td>13.8</td>\n",
       "      <td>216.0</td>\n",
       "      <td>4725.0</td>\n",
       "      <td>NaN</td>\n",
       "    </tr>\n",
       "    <tr>\n",
       "      <th>336</th>\n",
       "      <td>Gentoo</td>\n",
       "      <td>Biscoe</td>\n",
       "      <td>44.5</td>\n",
       "      <td>15.7</td>\n",
       "      <td>217.0</td>\n",
       "      <td>4875.0</td>\n",
       "      <td>NaN</td>\n",
       "    </tr>\n",
       "  </tbody>\n",
       "</table>\n",
       "</div>"
      ],
      "text/plain": [
       "    species     island  bill_length_mm  bill_depth_mm  flipper_length_mm  \\\n",
       "8    Adelie  Torgersen            34.1           18.1              193.0   \n",
       "9    Adelie  Torgersen            42.0           20.2              190.0   \n",
       "10   Adelie  Torgersen            37.8           17.1              186.0   \n",
       "11   Adelie  Torgersen            37.8           17.3              180.0   \n",
       "47   Adelie      Dream            37.5           18.9              179.0   \n",
       "246  Gentoo     Biscoe            44.5           14.3              216.0   \n",
       "286  Gentoo     Biscoe            46.2           14.4              214.0   \n",
       "324  Gentoo     Biscoe            47.3           13.8              216.0   \n",
       "336  Gentoo     Biscoe            44.5           15.7              217.0   \n",
       "\n",
       "     body_mass_g  sex  \n",
       "8         3475.0  NaN  \n",
       "9         4250.0  NaN  \n",
       "10        3300.0  NaN  \n",
       "11        3700.0  NaN  \n",
       "47        2975.0  NaN  \n",
       "246       4100.0  NaN  \n",
       "286       4650.0  NaN  \n",
       "324       4725.0  NaN  \n",
       "336       4875.0  NaN  "
      ]
     },
     "execution_count": 23,
     "metadata": {},
     "output_type": "execute_result"
    }
   ],
   "source": [
    "df_dropped[df_dropped.sex.isnull()]"
   ]
  },
  {
   "cell_type": "code",
   "execution_count": 24,
   "id": "10868386",
   "metadata": {
    "slideshow": {
     "slide_type": "slide"
    }
   },
   "outputs": [],
   "source": [
    "muc = MultiComparison(df_dropped.body_mass_g, df_dropped.island)"
   ]
  },
  {
   "cell_type": "code",
   "execution_count": 25,
   "id": "aed73ff2",
   "metadata": {},
   "outputs": [],
   "source": [
    "res = muc.allpairtest(stats.ttest_ind, method='bonferroni')"
   ]
  },
  {
   "cell_type": "code",
   "execution_count": 26,
   "id": "8992142a",
   "metadata": {},
   "outputs": [
    {
     "data": {
      "text/html": [
       "<table class=\"simpletable\">\n",
       "<caption>Test Multiple Comparison ttest_ind \n",
       "FWER=0.05 method=bonferroni\n",
       "alphacSidak=0.02, alphacBonf=0.017</caption>\n",
       "<tr>\n",
       "  <th>group1</th>  <th>group2</th>    <th>stat</th>    <th>pval</th>  <th>pval_corr</th> <th>reject</th>\n",
       "</tr>\n",
       "<tr>\n",
       "  <td>Biscoe</td>   <td>Dream</td>   <td>12.9663</td>   <td>0.0</td>     <td>0.0</td>     <td>True</td> \n",
       "</tr>\n",
       "<tr>\n",
       "  <td>Biscoe</td> <td>Torgersen</td> <td>8.7781</td>    <td>0.0</td>     <td>0.0</td>     <td>True</td> \n",
       "</tr>\n",
       "<tr>\n",
       "   <td>Dream</td> <td>Torgersen</td> <td>0.0924</td>  <td>0.9265</td>    <td>1.0</td>     <td>False</td>\n",
       "</tr>\n",
       "</table>"
      ],
      "text/latex": [
       "\\begin{center}\n",
       "\\begin{tabular}{cccccc}\n",
       "\\toprule\n",
       "\\textbf{group1} & \\textbf{group2} & \\textbf{stat} & \\textbf{pval} & \\textbf{pval\\_corr} & \\textbf{reject}  \\\\\n",
       "\\midrule\n",
       "     Biscoe     &      Dream      &    12.9663    &      0.0      &         0.0         &       True       \\\\\n",
       "     Biscoe     &    Torgersen    &     8.7781    &      0.0      &         0.0         &       True       \\\\\n",
       "     Dream      &    Torgersen    &     0.0924    &     0.9265    &         1.0         &      False       \\\\\n",
       "\\bottomrule\n",
       "\\end{tabular}\n",
       "%\\caption{Test Multiple Comparison ttest_ind \n",
       "FWER=0.05 method=bonferroni\n",
       "alphacSidak=0.02, alphacBonf=0.017}\n",
       "\\end{center}"
      ],
      "text/plain": [
       "<class 'statsmodels.iolib.table.SimpleTable'>"
      ]
     },
     "execution_count": 26,
     "metadata": {},
     "output_type": "execute_result"
    }
   ],
   "source": [
    "res[0]"
   ]
  },
  {
   "cell_type": "markdown",
   "id": "51059cc2",
   "metadata": {
    "slideshow": {
     "slide_type": "fragment"
    }
   },
   "source": [
    "* Wir haben einen *Störfaktor* (engl. *confounding variable*)\n",
    "* Das ist eine unbeachtete Größe, die die Zielvariable beeinflusst "
   ]
  },
  {
   "cell_type": "markdown",
   "id": "a53871fd",
   "metadata": {
    "slideshow": {
     "slide_type": "fragment"
    }
   },
   "source": [
    "* Das Gewicht hängt von der Art ab\n",
    "* Nicht auf allen Inseln sind alle Arten im selben Umfang vertreten"
   ]
  },
  {
   "cell_type": "code",
   "execution_count": 27,
   "id": "b48954bd",
   "metadata": {
    "slideshow": {
     "slide_type": "slide"
    }
   },
   "outputs": [
    {
     "data": {
      "image/png": "[encoded data removed]",
      "text/plain": [
       "<Figure size 1620.38x500 with 3 Axes>"
      ]
     },
     "metadata": {},
     "output_type": "display_data"
    }
   ],
   "source": [
    "sns.displot(df, x=\"body_mass_g\", col=\"island\", hue=\"species\", multiple='stack');"
   ]
  },
  {
   "cell_type": "code",
   "execution_count": 28,
   "id": "a734c211",
   "metadata": {
    "slideshow": {
     "slide_type": "slide"
    }
   },
   "outputs": [
    {
     "data": {
      "text/html": [
       "<table class=\"simpletable\">\n",
       "<caption>Test Multiple Comparison ttest_ind \n",
       "FWER=0.05 method=bonferroni\n",
       "alphacSidak=0.02, alphacBonf=0.017</caption>\n",
       "<tr>\n",
       "   <th>group1</th>    <th>group2</th>     <th>stat</th>    <th>pval</th>  <th>pval_corr</th> <th>reject</th>\n",
       "</tr>\n",
       "<tr>\n",
       "   <td>Adelie</td>   <td>Chinstrap</td>  <td>-0.5081</td> <td>0.6119</td>    <td>1.0</td>     <td>False</td>\n",
       "</tr>\n",
       "<tr>\n",
       "   <td>Adelie</td>    <td>Gentoo</td>   <td>-23.6136</td>   <td>0.0</td>     <td>0.0</td>     <td>True</td> \n",
       "</tr>\n",
       "<tr>\n",
       "  <td>Chinstrap</td>  <td>Gentoo</td>   <td>-19.1032</td>   <td>0.0</td>     <td>0.0</td>     <td>True</td> \n",
       "</tr>\n",
       "</table>"
      ],
      "text/latex": [
       "\\begin{center}\n",
       "\\begin{tabular}{cccccc}\n",
       "\\toprule\n",
       "\\textbf{group1} & \\textbf{group2} & \\textbf{stat} & \\textbf{pval} & \\textbf{pval\\_corr} & \\textbf{reject}  \\\\\n",
       "\\midrule\n",
       "     Adelie     &    Chinstrap    &    -0.5081    &     0.6119    &         1.0         &      False       \\\\\n",
       "     Adelie     &      Gentoo     &    -23.6136   &      0.0      &         0.0         &       True       \\\\\n",
       "   Chinstrap    &      Gentoo     &    -19.1032   &      0.0      &         0.0         &       True       \\\\\n",
       "\\bottomrule\n",
       "\\end{tabular}\n",
       "%\\caption{Test Multiple Comparison ttest_ind \n",
       "FWER=0.05 method=bonferroni\n",
       "alphacSidak=0.02, alphacBonf=0.017}\n",
       "\\end{center}"
      ],
      "text/plain": [
       "<class 'statsmodels.iolib.table.SimpleTable'>"
      ]
     },
     "execution_count": 28,
     "metadata": {},
     "output_type": "execute_result"
    }
   ],
   "source": [
    "muc = MultiComparison(df_dropped.body_mass_g, df_dropped.species)\n",
    "res = muc.allpairtest(stats.ttest_ind, method='bonferroni')\n",
    "res[0]"
   ]
  },
  {
   "cell_type": "markdown",
   "id": "e6b05bc5",
   "metadata": {
    "slideshow": {
     "slide_type": "fragment"
    }
   },
   "source": [
    "* Adelie- und Zügelpinguine wiegen gleich viel\n",
    "* Eselspinguine unterscheiden sich im Gewicht\n",
    "* Eselspinguine gibt es nur auf Biscoe"
   ]
  }
 ],
 "metadata": {
  "celltoolbar": "Slideshow",
  "kernelspec": {
   "display_name": "Python 3 (ipykernel)",
   "language": "python",
   "name": "python3"
  },
  "language_info": {
   "codemirror_mode": {
    "name": "ipython",
    "version": 3
   },
   "file_extension": ".py",
   "mimetype": "text/x-python",
   "name": "python",
   "nbconvert_exporter": "python",
   "pygments_lexer": "ipython3",
   "version": "3.11.10"
  }
 },
 "nbformat": 4,
 "nbformat_minor": 5
}
