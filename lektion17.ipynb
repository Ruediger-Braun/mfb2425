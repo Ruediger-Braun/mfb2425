{
 "cells": [
  {
   "cell_type": "markdown",
   "id": "67cd263b",
   "metadata": {
    "slideshow": {
     "slide_type": "slide"
    }
   },
   "source": [
    "# Mathematik für Biologiestudierende II\n",
    "\n",
    "Sommersemester 2025\n",
    "\n",
    "22.04.2025\n",
    "\n",
    "&copy; 2025 Prof. Dr. Rüdiger W. Braun "
   ]
  },
  {
   "cell_type": "code",
   "execution_count": null,
   "id": "6d700937",
   "metadata": {
    "slideshow": {
     "slide_type": "slide"
    }
   },
   "outputs": [],
   "source": [
    "import numpy as np\n",
    "np.set_printoptions(legacy='1.21')\n",
    "import pandas as pd\n",
    "from scipy import stats\n",
    "import seaborn as sns\n",
    "sns.set_theme()"
   ]
  },
  {
   "cell_type": "markdown",
   "id": "4f7a0499",
   "metadata": {
    "slideshow": {
     "slide_type": "slide"
    }
   },
   "source": [
    "# Post-hoc Analyse"
   ]
  },
  {
   "cell_type": "markdown",
   "id": "4a456feb",
   "metadata": {
    "slideshow": {
     "slide_type": "fragment"
    }
   },
   "source": [
    "* Wenn die ANOVA einen signifikanten Unterschied zwischen den Gruppen gezeigt hat, dann versucht man mit der post-hoc Analyse herauszubekommen, zwischen welchen einzelnen Gruppen signifikante Unterschiede bestehen\n",
    "* Die post-hoc Analyse muss für multiple Vergleiche korrigiert werden"
   ]
  },
  {
   "cell_type": "markdown",
   "id": "6496a7f3",
   "metadata": {
    "slideshow": {
     "slide_type": "slide"
    }
   },
   "source": [
    "### Beispiel Zitronen"
   ]
  },
  {
   "cell_type": "code",
   "execution_count": null,
   "id": "dd05842b",
   "metadata": {},
   "outputs": [],
   "source": [
    "df = pd.read_csv(\"http://reh.math.uni-duesseldorf.de/~braun/bio2425/zitronen.csv\")"
   ]
  },
  {
   "cell_type": "code",
   "execution_count": null,
   "id": "a69345e9",
   "metadata": {},
   "outputs": [],
   "source": [
    "df.head()"
   ]
  },
  {
   "cell_type": "markdown",
   "id": "983878a0",
   "metadata": {},
   "source": [
    "Die Tabelle (mit erfundenen Daten) zeigt den Vitamin C Gehalt in [mg] pro [kg] von Zitronen aus verschiedenen Ländern"
   ]
  },
  {
   "cell_type": "code",
   "execution_count": null,
   "id": "c692ffe8",
   "metadata": {},
   "outputs": [],
   "source": [
    "df.Land.value_counts()"
   ]
  },
  {
   "cell_type": "code",
   "execution_count": null,
   "id": "a884ab6b",
   "metadata": {
    "slideshow": {
     "slide_type": "slide"
    }
   },
   "outputs": [],
   "source": [
    "sns.displot(df, x='Vitamin_C_Gehalt', hue='Land', multiple='stack');"
   ]
  },
  {
   "cell_type": "code",
   "execution_count": null,
   "id": "af461452",
   "metadata": {
    "slideshow": {
     "slide_type": "slide"
    }
   },
   "outputs": [],
   "source": [
    "spanien = df[df.Land=='Spanien'].Vitamin_C_Gehalt\n",
    "italien = df[df.Land=='Italien'].Vitamin_C_Gehalt\n",
    "griechenland = df[df.Land=='Griechenland'].Vitamin_C_Gehalt\n",
    "marokko = df[df.Land=='Marokko'].Vitamin_C_Gehalt\n",
    "indien = df[df.Land=='Indien'].Vitamin_C_Gehalt"
   ]
  },
  {
   "cell_type": "code",
   "execution_count": null,
   "id": "35c05601",
   "metadata": {},
   "outputs": [],
   "source": [
    "stats.f_oneway(spanien, italien, griechenland, marokko, indien)"
   ]
  },
  {
   "cell_type": "markdown",
   "id": "d30f1e76",
   "metadata": {
    "slideshow": {
     "slide_type": "fragment"
    }
   },
   "source": [
    "Die Unterschiede zwischen den Vitamin C Gehalten sind signifikant"
   ]
  },
  {
   "cell_type": "markdown",
   "id": "0d64a4d9",
   "metadata": {
    "slideshow": {
     "slide_type": "slide"
    }
   },
   "source": [
    "## Paarvergleiche"
   ]
  },
  {
   "cell_type": "markdown",
   "id": "d8e045e2",
   "metadata": {},
   "source": [
    "* Wir könnten zwischen je zwei Gruppen die Paarvergleiche zu Fuß ausrechnen und Bonferroni-korrigieren\n",
    "* Dieser Prozess ist aber implementiert"
   ]
  },
  {
   "cell_type": "code",
   "execution_count": null,
   "id": "12c4c5f7",
   "metadata": {},
   "outputs": [],
   "source": [
    "from statsmodels.sandbox.stats.multicomp import MultiComparison"
   ]
  },
  {
   "cell_type": "markdown",
   "id": "564ac6f1",
   "metadata": {
    "slideshow": {
     "slide_type": "fragment"
    }
   },
   "source": [
    "Achtung:  Hier wird irgendwann der Bestandteil `sandbox` überflüssig"
   ]
  },
  {
   "cell_type": "code",
   "execution_count": null,
   "id": "eb550fbc",
   "metadata": {
    "slideshow": {
     "slide_type": "slide"
    }
   },
   "outputs": [],
   "source": [
    "muc = MultiComparison(df.Vitamin_C_Gehalt, df.Land)"
   ]
  },
  {
   "cell_type": "markdown",
   "id": "c940054f",
   "metadata": {},
   "source": [
    "`muc = MultiComparison(daten_liste, gruppen_liste)`\n",
    "\n",
    "* das erste Element von `daten_liste` gehört zur ersten Gruppe in Gruppenliste\n",
    "* das zweite Element von `daten_liste` gehört zur zweiten Gruppe in Gruppenliste\n",
    "* usw."
   ]
  },
  {
   "cell_type": "markdown",
   "id": "a5c05b26",
   "metadata": {
    "slideshow": {
     "slide_type": "slide"
    }
   },
   "source": [
    "`muc.allpairtest(test, alpha, method)`\n",
    "\n",
    "* Paarvergleiche zwischen allen Paaren von Gruppen aus der Gruppenliste, mit der `muc` angelegt wurde\n",
    "* `test` ist der einzusetzende Test\n",
    "* `alpha` das Signifikanzniveau (Standardwert ist 0.05)\n",
    "* `method` die Korrekturmethode für das multiple Testen, für uns relevant:\n",
    "  * `bonferroni`: Bonferroni\n",
    "  * `holm`: Bonferroni-Holm"
   ]
  },
  {
   "cell_type": "code",
   "execution_count": null,
   "id": "26f019eb",
   "metadata": {
    "slideshow": {
     "slide_type": "slide"
    }
   },
   "outputs": [],
   "source": [
    "res = muc.allpairtest(stats.ttest_ind, method='bonferroni')\n",
    "res[0]"
   ]
  },
  {
   "cell_type": "markdown",
   "id": "459021a6",
   "metadata": {
    "slideshow": {
     "slide_type": "fragment"
    }
   },
   "source": [
    "Nur vier der Paarvergleiche sind signifikant, wenn Bonferroni korrigiert wird"
   ]
  },
  {
   "cell_type": "markdown",
   "id": "7d3338b1",
   "metadata": {
    "slideshow": {
     "slide_type": "slide"
    }
   },
   "source": [
    "Dasselbe mit Bonferroni-Holm"
   ]
  },
  {
   "cell_type": "code",
   "execution_count": null,
   "id": "16755f9c",
   "metadata": {},
   "outputs": [],
   "source": [
    "res = muc.allpairtest(stats.ttest_ind, method='holm')\n",
    "res[0]"
   ]
  },
  {
   "cell_type": "markdown",
   "id": "964fead5",
   "metadata": {
    "slideshow": {
     "slide_type": "fragment"
    }
   },
   "source": [
    "* Wenn Bonferroni-Holm korrigiert wird, dann sind sechs der Paarvergleiche signifikant"
   ]
  },
  {
   "cell_type": "markdown",
   "id": "1cce7cba",
   "metadata": {},
   "source": [
    "* Es hängt von der Fächerkultur ab, ob Bonferroni-Holm akzeptiert wird"
   ]
  },
  {
   "cell_type": "markdown",
   "id": "9cab6974",
   "metadata": {
    "slideshow": {
     "slide_type": "slide"
    }
   },
   "source": [
    "## Bonferroni-Holm"
   ]
  },
  {
   "cell_type": "markdown",
   "id": "a7578b16",
   "metadata": {},
   "source": [
    "* n multiple Vergleiche werden durchgeführt\n",
    "* Die p-Werte werden der Größe nach geordnet\n",
    "* der kleinste p-Wert muss signifikant zu $\\frac\\alpha n$ sein\n",
    "* der zweitkleinste zu $\\frac\\alpha{n-1}$\n",
    "* drittkleinste zu $\\frac\\alpha{n-2}$\n",
    "* usw.\n",
    "* der größte zum Niveau $\\alpha$"
   ]
  },
  {
   "cell_type": "markdown",
   "id": "664ded03",
   "metadata": {
    "slideshow": {
     "slide_type": "slide"
    }
   },
   "source": [
    "Bei den Zitronen\n",
    "\n",
    "* der kleinste *p*-Wert ist der des Vergleichs zwischen Indien und Italien\n",
    "* er ist unkorrigiert gleich 2.311e-5 \n",
    "* es gibt 10 Paarvergleiche, also ist der Bonferroni-korrigierte Wert gleich 0.0002311\n",
    "* die Bonferroni-Holm Korrektur führt zum selben Wert\n"
   ]
  },
  {
   "cell_type": "markdown",
   "id": "e51f2067",
   "metadata": {
    "slideshow": {
     "slide_type": "fragment"
    }
   },
   "source": [
    "* der zweitkleinste *p*-Wert ist der des Vergleichs zwischen Griechenland und Indien\n",
    "* er ist unkorrigiert gleich 2.125e-4\n",
    "* also mit Bonferroni-Korrektur gleich 0.002125\n",
    "* nach Bonferroni-Holm ist der gleich 2.125e-4/9 = 1.913"
   ]
  },
  {
   "cell_type": "markdown",
   "id": "262ad131",
   "metadata": {
    "slideshow": {
     "slide_type": "slide"
    }
   },
   "source": [
    "## Ablesung genauerer Werte"
   ]
  },
  {
   "cell_type": "markdown",
   "id": "6ab94e18",
   "metadata": {},
   "source": [
    "* Woher weiss ich die genauen *p*-Werte?\n",
    "* `res = muc.allpairtest(stats.ttest_ind, method='bonferroni')` ist ein Paar mit zwei Einträgen\n",
    "* `res[0]` ist die leserfreundlich formatierte Tabelle\n",
    "* die genauen Werte stehen in `res[1]`"
   ]
  },
  {
   "cell_type": "code",
   "execution_count": null,
   "id": "8f8ecc77",
   "metadata": {
    "slideshow": {
     "slide_type": "slide"
    }
   },
   "outputs": [],
   "source": [
    "res[1] "
   ]
  },
  {
   "cell_type": "markdown",
   "id": "3ca8538a",
   "metadata": {
    "slideshow": {
     "slide_type": "fragment"
    }
   },
   "source": [
    "* Der erste Array ist zweidimensional und enthält die genauen Werte der Statistik und die unkorrigierten *p*-Werte"
   ]
  },
  {
   "cell_type": "markdown",
   "id": "8af02e4a",
   "metadata": {
    "slideshow": {
     "slide_type": "fragment"
    }
   },
   "source": [
    "* wichtig ist der dritte Array, der die korrigierten *p*-Werte in der Reihenfolge enthält in der die Paarvergleiche in der Tabelle aufgeführt sind"
   ]
  },
  {
   "cell_type": "code",
   "execution_count": null,
   "id": "1399ad0d",
   "metadata": {},
   "outputs": [],
   "source": [
    "p_werte_korrigiert = res[1][2]\n",
    "p_werte_korrigiert"
   ]
  },
  {
   "cell_type": "code",
   "execution_count": null,
   "id": "6098e786",
   "metadata": {
    "slideshow": {
     "slide_type": "slide"
    }
   },
   "outputs": [],
   "source": [
    "stats.f_oneway(spanien, italien, griechenland, marokko, indien).pvalue"
   ]
  },
  {
   "cell_type": "markdown",
   "id": "a5380bf6",
   "metadata": {},
   "source": [
    "Der *p*-Wert der ANOVA ist kleiner als 5.0E-6.  Daher ist zu diesem Signifikanzniveau nachgewiesen, dass Zitronen aus verschiedenen Ländern unterschiedliche Vitamin C Gehalte haben.  Wir rechnen die post-hoc Analyse für dieses Signifikanzniveau"
   ]
  },
  {
   "cell_type": "code",
   "execution_count": null,
   "id": "34512ffe",
   "metadata": {
    "slideshow": {
     "slide_type": "slide"
    }
   },
   "outputs": [],
   "source": [
    "res = muc.allpairtest(stats.ttest_ind, alpha=5.0E-6, method='bonferroni')"
   ]
  },
  {
   "cell_type": "code",
   "execution_count": null,
   "id": "7d37c16e",
   "metadata": {},
   "outputs": [],
   "source": [
    "res[0]"
   ]
  },
  {
   "cell_type": "markdown",
   "id": "caf6c722",
   "metadata": {
    "slideshow": {
     "slide_type": "fragment"
    }
   },
   "source": [
    "Keiner der Paarvergleiche ist signifikant."
   ]
  },
  {
   "cell_type": "markdown",
   "id": "7ea43b45",
   "metadata": {
    "slideshow": {
     "slide_type": "slide"
    }
   },
   "source": [
    "# Behandlung von NaN"
   ]
  },
  {
   "cell_type": "code",
   "execution_count": null,
   "id": "0275ccd2",
   "metadata": {
    "slideshow": {
     "slide_type": "slide"
    }
   },
   "outputs": [],
   "source": [
    "df = sns.load_dataset('penguins')\n",
    "df.head()"
   ]
  },
  {
   "cell_type": "code",
   "execution_count": null,
   "id": "c30a6762",
   "metadata": {
    "slideshow": {
     "slide_type": "slide"
    }
   },
   "outputs": [],
   "source": [
    "df.island.value_counts()"
   ]
  },
  {
   "cell_type": "code",
   "execution_count": null,
   "id": "cf82f1b6",
   "metadata": {},
   "outputs": [],
   "source": [
    "g1 = df[df.island=='Biscoe'].body_mass_g.dropna()\n",
    "g2 = df[df.island=='Dream'].body_mass_g.dropna()\n",
    "g3 = df[df.island=='Torgersen'].body_mass_g.dropna()"
   ]
  },
  {
   "cell_type": "code",
   "execution_count": null,
   "id": "039df17b",
   "metadata": {},
   "outputs": [],
   "source": [
    "stats.f_oneway(g1, g2, g3)"
   ]
  },
  {
   "cell_type": "markdown",
   "id": "98571600",
   "metadata": {
    "slideshow": {
     "slide_type": "slide"
    }
   },
   "source": [
    "* `allpairtest` benötigt alle Daten in derselben Tabelle"
   ]
  },
  {
   "cell_type": "markdown",
   "id": "48d59aa2",
   "metadata": {
    "slideshow": {
     "slide_type": "fragment"
    }
   },
   "source": [
    "* Wir müssen also in der Ausgangstabelle alle Zeilen löschen, in denen das Gewicht fehlt"
   ]
  },
  {
   "cell_type": "code",
   "execution_count": null,
   "id": "0afe6a07",
   "metadata": {},
   "outputs": [],
   "source": [
    "df_dropped = df[df.body_mass_g.notnull()]\n",
    "df_dropped"
   ]
  },
  {
   "cell_type": "markdown",
   "id": "95164525",
   "metadata": {
    "slideshow": {
     "slide_type": "slide"
    }
   },
   "source": [
    "* man möchte testen `df.body_mass_g==np.nan`\n",
    "* das geht aber nicht, weil `nan` besondere Rechenregeln hat\n",
    "* stattdessen prüft die Methode `notnull()` darauf, ob ein Element ungleich `NaN` ist\n",
    "* das Gegenteil von `notnull` ist `isnull`"
   ]
  },
  {
   "cell_type": "markdown",
   "id": "b8b4edc6",
   "metadata": {},
   "source": [
    "Im Gegensatz dazu entfernt die folgende Operation alle Zeilen, in denen mindestens ein Wert fehlt"
   ]
  },
  {
   "cell_type": "code",
   "execution_count": null,
   "id": "51969651",
   "metadata": {
    "slideshow": {
     "slide_type": "slide"
    }
   },
   "outputs": [],
   "source": [
    "df2 = df.dropna()\n",
    "df2"
   ]
  },
  {
   "cell_type": "markdown",
   "id": "751d64f5",
   "metadata": {
    "slideshow": {
     "slide_type": "slide"
    }
   },
   "source": [
    "* Das sind 9 Zeilen weniger\n",
    "* Es gibt also 9 Pinguine, von denen das Gewicht bestimmt werden konnte, mindestens ein anderer Wert aber nicht"
   ]
  },
  {
   "cell_type": "code",
   "execution_count": null,
   "id": "a628f507",
   "metadata": {},
   "outputs": [],
   "source": [
    "df[df.body_mass_g.notnull() & df.sex.isnull()]"
   ]
  },
  {
   "cell_type": "code",
   "execution_count": null,
   "id": "10868386",
   "metadata": {
    "slideshow": {
     "slide_type": "slide"
    }
   },
   "outputs": [],
   "source": [
    "muc = MultiComparison(df_dropped.body_mass_g, df_dropped.island)"
   ]
  },
  {
   "cell_type": "code",
   "execution_count": null,
   "id": "aed73ff2",
   "metadata": {},
   "outputs": [],
   "source": [
    "res = muc.allpairtest(stats.ttest_ind, method='bonferroni')"
   ]
  },
  {
   "cell_type": "code",
   "execution_count": null,
   "id": "8992142a",
   "metadata": {},
   "outputs": [],
   "source": [
    "res[0]"
   ]
  },
  {
   "cell_type": "markdown",
   "id": "51059cc2",
   "metadata": {
    "slideshow": {
     "slide_type": "fragment"
    }
   },
   "source": [
    "* Wir haben einen *Störfaktor* (engl. *confounding variable*)\n",
    "* Das ist eine unbeachtete Größe, die die Zielvariable beeinflusst "
   ]
  },
  {
   "cell_type": "markdown",
   "id": "a53871fd",
   "metadata": {
    "slideshow": {
     "slide_type": "fragment"
    }
   },
   "source": [
    "* Das Gewicht hängt von der Art ab\n",
    "* Nicht auf allen Inseln sind alle Arten im selben Umfang vertreten"
   ]
  },
  {
   "cell_type": "code",
   "execution_count": null,
   "id": "b48954bd",
   "metadata": {
    "slideshow": {
     "slide_type": "slide"
    }
   },
   "outputs": [],
   "source": [
    "sns.displot(df, x=\"body_mass_g\", col=\"island\", hue=\"species\", multiple='stack');"
   ]
  },
  {
   "cell_type": "code",
   "execution_count": null,
   "id": "a734c211",
   "metadata": {
    "slideshow": {
     "slide_type": "slide"
    }
   },
   "outputs": [],
   "source": [
    "muc = MultiComparison(df_dropped.body_mass_g, df_dropped.species)\n",
    "res = muc.allpairtest(stats.ttest_ind, method='bonferroni')\n",
    "res[0]"
   ]
  },
  {
   "cell_type": "markdown",
   "id": "e6b05bc5",
   "metadata": {
    "slideshow": {
     "slide_type": "fragment"
    }
   },
   "source": [
    "* Adelie- und Zügelpinguine wiegen gleich viel\n",
    "* Eselspinguine unterscheiden sich im Gewicht\n",
    "* Eselspinguine gibt es nur auf Biscoe"
   ]
  }
 ],
 "metadata": {
  "celltoolbar": "Slideshow",
  "kernelspec": {
   "display_name": "Python 3 (ipykernel)",
   "language": "python",
   "name": "python3"
  },
  "language_info": {
   "codemirror_mode": {
    "name": "ipython",
    "version": 3
   },
   "file_extension": ".py",
   "mimetype": "text/x-python",
   "name": "python",
   "nbconvert_exporter": "python",
   "pygments_lexer": "ipython3",
   "version": "3.11.10"
  }
 },
 "nbformat": 4,
 "nbformat_minor": 5
}
