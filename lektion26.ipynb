{
 "cells": [
  {
   "cell_type": "markdown",
   "id": "14e2c18d",
   "metadata": {
    "slideshow": {
     "slide_type": "slide"
    }
   },
   "source": [
    "# Mathematik für Biologiestudierende II\n",
    "\n",
    "Sommersemester 2025\n",
    "\n",
    "24.06.2025\n",
    "\n",
    "&copy; 2025 Prof. Dr. Rüdiger W. Braun "
   ]
  },
  {
   "cell_type": "markdown",
   "id": "899ed73e",
   "metadata": {
    "slideshow": {
     "slide_type": "slide"
    }
   },
   "source": [
    "# Themen\n",
    "\n",
    "* Multikollinearität\n",
    "* Konditionszahl\n",
    "* Lineare Modelle mit kategoriellen Daten"
   ]
  },
  {
   "cell_type": "code",
   "execution_count": 1,
   "id": "8b9b1d6a",
   "metadata": {
    "slideshow": {
     "slide_type": "slide"
    }
   },
   "outputs": [],
   "source": [
    "import numpy as np\n",
    "np.set_printoptions(legacy='1.21')\n",
    "import pandas as pd\n",
    "from scipy import stats\n",
    "import seaborn as sns\n",
    "sns.set_theme()\n",
    "import statsmodels.formula.api as smf"
   ]
  },
  {
   "cell_type": "markdown",
   "id": "bb035858",
   "metadata": {
    "slideshow": {
     "slide_type": "slide"
    }
   },
   "source": [
    "# Multikollinearität"
   ]
  },
  {
   "cell_type": "markdown",
   "id": "1c7cc59c",
   "metadata": {
    "slideshow": {
     "slide_type": "slide"
    }
   },
   "source": [
    "* eine Menge von Größen ist *kollinear*, wenn sich eine von ihnen linear aus den anderen bestimmen lässt\n",
    "* \"linear\" heißt durch Addition und Multiplikation mit Skalaren "
   ]
  },
  {
   "cell_type": "markdown",
   "id": "58168d95",
   "metadata": {
    "slideshow": {
     "slide_type": "fragment"
    }
   },
   "source": [
    "In Lektion 25 gesehen:\n",
    "\n",
    "> midparentHeight = (father + 1.08 * mother)/2"
   ]
  },
  {
   "cell_type": "markdown",
   "id": "f79b8807",
   "metadata": {
    "slideshow": {
     "slide_type": "fragment"
    }
   },
   "source": [
    "* also sind `father`, `mother` und `childHeight` kollinear\n",
    "* Multikollinearität im statistischen Sinne liegt bereits dann vor, wenn eine Gleichung wie die obige fast zutrifft"
   ]
  },
  {
   "cell_type": "markdown",
   "id": "37b999ed",
   "metadata": {
    "slideshow": {
     "slide_type": "fragment"
    }
   },
   "source": [
    "* eine Maßzahl für Multikollinearität ist die Konditionszahl"
   ]
  },
  {
   "cell_type": "markdown",
   "id": "b19c062c",
   "metadata": {
    "slideshow": {
     "slide_type": "slide"
    }
   },
   "source": [
    "# Konditionszahl"
   ]
  },
  {
   "cell_type": "code",
   "execution_count": 2,
   "id": "4e90b49a",
   "metadata": {
    "slideshow": {
     "slide_type": "slide"
    }
   },
   "outputs": [],
   "source": [
    "df = pd.read_csv('galton.csv')"
   ]
  },
  {
   "cell_type": "code",
   "execution_count": 3,
   "id": "8da5e20e",
   "metadata": {
    "slideshow": {
     "slide_type": "-"
    }
   },
   "outputs": [],
   "source": [
    "formel = \"childHeight ~ father + mother\"\n",
    "model = smf.ols(formel, df)"
   ]
  },
  {
   "cell_type": "code",
   "execution_count": 4,
   "id": "a0c6e2e1",
   "metadata": {},
   "outputs": [],
   "source": [
    "res = model.fit()"
   ]
  },
  {
   "cell_type": "code",
   "execution_count": 5,
   "id": "c46aba21",
   "metadata": {
    "scrolled": false,
    "slideshow": {
     "slide_type": "slide"
    }
   },
   "outputs": [
    {
     "data": {
      "text/html": [
       "<table class=\"simpletable\">\n",
       "<caption>OLS Regression Results</caption>\n",
       "<tr>\n",
       "  <th>Dep. Variable:</th>       <td>childHeight</td>   <th>  R-squared:         </th> <td>   0.238</td>\n",
       "</tr>\n",
       "<tr>\n",
       "  <th>Model:</th>                   <td>OLS</td>       <th>  Adj. R-squared:    </th> <td>   0.235</td>\n",
       "</tr>\n",
       "<tr>\n",
       "  <th>Method:</th>             <td>Least Squares</td>  <th>  F-statistic:       </th> <td>   74.62</td>\n",
       "</tr>\n",
       "<tr>\n",
       "  <th>Date:</th>             <td>Tue, 24 Jun 2025</td> <th>  Prob (F-statistic):</th> <td>6.25e-29</td>\n",
       "</tr>\n",
       "<tr>\n",
       "  <th>Time:</th>                 <td>12:34:11</td>     <th>  Log-Likelihood:    </th> <td> -1080.7</td>\n",
       "</tr>\n",
       "<tr>\n",
       "  <th>No. Observations:</th>      <td>   481</td>      <th>  AIC:               </th> <td>   2167.</td>\n",
       "</tr>\n",
       "<tr>\n",
       "  <th>Df Residuals:</th>          <td>   478</td>      <th>  BIC:               </th> <td>   2180.</td>\n",
       "</tr>\n",
       "<tr>\n",
       "  <th>Df Model:</th>              <td>     2</td>      <th>                     </th>     <td> </td>   \n",
       "</tr>\n",
       "<tr>\n",
       "  <th>Covariance Type:</th>      <td>nonrobust</td>    <th>                     </th>     <td> </td>   \n",
       "</tr>\n",
       "</table>\n",
       "<table class=\"simpletable\">\n",
       "<tr>\n",
       "      <td></td>         <th>coef</th>     <th>std err</th>      <th>t</th>      <th>P>|t|</th>  <th>[0.025</th>    <th>0.975]</th>  \n",
       "</tr>\n",
       "<tr>\n",
       "  <th>Intercept</th> <td>   19.3128</td> <td>    4.095</td> <td>    4.716</td> <td> 0.000</td> <td>   11.266</td> <td>   27.359</td>\n",
       "</tr>\n",
       "<tr>\n",
       "  <th>father</th>    <td>    0.4176</td> <td>    0.046</td> <td>    9.154</td> <td> 0.000</td> <td>    0.328</td> <td>    0.507</td>\n",
       "</tr>\n",
       "<tr>\n",
       "  <th>mother</th>    <td>    0.3288</td> <td>    0.045</td> <td>    7.258</td> <td> 0.000</td> <td>    0.240</td> <td>    0.418</td>\n",
       "</tr>\n",
       "</table>\n",
       "<table class=\"simpletable\">\n",
       "<tr>\n",
       "  <th>Omnibus:</th>       <td>10.653</td> <th>  Durbin-Watson:     </th> <td>   1.592</td>\n",
       "</tr>\n",
       "<tr>\n",
       "  <th>Prob(Omnibus):</th> <td> 0.005</td> <th>  Jarque-Bera (JB):  </th> <td>  14.542</td>\n",
       "</tr>\n",
       "<tr>\n",
       "  <th>Skew:</th>          <td>-0.200</td> <th>  Prob(JB):          </th> <td>0.000695</td>\n",
       "</tr>\n",
       "<tr>\n",
       "  <th>Kurtosis:</th>      <td> 3.752</td> <th>  Cond. No.          </th> <td>3.69e+03</td>\n",
       "</tr>\n",
       "</table><br/><br/>Notes:<br/>[1] Standard Errors assume that the covariance matrix of the errors is correctly specified.<br/>[2] The condition number is large, 3.69e+03. This might indicate that there are<br/>strong multicollinearity or other numerical problems."
      ],
      "text/latex": [
       "\\begin{center}\n",
       "\\begin{tabular}{lclc}\n",
       "\\toprule\n",
       "\\textbf{Dep. Variable:}    &   childHeight    & \\textbf{  R-squared:         } &     0.238   \\\\\n",
       "\\textbf{Model:}            &       OLS        & \\textbf{  Adj. R-squared:    } &     0.235   \\\\\n",
       "\\textbf{Method:}           &  Least Squares   & \\textbf{  F-statistic:       } &     74.62   \\\\\n",
       "\\textbf{Date:}             & Tue, 24 Jun 2025 & \\textbf{  Prob (F-statistic):} &  6.25e-29   \\\\\n",
       "\\textbf{Time:}             &     12:34:11     & \\textbf{  Log-Likelihood:    } &   -1080.7   \\\\\n",
       "\\textbf{No. Observations:} &         481      & \\textbf{  AIC:               } &     2167.   \\\\\n",
       "\\textbf{Df Residuals:}     &         478      & \\textbf{  BIC:               } &     2180.   \\\\\n",
       "\\textbf{Df Model:}         &           2      & \\textbf{                     } &             \\\\\n",
       "\\textbf{Covariance Type:}  &    nonrobust     & \\textbf{                     } &             \\\\\n",
       "\\bottomrule\n",
       "\\end{tabular}\n",
       "\\begin{tabular}{lcccccc}\n",
       "                   & \\textbf{coef} & \\textbf{std err} & \\textbf{t} & \\textbf{P$> |$t$|$} & \\textbf{[0.025} & \\textbf{0.975]}  \\\\\n",
       "\\midrule\n",
       "\\textbf{Intercept} &      19.3128  &        4.095     &     4.716  &         0.000        &       11.266    &       27.359     \\\\\n",
       "\\textbf{father}    &       0.4176  &        0.046     &     9.154  &         0.000        &        0.328    &        0.507     \\\\\n",
       "\\textbf{mother}    &       0.3288  &        0.045     &     7.258  &         0.000        &        0.240    &        0.418     \\\\\n",
       "\\bottomrule\n",
       "\\end{tabular}\n",
       "\\begin{tabular}{lclc}\n",
       "\\textbf{Omnibus:}       & 10.653 & \\textbf{  Durbin-Watson:     } &    1.592  \\\\\n",
       "\\textbf{Prob(Omnibus):} &  0.005 & \\textbf{  Jarque-Bera (JB):  } &   14.542  \\\\\n",
       "\\textbf{Skew:}          & -0.200 & \\textbf{  Prob(JB):          } & 0.000695  \\\\\n",
       "\\textbf{Kurtosis:}      &  3.752 & \\textbf{  Cond. No.          } & 3.69e+03  \\\\\n",
       "\\bottomrule\n",
       "\\end{tabular}\n",
       "%\\caption{OLS Regression Results}\n",
       "\\end{center}\n",
       "\n",
       "Notes: \\newline\n",
       " [1] Standard Errors assume that the covariance matrix of the errors is correctly specified. \\newline\n",
       " [2] The condition number is large, 3.69e+03. This might indicate that there are \\newline\n",
       " strong multicollinearity or other numerical problems."
      ],
      "text/plain": [
       "<class 'statsmodels.iolib.summary.Summary'>\n",
       "\"\"\"\n",
       "                            OLS Regression Results                            \n",
       "==============================================================================\n",
       "Dep. Variable:            childHeight   R-squared:                       0.238\n",
       "Model:                            OLS   Adj. R-squared:                  0.235\n",
       "Method:                 Least Squares   F-statistic:                     74.62\n",
       "Date:                Tue, 24 Jun 2025   Prob (F-statistic):           6.25e-29\n",
       "Time:                        12:34:11   Log-Likelihood:                -1080.7\n",
       "No. Observations:                 481   AIC:                             2167.\n",
       "Df Residuals:                     478   BIC:                             2180.\n",
       "Df Model:                           2                                         \n",
       "Covariance Type:            nonrobust                                         \n",
       "==============================================================================\n",
       "                 coef    std err          t      P>|t|      [0.025      0.975]\n",
       "------------------------------------------------------------------------------\n",
       "Intercept     19.3128      4.095      4.716      0.000      11.266      27.359\n",
       "father         0.4176      0.046      9.154      0.000       0.328       0.507\n",
       "mother         0.3288      0.045      7.258      0.000       0.240       0.418\n",
       "==============================================================================\n",
       "Omnibus:                       10.653   Durbin-Watson:                   1.592\n",
       "Prob(Omnibus):                  0.005   Jarque-Bera (JB):               14.542\n",
       "Skew:                          -0.200   Prob(JB):                     0.000695\n",
       "Kurtosis:                       3.752   Cond. No.                     3.69e+03\n",
       "==============================================================================\n",
       "\n",
       "Notes:\n",
       "[1] Standard Errors assume that the covariance matrix of the errors is correctly specified.\n",
       "[2] The condition number is large, 3.69e+03. This might indicate that there are\n",
       "strong multicollinearity or other numerical problems.\n",
       "\"\"\""
      ]
     },
     "execution_count": 5,
     "metadata": {},
     "output_type": "execute_result"
    }
   ],
   "source": [
    "res.summary()"
   ]
  },
  {
   "cell_type": "markdown",
   "id": "530b850a",
   "metadata": {
    "slideshow": {
     "slide_type": "slide"
    }
   },
   "source": [
    "* `condition number` bedeutet Konditionszahl"
   ]
  },
  {
   "cell_type": "markdown",
   "id": "e638c1ec",
   "metadata": {
    "slideshow": {
     "slide_type": "fragment"
    }
   },
   "source": [
    "* Um das Modell zu berechnen, muss ein lineares Gleichungssystem gelöst werden\n",
    "* Je größer die Konditionszahl, umso schwieriger ist die Berechnung der Lösung\n",
    "* Für den Nutzer bedeutet das, dass die ausgegebenen Werte mit Unsicherheiten behaftet sind\n",
    "* und im Extremfall sogar falsch"
   ]
  },
  {
   "cell_type": "markdown",
   "id": "496348dd",
   "metadata": {
    "slideshow": {
     "slide_type": "fragment"
    }
   },
   "source": [
    "* eine Konditionszahl von 4000 ist aber noch nicht besorgniserregend groß"
   ]
  },
  {
   "cell_type": "markdown",
   "id": "80228fa4",
   "metadata": {
    "slideshow": {
     "slide_type": "slide"
    }
   },
   "source": [
    "#### Ein nicht statistisches Beispiel mit schlechter Konditionszahl"
   ]
  },
  {
   "cell_type": "markdown",
   "id": "ee65b98b",
   "metadata": {},
   "source": [
    "Wir betrachten das Gleichungssystem\n",
    "$$\n",
    "    \\begin{aligned}\n",
    "        x + y &= 1 \\\\\n",
    "        x + 1.0000001 y &= 1.001\n",
    "    \\end{aligned}\n",
    "$$\n"
   ]
  },
  {
   "cell_type": "markdown",
   "id": "ee68b07f",
   "metadata": {
    "slideshow": {
     "slide_type": "fragment"
    }
   },
   "source": [
    "Die Lösung ist\n",
    "$$\n",
    "    x = -9999, y = 10000\n",
    "$$"
   ]
  },
  {
   "cell_type": "markdown",
   "id": "dd8130d3",
   "metadata": {
    "slideshow": {
     "slide_type": "fragment"
    }
   },
   "source": [
    "* Die Konditionszahl des Gleichungssystems kann mit `numpy` ausgerechnet werden\n",
    "* Sie beträgt 40000001.9"
   ]
  },
  {
   "cell_type": "markdown",
   "id": "06f9f417",
   "metadata": {
    "slideshow": {
     "slide_type": "fragment"
    }
   },
   "source": [
    "* Modelle mit schechter Konditionszahl müssen vermieden werden\n",
    "* Wenn das Gleichungssystem aus dem Beispiel aus der Biologie käme, dann wären die Zahlen Messwerte\n",
    "* also mit Unsicherheiten behaftet"
   ]
  },
  {
   "cell_type": "markdown",
   "id": "87f39fe1",
   "metadata": {
    "slideshow": {
     "slide_type": "fragment"
    }
   },
   "source": [
    "* In einem System mit schlechter Konditionszahl führen winzige Messungenauigkeiten bereits zu völlig unsinnigen Ergebnissen"
   ]
  },
  {
   "cell_type": "markdown",
   "id": "0ef6d578",
   "metadata": {
    "slideshow": {
     "slide_type": "slide"
    }
   },
   "source": [
    "#### Beispiel mit wirklich schlechter Kondition"
   ]
  },
  {
   "cell_type": "code",
   "execution_count": 6,
   "id": "10e0c2fb",
   "metadata": {},
   "outputs": [],
   "source": [
    "formel = \"childHeight ~ father + mother + midparentHeight\""
   ]
  },
  {
   "cell_type": "code",
   "execution_count": 7,
   "id": "989c7a62",
   "metadata": {},
   "outputs": [],
   "source": [
    "modell = smf.ols(formel, df)\n",
    "res = modell.fit()"
   ]
  },
  {
   "cell_type": "code",
   "execution_count": 8,
   "id": "5c723e41",
   "metadata": {
    "scrolled": false,
    "slideshow": {
     "slide_type": "slide"
    }
   },
   "outputs": [
    {
     "data": {
      "text/html": [
       "<table class=\"simpletable\">\n",
       "<caption>OLS Regression Results</caption>\n",
       "<tr>\n",
       "  <th>Dep. Variable:</th>       <td>childHeight</td>   <th>  R-squared:         </th> <td>   0.238</td>\n",
       "</tr>\n",
       "<tr>\n",
       "  <th>Model:</th>                   <td>OLS</td>       <th>  Adj. R-squared:    </th> <td>   0.235</td>\n",
       "</tr>\n",
       "<tr>\n",
       "  <th>Method:</th>             <td>Least Squares</td>  <th>  F-statistic:       </th> <td>   74.62</td>\n",
       "</tr>\n",
       "<tr>\n",
       "  <th>Date:</th>             <td>Tue, 24 Jun 2025</td> <th>  Prob (F-statistic):</th> <td>6.25e-29</td>\n",
       "</tr>\n",
       "<tr>\n",
       "  <th>Time:</th>                 <td>12:41:33</td>     <th>  Log-Likelihood:    </th> <td> -1080.7</td>\n",
       "</tr>\n",
       "<tr>\n",
       "  <th>No. Observations:</th>      <td>   481</td>      <th>  AIC:               </th> <td>   2167.</td>\n",
       "</tr>\n",
       "<tr>\n",
       "  <th>Df Residuals:</th>          <td>   478</td>      <th>  BIC:               </th> <td>   2180.</td>\n",
       "</tr>\n",
       "<tr>\n",
       "  <th>Df Model:</th>              <td>     2</td>      <th>                     </th>     <td> </td>   \n",
       "</tr>\n",
       "<tr>\n",
       "  <th>Covariance Type:</th>      <td>nonrobust</td>    <th>                     </th>     <td> </td>   \n",
       "</tr>\n",
       "</table>\n",
       "<table class=\"simpletable\">\n",
       "<tr>\n",
       "         <td></td>            <th>coef</th>     <th>std err</th>      <th>t</th>      <th>P>|t|</th>  <th>[0.025</th>    <th>0.975]</th>  \n",
       "</tr>\n",
       "<tr>\n",
       "  <th>Intercept</th>       <td>   19.3128</td> <td>    4.095</td> <td>    4.716</td> <td> 0.000</td> <td>   11.266</td> <td>   27.359</td>\n",
       "</tr>\n",
       "<tr>\n",
       "  <th>father</th>          <td>    0.2923</td> <td>    0.040</td> <td>    7.361</td> <td> 0.000</td> <td>    0.214</td> <td>    0.370</td>\n",
       "</tr>\n",
       "<tr>\n",
       "  <th>mother</th>          <td>    0.1935</td> <td>    0.038</td> <td>    5.055</td> <td> 0.000</td> <td>    0.118</td> <td>    0.269</td>\n",
       "</tr>\n",
       "<tr>\n",
       "  <th>midparentHeight</th> <td>    0.2506</td> <td>    0.021</td> <td>   12.091</td> <td> 0.000</td> <td>    0.210</td> <td>    0.291</td>\n",
       "</tr>\n",
       "</table>\n",
       "<table class=\"simpletable\">\n",
       "<tr>\n",
       "  <th>Omnibus:</th>       <td>10.653</td> <th>  Durbin-Watson:     </th> <td>   1.592</td>\n",
       "</tr>\n",
       "<tr>\n",
       "  <th>Prob(Omnibus):</th> <td> 0.005</td> <th>  Jarque-Bera (JB):  </th> <td>  14.542</td>\n",
       "</tr>\n",
       "<tr>\n",
       "  <th>Skew:</th>          <td>-0.200</td> <th>  Prob(JB):          </th> <td>0.000695</td>\n",
       "</tr>\n",
       "<tr>\n",
       "  <th>Kurtosis:</th>      <td> 3.752</td> <th>  Cond. No.          </th> <td>2.13e+16</td>\n",
       "</tr>\n",
       "</table><br/><br/>Notes:<br/>[1] Standard Errors assume that the covariance matrix of the errors is correctly specified.<br/>[2] The smallest eigenvalue is 1.45e-26. This might indicate that there are<br/>strong multicollinearity problems or that the design matrix is singular."
      ],
      "text/latex": [
       "\\begin{center}\n",
       "\\begin{tabular}{lclc}\n",
       "\\toprule\n",
       "\\textbf{Dep. Variable:}    &   childHeight    & \\textbf{  R-squared:         } &     0.238   \\\\\n",
       "\\textbf{Model:}            &       OLS        & \\textbf{  Adj. R-squared:    } &     0.235   \\\\\n",
       "\\textbf{Method:}           &  Least Squares   & \\textbf{  F-statistic:       } &     74.62   \\\\\n",
       "\\textbf{Date:}             & Tue, 24 Jun 2025 & \\textbf{  Prob (F-statistic):} &  6.25e-29   \\\\\n",
       "\\textbf{Time:}             &     12:41:33     & \\textbf{  Log-Likelihood:    } &   -1080.7   \\\\\n",
       "\\textbf{No. Observations:} &         481      & \\textbf{  AIC:               } &     2167.   \\\\\n",
       "\\textbf{Df Residuals:}     &         478      & \\textbf{  BIC:               } &     2180.   \\\\\n",
       "\\textbf{Df Model:}         &           2      & \\textbf{                     } &             \\\\\n",
       "\\textbf{Covariance Type:}  &    nonrobust     & \\textbf{                     } &             \\\\\n",
       "\\bottomrule\n",
       "\\end{tabular}\n",
       "\\begin{tabular}{lcccccc}\n",
       "                         & \\textbf{coef} & \\textbf{std err} & \\textbf{t} & \\textbf{P$> |$t$|$} & \\textbf{[0.025} & \\textbf{0.975]}  \\\\\n",
       "\\midrule\n",
       "\\textbf{Intercept}       &      19.3128  &        4.095     &     4.716  &         0.000        &       11.266    &       27.359     \\\\\n",
       "\\textbf{father}          &       0.2923  &        0.040     &     7.361  &         0.000        &        0.214    &        0.370     \\\\\n",
       "\\textbf{mother}          &       0.1935  &        0.038     &     5.055  &         0.000        &        0.118    &        0.269     \\\\\n",
       "\\textbf{midparentHeight} &       0.2506  &        0.021     &    12.091  &         0.000        &        0.210    &        0.291     \\\\\n",
       "\\bottomrule\n",
       "\\end{tabular}\n",
       "\\begin{tabular}{lclc}\n",
       "\\textbf{Omnibus:}       & 10.653 & \\textbf{  Durbin-Watson:     } &    1.592  \\\\\n",
       "\\textbf{Prob(Omnibus):} &  0.005 & \\textbf{  Jarque-Bera (JB):  } &   14.542  \\\\\n",
       "\\textbf{Skew:}          & -0.200 & \\textbf{  Prob(JB):          } & 0.000695  \\\\\n",
       "\\textbf{Kurtosis:}      &  3.752 & \\textbf{  Cond. No.          } & 2.13e+16  \\\\\n",
       "\\bottomrule\n",
       "\\end{tabular}\n",
       "%\\caption{OLS Regression Results}\n",
       "\\end{center}\n",
       "\n",
       "Notes: \\newline\n",
       " [1] Standard Errors assume that the covariance matrix of the errors is correctly specified. \\newline\n",
       " [2] The smallest eigenvalue is 1.45e-26. This might indicate that there are \\newline\n",
       " strong multicollinearity problems or that the design matrix is singular."
      ],
      "text/plain": [
       "<class 'statsmodels.iolib.summary.Summary'>\n",
       "\"\"\"\n",
       "                            OLS Regression Results                            \n",
       "==============================================================================\n",
       "Dep. Variable:            childHeight   R-squared:                       0.238\n",
       "Model:                            OLS   Adj. R-squared:                  0.235\n",
       "Method:                 Least Squares   F-statistic:                     74.62\n",
       "Date:                Tue, 24 Jun 2025   Prob (F-statistic):           6.25e-29\n",
       "Time:                        12:41:33   Log-Likelihood:                -1080.7\n",
       "No. Observations:                 481   AIC:                             2167.\n",
       "Df Residuals:                     478   BIC:                             2180.\n",
       "Df Model:                           2                                         \n",
       "Covariance Type:            nonrobust                                         \n",
       "===================================================================================\n",
       "                      coef    std err          t      P>|t|      [0.025      0.975]\n",
       "-----------------------------------------------------------------------------------\n",
       "Intercept          19.3128      4.095      4.716      0.000      11.266      27.359\n",
       "father              0.2923      0.040      7.361      0.000       0.214       0.370\n",
       "mother              0.1935      0.038      5.055      0.000       0.118       0.269\n",
       "midparentHeight     0.2506      0.021     12.091      0.000       0.210       0.291\n",
       "==============================================================================\n",
       "Omnibus:                       10.653   Durbin-Watson:                   1.592\n",
       "Prob(Omnibus):                  0.005   Jarque-Bera (JB):               14.542\n",
       "Skew:                          -0.200   Prob(JB):                     0.000695\n",
       "Kurtosis:                       3.752   Cond. No.                     2.13e+16\n",
       "==============================================================================\n",
       "\n",
       "Notes:\n",
       "[1] Standard Errors assume that the covariance matrix of the errors is correctly specified.\n",
       "[2] The smallest eigenvalue is 1.45e-26. This might indicate that there are\n",
       "strong multicollinearity problems or that the design matrix is singular.\n",
       "\"\"\""
      ]
     },
     "execution_count": 8,
     "metadata": {},
     "output_type": "execute_result"
    }
   ],
   "source": [
    "res.summary()"
   ]
  },
  {
   "cell_type": "markdown",
   "id": "09356c19",
   "metadata": {
    "slideshow": {
     "slide_type": "slide"
    }
   },
   "source": [
    "> midparentHeight = (father + 1.08 * mother)/2\n",
    "\n",
    "* Daher kann man aus diesen drei Größen beliebig viele unterschiedliche Modelle bauen, die alle dasselbe vorhersagen\n",
    "* Andererseits ist das Modell enorm empfindlich gegenüber Änderungen der Ausgangsdaten"
   ]
  },
  {
   "cell_type": "markdown",
   "id": "c07cdaa7",
   "metadata": {
    "slideshow": {
     "slide_type": "fragment"
    }
   },
   "source": [
    "* Wir ändern die Daten um ein winziges bisschen\n",
    "* Wir machen alle Mütter um 3µm kleiner"
   ]
  },
  {
   "cell_type": "code",
   "execution_count": 9,
   "id": "e8532195",
   "metadata": {
    "slideshow": {
     "slide_type": "fragment"
    }
   },
   "outputs": [],
   "source": [
    "df['m1'] = df.mother - 0.0001"
   ]
  },
  {
   "cell_type": "code",
   "execution_count": 10,
   "id": "9c8f2058",
   "metadata": {
    "slideshow": {
     "slide_type": "fragment"
    }
   },
   "outputs": [],
   "source": [
    "f1 = \"childHeight ~ m1 + father + midparentHeight\"\n",
    "m1 = smf.ols(f1, df)\n",
    "r1 = m1.fit()"
   ]
  },
  {
   "cell_type": "code",
   "execution_count": 11,
   "id": "75ac75b2",
   "metadata": {
    "scrolled": true,
    "slideshow": {
     "slide_type": "slide"
    }
   },
   "outputs": [
    {
     "data": {
      "text/html": [
       "<table class=\"simpletable\">\n",
       "<caption>OLS Regression Results</caption>\n",
       "<tr>\n",
       "  <th>Dep. Variable:</th>       <td>childHeight</td>   <th>  R-squared:         </th> <td>   0.238</td>\n",
       "</tr>\n",
       "<tr>\n",
       "  <th>Model:</th>                   <td>OLS</td>       <th>  Adj. R-squared:    </th> <td>   0.235</td>\n",
       "</tr>\n",
       "<tr>\n",
       "  <th>Method:</th>             <td>Least Squares</td>  <th>  F-statistic:       </th> <td>   74.62</td>\n",
       "</tr>\n",
       "<tr>\n",
       "  <th>Date:</th>             <td>Tue, 24 Jun 2025</td> <th>  Prob (F-statistic):</th> <td>6.25e-29</td>\n",
       "</tr>\n",
       "<tr>\n",
       "  <th>Time:</th>                 <td>12:44:41</td>     <th>  Log-Likelihood:    </th> <td> -1080.7</td>\n",
       "</tr>\n",
       "<tr>\n",
       "  <th>No. Observations:</th>      <td>   481</td>      <th>  AIC:               </th> <td>   2167.</td>\n",
       "</tr>\n",
       "<tr>\n",
       "  <th>Df Residuals:</th>          <td>   478</td>      <th>  BIC:               </th> <td>   2180.</td>\n",
       "</tr>\n",
       "<tr>\n",
       "  <th>Df Model:</th>              <td>     2</td>      <th>                     </th>     <td> </td>   \n",
       "</tr>\n",
       "<tr>\n",
       "  <th>Covariance Type:</th>      <td>nonrobust</td>    <th>                     </th>     <td> </td>   \n",
       "</tr>\n",
       "</table>\n",
       "<table class=\"simpletable\">\n",
       "<tr>\n",
       "         <td></td>            <th>coef</th>     <th>std err</th>      <th>t</th>      <th>P>|t|</th>  <th>[0.025</th>    <th>0.975]</th>  \n",
       "</tr>\n",
       "<tr>\n",
       "  <th>Intercept</th>       <td>   19.3128</td> <td>    4.095</td> <td>    4.716</td> <td> 0.000</td> <td>   11.266</td> <td>   27.359</td>\n",
       "</tr>\n",
       "<tr>\n",
       "  <th>m1</th>              <td>    0.1931</td> <td>    0.038</td> <td>    5.041</td> <td> 0.000</td> <td>    0.118</td> <td>    0.268</td>\n",
       "</tr>\n",
       "<tr>\n",
       "  <th>father</th>          <td>    0.2919</td> <td>    0.040</td> <td>    7.345</td> <td> 0.000</td> <td>    0.214</td> <td>    0.370</td>\n",
       "</tr>\n",
       "<tr>\n",
       "  <th>midparentHeight</th> <td>    0.2513</td> <td>    0.021</td> <td>   12.207</td> <td> 0.000</td> <td>    0.211</td> <td>    0.292</td>\n",
       "</tr>\n",
       "</table>\n",
       "<table class=\"simpletable\">\n",
       "<tr>\n",
       "  <th>Omnibus:</th>       <td>10.653</td> <th>  Durbin-Watson:     </th> <td>   1.592</td>\n",
       "</tr>\n",
       "<tr>\n",
       "  <th>Prob(Omnibus):</th> <td> 0.005</td> <th>  Jarque-Bera (JB):  </th> <td>  14.542</td>\n",
       "</tr>\n",
       "<tr>\n",
       "  <th>Skew:</th>          <td>-0.200</td> <th>  Prob(JB):          </th> <td>0.000695</td>\n",
       "</tr>\n",
       "<tr>\n",
       "  <th>Kurtosis:</th>      <td> 3.752</td> <th>  Cond. No.          </th> <td>1.01e+16</td>\n",
       "</tr>\n",
       "</table><br/><br/>Notes:<br/>[1] Standard Errors assume that the covariance matrix of the errors is correctly specified.<br/>[2] The smallest eigenvalue is 6.39e-26. This might indicate that there are<br/>strong multicollinearity problems or that the design matrix is singular."
      ],
      "text/latex": [
       "\\begin{center}\n",
       "\\begin{tabular}{lclc}\n",
       "\\toprule\n",
       "\\textbf{Dep. Variable:}    &   childHeight    & \\textbf{  R-squared:         } &     0.238   \\\\\n",
       "\\textbf{Model:}            &       OLS        & \\textbf{  Adj. R-squared:    } &     0.235   \\\\\n",
       "\\textbf{Method:}           &  Least Squares   & \\textbf{  F-statistic:       } &     74.62   \\\\\n",
       "\\textbf{Date:}             & Tue, 24 Jun 2025 & \\textbf{  Prob (F-statistic):} &  6.25e-29   \\\\\n",
       "\\textbf{Time:}             &     12:44:41     & \\textbf{  Log-Likelihood:    } &   -1080.7   \\\\\n",
       "\\textbf{No. Observations:} &         481      & \\textbf{  AIC:               } &     2167.   \\\\\n",
       "\\textbf{Df Residuals:}     &         478      & \\textbf{  BIC:               } &     2180.   \\\\\n",
       "\\textbf{Df Model:}         &           2      & \\textbf{                     } &             \\\\\n",
       "\\textbf{Covariance Type:}  &    nonrobust     & \\textbf{                     } &             \\\\\n",
       "\\bottomrule\n",
       "\\end{tabular}\n",
       "\\begin{tabular}{lcccccc}\n",
       "                         & \\textbf{coef} & \\textbf{std err} & \\textbf{t} & \\textbf{P$> |$t$|$} & \\textbf{[0.025} & \\textbf{0.975]}  \\\\\n",
       "\\midrule\n",
       "\\textbf{Intercept}       &      19.3128  &        4.095     &     4.716  &         0.000        &       11.266    &       27.359     \\\\\n",
       "\\textbf{m1}              &       0.1931  &        0.038     &     5.041  &         0.000        &        0.118    &        0.268     \\\\\n",
       "\\textbf{father}          &       0.2919  &        0.040     &     7.345  &         0.000        &        0.214    &        0.370     \\\\\n",
       "\\textbf{midparentHeight} &       0.2513  &        0.021     &    12.207  &         0.000        &        0.211    &        0.292     \\\\\n",
       "\\bottomrule\n",
       "\\end{tabular}\n",
       "\\begin{tabular}{lclc}\n",
       "\\textbf{Omnibus:}       & 10.653 & \\textbf{  Durbin-Watson:     } &    1.592  \\\\\n",
       "\\textbf{Prob(Omnibus):} &  0.005 & \\textbf{  Jarque-Bera (JB):  } &   14.542  \\\\\n",
       "\\textbf{Skew:}          & -0.200 & \\textbf{  Prob(JB):          } & 0.000695  \\\\\n",
       "\\textbf{Kurtosis:}      &  3.752 & \\textbf{  Cond. No.          } & 1.01e+16  \\\\\n",
       "\\bottomrule\n",
       "\\end{tabular}\n",
       "%\\caption{OLS Regression Results}\n",
       "\\end{center}\n",
       "\n",
       "Notes: \\newline\n",
       " [1] Standard Errors assume that the covariance matrix of the errors is correctly specified. \\newline\n",
       " [2] The smallest eigenvalue is 6.39e-26. This might indicate that there are \\newline\n",
       " strong multicollinearity problems or that the design matrix is singular."
      ],
      "text/plain": [
       "<class 'statsmodels.iolib.summary.Summary'>\n",
       "\"\"\"\n",
       "                            OLS Regression Results                            \n",
       "==============================================================================\n",
       "Dep. Variable:            childHeight   R-squared:                       0.238\n",
       "Model:                            OLS   Adj. R-squared:                  0.235\n",
       "Method:                 Least Squares   F-statistic:                     74.62\n",
       "Date:                Tue, 24 Jun 2025   Prob (F-statistic):           6.25e-29\n",
       "Time:                        12:44:41   Log-Likelihood:                -1080.7\n",
       "No. Observations:                 481   AIC:                             2167.\n",
       "Df Residuals:                     478   BIC:                             2180.\n",
       "Df Model:                           2                                         \n",
       "Covariance Type:            nonrobust                                         \n",
       "===================================================================================\n",
       "                      coef    std err          t      P>|t|      [0.025      0.975]\n",
       "-----------------------------------------------------------------------------------\n",
       "Intercept          19.3128      4.095      4.716      0.000      11.266      27.359\n",
       "m1                  0.1931      0.038      5.041      0.000       0.118       0.268\n",
       "father              0.2919      0.040      7.345      0.000       0.214       0.370\n",
       "midparentHeight     0.2513      0.021     12.207      0.000       0.211       0.292\n",
       "==============================================================================\n",
       "Omnibus:                       10.653   Durbin-Watson:                   1.592\n",
       "Prob(Omnibus):                  0.005   Jarque-Bera (JB):               14.542\n",
       "Skew:                          -0.200   Prob(JB):                     0.000695\n",
       "Kurtosis:                       3.752   Cond. No.                     1.01e+16\n",
       "==============================================================================\n",
       "\n",
       "Notes:\n",
       "[1] Standard Errors assume that the covariance matrix of the errors is correctly specified.\n",
       "[2] The smallest eigenvalue is 6.39e-26. This might indicate that there are\n",
       "strong multicollinearity problems or that the design matrix is singular.\n",
       "\"\"\""
      ]
     },
     "execution_count": 11,
     "metadata": {},
     "output_type": "execute_result"
    }
   ],
   "source": [
    "r1.summary()"
   ]
  },
  {
   "cell_type": "markdown",
   "id": "aa265c0e",
   "metadata": {
    "slideshow": {
     "slide_type": "fragment"
    }
   },
   "source": [
    "Auf dem Rechner, auf dem die HTML-Versionen der Lektionen gerechnet werden, kommen völlig unsinnige Werte heraus"
   ]
  },
  {
   "cell_type": "markdown",
   "id": "5733c025",
   "metadata": {
    "slideshow": {
     "slide_type": "slide"
    }
   },
   "source": [
    "Das Problem ist, dass Multikollinearität in der Praxis häufig verborgen ist"
   ]
  },
  {
   "cell_type": "markdown",
   "id": "24c95e28",
   "metadata": {
    "slideshow": {
     "slide_type": "slide"
    }
   },
   "source": [
    "# Lineare Modelle mit kategoriellen Daten"
   ]
  },
  {
   "cell_type": "code",
   "execution_count": 12,
   "id": "4c79dc82",
   "metadata": {
    "slideshow": {
     "slide_type": "slide"
    }
   },
   "outputs": [
    {
     "data": {
      "text/html": [
       "<div>\n",
       "<style scoped>\n",
       "    .dataframe tbody tr th:only-of-type {\n",
       "        vertical-align: middle;\n",
       "    }\n",
       "\n",
       "    .dataframe tbody tr th {\n",
       "        vertical-align: top;\n",
       "    }\n",
       "\n",
       "    .dataframe thead th {\n",
       "        text-align: right;\n",
       "    }\n",
       "</style>\n",
       "<table border=\"1\" class=\"dataframe\">\n",
       "  <thead>\n",
       "    <tr style=\"text-align: right;\">\n",
       "      <th></th>\n",
       "      <th>family</th>\n",
       "      <th>father</th>\n",
       "      <th>mother</th>\n",
       "      <th>midparentHeight</th>\n",
       "      <th>children</th>\n",
       "      <th>childNum</th>\n",
       "      <th>gender</th>\n",
       "      <th>childHeight</th>\n",
       "    </tr>\n",
       "  </thead>\n",
       "  <tbody>\n",
       "    <tr>\n",
       "      <th>0</th>\n",
       "      <td>001</td>\n",
       "      <td>78.5</td>\n",
       "      <td>67.0</td>\n",
       "      <td>75.43</td>\n",
       "      <td>4</td>\n",
       "      <td>1</td>\n",
       "      <td>male</td>\n",
       "      <td>73.2</td>\n",
       "    </tr>\n",
       "    <tr>\n",
       "      <th>1</th>\n",
       "      <td>001</td>\n",
       "      <td>78.5</td>\n",
       "      <td>67.0</td>\n",
       "      <td>75.43</td>\n",
       "      <td>4</td>\n",
       "      <td>2</td>\n",
       "      <td>female</td>\n",
       "      <td>69.2</td>\n",
       "    </tr>\n",
       "    <tr>\n",
       "      <th>2</th>\n",
       "      <td>001</td>\n",
       "      <td>78.5</td>\n",
       "      <td>67.0</td>\n",
       "      <td>75.43</td>\n",
       "      <td>4</td>\n",
       "      <td>3</td>\n",
       "      <td>female</td>\n",
       "      <td>69.0</td>\n",
       "    </tr>\n",
       "    <tr>\n",
       "      <th>3</th>\n",
       "      <td>001</td>\n",
       "      <td>78.5</td>\n",
       "      <td>67.0</td>\n",
       "      <td>75.43</td>\n",
       "      <td>4</td>\n",
       "      <td>4</td>\n",
       "      <td>female</td>\n",
       "      <td>69.0</td>\n",
       "    </tr>\n",
       "    <tr>\n",
       "      <th>4</th>\n",
       "      <td>002</td>\n",
       "      <td>75.5</td>\n",
       "      <td>66.5</td>\n",
       "      <td>73.66</td>\n",
       "      <td>4</td>\n",
       "      <td>1</td>\n",
       "      <td>male</td>\n",
       "      <td>73.5</td>\n",
       "    </tr>\n",
       "  </tbody>\n",
       "</table>\n",
       "</div>"
      ],
      "text/plain": [
       "  family  father  mother  midparentHeight  children  childNum  gender  \\\n",
       "0    001    78.5    67.0            75.43         4         1    male   \n",
       "1    001    78.5    67.0            75.43         4         2  female   \n",
       "2    001    78.5    67.0            75.43         4         3  female   \n",
       "3    001    78.5    67.0            75.43         4         4  female   \n",
       "4    002    75.5    66.5            73.66         4         1    male   \n",
       "\n",
       "   childHeight  \n",
       "0         73.2  \n",
       "1         69.2  \n",
       "2         69.0  \n",
       "3         69.0  \n",
       "4         73.5  "
      ]
     },
     "execution_count": 12,
     "metadata": {},
     "output_type": "execute_result"
    }
   ],
   "source": [
    "df = pd.read_csv('kinder.csv')\n",
    "df.head()"
   ]
  },
  {
   "cell_type": "code",
   "execution_count": 13,
   "id": "27981fb0",
   "metadata": {},
   "outputs": [
    {
     "data": {
      "image/png": "[encoded data removed]",
      "text/plain": [
       "<Figure size 601.125x500 with 1 Axes>"
      ]
     },
     "metadata": {},
     "output_type": "display_data"
    }
   ],
   "source": [
    "sns.lmplot(df, x='father', y='childHeight', hue='gender');"
   ]
  },
  {
   "cell_type": "code",
   "execution_count": 14,
   "id": "dc01031c",
   "metadata": {
    "slideshow": {
     "slide_type": "slide"
    }
   },
   "outputs": [],
   "source": [
    "formel = 'childHeight ~ father + mother + gender'\n",
    "modell = smf.ols(formel, df)"
   ]
  },
  {
   "cell_type": "code",
   "execution_count": 15,
   "id": "8a28d33b",
   "metadata": {},
   "outputs": [],
   "source": [
    "res = modell.fit()"
   ]
  },
  {
   "cell_type": "code",
   "execution_count": 16,
   "id": "738516a9",
   "metadata": {
    "scrolled": true,
    "slideshow": {
     "slide_type": "slide"
    }
   },
   "outputs": [
    {
     "data": {
      "text/html": [
       "<table class=\"simpletable\">\n",
       "<caption>OLS Regression Results</caption>\n",
       "<tr>\n",
       "  <th>Dep. Variable:</th>       <td>childHeight</td>   <th>  R-squared:         </th> <td>   0.635</td> \n",
       "</tr>\n",
       "<tr>\n",
       "  <th>Model:</th>                   <td>OLS</td>       <th>  Adj. R-squared:    </th> <td>   0.634</td> \n",
       "</tr>\n",
       "<tr>\n",
       "  <th>Method:</th>             <td>Least Squares</td>  <th>  F-statistic:       </th> <td>   540.3</td> \n",
       "</tr>\n",
       "<tr>\n",
       "  <th>Date:</th>             <td>Tue, 24 Jun 2025</td> <th>  Prob (F-statistic):</th> <td>3.38e-203</td>\n",
       "</tr>\n",
       "<tr>\n",
       "  <th>Time:</th>                 <td>12:53:04</td>     <th>  Log-Likelihood:    </th> <td> -2044.6</td> \n",
       "</tr>\n",
       "<tr>\n",
       "  <th>No. Observations:</th>      <td>   934</td>      <th>  AIC:               </th> <td>   4097.</td> \n",
       "</tr>\n",
       "<tr>\n",
       "  <th>Df Residuals:</th>          <td>   930</td>      <th>  BIC:               </th> <td>   4117.</td> \n",
       "</tr>\n",
       "<tr>\n",
       "  <th>Df Model:</th>              <td>     3</td>      <th>                     </th>     <td> </td>    \n",
       "</tr>\n",
       "<tr>\n",
       "  <th>Covariance Type:</th>      <td>nonrobust</td>    <th>                     </th>     <td> </td>    \n",
       "</tr>\n",
       "</table>\n",
       "<table class=\"simpletable\">\n",
       "<tr>\n",
       "         <td></td>           <th>coef</th>     <th>std err</th>      <th>t</th>      <th>P>|t|</th>  <th>[0.025</th>    <th>0.975]</th>  \n",
       "</tr>\n",
       "<tr>\n",
       "  <th>Intercept</th>      <td>   16.5212</td> <td>    2.727</td> <td>    6.058</td> <td> 0.000</td> <td>   11.169</td> <td>   21.873</td>\n",
       "</tr>\n",
       "<tr>\n",
       "  <th>gender[T.male]</th> <td>    5.2150</td> <td>    0.142</td> <td>   36.775</td> <td> 0.000</td> <td>    4.937</td> <td>    5.493</td>\n",
       "</tr>\n",
       "<tr>\n",
       "  <th>father</th>         <td>    0.3928</td> <td>    0.029</td> <td>   13.699</td> <td> 0.000</td> <td>    0.337</td> <td>    0.449</td>\n",
       "</tr>\n",
       "<tr>\n",
       "  <th>mother</th>         <td>    0.3176</td> <td>    0.031</td> <td>   10.245</td> <td> 0.000</td> <td>    0.257</td> <td>    0.378</td>\n",
       "</tr>\n",
       "</table>\n",
       "<table class=\"simpletable\">\n",
       "<tr>\n",
       "  <th>Omnibus:</th>       <td>11.156</td> <th>  Durbin-Watson:     </th> <td>   1.549</td>\n",
       "</tr>\n",
       "<tr>\n",
       "  <th>Prob(Omnibus):</th> <td> 0.004</td> <th>  Jarque-Bera (JB):  </th> <td>  15.397</td>\n",
       "</tr>\n",
       "<tr>\n",
       "  <th>Skew:</th>          <td>-0.114</td> <th>  Prob(JB):          </th> <td>0.000453</td>\n",
       "</tr>\n",
       "<tr>\n",
       "  <th>Kurtosis:</th>      <td> 3.586</td> <th>  Cond. No.          </th> <td>3.63e+03</td>\n",
       "</tr>\n",
       "</table><br/><br/>Notes:<br/>[1] Standard Errors assume that the covariance matrix of the errors is correctly specified.<br/>[2] The condition number is large, 3.63e+03. This might indicate that there are<br/>strong multicollinearity or other numerical problems."
      ],
      "text/latex": [
       "\\begin{center}\n",
       "\\begin{tabular}{lclc}\n",
       "\\toprule\n",
       "\\textbf{Dep. Variable:}    &   childHeight    & \\textbf{  R-squared:         } &     0.635   \\\\\n",
       "\\textbf{Model:}            &       OLS        & \\textbf{  Adj. R-squared:    } &     0.634   \\\\\n",
       "\\textbf{Method:}           &  Least Squares   & \\textbf{  F-statistic:       } &     540.3   \\\\\n",
       "\\textbf{Date:}             & Tue, 24 Jun 2025 & \\textbf{  Prob (F-statistic):} & 3.38e-203   \\\\\n",
       "\\textbf{Time:}             &     12:53:04     & \\textbf{  Log-Likelihood:    } &   -2044.6   \\\\\n",
       "\\textbf{No. Observations:} &         934      & \\textbf{  AIC:               } &     4097.   \\\\\n",
       "\\textbf{Df Residuals:}     &         930      & \\textbf{  BIC:               } &     4117.   \\\\\n",
       "\\textbf{Df Model:}         &           3      & \\textbf{                     } &             \\\\\n",
       "\\textbf{Covariance Type:}  &    nonrobust     & \\textbf{                     } &             \\\\\n",
       "\\bottomrule\n",
       "\\end{tabular}\n",
       "\\begin{tabular}{lcccccc}\n",
       "                        & \\textbf{coef} & \\textbf{std err} & \\textbf{t} & \\textbf{P$> |$t$|$} & \\textbf{[0.025} & \\textbf{0.975]}  \\\\\n",
       "\\midrule\n",
       "\\textbf{Intercept}      &      16.5212  &        2.727     &     6.058  &         0.000        &       11.169    &       21.873     \\\\\n",
       "\\textbf{gender[T.male]} &       5.2150  &        0.142     &    36.775  &         0.000        &        4.937    &        5.493     \\\\\n",
       "\\textbf{father}         &       0.3928  &        0.029     &    13.699  &         0.000        &        0.337    &        0.449     \\\\\n",
       "\\textbf{mother}         &       0.3176  &        0.031     &    10.245  &         0.000        &        0.257    &        0.378     \\\\\n",
       "\\bottomrule\n",
       "\\end{tabular}\n",
       "\\begin{tabular}{lclc}\n",
       "\\textbf{Omnibus:}       & 11.156 & \\textbf{  Durbin-Watson:     } &    1.549  \\\\\n",
       "\\textbf{Prob(Omnibus):} &  0.004 & \\textbf{  Jarque-Bera (JB):  } &   15.397  \\\\\n",
       "\\textbf{Skew:}          & -0.114 & \\textbf{  Prob(JB):          } & 0.000453  \\\\\n",
       "\\textbf{Kurtosis:}      &  3.586 & \\textbf{  Cond. No.          } & 3.63e+03  \\\\\n",
       "\\bottomrule\n",
       "\\end{tabular}\n",
       "%\\caption{OLS Regression Results}\n",
       "\\end{center}\n",
       "\n",
       "Notes: \\newline\n",
       " [1] Standard Errors assume that the covariance matrix of the errors is correctly specified. \\newline\n",
       " [2] The condition number is large, 3.63e+03. This might indicate that there are \\newline\n",
       " strong multicollinearity or other numerical problems."
      ],
      "text/plain": [
       "<class 'statsmodels.iolib.summary.Summary'>\n",
       "\"\"\"\n",
       "                            OLS Regression Results                            \n",
       "==============================================================================\n",
       "Dep. Variable:            childHeight   R-squared:                       0.635\n",
       "Model:                            OLS   Adj. R-squared:                  0.634\n",
       "Method:                 Least Squares   F-statistic:                     540.3\n",
       "Date:                Tue, 24 Jun 2025   Prob (F-statistic):          3.38e-203\n",
       "Time:                        12:53:04   Log-Likelihood:                -2044.6\n",
       "No. Observations:                 934   AIC:                             4097.\n",
       "Df Residuals:                     930   BIC:                             4117.\n",
       "Df Model:                           3                                         \n",
       "Covariance Type:            nonrobust                                         \n",
       "==================================================================================\n",
       "                     coef    std err          t      P>|t|      [0.025      0.975]\n",
       "----------------------------------------------------------------------------------\n",
       "Intercept         16.5212      2.727      6.058      0.000      11.169      21.873\n",
       "gender[T.male]     5.2150      0.142     36.775      0.000       4.937       5.493\n",
       "father             0.3928      0.029     13.699      0.000       0.337       0.449\n",
       "mother             0.3176      0.031     10.245      0.000       0.257       0.378\n",
       "==============================================================================\n",
       "Omnibus:                       11.156   Durbin-Watson:                   1.549\n",
       "Prob(Omnibus):                  0.004   Jarque-Bera (JB):               15.397\n",
       "Skew:                          -0.114   Prob(JB):                     0.000453\n",
       "Kurtosis:                       3.586   Cond. No.                     3.63e+03\n",
       "==============================================================================\n",
       "\n",
       "Notes:\n",
       "[1] Standard Errors assume that the covariance matrix of the errors is correctly specified.\n",
       "[2] The condition number is large, 3.63e+03. This might indicate that there are\n",
       "strong multicollinearity or other numerical problems.\n",
       "\"\"\""
      ]
     },
     "execution_count": 16,
     "metadata": {},
     "output_type": "execute_result"
    }
   ],
   "source": [
    "res.summary()"
   ]
  },
  {
   "cell_type": "markdown",
   "id": "a8d27a91",
   "metadata": {
    "slideshow": {
     "slide_type": "fragment"
    }
   },
   "source": [
    "Hier wird eine Fallunterscheidung kodiert\n",
    "\n",
    "$$\n",
    "    \\text{childHeight} = 16.5212 + 0.3928 \\cdot \\text{father} + 0.13176 \\cdot \\text{mother} + \n",
    "    \\begin{cases}\n",
    "        0.0 & \\text{wenn Mädchen,} \\\\\n",
    "        5.215 & \\text{wenn Junge.}\n",
    "    \\end{cases}\n",
    "$$"
   ]
  },
  {
   "cell_type": "markdown",
   "id": "530ada62",
   "metadata": {
    "slideshow": {
     "slide_type": "slide"
    }
   },
   "source": [
    "Die Terminologie kommt offenbar aus der Pharmazie:\n",
    "\n",
    "* `female` ist hier der Standard (engl. \"default\")\n",
    "* alles, was vom Standard abweicht, ist eine Behandlung (engl. \"treatment\")\n",
    "* daher `T.male`\n",
    "* was default und was treatment ist, entscheidet das Programm"
   ]
  },
  {
   "cell_type": "markdown",
   "id": "12df4400",
   "metadata": {
    "slideshow": {
     "slide_type": "slide"
    }
   },
   "source": [
    "## Prediction im kategoriellen Fall"
   ]
  },
  {
   "cell_type": "markdown",
   "id": "ec83bbf7",
   "metadata": {
    "slideshow": {
     "slide_type": "fragment"
    }
   },
   "source": [
    "Beispiel aus Lektion 25"
   ]
  },
  {
   "cell_type": "code",
   "execution_count": 17,
   "id": "3fbf60d6",
   "metadata": {},
   "outputs": [
    {
     "data": {
      "text/html": [
       "<div>\n",
       "<style scoped>\n",
       "    .dataframe tbody tr th:only-of-type {\n",
       "        vertical-align: middle;\n",
       "    }\n",
       "\n",
       "    .dataframe tbody tr th {\n",
       "        vertical-align: top;\n",
       "    }\n",
       "\n",
       "    .dataframe thead th {\n",
       "        text-align: right;\n",
       "    }\n",
       "</style>\n",
       "<table border=\"1\" class=\"dataframe\">\n",
       "  <thead>\n",
       "    <tr style=\"text-align: right;\">\n",
       "      <th></th>\n",
       "      <th>father</th>\n",
       "      <th>mother</th>\n",
       "      <th>gender</th>\n",
       "    </tr>\n",
       "  </thead>\n",
       "  <tbody>\n",
       "    <tr>\n",
       "      <th>0</th>\n",
       "      <td>68.9</td>\n",
       "      <td>66.4</td>\n",
       "      <td>male</td>\n",
       "    </tr>\n",
       "  </tbody>\n",
       "</table>\n",
       "</div>"
      ],
      "text/plain": [
       "   father  mother gender\n",
       "0    68.9    66.4   male"
      ]
     },
     "execution_count": 17,
     "metadata": {},
     "output_type": "execute_result"
    }
   ],
   "source": [
    "anfrage = pd.DataFrame()\n",
    "anfrage['father'] = [68.9]\n",
    "anfrage['mother'] = [66.4]\n",
    "anfrage['gender'] = ['male']\n",
    "anfrage"
   ]
  },
  {
   "cell_type": "code",
   "execution_count": 18,
   "id": "a3f428e1",
   "metadata": {},
   "outputs": [
    {
     "data": {
      "text/html": [
       "<div>\n",
       "<style scoped>\n",
       "    .dataframe tbody tr th:only-of-type {\n",
       "        vertical-align: middle;\n",
       "    }\n",
       "\n",
       "    .dataframe tbody tr th {\n",
       "        vertical-align: top;\n",
       "    }\n",
       "\n",
       "    .dataframe thead th {\n",
       "        text-align: right;\n",
       "    }\n",
       "</style>\n",
       "<table border=\"1\" class=\"dataframe\">\n",
       "  <thead>\n",
       "    <tr style=\"text-align: right;\">\n",
       "      <th></th>\n",
       "      <th>mean</th>\n",
       "      <th>mean_se</th>\n",
       "      <th>mean_ci_lower</th>\n",
       "      <th>mean_ci_upper</th>\n",
       "      <th>obs_ci_lower</th>\n",
       "      <th>obs_ci_upper</th>\n",
       "    </tr>\n",
       "  </thead>\n",
       "  <tbody>\n",
       "    <tr>\n",
       "      <th>0</th>\n",
       "      <td>69.892443</td>\n",
       "      <td>0.123415</td>\n",
       "      <td>69.650239</td>\n",
       "      <td>70.134648</td>\n",
       "      <td>65.6373</td>\n",
       "      <td>74.147587</td>\n",
       "    </tr>\n",
       "  </tbody>\n",
       "</table>\n",
       "</div>"
      ],
      "text/plain": [
       "        mean   mean_se  mean_ci_lower  mean_ci_upper  obs_ci_lower  \\\n",
       "0  69.892443  0.123415      69.650239      70.134648       65.6373   \n",
       "\n",
       "   obs_ci_upper  \n",
       "0     74.147587  "
      ]
     },
     "execution_count": 18,
     "metadata": {},
     "output_type": "execute_result"
    }
   ],
   "source": [
    "res.get_prediction(anfrage).summary_frame()"
   ]
  },
  {
   "cell_type": "markdown",
   "id": "75eeb315",
   "metadata": {
    "slideshow": {
     "slide_type": "fragment"
    }
   },
   "source": [
    "* In Lektion 25 war 69.91 herausgekommen\n",
    "* Dies ist kein Rundungsfehler\n",
    "* Es wird eine gemeinsame Steigung für alle Kinder berechnet"
   ]
  },
  {
   "cell_type": "markdown",
   "id": "838451c4",
   "metadata": {
    "slideshow": {
     "slide_type": "slide"
    }
   },
   "source": [
    "#### Beispiel Ratten"
   ]
  },
  {
   "cell_type": "markdown",
   "id": "ca92571c",
   "metadata": {},
   "source": [
    "Wir kommen zu dem Rattenbeispiel aus Lektion 23 zurück:\n",
    "\n",
    "* kontaminiertes Gelände: fange 10 Ratten\n",
    "* unbelastetes Vergleichsgelände:  fange 10 Ratten\n",
    "* für jede Ratte wird ihr Alter in Monaten und der Bleigehalt im Gewebe bestimmt"
   ]
  },
  {
   "cell_type": "code",
   "execution_count": 19,
   "id": "c4d3633c",
   "metadata": {
    "slideshow": {
     "slide_type": "slide"
    }
   },
   "outputs": [],
   "source": [
    "df = pd.read_csv('ratten.csv')"
   ]
  },
  {
   "cell_type": "code",
   "execution_count": 20,
   "id": "9644e247",
   "metadata": {},
   "outputs": [
    {
     "data": {
      "image/png": "[encoded data removed]",
      "text/plain": [
       "<Figure size 655.125x500 with 1 Axes>"
      ]
     },
     "metadata": {},
     "output_type": "display_data"
    }
   ],
   "source": [
    "sns.lmplot(df, x='Alter', y='Belastung', hue='Gelände');"
   ]
  },
  {
   "cell_type": "markdown",
   "id": "218b0e3e",
   "metadata": {
    "slideshow": {
     "slide_type": "slide"
    }
   },
   "source": [
    "* Der t-Test zeigte keinen Unterschied zwischen den Ratten auf kontaminierten und nicht kontaminiertem Gelände.\n",
    "* Die Ratten auf dem kontaminierten Gelände sind aber im Schnitt jünger.  \n",
    "* Wir wollen gleichaltrige Ratten vergleichen"
   ]
  },
  {
   "cell_type": "code",
   "execution_count": 21,
   "id": "f597ba75",
   "metadata": {},
   "outputs": [],
   "source": [
    "formel = 'Belastung ~ Alter + Gelände'\n",
    "modell = smf.ols(formel, df)\n",
    "res = modell.fit()"
   ]
  },
  {
   "cell_type": "code",
   "execution_count": 22,
   "id": "bcd3375a",
   "metadata": {
    "slideshow": {
     "slide_type": "slide"
    }
   },
   "outputs": [
    {
     "data": {
      "text/html": [
       "<table class=\"simpletable\">\n",
       "<caption>OLS Regression Results</caption>\n",
       "<tr>\n",
       "  <th>Dep. Variable:</th>        <td>Belastung</td>    <th>  R-squared:         </th> <td>   0.673</td>\n",
       "</tr>\n",
       "<tr>\n",
       "  <th>Model:</th>                   <td>OLS</td>       <th>  Adj. R-squared:    </th> <td>   0.635</td>\n",
       "</tr>\n",
       "<tr>\n",
       "  <th>Method:</th>             <td>Least Squares</td>  <th>  F-statistic:       </th> <td>   17.52</td>\n",
       "</tr>\n",
       "<tr>\n",
       "  <th>Date:</th>             <td>Tue, 24 Jun 2025</td> <th>  Prob (F-statistic):</th> <td>7.42e-05</td>\n",
       "</tr>\n",
       "<tr>\n",
       "  <th>Time:</th>                 <td>13:02:56</td>     <th>  Log-Likelihood:    </th> <td> -63.935</td>\n",
       "</tr>\n",
       "<tr>\n",
       "  <th>No. Observations:</th>      <td>    20</td>      <th>  AIC:               </th> <td>   133.9</td>\n",
       "</tr>\n",
       "<tr>\n",
       "  <th>Df Residuals:</th>          <td>    17</td>      <th>  BIC:               </th> <td>   136.9</td>\n",
       "</tr>\n",
       "<tr>\n",
       "  <th>Df Model:</th>              <td>     2</td>      <th>                     </th>     <td> </td>   \n",
       "</tr>\n",
       "<tr>\n",
       "  <th>Covariance Type:</th>      <td>nonrobust</td>    <th>                     </th>     <td> </td>   \n",
       "</tr>\n",
       "</table>\n",
       "<table class=\"simpletable\">\n",
       "<tr>\n",
       "              <td></td>                 <th>coef</th>     <th>std err</th>      <th>t</th>      <th>P>|t|</th>  <th>[0.025</th>    <th>0.975]</th>  \n",
       "</tr>\n",
       "<tr>\n",
       "  <th>Intercept</th>                 <td>   39.1728</td> <td>    5.166</td> <td>    7.583</td> <td> 0.000</td> <td>   28.273</td> <td>   50.072</td>\n",
       "</tr>\n",
       "<tr>\n",
       "  <th>Gelände[T.unkontaminiert]</th> <td>  -11.0980</td> <td>    3.124</td> <td>   -3.552</td> <td> 0.002</td> <td>  -17.689</td> <td>   -4.507</td>\n",
       "</tr>\n",
       "<tr>\n",
       "  <th>Alter</th>                     <td>    3.5490</td> <td>    0.617</td> <td>    5.752</td> <td> 0.000</td> <td>    2.247</td> <td>    4.851</td>\n",
       "</tr>\n",
       "</table>\n",
       "<table class=\"simpletable\">\n",
       "<tr>\n",
       "  <th>Omnibus:</th>       <td> 1.119</td> <th>  Durbin-Watson:     </th> <td>   2.547</td>\n",
       "</tr>\n",
       "<tr>\n",
       "  <th>Prob(Omnibus):</th> <td> 0.572</td> <th>  Jarque-Bera (JB):  </th> <td>   0.408</td>\n",
       "</tr>\n",
       "<tr>\n",
       "  <th>Skew:</th>          <td>-0.346</td> <th>  Prob(JB):          </th> <td>   0.815</td>\n",
       "</tr>\n",
       "<tr>\n",
       "  <th>Kurtosis:</th>      <td> 3.102</td> <th>  Cond. No.          </th> <td>    33.2</td>\n",
       "</tr>\n",
       "</table><br/><br/>Notes:<br/>[1] Standard Errors assume that the covariance matrix of the errors is correctly specified."
      ],
      "text/latex": [
       "\\begin{center}\n",
       "\\begin{tabular}{lclc}\n",
       "\\toprule\n",
       "\\textbf{Dep. Variable:}            &    Belastung     & \\textbf{  R-squared:         } &     0.673   \\\\\n",
       "\\textbf{Model:}                    &       OLS        & \\textbf{  Adj. R-squared:    } &     0.635   \\\\\n",
       "\\textbf{Method:}                   &  Least Squares   & \\textbf{  F-statistic:       } &     17.52   \\\\\n",
       "\\textbf{Date:}                     & Tue, 24 Jun 2025 & \\textbf{  Prob (F-statistic):} &  7.42e-05   \\\\\n",
       "\\textbf{Time:}                     &     13:02:56     & \\textbf{  Log-Likelihood:    } &   -63.935   \\\\\n",
       "\\textbf{No. Observations:}         &          20      & \\textbf{  AIC:               } &     133.9   \\\\\n",
       "\\textbf{Df Residuals:}             &          17      & \\textbf{  BIC:               } &     136.9   \\\\\n",
       "\\textbf{Df Model:}                 &           2      & \\textbf{                     } &             \\\\\n",
       "\\textbf{Covariance Type:}          &    nonrobust     & \\textbf{                     } &             \\\\\n",
       "\\bottomrule\n",
       "\\end{tabular}\n",
       "\\begin{tabular}{lcccccc}\n",
       "                                   & \\textbf{coef} & \\textbf{std err} & \\textbf{t} & \\textbf{P$> |$t$|$} & \\textbf{[0.025} & \\textbf{0.975]}  \\\\\n",
       "\\midrule\n",
       "\\textbf{Intercept}                 &      39.1728  &        5.166     &     7.583  &         0.000        &       28.273    &       50.072     \\\\\n",
       "\\textbf{Gelände[T.unkontaminiert]} &     -11.0980  &        3.124     &    -3.552  &         0.002        &      -17.689    &       -4.507     \\\\\n",
       "\\textbf{Alter}                     &       3.5490  &        0.617     &     5.752  &         0.000        &        2.247    &        4.851     \\\\\n",
       "\\bottomrule\n",
       "\\end{tabular}\n",
       "\\begin{tabular}{lclc}\n",
       "\\textbf{Omnibus:}       &  1.119 & \\textbf{  Durbin-Watson:     } &    2.547  \\\\\n",
       "\\textbf{Prob(Omnibus):} &  0.572 & \\textbf{  Jarque-Bera (JB):  } &    0.408  \\\\\n",
       "\\textbf{Skew:}          & -0.346 & \\textbf{  Prob(JB):          } &    0.815  \\\\\n",
       "\\textbf{Kurtosis:}      &  3.102 & \\textbf{  Cond. No.          } &     33.2  \\\\\n",
       "\\bottomrule\n",
       "\\end{tabular}\n",
       "%\\caption{OLS Regression Results}\n",
       "\\end{center}\n",
       "\n",
       "Notes: \\newline\n",
       " [1] Standard Errors assume that the covariance matrix of the errors is correctly specified."
      ],
      "text/plain": [
       "<class 'statsmodels.iolib.summary.Summary'>\n",
       "\"\"\"\n",
       "                            OLS Regression Results                            \n",
       "==============================================================================\n",
       "Dep. Variable:              Belastung   R-squared:                       0.673\n",
       "Model:                            OLS   Adj. R-squared:                  0.635\n",
       "Method:                 Least Squares   F-statistic:                     17.52\n",
       "Date:                Tue, 24 Jun 2025   Prob (F-statistic):           7.42e-05\n",
       "Time:                        13:02:56   Log-Likelihood:                -63.935\n",
       "No. Observations:                  20   AIC:                             133.9\n",
       "Df Residuals:                      17   BIC:                             136.9\n",
       "Df Model:                           2                                         \n",
       "Covariance Type:            nonrobust                                         \n",
       "=============================================================================================\n",
       "                                coef    std err          t      P>|t|      [0.025      0.975]\n",
       "---------------------------------------------------------------------------------------------\n",
       "Intercept                    39.1728      5.166      7.583      0.000      28.273      50.072\n",
       "Gelände[T.unkontaminiert]   -11.0980      3.124     -3.552      0.002     -17.689      -4.507\n",
       "Alter                         3.5490      0.617      5.752      0.000       2.247       4.851\n",
       "==============================================================================\n",
       "Omnibus:                        1.119   Durbin-Watson:                   2.547\n",
       "Prob(Omnibus):                  0.572   Jarque-Bera (JB):                0.408\n",
       "Skew:                          -0.346   Prob(JB):                        0.815\n",
       "Kurtosis:                       3.102   Cond. No.                         33.2\n",
       "==============================================================================\n",
       "\n",
       "Notes:\n",
       "[1] Standard Errors assume that the covariance matrix of the errors is correctly specified.\n",
       "\"\"\""
      ]
     },
     "execution_count": 22,
     "metadata": {},
     "output_type": "execute_result"
    }
   ],
   "source": [
    "res.summary()"
   ]
  },
  {
   "cell_type": "markdown",
   "id": "6fb69768",
   "metadata": {
    "slideshow": {
     "slide_type": "slide"
    }
   },
   "source": [
    "* `Gelände[T.unkontaminiert]` ist signifikant\n",
    "* Allerdings ist das der Unterschied bei Alter = 0\n",
    "* Das ist Unsinn"
   ]
  },
  {
   "cell_type": "markdown",
   "id": "625dc4a8",
   "metadata": {
    "slideshow": {
     "slide_type": "fragment"
    }
   },
   "source": [
    "* Wir vergleichen im Alter von 8 und 9 Monaten"
   ]
  },
  {
   "cell_type": "code",
   "execution_count": 23,
   "id": "a36b6f32",
   "metadata": {},
   "outputs": [
    {
     "data": {
      "text/html": [
       "<div>\n",
       "<style scoped>\n",
       "    .dataframe tbody tr th:only-of-type {\n",
       "        vertical-align: middle;\n",
       "    }\n",
       "\n",
       "    .dataframe tbody tr th {\n",
       "        vertical-align: top;\n",
       "    }\n",
       "\n",
       "    .dataframe thead th {\n",
       "        text-align: right;\n",
       "    }\n",
       "</style>\n",
       "<table border=\"1\" class=\"dataframe\">\n",
       "  <thead>\n",
       "    <tr style=\"text-align: right;\">\n",
       "      <th></th>\n",
       "      <th>Alter</th>\n",
       "      <th>Gelände</th>\n",
       "    </tr>\n",
       "  </thead>\n",
       "  <tbody>\n",
       "    <tr>\n",
       "      <th>0</th>\n",
       "      <td>8</td>\n",
       "      <td>kontaminiert</td>\n",
       "    </tr>\n",
       "    <tr>\n",
       "      <th>1</th>\n",
       "      <td>8</td>\n",
       "      <td>unkontaminiert</td>\n",
       "    </tr>\n",
       "    <tr>\n",
       "      <th>2</th>\n",
       "      <td>9</td>\n",
       "      <td>kontaminiert</td>\n",
       "    </tr>\n",
       "    <tr>\n",
       "      <th>3</th>\n",
       "      <td>9</td>\n",
       "      <td>unkontaminiert</td>\n",
       "    </tr>\n",
       "  </tbody>\n",
       "</table>\n",
       "</div>"
      ],
      "text/plain": [
       "   Alter         Gelände\n",
       "0      8    kontaminiert\n",
       "1      8  unkontaminiert\n",
       "2      9    kontaminiert\n",
       "3      9  unkontaminiert"
      ]
     },
     "execution_count": 23,
     "metadata": {},
     "output_type": "execute_result"
    }
   ],
   "source": [
    "anfrage = pd.DataFrame()\n",
    "anfrage['Alter'] = [8,8,9,9]\n",
    "anfrage['Gelände'] = ['kontaminiert', 'unkontaminiert', 'kontaminiert', 'unkontaminiert']\n",
    "anfrage"
   ]
  },
  {
   "cell_type": "code",
   "execution_count": 24,
   "id": "3c5f8bea",
   "metadata": {
    "slideshow": {
     "slide_type": "slide"
    }
   },
   "outputs": [
    {
     "data": {
      "text/html": [
       "<div>\n",
       "<style scoped>\n",
       "    .dataframe tbody tr th:only-of-type {\n",
       "        vertical-align: middle;\n",
       "    }\n",
       "\n",
       "    .dataframe tbody tr th {\n",
       "        vertical-align: top;\n",
       "    }\n",
       "\n",
       "    .dataframe thead th {\n",
       "        text-align: right;\n",
       "    }\n",
       "</style>\n",
       "<table border=\"1\" class=\"dataframe\">\n",
       "  <thead>\n",
       "    <tr style=\"text-align: right;\">\n",
       "      <th></th>\n",
       "      <th>mean</th>\n",
       "      <th>mean_se</th>\n",
       "      <th>mean_ci_lower</th>\n",
       "      <th>mean_ci_upper</th>\n",
       "      <th>obs_ci_lower</th>\n",
       "      <th>obs_ci_upper</th>\n",
       "    </tr>\n",
       "  </thead>\n",
       "  <tbody>\n",
       "    <tr>\n",
       "      <th>0</th>\n",
       "      <td>67.564695</td>\n",
       "      <td>2.037898</td>\n",
       "      <td>63.265107</td>\n",
       "      <td>71.864283</td>\n",
       "      <td>53.358146</td>\n",
       "      <td>81.771244</td>\n",
       "    </tr>\n",
       "    <tr>\n",
       "      <th>1</th>\n",
       "      <td>56.466728</td>\n",
       "      <td>2.284487</td>\n",
       "      <td>51.646882</td>\n",
       "      <td>61.286575</td>\n",
       "      <td>42.094168</td>\n",
       "      <td>70.839289</td>\n",
       "    </tr>\n",
       "    <tr>\n",
       "      <th>2</th>\n",
       "      <td>71.113678</td>\n",
       "      <td>2.182221</td>\n",
       "      <td>66.509596</td>\n",
       "      <td>75.717761</td>\n",
       "      <td>56.812030</td>\n",
       "      <td>85.415327</td>\n",
       "    </tr>\n",
       "    <tr>\n",
       "      <th>3</th>\n",
       "      <td>60.015712</td>\n",
       "      <td>2.074920</td>\n",
       "      <td>55.638014</td>\n",
       "      <td>64.393409</td>\n",
       "      <td>45.785328</td>\n",
       "      <td>74.246095</td>\n",
       "    </tr>\n",
       "  </tbody>\n",
       "</table>\n",
       "</div>"
      ],
      "text/plain": [
       "        mean   mean_se  mean_ci_lower  mean_ci_upper  obs_ci_lower  \\\n",
       "0  67.564695  2.037898      63.265107      71.864283     53.358146   \n",
       "1  56.466728  2.284487      51.646882      61.286575     42.094168   \n",
       "2  71.113678  2.182221      66.509596      75.717761     56.812030   \n",
       "3  60.015712  2.074920      55.638014      64.393409     45.785328   \n",
       "\n",
       "   obs_ci_upper  \n",
       "0     81.771244  \n",
       "1     70.839289  \n",
       "2     85.415327  \n",
       "3     74.246095  "
      ]
     },
     "execution_count": 24,
     "metadata": {},
     "output_type": "execute_result"
    }
   ],
   "source": [
    "res.get_prediction(anfrage).summary_frame()"
   ]
  },
  {
   "cell_type": "markdown",
   "id": "ce64dd22",
   "metadata": {},
   "source": [
    "* Relevant sind hier die Konfidenzintervalle für die Mittelwerte\n",
    "* Alter = 8 Monate\n",
    "  * untere Vertrauensgrenze für Bleibelastung auf kontaminiertem Gelände: 63.27\n",
    "  * obere Vertrauensgrenze für Bleibelastung auf unkontaminíertem Gelände: 61.29\n",
    "* Zum Signifikanzniveau $\\alpha = 0.95$ ist der Unterschied in der Bleibelastung signifikant"
   ]
  },
  {
   "cell_type": "markdown",
   "id": "c193a815",
   "metadata": {},
   "source": [
    "* Für das Alter von 9 Monaten gilt das genauso"
   ]
  },
  {
   "cell_type": "code",
   "execution_count": 25,
   "id": "d483308b",
   "metadata": {
    "slideshow": {
     "slide_type": "slide"
    }
   },
   "outputs": [
    {
     "data": {
      "text/html": [
       "<div>\n",
       "<style scoped>\n",
       "    .dataframe tbody tr th:only-of-type {\n",
       "        vertical-align: middle;\n",
       "    }\n",
       "\n",
       "    .dataframe tbody tr th {\n",
       "        vertical-align: top;\n",
       "    }\n",
       "\n",
       "    .dataframe thead th {\n",
       "        text-align: right;\n",
       "    }\n",
       "</style>\n",
       "<table border=\"1\" class=\"dataframe\">\n",
       "  <thead>\n",
       "    <tr style=\"text-align: right;\">\n",
       "      <th></th>\n",
       "      <th>mean</th>\n",
       "      <th>mean_se</th>\n",
       "      <th>mean_ci_lower</th>\n",
       "      <th>mean_ci_upper</th>\n",
       "      <th>obs_ci_lower</th>\n",
       "      <th>obs_ci_upper</th>\n",
       "    </tr>\n",
       "  </thead>\n",
       "  <tbody>\n",
       "    <tr>\n",
       "      <th>0</th>\n",
       "      <td>67.564695</td>\n",
       "      <td>2.037898</td>\n",
       "      <td>62.333546</td>\n",
       "      <td>72.795844</td>\n",
       "      <td>50.280117</td>\n",
       "      <td>84.849274</td>\n",
       "    </tr>\n",
       "    <tr>\n",
       "      <th>1</th>\n",
       "      <td>56.466728</td>\n",
       "      <td>2.284487</td>\n",
       "      <td>50.602601</td>\n",
       "      <td>62.330856</td>\n",
       "      <td>38.980170</td>\n",
       "      <td>73.953287</td>\n",
       "    </tr>\n",
       "    <tr>\n",
       "      <th>2</th>\n",
       "      <td>71.113678</td>\n",
       "      <td>2.182221</td>\n",
       "      <td>65.512062</td>\n",
       "      <td>76.715294</td>\n",
       "      <td>53.713396</td>\n",
       "      <td>88.513961</td>\n",
       "    </tr>\n",
       "    <tr>\n",
       "      <th>3</th>\n",
       "      <td>60.015712</td>\n",
       "      <td>2.074920</td>\n",
       "      <td>54.689530</td>\n",
       "      <td>65.341893</td>\n",
       "      <td>42.702135</td>\n",
       "      <td>77.329289</td>\n",
       "    </tr>\n",
       "  </tbody>\n",
       "</table>\n",
       "</div>"
      ],
      "text/plain": [
       "        mean   mean_se  mean_ci_lower  mean_ci_upper  obs_ci_lower  \\\n",
       "0  67.564695  2.037898      62.333546      72.795844     50.280117   \n",
       "1  56.466728  2.284487      50.602601      62.330856     38.980170   \n",
       "2  71.113678  2.182221      65.512062      76.715294     53.713396   \n",
       "3  60.015712  2.074920      54.689530      65.341893     42.702135   \n",
       "\n",
       "   obs_ci_upper  \n",
       "0     84.849274  \n",
       "1     73.953287  \n",
       "2     88.513961  \n",
       "3     77.329289  "
      ]
     },
     "execution_count": 25,
     "metadata": {},
     "output_type": "execute_result"
    }
   ],
   "source": [
    "res.get_prediction(anfrage).summary_frame(alpha=0.02)"
   ]
  },
  {
   "cell_type": "markdown",
   "id": "7e22b4c3",
   "metadata": {},
   "source": [
    "* Für das Konfidenzniveau $1-\\alpha=0.98$ ist die untere Vertrauensgrenze für Bleibelastung auf kontaminiertem Gelände immer noch größer als die obere Vertrauensgrenze für Bleibelastung auf unkontaminíertem Gelände\n",
    "* Der *p*-Wert ist also kleiner als 0.02"
   ]
  }
 ],
 "metadata": {
  "celltoolbar": "Slideshow",
  "kernelspec": {
   "display_name": "Python 3 (ipykernel)",
   "language": "python",
   "name": "python3"
  },
  "language_info": {
   "codemirror_mode": {
    "name": "ipython",
    "version": 3
   },
   "file_extension": ".py",
   "mimetype": "text/x-python",
   "name": "python",
   "nbconvert_exporter": "python",
   "pygments_lexer": "ipython3",
   "version": "3.12.7"
  }
 },
 "nbformat": 4,
 "nbformat_minor": 5
}
