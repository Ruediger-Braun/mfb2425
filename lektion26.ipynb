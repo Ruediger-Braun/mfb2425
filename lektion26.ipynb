{
 "cells": [
  {
   "cell_type": "markdown",
   "id": "14e2c18d",
   "metadata": {
    "slideshow": {
     "slide_type": "slide"
    }
   },
   "source": [
    "# Mathematik für Biologiestudierende II\n",
    "\n",
    "Sommersemester 2025\n",
    "\n",
    "24.06.2025\n",
    "\n",
    "&copy; 2025 Prof. Dr. Rüdiger W. Braun "
   ]
  },
  {
   "cell_type": "markdown",
   "id": "899ed73e",
   "metadata": {
    "slideshow": {
     "slide_type": "slide"
    }
   },
   "source": [
    "# Themen\n",
    "\n"
   ]
  },
  {
   "cell_type": "code",
   "execution_count": null,
   "id": "8b9b1d6a",
   "metadata": {
    "slideshow": {
     "slide_type": "slide"
    }
   },
   "outputs": [],
   "source": [
    "import numpy as np\n",
    "np.set_printoptions(legacy='1.21')\n",
    "import pandas as pd\n",
    "from scipy import stats\n",
    "import seaborn as sns\n",
    "sns.set_theme()\n",
    "import statsmodels.formula.api as smf"
   ]
  },
  {
   "cell_type": "markdown",
   "id": "bb035858",
   "metadata": {
    "slideshow": {
     "slide_type": "slide"
    }
   },
   "source": [
    "# Multikollinearität"
   ]
  },
  {
   "cell_type": "markdown",
   "id": "1c7cc59c",
   "metadata": {
    "slideshow": {
     "slide_type": "slide"
    }
   },
   "source": [
    "* eine Menge von Größen ist *kollinear*, wenn sich eine von ihnen linear aus den anderen bestimmen lässt\n",
    "* \"linear\" heißt durch Addition und Multiplikation mit Skalaren "
   ]
  },
  {
   "cell_type": "markdown",
   "id": "58168d95",
   "metadata": {
    "slideshow": {
     "slide_type": "fragment"
    }
   },
   "source": [
    "In Lektion 25 gesehen:\n",
    "\n",
    "> midparentHeight = (father + 1.08 * mother)/2"
   ]
  },
  {
   "cell_type": "markdown",
   "id": "f79b8807",
   "metadata": {
    "slideshow": {
     "slide_type": "fragment"
    }
   },
   "source": [
    "* also sind `father`, `mother` und `childHeight` kollinear\n",
    "* Multikollinearität im statistischen Sinne liegt bereits dann vor, wenn eine Gleichung wie die obige fast zutrifft"
   ]
  },
  {
   "cell_type": "markdown",
   "id": "37b999ed",
   "metadata": {
    "slideshow": {
     "slide_type": "fragment"
    }
   },
   "source": [
    "* eine Maßzahl für Multikollinearität ist die Konditionszahl"
   ]
  },
  {
   "cell_type": "markdown",
   "id": "b19c062c",
   "metadata": {
    "slideshow": {
     "slide_type": "slide"
    }
   },
   "source": [
    "# Konditionszahl"
   ]
  },
  {
   "cell_type": "code",
   "execution_count": null,
   "id": "4e90b49a",
   "metadata": {
    "slideshow": {
     "slide_type": "slide"
    }
   },
   "outputs": [],
   "source": [
    "df = pd.read_csv('galton.csv')"
   ]
  },
  {
   "cell_type": "code",
   "execution_count": null,
   "id": "8da5e20e",
   "metadata": {
    "slideshow": {
     "slide_type": "-"
    }
   },
   "outputs": [],
   "source": [
    "formel = \"childHeight ~ father + mother\"\n",
    "model = smf.ols(formel, df)"
   ]
  },
  {
   "cell_type": "code",
   "execution_count": null,
   "id": "a0c6e2e1",
   "metadata": {},
   "outputs": [],
   "source": [
    "res = model.fit()"
   ]
  },
  {
   "cell_type": "code",
   "execution_count": null,
   "id": "c46aba21",
   "metadata": {
    "slideshow": {
     "slide_type": "slide"
    }
   },
   "outputs": [],
   "source": [
    "res.summary()"
   ]
  },
  {
   "cell_type": "markdown",
   "id": "530b850a",
   "metadata": {
    "slideshow": {
     "slide_type": "slide"
    }
   },
   "source": [
    "* `condition number` bedeutet Konditionszahl"
   ]
  },
  {
   "cell_type": "markdown",
   "id": "e638c1ec",
   "metadata": {
    "slideshow": {
     "slide_type": "fragment"
    }
   },
   "source": [
    "* Um das Modell zu berechnen, muss ein lineares Gleichungssystem gelöst werden\n",
    "* Je größer die Konditionszahl, umso schwieriger ist die Berechnung der Lösung\n",
    "* Für den Nutzer bedeutet das, dass die ausgegebenen Werte mit Unsicherheiten behaftet sind\n",
    "* und im Extremfall sogar falsch"
   ]
  },
  {
   "cell_type": "markdown",
   "id": "496348dd",
   "metadata": {
    "slideshow": {
     "slide_type": "fragment"
    }
   },
   "source": [
    "* eine Konditionszahl von 4000 ist aber noch nicht besorgniserregend groß"
   ]
  },
  {
   "cell_type": "markdown",
   "id": "80228fa4",
   "metadata": {
    "slideshow": {
     "slide_type": "slide"
    }
   },
   "source": [
    "#### Ein nicht statistisches Beispiel mit schlechter Konditionszahl"
   ]
  },
  {
   "cell_type": "markdown",
   "id": "ee65b98b",
   "metadata": {},
   "source": [
    "Wir betrachten das Gleichungssystem\n",
    "$$\n",
    "    \\begin{aligned}\n",
    "        x + y &= 1 \\\\\n",
    "        x + 1.0000001 y &= 1.001\n",
    "    \\end{aligned}\n",
    "$$\n"
   ]
  },
  {
   "cell_type": "markdown",
   "id": "ee68b07f",
   "metadata": {
    "slideshow": {
     "slide_type": "fragment"
    }
   },
   "source": [
    "Die Lösung ist\n",
    "$$\n",
    "    x = -9999, y = 10000\n",
    "$$"
   ]
  },
  {
   "cell_type": "markdown",
   "id": "dd8130d3",
   "metadata": {
    "slideshow": {
     "slide_type": "fragment"
    }
   },
   "source": [
    "* Die Konditionszahl des Gleichungssystems kann mit `numpy` ausgerechnet werden\n",
    "* Sie beträgt 40000001.9"
   ]
  },
  {
   "cell_type": "markdown",
   "id": "06f9f417",
   "metadata": {
    "slideshow": {
     "slide_type": "fragment"
    }
   },
   "source": [
    "* Modelle mit schechter Konditionszahl müssen vermieden werden\n",
    "* Wenn das Gleichungssystem aus dem Beispiel aus der Biologie käme, dann wären die Zahlen Messwerte\n",
    "* also mit Unsicherheiten behaftet"
   ]
  },
  {
   "cell_type": "markdown",
   "id": "87f39fe1",
   "metadata": {
    "slideshow": {
     "slide_type": "fragment"
    }
   },
   "source": [
    "* In einem System mit schlechter Konditionszahl führen winzige Messungenauigkeiten bereits zu völlig unsinnigen Ergebnissen"
   ]
  },
  {
   "cell_type": "markdown",
   "id": "0ef6d578",
   "metadata": {
    "slideshow": {
     "slide_type": "slide"
    }
   },
   "source": [
    "#### Beispiel mit wirklich schlechter Kondition"
   ]
  },
  {
   "cell_type": "code",
   "execution_count": null,
   "id": "10e0c2fb",
   "metadata": {},
   "outputs": [],
   "source": [
    "formel = \"childHeight ~ father + mother + midparentHeight\""
   ]
  },
  {
   "cell_type": "code",
   "execution_count": null,
   "id": "989c7a62",
   "metadata": {},
   "outputs": [],
   "source": [
    "modell = smf.ols(formel, df)\n",
    "res = modell.fit()"
   ]
  },
  {
   "cell_type": "code",
   "execution_count": null,
   "id": "5c723e41",
   "metadata": {
    "slideshow": {
     "slide_type": "slide"
    }
   },
   "outputs": [],
   "source": [
    "res.summary()"
   ]
  },
  {
   "cell_type": "markdown",
   "id": "09356c19",
   "metadata": {
    "slideshow": {
     "slide_type": "slide"
    }
   },
   "source": [
    "> midparentHeight = (father + 1.08 * mother)/2\n",
    "\n",
    "* Daher kann man aus diesen drei Größen beliebig viele unterschiedliche Modelle bauen, die alle dasselbe vorhersagen\n",
    "* Andererseits ist das Modell enorm empfindlich gegenüber Änderungen der Ausgangsdaten"
   ]
  },
  {
   "cell_type": "markdown",
   "id": "c07cdaa7",
   "metadata": {
    "slideshow": {
     "slide_type": "fragment"
    }
   },
   "source": [
    "* Wir ändern die Daten um ein winziges bisschen\n",
    "* Wir machen alle Mütter um 3µm kleiner"
   ]
  },
  {
   "cell_type": "code",
   "execution_count": null,
   "id": "e8532195",
   "metadata": {
    "slideshow": {
     "slide_type": "fragment"
    }
   },
   "outputs": [],
   "source": [
    "df['m1'] = df.mother - 0.0001"
   ]
  },
  {
   "cell_type": "code",
   "execution_count": null,
   "id": "9c8f2058",
   "metadata": {
    "slideshow": {
     "slide_type": "fragment"
    }
   },
   "outputs": [],
   "source": [
    "f1 = \"childHeight ~ m1 + father + midparentHeight\"\n",
    "m1 = smf.ols(f1, df)\n",
    "r1 = m1.fit()"
   ]
  },
  {
   "cell_type": "code",
   "execution_count": null,
   "id": "75ac75b2",
   "metadata": {
    "slideshow": {
     "slide_type": "slide"
    }
   },
   "outputs": [],
   "source": [
    "r1.summary()"
   ]
  },
  {
   "cell_type": "markdown",
   "id": "aa265c0e",
   "metadata": {
    "slideshow": {
     "slide_type": "fragment"
    }
   },
   "source": [
    "Ein offenkundig sinnloses Modell"
   ]
  },
  {
   "cell_type": "markdown",
   "id": "5733c025",
   "metadata": {
    "slideshow": {
     "slide_type": "slide"
    }
   },
   "source": [
    "Das Problem ist, dass Multikollinearität in der Praxis häufig verborgen ist"
   ]
  },
  {
   "cell_type": "markdown",
   "id": "24c95e28",
   "metadata": {
    "slideshow": {
     "slide_type": "slide"
    }
   },
   "source": [
    "# Kategorielle Daten"
   ]
  },
  {
   "cell_type": "code",
   "execution_count": null,
   "id": "4c79dc82",
   "metadata": {
    "slideshow": {
     "slide_type": "slide"
    }
   },
   "outputs": [],
   "source": [
    "df = pd.read_csv('kinder.csv')\n",
    "df.head()"
   ]
  },
  {
   "cell_type": "code",
   "execution_count": null,
   "id": "27981fb0",
   "metadata": {},
   "outputs": [],
   "source": [
    "sns.lmplot(df, x='father', y='childHeight', hue='gender');"
   ]
  },
  {
   "cell_type": "code",
   "execution_count": null,
   "id": "dc01031c",
   "metadata": {
    "slideshow": {
     "slide_type": "slide"
    }
   },
   "outputs": [],
   "source": [
    "formel = 'childHeight ~ father + mother + gender'\n",
    "modell = smf.ols(formel, df)"
   ]
  },
  {
   "cell_type": "code",
   "execution_count": null,
   "id": "8a28d33b",
   "metadata": {},
   "outputs": [],
   "source": [
    "res = modell.fit()"
   ]
  },
  {
   "cell_type": "code",
   "execution_count": null,
   "id": "738516a9",
   "metadata": {
    "scrolled": true,
    "slideshow": {
     "slide_type": "slide"
    }
   },
   "outputs": [],
   "source": [
    "res.summary()"
   ]
  },
  {
   "cell_type": "markdown",
   "id": "a8d27a91",
   "metadata": {
    "slideshow": {
     "slide_type": "fragment"
    }
   },
   "source": [
    "Hier wird eine Fallunterscheidung kodiert\n",
    "\n",
    "$$\n",
    "    \\text{childHeight} = 16.5212 + 0.3928 \\cdot \\text{father} + 0.13176 \\cdot \\text{mother} + \n",
    "    \\begin{cases}\n",
    "        0.0 & \\text{wenn Mädchen,} \\\\\n",
    "        5.215 & \\text{wenn Junge.}\n",
    "    \\end{cases}\n",
    "$$"
   ]
  },
  {
   "cell_type": "markdown",
   "id": "530ada62",
   "metadata": {
    "slideshow": {
     "slide_type": "slide"
    }
   },
   "source": [
    "Die Terminologie kommt offenbar aus der Pharmazie:\n",
    "\n",
    "* `female` ist hier der Standard (engl. \"default\")\n",
    "* alles, was vom Standard abweicht, ist eine Behandlung (engl. \"treatment\")\n",
    "* was default und was treatment ist, entscheidet das Programm"
   ]
  },
  {
   "cell_type": "markdown",
   "id": "12df4400",
   "metadata": {
    "slideshow": {
     "slide_type": "slide"
    }
   },
   "source": [
    "## Prediction im kategoriellen Fall"
   ]
  },
  {
   "cell_type": "markdown",
   "id": "ec83bbf7",
   "metadata": {
    "slideshow": {
     "slide_type": "fragment"
    }
   },
   "source": [
    "Beispiel aus Lektion 25"
   ]
  },
  {
   "cell_type": "code",
   "execution_count": null,
   "id": "3fbf60d6",
   "metadata": {},
   "outputs": [],
   "source": [
    "anfrage = pd.DataFrame()\n",
    "anfrage['father'] = [68.9]\n",
    "anfrage['mother'] = [66.4]\n",
    "anfrage['gender'] = ['male']\n",
    "anfrage"
   ]
  },
  {
   "cell_type": "code",
   "execution_count": null,
   "id": "a3f428e1",
   "metadata": {},
   "outputs": [],
   "source": [
    "res.get_prediction(anfrage).summary_frame()"
   ]
  },
  {
   "cell_type": "markdown",
   "id": "75eeb315",
   "metadata": {
    "slideshow": {
     "slide_type": "fragment"
    }
   },
   "source": [
    "* In Lektion 25 war 69.91 herausgekommen\n",
    "* Dies ist kein Rundungsfehler\n",
    "* Es wird eine gemeinsame Steigung für alle Kinder berechnet"
   ]
  },
  {
   "cell_type": "code",
   "execution_count": null,
   "id": "2f48f95a",
   "metadata": {},
   "outputs": [],
   "source": []
  }
 ],
 "metadata": {
  "celltoolbar": "Slideshow",
  "kernelspec": {
   "display_name": "Python 3 (ipykernel)",
   "language": "python",
   "name": "python3"
  },
  "language_info": {
   "codemirror_mode": {
    "name": "ipython",
    "version": 3
   },
   "file_extension": ".py",
   "mimetype": "text/x-python",
   "name": "python",
   "nbconvert_exporter": "python",
   "pygments_lexer": "ipython3",
   "version": "3.11.10"
  }
 },
 "nbformat": 4,
 "nbformat_minor": 5
}
