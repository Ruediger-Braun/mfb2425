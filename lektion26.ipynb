{
 "cells": [
  {
   "cell_type": "markdown",
   "id": "14e2c18d",
   "metadata": {
    "slideshow": {
     "slide_type": "slide"
    }
   },
   "source": [
    "# Mathematik für Biologiestudierende II\n",
    "\n",
    "Sommersemester 2025\n",
    "\n",
    "24.06.2025\n",
    "\n",
    "&copy; 2025 Prof. Dr. Rüdiger W. Braun "
   ]
  },
  {
   "cell_type": "markdown",
   "id": "899ed73e",
   "metadata": {
    "slideshow": {
     "slide_type": "slide"
    }
   },
   "source": [
    "# Themen\n",
    "\n"
   ]
  },
  {
   "cell_type": "code",
   "execution_count": null,
   "id": "8b9b1d6a",
   "metadata": {
    "slideshow": {
     "slide_type": "slide"
    }
   },
   "outputs": [],
   "source": [
    "import numpy as np\n",
    "np.set_printoptions(legacy='1.21')\n",
    "import pandas as pd\n",
    "from scipy import stats\n",
    "import seaborn as sns\n",
    "sns.set_theme()\n",
    "import statsmodels.formula.api as smf"
   ]
  },
  {
   "cell_type": "markdown",
   "id": "bb035858",
   "metadata": {
    "slideshow": {
     "slide_type": "slide"
    }
   },
   "source": [
    "# Vorhersagen bei mehreren erklärenden Variablen"
   ]
  },
  {
   "cell_type": "code",
   "execution_count": null,
   "id": "4e90b49a",
   "metadata": {
    "slideshow": {
     "slide_type": "slide"
    }
   },
   "outputs": [],
   "source": [
    "df = pd.read_csv('galton.csv')\n",
    "df.describe()"
   ]
  },
  {
   "cell_type": "code",
   "execution_count": null,
   "id": "cad50b83",
   "metadata": {},
   "outputs": [],
   "source": [
    "df.gender.value_counts()"
   ]
  },
  {
   "cell_type": "code",
   "execution_count": null,
   "id": "8da5e20e",
   "metadata": {
    "slideshow": {
     "slide_type": "slide"
    }
   },
   "outputs": [],
   "source": [
    "formel = \"childHeight ~ father + mother\"\n",
    "model = smf.ols(formel, df)"
   ]
  },
  {
   "cell_type": "code",
   "execution_count": null,
   "id": "a0c6e2e1",
   "metadata": {},
   "outputs": [],
   "source": [
    "res = model.fit()"
   ]
  },
  {
   "cell_type": "code",
   "execution_count": null,
   "id": "c46aba21",
   "metadata": {
    "slideshow": {
     "slide_type": "slide"
    }
   },
   "outputs": [],
   "source": [
    "res.summary()"
   ]
  },
  {
   "cell_type": "markdown",
   "id": "b19c062c",
   "metadata": {
    "slideshow": {
     "slide_type": "slide"
    }
   },
   "source": [
    "# Konditionszahl"
   ]
  },
  {
   "cell_type": "markdown",
   "id": "e638c1ec",
   "metadata": {
    "slideshow": {
     "slide_type": "slide"
    }
   },
   "source": [
    "* `condition number` bedeutet Konditionszahl\n",
    "* Um das Modell zu berechnen, muss ein lineares Gleichungssystem gelöst werden\n",
    "* Je größer die Konditionszahl, umso schwieriger ist die Berechnung der Lösung\n",
    "* Für den Nutzer bedeutet das, dass die ausgegebenen Werte mit Unsicherheiten behaftet sind\n",
    "* und im Extremfall sogar falsch"
   ]
  },
  {
   "cell_type": "markdown",
   "id": "496348dd",
   "metadata": {
    "slideshow": {
     "slide_type": "fragment"
    }
   },
   "source": [
    "* eine Konditionszahl von 4000 ist aber noch nicht besorgniserregend groß"
   ]
  },
  {
   "cell_type": "markdown",
   "id": "0ef6d578",
   "metadata": {
    "slideshow": {
     "slide_type": "slide"
    }
   },
   "source": [
    "#### Beispiel mit wirklich schlechter Kondition"
   ]
  },
  {
   "cell_type": "code",
   "execution_count": null,
   "id": "10e0c2fb",
   "metadata": {},
   "outputs": [],
   "source": [
    "formel = \"childHeight ~ father + mother + midparentHeight\""
   ]
  },
  {
   "cell_type": "code",
   "execution_count": null,
   "id": "989c7a62",
   "metadata": {},
   "outputs": [],
   "source": [
    "modell = smf.ols(formel, df)\n",
    "res = modell.fit()"
   ]
  },
  {
   "cell_type": "code",
   "execution_count": null,
   "id": "5c723e41",
   "metadata": {
    "slideshow": {
     "slide_type": "slide"
    }
   },
   "outputs": [],
   "source": [
    "res.summary()"
   ]
  },
  {
   "cell_type": "markdown",
   "id": "58168d95",
   "metadata": {
    "slideshow": {
     "slide_type": "fragment"
    }
   },
   "source": [
    "In Lektion 25 gesehen:\n",
    "\n",
    "> midparentHeight = (father + 1.08 * mother)/2"
   ]
  },
  {
   "cell_type": "markdown",
   "id": "09356c19",
   "metadata": {},
   "source": [
    "* Warum führt das zu Problemen?"
   ]
  }
 ],
 "metadata": {
  "celltoolbar": "Slideshow",
  "kernelspec": {
   "display_name": "Python 3 (ipykernel)",
   "language": "python",
   "name": "python3"
  },
  "language_info": {
   "codemirror_mode": {
    "name": "ipython",
    "version": 3
   },
   "file_extension": ".py",
   "mimetype": "text/x-python",
   "name": "python",
   "nbconvert_exporter": "python",
   "pygments_lexer": "ipython3",
   "version": "3.11.10"
  }
 },
 "nbformat": 4,
 "nbformat_minor": 5
}
