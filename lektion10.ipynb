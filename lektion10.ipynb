{
 "cells": [
  {
   "cell_type": "markdown",
   "id": "97e910de",
   "metadata": {
    "slideshow": {
     "slide_type": "slide"
    }
   },
   "source": [
    "# Mathematik für Biologiestudierende\n",
    "\n",
    "Wintersemester 2024/25\n",
    "\n",
    "11.12.2024\n",
    "\n",
    "&copy; 2024 Prof. Dr. Rüdiger W. Braun "
   ]
  },
  {
   "cell_type": "markdown",
   "id": "1fba292e",
   "metadata": {
    "slideshow": {
     "slide_type": "slide"
    }
   },
   "source": [
    "# Differentialrechnung "
   ]
  },
  {
   "cell_type": "markdown",
   "id": "f29afe17",
   "metadata": {
    "slideshow": {
     "slide_type": "slide"
    }
   },
   "source": [
    "Differentialrechnung kommt in der Biologie vor\n",
    "\n",
    "* Bestimmung von Maxima und Minima:  mehrdimensionale Kurvendiskussion\n",
    "  * in der Statistik\n",
    "    * Maximum-Likelihood Schätzer \n",
    "    * z.B. in der Statistik linearer Modelle (Thema im zweiten Semester, passiert aber \"unter der Haube\")\n",
    "* Bei der Modellierung von Prozessen:  Dynamische Systeme\n",
    "* Integrale:  die Verteilungsfunktionen von kontinuierlichen Zufallsvariablen sind Integrale"
   ]
  },
  {
   "cell_type": "markdown",
   "id": "814d8228",
   "metadata": {
    "slideshow": {
     "slide_type": "slide"
    }
   },
   "source": [
    "### Ableitung als Tangentensteigung\n",
    "\n",
    "<img src=\"bilder/skizze_abl.svg\" alt=\"Funktion und Tangente\" width=\"45%\"/>"
   ]
  },
  {
   "cell_type": "markdown",
   "id": "30e0fbc6",
   "metadata": {
    "slideshow": {
     "slide_type": "slide"
    }
   },
   "source": [
    "Die *Ableitung* einer Funktion $f$ an einer Stelle $x$ gibt die Steigung der Tangente in $x$ an"
   ]
  },
  {
   "cell_type": "markdown",
   "id": "11772efc",
   "metadata": {
    "slideshow": {
     "slide_type": "slide"
    }
   },
   "source": [
    "Die Tangentensteigung wird durch Sekantensteigungen approximiert\n",
    "\n",
    "<img src=\"bilder/skizze_sek1.svg\" alt=\"Funktion und Tangente\" width=\"45%\"/>"
   ]
  },
  {
   "cell_type": "markdown",
   "id": "27d3047d",
   "metadata": {
    "slideshow": {
     "slide_type": "slide"
    }
   },
   "source": [
    "## Ableitungen wichtiger Funktionen\n",
    "\\begin{align*}\n",
    "    f(x) &= C & f'(x) &= 0 & \\text{Konstante} \\\\[2ex]\n",
    "    f(x) &= x^n & f'(x) &= n \\cdot x^{n-1} \\\\[2ex]\n",
    "    f(x) &= \\frac1x & f'(x) &= -\\frac1{x^2} \\\\[2ex]\n",
    "    f(x) &= \\exp(x) & f'(x) &= \\exp(x) \\\\[2ex]\n",
    "    f(x) &= \\ln(x) & f'(x) &= \\frac1x \n",
    "\\end{align*}"
   ]
  },
  {
   "cell_type": "markdown",
   "id": "7bf13a6f",
   "metadata": {
    "slideshow": {
     "slide_type": "slide"
    }
   },
   "source": [
    "# Ableitungsregeln\n",
    "\n",
    "| $$ h(x) $$         |   $$ h'(x) $$                         |              |\n",
    "|:------------------:|:-------------------------------------:|:-------------|\n",
    "| $Cf(x)$            |   $C f'(x)$                           |              |\n",
    "| $f(x) + g(x)$      |  $f'(x) + g'(x)$                      |              |\n",
    "| $f(x) \\cdot g(x)$  | $f'(x) \\cdot g(x) + f(x) \\cdot g'(x)$ | Produktregel |\n",
    "| $f(g(x))$          | $f'(g(x)) \\cdot g'(x)$                | Kettenregel  |\n",
    "\n",
    "Hierbei ist $C$ eine Konstante"
   ]
  },
  {
   "cell_type": "markdown",
   "id": "46d44224",
   "metadata": {
    "slideshow": {
     "slide_type": "slide"
    }
   },
   "source": [
    "### Beispiel\n",
    "\n",
    "$f(x) = x^2 \\cdot \\exp(-x)$\n",
    "\n",
    "\\begin{align*}\n",
    "  f'(x) &= \\left(x^2\\right)' \\cdot \\exp(-x) + x^2 \\cdot \\left( \\exp(-x) \\right)' & & \\text{Produktregel} \\\\\n",
    "  &= 2x \\cdot \\exp(-x) + x^2 \\cdot(-1) \\cdot \\exp(-x) & & \\text{Kettenregel} \\\\\n",
    "  &= \\left( 2x - x^2 \\right) \\cdot \\exp(-x) & & \\text{Distributivgesetz}\n",
    "\\end{align*}"
   ]
  },
  {
   "cell_type": "markdown",
   "id": "1f077b34",
   "metadata": {
    "slideshow": {
     "slide_type": "slide"
    }
   },
   "source": [
    "## Qualitatives Verhalten\n",
    "\n",
    "* wenn $f'(x)>0$, dann wächst die Funktion\n",
    "* wenn $f'(x)<0$, dann fällt sie"
   ]
  },
  {
   "cell_type": "markdown",
   "id": "d7679807",
   "metadata": {
    "slideshow": {
     "slide_type": "slide"
    }
   },
   "source": [
    "## Beispiel:  Inflation\n",
    "\n",
    "* die Inflationsrate ist die Ableitung des Preises"
   ]
  },
  {
   "cell_type": "markdown",
   "id": "a883c77c",
   "metadata": {
    "slideshow": {
     "slide_type": "fragment"
    }
   },
   "source": [
    "* seit unvordenklichen Zeiten ist die Inflationsrate positiv:  Preise steigen\n",
    "* in 2022 stieg auch die Inflationsrate:  Preise steigen noch schlimmer\n",
    "* in 2024 ist die Inflationsrate gefallen (2.5% Inflation statt 10%):  Preise steigen"
   ]
  },
  {
   "cell_type": "markdown",
   "id": "03489860",
   "metadata": {
    "slideshow": {
     "slide_type": "slide"
    }
   },
   "source": [
    "### Ableitung als Grenzwert der Sekantensteigung\n",
    "\n",
    "<img src=\"bilder/skizze_sek1.svg\" alt=\"Funktion und Sekante\" width=\"45%\"/>\n",
    "\n",
    "$$ f'(x) = \\lim_{h\\to0} \\frac{f(x+h)-f(x)}h $$"
   ]
  },
  {
   "cell_type": "markdown",
   "id": "a076a104",
   "metadata": {
    "slideshow": {
     "slide_type": "slide"
    }
   },
   "source": [
    "### Beispiel\n",
    "\n",
    "$$\n",
    "f(x) = x^2 \\cdot \\exp(-x)\n",
    "$$\n",
    "\n",
    "$$  f'(x) = \\left( 2x - x^2 \\right) \\cdot \\exp(-x) $$"
   ]
  },
  {
   "cell_type": "markdown",
   "id": "efa0813a",
   "metadata": {
    "slideshow": {
     "slide_type": "slide"
    }
   },
   "source": [
    "## Abbildung für das Beispiel"
   ]
  },
  {
   "cell_type": "code",
   "execution_count": null,
   "id": "9372570f",
   "metadata": {},
   "outputs": [],
   "source": [
    "import numpy as np\n",
    "np.set_printoptions(legacy='1.21')\n",
    "import pandas as pd\n",
    "import seaborn as sns\n",
    "sns.set_theme()"
   ]
  },
  {
   "cell_type": "code",
   "execution_count": null,
   "id": "617913cb",
   "metadata": {
    "slideshow": {
     "slide_type": "fragment"
    }
   },
   "outputs": [],
   "source": [
    "df = pd.DataFrame()\n",
    "x = np.linspace(0, 10, 1000)\n",
    "df['x'] = x\n",
    "df['y'] = x**2 * np.exp(-x)\n",
    "df['ys'] = (2*x - x**2) * np.exp(-x)"
   ]
  },
  {
   "cell_type": "code",
   "execution_count": null,
   "id": "7de37198",
   "metadata": {
    "slideshow": {
     "slide_type": "slide"
    }
   },
   "outputs": [],
   "source": [
    "ax = sns.lineplot(data=df, x='x', y='y')"
   ]
  },
  {
   "cell_type": "code",
   "execution_count": null,
   "id": "40193330",
   "metadata": {
    "slideshow": {
     "slide_type": "slide"
    }
   },
   "outputs": [],
   "source": [
    "ax = sns.lineplot(data=df, x='x', y='ys')"
   ]
  },
  {
   "cell_type": "markdown",
   "id": "9954e7d1",
   "metadata": {
    "slideshow": {
     "slide_type": "slide"
    }
   },
   "source": [
    "## Qualitatives Verhalten\n",
    "\n",
    "* wenn $f'(x)>0$, dann wächst die Funktion\n",
    "* wenn $f'(x)<0$, dann fällt sie"
   ]
  },
  {
   "cell_type": "markdown",
   "id": "df102675",
   "metadata": {
    "slideshow": {
     "slide_type": "fragment"
    }
   },
   "source": [
    "Das bedeutet:  Für einen Hoch- oder Tiefpunkt $x_0$ von $f$ gilt $f'(x_0)=0$."
   ]
  },
  {
   "cell_type": "markdown",
   "id": "7f55609f",
   "metadata": {
    "slideshow": {
     "slide_type": "slide"
    }
   },
   "source": [
    "# Höhere Ableitungen"
   ]
  },
  {
   "cell_type": "markdown",
   "id": "9d59d846",
   "metadata": {},
   "source": [
    "* Die Ableitung der Ableitung nennt man zweite Ableitung und schreibt $f''(x)$ dafür\n",
    "* Zweite Ableitungen treten in der Physik (als Beschleunigung) und überhaupt bei dynamischen Systemen auf\n",
    "* \"Die Inflation hat sich abgeschwächt\" bedeutet: \"Die zweite Ableitung der Konsumentenpreise ist negativ\""
   ]
  },
  {
   "cell_type": "markdown",
   "id": "e8c15a91",
   "metadata": {
    "slideshow": {
     "slide_type": "slide"
    }
   },
   "source": [
    "## Beispiel\n",
    "\n",
    "$$ f(x) = x^2 \\cdot \\exp(-x) $$\n",
    "\n",
    "$$  f'(x) = \\left( 2x - x^2 \\right) \\cdot \\exp(-x) $$\n",
    "\n",
    "\\begin{align*}\n",
    "    f''(x) &= \\left( 2 - 2x \\right) \\cdot \\exp(-x) + \\left( 2x - x^2 \\right) (-x) \\exp(-x) && \\text{Produktregel} \\\\\n",
    "    &= \\left( 2 - 4x + x^2 \\right) \\cdot \\exp(-x)\n",
    "\\end{align*}"
   ]
  },
  {
   "cell_type": "markdown",
   "id": "03884e5c",
   "metadata": {
    "slideshow": {
     "slide_type": "slide"
    }
   },
   "source": [
    "* Wir wollen $f$, $f'$ und $f''$ in ein Bild zeichnen, und zwar mit <code>seaborn</code>\n",
    "* Im Gegensatz zu <code>df</code> von oben benötigen wir dazu ein DataFrame in <emph>Langform</emph>\n",
    "* Das bedeutet, dass die Werte $f(x)$, $f'(x)$ und $f''(x)$ alle in derselben Spalte stehen und durch einen kategoriellen Wert in einer weiteren Spalte unterschieden werden\n",
    "* Einige der statistische Auswertefunktionen erwarten die Daten in Langform"
   ]
  },
  {
   "cell_type": "code",
   "execution_count": null,
   "id": "5d2698c0",
   "metadata": {
    "slideshow": {
     "slide_type": "slide"
    }
   },
   "outputs": [],
   "source": [
    "d0 = pd.DataFrame()\n",
    "d0['x'] = x\n",
    "d0['y'] = x**2 * np.exp(-x)\n",
    "d0['Ableitung'] = \"nullte\"\n",
    "d1 = pd.DataFrame()\n",
    "d1['x'] = x\n",
    "d1['y'] = (2*x - x**2) * np.exp(-x)\n",
    "d1['Ableitung'] = \"erste\"\n",
    "df = pd.concat([d0, d1])\n",
    "d2 = pd.DataFrame()\n",
    "d2['x'] = x\n",
    "d2['y'] = (2-4*x+x**2) * np.exp(-x)\n",
    "d2['Ableitung'] = \"zweite\"\n",
    "df = pd.concat([d0, d1, d2], ignore_index=True)"
   ]
  },
  {
   "cell_type": "code",
   "execution_count": null,
   "id": "f2dd8a9f",
   "metadata": {
    "slideshow": {
     "slide_type": "slide"
    }
   },
   "outputs": [],
   "source": [
    "df[990:1010]"
   ]
  },
  {
   "cell_type": "code",
   "execution_count": null,
   "id": "5258315d",
   "metadata": {
    "slideshow": {
     "slide_type": "slide"
    }
   },
   "outputs": [],
   "source": [
    "import warnings\n",
    "sns.relplot(data=df, x='x', y='y', hue='Ableitung', kind='line');"
   ]
  },
  {
   "cell_type": "code",
   "execution_count": null,
   "id": "f37c892c",
   "metadata": {
    "slideshow": {
     "slide_type": "slide"
    }
   },
   "outputs": [],
   "source": [
    "sns.relplot(data=df, x='x', y='y', col='Ableitung', kind='line');"
   ]
  },
  {
   "cell_type": "markdown",
   "id": "c5e1a1dc",
   "metadata": {
    "slideshow": {
     "slide_type": "slide"
    }
   },
   "source": [
    "* <code>sns.lineplot</code>:  Eine einzelne Kurve\n",
    "* <code>sns.relplot(…, kind='line')</code>:  mehrere Kurven\n",
    "  * je nachdem, ob <code>hue</code> oder <code>col</code> zur Unterscheidung benutzt wird, erhält man einen oder mehrere Graphen"
   ]
  },
  {
   "cell_type": "markdown",
   "id": "092b5f78",
   "metadata": {
    "slideshow": {
     "slide_type": "fragment"
    }
   },
   "source": [
    "* <code>sns.scatterplot</code>:  Eine einzelne Punktwolke\n",
    "* <code>sns.relplot(…, kind='scatter')</code>:  mehrere Punktwolken"
   ]
  },
  {
   "cell_type": "markdown",
   "id": "6e6a73f9",
   "metadata": {
    "slideshow": {
     "slide_type": "slide"
    }
   },
   "source": [
    "## Beispiel:  Konzentrationen in einer Zelle\n",
    "\n",
    "* Die Konzentration eines bestimmten Proteins in einer Zelle zum Anfangszeitpunkt $t=0$ beträgt $0\\mu g/m\\ell$\n",
    "* Zuerst steigt sie schnell mit $0.8\\frac{\\mu g}{m\\ell\\cdot s}$\n",
    "* Nach 2 Sekunden steigt die Konzentration nicht mehr, das Protein wird von da an exponentiell abgebaut"
   ]
  },
  {
   "cell_type": "markdown",
   "id": "bacc7cc5",
   "metadata": {
    "slideshow": {
     "slide_type": "fragment"
    }
   },
   "source": [
    "### Modell\n",
    "\n",
    "$$ f(t) = A \\cdot t \\cdot \\exp(-b\\cdot t) $$\n",
    "\n",
    "\\begin{align*} f'(t) &= A \\cdot \\exp(-b \\cdot t) + A \\cdot t \\cdot(-b) \\cdot \\exp(-b \\cdot t)  \\\\\n",
    "&= (A - Abt) \\cdot \\exp(-b \\cdot t)\n",
    "\\end{align*}"
   ]
  },
  {
   "cell_type": "markdown",
   "id": "ecdc8c01",
   "metadata": {
    "slideshow": {
     "slide_type": "slide"
    }
   },
   "source": [
    "Wir haben zwei Gleichungen\n",
    "* f'(0) = 0.8\n",
    "* f'(2) = 0"
   ]
  },
  {
   "cell_type": "markdown",
   "id": "cd60752a",
   "metadata": {
    "slideshow": {
     "slide_type": "fragment"
    }
   },
   "source": [
    "Einsetzen\n",
    " \n",
    "* $f'(0) = A$, also $A=0.8$"
   ]
  },
  {
   "cell_type": "markdown",
   "id": "b1b85cec",
   "metadata": {
    "slideshow": {
     "slide_type": "fragment"
    }
   },
   "source": [
    "* $f'(2) = 0$, also $ (A - 2Ab) \\cdot \\exp(-2b) = 0 $\n",
    "\n",
    "* $\\exp(-2b)$ ist nicht Null, also muss $ A -2b = 0$ gelten, d.h. $b=0.5$\n"
   ]
  },
  {
   "cell_type": "markdown",
   "id": "9c5fe85a",
   "metadata": {
    "slideshow": {
     "slide_type": "slide"
    }
   },
   "source": [
    "Unser Modell ist also\n",
    "\n",
    "$$ f(t) = 0.8t \\cdot \\exp(-0.5t)\n",
    "$$"
   ]
  },
  {
   "cell_type": "code",
   "execution_count": null,
   "id": "9fc47a90",
   "metadata": {},
   "outputs": [],
   "source": [
    "t = np.linspace(0, 8)\n",
    "y = 0.8*t * np.exp(-0.5*t)\n",
    "ax = sns.lineplot(x=t, y=y)"
   ]
  },
  {
   "cell_type": "markdown",
   "id": "455e5eeb",
   "metadata": {
    "slideshow": {
     "slide_type": "slide"
    }
   },
   "source": [
    "* Maximum bei $t=2$, das ist eine der Ausgangsgleichungen\n",
    "* Wert dort"
   ]
  },
  {
   "cell_type": "code",
   "execution_count": null,
   "id": "c3ee47b8",
   "metadata": {},
   "outputs": [],
   "source": [
    "0.8 * 2 * np.exp(-0.5*2)"
   ]
  },
  {
   "cell_type": "markdown",
   "id": "13fbf5c6",
   "metadata": {
    "slideshow": {
     "slide_type": "slide"
    }
   },
   "source": [
    "# Integralrechnung"
   ]
  },
  {
   "cell_type": "markdown",
   "id": "55d1da8c",
   "metadata": {
    "slideshow": {
     "slide_type": "fragment"
    }
   },
   "source": [
    "## Flächeninhalt\n",
    "\n",
    "* $f(x)$ eine Funktion, die keine negativen Werte annimmt\n",
    "* $a$ und $b$ Intervallgrenzen\n",
    "* den Inhalt der Fläche unter $f(x)$ zwischen $a$ und $b$ bezeichnet man mit\n",
    "$$      \\int_a^b f(x) dx   $$\n",
    "* $ \\int_a^b f(x) dx $ ist das *Integral* von $f(x)$ in den Grenzen von $a$ bis $b$"
   ]
  },
  {
   "cell_type": "markdown",
   "id": "766bf8a1",
   "metadata": {
    "slideshow": {
     "slide_type": "slide"
    }
   },
   "source": [
    "### Skizze\n",
    "\n",
    "<img src=\"bilder/skizze_int3.svg\" alt=\"Integral als Fläche\" width=\"45%\"/>"
   ]
  },
  {
   "cell_type": "markdown",
   "id": "062a0a8e",
   "metadata": {
    "slideshow": {
     "slide_type": "slide"
    }
   },
   "source": [
    "* Funktion $f(x)$ darf nun auch negative Werte annehmen\n",
    "* Dann ist\n",
    "$$     \\int_a^b f(x) dx  $$\n",
    "  die Differenz zwischen dem Flächeninhalt oberhalb und dem Flächeninhalt unterhalb der $x$-Achse\n",
    "* $\\int_a^b f(x) dx$ ist also negativ, wenn die Fläche unterhalb der $x$-Achse größer ist als die Fläche oberhalb ist\n",
    "* Das Zeichen $\\int_a^b$ ist das \"bestimmte Integral\""
   ]
  },
  {
   "cell_type": "markdown",
   "id": "65191858",
   "metadata": {
    "slideshow": {
     "slide_type": "slide"
    }
   },
   "source": [
    "### Skizze\n",
    "\n",
    "<img src=\"bilder/skizze_int4.svg\" alt=\"Integral als Fläche\" width=\"45%\"/>\n",
    "\n",
    "Der Inhalt der grünen Fläche abzüglich des Inhalts der roten Fläche ist $\\int_a^b f(x) dx$"
   ]
  },
  {
   "cell_type": "markdown",
   "id": "6250dff3",
   "metadata": {
    "slideshow": {
     "slide_type": "slide"
    }
   },
   "source": [
    "# Stammfunktion\n",
    "\n",
    "Falls\n",
    "$$ F'(x) = f(x) $$\n",
    "\n",
    "* dann ist $f$ die Ableitung von $F$\n",
    "* und $F$ ist eine *Stammfunktion* von $f$\n",
    "* Man schreibt\n",
    "$$\n",
    "      \\int f(x) dx = F(x)\n",
    "$$\n",
    "* Das Zeichen $ \\int $ ist das \"unbestimmte Integral\""
   ]
  },
  {
   "cell_type": "markdown",
   "id": "96944c8e",
   "metadata": {
    "slideshow": {
     "slide_type": "fragment"
    }
   },
   "source": [
    "* Stammfunktionen sind nicht eindeutig\n",
    "* Wenn $F(x)$ eine Stammfunktion von $f(x)$ ist, dann ist auch $F(x) + C$ eine Stammfunktion von $f(x)$, wenn $C$ eine Konstante ist\n",
    "* Das liegt daran, dass $C' = 0$"
   ]
  },
  {
   "cell_type": "markdown",
   "id": "e829ba7f",
   "metadata": {
    "slideshow": {
     "slide_type": "slide"
    }
   },
   "source": [
    "### Beispiel\n",
    "\n",
    "* $\\frac{x^2}2$ ist eine Stammfunktion von $x$, denn $(x^2)' = 2x$\n",
    "* Wir schreiben\n",
    "$$ \\int x\\, dx = \\frac{x^2}2  $$\n",
    "* In Lehrbüchern findet man auch die Schreibweise\n",
    "$$ \\int x\\, dx = \\frac{x^2}2 + C $$\n",
    "  um anzudeuten, dass die Stammfunktion nicht eindeutig ist"
   ]
  },
  {
   "cell_type": "markdown",
   "id": "be09271f",
   "metadata": {
    "slideshow": {
     "slide_type": "slide"
    }
   },
   "source": [
    "# Hauptsatz der Differential- und Integralrechnung\n",
    "\n",
    "Wenn $F(x)$ eine Stammfunktion von $f(x)$ ist, dann\n",
    "$$     \\int_a^b f(x) dx = F(b) - F(a) $$"
   ]
  },
  {
   "cell_type": "markdown",
   "id": "d6c66d3e",
   "metadata": {
    "slideshow": {
     "slide_type": "fragment"
    }
   },
   "source": [
    "Man schreibt\n",
    "$$    \\int_a^b f(x) = F(x) \\Bigr|_a^b  $$"
   ]
  },
  {
   "cell_type": "markdown",
   "id": "dc559a1a",
   "metadata": {
    "slideshow": {
     "slide_type": "fragment"
    }
   },
   "source": [
    "Beispiel\n",
    "$$ \\int_0^5 x\\, dx = \\frac12 x^2 \\Bigr|_0^5\n",
    "      = \\frac12 5^2 - \\frac12 0^2 = \\frac{25}2 = 12.5 $$"
   ]
  },
  {
   "cell_type": "markdown",
   "id": "6ed4b86f",
   "metadata": {
    "slideshow": {
     "slide_type": "slide"
    }
   },
   "source": [
    "### Skizze\n",
    "\n",
    "<img src=\"bilder/skizze_int5.svg\" alt=\"Integral von 0 bis 5 über x\" width=\"45%\"/>\n",
    "\n",
    "Das Dreieck füllt das Quadrat mit der Seitenlänge 5 zur Hälfte aus.  Sein Flächeninhalt ist also tatsächlich gleich 12.5"
   ]
  },
  {
   "cell_type": "markdown",
   "id": "0f1dd3e9",
   "metadata": {
    "slideshow": {
     "slide_type": "slide"
    }
   },
   "source": [
    "### Eigenschaften des Integrals\n",
    "\n",
    "* Wenn $a<b<c$, dann\n",
    "$$ \\int_a^b f(x) dx + \\int_b^c f(x) dx = \\int_a^c f(x) dx  $$\n"
   ]
  },
  {
   "cell_type": "markdown",
   "id": "0d99a318",
   "metadata": {},
   "source": [
    "* Speziell\n",
    "$$ \\int_a^a f(x) dx = 0  $$"
   ]
  },
  {
   "cell_type": "markdown",
   "id": "a5f664f5",
   "metadata": {
    "slideshow": {
     "slide_type": "slide"
    }
   },
   "source": [
    "# Kontinuierliche Zufallsvariable"
   ]
  },
  {
   "cell_type": "markdown",
   "id": "491a0762",
   "metadata": {
    "slideshow": {
     "slide_type": "slide"
    }
   },
   "source": [
    "Eine Zufallsvariable $X$ heißt kontinuierlich mit Dichte $f$, wenn \n",
    "$$ P(a \\le X < b) = \\int_a^b f(x) dx  $$"
   ]
  },
  {
   "cell_type": "markdown",
   "id": "b7752566",
   "metadata": {
    "slideshow": {
     "slide_type": "fragment"
    }
   },
   "source": [
    "Man bezeichnet\n",
    "\n",
    "* $f$ als *Dichte* und\n",
    "* $F(x) = \\int_{-\\infty}^x f(x) dx$ als *Verteilungsfunktion*\n",
    "von $X$"
   ]
  },
  {
   "cell_type": "markdown",
   "id": "960bb428",
   "metadata": {
    "slideshow": {
     "slide_type": "fragment"
    }
   },
   "source": [
    "* Wenn $f$ die Dichte und $F$ die Verteilungsfunktion ist, dann ist $F$ eine Stammfunktion der Dichte\n",
    "* also\n",
    "$$ P(a\\le X<b) = \\int_a^b f(x) dx = F(b) - F(a)  $$"
   ]
  },
  {
   "cell_type": "markdown",
   "id": "bb7b8bad",
   "metadata": {
    "slideshow": {
     "slide_type": "fragment"
    }
   },
   "source": [
    "Wegen $ \\int_a^a f(x) dx = 0 $ gilt dann auch\n",
    "$$ P(a\\le X \\le b) = P(a<X<b) = P(a<X\\le b) = F(b) - F(a)  $$"
   ]
  },
  {
   "cell_type": "markdown",
   "id": "d4da21f9",
   "metadata": {
    "slideshow": {
     "slide_type": "slide"
    }
   },
   "source": [
    "### Forderungen an die Dichte\n",
    "\n",
    "Wenn $f$ die Dichte einer Zufallsvariablen sein kann, müssen Bedingungen erfüllt sein\n",
    "\n",
    "$$ f(x) \\ge 0 \\text{ für alle $x$} $$\n",
    "$$ \\int_{-\\infty}^\\infty f(x) dx = 1 $$"
   ]
  },
  {
   "cell_type": "markdown",
   "id": "2cdddacb",
   "metadata": {
    "slideshow": {
     "slide_type": "slide"
    }
   },
   "source": [
    "# Standard-Normalverteilung\n",
    "\n",
    "* Die Dichte der Standardnormalverteilung ist die *Gaußsche Glockenkurve*\n",
    "$$  \\varphi(x) = \\frac1{\\sqrt{2\\pi}} \\exp\\!\\left( -\\frac{x^2}2 \\right)  $$\n",
    "* Die Verteilungsfunktion ist\n",
    "$$   \\Phi(u) = \\frac1{\\sqrt{2\\pi}} \\int_{-\\infty}^u \\exp\\!\\left( -\\frac{x^2}2 \\right) dx $$\n",
    "* Eine explizitere Formel gibt es nicht"
   ]
  },
  {
   "cell_type": "code",
   "execution_count": null,
   "id": "e149fa61",
   "metadata": {
    "slideshow": {
     "slide_type": "slide"
    }
   },
   "outputs": [],
   "source": [
    "from scipy import stats\n",
    "Phi = stats.norm()   # Normalverteilung"
   ]
  },
  {
   "cell_type": "code",
   "execution_count": null,
   "id": "7768707d",
   "metadata": {},
   "outputs": [],
   "source": [
    "d1 = pd.DataFrame()\n",
    "x = np.linspace(-4, 4)\n",
    "d1['x'] = x\n",
    "d1['y'] = np.exp(-0.5*x**2) / np.sqrt(2*np.pi)\n",
    "d1['Name'] = \"Dichte\"\n",
    "d2 = pd.DataFrame()\n",
    "d2['x'] = x\n",
    "d2['y'] = Phi.cdf(x)\n",
    "d2['Name'] = \"Verteilungsfunktion\"\n",
    "df = pd.concat([d1, d2], ignore_index=True)"
   ]
  },
  {
   "cell_type": "markdown",
   "id": "02d2e6b6",
   "metadata": {
    "slideshow": {
     "slide_type": "slide"
    }
   },
   "source": [
    "### Standard-Normalverteilung"
   ]
  },
  {
   "cell_type": "code",
   "execution_count": null,
   "id": "47a968f3",
   "metadata": {},
   "outputs": [],
   "source": [
    "sns.relplot(data=df, x='x', y='y', hue='Name', kind='line');"
   ]
  },
  {
   "cell_type": "markdown",
   "id": "32add1c6",
   "metadata": {
    "slideshow": {
     "slide_type": "slide"
    }
   },
   "source": [
    "### Eigenschaften der Verteilungsfunktion der Standard-Normalverteilung\n",
    "\n",
    "* $\\Phi(x) > 0$ für alle $x$\n",
    "* $\\lim_{x\\to-\\infty} \\Phi(x) = 0$\n",
    "* $\\lim_{x\\to\\infty} \\Phi(x) = 1$\n",
    "* $\\Phi(-x)=1-\\Phi(x)$ für alle $x$ (Symmetrie an $x=0$)"
   ]
  },
  {
   "cell_type": "markdown",
   "id": "d58cfe30",
   "metadata": {
    "slideshow": {
     "slide_type": "slide"
    }
   },
   "source": [
    "### Beispiel\n",
    "\n",
    "* Die mittlere Halmlänge eines bestimmten Grases beträgt 10cm\n",
    "* Die Zufallsvariable $X$ misst den Unterschied eines einzelnen Grashalms zur mittleren Halmlänge\n",
    "* Unser Modell sagt, dass $X$ standard-normalverteilt ist\n",
    "* Das bedeutet:  Die Halmlänge in cm wird modelliert als $10+X$"
   ]
  },
  {
   "cell_type": "markdown",
   "id": "a9915c67",
   "metadata": {
    "slideshow": {
     "slide_type": "fragment"
    }
   },
   "source": [
    "Welcher Anteil der Halme hat eine Länge zwischen 9cm und 11cm?\n",
    "\n",
    "Antwort \n",
    "$$  P(-1\\le X<1) = \\int_{-1}^1 \\varphi(x) dx = \\Phi(1) - \\Phi(-1) $$ "
   ]
  },
  {
   "cell_type": "code",
   "execution_count": null,
   "id": "56ecb568",
   "metadata": {},
   "outputs": [],
   "source": [
    "Phi = stats.norm()\n",
    "Phi.cdf(1) - Phi.cdf(-1)"
   ]
  },
  {
   "cell_type": "markdown",
   "id": "207a5c1f",
   "metadata": {
    "slideshow": {
     "slide_type": "slide"
    }
   },
   "source": [
    "Welcher Anteil der Halme hat eine Länge von mindestens 10cm?\n",
    "\n",
    "Antwort \n",
    "$$  P(0\\le X) = \\int_{0}^\\infty \\phi(x) dx = 1 - \\Phi(0) $$ "
   ]
  },
  {
   "cell_type": "code",
   "execution_count": null,
   "id": "f0e4fa17",
   "metadata": {},
   "outputs": [],
   "source": [
    "1 - Phi.cdf(0)"
   ]
  },
  {
   "cell_type": "markdown",
   "id": "bdd9a7bf",
   "metadata": {
    "slideshow": {
     "slide_type": "fragment"
    }
   },
   "source": [
    "Welcher Anteil der Halme hat eine Länge von höchstens 8.2cm?\n",
    "\n",
    "Antwort \n",
    "$$  P(X\\le-1.8) = \\int_{-\\infty}^{-1.8} \\phi(x) dx = \\Phi(-1.8) $$ \n",
    "\n",
    "Hinweis: $10-8.2=-1.8$"
   ]
  },
  {
   "cell_type": "code",
   "execution_count": null,
   "id": "a2365776",
   "metadata": {},
   "outputs": [],
   "source": [
    "Phi.cdf(-1.8)"
   ]
  }
 ],
 "metadata": {
  "celltoolbar": "Slideshow",
  "kernelspec": {
   "display_name": "Python 3 (ipykernel)",
   "language": "python",
   "name": "python3"
  },
  "language_info": {
   "codemirror_mode": {
    "name": "ipython",
    "version": 3
   },
   "file_extension": ".py",
   "mimetype": "text/x-python",
   "name": "python",
   "nbconvert_exporter": "python",
   "pygments_lexer": "ipython3",
   "version": "3.11.10"
  }
 },
 "nbformat": 4,
 "nbformat_minor": 5
}
