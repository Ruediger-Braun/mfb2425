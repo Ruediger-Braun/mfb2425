{
 "cells": [
  {
   "cell_type": "markdown",
   "id": "67cd263b",
   "metadata": {
    "slideshow": {
     "slide_type": "slide"
    }
   },
   "source": [
    "# Mathematik für Biologiestudierende II\n",
    "\n",
    "Sommersemester 2025\n",
    "\n",
    "06.05.2025\n",
    "\n",
    "&copy; 2025 Prof. Dr. Rüdiger W. Braun "
   ]
  },
  {
   "cell_type": "code",
   "execution_count": 1,
   "id": "6d700937",
   "metadata": {
    "slideshow": {
     "slide_type": "slide"
    }
   },
   "outputs": [],
   "source": [
    "import numpy as np\n",
    "np.set_printoptions(legacy='1.21')\n",
    "import pandas as pd\n",
    "from scipy import stats\n",
    "import seaborn as sns\n",
    "sns.set_theme()"
   ]
  },
  {
   "cell_type": "markdown",
   "id": "f944b1d6",
   "metadata": {
    "slideshow": {
     "slide_type": "slide"
    }
   },
   "source": [
    "# Themen\n",
    "\n",
    "* Alexander-Govern-Test\n",
    "* Welch-Test\n",
    "* Python-Funktionen\n",
    "* Posthoc-Analyse des Alexander-Govern-Tests\n",
    "* Normalverteilungsannahmen\n",
    "* Kruskal-Wallis-Test\n",
    "* Posthoc-Analyse des Kruskal-Wallis-Tests"
   ]
  },
  {
   "cell_type": "markdown",
   "id": "b163e4b8",
   "metadata": {
    "slideshow": {
     "slide_type": "slide"
    }
   },
   "source": [
    "# Alexander-Govern-Test"
   ]
  },
  {
   "cell_type": "markdown",
   "id": "000d4cbf",
   "metadata": {
    "slideshow": {
     "slide_type": "slide"
    }
   },
   "source": [
    "### Beispiel: Barsche"
   ]
  },
  {
   "cell_type": "markdown",
   "id": "6596a099",
   "metadata": {},
   "source": [
    "Es werden Barsche gleichen Alters verglichen"
   ]
  },
  {
   "cell_type": "code",
   "execution_count": 2,
   "id": "df9b36a3",
   "metadata": {},
   "outputs": [
    {
     "data": {
      "text/html": [
       "<div>\n",
       "<style scoped>\n",
       "    .dataframe tbody tr th:only-of-type {\n",
       "        vertical-align: middle;\n",
       "    }\n",
       "\n",
       "    .dataframe tbody tr th {\n",
       "        vertical-align: top;\n",
       "    }\n",
       "\n",
       "    .dataframe thead th {\n",
       "        text-align: right;\n",
       "    }\n",
       "</style>\n",
       "<table border=\"1\" class=\"dataframe\">\n",
       "  <thead>\n",
       "    <tr style=\"text-align: right;\">\n",
       "      <th></th>\n",
       "      <th>Art</th>\n",
       "      <th>Länge</th>\n",
       "    </tr>\n",
       "  </thead>\n",
       "  <tbody>\n",
       "    <tr>\n",
       "      <th>0</th>\n",
       "      <td>gestreift</td>\n",
       "      <td>9.890006</td>\n",
       "    </tr>\n",
       "    <tr>\n",
       "      <th>1</th>\n",
       "      <td>gestreift</td>\n",
       "      <td>9.343944</td>\n",
       "    </tr>\n",
       "    <tr>\n",
       "      <th>2</th>\n",
       "      <td>gestreift</td>\n",
       "      <td>9.867069</td>\n",
       "    </tr>\n",
       "    <tr>\n",
       "      <th>3</th>\n",
       "      <td>gestreift</td>\n",
       "      <td>10.302781</td>\n",
       "    </tr>\n",
       "    <tr>\n",
       "      <th>4</th>\n",
       "      <td>gestreift</td>\n",
       "      <td>10.066964</td>\n",
       "    </tr>\n",
       "  </tbody>\n",
       "</table>\n",
       "</div>"
      ],
      "text/plain": [
       "         Art      Länge\n",
       "0  gestreift   9.890006\n",
       "1  gestreift   9.343944\n",
       "2  gestreift   9.867069\n",
       "3  gestreift  10.302781\n",
       "4  gestreift  10.066964"
      ]
     },
     "execution_count": 2,
     "metadata": {},
     "output_type": "execute_result"
    }
   ],
   "source": [
    "df = pd.read_csv('barsche.csv')\n",
    "df.head()"
   ]
  },
  {
   "cell_type": "code",
   "execution_count": 3,
   "id": "53ab3838",
   "metadata": {
    "slideshow": {
     "slide_type": "slide"
    }
   },
   "outputs": [
    {
     "data": {
      "image/png": "[encoded data removed]",
      "text/plain": [
       "<Figure size 640x480 with 1 Axes>"
      ]
     },
     "metadata": {},
     "output_type": "display_data"
    }
   ],
   "source": [
    "sns.boxplot(df, x=\"Art\", y=\"Länge\");"
   ]
  },
  {
   "cell_type": "markdown",
   "id": "a8230228",
   "metadata": {
    "slideshow": {
     "slide_type": "slide"
    }
   },
   "source": [
    "# Alexander-Govern-Test"
   ]
  },
  {
   "cell_type": "markdown",
   "id": "55e4763c",
   "metadata": {
    "slideshow": {
     "slide_type": "fragment"
    }
   },
   "source": [
    "Wenn die Daten heteroskedastisch, aber normalverteilt sind, dann rechnet man einen Alexander-Govern-Test"
   ]
  },
  {
   "cell_type": "code",
   "execution_count": 4,
   "id": "b78431c3",
   "metadata": {
    "slideshow": {
     "slide_type": "slide"
    }
   },
   "outputs": [],
   "source": [
    "ds = df[df.Art=='gestreift'].Länge\n",
    "dl = df[df.Art=='gefleckt'].Länge\n",
    "db = df[df.Art=='blau'].Länge\n",
    "dr = df[df.Art=='braun'].Länge"
   ]
  },
  {
   "cell_type": "code",
   "execution_count": 5,
   "id": "3a624bbe",
   "metadata": {
    "slideshow": {
     "slide_type": "-"
    }
   },
   "outputs": [
    {
     "data": {
      "text/plain": [
       "AlexanderGovernResult(statistic=113.40810114676775, pvalue=2.02668339537414e-24)"
      ]
     },
     "execution_count": 5,
     "metadata": {},
     "output_type": "execute_result"
    }
   ],
   "source": [
    "stats.alexandergovern(ds, dl, dr, db)"
   ]
  },
  {
   "cell_type": "markdown",
   "id": "a6324b4d",
   "metadata": {
    "slideshow": {
     "slide_type": "slide"
    }
   },
   "source": [
    "# Welch-Test"
   ]
  },
  {
   "cell_type": "markdown",
   "id": "dadaa04d",
   "metadata": {
    "slideshow": {
     "slide_type": "slide"
    }
   },
   "source": [
    "* Der t-Test kann nur gerechnet werden, wenn die Varianzen der zu vergleichenden Datensätze übereinstimmen\n",
    "* Im heteroskedastischen Fall ist das nicht der Fall\n",
    "* Man rechnet dann einen Welch-Test\n",
    "* In scipy ist der Welch-Test wie folgt implementiert"
   ]
  },
  {
   "cell_type": "code",
   "execution_count": 6,
   "id": "85150ff6",
   "metadata": {
    "slideshow": {
     "slide_type": "fragment"
    }
   },
   "outputs": [
    {
     "data": {
      "text/plain": [
       "TtestResult(statistic=9.647287139857793, pvalue=1.2289650206522807e-13, df=57.645418945809595)"
      ]
     },
     "execution_count": 6,
     "metadata": {},
     "output_type": "execute_result"
    }
   ],
   "source": [
    "stats.ttest_ind(db, dr, equal_var=False)"
   ]
  },
  {
   "cell_type": "markdown",
   "id": "492bace2",
   "metadata": {},
   "source": [
    "* `equal_var=True`: dann wird ein unverbundener t-Test gerechnet\n",
    "* `equal_var=False`: dann wird ein Welch-Test gerechnet"
   ]
  },
  {
   "cell_type": "markdown",
   "id": "44aa9557",
   "metadata": {},
   "source": [
    "* Standardeinstellung ist `equal_var=True`"
   ]
  },
  {
   "cell_type": "code",
   "execution_count": 7,
   "id": "ae4a70c0",
   "metadata": {
    "slideshow": {
     "slide_type": "slide"
    }
   },
   "outputs": [],
   "source": [
    "from statsmodels.sandbox.stats.multicomp import MultiComparison"
   ]
  },
  {
   "cell_type": "code",
   "execution_count": 8,
   "id": "6374e98c",
   "metadata": {},
   "outputs": [],
   "source": [
    "muc = MultiComparison(df.Länge, df.Art)"
   ]
  },
  {
   "cell_type": "markdown",
   "id": "dfb6deac",
   "metadata": {},
   "source": [
    "* `muc.allpairtest(stats.ttest_ind)` würde einen t-Test rechnen\n",
    "* wir können den Schalter `equal_var=False` nicht ohne weiteres übergeben"
   ]
  },
  {
   "cell_type": "markdown",
   "id": "1d54017b",
   "metadata": {
    "slideshow": {
     "slide_type": "fragment"
    }
   },
   "source": [
    "* wir werden uns ein winziges Programm schreiben"
   ]
  },
  {
   "cell_type": "markdown",
   "id": "c148be22",
   "metadata": {
    "slideshow": {
     "slide_type": "slide"
    }
   },
   "source": [
    "# Python-Funktionen"
   ]
  },
  {
   "cell_type": "code",
   "execution_count": 9,
   "id": "8122afc8",
   "metadata": {
    "slideshow": {
     "slide_type": "slide"
    }
   },
   "outputs": [],
   "source": [
    "def quadrat(x):\n",
    "    return x*x"
   ]
  },
  {
   "cell_type": "code",
   "execution_count": 12,
   "id": "2a5fe11e",
   "metadata": {},
   "outputs": [
    {
     "data": {
      "text/plain": [
       "25"
      ]
     },
     "execution_count": 12,
     "metadata": {},
     "output_type": "execute_result"
    }
   ],
   "source": [
    "quadrat(5)"
   ]
  },
  {
   "cell_type": "markdown",
   "id": "65840e30",
   "metadata": {},
   "source": [
    "* `def`  definiert eine Funktion\n",
    "* die Rechnungen, welche aus die Funktion besteht, werden eingerückt\n",
    "* der auf `return` folgende Wert ist das Funktionsergebnis"
   ]
  },
  {
   "cell_type": "markdown",
   "id": "743246b6",
   "metadata": {
    "slideshow": {
     "slide_type": "slide"
    }
   },
   "source": [
    "# Post-hoc Analyse"
   ]
  },
  {
   "cell_type": "code",
   "execution_count": 13,
   "id": "17ff0add",
   "metadata": {
    "slideshow": {
     "slide_type": "slide"
    }
   },
   "outputs": [],
   "source": [
    "def welch_test(a, b):\n",
    "    return stats.ttest_ind(a, b, equal_var=False)"
   ]
  },
  {
   "cell_type": "code",
   "execution_count": 14,
   "id": "cfb0238d",
   "metadata": {},
   "outputs": [
    {
     "data": {
      "text/html": [
       "<table class=\"simpletable\">\n",
       "<caption>Test Multiple Comparison welch_test \n",
       "FWER=0.05 method=bonf\n",
       "alphacSidak=0.01, alphacBonf=0.008</caption>\n",
       "<tr>\n",
       "   <th>group1</th>   <th>group2</th>    <th>stat</th>  <th>pval</th>  <th>pval_corr</th> <th>reject</th>\n",
       "</tr>\n",
       "<tr>\n",
       "    <td>blau</td>     <td>braun</td>   <td>9.6473</td>  <td>0.0</td>     <td>0.0</td>     <td>True</td> \n",
       "</tr>\n",
       "<tr>\n",
       "    <td>blau</td>   <td>gefleckt</td>  <td>5.8735</td>  <td>0.0</td>     <td>0.0</td>     <td>True</td> \n",
       "</tr>\n",
       "<tr>\n",
       "    <td>blau</td>   <td>gestreift</td> <td>18.752</td>  <td>0.0</td>     <td>0.0</td>     <td>True</td> \n",
       "</tr>\n",
       "<tr>\n",
       "    <td>braun</td>  <td>gefleckt</td>  <td>0.7068</td> <td>0.484</td>    <td>1.0</td>     <td>False</td>\n",
       "</tr>\n",
       "<tr>\n",
       "    <td>braun</td>  <td>gestreift</td> <td>8.4956</td>  <td>0.0</td>     <td>0.0</td>     <td>True</td> \n",
       "</tr>\n",
       "<tr>\n",
       "  <td>gefleckt</td> <td>gestreift</td> <td>3.3453</td> <td>0.002</td>   <td>0.012</td>    <td>True</td> \n",
       "</tr>\n",
       "</table>"
      ],
      "text/latex": [
       "\\begin{center}\n",
       "\\begin{tabular}{cccccc}\n",
       "\\toprule\n",
       "\\textbf{group1} & \\textbf{group2} & \\textbf{stat} & \\textbf{pval} & \\textbf{pval\\_corr} & \\textbf{reject}  \\\\\n",
       "\\midrule\n",
       "      blau      &      braun      &     9.6473    &      0.0      &         0.0         &       True       \\\\\n",
       "      blau      &     gefleckt    &     5.8735    &      0.0      &         0.0         &       True       \\\\\n",
       "      blau      &    gestreift    &     18.752    &      0.0      &         0.0         &       True       \\\\\n",
       "     braun      &     gefleckt    &     0.7068    &     0.484     &         1.0         &      False       \\\\\n",
       "     braun      &    gestreift    &     8.4956    &      0.0      &         0.0         &       True       \\\\\n",
       "    gefleckt    &    gestreift    &     3.3453    &     0.002     &        0.012        &       True       \\\\\n",
       "\\bottomrule\n",
       "\\end{tabular}\n",
       "%\\caption{Test Multiple Comparison welch_test \n",
       "FWER=0.05 method=bonf\n",
       "alphacSidak=0.01, alphacBonf=0.008}\n",
       "\\end{center}"
      ],
      "text/plain": [
       "<class 'statsmodels.iolib.table.SimpleTable'>"
      ]
     },
     "execution_count": 14,
     "metadata": {},
     "output_type": "execute_result"
    }
   ],
   "source": [
    "res = muc.allpairtest(welch_test)[0]\n",
    "res"
   ]
  },
  {
   "cell_type": "code",
   "execution_count": 15,
   "id": "8cc10c6b",
   "metadata": {
    "slideshow": {
     "slide_type": "slide"
    }
   },
   "outputs": [
    {
     "data": {
      "text/html": [
       "<table class=\"simpletable\">\n",
       "<caption>Test Multiple Comparison welch_test \n",
       "FWER=0.05 method=holm\n",
       "alphacSidak=0.01, alphacBonf=0.008</caption>\n",
       "<tr>\n",
       "   <th>group1</th>   <th>group2</th>    <th>stat</th>  <th>pval</th>  <th>pval_corr</th> <th>reject</th>\n",
       "</tr>\n",
       "<tr>\n",
       "    <td>blau</td>     <td>braun</td>   <td>9.6473</td>  <td>0.0</td>     <td>0.0</td>     <td>True</td> \n",
       "</tr>\n",
       "<tr>\n",
       "    <td>blau</td>   <td>gefleckt</td>  <td>5.8735</td>  <td>0.0</td>     <td>0.0</td>     <td>True</td> \n",
       "</tr>\n",
       "<tr>\n",
       "    <td>blau</td>   <td>gestreift</td> <td>18.752</td>  <td>0.0</td>     <td>0.0</td>     <td>True</td> \n",
       "</tr>\n",
       "<tr>\n",
       "    <td>braun</td>  <td>gefleckt</td>  <td>0.7068</td> <td>0.484</td>   <td>0.484</td>    <td>False</td>\n",
       "</tr>\n",
       "<tr>\n",
       "    <td>braun</td>  <td>gestreift</td> <td>8.4956</td>  <td>0.0</td>     <td>0.0</td>     <td>True</td> \n",
       "</tr>\n",
       "<tr>\n",
       "  <td>gefleckt</td> <td>gestreift</td> <td>3.3453</td> <td>0.002</td>   <td>0.004</td>    <td>True</td> \n",
       "</tr>\n",
       "</table>"
      ],
      "text/latex": [
       "\\begin{center}\n",
       "\\begin{tabular}{cccccc}\n",
       "\\toprule\n",
       "\\textbf{group1} & \\textbf{group2} & \\textbf{stat} & \\textbf{pval} & \\textbf{pval\\_corr} & \\textbf{reject}  \\\\\n",
       "\\midrule\n",
       "      blau      &      braun      &     9.6473    &      0.0      &         0.0         &       True       \\\\\n",
       "      blau      &     gefleckt    &     5.8735    &      0.0      &         0.0         &       True       \\\\\n",
       "      blau      &    gestreift    &     18.752    &      0.0      &         0.0         &       True       \\\\\n",
       "     braun      &     gefleckt    &     0.7068    &     0.484     &        0.484        &      False       \\\\\n",
       "     braun      &    gestreift    &     8.4956    &      0.0      &         0.0         &       True       \\\\\n",
       "    gefleckt    &    gestreift    &     3.3453    &     0.002     &        0.004        &       True       \\\\\n",
       "\\bottomrule\n",
       "\\end{tabular}\n",
       "%\\caption{Test Multiple Comparison welch_test \n",
       "FWER=0.05 method=holm\n",
       "alphacSidak=0.01, alphacBonf=0.008}\n",
       "\\end{center}"
      ],
      "text/plain": [
       "<class 'statsmodels.iolib.table.SimpleTable'>"
      ]
     },
     "execution_count": 15,
     "metadata": {},
     "output_type": "execute_result"
    }
   ],
   "source": [
    "res = muc.allpairtest(welch_test, method='holm')[0]\n",
    "res"
   ]
  },
  {
   "cell_type": "markdown",
   "id": "1ed8157e",
   "metadata": {
    "slideshow": {
     "slide_type": "slide"
    }
   },
   "source": [
    "# Normalverteilungsannahmen"
   ]
  },
  {
   "cell_type": "markdown",
   "id": "3e548933",
   "metadata": {
    "slideshow": {
     "slide_type": "slide"
    }
   },
   "source": [
    "* Sowohl `f_oneway` als auch `alexandergovern` liefern nur für normalverteilte Daten richtige Ergebnisse\n",
    "* Normalverteilungsannahmen prüfen wir mit dem Q-Q-Plot"
   ]
  },
  {
   "cell_type": "code",
   "execution_count": 16,
   "id": "23d5eaa3",
   "metadata": {},
   "outputs": [
    {
     "data": {
      "image/png": "[encoded data removed]",
      "text/plain": [
       "<Figure size 640x480 with 1 Axes>"
      ]
     },
     "metadata": {},
     "output_type": "display_data"
    }
   ],
   "source": [
    "import statsmodels.api as sm\n",
    "pp = sm.ProbPlot(db)\n",
    "pp.qqplot();"
   ]
  },
  {
   "cell_type": "markdown",
   "id": "814b6947",
   "metadata": {
    "slideshow": {
     "slide_type": "fragment"
    }
   },
   "source": [
    "ausreichende Übereinstimmung"
   ]
  },
  {
   "cell_type": "markdown",
   "id": "d633d843",
   "metadata": {
    "slideshow": {
     "slide_type": "slide"
    }
   },
   "source": [
    "Flügellängen von Libellen in *mm* (erfundene Daten)"
   ]
  },
  {
   "cell_type": "code",
   "execution_count": 17,
   "id": "d044e9b6",
   "metadata": {},
   "outputs": [
    {
     "data": {
      "text/html": [
       "<div>\n",
       "<style scoped>\n",
       "    .dataframe tbody tr th:only-of-type {\n",
       "        vertical-align: middle;\n",
       "    }\n",
       "\n",
       "    .dataframe tbody tr th {\n",
       "        vertical-align: top;\n",
       "    }\n",
       "\n",
       "    .dataframe thead th {\n",
       "        text-align: right;\n",
       "    }\n",
       "</style>\n",
       "<table border=\"1\" class=\"dataframe\">\n",
       "  <thead>\n",
       "    <tr style=\"text-align: right;\">\n",
       "      <th></th>\n",
       "      <th>Art</th>\n",
       "      <th>Länge</th>\n",
       "    </tr>\n",
       "  </thead>\n",
       "  <tbody>\n",
       "    <tr>\n",
       "      <th>0</th>\n",
       "      <td>graue</td>\n",
       "      <td>4.908840</td>\n",
       "    </tr>\n",
       "    <tr>\n",
       "      <th>1</th>\n",
       "      <td>graue</td>\n",
       "      <td>5.016692</td>\n",
       "    </tr>\n",
       "    <tr>\n",
       "      <th>2</th>\n",
       "      <td>graue</td>\n",
       "      <td>4.382700</td>\n",
       "    </tr>\n",
       "    <tr>\n",
       "      <th>3</th>\n",
       "      <td>graue</td>\n",
       "      <td>4.847548</td>\n",
       "    </tr>\n",
       "    <tr>\n",
       "      <th>4</th>\n",
       "      <td>graue</td>\n",
       "      <td>5.523503</td>\n",
       "    </tr>\n",
       "  </tbody>\n",
       "</table>\n",
       "</div>"
      ],
      "text/plain": [
       "     Art     Länge\n",
       "0  graue  4.908840\n",
       "1  graue  5.016692\n",
       "2  graue  4.382700\n",
       "3  graue  4.847548\n",
       "4  graue  5.523503"
      ]
     },
     "execution_count": 17,
     "metadata": {},
     "output_type": "execute_result"
    }
   ],
   "source": [
    "df = pd.read_csv('libellen.csv')\n",
    "df.head()"
   ]
  },
  {
   "cell_type": "code",
   "execution_count": 18,
   "id": "51117289",
   "metadata": {
    "slideshow": {
     "slide_type": "slide"
    }
   },
   "outputs": [
    {
     "data": {
      "image/png": "[encoded data removed]",
      "text/plain": [
       "<Figure size 640x480 with 1 Axes>"
      ]
     },
     "metadata": {},
     "output_type": "display_data"
    }
   ],
   "source": [
    "sns.boxplot(df, x=\"Art\", y=\"Länge\");"
   ]
  },
  {
   "cell_type": "code",
   "execution_count": 19,
   "id": "01bcb2f6",
   "metadata": {
    "slideshow": {
     "slide_type": "slide"
    }
   },
   "outputs": [],
   "source": [
    "dg = df[df.Art=='graue'].Länge\n",
    "du = df[df.Art=='grüne'].Länge\n",
    "da = df[df.Art=='ägyptische'].Länge\n",
    "dB = df[df.Art=='Bilker'].Länge"
   ]
  },
  {
   "cell_type": "code",
   "execution_count": 20,
   "id": "34eb357c",
   "metadata": {},
   "outputs": [
    {
     "data": {
      "image/png": "[encoded data removed]",
      "text/plain": [
       "<Figure size 640x480 with 1 Axes>"
      ]
     },
     "metadata": {},
     "output_type": "display_data"
    }
   ],
   "source": [
    "pp = sm.ProbPlot(dB)\n",
    "pp.qqplot();"
   ]
  },
  {
   "cell_type": "markdown",
   "id": "cc0c046f",
   "metadata": {
    "slideshow": {
     "slide_type": "fragment"
    }
   },
   "source": [
    "nicht normalverteilt"
   ]
  },
  {
   "cell_type": "markdown",
   "id": "0497c56d",
   "metadata": {
    "slideshow": {
     "slide_type": "slide"
    }
   },
   "source": [
    "# Kruskal-Wallis-Test"
   ]
  },
  {
   "cell_type": "markdown",
   "id": "db7e9f92",
   "metadata": {
    "slideshow": {
     "slide_type": "slide"
    }
   },
   "source": [
    "* im Fall nicht normalverteilter Daten rechnet man den Kruskal-Wallis-Test\n",
    "* dann ist es auch gleichgültig, ob die Daten heteroskedastisch sind"
   ]
  },
  {
   "cell_type": "code",
   "execution_count": 21,
   "id": "e5521ca8",
   "metadata": {},
   "outputs": [
    {
     "data": {
      "text/plain": [
       "KruskalResult(statistic=16.028153526970982, pvalue=0.0011190121329907562)"
      ]
     },
     "execution_count": 21,
     "metadata": {},
     "output_type": "execute_result"
    }
   ],
   "source": [
    "stats.kruskal(dg, du, da, dB)"
   ]
  },
  {
   "cell_type": "markdown",
   "id": "2414aff1",
   "metadata": {
    "slideshow": {
     "slide_type": "slide"
    }
   },
   "source": [
    "# Post-hoc Analyse"
   ]
  },
  {
   "cell_type": "markdown",
   "id": "830ecb8e",
   "metadata": {
    "slideshow": {
     "slide_type": "fragment"
    }
   },
   "source": [
    "Das nicht-parametrische Analogon zum unverbundenen t-Test ist der Mann-Whitney-Test"
   ]
  },
  {
   "cell_type": "code",
   "execution_count": 22,
   "id": "b3b286d8",
   "metadata": {},
   "outputs": [],
   "source": [
    "muc = MultiComparison(df.Länge, df.Art)"
   ]
  },
  {
   "cell_type": "code",
   "execution_count": 24,
   "id": "866e93c6",
   "metadata": {},
   "outputs": [
    {
     "data": {
      "text/plain": [
       "(<class 'statsmodels.iolib.table.SimpleTable'>,\n",
       " (array([[2.36000000e+03, 3.31817462e-03],\n",
       "         [2.16700000e+03, 5.44014641e-02],\n",
       "         [2.21700000e+03, 2.88113575e-02],\n",
       "         [1.26000000e+03, 4.63098630e-03],\n",
       "         [1.25900000e+03, 4.55554070e-03],\n",
       "         [1.56100000e+03, 2.10642620e-01]]),\n",
       "  array([ True, False, False,  True,  True, False]),\n",
       "  array([0.01990905, 0.10880293, 0.08643407, 0.0227777 , 0.0227777 ,\n",
       "         0.21064262]),\n",
       "  0.008512444610847103,\n",
       "  0.008333333333333333),\n",
       " array([('Bilker', 'graue', 2360., 0.0033, 0.0199,  True),\n",
       "        ('Bilker', 'grüne', 2167., 0.0544, 0.1088, False),\n",
       "        ('Bilker', 'ägyptische', 2217., 0.0288, 0.0864, False),\n",
       "        ('graue', 'grüne', 1260., 0.0046, 0.0228,  True),\n",
       "        ('graue', 'ägyptische', 1259., 0.0046, 0.0228,  True),\n",
       "        ('grüne', 'ägyptische', 1561., 0.2106, 0.2106, False)],\n",
       "       dtype=[('group1', 'O'), ('group2', 'O'), ('stat', '<f8'), ('pval', '<f8'), ('pval_corr', '<f8'), ('reject', '?')]))"
      ]
     },
     "execution_count": 24,
     "metadata": {},
     "output_type": "execute_result"
    }
   ],
   "source": [
    "muc.allpairtest(stats.mannwhitneyu, method='holm')"
   ]
  },
  {
   "cell_type": "markdown",
   "id": "aae5770c",
   "metadata": {
    "slideshow": {
     "slide_type": "slide"
    }
   },
   "source": [
    "# ANOVA\n",
    "\n",
    "Übersicht\n",
    "\n",
    "|Verteilungsannahmen               | Test in `scipy.stats` | Post-hoc-Test        | in `scipy.stats`               |\n",
    "|:---------------------------------|:----------------------|:---------------------|:-------------------------------|\n",
    "|normalverteilt, homoskedastisch   | `f_oneway`            | unverbundener t-Test |`ttest_ind`                     |\n",
    "|normalverteilt, heteroskedastisch | `alexandergovern`     | Welch-Test           |`ttest_ind` mit`equal_var=False`|\n",
    "|nicht normalverteilt              | `kruskal`             | Mann-Whitney-Test    | `mannwhitneyu`                 |"
   ]
  },
  {
   "cell_type": "markdown",
   "id": "9c33797d",
   "metadata": {
    "slideshow": {
     "slide_type": "fragment"
    }
   },
   "source": [
    "| Test                 | Art               |\n",
    "|:---------------------|:------------------|\n",
    "|t-Test                |parametrisch       |\n",
    "|Welch-Test            |parametrisch       |\n",
    "|Mann-Whitney-Test     |nichtparametrisch  |\n",
    "|ANOVA                 |parametrisch       |\n",
    "|Alexander-Govern-Test |parametrisch       |\n",
    "|Kruskal-Wallis-Test   |nichtparametrisch  |"
   ]
  },
  {
   "cell_type": "markdown",
   "id": "65632013",
   "metadata": {
    "slideshow": {
     "slide_type": "fragment"
    }
   },
   "source": [
    "* die parametrischen Tests vergleichen Mittelwerte\n",
    "* die nichtparametrischen Tests vergleichen Mediane"
   ]
  }
 ],
 "metadata": {
  "celltoolbar": "Slideshow",
  "kernelspec": {
   "display_name": "Python 3 (ipykernel)",
   "language": "python",
   "name": "python3"
  },
  "language_info": {
   "codemirror_mode": {
    "name": "ipython",
    "version": 3
   },
   "file_extension": ".py",
   "mimetype": "text/x-python",
   "name": "python",
   "nbconvert_exporter": "python",
   "pygments_lexer": "ipython3",
   "version": "3.12.7"
  }
 },
 "nbformat": 4,
 "nbformat_minor": 5
}
