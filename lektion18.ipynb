{
 "cells": [
  {
   "cell_type": "markdown",
   "id": "67cd263b",
   "metadata": {
    "slideshow": {
     "slide_type": "slide"
    }
   },
   "source": [
    "# Mathematik für Biologiestudierende II\n",
    "\n",
    "Sommersemester 2025\n",
    "\n",
    "29.04.2025\n",
    "\n",
    "&copy; 2025 Prof. Dr. Rüdiger W. Braun "
   ]
  },
  {
   "cell_type": "code",
   "execution_count": 1,
   "id": "6d700937",
   "metadata": {
    "slideshow": {
     "slide_type": "slide"
    }
   },
   "outputs": [],
   "source": [
    "import numpy as np\n",
    "np.set_printoptions(legacy='1.21')\n",
    "import pandas as pd\n",
    "from scipy import stats\n",
    "import seaborn as sns\n",
    "sns.set_theme()"
   ]
  },
  {
   "cell_type": "markdown",
   "id": "8b19bc89",
   "metadata": {
    "slideshow": {
     "slide_type": "slide"
    }
   },
   "source": [
    "# Themen\n",
    "\n",
    "* Verteilung und Verteilungsfunktion\n",
    "* Prinzip der ANOVA\n",
    "* Heteroskedastizität\n",
    "* Levene-Test\n",
    "* Alexander-Govern-Test"
   ]
  },
  {
   "cell_type": "markdown",
   "id": "75d01d41",
   "metadata": {
    "slideshow": {
     "slide_type": "slide"
    }
   },
   "source": [
    "# Wiederholung:  Verteilung und Verteilungsfunktion"
   ]
  },
  {
   "cell_type": "markdown",
   "id": "6822d657",
   "metadata": {
    "slideshow": {
     "slide_type": "slide"
    }
   },
   "source": [
    "## diskrete Verteilungen\n",
    "\n",
    "* Wir kennen nur eine diskrete Verteilung, nämlich die Binomialverteilung\n",
    "* Beispiel Binomialverteilung \n",
    "$$\n",
    "    B_{n,p}(k) = \\begin{pmatrix} n \\\\ k \\end{pmatrix} p^k (1-p)^{n-k}\n",
    "$$"
   ]
  },
  {
   "cell_type": "code",
   "execution_count": 2,
   "id": "e12d0f9d",
   "metadata": {},
   "outputs": [],
   "source": [
    "P = stats.binom(22, 0.34)"
   ]
  },
  {
   "cell_type": "markdown",
   "id": "6bcec836",
   "metadata": {
    "slideshow": {
     "slide_type": "slide"
    }
   },
   "source": [
    "an eine diskrete Verteilung haben wir zwei Typen von Fragen:\n",
    "\n",
    "(1) Was ist der Wert der Verteilung für ein bestimmtes $k$  (Lektion 5)"
   ]
  },
  {
   "cell_type": "code",
   "execution_count": 3,
   "id": "307885d5",
   "metadata": {},
   "outputs": [
    {
     "data": {
      "text/plain": [
       "0.17593323858999418"
      ]
     },
     "execution_count": 3,
     "metadata": {},
     "output_type": "execute_result"
    }
   ],
   "source": [
    "P.pmf(7)"
   ]
  },
  {
   "cell_type": "markdown",
   "id": "e971042e",
   "metadata": {},
   "source": [
    "`pmf` probabiliy mass distribution"
   ]
  },
  {
   "cell_type": "markdown",
   "id": "8c18a3a8",
   "metadata": {
    "slideshow": {
     "slide_type": "fragment"
    }
   },
   "source": [
    "Das können wir auch zu Fuß ausrechnen"
   ]
  },
  {
   "cell_type": "code",
   "execution_count": 4,
   "id": "daadf515",
   "metadata": {},
   "outputs": [
    {
     "data": {
      "text/plain": [
       "0.17593323858999396"
      ]
     },
     "execution_count": 4,
     "metadata": {},
     "output_type": "execute_result"
    }
   ],
   "source": [
    "from scipy import special\n",
    "special.binom(22, 7) * 0.34**7 * (1-0.34)**15"
   ]
  },
  {
   "cell_type": "code",
   "execution_count": 5,
   "id": "9149db1a",
   "metadata": {},
   "outputs": [
    {
     "data": {
      "text/plain": [
       "1.0000000000000013"
      ]
     },
     "execution_count": 5,
     "metadata": {},
     "output_type": "execute_result"
    }
   ],
   "source": [
    "0.17593323858999418 / 0.17593323858999396"
   ]
  },
  {
   "cell_type": "markdown",
   "id": "4d049464",
   "metadata": {
    "slideshow": {
     "slide_type": "slide"
    }
   },
   "source": [
    "(2) Was ist der Wert der Verteilungsfunktion   (Lektion 8)"
   ]
  },
  {
   "cell_type": "code",
   "execution_count": 6,
   "id": "c1cfb80d",
   "metadata": {},
   "outputs": [
    {
     "data": {
      "text/plain": [
       "0.5133586582890823"
      ]
     },
     "execution_count": 6,
     "metadata": {},
     "output_type": "execute_result"
    }
   ],
   "source": [
    "P.cdf(7)"
   ]
  },
  {
   "cell_type": "markdown",
   "id": "425d08fa",
   "metadata": {},
   "source": [
    "`P.cdf` cumulative distribution function"
   ]
  },
  {
   "cell_type": "markdown",
   "id": "d564fd91",
   "metadata": {
    "slideshow": {
     "slide_type": "fragment"
    }
   },
   "source": [
    "Das ist zu Fuß schon ziemlich umständlich:"
   ]
  },
  {
   "cell_type": "code",
   "execution_count": 7,
   "id": "3a99958b",
   "metadata": {},
   "outputs": [
    {
     "data": {
      "text/plain": [
       "0.513358658289081"
      ]
     },
     "execution_count": 7,
     "metadata": {},
     "output_type": "execute_result"
    }
   ],
   "source": [
    "P.pmf(0) + P.pmf(1) + P.pmf(2) + P.pmf(3) + P.pmf(4) + P.pmf(5) + P.pmf(6) + P.pmf(7)"
   ]
  },
  {
   "cell_type": "markdown",
   "id": "7eb905ed",
   "metadata": {
    "slideshow": {
     "slide_type": "slide"
    }
   },
   "source": [
    "## kontinuierliche Verteilungen\n",
    "\n",
    "wir kennen drei kontinuierliche Verteilungen\n",
    "\n",
    "* Normalverteilung `stats.norm`\n",
    "* $t$-Verteilung `stats.t`\n",
    "* $F$-Verteilung `stats.f`"
   ]
  },
  {
   "cell_type": "markdown",
   "id": "ee8a9c46",
   "metadata": {
    "slideshow": {
     "slide_type": "fragment"
    }
   },
   "source": [
    "Beispiel Normalverteilung:"
   ]
  },
  {
   "cell_type": "code",
   "execution_count": 8,
   "id": "01f61fd1",
   "metadata": {},
   "outputs": [],
   "source": [
    "P = stats.norm(22.4, 7.2)"
   ]
  },
  {
   "cell_type": "markdown",
   "id": "f1104e2e",
   "metadata": {},
   "source": [
    "für uns wichtig ist nur die Frage nach der Verteilungsfunktion"
   ]
  },
  {
   "cell_type": "code",
   "execution_count": 9,
   "id": "81ec07d2",
   "metadata": {},
   "outputs": [
    {
     "data": {
      "text/plain": [
       "0.5276820736327322"
      ]
     },
     "execution_count": 9,
     "metadata": {},
     "output_type": "execute_result"
    }
   ],
   "source": [
    "P.cdf(22.9)"
   ]
  },
  {
   "cell_type": "markdown",
   "id": "309b5e9b",
   "metadata": {
    "slideshow": {
     "slide_type": "slide"
    }
   },
   "source": [
    "# Was hat ANOVA mit Varianzen bzw. Stichprobenstreuungen zu tun?\n",
    "\n",
    "ANOVA:  \"Analysis of Variance\""
   ]
  },
  {
   "cell_type": "markdown",
   "id": "50312e26",
   "metadata": {
    "slideshow": {
     "slide_type": "slide"
    }
   },
   "source": [
    "Wir gehen zurück zum Beispiel Schadstoffkonzentration"
   ]
  },
  {
   "cell_type": "code",
   "execution_count": 10,
   "id": "765ce96f",
   "metadata": {},
   "outputs": [
    {
     "data": {
      "text/html": [
       "<div>\n",
       "<style scoped>\n",
       "    .dataframe tbody tr th:only-of-type {\n",
       "        vertical-align: middle;\n",
       "    }\n",
       "\n",
       "    .dataframe tbody tr th {\n",
       "        vertical-align: top;\n",
       "    }\n",
       "\n",
       "    .dataframe thead th {\n",
       "        text-align: right;\n",
       "    }\n",
       "</style>\n",
       "<table border=\"1\" class=\"dataframe\">\n",
       "  <thead>\n",
       "    <tr style=\"text-align: right;\">\n",
       "      <th></th>\n",
       "      <th>Messstelle</th>\n",
       "      <th>Konzentration</th>\n",
       "    </tr>\n",
       "  </thead>\n",
       "  <tbody>\n",
       "    <tr>\n",
       "      <th>0</th>\n",
       "      <td>5</td>\n",
       "      <td>0.000867</td>\n",
       "    </tr>\n",
       "    <tr>\n",
       "      <th>1</th>\n",
       "      <td>3</td>\n",
       "      <td>0.000490</td>\n",
       "    </tr>\n",
       "    <tr>\n",
       "      <th>2</th>\n",
       "      <td>1</td>\n",
       "      <td>0.000589</td>\n",
       "    </tr>\n",
       "    <tr>\n",
       "      <th>3</th>\n",
       "      <td>1</td>\n",
       "      <td>0.000950</td>\n",
       "    </tr>\n",
       "    <tr>\n",
       "      <th>4</th>\n",
       "      <td>4</td>\n",
       "      <td>0.001152</td>\n",
       "    </tr>\n",
       "  </tbody>\n",
       "</table>\n",
       "</div>"
      ],
      "text/plain": [
       "   Messstelle  Konzentration\n",
       "0           5       0.000867\n",
       "1           3       0.000490\n",
       "2           1       0.000589\n",
       "3           1       0.000950\n",
       "4           4       0.001152"
      ]
     },
     "execution_count": 10,
     "metadata": {},
     "output_type": "execute_result"
    }
   ],
   "source": [
    "u_schad = \"https://www.math.uni-duesseldorf.de/~braun/bio2324/data/schadstoffe.csv\"\n",
    "df = pd.read_csv(u_schad, index_col=0)\n",
    "df.head()"
   ]
  },
  {
   "cell_type": "code",
   "execution_count": 11,
   "id": "b9a878af",
   "metadata": {},
   "outputs": [],
   "source": [
    "g1 = df[df.Messstelle==1].Konzentration\n",
    "g2 = df[df.Messstelle==2].Konzentration\n",
    "g3 = df[df.Messstelle==3].Konzentration\n",
    "g4 = df[df.Messstelle==4].Konzentration\n",
    "g5 = df[df.Messstelle==5].Konzentration"
   ]
  },
  {
   "cell_type": "code",
   "execution_count": 12,
   "id": "25cd66f8",
   "metadata": {
    "slideshow": {
     "slide_type": "slide"
    }
   },
   "outputs": [
    {
     "data": {
      "text/plain": [
       "0.00034083567416156316"
      ]
     },
     "execution_count": 12,
     "metadata": {},
     "output_type": "execute_result"
    }
   ],
   "source": [
    "df.Konzentration.std()"
   ]
  },
  {
   "cell_type": "code",
   "execution_count": 13,
   "id": "a196542a",
   "metadata": {},
   "outputs": [
    {
     "data": {
      "text/plain": [
       "0.0003088278193577403"
      ]
     },
     "execution_count": 13,
     "metadata": {},
     "output_type": "execute_result"
    }
   ],
   "source": [
    "g1.std()"
   ]
  },
  {
   "cell_type": "code",
   "execution_count": 14,
   "id": "66493be4",
   "metadata": {},
   "outputs": [
    {
     "data": {
      "text/plain": [
       "0.0004360906113112883"
      ]
     },
     "execution_count": 14,
     "metadata": {},
     "output_type": "execute_result"
    }
   ],
   "source": [
    "g2.std()"
   ]
  },
  {
   "cell_type": "code",
   "execution_count": 15,
   "id": "f27e0147",
   "metadata": {},
   "outputs": [
    {
     "data": {
      "text/plain": [
       "0.00033459177573784817"
      ]
     },
     "execution_count": 15,
     "metadata": {},
     "output_type": "execute_result"
    }
   ],
   "source": [
    "g3.std()"
   ]
  },
  {
   "cell_type": "code",
   "execution_count": 16,
   "id": "6075f426",
   "metadata": {},
   "outputs": [
    {
     "data": {
      "text/plain": [
       "0.00032047637643428304"
      ]
     },
     "execution_count": 16,
     "metadata": {},
     "output_type": "execute_result"
    }
   ],
   "source": [
    "g4.std()"
   ]
  },
  {
   "cell_type": "code",
   "execution_count": 17,
   "id": "ff9f3acd",
   "metadata": {},
   "outputs": [
    {
     "data": {
      "text/plain": [
       "0.0003095504974203532"
      ]
     },
     "execution_count": 17,
     "metadata": {},
     "output_type": "execute_result"
    }
   ],
   "source": [
    "g5.std()"
   ]
  },
  {
   "cell_type": "markdown",
   "id": "4610f3c6",
   "metadata": {
    "slideshow": {
     "slide_type": "slide"
    }
   },
   "source": [
    "Die Stichprobenstreuung des gesamten Datensatzes ist ungefähr dieselbe wie die jeder einzelnen Gruppe"
   ]
  },
  {
   "cell_type": "code",
   "execution_count": 18,
   "id": "83fbf984",
   "metadata": {
    "slideshow": {
     "slide_type": "fragment"
    }
   },
   "outputs": [
    {
     "data": {
      "image/png": "[encoded data removed]",
      "text/plain": [
       "<Figure size 640x480 with 1 Axes>"
      ]
     },
     "metadata": {},
     "output_type": "display_data"
    }
   ],
   "source": [
    "sns.scatterplot(df, y='Konzentration', x='Messstelle', hue='Messstelle', legend=False);"
   ]
  },
  {
   "cell_type": "markdown",
   "id": "b163e4b8",
   "metadata": {
    "slideshow": {
     "slide_type": "slide"
    }
   },
   "source": [
    "Jetzt dasselbe mit den Pinguinen"
   ]
  },
  {
   "cell_type": "code",
   "execution_count": 19,
   "id": "161008cb",
   "metadata": {},
   "outputs": [],
   "source": [
    "df = sns.load_dataset(\"penguins\")\n"
   ]
  },
  {
   "cell_type": "code",
   "execution_count": 20,
   "id": "2ff5d9de",
   "metadata": {},
   "outputs": [],
   "source": [
    "gA = df[df.species=='Adelie'].bill_length_mm.dropna()\n",
    "gG = df[df.species=='Gentoo'].bill_length_mm.dropna()\n",
    "gC = df[df.species=='Chinstrap'].bill_length_mm.dropna()"
   ]
  },
  {
   "cell_type": "code",
   "execution_count": 21,
   "id": "9d8734e8",
   "metadata": {
    "slideshow": {
     "slide_type": "slide"
    }
   },
   "outputs": [
    {
     "data": {
      "text/plain": [
       "5.4595837139265315"
      ]
     },
     "execution_count": 21,
     "metadata": {},
     "output_type": "execute_result"
    }
   ],
   "source": [
    "df.bill_length_mm.std()"
   ]
  },
  {
   "cell_type": "code",
   "execution_count": 22,
   "id": "b07c0ac4",
   "metadata": {},
   "outputs": [
    {
     "data": {
      "text/plain": [
       "2.663404848368619"
      ]
     },
     "execution_count": 22,
     "metadata": {},
     "output_type": "execute_result"
    }
   ],
   "source": [
    "gA.std()"
   ]
  },
  {
   "cell_type": "code",
   "execution_count": 23,
   "id": "64fac225",
   "metadata": {},
   "outputs": [
    {
     "data": {
      "text/plain": [
       "3.081857372114287"
      ]
     },
     "execution_count": 23,
     "metadata": {},
     "output_type": "execute_result"
    }
   ],
   "source": [
    "gG.std()"
   ]
  },
  {
   "cell_type": "code",
   "execution_count": 24,
   "id": "5aea18ae",
   "metadata": {},
   "outputs": [
    {
     "data": {
      "text/plain": [
       "3.3392558959358865"
      ]
     },
     "execution_count": 24,
     "metadata": {},
     "output_type": "execute_result"
    }
   ],
   "source": [
    "gC.std()"
   ]
  },
  {
   "cell_type": "markdown",
   "id": "1d1917c5",
   "metadata": {
    "slideshow": {
     "slide_type": "fragment"
    }
   },
   "source": [
    "* Die Stichprobenstreuung im gesamten Datensatz ist größer als in den einzelnen Gruppen.  \n",
    "* Der Unterschied kommt daher, dass sich die Gruppenmittelwerte stärker unterscheiden, als sich das durch Variation innerhalb der Gruppen erklären lässt"
   ]
  },
  {
   "cell_type": "code",
   "execution_count": 25,
   "id": "a1097bf2",
   "metadata": {
    "slideshow": {
     "slide_type": "slide"
    }
   },
   "outputs": [
    {
     "data": {
      "image/png": "[encoded data removed]",
      "text/plain": [
       "<Figure size 640x480 with 1 Axes>"
      ]
     },
     "metadata": {},
     "output_type": "display_data"
    }
   ],
   "source": [
    "sns.scatterplot(df, y='bill_length_mm', x='species', hue='species', legend=False);"
   ]
  },
  {
   "cell_type": "markdown",
   "id": "469f1a89",
   "metadata": {
    "slideshow": {
     "slide_type": "fragment"
    }
   },
   "source": [
    "In der tatsächlich benutzen Formel kommt anstelle der Stichprobenstreuung die Varianz vor, daher der Name \"Analysis of Varianz\""
   ]
  },
  {
   "cell_type": "markdown",
   "id": "2b4a26f3",
   "metadata": {
    "slideshow": {
     "slide_type": "slide"
    }
   },
   "source": [
    "# Heteroskedastizität"
   ]
  },
  {
   "cell_type": "markdown",
   "id": "9acc6c62",
   "metadata": {
    "slideshow": {
     "slide_type": "slide"
    }
   },
   "source": [
    "* Die ANOVA vergleicht die Varianzen innerhalb der einzelnen Gruppen mit der Varianz im gesamten Datensatz, um die Unterschiede zwischen den Gruppen zu untersuchen\n",
    "* À priori geht das erstmal nur, wenn die Varianzen innerhalb der Gruppen gleich sind"
   ]
  },
  {
   "cell_type": "markdown",
   "id": "1b491d14",
   "metadata": {
    "slideshow": {
     "slide_type": "fragment"
    }
   },
   "source": [
    "* Ein Datensatz ist *heteroskedastisch*, wenn die verschiedenen Gruppen unterschiedliche Varianz haben\n",
    "* Sonst ist er *homoskedastisch*"
   ]
  },
  {
   "cell_type": "markdown",
   "id": "85b1964e",
   "metadata": {
    "slideshow": {
     "slide_type": "slide"
    }
   },
   "source": [
    "# Der Levene-Test"
   ]
  },
  {
   "cell_type": "markdown",
   "id": "6f177093",
   "metadata": {
    "slideshow": {
     "slide_type": "slide"
    }
   },
   "source": [
    "Der Levene-Test testet auf Gleichheit der Varianzen"
   ]
  },
  {
   "cell_type": "markdown",
   "id": "458ef8f3",
   "metadata": {
    "slideshow": {
     "slide_type": "fragment"
    }
   },
   "source": [
    "Drei verschiedene Lehrmethoden werden angewandt.  Die Ergebnisse der Probandinnen und Probanden im Abschlusstest werden verglichen.  Führen verschiedene Lehrmethoden zu unterschiedlichen Ergebnissen?"
   ]
  },
  {
   "cell_type": "code",
   "execution_count": 26,
   "id": "baf07eb7",
   "metadata": {},
   "outputs": [],
   "source": [
    "dfa = pd.DataFrame()\n",
    "dfb = pd.DataFrame()\n",
    "dfc = pd.DataFrame()"
   ]
  },
  {
   "cell_type": "code",
   "execution_count": 27,
   "id": "f9d37161",
   "metadata": {},
   "outputs": [],
   "source": [
    "dfa['A'] = [42, 115, 73, 58, 64, 100, 112, 112, 52, 70,\n",
    "    152, 215, 176, 97, 145, 100, 82, 94, 165, 97]\n",
    "\n",
    "dfb['B'] = [165, 165, 152, 173, 225, 173, 136, 145, 188, 155,\n",
    "    197, 233, 236, 264, 200, 252, 258, 212, 145, 273]\n",
    "\n",
    "dfc['C'] = [236, 185, 339, 255, 264, 325, 267, 215, 233, 295,\n",
    "    255, 264, 224, 245, 248, 309, 264, 273, 294, 230]"
   ]
  },
  {
   "cell_type": "markdown",
   "id": "b8c86fa3",
   "metadata": {
    "slideshow": {
     "slide_type": "slide"
    }
   },
   "source": [
    "Test auf Heteroskedastizität"
   ]
  },
  {
   "cell_type": "code",
   "execution_count": 28,
   "id": "4e40341e",
   "metadata": {},
   "outputs": [
    {
     "data": {
      "text/plain": [
       "LeveneResult(statistic=0.6457341109631508, pvalue=0.5280694573759905)"
      ]
     },
     "execution_count": 28,
     "metadata": {},
     "output_type": "execute_result"
    }
   ],
   "source": [
    "stats.levene(dfa.A, dfb.B, dfc.C)"
   ]
  },
  {
   "cell_type": "markdown",
   "id": "dfdc6481",
   "metadata": {},
   "source": [
    "* Der p-Wert ist 0.53.  Hetereskedastizizät kann nicht nachgewiesen werden."
   ]
  },
  {
   "cell_type": "markdown",
   "id": "bbd3ee5b",
   "metadata": {
    "slideshow": {
     "slide_type": "fragment"
    }
   },
   "source": [
    "* Wir fahren mit der ANOVA fort"
   ]
  },
  {
   "cell_type": "code",
   "execution_count": 29,
   "id": "f28ca295",
   "metadata": {},
   "outputs": [
    {
     "data": {
      "text/plain": [
       "F_onewayResult(statistic=67.41573785674242, pvalue=9.532727011700098e-16)"
      ]
     },
     "execution_count": 29,
     "metadata": {},
     "output_type": "execute_result"
    }
   ],
   "source": [
    "stats.f_oneway(dfa.A, dfb.B, dfc.C)"
   ]
  },
  {
   "cell_type": "markdown",
   "id": "000d4cbf",
   "metadata": {
    "slideshow": {
     "slide_type": "slide"
    }
   },
   "source": [
    "### Beispiel: Barsche"
   ]
  },
  {
   "cell_type": "markdown",
   "id": "6596a099",
   "metadata": {},
   "source": [
    "Es werden Barsche gleichen Alters verglichen"
   ]
  },
  {
   "cell_type": "code",
   "execution_count": 30,
   "id": "df9b36a3",
   "metadata": {},
   "outputs": [
    {
     "data": {
      "text/html": [
       "<div>\n",
       "<style scoped>\n",
       "    .dataframe tbody tr th:only-of-type {\n",
       "        vertical-align: middle;\n",
       "    }\n",
       "\n",
       "    .dataframe tbody tr th {\n",
       "        vertical-align: top;\n",
       "    }\n",
       "\n",
       "    .dataframe thead th {\n",
       "        text-align: right;\n",
       "    }\n",
       "</style>\n",
       "<table border=\"1\" class=\"dataframe\">\n",
       "  <thead>\n",
       "    <tr style=\"text-align: right;\">\n",
       "      <th></th>\n",
       "      <th>Art</th>\n",
       "      <th>Länge</th>\n",
       "    </tr>\n",
       "  </thead>\n",
       "  <tbody>\n",
       "    <tr>\n",
       "      <th>0</th>\n",
       "      <td>gestreift</td>\n",
       "      <td>9.890006</td>\n",
       "    </tr>\n",
       "    <tr>\n",
       "      <th>1</th>\n",
       "      <td>gestreift</td>\n",
       "      <td>9.343944</td>\n",
       "    </tr>\n",
       "    <tr>\n",
       "      <th>2</th>\n",
       "      <td>gestreift</td>\n",
       "      <td>9.867069</td>\n",
       "    </tr>\n",
       "    <tr>\n",
       "      <th>3</th>\n",
       "      <td>gestreift</td>\n",
       "      <td>10.302781</td>\n",
       "    </tr>\n",
       "    <tr>\n",
       "      <th>4</th>\n",
       "      <td>gestreift</td>\n",
       "      <td>10.066964</td>\n",
       "    </tr>\n",
       "  </tbody>\n",
       "</table>\n",
       "</div>"
      ],
      "text/plain": [
       "         Art      Länge\n",
       "0  gestreift   9.890006\n",
       "1  gestreift   9.343944\n",
       "2  gestreift   9.867069\n",
       "3  gestreift  10.302781\n",
       "4  gestreift  10.066964"
      ]
     },
     "execution_count": 30,
     "metadata": {},
     "output_type": "execute_result"
    }
   ],
   "source": [
    "df = pd.read_csv('barsche.csv')\n",
    "df.head()"
   ]
  },
  {
   "cell_type": "code",
   "execution_count": 31,
   "id": "53ab3838",
   "metadata": {
    "slideshow": {
     "slide_type": "slide"
    }
   },
   "outputs": [
    {
     "data": {
      "image/png": "[encoded data removed]",
      "text/plain": [
       "<Figure size 640x480 with 1 Axes>"
      ]
     },
     "metadata": {},
     "output_type": "display_data"
    }
   ],
   "source": [
    "sns.boxplot(data=df, x=\"Art\", y=\"Länge\");"
   ]
  },
  {
   "cell_type": "markdown",
   "id": "c6f68c4c",
   "metadata": {
    "slideshow": {
     "slide_type": "fragment"
    }
   },
   "source": [
    "Sieht heteroskedastisch aus.  "
   ]
  },
  {
   "cell_type": "code",
   "execution_count": 32,
   "id": "acb5ecd0",
   "metadata": {
    "slideshow": {
     "slide_type": "slide"
    }
   },
   "outputs": [],
   "source": [
    "ds = df[df.Art=='gestreift'].Länge\n",
    "dl = df[df.Art=='gefleckt'].Länge\n",
    "db = df[df.Art=='blau'].Länge\n",
    "dr = df[df.Art=='braun'].Länge"
   ]
  },
  {
   "cell_type": "code",
   "execution_count": 33,
   "id": "ce8c3087",
   "metadata": {},
   "outputs": [
    {
     "data": {
      "text/plain": [
       "LeveneResult(statistic=13.459492972830807, pvalue=1.3472893996510424e-07)"
      ]
     },
     "execution_count": 33,
     "metadata": {},
     "output_type": "execute_result"
    }
   ],
   "source": [
    "stats.levene(ds, dl, dr, db)"
   ]
  },
  {
   "cell_type": "markdown",
   "id": "ede5bccb",
   "metadata": {
    "slideshow": {
     "slide_type": "slide"
    }
   },
   "source": [
    "# Probleme beim Test auf Heteroskedastizität"
   ]
  },
  {
   "cell_type": "markdown",
   "id": "3831f615",
   "metadata": {
    "slideshow": {
     "slide_type": "fragment"
    }
   },
   "source": [
    "* Die Nullhypothese beim Levene-Test ist \n",
    "\n",
    "> $H_0$:  Die Daten sind homoskedastisch\n",
    "\n",
    "* Ein Hypothesentest \"beweist\" nie die Nullhypothese\n",
    "  * bei starken Indizien dagegen lehnt er sie ab\n",
    "  * bei starken Indizien dafür behält er sie bei\n",
    "  * bei unklaren Indizien behält er sie auch bei "
   ]
  },
  {
   "cell_type": "markdown",
   "id": "c4c375ee",
   "metadata": {
    "slideshow": {
     "slide_type": "fragment"
    }
   },
   "source": [
    "* um zu erkennen, ob der Levene-Test Heteroskedastizität überhaupt erkennen kann, wäre eine Poweranalyse für den Levene-Test nötig, das ist aber unrealistisch"
   ]
  },
  {
   "cell_type": "markdown",
   "id": "718dc968",
   "metadata": {
    "slideshow": {
     "slide_type": "fragment"
    }
   },
   "source": [
    "* auch das andere Extrem ist möglich:  Der Stichprobenumfang ist so groß, dass kleine Unterschiede schon signifikant werden"
   ]
  },
  {
   "cell_type": "markdown",
   "id": "f53faa49",
   "metadata": {
    "slideshow": {
     "slide_type": "slide"
    }
   },
   "source": [
    "👁️eyeballing (scharfes Hinsehen)"
   ]
  },
  {
   "cell_type": "markdown",
   "id": "a8230228",
   "metadata": {
    "slideshow": {
     "slide_type": "slide"
    }
   },
   "source": [
    "# Alexander-Govern-Test"
   ]
  },
  {
   "cell_type": "markdown",
   "id": "55e4763c",
   "metadata": {
    "slideshow": {
     "slide_type": "slide"
    }
   },
   "source": [
    "Wenn die Daten heteroskedastisch, aber normalverteilt sind, dann rechnet man einen Alexander-Govern-Test"
   ]
  },
  {
   "cell_type": "code",
   "execution_count": 34,
   "id": "3a624bbe",
   "metadata": {},
   "outputs": [
    {
     "data": {
      "text/plain": [
       "AlexanderGovernResult(statistic=113.40810114676775, pvalue=2.02668339537414e-24)"
      ]
     },
     "execution_count": 34,
     "metadata": {},
     "output_type": "execute_result"
    }
   ],
   "source": [
    "stats.alexandergovern(ds, dl, dr, db)"
   ]
  },
  {
   "cell_type": "markdown",
   "id": "eb2c7eea",
   "metadata": {
    "slideshow": {
     "slide_type": "fragment"
    }
   },
   "source": [
    "Im homoskedastischen Fall ist der p-Wert des Alexander-Govern-Tests meist schlechter als der von `f_oneway`"
   ]
  },
  {
   "cell_type": "code",
   "execution_count": 35,
   "id": "8e9355de",
   "metadata": {},
   "outputs": [
    {
     "data": {
      "text/plain": [
       "AlexanderGovernResult(statistic=56.825380493158306, pvalue=4.576415099851176e-13)"
      ]
     },
     "execution_count": 35,
     "metadata": {},
     "output_type": "execute_result"
    }
   ],
   "source": [
    "stats.alexandergovern(dfa.A, dfb.B, dfc.C)"
   ]
  },
  {
   "cell_type": "code",
   "execution_count": 36,
   "id": "7a752634",
   "metadata": {},
   "outputs": [
    {
     "data": {
      "text/plain": [
       "F_onewayResult(statistic=67.41573785674242, pvalue=9.532727011700098e-16)"
      ]
     },
     "execution_count": 36,
     "metadata": {},
     "output_type": "execute_result"
    }
   ],
   "source": [
    "stats.f_oneway(dfa.A, dfb.B, dfc.C)"
   ]
  }
 ],
 "metadata": {
  "celltoolbar": "Slideshow",
  "kernelspec": {
   "display_name": "Python 3 (ipykernel)",
   "language": "python",
   "name": "python3"
  },
  "language_info": {
   "codemirror_mode": {
    "name": "ipython",
    "version": 3
   },
   "file_extension": ".py",
   "mimetype": "text/x-python",
   "name": "python",
   "nbconvert_exporter": "python",
   "pygments_lexer": "ipython3",
   "version": "3.11.10"
  }
 },
 "nbformat": 4,
 "nbformat_minor": 5
}
