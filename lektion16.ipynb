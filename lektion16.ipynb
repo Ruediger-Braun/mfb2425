{
 "cells": [
  {
   "cell_type": "markdown",
   "id": "97e910de",
   "metadata": {
    "slideshow": {
     "slide_type": "slide"
    }
   },
   "source": [
    "# Mathematik für Biologiestudierende II\n",
    "\n",
    "Sommersemester 2025\n",
    "\n",
    "15.04.2025\n",
    "\n",
    "&copy; 2025 Prof. Dr. Rüdiger W. Braun "
   ]
  },
  {
   "cell_type": "code",
   "execution_count": 4,
   "id": "a56ebe0f",
   "metadata": {
    "slideshow": {
     "slide_type": "slide"
    }
   },
   "outputs": [],
   "source": [
    "import numpy as np\n",
    "import pandas as pd\n",
    "from scipy import stats\n",
    "import seaborn as sns\n",
    "sns.set_theme()"
   ]
  },
  {
   "cell_type": "markdown",
   "id": "9feb729f",
   "metadata": {
    "slideshow": {
     "slide_type": "slide"
    }
   },
   "source": [
    "# Multiples Testen"
   ]
  },
  {
   "cell_type": "markdown",
   "id": "0ad4174d",
   "metadata": {
    "slideshow": {
     "slide_type": "slide"
    }
   },
   "source": [
    "### Beispiel Gummibärchen\n",
    "\n",
    "<img src=\"bilder/signi1.png\" alt=\"Cartoon von xkcd\" width=\"75%\"/>\n",
    "\n",
    "&copy; xkcd.com"
   ]
  },
  {
   "cell_type": "markdown",
   "id": "5a139c88",
   "metadata": {
    "slideshow": {
     "slide_type": "slide"
    }
   },
   "source": [
    "<img src=\"bilder/signi2.png\" alt=\"Cartoon von xkcd\" width=\"75%\"/>"
   ]
  },
  {
   "cell_type": "markdown",
   "id": "9ad2ab3d",
   "metadata": {
    "slideshow": {
     "slide_type": "slide"
    }
   },
   "source": [
    "<img src=\"bilder/signi3.png\" alt=\"Cartoon von xkcd\" width=\"75%\"/>"
   ]
  },
  {
   "cell_type": "markdown",
   "id": "77d18ede",
   "metadata": {
    "slideshow": {
     "slide_type": "slide"
    }
   },
   "source": [
    "<img src=\"bilder/signi4.png\" alt=\"Cartoon von xkcd\" width=\"75%\"/>"
   ]
  },
  {
   "cell_type": "markdown",
   "id": "9fdd4338",
   "metadata": {
    "slideshow": {
     "slide_type": "slide"
    }
   },
   "source": [
    "* Ein Fall von Data Snooping\n",
    "* Bei einem Signifikanztest zum Nivea $\\alpha=0.05$ wird in 5% der Fälle die Nullhypothese fälschlich abgelehnt\n",
    "* In dem Beispiel des Cartoons gibt es 20 Experimente; es ist zu erwarten, dass in einem Fall die Nullhypothese zu unrecht abgelehnt wird"
   ]
  },
  {
   "cell_type": "markdown",
   "id": "2c7896ed",
   "metadata": {
    "slideshow": {
     "slide_type": "fragment"
    }
   },
   "source": [
    "* wenn wir gemäß Bonferroni korrigieren, dann müssen wir jeden einzelnen Test zum Signifikanzniveau $\\frac\\alpha{20}$ durchführen"
   ]
  },
  {
   "cell_type": "markdown",
   "id": "cd85a3b9",
   "metadata": {
    "slideshow": {
     "slide_type": "slide"
    }
   },
   "source": [
    "# ANOVA"
   ]
  },
  {
   "cell_type": "markdown",
   "id": "817b1a2f",
   "metadata": {
    "slideshow": {
     "slide_type": "slide"
    }
   },
   "source": [
    "* ANOVA: Analysis of Variance\n",
    "* Ziel: Vergleich bei Vorliegen von mehr als zwei Gruppen"
   ]
  },
  {
   "cell_type": "markdown",
   "id": "da799237",
   "metadata": {
    "slideshow": {
     "slide_type": "fragment"
    }
   },
   "source": [
    "Welche Daten hat man?\n",
    "\n",
    "* Eine Population\n",
    "* Eine Zielvariable.  Das ist die kontinuierliche Größe, die gemessen wird.\n",
    "* Einen Faktor.  Das ist eine kategorielle (also qualitative oder diskrete quantitative) Größen, von der man nachweisen will, dass sie die Zielvariable beeinflusst\n",
    "* Alle Mitglieder der Population, bei denen der Faktor denselben Wert hat, bilden eine *Gruppe*"
   ]
  },
  {
   "cell_type": "markdown",
   "id": "7dc6affe",
   "metadata": {
    "slideshow": {
     "slide_type": "fragment"
    }
   },
   "source": [
    "* Wenn man nur zwei Gruppen hat, dann macht man einen unverbundenen, zweiseitigen t-Test"
   ]
  },
  {
   "cell_type": "markdown",
   "id": "22eb5082",
   "metadata": {
    "slideshow": {
     "slide_type": "slide"
    }
   },
   "source": [
    "### Beispiel Schadstoffkonzentration"
   ]
  },
  {
   "cell_type": "markdown",
   "id": "1b75d042",
   "metadata": {},
   "source": [
    "* An fünf verschiedenen Messstellen wurde die Konzentration eines Schadstoffs gemessen\n",
    "* Hat die Messstelle einen Einfluss auf die Konzentration?"
   ]
  },
  {
   "cell_type": "markdown",
   "id": "0ecff20e",
   "metadata": {
    "slideshow": {
     "slide_type": "fragment"
    }
   },
   "source": [
    "* Die Messstelle ist der Faktor\n",
    "* Die Konzentration ist die Zielvariable\n",
    "* es gibt fünf Gruppen, eine für jede Messstelle"
   ]
  },
  {
   "cell_type": "code",
   "execution_count": 5,
   "id": "61c93d94",
   "metadata": {
    "slideshow": {
     "slide_type": "slide"
    }
   },
   "outputs": [
    {
     "data": {
      "text/html": [
       "<div>\n",
       "<style scoped>\n",
       "    .dataframe tbody tr th:only-of-type {\n",
       "        vertical-align: middle;\n",
       "    }\n",
       "\n",
       "    .dataframe tbody tr th {\n",
       "        vertical-align: top;\n",
       "    }\n",
       "\n",
       "    .dataframe thead th {\n",
       "        text-align: right;\n",
       "    }\n",
       "</style>\n",
       "<table border=\"1\" class=\"dataframe\">\n",
       "  <thead>\n",
       "    <tr style=\"text-align: right;\">\n",
       "      <th></th>\n",
       "      <th>Messstelle</th>\n",
       "      <th>Konzentration</th>\n",
       "    </tr>\n",
       "  </thead>\n",
       "  <tbody>\n",
       "    <tr>\n",
       "      <th>0</th>\n",
       "      <td>5</td>\n",
       "      <td>0.000867</td>\n",
       "    </tr>\n",
       "    <tr>\n",
       "      <th>1</th>\n",
       "      <td>3</td>\n",
       "      <td>0.000490</td>\n",
       "    </tr>\n",
       "    <tr>\n",
       "      <th>2</th>\n",
       "      <td>1</td>\n",
       "      <td>0.000589</td>\n",
       "    </tr>\n",
       "    <tr>\n",
       "      <th>3</th>\n",
       "      <td>1</td>\n",
       "      <td>0.000950</td>\n",
       "    </tr>\n",
       "    <tr>\n",
       "      <th>4</th>\n",
       "      <td>4</td>\n",
       "      <td>0.001152</td>\n",
       "    </tr>\n",
       "    <tr>\n",
       "      <th>...</th>\n",
       "      <td>...</td>\n",
       "      <td>...</td>\n",
       "    </tr>\n",
       "    <tr>\n",
       "      <th>75</th>\n",
       "      <td>5</td>\n",
       "      <td>0.000918</td>\n",
       "    </tr>\n",
       "    <tr>\n",
       "      <th>76</th>\n",
       "      <td>3</td>\n",
       "      <td>0.000528</td>\n",
       "    </tr>\n",
       "    <tr>\n",
       "      <th>77</th>\n",
       "      <td>3</td>\n",
       "      <td>0.000961</td>\n",
       "    </tr>\n",
       "    <tr>\n",
       "      <th>78</th>\n",
       "      <td>4</td>\n",
       "      <td>0.001272</td>\n",
       "    </tr>\n",
       "    <tr>\n",
       "      <th>79</th>\n",
       "      <td>3</td>\n",
       "      <td>0.001012</td>\n",
       "    </tr>\n",
       "  </tbody>\n",
       "</table>\n",
       "<p>80 rows × 2 columns</p>\n",
       "</div>"
      ],
      "text/plain": [
       "    Messstelle  Konzentration\n",
       "0            5       0.000867\n",
       "1            3       0.000490\n",
       "2            1       0.000589\n",
       "3            1       0.000950\n",
       "4            4       0.001152\n",
       "..         ...            ...\n",
       "75           5       0.000918\n",
       "76           3       0.000528\n",
       "77           3       0.000961\n",
       "78           4       0.001272\n",
       "79           3       0.001012\n",
       "\n",
       "[80 rows x 2 columns]"
      ]
     },
     "execution_count": 5,
     "metadata": {},
     "output_type": "execute_result"
    }
   ],
   "source": [
    "u_schad = \"https://www.math.uni-duesseldorf.de/~braun/bio2324/data/schadstoffe.csv\"\n",
    "df = pd.read_csv(u_schad, index_col=0)\n",
    "df"
   ]
  },
  {
   "cell_type": "code",
   "execution_count": 13,
   "id": "505104c1",
   "metadata": {
    "slideshow": {
     "slide_type": "slide"
    }
   },
   "outputs": [
    {
     "data": {
      "image/png": "[encoded data removed]",
      "text/plain": [
       "<Figure size 2500x500 with 5 Axes>"
      ]
     },
     "metadata": {},
     "output_type": "display_data"
    }
   ],
   "source": [
    "sns.displot(data=df, x='Konzentration', col='Messstelle');"
   ]
  },
  {
   "cell_type": "markdown",
   "id": "18710cf1",
   "metadata": {
    "slideshow": {
     "slide_type": "slide"
    }
   },
   "source": [
    "Wir müssen die Gruppen mit `pandas` trennen"
   ]
  },
  {
   "cell_type": "code",
   "execution_count": 14,
   "id": "b441c24a",
   "metadata": {},
   "outputs": [
    {
     "data": {
      "text/plain": [
       "2     0.000589\n",
       "3     0.000950\n",
       "13    0.001301\n",
       "14    0.001605\n",
       "18    0.000927\n",
       "22    0.001250\n",
       "28    0.000965\n",
       "33    0.000669\n",
       "41    0.000712\n",
       "42    0.001019\n",
       "45    0.000780\n",
       "54    0.001306\n",
       "61    0.001006\n",
       "64    0.001057\n",
       "65    0.000381\n",
       "70    0.000919\n",
       "74    0.001323\n",
       "Name: Konzentration, dtype: float64"
      ]
     },
     "execution_count": 14,
     "metadata": {},
     "output_type": "execute_result"
    }
   ],
   "source": [
    "g1 = df[df.Messstelle==1].Konzentration\n",
    "g1"
   ]
  },
  {
   "cell_type": "code",
   "execution_count": 15,
   "id": "ac3a5ebf",
   "metadata": {},
   "outputs": [],
   "source": [
    "g2 = df[df.Messstelle==2].Konzentration\n",
    "g3 = df[df.Messstelle==3].Konzentration\n",
    "g4 = df[df.Messstelle==4].Konzentration\n",
    "g5 = df[df.Messstelle==5].Konzentration"
   ]
  },
  {
   "cell_type": "code",
   "execution_count": 16,
   "id": "467ca96c",
   "metadata": {
    "slideshow": {
     "slide_type": "slide"
    }
   },
   "outputs": [
    {
     "data": {
      "text/plain": [
       "F_onewayResult(statistic=np.float64(0.8666121588849811), pvalue=np.float64(0.48807057520065544))"
      ]
     },
     "execution_count": 16,
     "metadata": {},
     "output_type": "execute_result"
    }
   ],
   "source": [
    "res = stats.f_oneway(g1, g2, g3, g4, g5)\n",
    "res"
   ]
  },
  {
   "cell_type": "markdown",
   "id": "47d8e66e",
   "metadata": {
    "slideshow": {
     "slide_type": "fragment"
    }
   },
   "source": [
    "* es wurde eine *one way ANOVA* gerechnet, also eine mit nur einem Faktor"
   ]
  },
  {
   "cell_type": "markdown",
   "id": "aed94c05",
   "metadata": {
    "slideshow": {
     "slide_type": "fragment"
    }
   },
   "source": [
    "* Der p-Wert ist 0.5\n",
    "* Die Messstelle hat keinen Einfluss auf die Konzentration"
   ]
  },
  {
   "cell_type": "markdown",
   "id": "c6aae117",
   "metadata": {
    "slideshow": {
     "slide_type": "slide"
    }
   },
   "source": [
    "Welche Verteilung benutzt dieser Test?\n",
    "\n",
    "* Die F-Verteilung dient zum Vergleich zweier Varianzen\n",
    "* Sie hat zwei Parameter:\n",
    "  * bei der einfaktoriellen ANOVA ist der erste Parameter gleich $g-1$, wenn $g$ die Anzahl der Gruppen ist\n",
    "  * und der zweite ist $n-g$, wenn $n$ der Stichprobenumfang ist"
   ]
  },
  {
   "cell_type": "markdown",
   "id": "7e22b3d3",
   "metadata": {},
   "source": [
    "* Im Beispiel: $g=5$, $n=80$"
   ]
  },
  {
   "cell_type": "code",
   "execution_count": 17,
   "id": "36c71585",
   "metadata": {},
   "outputs": [
    {
     "data": {
      "text/plain": [
       "np.float64(0.48807057520065544)"
      ]
     },
     "execution_count": 17,
     "metadata": {},
     "output_type": "execute_result"
    }
   ],
   "source": [
    "P = stats.f(4, 75)\n",
    "1 - P.cdf(res.statistic)"
   ]
  },
  {
   "cell_type": "markdown",
   "id": "85770326",
   "metadata": {
    "slideshow": {
     "slide_type": "fragment"
    }
   },
   "source": [
    "Zum Vergleich"
   ]
  },
  {
   "cell_type": "code",
   "execution_count": 19,
   "id": "ebfdd223",
   "metadata": {},
   "outputs": [
    {
     "data": {
      "text/plain": [
       "np.float64(0.48807057520065544)"
      ]
     },
     "execution_count": 19,
     "metadata": {},
     "output_type": "execute_result"
    }
   ],
   "source": [
    "res.pvalue"
   ]
  },
  {
   "cell_type": "markdown",
   "id": "1dbd95e4",
   "metadata": {
    "slideshow": {
     "slide_type": "slide"
    }
   },
   "source": [
    "### Haben unterschiedliche Pinguinarten unterschiedliche Schnabellängen?"
   ]
  },
  {
   "cell_type": "code",
   "execution_count": 20,
   "id": "d1b6bd66",
   "metadata": {},
   "outputs": [
    {
     "data": {
      "text/html": [
       "<div>\n",
       "<style scoped>\n",
       "    .dataframe tbody tr th:only-of-type {\n",
       "        vertical-align: middle;\n",
       "    }\n",
       "\n",
       "    .dataframe tbody tr th {\n",
       "        vertical-align: top;\n",
       "    }\n",
       "\n",
       "    .dataframe thead th {\n",
       "        text-align: right;\n",
       "    }\n",
       "</style>\n",
       "<table border=\"1\" class=\"dataframe\">\n",
       "  <thead>\n",
       "    <tr style=\"text-align: right;\">\n",
       "      <th></th>\n",
       "      <th>species</th>\n",
       "      <th>island</th>\n",
       "      <th>bill_length_mm</th>\n",
       "      <th>bill_depth_mm</th>\n",
       "      <th>flipper_length_mm</th>\n",
       "      <th>body_mass_g</th>\n",
       "      <th>sex</th>\n",
       "    </tr>\n",
       "  </thead>\n",
       "  <tbody>\n",
       "    <tr>\n",
       "      <th>0</th>\n",
       "      <td>Adelie</td>\n",
       "      <td>Torgersen</td>\n",
       "      <td>39.1</td>\n",
       "      <td>18.7</td>\n",
       "      <td>181.0</td>\n",
       "      <td>3750.0</td>\n",
       "      <td>Male</td>\n",
       "    </tr>\n",
       "    <tr>\n",
       "      <th>1</th>\n",
       "      <td>Adelie</td>\n",
       "      <td>Torgersen</td>\n",
       "      <td>39.5</td>\n",
       "      <td>17.4</td>\n",
       "      <td>186.0</td>\n",
       "      <td>3800.0</td>\n",
       "      <td>Female</td>\n",
       "    </tr>\n",
       "    <tr>\n",
       "      <th>2</th>\n",
       "      <td>Adelie</td>\n",
       "      <td>Torgersen</td>\n",
       "      <td>40.3</td>\n",
       "      <td>18.0</td>\n",
       "      <td>195.0</td>\n",
       "      <td>3250.0</td>\n",
       "      <td>Female</td>\n",
       "    </tr>\n",
       "    <tr>\n",
       "      <th>3</th>\n",
       "      <td>Adelie</td>\n",
       "      <td>Torgersen</td>\n",
       "      <td>NaN</td>\n",
       "      <td>NaN</td>\n",
       "      <td>NaN</td>\n",
       "      <td>NaN</td>\n",
       "      <td>NaN</td>\n",
       "    </tr>\n",
       "    <tr>\n",
       "      <th>4</th>\n",
       "      <td>Adelie</td>\n",
       "      <td>Torgersen</td>\n",
       "      <td>36.7</td>\n",
       "      <td>19.3</td>\n",
       "      <td>193.0</td>\n",
       "      <td>3450.0</td>\n",
       "      <td>Female</td>\n",
       "    </tr>\n",
       "  </tbody>\n",
       "</table>\n",
       "</div>"
      ],
      "text/plain": [
       "  species     island  bill_length_mm  bill_depth_mm  flipper_length_mm  \\\n",
       "0  Adelie  Torgersen            39.1           18.7              181.0   \n",
       "1  Adelie  Torgersen            39.5           17.4              186.0   \n",
       "2  Adelie  Torgersen            40.3           18.0              195.0   \n",
       "3  Adelie  Torgersen             NaN            NaN                NaN   \n",
       "4  Adelie  Torgersen            36.7           19.3              193.0   \n",
       "\n",
       "   body_mass_g     sex  \n",
       "0       3750.0    Male  \n",
       "1       3800.0  Female  \n",
       "2       3250.0  Female  \n",
       "3          NaN     NaN  \n",
       "4       3450.0  Female  "
      ]
     },
     "execution_count": 20,
     "metadata": {},
     "output_type": "execute_result"
    }
   ],
   "source": [
    "df = sns.load_dataset(\"penguins\") \n",
    "df.head()"
   ]
  },
  {
   "cell_type": "markdown",
   "id": "5e1311d2",
   "metadata": {
    "slideshow": {
     "slide_type": "slide"
    }
   },
   "source": [
    "Einschub:\n",
    "\n",
    "* Was ist der Unterschied zwischen `sns.load_dataset` und `pd.read_csv`"
   ]
  },
  {
   "cell_type": "markdown",
   "id": "713427e9",
   "metadata": {
    "slideshow": {
     "slide_type": "fragment"
    }
   },
   "source": [
    "* `sns.load_dataset` lädt einen von einem Dutzend sorgfältig vorbereiteten Datensätzen, die von den Programmiererinnen und Programmieren von `seaborn` bereit gestellt werden\n",
    "* `pd.read_csv` kann beliebige `csv`-Datei einlesen"
   ]
  },
  {
   "cell_type": "markdown",
   "id": "73accd58",
   "metadata": {
    "slideshow": {
     "slide_type": "fragment"
    }
   },
   "source": [
    "* es gibt auch noch `pd.read_excel` zum Einlesen von `*.xlsx` und `*.ods`-Dateien"
   ]
  },
  {
   "cell_type": "code",
   "execution_count": 34,
   "id": "31484ee3",
   "metadata": {
    "slideshow": {
     "slide_type": "slide"
    }
   },
   "outputs": [
    {
     "data": {
      "image/png": "[encoded data removed]",
      "text/plain": [
       "<Figure size 620.375x500 with 1 Axes>"
      ]
     },
     "metadata": {},
     "output_type": "display_data"
    }
   ],
   "source": [
    "sns.displot(df, x='bill_length_mm', hue='species', multiple='stack');"
   ]
  },
  {
   "cell_type": "code",
   "execution_count": 27,
   "id": "c97ff18b",
   "metadata": {
    "slideshow": {
     "slide_type": "slide"
    }
   },
   "outputs": [
    {
     "data": {
      "text/plain": [
       "species\n",
       "Adelie       152\n",
       "Gentoo       124\n",
       "Chinstrap     68\n",
       "Name: count, dtype: int64"
      ]
     },
     "execution_count": 27,
     "metadata": {},
     "output_type": "execute_result"
    }
   ],
   "source": [
    "df.species.value_counts()"
   ]
  },
  {
   "cell_type": "code",
   "execution_count": 28,
   "id": "45311ccf",
   "metadata": {
    "slideshow": {
     "slide_type": "slide"
    }
   },
   "outputs": [
    {
     "data": {
      "text/plain": [
       "0      39.1\n",
       "1      39.5\n",
       "2      40.3\n",
       "3       NaN\n",
       "4      36.7\n",
       "       ... \n",
       "147    36.6\n",
       "148    36.0\n",
       "149    37.8\n",
       "150    36.0\n",
       "151    41.5\n",
       "Name: bill_length_mm, Length: 152, dtype: float64"
      ]
     },
     "execution_count": 28,
     "metadata": {},
     "output_type": "execute_result"
    }
   ],
   "source": [
    "gA = df[df.species=='Adelie'].bill_length_mm\n",
    "gA"
   ]
  },
  {
   "cell_type": "code",
   "execution_count": 29,
   "id": "450ca28a",
   "metadata": {},
   "outputs": [],
   "source": [
    "gG = df[df.species=='Gentoo'].bill_length_mm\n",
    "gC = df[df.species=='Chinstrap'].bill_length_mm"
   ]
  },
  {
   "cell_type": "code",
   "execution_count": 30,
   "id": "4b22c267",
   "metadata": {
    "slideshow": {
     "slide_type": "slide"
    }
   },
   "outputs": [
    {
     "data": {
      "text/plain": [
       "F_onewayResult(statistic=np.float64(nan), pvalue=np.float64(nan))"
      ]
     },
     "execution_count": 30,
     "metadata": {},
     "output_type": "execute_result"
    }
   ],
   "source": [
    "stats.f_oneway(gA, gG, gC)"
   ]
  },
  {
   "cell_type": "markdown",
   "id": "d01b6d04",
   "metadata": {},
   "source": [
    "* Was ist das Problem?"
   ]
  },
  {
   "cell_type": "markdown",
   "id": "5afb7850",
   "metadata": {
    "slideshow": {
     "slide_type": "fragment"
    }
   },
   "source": [
    "* Es gibt Einträge ohne Werte"
   ]
  },
  {
   "cell_type": "code",
   "execution_count": 39,
   "id": "97cbe504",
   "metadata": {},
   "outputs": [
    {
     "data": {
      "text/plain": [
       "F_onewayResult(statistic=np.float64(410.6002550405077), pvalue=np.float64(2.6946137388895484e-91))"
      ]
     },
     "execution_count": 39,
     "metadata": {},
     "output_type": "execute_result"
    }
   ],
   "source": [
    "res = stats.f_oneway(gA.dropna(), gG.dropna(), gC.dropna())\n",
    "res"
   ]
  },
  {
   "cell_type": "markdown",
   "id": "4a622a0f",
   "metadata": {
    "slideshow": {
     "slide_type": "fragment"
    }
   },
   "source": [
    "Also haben unterschiedliche Pinguinarten unterschiedliche Schnabellängen"
   ]
  },
  {
   "cell_type": "markdown",
   "id": "33199a50",
   "metadata": {
    "slideshow": {
     "slide_type": "slide"
    }
   },
   "source": [
    "Wir hätten auch drei t-Tests rechnen können"
   ]
  },
  {
   "cell_type": "code",
   "execution_count": 41,
   "id": "25edc3fc",
   "metadata": {},
   "outputs": [
    {
     "data": {
      "text/plain": [
       "TtestResult(statistic=np.float64(-25.09530115900974), pvalue=np.float64(9.324042980315958e-73), df=np.float64(272.0))"
      ]
     },
     "execution_count": 41,
     "metadata": {},
     "output_type": "execute_result"
    }
   ],
   "source": [
    "r1 = stats.ttest_ind(gA.dropna(), gG.dropna())\n",
    "r1"
   ]
  },
  {
   "cell_type": "code",
   "execution_count": 42,
   "id": "fe5a8c49",
   "metadata": {
    "slideshow": {
     "slide_type": "fragment"
    }
   },
   "outputs": [
    {
     "data": {
      "text/plain": [
       "TtestResult(statistic=np.float64(-23.801939237440887), pvalue=np.float64(2.011759018655462e-62), df=np.float64(217.0))"
      ]
     },
     "execution_count": 42,
     "metadata": {},
     "output_type": "execute_result"
    }
   ],
   "source": [
    "r2 = stats.ttest_ind(gA.dropna(), gC.dropna())\n",
    "r2"
   ]
  },
  {
   "cell_type": "code",
   "execution_count": 43,
   "id": "f75b4315",
   "metadata": {
    "slideshow": {
     "slide_type": "fragment"
    }
   },
   "outputs": [
    {
     "data": {
      "text/plain": [
       "TtestResult(statistic=np.float64(-2.7694045269151144), pvalue=np.float64(0.006175813141889592), df=np.float64(189.0))"
      ]
     },
     "execution_count": 43,
     "metadata": {},
     "output_type": "execute_result"
    }
   ],
   "source": [
    "r3 = stats.ttest_ind(gG.dropna(), gC.dropna())\n",
    "r3"
   ]
  },
  {
   "cell_type": "markdown",
   "id": "da9ff9dd",
   "metadata": {
    "slideshow": {
     "slide_type": "slide"
    }
   },
   "source": [
    "* Das ist multiples Testen, muss also korrigiert werden"
   ]
  },
  {
   "cell_type": "markdown",
   "id": "ffa1548e",
   "metadata": {
    "slideshow": {
     "slide_type": "fragment"
    }
   },
   "source": [
    "* Drei Tests gerechnet\n",
    "* Gewünscht: $\\alpha=0.01$\n",
    "* Bonferroni-Korrektur:  Jeden einzelnen Test zu $\\frac\\alpha3 = 0.003333$ auswerten"
   ]
  },
  {
   "cell_type": "markdown",
   "id": "3399ca8e",
   "metadata": {
    "slideshow": {
     "slide_type": "fragment"
    }
   },
   "source": [
    "* Zu $\\alpha=0.01$ werden Unterschiede in den Schnabellängen zwischen Adelie- und Eselspinguinen und zwischen Adelie- und Zügelpinguinen gefunden\n",
    "* Der Unterschied zwischen Esels- und Zügelpinguinen ist nicht signifikant"
   ]
  },
  {
   "cell_type": "markdown",
   "id": "9a3d4e92",
   "metadata": {
    "slideshow": {
     "slide_type": "slide"
    }
   },
   "source": [
    "* Üblicherweise kombiniert man beide Ansätze\n",
    "* Stichwort *Posthoc Analyse*"
   ]
  }
 ],
 "metadata": {
  "celltoolbar": "Slideshow",
  "kernelspec": {
   "display_name": "Python 3 (ipykernel)",
   "language": "python",
   "name": "python3"
  },
  "language_info": {
   "codemirror_mode": {
    "name": "ipython",
    "version": 3
   },
   "file_extension": ".py",
   "mimetype": "text/x-python",
   "name": "python",
   "nbconvert_exporter": "python",
   "pygments_lexer": "ipython3",
   "version": "3.11.10"
  }
 },
 "nbformat": 4,
 "nbformat_minor": 5
}
