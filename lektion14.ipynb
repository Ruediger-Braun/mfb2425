{
 "cells": [
  {
   "cell_type": "markdown",
   "id": "97e910de",
   "metadata": {
    "slideshow": {
     "slide_type": "slide"
    }
   },
   "source": [
    "# Mathematik für Biologiestudierende\n",
    "\n",
    "Wintersemester 2024/25\n",
    "\n",
    "21.01.2025\n",
    "\n",
    "&copy; 2025 Prof. Dr. Rüdiger W. Braun "
   ]
  },
  {
   "cell_type": "markdown",
   "id": "9fa138a1",
   "metadata": {
    "slideshow": {
     "slide_type": "slide"
    }
   },
   "source": [
    "# Themen heute\n",
    "\n",
    "* Normalverteilungsannahmen\n",
    "* Wilcoxon-Test\n",
    "* Mann-Whitney-Test\n",
    "* Funktionsweise von Rangtests"
   ]
  },
  {
   "cell_type": "code",
   "execution_count": 1,
   "id": "a56ebe0f",
   "metadata": {
    "slideshow": {
     "slide_type": "slide"
    }
   },
   "outputs": [],
   "source": [
    "import numpy as np\n",
    "np.set_printoptions(legacy='1.21')\n",
    "from scipy import stats\n",
    "import pandas as pd\n",
    "import seaborn as sns\n",
    "sns.set_theme()"
   ]
  },
  {
   "cell_type": "markdown",
   "id": "04fc0a3b",
   "metadata": {
    "slideshow": {
     "slide_type": "slide"
    }
   },
   "source": [
    "# Normalverteilungsannahmen"
   ]
  },
  {
   "cell_type": "markdown",
   "id": "171876c1",
   "metadata": {
    "slideshow": {
     "slide_type": "fragment"
    }
   },
   "source": [
    "### t-Test zum Vergleich zweier Erwartungswerte bei verbundenen Stichproben\n",
    "\n",
    "* Gegeben sind Zufallsvariable $X_1, \\dots, X_n$ und $Y_1, \\dots, Y_n$\n",
    "* Verteilungsvoraussetzungen:\n",
    "  * Alle $X_j$ sind **normalverteilt** mit unbekanntem Erwartungswert $\\mu_1$ und unbekannter Varianz $\\sigma^2$\n",
    "  * Alle $Y_j$ sind normalverteilt mit unbekanntem Erwartungswert $\\mu_2$ und unbekannter Varianz $\\sigma^2$\n",
    "  * Die beiden Varianzen müssen also gleich sein\n",
    "* Ziel: $\\mu_1$ und $\\mu_2$ sollen verglichen werden"
   ]
  },
  {
   "cell_type": "markdown",
   "id": "fe120d0b",
   "metadata": {
    "slideshow": {
     "slide_type": "slide"
    }
   },
   "source": [
    "# Q-Q-Plot"
   ]
  },
  {
   "cell_type": "markdown",
   "id": "d8b0bb01",
   "metadata": {
    "slideshow": {
     "slide_type": "slide"
    }
   },
   "source": [
    "Wie überprüfen wir die Gültigkeit der Verteilungsannahme?"
   ]
  },
  {
   "cell_type": "markdown",
   "id": "0a582761",
   "metadata": {
    "slideshow": {
     "slide_type": "fragment"
    }
   },
   "source": [
    "* Mit dem Quantil-Quantil-Plot kann man auf graphischem Wege beurteilen, ob Messwerte Realisierungen einer normalverteilten Zufallsvariablen sind\n",
    "* Man trägt dazu auf der $x$-Achse die Quantile der Standardnormalverteilung und auf der $y$-Achse die Quantile der\n",
    "    Beobachtungsdaten auf\n",
    "* Wenn diese Punkte annähernd auf einer Geraden liegen, sind die Daten näherungsweise normalverteilt, ansonsten nicht"
   ]
  },
  {
   "cell_type": "markdown",
   "id": "2197885c",
   "metadata": {
    "slideshow": {
     "slide_type": "fragment"
    }
   },
   "source": [
    "* es gibt auch Testverfahren, um auf Normalverteilungsannahmen zu testen\n",
    "* nicht ganz klar, wie sinnvoll das ist"
   ]
  },
  {
   "cell_type": "markdown",
   "id": "ea5f4801",
   "metadata": {
    "slideshow": {
     "slide_type": "slide"
    }
   },
   "source": [
    "Beispieldaten aus Lektion 12"
   ]
  },
  {
   "cell_type": "code",
   "execution_count": 3,
   "id": "fc3267c1",
   "metadata": {},
   "outputs": [
    {
     "data": {
      "text/html": [
       "<div>\n",
       "<style scoped>\n",
       "    .dataframe tbody tr th:only-of-type {\n",
       "        vertical-align: middle;\n",
       "    }\n",
       "\n",
       "    .dataframe tbody tr th {\n",
       "        vertical-align: top;\n",
       "    }\n",
       "\n",
       "    .dataframe thead th {\n",
       "        text-align: right;\n",
       "    }\n",
       "</style>\n",
       "<table border=\"1\" class=\"dataframe\">\n",
       "  <thead>\n",
       "    <tr style=\"text-align: right;\">\n",
       "      <th></th>\n",
       "      <th>Messstelle</th>\n",
       "      <th>Konzentration</th>\n",
       "    </tr>\n",
       "  </thead>\n",
       "  <tbody>\n",
       "    <tr>\n",
       "      <th>0</th>\n",
       "      <td>5</td>\n",
       "      <td>0.000867</td>\n",
       "    </tr>\n",
       "    <tr>\n",
       "      <th>1</th>\n",
       "      <td>3</td>\n",
       "      <td>0.000490</td>\n",
       "    </tr>\n",
       "    <tr>\n",
       "      <th>2</th>\n",
       "      <td>1</td>\n",
       "      <td>0.000589</td>\n",
       "    </tr>\n",
       "    <tr>\n",
       "      <th>3</th>\n",
       "      <td>1</td>\n",
       "      <td>0.000950</td>\n",
       "    </tr>\n",
       "    <tr>\n",
       "      <th>4</th>\n",
       "      <td>4</td>\n",
       "      <td>0.001152</td>\n",
       "    </tr>\n",
       "  </tbody>\n",
       "</table>\n",
       "</div>"
      ],
      "text/plain": [
       "   Messstelle  Konzentration\n",
       "0           5       0.000867\n",
       "1           3       0.000490\n",
       "2           1       0.000589\n",
       "3           1       0.000950\n",
       "4           4       0.001152"
      ]
     },
     "execution_count": 3,
     "metadata": {},
     "output_type": "execute_result"
    }
   ],
   "source": [
    "u = \"https://www.math.uni-duesseldorf.de/~braun/bio2324/data/schadstoffe.csv\"\n",
    "df = pd.read_csv(u, index_col=0)\n",
    "df.head()"
   ]
  },
  {
   "cell_type": "code",
   "execution_count": 4,
   "id": "de7584a6",
   "metadata": {
    "slideshow": {
     "slide_type": "slide"
    }
   },
   "outputs": [],
   "source": [
    "import statsmodels.api as sm"
   ]
  },
  {
   "cell_type": "code",
   "execution_count": 5,
   "id": "613b7163",
   "metadata": {
    "slideshow": {
     "slide_type": "fragment"
    }
   },
   "outputs": [
    {
     "data": {
      "image/png": "[encoded data removed]",
      "text/plain": [
       "<Figure size 640x480 with 1 Axes>"
      ]
     },
     "metadata": {},
     "output_type": "display_data"
    }
   ],
   "source": [
    "pp = sm.ProbPlot(df.Konzentration)\n",
    "pp.qqplot();"
   ]
  },
  {
   "cell_type": "markdown",
   "id": "e3873686",
   "metadata": {
    "slideshow": {
     "slide_type": "fragment"
    }
   },
   "source": [
    "Wunderbar normalverteilt"
   ]
  },
  {
   "cell_type": "markdown",
   "id": "b33ee65a",
   "metadata": {
    "slideshow": {
     "slide_type": "slide"
    }
   },
   "source": [
    "Die Daten aus dem synthetischen Medikamentenexperiment aus Lektion 13"
   ]
  },
  {
   "cell_type": "code",
   "execution_count": 8,
   "id": "c4545a9d",
   "metadata": {},
   "outputs": [
    {
     "data": {
      "text/html": [
       "<div>\n",
       "<style scoped>\n",
       "    .dataframe tbody tr th:only-of-type {\n",
       "        vertical-align: middle;\n",
       "    }\n",
       "\n",
       "    .dataframe tbody tr th {\n",
       "        vertical-align: top;\n",
       "    }\n",
       "\n",
       "    .dataframe thead th {\n",
       "        text-align: right;\n",
       "    }\n",
       "</style>\n",
       "<table border=\"1\" class=\"dataframe\">\n",
       "  <thead>\n",
       "    <tr style=\"text-align: right;\">\n",
       "      <th></th>\n",
       "      <th>t0</th>\n",
       "      <th>t1</th>\n",
       "      <th>Treatment</th>\n",
       "      <th>Difference</th>\n",
       "    </tr>\n",
       "  </thead>\n",
       "  <tbody>\n",
       "    <tr>\n",
       "      <th>0</th>\n",
       "      <td>63.0</td>\n",
       "      <td>62.0</td>\n",
       "      <td>Verum</td>\n",
       "      <td>-1.0</td>\n",
       "    </tr>\n",
       "    <tr>\n",
       "      <th>1</th>\n",
       "      <td>24.0</td>\n",
       "      <td>22.0</td>\n",
       "      <td>Verum</td>\n",
       "      <td>-2.0</td>\n",
       "    </tr>\n",
       "    <tr>\n",
       "      <th>2</th>\n",
       "      <td>77.0</td>\n",
       "      <td>72.0</td>\n",
       "      <td>Verum</td>\n",
       "      <td>-5.0</td>\n",
       "    </tr>\n",
       "    <tr>\n",
       "      <th>3</th>\n",
       "      <td>43.0</td>\n",
       "      <td>41.0</td>\n",
       "      <td>Verum</td>\n",
       "      <td>-2.0</td>\n",
       "    </tr>\n",
       "    <tr>\n",
       "      <th>4</th>\n",
       "      <td>88.0</td>\n",
       "      <td>84.0</td>\n",
       "      <td>Verum</td>\n",
       "      <td>-4.0</td>\n",
       "    </tr>\n",
       "  </tbody>\n",
       "</table>\n",
       "</div>"
      ],
      "text/plain": [
       "     t0    t1 Treatment  Difference\n",
       "0  63.0  62.0     Verum        -1.0\n",
       "1  24.0  22.0     Verum        -2.0\n",
       "2  77.0  72.0     Verum        -5.0\n",
       "3  43.0  41.0     Verum        -2.0\n",
       "4  88.0  84.0     Verum        -4.0"
      ]
     },
     "execution_count": 8,
     "metadata": {},
     "output_type": "execute_result"
    }
   ],
   "source": [
    "df = pd.read_csv('treatment.csv', index_col=0)\n",
    "df.head()"
   ]
  },
  {
   "cell_type": "code",
   "execution_count": 7,
   "id": "d611aa07",
   "metadata": {
    "slideshow": {
     "slide_type": "slide"
    }
   },
   "outputs": [
    {
     "data": {
      "image/png": "[encoded data removed]",
      "text/plain": [
       "<Figure size 640x480 with 1 Axes>"
      ]
     },
     "metadata": {},
     "output_type": "display_data"
    }
   ],
   "source": [
    "pp = sm.ProbPlot(df.t0)\n",
    "pp.qqplot();"
   ]
  },
  {
   "cell_type": "markdown",
   "id": "0685ce07",
   "metadata": {
    "slideshow": {
     "slide_type": "fragment"
    }
   },
   "source": [
    "Die Daten sind nicht normalverteilt, weil sie oben bei 100 abgeschnitten wurden"
   ]
  },
  {
   "cell_type": "markdown",
   "id": "058aa7b3",
   "metadata": {
    "slideshow": {
     "slide_type": "slide"
    }
   },
   "source": [
    "### Beispiel Galapagos Inseln"
   ]
  },
  {
   "cell_type": "markdown",
   "id": "b361bdc9",
   "metadata": {},
   "source": [
    "Ein Datensatz zum Buch \"Linear Models with Python\" von Faraway"
   ]
  },
  {
   "cell_type": "code",
   "execution_count": 9,
   "id": "3563a945",
   "metadata": {
    "scrolled": true,
    "slideshow": {
     "slide_type": "slide"
    }
   },
   "outputs": [
    {
     "data": {
      "text/html": [
       "<div>\n",
       "<style scoped>\n",
       "    .dataframe tbody tr th:only-of-type {\n",
       "        vertical-align: middle;\n",
       "    }\n",
       "\n",
       "    .dataframe tbody tr th {\n",
       "        vertical-align: top;\n",
       "    }\n",
       "\n",
       "    .dataframe thead th {\n",
       "        text-align: right;\n",
       "    }\n",
       "</style>\n",
       "<table border=\"1\" class=\"dataframe\">\n",
       "  <thead>\n",
       "    <tr style=\"text-align: right;\">\n",
       "      <th></th>\n",
       "      <th>Species</th>\n",
       "      <th>Area</th>\n",
       "      <th>Elevation</th>\n",
       "      <th>Nearest</th>\n",
       "      <th>Scruz</th>\n",
       "      <th>Adjacent</th>\n",
       "    </tr>\n",
       "  </thead>\n",
       "  <tbody>\n",
       "    <tr>\n",
       "      <th>Baltra</th>\n",
       "      <td>58</td>\n",
       "      <td>25.09</td>\n",
       "      <td>346</td>\n",
       "      <td>0.6</td>\n",
       "      <td>0.6</td>\n",
       "      <td>1.84</td>\n",
       "    </tr>\n",
       "    <tr>\n",
       "      <th>Bartolome</th>\n",
       "      <td>31</td>\n",
       "      <td>1.24</td>\n",
       "      <td>109</td>\n",
       "      <td>0.6</td>\n",
       "      <td>26.3</td>\n",
       "      <td>572.33</td>\n",
       "    </tr>\n",
       "    <tr>\n",
       "      <th>Caldwell</th>\n",
       "      <td>3</td>\n",
       "      <td>0.21</td>\n",
       "      <td>114</td>\n",
       "      <td>2.8</td>\n",
       "      <td>58.7</td>\n",
       "      <td>0.78</td>\n",
       "    </tr>\n",
       "    <tr>\n",
       "      <th>Champion</th>\n",
       "      <td>25</td>\n",
       "      <td>0.10</td>\n",
       "      <td>46</td>\n",
       "      <td>1.9</td>\n",
       "      <td>47.4</td>\n",
       "      <td>0.18</td>\n",
       "    </tr>\n",
       "    <tr>\n",
       "      <th>Coamano</th>\n",
       "      <td>2</td>\n",
       "      <td>0.05</td>\n",
       "      <td>77</td>\n",
       "      <td>1.9</td>\n",
       "      <td>1.9</td>\n",
       "      <td>903.82</td>\n",
       "    </tr>\n",
       "  </tbody>\n",
       "</table>\n",
       "</div>"
      ],
      "text/plain": [
       "           Species   Area  Elevation  Nearest  Scruz  Adjacent\n",
       "Baltra          58  25.09        346      0.6    0.6      1.84\n",
       "Bartolome       31   1.24        109      0.6   26.3    572.33\n",
       "Caldwell         3   0.21        114      2.8   58.7      0.78\n",
       "Champion        25   0.10         46      1.9   47.4      0.18\n",
       "Coamano          2   0.05         77      1.9    1.9    903.82"
      ]
     },
     "execution_count": 9,
     "metadata": {},
     "output_type": "execute_result"
    }
   ],
   "source": [
    "df = pd.read_csv(\"galapagos.csv\", index_col=0)\n",
    "df.head()"
   ]
  },
  {
   "cell_type": "markdown",
   "id": "9da9b16d",
   "metadata": {},
   "source": [
    "* echte Daten von 30 Galapagos-Inseln\n",
    "* für jede Galapagos-Insel wurde erhoben\n",
    "  * `Species`: Anzahl verschiedener (Säuge)tierarten\n",
    "  * `Area`: Fläche\n",
    "  * `Elevation`: höchster Punkt\n",
    "  * `Nearest`: Abstand zur nächsten Insel\n",
    "  * `Scruz`: Entfernung von Santa Cruz\n",
    "  * `Adjacent`: Fläche der nächstgelegenen Insel"
   ]
  },
  {
   "cell_type": "code",
   "execution_count": 10,
   "id": "10ba45b3",
   "metadata": {
    "slideshow": {
     "slide_type": "slide"
    }
   },
   "outputs": [
    {
     "data": {
      "image/png": "[encoded data removed]",
      "text/plain": [
       "<Figure size 640x480 with 1 Axes>"
      ]
     },
     "metadata": {},
     "output_type": "display_data"
    }
   ],
   "source": [
    "pp = sm.ProbPlot(df.Area)\n",
    "pp.qqplot();"
   ]
  },
  {
   "cell_type": "markdown",
   "id": "dad03c6e",
   "metadata": {
    "slideshow": {
     "slide_type": "fragment"
    }
   },
   "source": [
    "Klar nicht normalverteilt"
   ]
  },
  {
   "cell_type": "markdown",
   "id": "4ca32092",
   "metadata": {
    "slideshow": {
     "slide_type": "slide"
    }
   },
   "source": [
    "# Nicht-parametrische Tests"
   ]
  },
  {
   "cell_type": "markdown",
   "id": "09033f8a",
   "metadata": {
    "slideshow": {
     "slide_type": "slide"
    }
   },
   "source": [
    "Beispiel für Situationen, in denen man nicht-parametrische Tests macht:\n",
    "\n",
    "* Wenn die Verteilungsannahmen nicht erfüllt sind\n",
    "* Wenn die Stichprobenumfänge zu klein sind\n",
    "* Wenn die Zufallsvariable diskret ist"
   ]
  },
  {
   "cell_type": "markdown",
   "id": "1461f511",
   "metadata": {
    "slideshow": {
     "slide_type": "slide"
    }
   },
   "source": [
    "## Vergleich zweier Mediane"
   ]
  },
  {
   "cell_type": "markdown",
   "id": "0ab680e3",
   "metadata": {},
   "source": [
    "* Bei Zufallsvariablen, die nicht normalverteilt sind, ist der Erwartungswert oft bedeutungslos\n",
    "* Man vergleicht dann besser die Mediane"
   ]
  },
  {
   "cell_type": "markdown",
   "id": "37e541db",
   "metadata": {
    "slideshow": {
     "slide_type": "fragment"
    }
   },
   "source": [
    "### Vergleich zweier Erwartungswerte bzw. zweier Mediane\n",
    "\n",
    "|Vergeich                 | parametrisch                        |   nicht-parametrisch |\n",
    "|-------------------------|-------------------------------------|----------------------|\n",
    "|mit Referenzwert         | t-Test für verbundene Stichproben   | Wilcoxon-Test        |\n",
    "|vorher-nachher           | t-Test für verbundene Stichproben   | Wilcoxon-Test        |\n",
    "|verschiedene Populationen| t-Test für unverbundene Stichproben | Mann-Whitney-U-Test  |"
   ]
  },
  {
   "cell_type": "markdown",
   "id": "5eb09019",
   "metadata": {},
   "source": [
    "* Die *t*-Teste vergleichen Erwartungswerte\n",
    "* Wilcoxon und Mann-Whitney-U Test vergleichen Mediane"
   ]
  },
  {
   "cell_type": "markdown",
   "id": "34094c89",
   "metadata": {
    "slideshow": {
     "slide_type": "slide"
    }
   },
   "source": [
    "## Wilcoxon-Signed-Rank-Test"
   ]
  },
  {
   "cell_type": "markdown",
   "id": "62fb952e",
   "metadata": {
    "slideshow": {
     "slide_type": "slide"
    }
   },
   "source": [
    "Den Wilcoxon Test verwendet man zum Vergleich der Mediane verbundener Datensätze, wenn die Normalverteilungsannahme nicht gesichert ist."
   ]
  },
  {
   "cell_type": "markdown",
   "id": "87f2a08f",
   "metadata": {},
   "source": [
    "Als Beispiel rechnen wir die Schadstoffkonzentration auch noch einmal als Wilcoxon-Signed-Rank-Test"
   ]
  },
  {
   "cell_type": "code",
   "execution_count": 11,
   "id": "859a5a18",
   "metadata": {
    "slideshow": {
     "slide_type": "-"
    }
   },
   "outputs": [],
   "source": [
    "u = \"https://www.math.uni-duesseldorf.de/~braun/bio2324/data/schadstoffe.csv\"\n",
    "df = pd.read_csv(u, index_col=0)\n",
    "df['Referenz'] = 0.08 / 100"
   ]
  },
  {
   "cell_type": "markdown",
   "id": "9bc623b7",
   "metadata": {
    "slideshow": {
     "slide_type": "slide"
    }
   },
   "source": [
    "* Wir vergleichen die Konzentration mit dem Referenzwert 0.08"
   ]
  },
  {
   "cell_type": "code",
   "execution_count": 14,
   "id": "0b92b35e",
   "metadata": {},
   "outputs": [
    {
     "data": {
      "text/plain": [
       "WilcoxonResult(statistic=2169.0, pvalue=0.004229703509534525)"
      ]
     },
     "execution_count": 14,
     "metadata": {},
     "output_type": "execute_result"
    }
   ],
   "source": [
    "res = stats.wilcoxon(df.Konzentration, df.Referenz, alternative=\"greater\")\n",
    "res"
   ]
  },
  {
   "cell_type": "markdown",
   "id": "676af2b2",
   "metadata": {
    "slideshow": {
     "slide_type": "fragment"
    }
   },
   "source": [
    "Zum Vergleich:"
   ]
  },
  {
   "cell_type": "code",
   "execution_count": 15,
   "id": "fc63f4f5",
   "metadata": {},
   "outputs": [
    {
     "data": {
      "text/plain": [
       "TtestResult(statistic=2.768040010585661, pvalue=0.0035114445640696246, df=79)"
      ]
     },
     "execution_count": 15,
     "metadata": {},
     "output_type": "execute_result"
    }
   ],
   "source": [
    "stats.ttest_rel(df.Konzentration, df.Referenz, alternative=\"greater\")"
   ]
  },
  {
   "cell_type": "markdown",
   "id": "94eebd77",
   "metadata": {
    "slideshow": {
     "slide_type": "fragment"
    }
   },
   "source": [
    "* Der Unterschied der p-Werte ist unerheblich\n",
    "* Der Wert der Statistik ist verschieden, weil der Test völlig anders arbeitet"
   ]
  },
  {
   "cell_type": "markdown",
   "id": "ef6136ce",
   "metadata": {
    "slideshow": {
     "slide_type": "slide"
    }
   },
   "source": [
    "# Effektstärke beim Wilcoxon-Test"
   ]
  },
  {
   "cell_type": "markdown",
   "id": "5ec48ace",
   "metadata": {
    "slideshow": {
     "slide_type": "slide"
    }
   },
   "source": [
    "* beim Wilcoxon-Test bestimmt man die Effektstärke mit *Cohen's&nbsp;r*\n",
    "* dazu ist es erforderlich, den Test noch einmal mit `method=\"approx\"` zu rechnen, um die z-Statistik zu bekommen"
   ]
  },
  {
   "cell_type": "markdown",
   "id": "fad92360",
   "metadata": {
    "slideshow": {
     "slide_type": "fragment"
    }
   },
   "source": [
    "* Formel\n",
    "$$ r = \\frac{z}{\\sqrt n} $$\n",
    "* hierbei ist $z$ der Wert der z-Statistik \n",
    "* und $n$ der Stichprobenumfang"
   ]
  },
  {
   "cell_type": "code",
   "execution_count": 18,
   "id": "54140995",
   "metadata": {
    "slideshow": {
     "slide_type": "slide"
    }
   },
   "outputs": [
    {
     "data": {
      "text/plain": [
       "WilcoxonResult(statistic=2169.0, pvalue=0.004229703509534525)"
      ]
     },
     "execution_count": 18,
     "metadata": {},
     "output_type": "execute_result"
    }
   ],
   "source": [
    "res = stats.wilcoxon(df.Konzentration, df.Referenz, alternative=\"greater\", method=\"approx\")\n",
    "res"
   ]
  },
  {
   "cell_type": "code",
   "execution_count": 19,
   "id": "5c7c4064",
   "metadata": {},
   "outputs": [
    {
     "data": {
      "text/plain": [
       "2.6331616685404655"
      ]
     },
     "execution_count": 19,
     "metadata": {},
     "output_type": "execute_result"
    }
   ],
   "source": [
    "res.zstatistic"
   ]
  },
  {
   "cell_type": "code",
   "execution_count": 20,
   "id": "00d266e0",
   "metadata": {},
   "outputs": [
    {
     "data": {
      "text/plain": [
       "80"
      ]
     },
     "execution_count": 20,
     "metadata": {},
     "output_type": "execute_result"
    }
   ],
   "source": [
    "n = df.Konzentration.count()\n",
    "n"
   ]
  },
  {
   "cell_type": "code",
   "execution_count": 21,
   "id": "fb2d14bc",
   "metadata": {},
   "outputs": [
    {
     "data": {
      "text/plain": [
       "0.2943964243301625"
      ]
     },
     "execution_count": 21,
     "metadata": {},
     "output_type": "execute_result"
    }
   ],
   "source": [
    "r = abs(res.zstatistic / np.sqrt(n))\n",
    "r"
   ]
  },
  {
   "cell_type": "markdown",
   "id": "54a5117b",
   "metadata": {
    "slideshow": {
     "slide_type": "slide"
    }
   },
   "source": [
    "### Interpretation der Effektstärke für Cohen's r\n",
    "\n",
    "| r-Wert | Interpretation   |\n",
    "|--------|------------------|\n",
    "| 0.1    | geringer Effekt  |\n",
    "| 0.3    | mittlerer Effekt |\n",
    "| 0.5    | starker Effekt   |"
   ]
  },
  {
   "cell_type": "markdown",
   "id": "3b2766be",
   "metadata": {
    "slideshow": {
     "slide_type": "fragment"
    }
   },
   "source": [
    "Wir haben also einen mittleren Effekt beobachtet"
   ]
  },
  {
   "cell_type": "markdown",
   "id": "23d36a90",
   "metadata": {
    "slideshow": {
     "slide_type": "slide"
    }
   },
   "source": [
    "### zum Vergleich noch mal mit dem $t$-Test"
   ]
  },
  {
   "cell_type": "code",
   "execution_count": 22,
   "id": "d65d372c",
   "metadata": {
    "slideshow": {
     "slide_type": "-"
    }
   },
   "outputs": [
    {
     "data": {
      "text/html": [
       "<div>\n",
       "<style scoped>\n",
       "    .dataframe tbody tr th:only-of-type {\n",
       "        vertical-align: middle;\n",
       "    }\n",
       "\n",
       "    .dataframe tbody tr th {\n",
       "        vertical-align: top;\n",
       "    }\n",
       "\n",
       "    .dataframe thead th {\n",
       "        text-align: right;\n",
       "    }\n",
       "</style>\n",
       "<table border=\"1\" class=\"dataframe\">\n",
       "  <thead>\n",
       "    <tr style=\"text-align: right;\">\n",
       "      <th></th>\n",
       "      <th>Messstelle</th>\n",
       "      <th>Konzentration</th>\n",
       "      <th>Referenz</th>\n",
       "    </tr>\n",
       "  </thead>\n",
       "  <tbody>\n",
       "    <tr>\n",
       "      <th>count</th>\n",
       "      <td>80.000000</td>\n",
       "      <td>80.000000</td>\n",
       "      <td>8.000000e+01</td>\n",
       "    </tr>\n",
       "    <tr>\n",
       "      <th>mean</th>\n",
       "      <td>2.987500</td>\n",
       "      <td>0.000905</td>\n",
       "      <td>8.000000e-04</td>\n",
       "    </tr>\n",
       "    <tr>\n",
       "      <th>std</th>\n",
       "      <td>1.409675</td>\n",
       "      <td>0.000341</td>\n",
       "      <td>1.091043e-19</td>\n",
       "    </tr>\n",
       "    <tr>\n",
       "      <th>min</th>\n",
       "      <td>1.000000</td>\n",
       "      <td>0.000061</td>\n",
       "      <td>8.000000e-04</td>\n",
       "    </tr>\n",
       "    <tr>\n",
       "      <th>25%</th>\n",
       "      <td>2.000000</td>\n",
       "      <td>0.000701</td>\n",
       "      <td>8.000000e-04</td>\n",
       "    </tr>\n",
       "    <tr>\n",
       "      <th>50%</th>\n",
       "      <td>3.000000</td>\n",
       "      <td>0.000938</td>\n",
       "      <td>8.000000e-04</td>\n",
       "    </tr>\n",
       "    <tr>\n",
       "      <th>75%</th>\n",
       "      <td>4.000000</td>\n",
       "      <td>0.001158</td>\n",
       "      <td>8.000000e-04</td>\n",
       "    </tr>\n",
       "    <tr>\n",
       "      <th>max</th>\n",
       "      <td>5.000000</td>\n",
       "      <td>0.001605</td>\n",
       "      <td>8.000000e-04</td>\n",
       "    </tr>\n",
       "  </tbody>\n",
       "</table>\n",
       "</div>"
      ],
      "text/plain": [
       "       Messstelle  Konzentration      Referenz\n",
       "count   80.000000      80.000000  8.000000e+01\n",
       "mean     2.987500       0.000905  8.000000e-04\n",
       "std      1.409675       0.000341  1.091043e-19\n",
       "min      1.000000       0.000061  8.000000e-04\n",
       "25%      2.000000       0.000701  8.000000e-04\n",
       "50%      3.000000       0.000938  8.000000e-04\n",
       "75%      4.000000       0.001158  8.000000e-04\n",
       "max      5.000000       0.001605  8.000000e-04"
      ]
     },
     "execution_count": 22,
     "metadata": {},
     "output_type": "execute_result"
    }
   ],
   "source": [
    "df.describe()"
   ]
  },
  {
   "cell_type": "code",
   "execution_count": 23,
   "id": "b5e562d9",
   "metadata": {},
   "outputs": [
    {
     "data": {
      "text/plain": [
       "0.3079178885630497"
      ]
     },
     "execution_count": 23,
     "metadata": {},
     "output_type": "execute_result"
    }
   ],
   "source": [
    "d = (0.000905-0.0008) / 0.000341\n",
    "d"
   ]
  },
  {
   "cell_type": "markdown",
   "id": "17d36315",
   "metadata": {
    "slideshow": {
     "slide_type": "slide"
    }
   },
   "source": [
    "### Interpretation der Effektgröße für Cohen's d\n",
    "\n",
    "| d-Wert | Interpretation   |\n",
    "|--------|------------------|\n",
    "| 0.2    | geringer Effekt  |\n",
    "| 0.5    | mittlerer Effekt |\n",
    "| 0.8    | starker Effekt   |"
   ]
  },
  {
   "cell_type": "markdown",
   "id": "5168e76d",
   "metadata": {
    "slideshow": {
     "slide_type": "slide"
    }
   },
   "source": [
    "# Mann-Whitney-U-Test"
   ]
  },
  {
   "cell_type": "markdown",
   "id": "eda74bd5",
   "metadata": {},
   "source": [
    "Den Mann-Whitney Test verwendet man zum Vergleich der Mediane unverbundener Datensätze, wenn die Normalverteilungsannahme nicht gesichert ist"
   ]
  },
  {
   "cell_type": "code",
   "execution_count": 24,
   "id": "32cb908a",
   "metadata": {
    "slideshow": {
     "slide_type": "slide"
    }
   },
   "outputs": [
    {
     "data": {
      "image/png": "[encoded data removed]",
      "text/plain": [
       "<Figure size 640x480 with 1 Axes>"
      ]
     },
     "metadata": {},
     "output_type": "display_data"
    }
   ],
   "source": [
    "df = pd.read_csv(\"galapagos.csv\")\n",
    "sns.scatterplot(df.Species);"
   ]
  },
  {
   "cell_type": "markdown",
   "id": "7e99867f",
   "metadata": {},
   "source": [
    "* Es gibt also 5 Inseln, die eine sehr viel reichhaltigere Fauna als die anderen haben\n",
    "* Sind das die großen Inseln?"
   ]
  },
  {
   "cell_type": "markdown",
   "id": "64103dc7",
   "metadata": {
    "slideshow": {
     "slide_type": "slide"
    }
   },
   "source": [
    "* Alternativhypothese:  Inseln mit reichhaltiger Fauna sind größer als die anderen\n",
    "* Prüfen wir mit Mann-Whitney-U-Test"
   ]
  },
  {
   "cell_type": "code",
   "execution_count": 26,
   "id": "536a4dc9",
   "metadata": {},
   "outputs": [],
   "source": [
    "reich = df[df.Species>=150]\n",
    "arm = df[df.Species<150]"
   ]
  },
  {
   "cell_type": "code",
   "execution_count": 27,
   "id": "6a3a92e5",
   "metadata": {},
   "outputs": [
    {
     "data": {
      "text/html": [
       "<div>\n",
       "<style scoped>\n",
       "    .dataframe tbody tr th:only-of-type {\n",
       "        vertical-align: middle;\n",
       "    }\n",
       "\n",
       "    .dataframe tbody tr th {\n",
       "        vertical-align: top;\n",
       "    }\n",
       "\n",
       "    .dataframe thead th {\n",
       "        text-align: right;\n",
       "    }\n",
       "</style>\n",
       "<table border=\"1\" class=\"dataframe\">\n",
       "  <thead>\n",
       "    <tr style=\"text-align: right;\">\n",
       "      <th></th>\n",
       "      <th>Species</th>\n",
       "      <th>Area</th>\n",
       "      <th>Elevation</th>\n",
       "      <th>Nearest</th>\n",
       "      <th>Scruz</th>\n",
       "      <th>Adjacent</th>\n",
       "    </tr>\n",
       "  </thead>\n",
       "  <tbody>\n",
       "    <tr>\n",
       "      <th>count</th>\n",
       "      <td>5.00000</td>\n",
       "      <td>5.000000</td>\n",
       "      <td>5.000000</td>\n",
       "      <td>5.000000</td>\n",
       "      <td>5.000000</td>\n",
       "      <td>5.000000</td>\n",
       "    </tr>\n",
       "    <tr>\n",
       "      <th>mean</th>\n",
       "      <td>318.60000</td>\n",
       "      <td>1373.602000</td>\n",
       "      <td>966.600000</td>\n",
       "      <td>9.860000</td>\n",
       "      <td>32.740000</td>\n",
       "      <td>128.114000</td>\n",
       "    </tr>\n",
       "    <tr>\n",
       "      <th>std</th>\n",
       "      <td>80.32621</td>\n",
       "      <td>1860.550153</td>\n",
       "      <td>427.743849</td>\n",
       "      <td>19.777462</td>\n",
       "      <td>25.876205</td>\n",
       "      <td>283.079535</td>\n",
       "    </tr>\n",
       "    <tr>\n",
       "      <th>min</th>\n",
       "      <td>237.00000</td>\n",
       "      <td>170.920000</td>\n",
       "      <td>640.000000</td>\n",
       "      <td>0.200000</td>\n",
       "      <td>0.000000</td>\n",
       "      <td>0.100000</td>\n",
       "    </tr>\n",
       "    <tr>\n",
       "      <th>25%</th>\n",
       "      <td>280.00000</td>\n",
       "      <td>551.620000</td>\n",
       "      <td>716.000000</td>\n",
       "      <td>0.600000</td>\n",
       "      <td>19.800000</td>\n",
       "      <td>0.520000</td>\n",
       "    </tr>\n",
       "    <tr>\n",
       "      <th>50%</th>\n",
       "      <td>285.00000</td>\n",
       "      <td>572.330000</td>\n",
       "      <td>864.000000</td>\n",
       "      <td>0.700000</td>\n",
       "      <td>28.100000</td>\n",
       "      <td>0.570000</td>\n",
       "    </tr>\n",
       "    <tr>\n",
       "      <th>75%</th>\n",
       "      <td>347.00000</td>\n",
       "      <td>903.820000</td>\n",
       "      <td>906.000000</td>\n",
       "      <td>2.600000</td>\n",
       "      <td>49.200000</td>\n",
       "      <td>4.890000</td>\n",
       "    </tr>\n",
       "    <tr>\n",
       "      <th>max</th>\n",
       "      <td>444.00000</td>\n",
       "      <td>4669.320000</td>\n",
       "      <td>1707.000000</td>\n",
       "      <td>45.200000</td>\n",
       "      <td>66.600000</td>\n",
       "      <td>634.490000</td>\n",
       "    </tr>\n",
       "  </tbody>\n",
       "</table>\n",
       "</div>"
      ],
      "text/plain": [
       "         Species         Area    Elevation    Nearest      Scruz    Adjacent\n",
       "count    5.00000     5.000000     5.000000   5.000000   5.000000    5.000000\n",
       "mean   318.60000  1373.602000   966.600000   9.860000  32.740000  128.114000\n",
       "std     80.32621  1860.550153   427.743849  19.777462  25.876205  283.079535\n",
       "min    237.00000   170.920000   640.000000   0.200000   0.000000    0.100000\n",
       "25%    280.00000   551.620000   716.000000   0.600000  19.800000    0.520000\n",
       "50%    285.00000   572.330000   864.000000   0.700000  28.100000    0.570000\n",
       "75%    347.00000   903.820000   906.000000   2.600000  49.200000    4.890000\n",
       "max    444.00000  4669.320000  1707.000000  45.200000  66.600000  634.490000"
      ]
     },
     "execution_count": 27,
     "metadata": {},
     "output_type": "execute_result"
    }
   ],
   "source": [
    "reich.describe()"
   ]
  },
  {
   "cell_type": "code",
   "execution_count": 28,
   "id": "39d1e6a6",
   "metadata": {
    "slideshow": {
     "slide_type": "slide"
    }
   },
   "outputs": [
    {
     "data": {
      "text/html": [
       "<div>\n",
       "<style scoped>\n",
       "    .dataframe tbody tr th:only-of-type {\n",
       "        vertical-align: middle;\n",
       "    }\n",
       "\n",
       "    .dataframe tbody tr th {\n",
       "        vertical-align: top;\n",
       "    }\n",
       "\n",
       "    .dataframe thead th {\n",
       "        text-align: right;\n",
       "    }\n",
       "</style>\n",
       "<table border=\"1\" class=\"dataframe\">\n",
       "  <thead>\n",
       "    <tr style=\"text-align: right;\">\n",
       "      <th></th>\n",
       "      <th>Species</th>\n",
       "      <th>Area</th>\n",
       "      <th>Elevation</th>\n",
       "      <th>Nearest</th>\n",
       "      <th>Scruz</th>\n",
       "      <th>Adjacent</th>\n",
       "    </tr>\n",
       "  </thead>\n",
       "  <tbody>\n",
       "    <tr>\n",
       "      <th>count</th>\n",
       "      <td>25.000000</td>\n",
       "      <td>25.000000</td>\n",
       "      <td>25.000000</td>\n",
       "      <td>25.000000</td>\n",
       "      <td>25.000000</td>\n",
       "      <td>25.000000</td>\n",
       "    </tr>\n",
       "    <tr>\n",
       "      <th>mean</th>\n",
       "      <td>38.560000</td>\n",
       "      <td>39.330000</td>\n",
       "      <td>248.320000</td>\n",
       "      <td>10.100000</td>\n",
       "      <td>61.824000</td>\n",
       "      <td>287.695200</td>\n",
       "    </tr>\n",
       "    <tr>\n",
       "      <th>std</th>\n",
       "      <td>34.467473</td>\n",
       "      <td>127.392845</td>\n",
       "      <td>307.762046</td>\n",
       "      <td>13.454182</td>\n",
       "      <td>73.035592</td>\n",
       "      <td>940.916069</td>\n",
       "    </tr>\n",
       "    <tr>\n",
       "      <th>min</th>\n",
       "      <td>2.000000</td>\n",
       "      <td>0.010000</td>\n",
       "      <td>25.000000</td>\n",
       "      <td>0.400000</td>\n",
       "      <td>0.400000</td>\n",
       "      <td>0.030000</td>\n",
       "    </tr>\n",
       "    <tr>\n",
       "      <th>25%</th>\n",
       "      <td>10.000000</td>\n",
       "      <td>0.210000</td>\n",
       "      <td>93.000000</td>\n",
       "      <td>1.100000</td>\n",
       "      <td>10.700000</td>\n",
       "      <td>0.520000</td>\n",
       "    </tr>\n",
       "    <tr>\n",
       "      <th>50%</th>\n",
       "      <td>25.000000</td>\n",
       "      <td>1.240000</td>\n",
       "      <td>147.000000</td>\n",
       "      <td>4.300000</td>\n",
       "      <td>47.400000</td>\n",
       "      <td>2.850000</td>\n",
       "    </tr>\n",
       "    <tr>\n",
       "      <th>75%</th>\n",
       "      <td>58.000000</td>\n",
       "      <td>17.950000</td>\n",
       "      <td>259.000000</td>\n",
       "      <td>10.700000</td>\n",
       "      <td>88.300000</td>\n",
       "      <td>59.560000</td>\n",
       "    </tr>\n",
       "    <tr>\n",
       "      <th>max</th>\n",
       "      <td>108.000000</td>\n",
       "      <td>634.490000</td>\n",
       "      <td>1494.000000</td>\n",
       "      <td>47.400000</td>\n",
       "      <td>290.200000</td>\n",
       "      <td>4669.320000</td>\n",
       "    </tr>\n",
       "  </tbody>\n",
       "</table>\n",
       "</div>"
      ],
      "text/plain": [
       "          Species        Area    Elevation    Nearest       Scruz     Adjacent\n",
       "count   25.000000   25.000000    25.000000  25.000000   25.000000    25.000000\n",
       "mean    38.560000   39.330000   248.320000  10.100000   61.824000   287.695200\n",
       "std     34.467473  127.392845   307.762046  13.454182   73.035592   940.916069\n",
       "min      2.000000    0.010000    25.000000   0.400000    0.400000     0.030000\n",
       "25%     10.000000    0.210000    93.000000   1.100000   10.700000     0.520000\n",
       "50%     25.000000    1.240000   147.000000   4.300000   47.400000     2.850000\n",
       "75%     58.000000   17.950000   259.000000  10.700000   88.300000    59.560000\n",
       "max    108.000000  634.490000  1494.000000  47.400000  290.200000  4669.320000"
      ]
     },
     "execution_count": 28,
     "metadata": {},
     "output_type": "execute_result"
    }
   ],
   "source": [
    "arm.describe()"
   ]
  },
  {
   "cell_type": "code",
   "execution_count": 29,
   "id": "0b84f3be",
   "metadata": {
    "slideshow": {
     "slide_type": "slide"
    }
   },
   "outputs": [
    {
     "data": {
      "text/plain": [
       "MannwhitneyuResult(statistic=122.0, pvalue=0.0005123847398218562)"
      ]
     },
     "execution_count": 29,
     "metadata": {},
     "output_type": "execute_result"
    }
   ],
   "source": [
    "res = stats.mannwhitneyu(reich.Area, arm.Area, alternative='greater')\n",
    "res"
   ]
  },
  {
   "cell_type": "markdown",
   "id": "07e31b1e",
   "metadata": {
    "slideshow": {
     "slide_type": "slide"
    }
   },
   "source": [
    "# Effektstärke beim Mann-Whitney-U-Test"
   ]
  },
  {
   "cell_type": "markdown",
   "id": "9cf39971",
   "metadata": {
    "slideshow": {
     "slide_type": "slide"
    }
   },
   "source": [
    "* die Teststatistik des Mann-Whitney-U-Tests wird mit U bezeichnet\n",
    "* die beiden Stichprobenumfänge sind $n_1$ und $n_2$\n",
    "\n",
    "Die Formel für die Effektstärke nach Cohen's&nbsp;r ist entweder\n",
    "$$  r = 1 - \\frac{2U}{n_1 \\cdot n_2}\n",
    "$$\n",
    "wenn diese Zahl positiv ist, sonst\n",
    "$$  r = \\frac{2U}{n_1 \\cdot n_2} - 1\n",
    "$$"
   ]
  },
  {
   "cell_type": "code",
   "execution_count": 30,
   "id": "83612e3e",
   "metadata": {
    "slideshow": {
     "slide_type": "slide"
    }
   },
   "outputs": [
    {
     "data": {
      "text/plain": [
       "-0.952"
      ]
     },
     "execution_count": 30,
     "metadata": {},
     "output_type": "execute_result"
    }
   ],
   "source": [
    "U = res.statistic\n",
    "n1 = 5\n",
    "n2 = 25\n",
    "r = 1 - 2*U/(n1*n2)\n",
    "r"
   ]
  },
  {
   "cell_type": "markdown",
   "id": "f70f2550",
   "metadata": {},
   "source": [
    "also"
   ]
  },
  {
   "cell_type": "code",
   "execution_count": 31,
   "id": "2a923aaf",
   "metadata": {},
   "outputs": [
    {
     "data": {
      "text/plain": [
       "0.952"
      ]
     },
     "execution_count": 31,
     "metadata": {},
     "output_type": "execute_result"
    }
   ],
   "source": [
    "r = 2*U/(n1*n2) - 1\n",
    "r"
   ]
  },
  {
   "cell_type": "markdown",
   "id": "ffb0cfc4",
   "metadata": {},
   "source": [
    "Sehr großer Effekt"
   ]
  },
  {
   "cell_type": "markdown",
   "id": "6bf2bc0b",
   "metadata": {
    "slideshow": {
     "slide_type": "slide"
    }
   },
   "source": [
    "Dieselbe Frage, aber als unterer Test:"
   ]
  },
  {
   "cell_type": "code",
   "execution_count": 32,
   "id": "8ebefdce",
   "metadata": {},
   "outputs": [
    {
     "data": {
      "text/plain": [
       "MannwhitneyuResult(statistic=3.0, pvalue=0.0005123847398218562)"
      ]
     },
     "execution_count": 32,
     "metadata": {},
     "output_type": "execute_result"
    }
   ],
   "source": [
    "stats.mannwhitneyu(arm.Area, reich.Area, alternative='less')"
   ]
  },
  {
   "cell_type": "code",
   "execution_count": 33,
   "id": "b1df460a",
   "metadata": {},
   "outputs": [
    {
     "data": {
      "text/plain": [
       "0.952"
      ]
     },
     "execution_count": 33,
     "metadata": {},
     "output_type": "execute_result"
    }
   ],
   "source": [
    "1 - 2*3/(n1*n2)"
   ]
  },
  {
   "cell_type": "markdown",
   "id": "b4ac536b",
   "metadata": {
    "slideshow": {
     "slide_type": "slide"
    }
   },
   "source": [
    "# Rangtests"
   ]
  },
  {
   "cell_type": "markdown",
   "id": "611de5ec",
   "metadata": {
    "slideshow": {
     "slide_type": "slide"
    }
   },
   "source": [
    "* Wilcoxon und Mann-Whitney sind Rangtests:"
   ]
  },
  {
   "cell_type": "markdown",
   "id": "e1cedfd6",
   "metadata": {
    "slideshow": {
     "slide_type": "fragment"
    }
   },
   "source": [
    "* die Daten werden geordnet\n",
    "* die Ränge der Elemente der beiden Gruppen werden jeweils addiert"
   ]
  },
  {
   "cell_type": "markdown",
   "id": "2dc12b7d",
   "metadata": {
    "slideshow": {
     "slide_type": "fragment"
    }
   },
   "source": [
    "* aus diesen Rangsummen werden die Teststatistiken berechnet"
   ]
  },
  {
   "cell_type": "markdown",
   "id": "cbb68042",
   "metadata": {
    "slideshow": {
     "slide_type": "fragment"
    }
   },
   "source": [
    "* kleiner Unterschied der Rangsummen bedeuten kleine Unterschiede der Daten und daher Beibehaltung der Nullhypothese"
   ]
  },
  {
   "cell_type": "code",
   "execution_count": 39,
   "id": "53d615ec",
   "metadata": {
    "slideshow": {
     "slide_type": "slide"
    }
   },
   "outputs": [
    {
     "data": {
      "text/html": [
       "<div>\n",
       "<style scoped>\n",
       "    .dataframe tbody tr th:only-of-type {\n",
       "        vertical-align: middle;\n",
       "    }\n",
       "\n",
       "    .dataframe tbody tr th {\n",
       "        vertical-align: top;\n",
       "    }\n",
       "\n",
       "    .dataframe thead th {\n",
       "        text-align: right;\n",
       "    }\n",
       "</style>\n",
       "<table border=\"1\" class=\"dataframe\">\n",
       "  <thead>\n",
       "    <tr style=\"text-align: right;\">\n",
       "      <th></th>\n",
       "      <th>Unnamed: 0</th>\n",
       "      <th>Species</th>\n",
       "      <th>Area</th>\n",
       "      <th>Elevation</th>\n",
       "      <th>Nearest</th>\n",
       "      <th>Scruz</th>\n",
       "      <th>Adjacent</th>\n",
       "      <th>Rang</th>\n",
       "    </tr>\n",
       "  </thead>\n",
       "  <tbody>\n",
       "    <tr>\n",
       "      <th>0</th>\n",
       "      <td>Baltra</td>\n",
       "      <td>58</td>\n",
       "      <td>25.09</td>\n",
       "      <td>346</td>\n",
       "      <td>0.6</td>\n",
       "      <td>0.6</td>\n",
       "      <td>1.84</td>\n",
       "      <td>21.0</td>\n",
       "    </tr>\n",
       "    <tr>\n",
       "      <th>1</th>\n",
       "      <td>Bartolome</td>\n",
       "      <td>31</td>\n",
       "      <td>1.24</td>\n",
       "      <td>109</td>\n",
       "      <td>0.6</td>\n",
       "      <td>26.3</td>\n",
       "      <td>572.33</td>\n",
       "      <td>12.5</td>\n",
       "    </tr>\n",
       "    <tr>\n",
       "      <th>2</th>\n",
       "      <td>Caldwell</td>\n",
       "      <td>3</td>\n",
       "      <td>0.21</td>\n",
       "      <td>114</td>\n",
       "      <td>2.8</td>\n",
       "      <td>58.7</td>\n",
       "      <td>0.78</td>\n",
       "      <td>7.0</td>\n",
       "    </tr>\n",
       "    <tr>\n",
       "      <th>3</th>\n",
       "      <td>Champion</td>\n",
       "      <td>25</td>\n",
       "      <td>0.10</td>\n",
       "      <td>46</td>\n",
       "      <td>1.9</td>\n",
       "      <td>47.4</td>\n",
       "      <td>0.18</td>\n",
       "      <td>5.0</td>\n",
       "    </tr>\n",
       "    <tr>\n",
       "      <th>4</th>\n",
       "      <td>Coamano</td>\n",
       "      <td>2</td>\n",
       "      <td>0.05</td>\n",
       "      <td>77</td>\n",
       "      <td>1.9</td>\n",
       "      <td>1.9</td>\n",
       "      <td>903.82</td>\n",
       "      <td>3.0</td>\n",
       "    </tr>\n",
       "  </tbody>\n",
       "</table>\n",
       "</div>"
      ],
      "text/plain": [
       "  Unnamed: 0  Species   Area  Elevation  Nearest  Scruz  Adjacent  Rang\n",
       "0     Baltra       58  25.09        346      0.6    0.6      1.84  21.0\n",
       "1  Bartolome       31   1.24        109      0.6   26.3    572.33  12.5\n",
       "2   Caldwell        3   0.21        114      2.8   58.7      0.78   7.0\n",
       "3   Champion       25   0.10         46      1.9   47.4      0.18   5.0\n",
       "4    Coamano        2   0.05         77      1.9    1.9    903.82   3.0"
      ]
     },
     "execution_count": 39,
     "metadata": {},
     "output_type": "execute_result"
    }
   ],
   "source": [
    "df['Rang'] = df.Area.rank()\n",
    "df.head()"
   ]
  },
  {
   "cell_type": "code",
   "execution_count": 40,
   "id": "14dfeb97",
   "metadata": {
    "collapsed": true
   },
   "outputs": [
    {
     "data": {
      "text/html": [
       "<div>\n",
       "<style scoped>\n",
       "    .dataframe tbody tr th:only-of-type {\n",
       "        vertical-align: middle;\n",
       "    }\n",
       "\n",
       "    .dataframe tbody tr th {\n",
       "        vertical-align: top;\n",
       "    }\n",
       "\n",
       "    .dataframe thead th {\n",
       "        text-align: right;\n",
       "    }\n",
       "</style>\n",
       "<table border=\"1\" class=\"dataframe\">\n",
       "  <thead>\n",
       "    <tr style=\"text-align: right;\">\n",
       "      <th></th>\n",
       "      <th>Unnamed: 0</th>\n",
       "      <th>Species</th>\n",
       "      <th>Area</th>\n",
       "      <th>Elevation</th>\n",
       "      <th>Nearest</th>\n",
       "      <th>Scruz</th>\n",
       "      <th>Adjacent</th>\n",
       "      <th>Rang</th>\n",
       "    </tr>\n",
       "  </thead>\n",
       "  <tbody>\n",
       "    <tr>\n",
       "      <th>15</th>\n",
       "      <td>Isabela</td>\n",
       "      <td>347</td>\n",
       "      <td>4669.32</td>\n",
       "      <td>1707</td>\n",
       "      <td>0.7</td>\n",
       "      <td>28.1</td>\n",
       "      <td>634.49</td>\n",
       "      <td>30.0</td>\n",
       "    </tr>\n",
       "    <tr>\n",
       "      <th>22</th>\n",
       "      <td>SanCristobal</td>\n",
       "      <td>280</td>\n",
       "      <td>551.62</td>\n",
       "      <td>716</td>\n",
       "      <td>45.2</td>\n",
       "      <td>66.6</td>\n",
       "      <td>0.57</td>\n",
       "      <td>26.0</td>\n",
       "    </tr>\n",
       "    <tr>\n",
       "      <th>23</th>\n",
       "      <td>SanSalvador</td>\n",
       "      <td>237</td>\n",
       "      <td>572.33</td>\n",
       "      <td>906</td>\n",
       "      <td>0.2</td>\n",
       "      <td>19.8</td>\n",
       "      <td>4.89</td>\n",
       "      <td>27.0</td>\n",
       "    </tr>\n",
       "    <tr>\n",
       "      <th>24</th>\n",
       "      <td>SantaCruz</td>\n",
       "      <td>444</td>\n",
       "      <td>903.82</td>\n",
       "      <td>864</td>\n",
       "      <td>0.6</td>\n",
       "      <td>0.0</td>\n",
       "      <td>0.52</td>\n",
       "      <td>29.0</td>\n",
       "    </tr>\n",
       "    <tr>\n",
       "      <th>26</th>\n",
       "      <td>SantaMaria</td>\n",
       "      <td>285</td>\n",
       "      <td>170.92</td>\n",
       "      <td>640</td>\n",
       "      <td>2.6</td>\n",
       "      <td>49.2</td>\n",
       "      <td>0.10</td>\n",
       "      <td>25.0</td>\n",
       "    </tr>\n",
       "  </tbody>\n",
       "</table>\n",
       "</div>"
      ],
      "text/plain": [
       "      Unnamed: 0  Species     Area  Elevation  Nearest  Scruz  Adjacent  Rang\n",
       "15       Isabela      347  4669.32       1707      0.7   28.1    634.49  30.0\n",
       "22  SanCristobal      280   551.62        716     45.2   66.6      0.57  26.0\n",
       "23   SanSalvador      237   572.33        906      0.2   19.8      4.89  27.0\n",
       "24     SantaCruz      444   903.82        864      0.6    0.0      0.52  29.0\n",
       "26    SantaMaria      285   170.92        640      2.6   49.2      0.10  25.0"
      ]
     },
     "execution_count": 40,
     "metadata": {},
     "output_type": "execute_result"
    }
   ],
   "source": [
    "arm = df[df.Species<150]\n",
    "reich = df[df.Species>=150]\n",
    "reich"
   ]
  },
  {
   "cell_type": "code",
   "execution_count": 36,
   "id": "26f4021a",
   "metadata": {},
   "outputs": [
    {
     "data": {
      "text/plain": [
       "137.0"
      ]
     },
     "execution_count": 36,
     "metadata": {},
     "output_type": "execute_result"
    }
   ],
   "source": [
    "T1 = reich.Rang.sum()\n",
    "T1"
   ]
  },
  {
   "cell_type": "code",
   "execution_count": 37,
   "id": "d83ef639",
   "metadata": {},
   "outputs": [
    {
     "data": {
      "text/plain": [
       "328.0"
      ]
     },
     "execution_count": 37,
     "metadata": {},
     "output_type": "execute_result"
    }
   ],
   "source": [
    "T2 = arm.Rang.sum()\n",
    "T2"
   ]
  },
  {
   "cell_type": "code",
   "execution_count": 41,
   "id": "39f5d393",
   "metadata": {
    "slideshow": {
     "slide_type": "slide"
    }
   },
   "outputs": [
    {
     "data": {
      "text/plain": [
       "3.0"
      ]
     },
     "execution_count": 41,
     "metadata": {},
     "output_type": "execute_result"
    }
   ],
   "source": [
    "U1 = n1*n2 + n1*(n1+1)/2 - T1\n",
    "U1"
   ]
  },
  {
   "cell_type": "code",
   "execution_count": 42,
   "id": "8658c7f2",
   "metadata": {},
   "outputs": [
    {
     "data": {
      "text/plain": [
       "122.0"
      ]
     },
     "execution_count": 42,
     "metadata": {},
     "output_type": "execute_result"
    }
   ],
   "source": [
    "U2 = n1*n2 + n2*(n2+1)/2 - T2\n",
    "U2"
   ]
  },
  {
   "cell_type": "markdown",
   "id": "722138b3",
   "metadata": {
    "slideshow": {
     "slide_type": "fragment"
    }
   },
   "source": [
    "* Wie man daraus den p-Wert bestimmt, ist nicht unser Thema"
   ]
  },
  {
   "cell_type": "markdown",
   "id": "26e30585",
   "metadata": {
    "slideshow": {
     "slide_type": "slide"
    }
   },
   "source": [
    "* Wichtig:  Die tatsächlichen Werte für die Flächen der Inseln sind in die Berechnung der Teststatistik nicht eingegangen\n",
    "* eingegangen ist nur die Reihenfolge"
   ]
  },
  {
   "cell_type": "markdown",
   "id": "3128e867",
   "metadata": {
    "slideshow": {
     "slide_type": "slide"
    }
   },
   "source": [
    "## konservative Tests\n",
    "\n",
    "* Der $t$-Test verwendet eine Verteilungsannahme:  Daten müssen normalverteilt sein\n",
    "* Tests, die auch bei Verletzung der Verteilungsannahmen noch gute Ergebnisse liefern, heißen *konservativ*\n",
    "* Der $t$-Test ist konservativ"
   ]
  },
  {
   "cell_type": "markdown",
   "id": "c37de901",
   "metadata": {
    "slideshow": {
     "slide_type": "slide"
    }
   },
   "source": [
    "# Probeklausur\n",
    "\n",
    "* am Wochende Veröffentlichung von Beispielaufgaben auf http://www.math.uni-duesseldorf.de/~internet/bio2425\n",
    "* am nächsten Mittwoch werden die Lösungen vorgerechnet"
   ]
  }
 ],
 "metadata": {
  "celltoolbar": "Slideshow",
  "kernelspec": {
   "display_name": "Python 3 (ipykernel)",
   "language": "python",
   "name": "python3"
  },
  "language_info": {
   "codemirror_mode": {
    "name": "ipython",
    "version": 3
   },
   "file_extension": ".py",
   "mimetype": "text/x-python",
   "name": "python",
   "nbconvert_exporter": "python",
   "pygments_lexer": "ipython3",
   "version": "3.12.7"
  }
 },
 "nbformat": 4,
 "nbformat_minor": 5
}
