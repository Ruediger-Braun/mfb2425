{
 "cells": [
  {
   "cell_type": "markdown",
   "id": "e01baa24",
   "metadata": {
    "slideshow": {
     "slide_type": "slide"
    }
   },
   "source": [
    "# Mathematik für Biologiestudierende\n",
    "\n",
    "Wintersemester 2024/25\n",
    "\n",
    "23. Oktober 2024\n",
    "\n",
    "&copy; 2024 Prof. Dr. Rüdiger W. Braun "
   ]
  },
  {
   "cell_type": "markdown",
   "id": "b0255c49",
   "metadata": {
    "slideshow": {
     "slide_type": "slide"
    }
   },
   "source": [
    "# Merkmale"
   ]
  },
  {
   "cell_type": "markdown",
   "id": "d79bc4d4",
   "metadata": {},
   "source": [
    "## Grundbegriffe\n",
    "\n",
    "* die Elemente der Grundgesamtheit sind Träger von Merkmalen\n",
    "* die Merkmale haben verschiedene Ausprägungen\n",
    "* jedes Element der Grundgesamtheit besitzt für jedes Merkmal nur eine Ausprägung"
   ]
  },
  {
   "cell_type": "markdown",
   "id": "c735a74a",
   "metadata": {
    "slideshow": {
     "slide_type": "slide"
    }
   },
   "source": [
    "## Typen von Merkmalen\n",
    "  \n",
    "* *Quantitatives Merkmal:*\n",
    "\n",
    "    zahlenmäßig erfassbar; Zahlenwerte besitzen Bedeutung\n",
    "    \n",
    "    unterteilt in\n",
    "\n",
    "    * *stetiges Merkmal:*\n",
    "\n",
    "      Zahlenwerte variieren kontinuierlich (z.B. Gewicht, gemessene Zeit)\n",
    "      </p>\n",
    "      \n",
    "    * *diskretes Merkmal:*\n",
    "\n",
    "      Skala ohne Zwischenwerte (z.B. Anzahl, Zeit in Tagen)\n",
    "      </p>\n",
    "    \n",
    "* *Qualitatives Merkmal:*\n",
    "\n",
    "    alle anderen"
   ]
  },
  {
   "cell_type": "markdown",
   "id": "541358ea",
   "metadata": {
    "slideshow": {
     "slide_type": "slide"
    }
   },
   "source": [
    "## Beispiele zu den Grundbegriffen\n",
    "  \n",
    "Grundgesamtheit: alle Bäume einer Baumschule\n",
    "\n",
    "* Merkmal: Art (qualitatives Merkmal) \n",
    "    \n",
    "  Ausprägung:  Fichte\n",
    "  </p>\n",
    "\n",
    "* Merkmal: Größe (quantitativ stetiges Merkmal) \n",
    "  \n",
    "  Ausprägung: 3.38m\n",
    "  \n",
    "  </p>\n",
    "  \n",
    "* Merkmal:  Pflanzdatum (quantitativ diskretes Merkmal) \n",
    "    \n",
    "  Ausprägung: 9.10.2003"
   ]
  },
  {
   "cell_type": "markdown",
   "id": "370ebd7c",
   "metadata": {
    "slideshow": {
     "slide_type": "slide"
    }
   },
   "source": [
    "## Matrikelnummer\n",
    "\n",
    "Ist die Matrikelnummer ein quantitatives oder ein qualitatives Merkmal?"
   ]
  },
  {
   "cell_type": "markdown",
   "id": "3d148320",
   "metadata": {
    "slideshow": {
     "slide_type": "fragment"
    }
   },
   "source": [
    "Antwort:  Qualitatives Merkmal, jedenfalls innerhalb einer Jahrgangs"
   ]
  },
  {
   "cell_type": "markdown",
   "id": "07c4a59d",
   "metadata": {
    "slideshow": {
     "slide_type": "slide"
    }
   },
   "source": [
    "## Darstellung von Merkmalen in Python\n",
    "\n",
    "* Ausprägungen qualitativer Merkmale werden als kategorielle Daten bezeichnet\n",
    "* sie werden als Zeichenketten (string) dargestellt\n",
    "* Beispiel `species = \"Adelie\"`"
   ]
  },
  {
   "cell_type": "markdown",
   "id": "f520743f",
   "metadata": {
    "slideshow": {
     "slide_type": "fragment"
    }
   },
   "source": [
    "* diskrete quantitative Merkmale werden als ganze Zahlen (integer) dargestellt\n",
    "* Beispiel `anzahl = 17`"
   ]
  },
  {
   "cell_type": "markdown",
   "id": "a6d7ec8f",
   "metadata": {
    "slideshow": {
     "slide_type": "fragment"
    }
   },
   "source": [
    "* kontinuierliche quantitative Merkmale werden als Fließkommazahlen (float) dargestellt\n",
    "* Beispiel `gewicht = 4.880`\n",
    "* Der Unterschied zwischen einer Fließkommazahl und einer ganzen Zahl ist, dass die Fließkommazahl einen Dezimalpunkt enthält, die ganze Zahl nicht\n",
    "* Python kann ganze Zahlen exakt darstellen, Fließkommazahlen nur näherungsweise\n",
    "* Das spielt für uns aber keine Rolle"
   ]
  },
  {
   "cell_type": "markdown",
   "id": "2d2b79c0",
   "metadata": {
    "slideshow": {
     "slide_type": "slide"
    }
   },
   "source": [
    "## Stichproben\n",
    "\n",
    "* Eine *Stichprobe* ist eine **zufällig** gewonnene Teilmenge aus der zu untersuchenden Grundgesamtheit\n",
    "* Der *Stichprobenumfang* ist die Anzahl der Elemente in der Stichprobe\n",
    "* Die *Daten* sind die beobachteten Ausprägungen des Merkmals bzw. der Merkmale\n",
    "* Die Erfassung der Daten geschieht in der *Urliste*, auch *Protokoll* genannt"
   ]
  },
  {
   "cell_type": "markdown",
   "id": "dd2c67b9",
   "metadata": {
    "slideshow": {
     "slide_type": "fragment"
    }
   },
   "source": [
    "* Die Urliste ist unveränderlich"
   ]
  },
  {
   "cell_type": "markdown",
   "id": "e8739d2d",
   "metadata": {
    "slideshow": {
     "slide_type": "slide"
    }
   },
   "source": [
    "## Zufall\n",
    "\n",
    "* Zufall bedeutet für uns: Kein erkennbares Muster\n",
    "* Zufällige Auswahl ist nicht einfach.  Man verwendet\n",
    "  \n",
    "  * Würfel\n",
    "  * Zufallsgenerator \n",
    "  * und früher sogar gedruckte Zufallstafeln"
   ]
  },
  {
   "cell_type": "markdown",
   "id": "7bc0e807",
   "metadata": {
    "slideshow": {
     "slide_type": "fragment"
    }
   },
   "source": [
    "* weil der Computer eine deterministische Maschine ist, sind die in den verschiedenen Programmiersprachen verfügbaren Zufallsgeneratoren in Wahrheit Pseudozufallsgeneratoren, erzeugen also Zahlenfolgen, die für den Beobachter unvorhersehbar sind\n",
    "\n",
    "* die Pseudozufallsgeneratoren der gängigen Programmiersprachen reichen für Versuchsplanung und Modellbildung völlig aus"
   ]
  },
  {
   "cell_type": "markdown",
   "id": "180743af",
   "metadata": {
    "slideshow": {
     "slide_type": "slide"
    }
   },
   "source": [
    "## Zufallsgeneratoren in Python"
   ]
  },
  {
   "cell_type": "code",
   "execution_count": null,
   "id": "bc3f4c0b",
   "metadata": {},
   "outputs": [],
   "source": [
    "import random"
   ]
  },
  {
   "cell_type": "markdown",
   "id": "5a1ed994",
   "metadata": {},
   "source": [
    "zufällige Fließkommazahl zwischen 0 und 1:"
   ]
  },
  {
   "cell_type": "code",
   "execution_count": null,
   "id": "8d0803e9",
   "metadata": {},
   "outputs": [],
   "source": [
    "random.random()"
   ]
  },
  {
   "cell_type": "code",
   "execution_count": null,
   "id": "614b479c",
   "metadata": {},
   "outputs": [],
   "source": [
    "random.random()"
   ]
  },
  {
   "cell_type": "code",
   "execution_count": null,
   "id": "58a38a6a",
   "metadata": {},
   "outputs": [],
   "source": [
    "random.random()"
   ]
  },
  {
   "cell_type": "markdown",
   "id": "78a89431",
   "metadata": {
    "slideshow": {
     "slide_type": "fragment"
    }
   },
   "source": [
    "Ganze Zufallszahl zwischen n und m:"
   ]
  },
  {
   "cell_type": "code",
   "execution_count": null,
   "id": "ed7efd13",
   "metadata": {},
   "outputs": [],
   "source": [
    "random.randint(10, 20)  \n",
    "#  beide Randpunkte eingeschlossen"
   ]
  },
  {
   "cell_type": "markdown",
   "id": "3edf8847",
   "metadata": {
    "slideshow": {
     "slide_type": "slide"
    }
   },
   "source": [
    "zufällige Auswahl:"
   ]
  },
  {
   "cell_type": "code",
   "execution_count": null,
   "id": "a521ae92",
   "metadata": {},
   "outputs": [],
   "source": [
    "random.sample(range(10), 5)"
   ]
  },
  {
   "cell_type": "markdown",
   "id": "5d31628a",
   "metadata": {
    "slideshow": {
     "slide_type": "slide"
    }
   },
   "source": [
    "`range` ist wie `np.arange` \n",
    "\n",
    "`np.arange` ist bei `random` aber nicht zulässig"
   ]
  },
  {
   "cell_type": "code",
   "execution_count": null,
   "id": "f5d6e242",
   "metadata": {},
   "outputs": [],
   "source": [
    "range(10)"
   ]
  },
  {
   "cell_type": "code",
   "execution_count": null,
   "id": "7e601310",
   "metadata": {},
   "outputs": [],
   "source": [
    "list(range(10))"
   ]
  },
  {
   "cell_type": "markdown",
   "id": "92745a44",
   "metadata": {
    "slideshow": {
     "slide_type": "slide"
    }
   },
   "source": [
    "## Seeding"
   ]
  },
  {
   "cell_type": "code",
   "execution_count": null,
   "id": "500087ec",
   "metadata": {
    "slideshow": {
     "slide_type": "fragment"
    }
   },
   "outputs": [],
   "source": [
    "random.seed(1234)"
   ]
  },
  {
   "cell_type": "code",
   "execution_count": null,
   "id": "de3b21e9",
   "metadata": {},
   "outputs": [],
   "source": [
    "random.randint(1, 1000)"
   ]
  },
  {
   "cell_type": "code",
   "execution_count": null,
   "id": "43b168b9",
   "metadata": {},
   "outputs": [],
   "source": [
    "random.randint(1, 1000)"
   ]
  },
  {
   "cell_type": "code",
   "execution_count": null,
   "id": "4995d618",
   "metadata": {},
   "outputs": [],
   "source": [
    "random.seed(1234)\n",
    "random.randint(1, 1000)"
   ]
  },
  {
   "cell_type": "markdown",
   "id": "2d5b5edd",
   "metadata": {
    "slideshow": {
     "slide_type": "fragment"
    }
   },
   "source": [
    "Wozu soll das gut sein?"
   ]
  },
  {
   "cell_type": "markdown",
   "id": "3d23bc26",
   "metadata": {
    "slideshow": {
     "slide_type": "fragment"
    }
   },
   "source": [
    "* Auf Maschinen, die nicht in der Lage sind, ein gutes seed zu konstruieren, kann man selber eins angeben\n",
    "* Wichtiger:  Zur Fehlersuche bei Programmen mit zufälligem Anteil"
   ]
  },
  {
   "cell_type": "markdown",
   "id": "4552c083",
   "metadata": {
    "slideshow": {
     "slide_type": "slide"
    }
   },
   "source": [
    "## Versuchsplanung\n",
    "\n",
    "Folgendes Experiment:\n",
    "\n",
    "* 25 Fische zufällig ausgewählt"
   ]
  },
  {
   "cell_type": "markdown",
   "id": "737f0536",
   "metadata": {
    "slideshow": {
     "slide_type": "fragment"
    }
   },
   "source": [
    "* Fische lernen, in einem Labyrinth Futter zu suchen; Zeit wird gemessen"
   ]
  },
  {
   "cell_type": "markdown",
   "id": "edfef32e",
   "metadata": {
    "slideshow": {
     "slide_type": "fragment"
    }
   },
   "source": [
    "* die Fische werden an 25 Artgenossen verfüttert"
   ]
  },
  {
   "cell_type": "markdown",
   "id": "ca7763c4",
   "metadata": {
    "slideshow": {
     "slide_type": "fragment"
    }
   },
   "source": [
    "* die Artgenossen sollen im selben Labyrinth Futter suchen; Zeit wird gemessen"
   ]
  },
  {
   "cell_type": "markdown",
   "id": "d372b92e",
   "metadata": {
    "slideshow": {
     "slide_type": "fragment"
    }
   },
   "source": [
    "* die neuen Fische sind schneller"
   ]
  },
  {
   "cell_type": "markdown",
   "id": "6863bc2d",
   "metadata": {
    "slideshow": {
     "slide_type": "fragment"
    }
   },
   "source": [
    "* Nobelpreis?"
   ]
  },
  {
   "cell_type": "markdown",
   "id": "7b29a77a",
   "metadata": {
    "slideshow": {
     "slide_type": "slide"
    }
   },
   "source": []
  },
  {
   "cell_type": "markdown",
   "id": "6d7d3e94",
   "metadata": {
    "slideshow": {
     "slide_type": "slide"
    }
   },
   "source": [
    "# Grafiken\n",
    "\n",
    "* Balkendiagramm:  Für jeden möglichen Wert ein Balken, der die Anzahl anzeigt\n",
    "* Histogramm:  Wie Balkendiagramm, aber Werte werden vorher in Klassen zusammengefasst\n",
    "\n",
    "  Bei Stichprobenumfang $n$: Anzahl der Klassen ungefähr $\\sqrt n$\n",
    "* Tortendiagramm:  Anteile an der Gesamtpopulation werden grafisch dargestellt"
   ]
  },
  {
   "cell_type": "markdown",
   "id": "5f544f43",
   "metadata": {
    "slideshow": {
     "slide_type": "slide"
    }
   },
   "source": [
    "# Beispiel Pinguine"
   ]
  },
  {
   "cell_type": "code",
   "execution_count": null,
   "id": "421a1663",
   "metadata": {},
   "outputs": [],
   "source": [
    "import seaborn as sns\n",
    "df = sns.load_dataset(\"penguins\")   # mitgelieferter DataFrame"
   ]
  },
  {
   "cell_type": "code",
   "execution_count": null,
   "id": "4c672539",
   "metadata": {},
   "outputs": [],
   "source": [
    "df"
   ]
  },
  {
   "cell_type": "markdown",
   "id": "6656457e",
   "metadata": {
    "slideshow": {
     "slide_type": "fragment"
    }
   },
   "source": [
    "Ein `DataFrame` ist eine Tabelle ähnlich einem Excel-Spreadsheet"
   ]
  },
  {
   "cell_type": "markdown",
   "id": "3d846837",
   "metadata": {},
   "source": [
    "* In der ersten Spalte steht der Index, in diesem Fall die laufende Nummer des Pinguins\n",
    "* Der Index ist eindeutig\n",
    "* `NaN` bedeutet \"Not a Number\" "
   ]
  },
  {
   "cell_type": "markdown",
   "id": "66c3a750",
   "metadata": {
    "slideshow": {
     "slide_type": "slide"
    }
   },
   "source": [
    "## Histogramm"
   ]
  },
  {
   "cell_type": "code",
   "execution_count": null,
   "id": "ad6a838a",
   "metadata": {
    "slideshow": {
     "slide_type": "slide"
    }
   },
   "outputs": [],
   "source": [
    "sns.displot(df, x='flipper_length_mm');"
   ]
  },
  {
   "cell_type": "markdown",
   "id": "a54a6c44",
   "metadata": {
    "slideshow": {
     "slide_type": "slide"
    }
   },
   "source": [
    "Die Anzahl der Fächer (bins) kann eingestellt werden"
   ]
  },
  {
   "cell_type": "code",
   "execution_count": null,
   "id": "040ea052",
   "metadata": {},
   "outputs": [],
   "source": [
    "sns.displot(df, x='flipper_length_mm', bins=20)"
   ]
  },
  {
   "cell_type": "markdown",
   "id": "07b29c5c",
   "metadata": {
    "slideshow": {
     "slide_type": "slide"
    }
   },
   "source": [
    "Alternativ kann auch die Breite der Fächer eingestellt werden"
   ]
  },
  {
   "cell_type": "code",
   "execution_count": null,
   "id": "e8c3a20a",
   "metadata": {},
   "outputs": [],
   "source": [
    "sns.histplot(df, x='flipper_length_mm', binwidth=2.5)"
   ]
  },
  {
   "cell_type": "markdown",
   "id": "c45170e9",
   "metadata": {
    "slideshow": {
     "slide_type": "slide"
    }
   },
   "source": [
    "# Balkendiagramm"
   ]
  },
  {
   "cell_type": "markdown",
   "id": "3a935d41",
   "metadata": {},
   "source": [
    "Bei qualitativen Merkmalen spricht man von kategoriellen Daten.  Zählt man die Vorkommen, erhält man ein Balkendiagramm."
   ]
  },
  {
   "cell_type": "code",
   "execution_count": null,
   "id": "d4aba5f9",
   "metadata": {},
   "outputs": [],
   "source": [
    "sns.displot(df, x='species')"
   ]
  },
  {
   "cell_type": "markdown",
   "id": "2a20e03b",
   "metadata": {},
   "source": [
    "| englisch          | deutsch        |\n",
    "|:------------------|:---------------|\n",
    "| Adelie penguin    | Adelie Pinguin |\n",
    "| Chinstrap penguin | Zügelpinguin   |\n",
    "| Gentoo penguin    | Eselspinguin   |   "
   ]
  },
  {
   "cell_type": "code",
   "execution_count": null,
   "id": "9dbfb869",
   "metadata": {
    "slideshow": {
     "slide_type": "slide"
    }
   },
   "outputs": [],
   "source": [
    "sns.displot(df, col='island', x='species');"
   ]
  },
  {
   "cell_type": "code",
   "execution_count": null,
   "id": "15d2de3d",
   "metadata": {
    "slideshow": {
     "slide_type": "slide"
    }
   },
   "outputs": [],
   "source": [
    "sns.displot(df, col='island', x='species', hue='sex', multiple=\"stack\");"
   ]
  },
  {
   "cell_type": "markdown",
   "id": "147a184b",
   "metadata": {
    "slideshow": {
     "slide_type": "slide"
    }
   },
   "source": [
    "# DataFrames"
   ]
  },
  {
   "cell_type": "markdown",
   "id": "84f7d516",
   "metadata": {},
   "source": [
    "Bevor wir weitere Graphen ansehen, erst noch ein Blick auf `pd.DataFrame`\n",
    "\n",
    "*  `sns.load_dataset` lädt einen der mitgelieferten Datensätze\n",
    "*  Der Datensatz kommt als `pd.DataFrame`, das ist eine Tabelle\n",
    "*  Variablennamen (z.B. `df`) ohne Anführungszeichen\n",
    "*  andere Bezeichner mit Anführungszeichen `\"` oder `'`\n",
    "*  kein Unterschied zwischen `\"` und `'`, aber vor und hinter dem Wort dasselbe Zeichen verwenden\n",
    "*  später mehr zu diesem Thema"
   ]
  },
  {
   "cell_type": "markdown",
   "id": "c272bfb2",
   "metadata": {
    "slideshow": {
     "slide_type": "fragment"
    }
   },
   "source": [
    "Die erste Spalte eines DataFrames ist der Index, in diesem Beispiel die laufende Nummer"
   ]
  },
  {
   "cell_type": "code",
   "execution_count": null,
   "id": "3b6c1b8d",
   "metadata": {},
   "outputs": [],
   "source": [
    "df.index"
   ]
  },
  {
   "cell_type": "markdown",
   "id": "fe5d1600",
   "metadata": {
    "slideshow": {
     "slide_type": "slide"
    }
   },
   "source": [
    "Die Spalten zeigen Ausprägungen von Merkmalen\n",
    "\n",
    "Wir erhalten die Spalte `flipper_length_mm` des DataFrame `df` auf einer der beiden folgenden Weisen\n",
    "* `df.flipper_length_mm`\n",
    "* `df['flipper_length_mm']`\n",
    "\n",
    "Wenn der Spaltenname Leerzeichen enthält, funktioniert nur die zweite Variante"
   ]
  },
  {
   "cell_type": "code",
   "execution_count": null,
   "id": "d33eae19",
   "metadata": {
    "slideshow": {
     "slide_type": "slide"
    }
   },
   "outputs": [],
   "source": [
    "df.flipper_length_mm"
   ]
  },
  {
   "cell_type": "markdown",
   "id": "b9bb2ab3",
   "metadata": {},
   "source": [
    "`NaN` bedeutet \"not a number\", in der Praxis meist, dass der Wert nicht erhoben werden konnte"
   ]
  },
  {
   "cell_type": "markdown",
   "id": "48a6ae21",
   "metadata": {
    "slideshow": {
     "slide_type": "slide"
    }
   },
   "source": [
    "Die Daten des Pinguins Nummer 222 erhält man so"
   ]
  },
  {
   "cell_type": "code",
   "execution_count": null,
   "id": "4d4b7c65",
   "metadata": {
    "scrolled": true
   },
   "outputs": [],
   "source": [
    "df.loc[222]"
   ]
  },
  {
   "cell_type": "code",
   "execution_count": null,
   "id": "1b1bd6a0",
   "metadata": {
    "slideshow": {
     "slide_type": "slide"
    }
   },
   "outputs": [],
   "source": [
    "sns.displot(df, x='flipper_length_mm');"
   ]
  },
  {
   "cell_type": "markdown",
   "id": "b09a59c3",
   "metadata": {
    "slideshow": {
     "slide_type": "-"
    }
   },
   "source": [
    "Die Verteilung ist *bimodal*, d. h. es gibt zwei Maxima.\n",
    "\n",
    "Das könnte daran liegen, dass die beiden Geschlechter unterschiedliche Flügellängen haben.  Wir betrachten nur die weiblichen Pinguine"
   ]
  },
  {
   "cell_type": "markdown",
   "id": "995ad1d8",
   "metadata": {
    "slideshow": {
     "slide_type": "slide"
    }
   },
   "source": [
    "Wir speichern die Daten der weiblichen Pinguine im DataFrame `w`"
   ]
  },
  {
   "cell_type": "code",
   "execution_count": null,
   "id": "9c038829",
   "metadata": {
    "slideshow": {
     "slide_type": "-"
    }
   },
   "outputs": [],
   "source": [
    "w = df[df.sex==\"Female\"]  #  Achtung \"==\" als Vergleichsoperator\"\n",
    "w"
   ]
  },
  {
   "cell_type": "code",
   "execution_count": null,
   "id": "609ac887",
   "metadata": {
    "slideshow": {
     "slide_type": "slide"
    }
   },
   "outputs": [],
   "source": [
    "sns.histplot(w, x=\"flipper_length_mm\");"
   ]
  },
  {
   "cell_type": "markdown",
   "id": "c2070f5b",
   "metadata": {
    "slideshow": {
     "slide_type": "slide"
    }
   },
   "source": [
    "Immer noch bimodal.  Also ist das Geschlecht nicht der Grund.  Vielleicht die verschiedenen Arten?"
   ]
  },
  {
   "cell_type": "code",
   "execution_count": null,
   "id": "bc19eeb7",
   "metadata": {},
   "outputs": [],
   "source": [
    "sns.displot(df, x=\"flipper_length_mm\", col=\"species\");"
   ]
  },
  {
   "cell_type": "code",
   "execution_count": null,
   "id": "b6a3559a",
   "metadata": {
    "slideshow": {
     "slide_type": "slide"
    }
   },
   "outputs": [],
   "source": [
    "sns.displot(df, x=\"flipper_length_mm\", col=\"species\", hue='sex', binwidth=3, multiple='stack');"
   ]
  },
  {
   "cell_type": "markdown",
   "id": "66d56129",
   "metadata": {
    "slideshow": {
     "slide_type": "slide"
    }
   },
   "source": [
    "## `displot`\n",
    "\n",
    "`displot(df, x, col, hue, binwidth)`  \n",
    "\n",
    "* df:  DataFrame\n",
    "* x: Variable auf der x-Achse, deren Elemente gezählt werden sollen, quantitativ oder kategoriell\n",
    "* col: für jeden Wert dieser Variable wird ein Bild gezeichnet, kategoriell (optional)\n",
    "* hue: Unterteilung der Zählung, durch Farben ausgedrückt, kategoriell (optional)\n",
    "* binwidth: Breite der Fächer (optional)\n",
    "* bins: Anzahl der Fächer (alternativ zu binwidth, optional)\n",
    "\n",
    "Die Angaben für `x`, `col` und `hue` beziehen sich auf Spaltennamen des DataFrame, sie werden in Anführungszeichen gesetzt"
   ]
  },
  {
   "cell_type": "markdown",
   "id": "eb700c8d",
   "metadata": {
    "slideshow": {
     "slide_type": "slide"
    }
   },
   "source": [
    "# Tortendiagramme"
   ]
  },
  {
   "cell_type": "markdown",
   "id": "6bdab71c",
   "metadata": {
    "slideshow": {
     "slide_type": "-"
    }
   },
   "source": [
    "* findet man selten in Fachzeitschriften\n",
    "* daher kein Bestandteil von seaborn"
   ]
  },
  {
   "cell_type": "markdown",
   "id": "5c33c7c3",
   "metadata": {
    "slideshow": {
     "slide_type": "slide"
    }
   },
   "source": [
    "Wie viele Pinguine gibt es von jeder Sorte?"
   ]
  },
  {
   "cell_type": "code",
   "execution_count": null,
   "id": "a3819a57",
   "metadata": {},
   "outputs": [],
   "source": [
    "df[\"species\"].value_counts()"
   ]
  },
  {
   "cell_type": "code",
   "execution_count": null,
   "id": "17f1728f",
   "metadata": {
    "slideshow": {
     "slide_type": "slide"
    }
   },
   "outputs": [],
   "source": [
    "df[\"species\"].value_counts().plot.pie();"
   ]
  },
  {
   "cell_type": "code",
   "execution_count": null,
   "id": "af4b2512",
   "metadata": {
    "slideshow": {
     "slide_type": "slide"
    }
   },
   "outputs": [],
   "source": [
    "pp = sns.light_palette('Navy', as_cmap=True)\n",
    "df[\"species\"].value_counts().plot.pie(cmap=pp);"
   ]
  }
 ],
 "metadata": {
  "celltoolbar": "Slideshow",
  "kernelspec": {
   "display_name": "Python 3 (ipykernel)",
   "language": "python",
   "name": "python3"
  },
  "language_info": {
   "codemirror_mode": {
    "name": "ipython",
    "version": 3
   },
   "file_extension": ".py",
   "mimetype": "text/x-python",
   "name": "python",
   "nbconvert_exporter": "python",
   "pygments_lexer": "ipython3",
   "version": "3.11.10"
  }
 },
 "nbformat": 4,
 "nbformat_minor": 5
}
