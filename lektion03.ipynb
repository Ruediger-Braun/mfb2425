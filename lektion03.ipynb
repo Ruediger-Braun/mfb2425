{
 "cells": [
  {
   "cell_type": "markdown",
   "id": "e01baa24",
   "metadata": {
    "slideshow": {
     "slide_type": "slide"
    }
   },
   "source": [
    "# Mathematik für Biologiestudierende\n",
    "\n",
    "Wintersemester 2024/25\n",
    "\n",
    "23. Oktober 2024\n",
    "\n",
    "&copy; 2024 Prof. Dr. Rüdiger W. Braun "
   ]
  },
  {
   "cell_type": "markdown",
   "id": "b0255c49",
   "metadata": {
    "slideshow": {
     "slide_type": "slide"
    }
   },
   "source": [
    "# Merkmale"
   ]
  },
  {
   "cell_type": "markdown",
   "id": "d79bc4d4",
   "metadata": {},
   "source": [
    "## Grundbegriffe\n",
    "\n",
    "* die Elemente der Grundgesamtheit sind Träger von Merkmalen\n",
    "* die Merkmale haben verschiedene Ausprägungen\n",
    "* jedes Element der Grundgesamtheit besitzt für jedes Merkmal nur eine Ausprägung"
   ]
  },
  {
   "cell_type": "markdown",
   "id": "c735a74a",
   "metadata": {
    "slideshow": {
     "slide_type": "slide"
    }
   },
   "source": [
    "## Typen von Merkmalen\n",
    "  \n",
    "* *Quantitatives Merkmal:*\n",
    "\n",
    "    zahlenmäßig erfassbar; Zahlenwerte besitzen Bedeutung\n",
    "    \n",
    "    unterteilt in\n",
    "\n",
    "    * *stetiges Merkmal:*\n",
    "\n",
    "      Zahlenwerte variieren kontinuierlich (z.B. Gewicht, gemessene Zeit)\n",
    "      </p>\n",
    "      \n",
    "    * *diskretes Merkmal:*\n",
    "\n",
    "      Skala ohne Zwischenwerte (z.B. Anzahl, Zeit in Tagen)\n",
    "      </p>\n",
    "    \n",
    "* *Qualitatives Merkmal:*\n",
    "\n",
    "    alle anderen"
   ]
  },
  {
   "cell_type": "markdown",
   "id": "541358ea",
   "metadata": {
    "slideshow": {
     "slide_type": "slide"
    }
   },
   "source": [
    "## Beispiele zu den Grundbegriffen\n",
    "  \n",
    "Grundgesamtheit: alle Bäume einer Baumschule\n",
    "\n",
    "* Merkmal: Art (qualitatives Merkmal) \n",
    "    \n",
    "  Ausprägung:  Fichte\n",
    "  </p>\n",
    "\n",
    "* Merkmal: Größe (quantitativ stetiges Merkmal) \n",
    "  \n",
    "  Ausprägung: 3.38m\n",
    "  \n",
    "  </p>\n",
    "  \n",
    "* Merkmal:  Pflanzdatum (quantitativ diskretes Merkmal) \n",
    "    \n",
    "  Ausprägung: 9.10.2003"
   ]
  },
  {
   "cell_type": "markdown",
   "id": "370ebd7c",
   "metadata": {
    "slideshow": {
     "slide_type": "slide"
    }
   },
   "source": [
    "## Matrikelnummer\n",
    "\n",
    "Ist die Matrikelnummer ein quantitatives oder ein qualitatives Merkmal?"
   ]
  },
  {
   "cell_type": "markdown",
   "id": "3d148320",
   "metadata": {
    "slideshow": {
     "slide_type": "fragment"
    }
   },
   "source": [
    "Antwort:  Qualitatives Merkmal, jedenfalls innerhalb einer Jahrgangs"
   ]
  },
  {
   "cell_type": "markdown",
   "id": "07c4a59d",
   "metadata": {
    "slideshow": {
     "slide_type": "slide"
    }
   },
   "source": [
    "## Darstellung von Merkmalen in Python\n",
    "\n",
    "* Ausprägungen qualitativer Merkmale werden als kategorielle Daten bezeichnet\n",
    "* sie werden als Zeichenketten (string) dargestellt\n",
    "* Beispiel `species = \"Adelie\"`"
   ]
  },
  {
   "cell_type": "markdown",
   "id": "f520743f",
   "metadata": {
    "slideshow": {
     "slide_type": "fragment"
    }
   },
   "source": [
    "* diskrete quantitative Merkmale werden als ganze Zahlen (integer) dargestellt\n",
    "* Beispiel `anzahl = 17`"
   ]
  },
  {
   "cell_type": "markdown",
   "id": "a6d7ec8f",
   "metadata": {
    "slideshow": {
     "slide_type": "fragment"
    }
   },
   "source": [
    "* kontinuierliche quantitative Merkmale werden als Fließkommazahlen (float) dargestellt\n",
    "* Beispiel `gewicht = 4.880`\n",
    "* Der Unterschied zwischen einer Fließkommazahl und einer ganzen Zahl ist, dass die Fließkommazahl einen Dezimalpunkt enthält, die ganze Zahl nicht\n",
    "* Python kann ganze Zahlen exakt darstellen, Fließkommazahlen nur näherungsweise\n",
    "* Das spielt für uns aber keine Rolle"
   ]
  },
  {
   "cell_type": "markdown",
   "id": "2d2b79c0",
   "metadata": {
    "slideshow": {
     "slide_type": "slide"
    }
   },
   "source": [
    "## Stichproben\n",
    "\n",
    "* Eine *Stichprobe* ist eine **zufällig** gewonnene Teilmenge aus der zu untersuchenden Grundgesamtheit\n",
    "* Der *Stichprobenumfang* ist die Anzahl der Elemente in der Stichprobe\n",
    "* Die *Daten* sind die beobachteten Ausprägungen des Merkmals bzw. der Merkmale\n",
    "* Die Erfassung der Daten geschieht in der *Urliste*, auch *Protokoll* genannt"
   ]
  },
  {
   "cell_type": "markdown",
   "id": "dd2c67b9",
   "metadata": {
    "slideshow": {
     "slide_type": "fragment"
    }
   },
   "source": [
    "* Die Urliste ist unveränderlich"
   ]
  },
  {
   "cell_type": "markdown",
   "id": "e8739d2d",
   "metadata": {
    "slideshow": {
     "slide_type": "slide"
    }
   },
   "source": [
    "## Zufall\n",
    "\n",
    "* Zufall bedeutet für uns: Kein erkennbares Muster\n",
    "* Zufällige Auswahl ist nicht einfach.  Man verwendet\n",
    "  \n",
    "  * Würfel\n",
    "  * Zufallsgenerator \n",
    "  * und früher sogar gedruckte Zufallstafeln"
   ]
  },
  {
   "cell_type": "markdown",
   "id": "7bc0e807",
   "metadata": {
    "slideshow": {
     "slide_type": "fragment"
    }
   },
   "source": [
    "* weil der Computer eine deterministische Maschine ist, sind die in den verschiedenen Programmiersprachen verfügbaren Zufallsgeneratoren in Wahrheit Pseudozufallsgeneratoren, erzeugen also Zahlenfolgen, die für den Beobachter unvorhersehbar sind\n",
    "\n",
    "* die Pseudozufallsgeneratoren der gängigen Programmiersprachen reichen für Versuchsplanung und Modellbildung völlig aus"
   ]
  },
  {
   "cell_type": "markdown",
   "id": "180743af",
   "metadata": {
    "slideshow": {
     "slide_type": "slide"
    }
   },
   "source": [
    "## Zufallsgeneratoren in Python"
   ]
  },
  {
   "cell_type": "code",
   "execution_count": 1,
   "id": "bc3f4c0b",
   "metadata": {},
   "outputs": [],
   "source": [
    "import random"
   ]
  },
  {
   "cell_type": "markdown",
   "id": "5a1ed994",
   "metadata": {},
   "source": [
    "zufällige Fließkommazahl zwischen 0 und 1:"
   ]
  },
  {
   "cell_type": "code",
   "execution_count": 2,
   "id": "8d0803e9",
   "metadata": {},
   "outputs": [
    {
     "data": {
      "text/plain": [
       "0.6292270415781913"
      ]
     },
     "execution_count": 2,
     "metadata": {},
     "output_type": "execute_result"
    }
   ],
   "source": [
    "random.random()"
   ]
  },
  {
   "cell_type": "code",
   "execution_count": 3,
   "id": "614b479c",
   "metadata": {},
   "outputs": [
    {
     "data": {
      "text/plain": [
       "0.6532370022347842"
      ]
     },
     "execution_count": 3,
     "metadata": {},
     "output_type": "execute_result"
    }
   ],
   "source": [
    "random.random()"
   ]
  },
  {
   "cell_type": "code",
   "execution_count": 4,
   "id": "58a38a6a",
   "metadata": {},
   "outputs": [
    {
     "data": {
      "text/plain": [
       "0.7327569690514906"
      ]
     },
     "execution_count": 4,
     "metadata": {},
     "output_type": "execute_result"
    }
   ],
   "source": [
    "random.random()"
   ]
  },
  {
   "cell_type": "markdown",
   "id": "78a89431",
   "metadata": {
    "slideshow": {
     "slide_type": "fragment"
    }
   },
   "source": [
    "Ganze Zufallszahl zwischen n und m:"
   ]
  },
  {
   "cell_type": "code",
   "execution_count": 5,
   "id": "ed7efd13",
   "metadata": {},
   "outputs": [
    {
     "data": {
      "text/plain": [
       "15"
      ]
     },
     "execution_count": 5,
     "metadata": {},
     "output_type": "execute_result"
    }
   ],
   "source": [
    "random.randint(10, 20)  \n",
    "#  beide Randpunkte eingeschlossen"
   ]
  },
  {
   "cell_type": "markdown",
   "id": "3edf8847",
   "metadata": {
    "slideshow": {
     "slide_type": "slide"
    }
   },
   "source": [
    "zufällige Auswahl:"
   ]
  },
  {
   "cell_type": "code",
   "execution_count": 6,
   "id": "a521ae92",
   "metadata": {},
   "outputs": [
    {
     "data": {
      "text/plain": [
       "[3, 0, 4, 5, 9]"
      ]
     },
     "execution_count": 6,
     "metadata": {},
     "output_type": "execute_result"
    }
   ],
   "source": [
    "random.sample(range(10), 5)"
   ]
  },
  {
   "cell_type": "markdown",
   "id": "5d31628a",
   "metadata": {
    "slideshow": {
     "slide_type": "slide"
    }
   },
   "source": [
    "`range` ist wie `np.arange` \n",
    "\n",
    "`np.arange` ist bei `random` aber nicht zulässig"
   ]
  },
  {
   "cell_type": "code",
   "execution_count": 7,
   "id": "f5d6e242",
   "metadata": {},
   "outputs": [
    {
     "data": {
      "text/plain": [
       "range(0, 10)"
      ]
     },
     "execution_count": 7,
     "metadata": {},
     "output_type": "execute_result"
    }
   ],
   "source": [
    "range(10)"
   ]
  },
  {
   "cell_type": "code",
   "execution_count": 8,
   "id": "7e601310",
   "metadata": {},
   "outputs": [
    {
     "data": {
      "text/plain": [
       "[0, 1, 2, 3, 4, 5, 6, 7, 8, 9]"
      ]
     },
     "execution_count": 8,
     "metadata": {},
     "output_type": "execute_result"
    }
   ],
   "source": [
    "list(range(10))"
   ]
  },
  {
   "cell_type": "markdown",
   "id": "92745a44",
   "metadata": {
    "slideshow": {
     "slide_type": "slide"
    }
   },
   "source": [
    "## Seeding"
   ]
  },
  {
   "cell_type": "code",
   "execution_count": 9,
   "id": "500087ec",
   "metadata": {
    "slideshow": {
     "slide_type": "fragment"
    }
   },
   "outputs": [],
   "source": [
    "random.seed(1234)"
   ]
  },
  {
   "cell_type": "code",
   "execution_count": 10,
   "id": "de3b21e9",
   "metadata": {},
   "outputs": [
    {
     "data": {
      "text/plain": [
       "990"
      ]
     },
     "execution_count": 10,
     "metadata": {},
     "output_type": "execute_result"
    }
   ],
   "source": [
    "random.randint(1, 1000)"
   ]
  },
  {
   "cell_type": "code",
   "execution_count": 11,
   "id": "43b168b9",
   "metadata": {},
   "outputs": [
    {
     "data": {
      "text/plain": [
       "797"
      ]
     },
     "execution_count": 11,
     "metadata": {},
     "output_type": "execute_result"
    }
   ],
   "source": [
    "random.randint(1, 1000)"
   ]
  },
  {
   "cell_type": "code",
   "execution_count": 12,
   "id": "4995d618",
   "metadata": {},
   "outputs": [
    {
     "data": {
      "text/plain": [
       "990"
      ]
     },
     "execution_count": 12,
     "metadata": {},
     "output_type": "execute_result"
    }
   ],
   "source": [
    "random.seed(1234)\n",
    "random.randint(1, 1000)"
   ]
  },
  {
   "cell_type": "markdown",
   "id": "2d5b5edd",
   "metadata": {
    "slideshow": {
     "slide_type": "fragment"
    }
   },
   "source": [
    "Wozu soll das gut sein?"
   ]
  },
  {
   "cell_type": "markdown",
   "id": "3d23bc26",
   "metadata": {
    "slideshow": {
     "slide_type": "fragment"
    }
   },
   "source": [
    "* Auf Maschinen, die nicht in der Lage sind, ein gutes seed zu konstruieren, kann man selber eins angeben\n",
    "* Wichtiger:  Zur Fehlersuche bei Programmen mit zufälligem Anteil"
   ]
  },
  {
   "cell_type": "markdown",
   "id": "4552c083",
   "metadata": {
    "slideshow": {
     "slide_type": "slide"
    }
   },
   "source": [
    "## Versuchsplanung\n",
    "\n",
    "Folgendes Experiment:\n",
    "\n",
    "* 25 Fische zufällig ausgewählt"
   ]
  },
  {
   "cell_type": "markdown",
   "id": "737f0536",
   "metadata": {
    "slideshow": {
     "slide_type": "fragment"
    }
   },
   "source": [
    "* Fische lernen, in einem Labyrinth Futter zu suchen; Zeit wird gemessen"
   ]
  },
  {
   "cell_type": "markdown",
   "id": "edfef32e",
   "metadata": {
    "slideshow": {
     "slide_type": "fragment"
    }
   },
   "source": [
    "* die Fische werden an 25 Artgenossen verfüttert"
   ]
  },
  {
   "cell_type": "markdown",
   "id": "ca7763c4",
   "metadata": {
    "slideshow": {
     "slide_type": "fragment"
    }
   },
   "source": [
    "* die Artgenossen sollen im selben Labyrinth Futter suchen; Zeit wird gemessen"
   ]
  },
  {
   "cell_type": "markdown",
   "id": "d372b92e",
   "metadata": {
    "slideshow": {
     "slide_type": "fragment"
    }
   },
   "source": [
    "* die neuen Fische sind schneller"
   ]
  },
  {
   "cell_type": "markdown",
   "id": "6863bc2d",
   "metadata": {
    "slideshow": {
     "slide_type": "fragment"
    }
   },
   "source": [
    "* Nobelpreis?"
   ]
  },
  {
   "cell_type": "markdown",
   "id": "7b29a77a",
   "metadata": {
    "slideshow": {
     "slide_type": "slide"
    }
   },
   "source": []
  },
  {
   "cell_type": "markdown",
   "id": "6d7d3e94",
   "metadata": {
    "slideshow": {
     "slide_type": "slide"
    }
   },
   "source": [
    "# Grafiken\n",
    "\n",
    "* Balkendiagramm:  Für jeden möglichen Wert ein Balken, der die Anzahl anzeigt\n",
    "* Histogramm:  Wie Balkendiagramm, aber Werte werden vorher in Klassen zusammengefasst\n",
    "\n",
    "  Bei Stichprobenumfang $n$: Anzahl der Klassen ungefähr $\\sqrt n$\n",
    "* Tortendiagramm:  Anteile an der Gesamtpopulation werden grafisch dargestellt"
   ]
  },
  {
   "cell_type": "markdown",
   "id": "5f544f43",
   "metadata": {
    "slideshow": {
     "slide_type": "slide"
    }
   },
   "source": [
    "# Beispiel Pinguine"
   ]
  },
  {
   "cell_type": "code",
   "execution_count": 13,
   "id": "421a1663",
   "metadata": {},
   "outputs": [],
   "source": [
    "import seaborn as sns\n",
    "df = sns.load_dataset(\"penguins\")   # mitgelieferter DataFrame"
   ]
  },
  {
   "cell_type": "code",
   "execution_count": 14,
   "id": "4c672539",
   "metadata": {},
   "outputs": [
    {
     "data": {
      "text/html": [
       "<div>\n",
       "<style scoped>\n",
       "    .dataframe tbody tr th:only-of-type {\n",
       "        vertical-align: middle;\n",
       "    }\n",
       "\n",
       "    .dataframe tbody tr th {\n",
       "        vertical-align: top;\n",
       "    }\n",
       "\n",
       "    .dataframe thead th {\n",
       "        text-align: right;\n",
       "    }\n",
       "</style>\n",
       "<table border=\"1\" class=\"dataframe\">\n",
       "  <thead>\n",
       "    <tr style=\"text-align: right;\">\n",
       "      <th></th>\n",
       "      <th>species</th>\n",
       "      <th>island</th>\n",
       "      <th>bill_length_mm</th>\n",
       "      <th>bill_depth_mm</th>\n",
       "      <th>flipper_length_mm</th>\n",
       "      <th>body_mass_g</th>\n",
       "      <th>sex</th>\n",
       "    </tr>\n",
       "  </thead>\n",
       "  <tbody>\n",
       "    <tr>\n",
       "      <th>0</th>\n",
       "      <td>Adelie</td>\n",
       "      <td>Torgersen</td>\n",
       "      <td>39.1</td>\n",
       "      <td>18.7</td>\n",
       "      <td>181.0</td>\n",
       "      <td>3750.0</td>\n",
       "      <td>Male</td>\n",
       "    </tr>\n",
       "    <tr>\n",
       "      <th>1</th>\n",
       "      <td>Adelie</td>\n",
       "      <td>Torgersen</td>\n",
       "      <td>39.5</td>\n",
       "      <td>17.4</td>\n",
       "      <td>186.0</td>\n",
       "      <td>3800.0</td>\n",
       "      <td>Female</td>\n",
       "    </tr>\n",
       "    <tr>\n",
       "      <th>2</th>\n",
       "      <td>Adelie</td>\n",
       "      <td>Torgersen</td>\n",
       "      <td>40.3</td>\n",
       "      <td>18.0</td>\n",
       "      <td>195.0</td>\n",
       "      <td>3250.0</td>\n",
       "      <td>Female</td>\n",
       "    </tr>\n",
       "    <tr>\n",
       "      <th>3</th>\n",
       "      <td>Adelie</td>\n",
       "      <td>Torgersen</td>\n",
       "      <td>NaN</td>\n",
       "      <td>NaN</td>\n",
       "      <td>NaN</td>\n",
       "      <td>NaN</td>\n",
       "      <td>NaN</td>\n",
       "    </tr>\n",
       "    <tr>\n",
       "      <th>4</th>\n",
       "      <td>Adelie</td>\n",
       "      <td>Torgersen</td>\n",
       "      <td>36.7</td>\n",
       "      <td>19.3</td>\n",
       "      <td>193.0</td>\n",
       "      <td>3450.0</td>\n",
       "      <td>Female</td>\n",
       "    </tr>\n",
       "    <tr>\n",
       "      <th>...</th>\n",
       "      <td>...</td>\n",
       "      <td>...</td>\n",
       "      <td>...</td>\n",
       "      <td>...</td>\n",
       "      <td>...</td>\n",
       "      <td>...</td>\n",
       "      <td>...</td>\n",
       "    </tr>\n",
       "    <tr>\n",
       "      <th>339</th>\n",
       "      <td>Gentoo</td>\n",
       "      <td>Biscoe</td>\n",
       "      <td>NaN</td>\n",
       "      <td>NaN</td>\n",
       "      <td>NaN</td>\n",
       "      <td>NaN</td>\n",
       "      <td>NaN</td>\n",
       "    </tr>\n",
       "    <tr>\n",
       "      <th>340</th>\n",
       "      <td>Gentoo</td>\n",
       "      <td>Biscoe</td>\n",
       "      <td>46.8</td>\n",
       "      <td>14.3</td>\n",
       "      <td>215.0</td>\n",
       "      <td>4850.0</td>\n",
       "      <td>Female</td>\n",
       "    </tr>\n",
       "    <tr>\n",
       "      <th>341</th>\n",
       "      <td>Gentoo</td>\n",
       "      <td>Biscoe</td>\n",
       "      <td>50.4</td>\n",
       "      <td>15.7</td>\n",
       "      <td>222.0</td>\n",
       "      <td>5750.0</td>\n",
       "      <td>Male</td>\n",
       "    </tr>\n",
       "    <tr>\n",
       "      <th>342</th>\n",
       "      <td>Gentoo</td>\n",
       "      <td>Biscoe</td>\n",
       "      <td>45.2</td>\n",
       "      <td>14.8</td>\n",
       "      <td>212.0</td>\n",
       "      <td>5200.0</td>\n",
       "      <td>Female</td>\n",
       "    </tr>\n",
       "    <tr>\n",
       "      <th>343</th>\n",
       "      <td>Gentoo</td>\n",
       "      <td>Biscoe</td>\n",
       "      <td>49.9</td>\n",
       "      <td>16.1</td>\n",
       "      <td>213.0</td>\n",
       "      <td>5400.0</td>\n",
       "      <td>Male</td>\n",
       "    </tr>\n",
       "  </tbody>\n",
       "</table>\n",
       "<p>344 rows × 7 columns</p>\n",
       "</div>"
      ],
      "text/plain": [
       "    species     island  bill_length_mm  bill_depth_mm  flipper_length_mm  \\\n",
       "0    Adelie  Torgersen            39.1           18.7              181.0   \n",
       "1    Adelie  Torgersen            39.5           17.4              186.0   \n",
       "2    Adelie  Torgersen            40.3           18.0              195.0   \n",
       "3    Adelie  Torgersen             NaN            NaN                NaN   \n",
       "4    Adelie  Torgersen            36.7           19.3              193.0   \n",
       "..      ...        ...             ...            ...                ...   \n",
       "339  Gentoo     Biscoe             NaN            NaN                NaN   \n",
       "340  Gentoo     Biscoe            46.8           14.3              215.0   \n",
       "341  Gentoo     Biscoe            50.4           15.7              222.0   \n",
       "342  Gentoo     Biscoe            45.2           14.8              212.0   \n",
       "343  Gentoo     Biscoe            49.9           16.1              213.0   \n",
       "\n",
       "     body_mass_g     sex  \n",
       "0         3750.0    Male  \n",
       "1         3800.0  Female  \n",
       "2         3250.0  Female  \n",
       "3            NaN     NaN  \n",
       "4         3450.0  Female  \n",
       "..           ...     ...  \n",
       "339          NaN     NaN  \n",
       "340       4850.0  Female  \n",
       "341       5750.0    Male  \n",
       "342       5200.0  Female  \n",
       "343       5400.0    Male  \n",
       "\n",
       "[344 rows x 7 columns]"
      ]
     },
     "execution_count": 14,
     "metadata": {},
     "output_type": "execute_result"
    }
   ],
   "source": [
    "df"
   ]
  },
  {
   "cell_type": "markdown",
   "id": "6656457e",
   "metadata": {
    "slideshow": {
     "slide_type": "fragment"
    }
   },
   "source": [
    "Ein `DataFrame` ist eine Tabelle ähnlich einem Excel-Spreadsheet"
   ]
  },
  {
   "cell_type": "markdown",
   "id": "3d846837",
   "metadata": {},
   "source": [
    "* In der ersten Spalte steht der Index, in diesem Fall die laufende Nummer des Pinguins\n",
    "* Der Index ist eindeutig\n",
    "* `NaN` bedeutet \"Not a Number\" "
   ]
  },
  {
   "cell_type": "markdown",
   "id": "66c3a750",
   "metadata": {
    "slideshow": {
     "slide_type": "slide"
    }
   },
   "source": [
    "## Histogramm"
   ]
  },
  {
   "cell_type": "code",
   "execution_count": 15,
   "id": "ad6a838a",
   "metadata": {
    "slideshow": {
     "slide_type": "slide"
    }
   },
   "outputs": [
    {
     "data": {
      "image/png": "[encoded data removed]",
      "text/plain": [
       "<Figure size 500x500 with 1 Axes>"
      ]
     },
     "metadata": {},
     "output_type": "display_data"
    }
   ],
   "source": [
    "sns.displot(df, x='flipper_length_mm');"
   ]
  },
  {
   "cell_type": "markdown",
   "id": "a54a6c44",
   "metadata": {
    "slideshow": {
     "slide_type": "slide"
    }
   },
   "source": [
    "Die Anzahl der Fächer (bins) kann eingestellt werden"
   ]
  },
  {
   "cell_type": "code",
   "execution_count": 16,
   "id": "040ea052",
   "metadata": {},
   "outputs": [
    {
     "data": {
      "text/plain": [
       "<seaborn.axisgrid.FacetGrid at 0x752aa4abbbd0>"
      ]
     },
     "execution_count": 16,
     "metadata": {},
     "output_type": "execute_result"
    },
    {
     "data": {
      "image/png": "[encoded data removed]",
      "text/plain": [
       "<Figure size 500x500 with 1 Axes>"
      ]
     },
     "metadata": {},
     "output_type": "display_data"
    }
   ],
   "source": [
    "sns.displot(df, x='flipper_length_mm', bins=20)"
   ]
  },
  {
   "cell_type": "markdown",
   "id": "07b29c5c",
   "metadata": {
    "slideshow": {
     "slide_type": "slide"
    }
   },
   "source": [
    "Alternativ kann auch die Breite der Fächer eingestellt werden"
   ]
  },
  {
   "cell_type": "code",
   "execution_count": 17,
   "id": "e8c3a20a",
   "metadata": {},
   "outputs": [
    {
     "data": {
      "text/plain": [
       "<Axes: xlabel='flipper_length_mm', ylabel='Count'>"
      ]
     },
     "execution_count": 17,
     "metadata": {},
     "output_type": "execute_result"
    },
    {
     "data": {
      "image/png": "[encoded data removed]",
      "text/plain": [
       "<Figure size 640x480 with 1 Axes>"
      ]
     },
     "metadata": {},
     "output_type": "display_data"
    }
   ],
   "source": [
    "sns.histplot(df, x='flipper_length_mm', binwidth=2.5)"
   ]
  },
  {
   "cell_type": "markdown",
   "id": "c45170e9",
   "metadata": {
    "slideshow": {
     "slide_type": "slide"
    }
   },
   "source": [
    "# Balkendiagramm"
   ]
  },
  {
   "cell_type": "markdown",
   "id": "3a935d41",
   "metadata": {},
   "source": [
    "Bei qualitativen Merkmalen spricht man von kategoriellen Daten.  Zählt man die Vorkommen, erhält man ein Balkendiagramm."
   ]
  },
  {
   "cell_type": "code",
   "execution_count": 18,
   "id": "d4aba5f9",
   "metadata": {},
   "outputs": [
    {
     "data": {
      "text/plain": [
       "<seaborn.axisgrid.FacetGrid at 0x752a9c443bd0>"
      ]
     },
     "execution_count": 18,
     "metadata": {},
     "output_type": "execute_result"
    },
    {
     "data": {
      "image/png": "[encoded data removed]",
      "text/plain": [
       "<Figure size 500x500 with 1 Axes>"
      ]
     },
     "metadata": {},
     "output_type": "display_data"
    }
   ],
   "source": [
    "sns.displot(df, x='species')"
   ]
  },
  {
   "cell_type": "markdown",
   "id": "2a20e03b",
   "metadata": {},
   "source": [
    "| englisch          | deutsch        |\n",
    "|:------------------|:---------------|\n",
    "| Adelie penguin    | Adelie Pinguin |\n",
    "| Chinstrap penguin | Zügelpinguin   |\n",
    "| Gentoo penguin    | Eselspinguin   |   "
   ]
  },
  {
   "cell_type": "code",
   "execution_count": 19,
   "id": "9dbfb869",
   "metadata": {
    "slideshow": {
     "slide_type": "slide"
    }
   },
   "outputs": [
    {
     "data": {
      "image/png": "[encoded data removed]",
      "text/plain": [
       "<Figure size 1500x500 with 3 Axes>"
      ]
     },
     "metadata": {},
     "output_type": "display_data"
    }
   ],
   "source": [
    "sns.displot(df, col='island', x='species');"
   ]
  },
  {
   "cell_type": "code",
   "execution_count": 20,
   "id": "15d2de3d",
   "metadata": {
    "slideshow": {
     "slide_type": "slide"
    }
   },
   "outputs": [
    {
     "data": {
      "image/png": "[encoded data removed]",
      "text/plain": [
       "<Figure size 1600.25x500 with 3 Axes>"
      ]
     },
     "metadata": {},
     "output_type": "display_data"
    }
   ],
   "source": [
    "sns.displot(df, col='island', x='species', hue='sex', multiple=\"stack\");"
   ]
  },
  {
   "cell_type": "markdown",
   "id": "147a184b",
   "metadata": {
    "slideshow": {
     "slide_type": "slide"
    }
   },
   "source": [
    "# DataFrames"
   ]
  },
  {
   "cell_type": "markdown",
   "id": "84f7d516",
   "metadata": {},
   "source": [
    "Bevor wir weitere Graphen ansehen, erst noch ein Blick auf `pd.DataFrame`\n",
    "\n",
    "*  `sns.load_dataset` lädt einen der mitgelieferten Datensätze\n",
    "*  Der Datensatz kommt als `pd.DataFrame`, das ist eine Tabelle\n",
    "*  Variablennamen (z.B. `df`) ohne Anführungszeichen\n",
    "*  andere Bezeichner mit Anführungszeichen `\"` oder `'`\n",
    "*  kein Unterschied zwischen `\"` und `'`, aber vor und hinter dem Wort dasselbe Zeichen verwenden\n",
    "*  später mehr zu diesem Thema"
   ]
  },
  {
   "cell_type": "markdown",
   "id": "c272bfb2",
   "metadata": {
    "slideshow": {
     "slide_type": "fragment"
    }
   },
   "source": [
    "Die erste Spalte eines DataFrames ist der Index, in diesem Beispiel die laufende Nummer"
   ]
  },
  {
   "cell_type": "code",
   "execution_count": 21,
   "id": "3b6c1b8d",
   "metadata": {},
   "outputs": [
    {
     "data": {
      "text/plain": [
       "RangeIndex(start=0, stop=344, step=1)"
      ]
     },
     "execution_count": 21,
     "metadata": {},
     "output_type": "execute_result"
    }
   ],
   "source": [
    "df.index"
   ]
  },
  {
   "cell_type": "markdown",
   "id": "fe5d1600",
   "metadata": {
    "slideshow": {
     "slide_type": "slide"
    }
   },
   "source": [
    "Die Spalten zeigen Ausprägungen von Merkmalen\n",
    "\n",
    "Wir erhalten die Spalte `flipper_length_mm` des DataFrame `df` auf einer der beiden folgenden Weisen\n",
    "* `df.flipper_length_mm`\n",
    "* `df['flipper_length_mm']`\n",
    "\n",
    "Wenn der Spaltenname Leerzeichen enthält, funktioniert nur die zweite Variante"
   ]
  },
  {
   "cell_type": "code",
   "execution_count": 22,
   "id": "d33eae19",
   "metadata": {
    "slideshow": {
     "slide_type": "slide"
    }
   },
   "outputs": [
    {
     "data": {
      "text/plain": [
       "0      181.0\n",
       "1      186.0\n",
       "2      195.0\n",
       "3        NaN\n",
       "4      193.0\n",
       "       ...  \n",
       "339      NaN\n",
       "340    215.0\n",
       "341    222.0\n",
       "342    212.0\n",
       "343    213.0\n",
       "Name: flipper_length_mm, Length: 344, dtype: float64"
      ]
     },
     "execution_count": 22,
     "metadata": {},
     "output_type": "execute_result"
    }
   ],
   "source": [
    "df.flipper_length_mm"
   ]
  },
  {
   "cell_type": "markdown",
   "id": "b9bb2ab3",
   "metadata": {},
   "source": [
    "`NaN` bedeutet \"not a number\", in der Praxis meist, dass der Wert nicht erhoben werden konnte"
   ]
  },
  {
   "cell_type": "markdown",
   "id": "48a6ae21",
   "metadata": {
    "slideshow": {
     "slide_type": "slide"
    }
   },
   "source": [
    "Die Daten des Pinguins Nummer 222 erhält man so"
   ]
  },
  {
   "cell_type": "code",
   "execution_count": 23,
   "id": "4d4b7c65",
   "metadata": {
    "scrolled": true
   },
   "outputs": [
    {
     "data": {
      "text/plain": [
       "species              Gentoo\n",
       "island               Biscoe\n",
       "bill_length_mm         48.7\n",
       "bill_depth_mm          14.1\n",
       "flipper_length_mm     210.0\n",
       "body_mass_g          4450.0\n",
       "sex                  Female\n",
       "Name: 222, dtype: object"
      ]
     },
     "execution_count": 23,
     "metadata": {},
     "output_type": "execute_result"
    }
   ],
   "source": [
    "df.loc[222]"
   ]
  },
  {
   "cell_type": "code",
   "execution_count": 24,
   "id": "1b1bd6a0",
   "metadata": {
    "slideshow": {
     "slide_type": "slide"
    }
   },
   "outputs": [
    {
     "data": {
      "image/png": "[encoded data removed]",
      "text/plain": [
       "<Figure size 500x500 with 1 Axes>"
      ]
     },
     "metadata": {},
     "output_type": "display_data"
    }
   ],
   "source": [
    "sns.displot(df, x='flipper_length_mm');"
   ]
  },
  {
   "cell_type": "markdown",
   "id": "b09a59c3",
   "metadata": {
    "slideshow": {
     "slide_type": "-"
    }
   },
   "source": [
    "Die Verteilung ist *bimodal*, d. h. es gibt zwei Maxima.\n",
    "\n",
    "Das könnte daran liegen, dass die beiden Geschlechter unterschiedliche Flügellängen haben.  Wir betrachten nur die weiblichen Pinguine"
   ]
  },
  {
   "cell_type": "markdown",
   "id": "995ad1d8",
   "metadata": {
    "slideshow": {
     "slide_type": "slide"
    }
   },
   "source": [
    "Wir speichern die Daten der weiblichen Pinguine im DataFrame `w`"
   ]
  },
  {
   "cell_type": "code",
   "execution_count": 25,
   "id": "9c038829",
   "metadata": {
    "slideshow": {
     "slide_type": "-"
    }
   },
   "outputs": [
    {
     "data": {
      "text/html": [
       "<div>\n",
       "<style scoped>\n",
       "    .dataframe tbody tr th:only-of-type {\n",
       "        vertical-align: middle;\n",
       "    }\n",
       "\n",
       "    .dataframe tbody tr th {\n",
       "        vertical-align: top;\n",
       "    }\n",
       "\n",
       "    .dataframe thead th {\n",
       "        text-align: right;\n",
       "    }\n",
       "</style>\n",
       "<table border=\"1\" class=\"dataframe\">\n",
       "  <thead>\n",
       "    <tr style=\"text-align: right;\">\n",
       "      <th></th>\n",
       "      <th>species</th>\n",
       "      <th>island</th>\n",
       "      <th>bill_length_mm</th>\n",
       "      <th>bill_depth_mm</th>\n",
       "      <th>flipper_length_mm</th>\n",
       "      <th>body_mass_g</th>\n",
       "      <th>sex</th>\n",
       "    </tr>\n",
       "  </thead>\n",
       "  <tbody>\n",
       "    <tr>\n",
       "      <th>1</th>\n",
       "      <td>Adelie</td>\n",
       "      <td>Torgersen</td>\n",
       "      <td>39.5</td>\n",
       "      <td>17.4</td>\n",
       "      <td>186.0</td>\n",
       "      <td>3800.0</td>\n",
       "      <td>Female</td>\n",
       "    </tr>\n",
       "    <tr>\n",
       "      <th>2</th>\n",
       "      <td>Adelie</td>\n",
       "      <td>Torgersen</td>\n",
       "      <td>40.3</td>\n",
       "      <td>18.0</td>\n",
       "      <td>195.0</td>\n",
       "      <td>3250.0</td>\n",
       "      <td>Female</td>\n",
       "    </tr>\n",
       "    <tr>\n",
       "      <th>4</th>\n",
       "      <td>Adelie</td>\n",
       "      <td>Torgersen</td>\n",
       "      <td>36.7</td>\n",
       "      <td>19.3</td>\n",
       "      <td>193.0</td>\n",
       "      <td>3450.0</td>\n",
       "      <td>Female</td>\n",
       "    </tr>\n",
       "    <tr>\n",
       "      <th>6</th>\n",
       "      <td>Adelie</td>\n",
       "      <td>Torgersen</td>\n",
       "      <td>38.9</td>\n",
       "      <td>17.8</td>\n",
       "      <td>181.0</td>\n",
       "      <td>3625.0</td>\n",
       "      <td>Female</td>\n",
       "    </tr>\n",
       "    <tr>\n",
       "      <th>12</th>\n",
       "      <td>Adelie</td>\n",
       "      <td>Torgersen</td>\n",
       "      <td>41.1</td>\n",
       "      <td>17.6</td>\n",
       "      <td>182.0</td>\n",
       "      <td>3200.0</td>\n",
       "      <td>Female</td>\n",
       "    </tr>\n",
       "    <tr>\n",
       "      <th>...</th>\n",
       "      <td>...</td>\n",
       "      <td>...</td>\n",
       "      <td>...</td>\n",
       "      <td>...</td>\n",
       "      <td>...</td>\n",
       "      <td>...</td>\n",
       "      <td>...</td>\n",
       "    </tr>\n",
       "    <tr>\n",
       "      <th>332</th>\n",
       "      <td>Gentoo</td>\n",
       "      <td>Biscoe</td>\n",
       "      <td>43.5</td>\n",
       "      <td>15.2</td>\n",
       "      <td>213.0</td>\n",
       "      <td>4650.0</td>\n",
       "      <td>Female</td>\n",
       "    </tr>\n",
       "    <tr>\n",
       "      <th>334</th>\n",
       "      <td>Gentoo</td>\n",
       "      <td>Biscoe</td>\n",
       "      <td>46.2</td>\n",
       "      <td>14.1</td>\n",
       "      <td>217.0</td>\n",
       "      <td>4375.0</td>\n",
       "      <td>Female</td>\n",
       "    </tr>\n",
       "    <tr>\n",
       "      <th>338</th>\n",
       "      <td>Gentoo</td>\n",
       "      <td>Biscoe</td>\n",
       "      <td>47.2</td>\n",
       "      <td>13.7</td>\n",
       "      <td>214.0</td>\n",
       "      <td>4925.0</td>\n",
       "      <td>Female</td>\n",
       "    </tr>\n",
       "    <tr>\n",
       "      <th>340</th>\n",
       "      <td>Gentoo</td>\n",
       "      <td>Biscoe</td>\n",
       "      <td>46.8</td>\n",
       "      <td>14.3</td>\n",
       "      <td>215.0</td>\n",
       "      <td>4850.0</td>\n",
       "      <td>Female</td>\n",
       "    </tr>\n",
       "    <tr>\n",
       "      <th>342</th>\n",
       "      <td>Gentoo</td>\n",
       "      <td>Biscoe</td>\n",
       "      <td>45.2</td>\n",
       "      <td>14.8</td>\n",
       "      <td>212.0</td>\n",
       "      <td>5200.0</td>\n",
       "      <td>Female</td>\n",
       "    </tr>\n",
       "  </tbody>\n",
       "</table>\n",
       "<p>165 rows × 7 columns</p>\n",
       "</div>"
      ],
      "text/plain": [
       "    species     island  bill_length_mm  bill_depth_mm  flipper_length_mm  \\\n",
       "1    Adelie  Torgersen            39.5           17.4              186.0   \n",
       "2    Adelie  Torgersen            40.3           18.0              195.0   \n",
       "4    Adelie  Torgersen            36.7           19.3              193.0   \n",
       "6    Adelie  Torgersen            38.9           17.8              181.0   \n",
       "12   Adelie  Torgersen            41.1           17.6              182.0   \n",
       "..      ...        ...             ...            ...                ...   \n",
       "332  Gentoo     Biscoe            43.5           15.2              213.0   \n",
       "334  Gentoo     Biscoe            46.2           14.1              217.0   \n",
       "338  Gentoo     Biscoe            47.2           13.7              214.0   \n",
       "340  Gentoo     Biscoe            46.8           14.3              215.0   \n",
       "342  Gentoo     Biscoe            45.2           14.8              212.0   \n",
       "\n",
       "     body_mass_g     sex  \n",
       "1         3800.0  Female  \n",
       "2         3250.0  Female  \n",
       "4         3450.0  Female  \n",
       "6         3625.0  Female  \n",
       "12        3200.0  Female  \n",
       "..           ...     ...  \n",
       "332       4650.0  Female  \n",
       "334       4375.0  Female  \n",
       "338       4925.0  Female  \n",
       "340       4850.0  Female  \n",
       "342       5200.0  Female  \n",
       "\n",
       "[165 rows x 7 columns]"
      ]
     },
     "execution_count": 25,
     "metadata": {},
     "output_type": "execute_result"
    }
   ],
   "source": [
    "w = df[df.sex==\"Female\"]  #  Achtung \"==\" als Vergleichsoperator\"\n",
    "w"
   ]
  },
  {
   "cell_type": "code",
   "execution_count": 26,
   "id": "609ac887",
   "metadata": {
    "slideshow": {
     "slide_type": "slide"
    }
   },
   "outputs": [
    {
     "data": {
      "image/png": "[encoded data removed]",
      "text/plain": [
       "<Figure size 640x480 with 1 Axes>"
      ]
     },
     "metadata": {},
     "output_type": "display_data"
    }
   ],
   "source": [
    "sns.histplot(w, x=\"flipper_length_mm\");"
   ]
  },
  {
   "cell_type": "markdown",
   "id": "c2070f5b",
   "metadata": {
    "slideshow": {
     "slide_type": "slide"
    }
   },
   "source": [
    "Immer noch bimodal.  Also ist das Geschlecht nicht der Grund.  Vielleicht die verschiedenen Arten?"
   ]
  },
  {
   "cell_type": "code",
   "execution_count": 27,
   "id": "bc19eeb7",
   "metadata": {},
   "outputs": [
    {
     "data": {
      "image/png": "[encoded data removed]",
      "text/plain": [
       "<Figure size 1500x500 with 3 Axes>"
      ]
     },
     "metadata": {},
     "output_type": "display_data"
    }
   ],
   "source": [
    "sns.displot(df, x=\"flipper_length_mm\", col=\"species\");"
   ]
  },
  {
   "cell_type": "code",
   "execution_count": 28,
   "id": "b6a3559a",
   "metadata": {
    "slideshow": {
     "slide_type": "slide"
    }
   },
   "outputs": [
    {
     "data": {
      "image/png": "[encoded data removed]",
      "text/plain": [
       "<Figure size 1600.25x500 with 3 Axes>"
      ]
     },
     "metadata": {},
     "output_type": "display_data"
    }
   ],
   "source": [
    "sns.displot(df, x=\"flipper_length_mm\", col=\"species\", hue='sex', binwidth=3, multiple='stack');"
   ]
  },
  {
   "cell_type": "markdown",
   "id": "66d56129",
   "metadata": {
    "slideshow": {
     "slide_type": "slide"
    }
   },
   "source": [
    "## `displot`\n",
    "\n",
    "`displot(df, x, col, hue, binwidth)`  \n",
    "\n",
    "* df:  DataFrame\n",
    "* x: Variable auf der x-Achse, deren Elemente gezählt werden sollen, quantitativ oder kategoriell\n",
    "* col: für jeden Wert dieser Variable wird ein Bild gezeichnet, kategoriell (optional)\n",
    "* hue: Unterteilung der Zählung, durch Farben ausgedrückt, kategoriell (optional)\n",
    "* binwidth: Breite der Fächer (optional)\n",
    "* bins: Anzahl der Fächer (alternativ zu binwidth, optional)\n",
    "\n",
    "Die Angaben für `x`, `col` und `hue` beziehen sich auf Spaltennamen des DataFrame, sie werden in Anführungszeichen gesetzt"
   ]
  },
  {
   "cell_type": "markdown",
   "id": "eb700c8d",
   "metadata": {
    "slideshow": {
     "slide_type": "slide"
    }
   },
   "source": [
    "# Tortendiagramme"
   ]
  },
  {
   "cell_type": "markdown",
   "id": "6bdab71c",
   "metadata": {
    "slideshow": {
     "slide_type": "-"
    }
   },
   "source": [
    "* findet man selten in Fachzeitschriften\n",
    "* daher kein Bestandteil von seaborn"
   ]
  },
  {
   "cell_type": "markdown",
   "id": "5c33c7c3",
   "metadata": {
    "slideshow": {
     "slide_type": "slide"
    }
   },
   "source": [
    "Wie viele Pinguine gibt es von jeder Sorte?"
   ]
  },
  {
   "cell_type": "code",
   "execution_count": 29,
   "id": "a3819a57",
   "metadata": {},
   "outputs": [
    {
     "data": {
      "text/plain": [
       "species\n",
       "Adelie       152\n",
       "Gentoo       124\n",
       "Chinstrap     68\n",
       "Name: count, dtype: int64"
      ]
     },
     "execution_count": 29,
     "metadata": {},
     "output_type": "execute_result"
    }
   ],
   "source": [
    "df[\"species\"].value_counts()"
   ]
  },
  {
   "cell_type": "code",
   "execution_count": 30,
   "id": "17f1728f",
   "metadata": {
    "slideshow": {
     "slide_type": "slide"
    }
   },
   "outputs": [
    {
     "data": {
      "image/png": "[encoded data removed]",
      "text/plain": [
       "<Figure size 640x480 with 1 Axes>"
      ]
     },
     "metadata": {},
     "output_type": "display_data"
    }
   ],
   "source": [
    "df[\"species\"].value_counts().plot.pie();"
   ]
  },
  {
   "cell_type": "code",
   "execution_count": 31,
   "id": "af4b2512",
   "metadata": {
    "slideshow": {
     "slide_type": "slide"
    }
   },
   "outputs": [
    {
     "data": {
      "image/png": "[encoded data removed]",
      "text/plain": [
       "<Figure size 640x480 with 1 Axes>"
      ]
     },
     "metadata": {},
     "output_type": "display_data"
    }
   ],
   "source": [
    "pp = sns.light_palette('Navy', as_cmap=True)\n",
    "df[\"species\"].value_counts().plot.pie(cmap=pp);"
   ]
  }
 ],
 "metadata": {
  "celltoolbar": "Slideshow",
  "kernelspec": {
   "display_name": "Python 3 (ipykernel)",
   "language": "python",
   "name": "python3"
  },
  "language_info": {
   "codemirror_mode": {
    "name": "ipython",
    "version": 3
   },
   "file_extension": ".py",
   "mimetype": "text/x-python",
   "name": "python",
   "nbconvert_exporter": "python",
   "pygments_lexer": "ipython3",
   "version": "3.11.10"
  }
 },
 "nbformat": 4,
 "nbformat_minor": 5
}
