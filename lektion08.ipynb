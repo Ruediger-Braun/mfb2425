{
 "cells": [
  {
   "cell_type": "markdown",
   "id": "473e8522",
   "metadata": {
    "slideshow": {
     "slide_type": "slide"
    }
   },
   "source": [
    "\n",
    "# Mathematik für Biologiestudierende\n",
    "\n",
    "Wintersemester 2024/25\n",
    "\n",
    "27.11.2024\n",
    "\n",
    "&copy; 2024 Prof. Dr. Rüdiger W. Braun "
   ]
  },
  {
   "cell_type": "markdown",
   "id": "825d1880",
   "metadata": {
    "slideshow": {
     "slide_type": "slide"
    }
   },
   "source": [
    "# Schließende Statistik\n",
    "\n",
    "# Hypothesentests"
   ]
  },
  {
   "cell_type": "markdown",
   "id": "b9af5c31",
   "metadata": {
    "slideshow": {
     "slide_type": "slide"
    }
   },
   "source": [
    "## Beispiel\n",
    "\n",
    "Es wird vermutet, dass Wärme den Keimerfolg eines Getreides verringert.  900 Saatkörner werden ausgebracht.\n",
    "\n",
    "* bunte Felder:  Erfolg\n",
    "* schwarze Felder:  Misserfolg\n",
    "\n",
    "<img src=\"bilder/saatgut.svg\" alt=\"Keimerfolge in kühlem und warmem Klima\" width=\"50%\"/>"
   ]
  },
  {
   "cell_type": "markdown",
   "id": "e58a44ad",
   "metadata": {
    "slideshow": {
     "slide_type": "slide"
    }
   },
   "source": [
    "## Frage\n",
    "\n",
    "Gibt es weniger Erfolge bei dem Anbauversuch im Warmen?"
   ]
  },
  {
   "cell_type": "markdown",
   "id": "0f9a90c1",
   "metadata": {
    "slideshow": {
     "slide_type": "fragment"
    }
   },
   "source": [
    "* im kühlem Klima gab es 720 Keimerfolge\n",
    "* im warmen nur 696"
   ]
  },
  {
   "cell_type": "markdown",
   "id": "13a89525",
   "metadata": {
    "slideshow": {
     "slide_type": "fragment"
    }
   },
   "source": [
    "die richtige Frage ist aber\n",
    "\n",
    "* beruht der Unterschied auf Zufall\n",
    "* oder ist er signifikant?"
   ]
  },
  {
   "cell_type": "markdown",
   "id": "01fb662b",
   "metadata": {
    "slideshow": {
     "slide_type": "slide"
    }
   },
   "source": [
    "## Zwei Probleme\n",
    "\n",
    "die aber miteinander verbunden sind\n",
    "\n",
    "### Zufallseinflüsse unvermeidlich\n",
    "\n",
    "* Sichere Aussagen unmöglich\n",
    "* Vorgabe des Signifikanzniveaus begrenzt Fehlerwarscheinlichkeit"
   ]
  },
  {
   "cell_type": "markdown",
   "id": "c3ed9830",
   "metadata": {
    "slideshow": {
     "slide_type": "fragment"
    }
   },
   "source": [
    "### Binäre Antwort wird erwartet\n",
    "\n",
    "obwohl prinzipiell drei Szenarien möglich sind\n",
    "\n",
    "* klare Hinweise auf \"ja\"\n",
    "* klare Hinweise auf \"nein\"\n",
    "* unklares Ergebnis\n",
    "\n",
    "\"klar\" und \"unklar\" bemisst sich nach dem Signifikanzniveau"
   ]
  },
  {
   "cell_type": "markdown",
   "id": "2b571295",
   "metadata": {
    "slideshow": {
     "slide_type": "slide"
    }
   },
   "source": [
    "## Beispiel Saatgut\n",
    "\n",
    "Generell sind vier Ausgänge des Experiments möglich"
   ]
  },
  {
   "cell_type": "markdown",
   "id": "36042ba1",
   "metadata": {
    "slideshow": {
     "slide_type": "slide"
    }
   },
   "source": [
    "#### Beeinträchtigt die Temperaturerhöhung den Keimerfolg?"
   ]
  },
  {
   "cell_type": "markdown",
   "id": "273f5ab6",
   "metadata": {
    "slideshow": {
     "slide_type": "fragment"
    }
   },
   "source": [
    "* Die Temperaturerhöhung beeinträchtigt den Keimerfolg nicht und die statistische Auswertung des Experiments führt zur Antwort \"nein\"\n",
    "\n",
    "  &#128994; Korrekte Antwort"
   ]
  },
  {
   "cell_type": "markdown",
   "id": "cfd21306",
   "metadata": {
    "slideshow": {
     "slide_type": "fragment"
    }
   },
   "source": [
    "*  Die Temperaturerhöhung beeinträchtigt den Keimerfolg nicht und die statistische Auswertung des Experiments führt zur Antwort \"ja\"\n",
    "\n",
    "    &#128308; Falsche Antwort"
   ]
  },
  {
   "cell_type": "markdown",
   "id": "fbdd850a",
   "metadata": {
    "slideshow": {
     "slide_type": "fragment"
    }
   },
   "source": [
    "* Die Temperaturerhöhung beeinträchtigt den Keimerfolg und die statistische Auswertung des Experiments führt zur Antwort \"nein\"\n",
    "\n",
    "  &#128308; Falsche Antwort"
   ]
  },
  {
   "cell_type": "markdown",
   "id": "a7853389",
   "metadata": {
    "slideshow": {
     "slide_type": "fragment"
    }
   },
   "source": [
    "* Die Temperaturerhöhung beeinträchtigt den Keimerfolg und die statistische Auswertung des Experiments führt zur Antwort \"ja\"\n",
    "\n",
    "  &#128994; Korrekte Antwort"
   ]
  },
  {
   "cell_type": "markdown",
   "id": "679af60c",
   "metadata": {
    "slideshow": {
     "slide_type": "slide"
    }
   },
   "source": [
    "Was soll im Fall unklarer Datenlage die Antwort sein?\n",
    "\n",
    "* Forschungsteam hat Zusammenhang zwischen Temperatur und Keimerfolg entdeckt und will Ergebnis in angesehener Zeitschrift publizieren\n",
    "* Die Zeitschrift fordert stichhaltige Beweise\n",
    "* Wenn die Zeitschrift die Datenlage für unklar hält, wird sie die Publikation ablehnen"
   ]
  },
  {
   "cell_type": "markdown",
   "id": "aa5a0fc1",
   "metadata": {
    "slideshow": {
     "slide_type": "fragment"
    }
   },
   "source": [
    "Die Zeitschrift möchte ausschließen, dass ein zufälliger Effekt aufgebauscht wird\n",
    "\n",
    "* *Nullhypothese*:  Es gibt keinen Effekt\n",
    "* Das Gegenteil der Nullhypothese ist die *Alternative*\n",
    "* Die Alternative ist also das, was \"bewiesen\" werden soll\n",
    "* Wenn die Daten klar für die Alternative sprechen, nehme ich sie an\n",
    "* In allen anderen Fällen behalte ich die Nullhypothese bei"
   ]
  },
  {
   "cell_type": "markdown",
   "id": "92f11d41",
   "metadata": {
    "slideshow": {
     "slide_type": "fragment"
    }
   },
   "source": [
    "* kniffelige Frage:  Was heißt hier \"klar\""
   ]
  },
  {
   "cell_type": "markdown",
   "id": "7fc9f63f",
   "metadata": {
    "slideshow": {
     "slide_type": "slide"
    }
   },
   "source": [
    "# Nullhypothese und Alternativhypothese\n",
    "\n",
    "Durch die Auswahl der Stichprobe kommt Zufall ins Spiel. Falsche Antworten sind unvermeidbar.\n",
    "\n",
    "* Ziel der Statistik ist es, Schranken für die Wahrscheinlichkeit falscher Antworten zu geben\n",
    "* *Nullhypothese* $H_0$: Das ist diejenige Hypothese, deren fälschliche Ablehnung man nach Möglichkeit vermeiden will\n",
    "* *Alternativhypothese* $H_1$: Das ist die Alternative zur Nullhypothese"
   ]
  },
  {
   "cell_type": "markdown",
   "id": "c9d25d87",
   "metadata": {
    "slideshow": {
     "slide_type": "fragment"
    }
   },
   "source": [
    "**bei unklarer Datenlage wird also die Nullhypothese beibehalten**"
   ]
  },
  {
   "cell_type": "markdown",
   "id": "c9cb0b42",
   "metadata": {
    "slideshow": {
     "slide_type": "slide"
    }
   },
   "source": [
    "* Wissenschaft ist konservativ.  Wer mit einer neuen Idee kommt, muss zeigen, dass sie besser ist als die alte\n",
    "* typische Nullhypothesen:\n",
    "    * bestehende Theorie so gut wie der neue Ansatz\n",
    "    * der untersuchte Stoff ist ohne Einfluss\n",
    "    * das Präparat ist wirkungslos\n",
    "    * der beobachtete Unterschied im Gen ist folgenlos "
   ]
  },
  {
   "cell_type": "markdown",
   "id": "0e39191b",
   "metadata": {
    "slideshow": {
     "slide_type": "slide"
    }
   },
   "source": [
    "## Kleines Theaterstück\n",
    "\n",
    "* Forscher:  Habe wichtige Beobachtung gemacht\n",
    "* Statistikerin:  Ist doch alles Zufall\n",
    "* Forscher:  Kann überhaupt nicht sein\n",
    "* Statistikerin:  Zeigen Sie mal die Daten\n",
    "* Forscher zeigt Daten\n",
    "* Statistikerin rechnet\n"
   ]
  },
  {
   "cell_type": "markdown",
   "id": "53ec8182",
   "metadata": {
    "slideshow": {
     "slide_type": "slide"
    }
   },
   "source": [
    "#### Happy End\n",
    "\n",
    "* Statistikerin:  Mit Wahrscheinlichkeit 1% beruht das Ergebnis auf Zufall\n",
    "* Forscher:  das ist eine sehr kleine Wahrscheinlichkeit\n",
    "* Forscher reicht Arbeit bei Zeitschrift ein"
   ]
  },
  {
   "cell_type": "markdown",
   "id": "e1cc388b",
   "metadata": {
    "slideshow": {
     "slide_type": "fragment"
    }
   },
   "source": [
    "#### offenes Ende\n",
    "\n",
    "* Statistikerin:  Mit Wahrscheinlichkeit 20% beruht das Ergebnis auf Zufall\n",
    "* Forscher:  Ich hätte gedacht, die Wahrscheinlichkeit sei viel kleiner\n",
    "* Abgang Tür rechts zurück ins Labor"
   ]
  },
  {
   "cell_type": "markdown",
   "id": "234d86aa",
   "metadata": {
    "slideshow": {
     "slide_type": "fragment"
    }
   },
   "source": [
    "In Wahrheit sind Forscher und Statistikerin meist dieselbe Person"
   ]
  },
  {
   "cell_type": "markdown",
   "id": "c7f3739f",
   "metadata": {
    "slideshow": {
     "slide_type": "slide"
    }
   },
   "source": [
    "# Fehler erster und zweiter Art\n",
    "\n",
    "* *Der Fehler 1. Art* ist die fälschliche Ablehnung der Nullhypothese\n",
    "* *Der Fehler 2. Art* ist die fälschliche Beibehaltung der Nullhypothese \n",
    "\n",
    "Die Priorität liegt auf der Vermeidung des Fehlers 1. Art.  Diese Asymmetrie ist ein entscheidendes Merkmal der Testtheorie."
   ]
  },
  {
   "cell_type": "markdown",
   "id": "1c432269",
   "metadata": {
    "slideshow": {
     "slide_type": "fragment"
    }
   },
   "source": [
    "|                     | $H_0$ wird beibehalten | $H_0$ wird abgelehnt  |\n",
    "|---------------------|:----------------------:|:---------------------:|\n",
    "| $H_0$ **trifft zu** | richtige Entscheidung  | Fehler 1. Art         |\n",
    "| $H_1$ **trifft zu** | Fehler 2. Art          | richtige Entscheidung |"
   ]
  },
  {
   "cell_type": "markdown",
   "id": "98b1dbe8",
   "metadata": {
    "slideshow": {
     "slide_type": "slide"
    }
   },
   "source": [
    "## Sprechweise\n",
    "\n",
    "* $H_0$ wird beibehalten oder abgelehnt\n",
    "* $H_1$ wird angenommen oder verworfen"
   ]
  },
  {
   "cell_type": "markdown",
   "id": "d8bcdc01",
   "metadata": {
    "slideshow": {
     "slide_type": "slide"
    }
   },
   "source": [
    "## Signifikanztests\n",
    "\n",
    "* Für den Fall, dass $H_0$ zutrifft, bezeichnet man die Wahrscheinlichkeit, dass $H_0$ trotzdem abgelehnt wird, als *Fehlerwahrscheinlichkeit erster Art*\n",
    "* Ein Test heißt *Signifikanztest* zum Niveau $\\alpha$, wenn alle Fehlerwahrscheinlichkeiten erster Art $\\le \\alpha$ sind\n",
    "* Das übliche Niveau ist 0.05\n",
    "* Für den Fall, dass $H_0$ nicht zutrifft, bezeichnet man die Wahrscheinlichkeit, dass $H_0$ trotzdem beibehalten wird, als *Fehlerwahrscheinlichkeit zweiter Art*"
   ]
  },
  {
   "cell_type": "markdown",
   "id": "036089c7",
   "metadata": {
    "slideshow": {
     "slide_type": "slide"
    }
   },
   "source": [
    "# Binomialtests\n",
    "\n",
    "### Beispiel: Saatgut\n",
    "\n",
    "* Wir konstruieren einen Test zum Signifikanzniveau $\\alpha = 0.05$\n",
    "* Stichprobenumfang ist 900\n",
    "* $p_0 = 0.80$ ist die Vergleichswahrscheinlichkeit, denn in kühlem Klima keimen 80% des Saatguts\n",
    "* $p$ ist die unbekannte tatsächliche Wahrscheinlichkeit, dass ein zufällig herausgegriffenes Korn keimt\n",
    "* Nullhypothese $H_0 = \\{ p \\ge p_0 \\}$, d.h. die Nullhypothese besagt, dass der Keimerfolg in warmem Klima *nicht* geringer ist als in kühlem\n",
    "  "
   ]
  },
  {
   "cell_type": "markdown",
   "id": "c90e0d11",
   "metadata": {
    "slideshow": {
     "slide_type": "fragment"
    }
   },
   "source": [
    "* Bei der Bestimmung des Fehlers 1. Art gehen wir davon aus, dass $H_0$ wahr ist\n",
    "* `Python`sagt: Mit Wahrscheinlichkeit 0.0452 beobachten wir in diesem Fall 699 oder weniger Keimerfolge\n",
    "* Wenn wir also sagen:  Bei  oder weniger Bakterien wird $H_0$ abgelehnt, dann machen wir den Fehler 1. Art mit\n",
    "  einer Wahrscheinlichkeit von ca 4.5%"
   ]
  },
  {
   "cell_type": "markdown",
   "id": "494bdf16",
   "metadata": {
    "slideshow": {
     "slide_type": "slide"
    }
   },
   "source": [
    "Wo kommen diese Zahlen her:"
   ]
  },
  {
   "cell_type": "code",
   "execution_count": 1,
   "id": "ad8df680",
   "metadata": {},
   "outputs": [],
   "source": [
    "import numpy as np\n",
    "np.set_printoptions(legacy='1.21')\n",
    "from scipy import stats"
   ]
  },
  {
   "cell_type": "code",
   "execution_count": 2,
   "id": "c34ac4b6",
   "metadata": {},
   "outputs": [],
   "source": [
    "P = stats.binom(900, 0.80)  #  W'keitsverteilung unter Nullhypothese"
   ]
  },
  {
   "cell_type": "code",
   "execution_count": 5,
   "id": "83ac556e",
   "metadata": {},
   "outputs": [
    {
     "data": {
      "text/plain": [
       "0.045195625799864816"
      ]
     },
     "execution_count": 5,
     "metadata": {},
     "output_type": "execute_result"
    }
   ],
   "source": [
    "P.cdf(699)   # cumulative distribution function\n",
    "# W'keit, dass 699 odfer weniger Keimerfolge"
   ]
  },
  {
   "cell_type": "markdown",
   "id": "9c29a9c7",
   "metadata": {
    "slideshow": {
     "slide_type": "fragment"
    }
   },
   "source": [
    "Zum Vergleich:"
   ]
  },
  {
   "cell_type": "code",
   "execution_count": 6,
   "id": "dd0ab119",
   "metadata": {},
   "outputs": [
    {
     "data": {
      "text/plain": [
       "0.05346354525840081"
      ]
     },
     "execution_count": 6,
     "metadata": {},
     "output_type": "execute_result"
    }
   ],
   "source": [
    "P.cdf(700)"
   ]
  },
  {
   "cell_type": "markdown",
   "id": "87072e0a",
   "metadata": {},
   "source": [
    "Diese Fehlerwahrscheinlichkeit ist höher als das Signifikanzniveau $\\alpha=0.05$"
   ]
  },
  {
   "cell_type": "markdown",
   "id": "33ae13da",
   "metadata": {
    "slideshow": {
     "slide_type": "slide"
    }
   },
   "source": [
    "Wir hätte ich den Wert 700 finden können ausgehend von $\\alpha=0.05$"
   ]
  },
  {
   "cell_type": "code",
   "execution_count": 7,
   "id": "aeb7a6b7",
   "metadata": {},
   "outputs": [
    {
     "data": {
      "text/plain": [
       "700.0"
      ]
     },
     "execution_count": 7,
     "metadata": {},
     "output_type": "execute_result"
    }
   ],
   "source": [
    "P.ppf(0.05)  # percent point function"
   ]
  },
  {
   "cell_type": "markdown",
   "id": "64c5801d",
   "metadata": {},
   "source": [
    "Das ist das kleinste $k$, dessen Wert über 0.05 liegt"
   ]
  },
  {
   "cell_type": "markdown",
   "id": "77bacdba",
   "metadata": {
    "slideshow": {
     "slide_type": "slide"
    }
   },
   "source": [
    "\n",
    "\n",
    "## Entscheidungsregel:\n",
    "\n",
    "* $n=900$ und $p_0=0.80$ und $H_0=\\{p\\ge p_0\\}$ und $\\alpha=0.05$\n",
    "\n",
    "* Die Nullhypothese wird abgelehnt, wenn 699 oder weniger Erfolge beobachtet werden\n",
    "* Bei 700 oder mehr Erfolgen wird die Nullhypothese beibehalten"
   ]
  },
  {
   "cell_type": "markdown",
   "id": "f92483d6",
   "metadata": {
    "slideshow": {
     "slide_type": "fragment"
    }
   },
   "source": [
    "Im Beispiel hatten wir 696 Keimerfolge.  Also ist nachgewiesen, dass der Keimerfolg in warmem Klima sinkt"
   ]
  },
  {
   "cell_type": "markdown",
   "id": "fd21c8ad",
   "metadata": {
    "slideshow": {
     "slide_type": "slide"
    }
   },
   "source": [
    "# Fehlerwahrscheinlichkeit zweiter Art\n",
    "\n",
    "* Wie groß ist die Fehlerwahrscheinlichkeit zweiter Art?"
   ]
  },
  {
   "cell_type": "markdown",
   "id": "cbec4b5f",
   "metadata": {
    "slideshow": {
     "slide_type": "fragment"
    }
   },
   "source": [
    "* Das ist keine gute Frage\n",
    "* Wenn die Keimerfolgswahrscheinlichkeit von 80% auf 79.5% sinkt, dann ist das praktisch nicht nachzuweisen\n",
    "* Sinnvoll ist folgende Frage\n",
    "\n",
    ">  Angenommen, die Keimerfolgswahrscheinlichkiet sinkt auf 75%, mit welcher Wahrscheinlichkeit wird unser Test diesen Rückgang  entdecken?"
   ]
  },
  {
   "cell_type": "markdown",
   "id": "74493b56",
   "metadata": {
    "slideshow": {
     "slide_type": "fragment"
    }
   },
   "source": [
    "* Wenn $q$ die Fehlerwahrscheinlichkeit zweiter Art ist, dann bezeichnet man $ 1 - q $ als *Power* des Tests\n",
    "* Die Power hängt also davon ab, welche Annahme man über den Abstand zwischen Nullhypothese und Alternative macht"
   ]
  },
  {
   "cell_type": "markdown",
   "id": "c397f937",
   "metadata": {
    "slideshow": {
     "slide_type": "slide"
    }
   },
   "source": [
    "Fehlerwahrscheinlichkeit zweiter Art, wenn die Keimwahrscheinlichkeit auf 75% sinkt\n",
    "\n",
    "* Entscheidungsregel: Bei 700 oder mehr Keimerfolgen wird $ H_0 $ beibehalten\n",
    "* Wie wahrscheinlich ist dieses Ergebnis, wenn tatsächlich nur 75% aller Saatkörner keimen?\n",
    "* Gesucht\n",
    "$$   \\sum_{k=700}^{900} B_{900,\\,0.75}(k)\n",
    "  = 1 - \\sum_{k=0}^{699} B_{900,\\,0.75}(k)\n",
    "  = 1 - 0.9715 = 0.0285  $$"
   ]
  },
  {
   "cell_type": "code",
   "execution_count": 8,
   "id": "3b0b25e2",
   "metadata": {
    "slideshow": {
     "slide_type": "slide"
    }
   },
   "outputs": [
    {
     "data": {
      "text/plain": [
       "0.02848516837071069"
      ]
     },
     "execution_count": 8,
     "metadata": {},
     "output_type": "execute_result"
    }
   ],
   "source": [
    "Q = stats.binom(900, 0.75)  #  W'keitsverteilung der Alternative\n",
    "1 - Q.cdf(699)"
   ]
  },
  {
   "cell_type": "markdown",
   "id": "d5bf04b2",
   "metadata": {
    "slideshow": {
     "slide_type": "fragment"
    }
   },
   "source": [
    "* Unter obiger Annahme beträgt die Fehlerwahrscheinlichkeit zweiter Art 2.85%\n",
    "* Die Power beträgt entsprechend 97.15%% \n",
    "* Mit anderen Worten:  In 97\\% der Fälle, bei denen die Keimerfolgswahrscheinlichkeit von 80% auf unter 75% sinkt, kann der Test diesen Fakt entdecken "
   ]
  },
  {
   "cell_type": "markdown",
   "id": "f5b6f24b",
   "metadata": {
    "slideshow": {
     "slide_type": "slide"
    }
   },
   "source": [
    "## Fehler erster und zweiter Art\n",
    "\n",
    "<img src=\"bilder/fehler2.svg\" alt=\"Fehler erster und zweiter Art\" width=\"75%\"/>\n",
    "\n",
    "Die orangefarbenen Balken zeigen Fehlentscheidungen"
   ]
  },
  {
   "cell_type": "markdown",
   "id": "cb26fa06",
   "metadata": {
    "slideshow": {
     "slide_type": "slide"
    }
   },
   "source": [
    "## Kochrezepte "
   ]
  },
  {
   "cell_type": "markdown",
   "id": "582af351",
   "metadata": {
    "slideshow": {
     "slide_type": "slide"
    }
   },
   "source": [
    "## Ein- und zweiseitige Tests\n",
    "\n",
    "* Ein ja/nein-Experiment mit unbekannter Erfolgswahrscheinlichkeit $p$ wird $n$-mal wiederholt\n",
    "* Ziel:  Aussage über $p$ relativ zu einem Referenzwert $p_0$ \n",
    "* verschiedene Nullhypothesen sind denkbar\n",
    "  * $H_0 : p \\ge p_0$: einseitiger unterer Test\n",
    "  * $H_0 : p \\le p_0$: einseitiger oberer Test\n",
    "  * $H_0 : p = p_0$: zweiseitiger Test\n",
    "* Die Nullhypothese $H_0 \\colon p \\ne p_0$ macht keinen Sinn"
   ]
  },
  {
   "cell_type": "markdown",
   "id": "a3d40bcb",
   "metadata": {
    "slideshow": {
     "slide_type": "slide"
    }
   },
   "source": [
    "## Einseitiger unterer Binomialtest zum Niveau  $\\alpha$\n",
    "\n",
    "* Gegeben sind unabhängige $B(1, p)$-verteilte Zufallsvariable $X_1, \\dots, X_n$ mit unbekanntem $p$ sowie ein Signifikanzniveau $\\alpha$\n",
    "* Verglichen werden soll mit einem Referenzwert $p_0$\n",
    "* Getestet wird die Nullhypothese $H_0 = \\{p \\ge p_0\\}$ gegen die Alternative $H_1 = \\{p < p_0\\}$\n",
    "* `P` ist die Binomialverteilung $B_{n,p_0}$\n",
    "* Der Wert $c$ ist so zu wählen, dass `P.cdf(c-1)`$\\le\\alpha$ und `P.cdf(c)`$>\\alpha$\n",
    "* $c$ heißt *kritischer Wert*"
   ]
  },
  {
   "cell_type": "markdown",
   "id": "3a66914e",
   "metadata": {
    "slideshow": {
     "slide_type": "fragment"
    }
   },
   "source": [
    "### Entscheidungsregel:\n",
    "\n",
    "* Die Nullhypothese wird abgelehnt, falls die Anzahl der Erfolge echt kleiner als $c$ ist\n",
    "* Die Nullhypothese wird beibehalten, falls die Anzahl der Erfolge mindestens $c$ ist\n"
   ]
  },
  {
   "cell_type": "markdown",
   "id": "94d512cd",
   "metadata": {
    "slideshow": {
     "slide_type": "slide"
    }
   },
   "source": [
    "## Beispiel zum unteren Binomialtest\n",
    "\n",
    "* Im ungestörtem Boden sind 75% aller Bakterien L-Bakterien und 25% R-Bakterien\n",
    "* Ein Pestizid wird verdächtigt, den Anteil an L-Bakterien zu senken\n",
    "* Die Frage\n",
    "\n",
    "> Sinkt der Anteil an L-Bakterien durch das Pestizid\n",
    "  \n",
    "  soll zum Signifikanzniveau $\\alpha = 0.05$ beantwortet werden\n",
    "  \n",
    "* Dazu werden 27 Bakterien auf ihre Chiralität untersucht"
   ]
  },
  {
   "cell_type": "code",
   "execution_count": 9,
   "id": "bc6b0ffc",
   "metadata": {
    "slideshow": {
     "slide_type": "-"
    }
   },
   "outputs": [
    {
     "data": {
      "text/plain": [
       "16.0"
      ]
     },
     "execution_count": 9,
     "metadata": {},
     "output_type": "execute_result"
    }
   ],
   "source": [
    "P = stats.binom(27, 0.75)\n",
    "alpha = 0.05\n",
    "c = P.ppf(alpha)\n",
    "c"
   ]
  },
  {
   "cell_type": "markdown",
   "id": "55a23c9a",
   "metadata": {
    "slideshow": {
     "slide_type": "fragment"
    }
   },
   "source": [
    "Wenn 15 oder weniger L-Bakterien gefunden werden, dann lehnen wir die Nullhypothese ab"
   ]
  },
  {
   "cell_type": "markdown",
   "id": "24f6ee2b",
   "metadata": {
    "slideshow": {
     "slide_type": "slide"
    }
   },
   "source": [
    "## Einseitiger oberer Binomialtest zum Niveau $\\alpha$\n",
    "\n",
    "* Gegeben sind unabhängige $B(1, p)$-verteilte Zufallsvariable $X_1, \\dots, X_n$ mit unbekanntem $p$ sowie ein\n",
    "Signifikanzniveau $\\alpha$\n",
    "* Verglichen werden soll mit einem Referenzwert $p_0$\n",
    "* Getestet wird die Nullhypothese $H_0 = \\{p \\le p_0\\}$ gegen die Alternative $H_1 = \\{p > p_0\\}$\n",
    "* `P` ist die Binomialverteilung $B_{n,p_0}$\n",
    "* Der kritische Wert $c$ ist so zu wählen, dass `P.cdf(c-1)`$<1-\\alpha$ und `P.cdf(c)`$\\ge1-\\alpha$"
   ]
  },
  {
   "cell_type": "markdown",
   "id": "e8dca16e",
   "metadata": {
    "slideshow": {
     "slide_type": "fragment"
    }
   },
   "source": [
    "### Entscheidungsregel:\n",
    "\n",
    "* Die Nullhypothese wird abgelehnt, falls die Anzahl der Erfolge echt größer als $c$ ist\n",
    "* Die Nullhypothese wird beibehalten, falls die Anzahl der Erfolge höchstens $c$ ist"
   ]
  },
  {
   "cell_type": "markdown",
   "id": "39abbc40",
   "metadata": {
    "slideshow": {
     "slide_type": "slide"
    }
   },
   "source": [
    "## Beispiel zum oberen Binomialtest\n",
    "\n",
    "* Zuchtlachsen wird Fischabfall und vegetarisches Futter zur Auswahl angboten\n",
    "* 11% aller Lachse bevorzugen das Gemüse\n",
    "* Der Geschmack der vegetarischen Kost wird durch Zusatz eines Aromastoffs verändet\n",
    "* Die Frage\n",
    "\n",
    "> Bevorzugen sie das aromatisierte Gemüse mit höherer Wahrscheinlichkeit als vorher?\n",
    "  \n",
    "  soll zum Signifikanzniveau $\\alpha = 0.05$ beantwortet werden\n",
    "  "
   ]
  },
  {
   "cell_type": "markdown",
   "id": "05189a4b",
   "metadata": {
    "slideshow": {
     "slide_type": "fragment"
    }
   },
   "source": [
    "* Einseitiger, oberer Binomialtest mit Nullhypothese $H_0 = \\{p \\le 0.11 \\}$\n",
    "* Stichprobenumfang $n = 38$"
   ]
  },
  {
   "cell_type": "code",
   "execution_count": 10,
   "id": "ed0f507e",
   "metadata": {
    "slideshow": {
     "slide_type": "slide"
    }
   },
   "outputs": [
    {
     "data": {
      "text/plain": [
       "8.0"
      ]
     },
     "execution_count": 10,
     "metadata": {},
     "output_type": "execute_result"
    }
   ],
   "source": [
    "P = stats.binom(38, 0.11)\n",
    "alpha = 0.05\n",
    "P.ppf(1-alpha)"
   ]
  },
  {
   "cell_type": "code",
   "execution_count": 11,
   "id": "f38b797e",
   "metadata": {},
   "outputs": [
    {
     "data": {
      "text/plain": [
       "0.9801967881175796"
      ]
     },
     "execution_count": 11,
     "metadata": {},
     "output_type": "execute_result"
    }
   ],
   "source": [
    "P.cdf(8)"
   ]
  },
  {
   "cell_type": "code",
   "execution_count": 12,
   "id": "39774ea6",
   "metadata": {
    "slideshow": {
     "slide_type": "fragment"
    }
   },
   "outputs": [
    {
     "data": {
      "text/plain": [
       "0.9484147640607011"
      ]
     },
     "execution_count": 12,
     "metadata": {},
     "output_type": "execute_result"
    }
   ],
   "source": [
    "P.cdf(7)"
   ]
  },
  {
   "cell_type": "markdown",
   "id": "7aa49f92",
   "metadata": {},
   "source": [
    "Also $c=8$"
   ]
  },
  {
   "cell_type": "markdown",
   "id": "7b3af94a",
   "metadata": {
    "slideshow": {
     "slide_type": "slide"
    }
   },
   "source": [
    "Wenn 9 oder mehr Fische das aromatisierte Futter bevorzugen, dann wird die Nullhypothese, dass das neue Futter nicht besser angenommen wird als das alte, abgelehnt"
   ]
  },
  {
   "cell_type": "markdown",
   "id": "16ef1e2b",
   "metadata": {},
   "source": [
    "Wenn die Nullhypothese trotzdem gilt, dann machen wir mit Wahrscheinlichkeit"
   ]
  },
  {
   "cell_type": "code",
   "execution_count": 13,
   "id": "670602ab",
   "metadata": {},
   "outputs": [
    {
     "data": {
      "text/plain": [
       "0.019803211882420402"
      ]
     },
     "execution_count": 13,
     "metadata": {},
     "output_type": "execute_result"
    }
   ],
   "source": [
    "1 - P.cdf(8)"
   ]
  },
  {
   "cell_type": "markdown",
   "id": "1b32204a",
   "metadata": {},
   "source": [
    "den Fehler erster Art"
   ]
  },
  {
   "cell_type": "markdown",
   "id": "33d83532",
   "metadata": {
    "slideshow": {
     "slide_type": "slide"
    }
   },
   "source": [
    "# Beispiel Lachs: Power des Tests\n",
    "\n",
    "* Was ist die Power des Tests, wenn tatsächlich 15% der Lachse die aromatisierte vegetarische Kost bevorzugen?\n",
    "* $H_0$ wird abgelehnt bei mindestens 9 Erfolgen\n",
    "* Im Beispiel $ p = 0.15 $"
   ]
  },
  {
   "cell_type": "code",
   "execution_count": 14,
   "id": "bf142fc7",
   "metadata": {
    "slideshow": {
     "slide_type": "fragment"
    }
   },
   "outputs": [],
   "source": [
    "Q = stats.binom(38, 0.15)"
   ]
  },
  {
   "cell_type": "markdown",
   "id": "18ce3eea",
   "metadata": {
    "slideshow": {
     "slide_type": "slide"
    }
   },
   "source": [
    "* Wenn 8 oder weniger Erfolge beobachtet werden, mache ich den Fehler zweiter Art\n",
    "* Also ist die Fehlerwahrscheinlichkeit zweiter Art gleich"
   ]
  },
  {
   "cell_type": "code",
   "execution_count": 15,
   "id": "dc9a332b",
   "metadata": {},
   "outputs": [
    {
     "data": {
      "text/plain": [
       "0.8942848027814655"
      ]
     },
     "execution_count": 15,
     "metadata": {},
     "output_type": "execute_result"
    }
   ],
   "source": [
    "Q.cdf(8)"
   ]
  },
  {
   "cell_type": "markdown",
   "id": "5a6ac848",
   "metadata": {
    "slideshow": {
     "slide_type": "fragment"
    }
   },
   "source": [
    "und die Power gleich"
   ]
  },
  {
   "cell_type": "code",
   "execution_count": 16,
   "id": "aa862596",
   "metadata": {},
   "outputs": [
    {
     "data": {
      "text/plain": [
       "0.1057151972185345"
      ]
     },
     "execution_count": 16,
     "metadata": {},
     "output_type": "execute_result"
    }
   ],
   "source": [
    "1 - Q.cdf(8)"
   ]
  },
  {
   "cell_type": "markdown",
   "id": "e260fb65",
   "metadata": {},
   "source": [
    "* Die Power beträgt nur 10.5%.  Das bedeutet zweierlei:\n",
    "  * Der Test ist schlecht konzipiert:  Eine Verbesserung wird mit großer Wahrscheinlichkeit gar nicht entdeckt\n",
    "  * Rückschlüsse auf die Nullhypothese sind nicht möglich"
   ]
  },
  {
   "cell_type": "markdown",
   "id": "b3ce7e24",
   "metadata": {
    "slideshow": {
     "slide_type": "slide"
    }
   },
   "source": [
    "## Fehler erster und zweiter Art im Beispiel \"Lachs\"\n",
    "\n",
    "<img src=\"bilder/powerlachs.svg\" alt=\"Fehler erster und zweiter Art\" width=\"75%\"/>\n",
    "\n",
    "Orangefarbene Balken zeigen Fehlentscheidungen"
   ]
  },
  {
   "cell_type": "markdown",
   "id": "6ebb45a4",
   "metadata": {
    "slideshow": {
     "slide_type": "slide"
    }
   },
   "source": [
    "## Zusammenfassung\n",
    "\n",
    "* Stichprobenumfang und Referenzwert \n",
    "* oberer, unterer oder zweiseitiger Test\n",
    "* kritischer Wert\n",
    "* Entscheidungsregel\n",
    "* **dann das Experiment durchführen**\n",
    "* Entscheidungsregel anwenden, um Nullhyposthese abzulehnen oder beizubehalten"
   ]
  }
 ],
 "metadata": {
  "celltoolbar": "Slideshow",
  "kernelspec": {
   "display_name": "Python 3 (ipykernel)",
   "language": "python",
   "name": "python3"
  },
  "language_info": {
   "codemirror_mode": {
    "name": "ipython",
    "version": 3
   },
   "file_extension": ".py",
   "mimetype": "text/x-python",
   "name": "python",
   "nbconvert_exporter": "python",
   "pygments_lexer": "ipython3",
   "version": "3.12.7"
  }
 },
 "nbformat": 4,
 "nbformat_minor": 5
}
