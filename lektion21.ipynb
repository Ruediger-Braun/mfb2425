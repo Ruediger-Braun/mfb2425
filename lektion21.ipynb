{
 "cells": [
  {
   "cell_type": "markdown",
   "id": "67cd263b",
   "metadata": {
    "slideshow": {
     "slide_type": "slide"
    }
   },
   "source": [
    "# Mathematik für Biologiestudierende II\n",
    "\n",
    "Sommersemester 2025\n",
    "\n",
    "20.05.2025\n",
    "\n",
    "&copy; 2025 Prof. Dr. Rüdiger W. Braun "
   ]
  },
  {
   "cell_type": "code",
   "execution_count": 1,
   "id": "6d700937",
   "metadata": {
    "slideshow": {
     "slide_type": "slide"
    }
   },
   "outputs": [],
   "source": [
    "import numpy as np\n",
    "np.set_printoptions(legacy='1.21')\n",
    "import pandas as pd\n",
    "from scipy import stats\n",
    "import seaborn as sns\n",
    "sns.set_theme()\n",
    "from statsmodels.graphics.mosaicplot import mosaic"
   ]
  },
  {
   "cell_type": "markdown",
   "id": "8b19bc89",
   "metadata": {
    "slideshow": {
     "slide_type": "slide"
    }
   },
   "source": [
    "# Themen\n",
    "\n",
    "* $\\chi^2$-Unabhängigkeitsstest \n",
    "* Vierfeldertest\n",
    "* exakter Test nach Fisher\n",
    "* $\\chi^2$-Anpassungstest\n",
    "* ein exakter Permutationstest\n"
   ]
  },
  {
   "cell_type": "markdown",
   "id": "ec809ead",
   "metadata": {
    "slideshow": {
     "slide_type": "slide"
    }
   },
   "source": [
    "# Tests für kategorielle Daten"
   ]
  },
  {
   "cell_type": "markdown",
   "id": "dcde8c53",
   "metadata": {
    "slideshow": {
     "slide_type": "-"
    }
   },
   "source": [
    "# $\\chi^2$-Unabhängigkeitsstest "
   ]
  },
  {
   "cell_type": "markdown",
   "id": "2988140f",
   "metadata": {
    "slideshow": {
     "slide_type": "slide"
    }
   },
   "source": [
    "## Erstellung der Kontingenztafel aus einer Tabelle "
   ]
  },
  {
   "cell_type": "code",
   "execution_count": 2,
   "id": "600ca780",
   "metadata": {},
   "outputs": [
    {
     "data": {
      "text/html": [
       "<div>\n",
       "<style scoped>\n",
       "    .dataframe tbody tr th:only-of-type {\n",
       "        vertical-align: middle;\n",
       "    }\n",
       "\n",
       "    .dataframe tbody tr th {\n",
       "        vertical-align: top;\n",
       "    }\n",
       "\n",
       "    .dataframe thead th {\n",
       "        text-align: right;\n",
       "    }\n",
       "</style>\n",
       "<table border=\"1\" class=\"dataframe\">\n",
       "  <thead>\n",
       "    <tr style=\"text-align: right;\">\n",
       "      <th></th>\n",
       "      <th>survived</th>\n",
       "      <th>pclass</th>\n",
       "      <th>sex</th>\n",
       "      <th>age</th>\n",
       "      <th>sibsp</th>\n",
       "      <th>parch</th>\n",
       "      <th>fare</th>\n",
       "      <th>embarked</th>\n",
       "      <th>class</th>\n",
       "      <th>who</th>\n",
       "      <th>adult_male</th>\n",
       "      <th>deck</th>\n",
       "      <th>embark_town</th>\n",
       "      <th>alive</th>\n",
       "      <th>alone</th>\n",
       "    </tr>\n",
       "  </thead>\n",
       "  <tbody>\n",
       "    <tr>\n",
       "      <th>0</th>\n",
       "      <td>0</td>\n",
       "      <td>3</td>\n",
       "      <td>male</td>\n",
       "      <td>22.0</td>\n",
       "      <td>1</td>\n",
       "      <td>0</td>\n",
       "      <td>7.2500</td>\n",
       "      <td>S</td>\n",
       "      <td>Third</td>\n",
       "      <td>man</td>\n",
       "      <td>True</td>\n",
       "      <td>NaN</td>\n",
       "      <td>Southampton</td>\n",
       "      <td>no</td>\n",
       "      <td>False</td>\n",
       "    </tr>\n",
       "    <tr>\n",
       "      <th>1</th>\n",
       "      <td>1</td>\n",
       "      <td>1</td>\n",
       "      <td>female</td>\n",
       "      <td>38.0</td>\n",
       "      <td>1</td>\n",
       "      <td>0</td>\n",
       "      <td>71.2833</td>\n",
       "      <td>C</td>\n",
       "      <td>First</td>\n",
       "      <td>woman</td>\n",
       "      <td>False</td>\n",
       "      <td>C</td>\n",
       "      <td>Cherbourg</td>\n",
       "      <td>yes</td>\n",
       "      <td>False</td>\n",
       "    </tr>\n",
       "    <tr>\n",
       "      <th>2</th>\n",
       "      <td>1</td>\n",
       "      <td>3</td>\n",
       "      <td>female</td>\n",
       "      <td>26.0</td>\n",
       "      <td>0</td>\n",
       "      <td>0</td>\n",
       "      <td>7.9250</td>\n",
       "      <td>S</td>\n",
       "      <td>Third</td>\n",
       "      <td>woman</td>\n",
       "      <td>False</td>\n",
       "      <td>NaN</td>\n",
       "      <td>Southampton</td>\n",
       "      <td>yes</td>\n",
       "      <td>True</td>\n",
       "    </tr>\n",
       "    <tr>\n",
       "      <th>3</th>\n",
       "      <td>1</td>\n",
       "      <td>1</td>\n",
       "      <td>female</td>\n",
       "      <td>35.0</td>\n",
       "      <td>1</td>\n",
       "      <td>0</td>\n",
       "      <td>53.1000</td>\n",
       "      <td>S</td>\n",
       "      <td>First</td>\n",
       "      <td>woman</td>\n",
       "      <td>False</td>\n",
       "      <td>C</td>\n",
       "      <td>Southampton</td>\n",
       "      <td>yes</td>\n",
       "      <td>False</td>\n",
       "    </tr>\n",
       "    <tr>\n",
       "      <th>4</th>\n",
       "      <td>0</td>\n",
       "      <td>3</td>\n",
       "      <td>male</td>\n",
       "      <td>35.0</td>\n",
       "      <td>0</td>\n",
       "      <td>0</td>\n",
       "      <td>8.0500</td>\n",
       "      <td>S</td>\n",
       "      <td>Third</td>\n",
       "      <td>man</td>\n",
       "      <td>True</td>\n",
       "      <td>NaN</td>\n",
       "      <td>Southampton</td>\n",
       "      <td>no</td>\n",
       "      <td>True</td>\n",
       "    </tr>\n",
       "  </tbody>\n",
       "</table>\n",
       "</div>"
      ],
      "text/plain": [
       "   survived  pclass     sex   age  sibsp  parch     fare embarked  class  \\\n",
       "0         0       3    male  22.0      1      0   7.2500        S  Third   \n",
       "1         1       1  female  38.0      1      0  71.2833        C  First   \n",
       "2         1       3  female  26.0      0      0   7.9250        S  Third   \n",
       "3         1       1  female  35.0      1      0  53.1000        S  First   \n",
       "4         0       3    male  35.0      0      0   8.0500        S  Third   \n",
       "\n",
       "     who  adult_male deck  embark_town alive  alone  \n",
       "0    man        True  NaN  Southampton    no  False  \n",
       "1  woman       False    C    Cherbourg   yes  False  \n",
       "2  woman       False  NaN  Southampton   yes   True  \n",
       "3  woman       False    C  Southampton   yes  False  \n",
       "4    man        True  NaN  Southampton    no   True  "
      ]
     },
     "execution_count": 2,
     "metadata": {},
     "output_type": "execute_result"
    }
   ],
   "source": [
    "df = sns.load_dataset(\"titanic\")\n",
    "df.head()"
   ]
  },
  {
   "cell_type": "markdown",
   "id": "f0839092",
   "metadata": {
    "slideshow": {
     "slide_type": "fragment"
    }
   },
   "source": [
    "* Sind die Reisenden der veschiedenen Klassen mit unterschiedlichen Wahrscheinlichkeiten an den verschiedenen Orten eingestiegen?\n",
    "* Das ist eine Frage für einen $\\chi^2$-Unabhängigkeitstest"
   ]
  },
  {
   "cell_type": "code",
   "execution_count": 3,
   "id": "b85b2def",
   "metadata": {
    "slideshow": {
     "slide_type": "slide"
    }
   },
   "outputs": [
    {
     "data": {
      "text/html": [
       "<div>\n",
       "<style scoped>\n",
       "    .dataframe tbody tr th:only-of-type {\n",
       "        vertical-align: middle;\n",
       "    }\n",
       "\n",
       "    .dataframe tbody tr th {\n",
       "        vertical-align: top;\n",
       "    }\n",
       "\n",
       "    .dataframe thead th {\n",
       "        text-align: right;\n",
       "    }\n",
       "</style>\n",
       "<table border=\"1\" class=\"dataframe\">\n",
       "  <thead>\n",
       "    <tr style=\"text-align: right;\">\n",
       "      <th>embark_town</th>\n",
       "      <th>Cherbourg</th>\n",
       "      <th>Queenstown</th>\n",
       "      <th>Southampton</th>\n",
       "    </tr>\n",
       "    <tr>\n",
       "      <th>pclass</th>\n",
       "      <th></th>\n",
       "      <th></th>\n",
       "      <th></th>\n",
       "    </tr>\n",
       "  </thead>\n",
       "  <tbody>\n",
       "    <tr>\n",
       "      <th>1</th>\n",
       "      <td>85</td>\n",
       "      <td>2</td>\n",
       "      <td>127</td>\n",
       "    </tr>\n",
       "    <tr>\n",
       "      <th>2</th>\n",
       "      <td>17</td>\n",
       "      <td>3</td>\n",
       "      <td>164</td>\n",
       "    </tr>\n",
       "    <tr>\n",
       "      <th>3</th>\n",
       "      <td>66</td>\n",
       "      <td>72</td>\n",
       "      <td>353</td>\n",
       "    </tr>\n",
       "  </tbody>\n",
       "</table>\n",
       "</div>"
      ],
      "text/plain": [
       "embark_town  Cherbourg  Queenstown  Southampton\n",
       "pclass                                         \n",
       "1                   85           2          127\n",
       "2                   17           3          164\n",
       "3                   66          72          353"
      ]
     },
     "execution_count": 3,
     "metadata": {},
     "output_type": "execute_result"
    }
   ],
   "source": [
    "tafel = pd.crosstab(df.pclass, df.embark_town)\n",
    "tafel"
   ]
  },
  {
   "cell_type": "markdown",
   "id": "a46fef6d",
   "metadata": {
    "slideshow": {
     "slide_type": "fragment"
    }
   },
   "source": [
    "## `pd.crosstab`\n",
    "\n",
    "* `pd.crosstab(spalte1, spalte2)`  erstellt eine Kontingenztafel\n",
    "* die in `spalte1` auftretenden Werte bilden den Index\n",
    "* die in `spalte2` auftretenden Werte die Spaltennamen"
   ]
  },
  {
   "cell_type": "code",
   "execution_count": 4,
   "id": "006c4125",
   "metadata": {
    "slideshow": {
     "slide_type": "slide"
    }
   },
   "outputs": [
    {
     "data": {
      "image/png": "[encoded data removed]",
      "text/plain": [
       "<Figure size 640x480 with 3 Axes>"
      ]
     },
     "metadata": {},
     "output_type": "display_data"
    }
   ],
   "source": [
    "mosaic(tafel.stack());"
   ]
  },
  {
   "cell_type": "markdown",
   "id": "f94759fc",
   "metadata": {
    "slideshow": {
     "slide_type": "slide"
    }
   },
   "source": [
    "* Ist der $\\chi^2$-Unabhängigkeitstest überhaupt anwendbar?"
   ]
  },
  {
   "cell_type": "code",
   "execution_count": 5,
   "id": "fadfe7e9",
   "metadata": {},
   "outputs": [],
   "source": [
    "res = stats.chi2_contingency(tafel)"
   ]
  },
  {
   "cell_type": "code",
   "execution_count": 6,
   "id": "08738e90",
   "metadata": {},
   "outputs": [
    {
     "data": {
      "text/html": [
       "<div>\n",
       "<style scoped>\n",
       "    .dataframe tbody tr th:only-of-type {\n",
       "        vertical-align: middle;\n",
       "    }\n",
       "\n",
       "    .dataframe tbody tr th {\n",
       "        vertical-align: top;\n",
       "    }\n",
       "\n",
       "    .dataframe thead th {\n",
       "        text-align: right;\n",
       "    }\n",
       "</style>\n",
       "<table border=\"1\" class=\"dataframe\">\n",
       "  <thead>\n",
       "    <tr style=\"text-align: right;\">\n",
       "      <th></th>\n",
       "      <th>0</th>\n",
       "      <th>1</th>\n",
       "      <th>2</th>\n",
       "    </tr>\n",
       "  </thead>\n",
       "  <tbody>\n",
       "    <tr>\n",
       "      <th>0</th>\n",
       "      <td>40.440945</td>\n",
       "      <td>18.535433</td>\n",
       "      <td>155.023622</td>\n",
       "    </tr>\n",
       "    <tr>\n",
       "      <th>1</th>\n",
       "      <td>34.771654</td>\n",
       "      <td>15.937008</td>\n",
       "      <td>133.291339</td>\n",
       "    </tr>\n",
       "    <tr>\n",
       "      <th>2</th>\n",
       "      <td>92.787402</td>\n",
       "      <td>42.527559</td>\n",
       "      <td>355.685039</td>\n",
       "    </tr>\n",
       "  </tbody>\n",
       "</table>\n",
       "</div>"
      ],
      "text/plain": [
       "           0          1           2\n",
       "0  40.440945  18.535433  155.023622\n",
       "1  34.771654  15.937008  133.291339\n",
       "2  92.787402  42.527559  355.685039"
      ]
     },
     "execution_count": 6,
     "metadata": {},
     "output_type": "execute_result"
    }
   ],
   "source": [
    "pd.DataFrame(res.expected_freq)"
   ]
  },
  {
   "cell_type": "code",
   "execution_count": 7,
   "id": "9829e69d",
   "metadata": {
    "slideshow": {
     "slide_type": "fragment"
    }
   },
   "outputs": [
    {
     "data": {
      "text/plain": [
       "8.435267819894384e-26"
      ]
     },
     "execution_count": 7,
     "metadata": {},
     "output_type": "execute_result"
    }
   ],
   "source": [
    "res.pvalue"
   ]
  },
  {
   "cell_type": "markdown",
   "id": "6758d3fa",
   "metadata": {
    "slideshow": {
     "slide_type": "slide"
    }
   },
   "source": [
    "#### Warum funktioniert folgendes nicht?"
   ]
  },
  {
   "cell_type": "code",
   "execution_count": 8,
   "id": "f1456b9c",
   "metadata": {},
   "outputs": [
    {
     "ename": "SyntaxError",
     "evalue": "invalid syntax (1419250578.py, line 1)",
     "output_type": "error",
     "traceback": [
      "\u001b[1;36m  Cell \u001b[1;32mIn[8], line 1\u001b[1;36m\u001b[0m\n\u001b[1;33m    pd.crosstab(df.class, df.embark_town)  # invalid syntax\u001b[0m\n\u001b[1;37m                   ^\u001b[0m\n\u001b[1;31mSyntaxError\u001b[0m\u001b[1;31m:\u001b[0m invalid syntax\n"
     ]
    }
   ],
   "source": [
    "# pd.crosstab(df.class, df.embark_town)  # invalid syntax"
   ]
  },
  {
   "cell_type": "markdown",
   "id": "8a4b65ad",
   "metadata": {
    "slideshow": {
     "slide_type": "slide"
    }
   },
   "source": [
    "## Python:  reservierte Worte\n",
    "\n",
    "* Einige Worte wie `import` und `def` können nicht als Variablennamen verwendet werden"
   ]
  },
  {
   "cell_type": "markdown",
   "id": "dc3090dc",
   "metadata": {
    "slideshow": {
     "slide_type": "fragment"
    }
   },
   "source": [
    "* Dazu gehört auch `class`"
   ]
  },
  {
   "cell_type": "markdown",
   "id": "93882d18",
   "metadata": {
    "slideshow": {
     "slide_type": "fragment"
    }
   },
   "source": [
    "* Das ist die Ursache des Fehlers"
   ]
  },
  {
   "cell_type": "markdown",
   "id": "d16a9d4b",
   "metadata": {
    "slideshow": {
     "slide_type": "fragment"
    }
   },
   "source": [
    "* Aber als Text dürfen reservierte Wörter sehr wohl vorkommen"
   ]
  },
  {
   "cell_type": "code",
   "execution_count": 9,
   "id": "e46c6e71",
   "metadata": {
    "slideshow": {
     "slide_type": "fragment"
    }
   },
   "outputs": [
    {
     "data": {
      "text/html": [
       "<div>\n",
       "<style scoped>\n",
       "    .dataframe tbody tr th:only-of-type {\n",
       "        vertical-align: middle;\n",
       "    }\n",
       "\n",
       "    .dataframe tbody tr th {\n",
       "        vertical-align: top;\n",
       "    }\n",
       "\n",
       "    .dataframe thead th {\n",
       "        text-align: right;\n",
       "    }\n",
       "</style>\n",
       "<table border=\"1\" class=\"dataframe\">\n",
       "  <thead>\n",
       "    <tr style=\"text-align: right;\">\n",
       "      <th>embark_town</th>\n",
       "      <th>Cherbourg</th>\n",
       "      <th>Queenstown</th>\n",
       "      <th>Southampton</th>\n",
       "    </tr>\n",
       "    <tr>\n",
       "      <th>class</th>\n",
       "      <th></th>\n",
       "      <th></th>\n",
       "      <th></th>\n",
       "    </tr>\n",
       "  </thead>\n",
       "  <tbody>\n",
       "    <tr>\n",
       "      <th>First</th>\n",
       "      <td>85</td>\n",
       "      <td>2</td>\n",
       "      <td>127</td>\n",
       "    </tr>\n",
       "    <tr>\n",
       "      <th>Second</th>\n",
       "      <td>17</td>\n",
       "      <td>3</td>\n",
       "      <td>164</td>\n",
       "    </tr>\n",
       "    <tr>\n",
       "      <th>Third</th>\n",
       "      <td>66</td>\n",
       "      <td>72</td>\n",
       "      <td>353</td>\n",
       "    </tr>\n",
       "  </tbody>\n",
       "</table>\n",
       "</div>"
      ],
      "text/plain": [
       "embark_town  Cherbourg  Queenstown  Southampton\n",
       "class                                          \n",
       "First               85           2          127\n",
       "Second              17           3          164\n",
       "Third               66          72          353"
      ]
     },
     "execution_count": 9,
     "metadata": {},
     "output_type": "execute_result"
    }
   ],
   "source": [
    "pd.crosstab(df['class'], df.embark_town)"
   ]
  },
  {
   "cell_type": "markdown",
   "id": "052b9237",
   "metadata": {
    "slideshow": {
     "slide_type": "slide"
    }
   },
   "source": [
    "# Vierfeldertest\n",
    "\n",
    "Der $\\chi^2$-Unabhängigkeitstest mit zwei Zeilen und zwei Spalten heißt *Vierfeldertest*"
   ]
  },
  {
   "cell_type": "code",
   "execution_count": 10,
   "id": "d445e279",
   "metadata": {
    "slideshow": {
     "slide_type": "fragment"
    }
   },
   "outputs": [
    {
     "data": {
      "text/html": [
       "<div>\n",
       "<style scoped>\n",
       "    .dataframe tbody tr th:only-of-type {\n",
       "        vertical-align: middle;\n",
       "    }\n",
       "\n",
       "    .dataframe tbody tr th {\n",
       "        vertical-align: top;\n",
       "    }\n",
       "\n",
       "    .dataframe thead th {\n",
       "        text-align: right;\n",
       "    }\n",
       "</style>\n",
       "<table border=\"1\" class=\"dataframe\">\n",
       "  <thead>\n",
       "    <tr style=\"text-align: right;\">\n",
       "      <th></th>\n",
       "      <th>Mauerbienen</th>\n",
       "      <th>Holzbienen</th>\n",
       "    </tr>\n",
       "  </thead>\n",
       "  <tbody>\n",
       "    <tr>\n",
       "      <th>Tag</th>\n",
       "      <td>131</td>\n",
       "      <td>18</td>\n",
       "    </tr>\n",
       "    <tr>\n",
       "      <th>Dämmerung</th>\n",
       "      <td>7</td>\n",
       "      <td>4</td>\n",
       "    </tr>\n",
       "  </tbody>\n",
       "</table>\n",
       "</div>"
      ],
      "text/plain": [
       "           Mauerbienen  Holzbienen\n",
       "Tag                131          18\n",
       "Dämmerung            7           4"
      ]
     },
     "execution_count": 10,
     "metadata": {},
     "output_type": "execute_result"
    }
   ],
   "source": [
    "tafel = pd.DataFrame(index=['Tag', 'Dämmerung'])\n",
    "tafel['Mauerbienen'] = [131, 7]\n",
    "tafel['Holzbienen'] = [18, 4]\n",
    "tafel"
   ]
  },
  {
   "cell_type": "code",
   "execution_count": 11,
   "id": "059f1e32",
   "metadata": {},
   "outputs": [],
   "source": [
    "res = stats.chi2_contingency(tafel)"
   ]
  },
  {
   "cell_type": "code",
   "execution_count": 12,
   "id": "7028b872",
   "metadata": {},
   "outputs": [
    {
     "data": {
      "text/html": [
       "<div>\n",
       "<style scoped>\n",
       "    .dataframe tbody tr th:only-of-type {\n",
       "        vertical-align: middle;\n",
       "    }\n",
       "\n",
       "    .dataframe tbody tr th {\n",
       "        vertical-align: top;\n",
       "    }\n",
       "\n",
       "    .dataframe thead th {\n",
       "        text-align: right;\n",
       "    }\n",
       "</style>\n",
       "<table border=\"1\" class=\"dataframe\">\n",
       "  <thead>\n",
       "    <tr style=\"text-align: right;\">\n",
       "      <th></th>\n",
       "      <th>0</th>\n",
       "      <th>1</th>\n",
       "    </tr>\n",
       "  </thead>\n",
       "  <tbody>\n",
       "    <tr>\n",
       "      <th>0</th>\n",
       "      <td>128.5125</td>\n",
       "      <td>20.4875</td>\n",
       "    </tr>\n",
       "    <tr>\n",
       "      <th>1</th>\n",
       "      <td>9.4875</td>\n",
       "      <td>1.5125</td>\n",
       "    </tr>\n",
       "  </tbody>\n",
       "</table>\n",
       "</div>"
      ],
      "text/plain": [
       "          0        1\n",
       "0  128.5125  20.4875\n",
       "1    9.4875   1.5125"
      ]
     },
     "execution_count": 12,
     "metadata": {},
     "output_type": "execute_result"
    }
   ],
   "source": [
    "pd.DataFrame(res.expected_freq)"
   ]
  },
  {
   "cell_type": "markdown",
   "id": "47224961",
   "metadata": {
    "slideshow": {
     "slide_type": "slide"
    }
   },
   "source": [
    "# Exakter Test nach Fisher"
   ]
  },
  {
   "cell_type": "markdown",
   "id": "6a27db1b",
   "metadata": {
    "slideshow": {
     "slide_type": "slide"
    }
   },
   "source": [
    "* Der $\\chi^2$-Test ist approximativ, d.h. er ist nur bei genügend großen Stichprobenumfängen gültig (wenn nämlich alle erwarteten Werte mindestens 5 sind)\n",
    "* Diese Kompromisse waren vor der Einführung leistungsfähiger Computer unausweichlich, werden heute aber kritischer betrachtet"
   ]
  },
  {
   "cell_type": "markdown",
   "id": "8dd1220c",
   "metadata": {
    "slideshow": {
     "slide_type": "fragment"
    }
   },
   "source": [
    "* Eine Alternative zum Vierfeldertest ist der exakte Test von Fischer"
   ]
  },
  {
   "cell_type": "code",
   "execution_count": 13,
   "id": "cc64cecd",
   "metadata": {},
   "outputs": [
    {
     "data": {
      "text/plain": [
       "SignificanceResult(statistic=4.158730158730159, pvalue=0.046533029009005966)"
      ]
     },
     "execution_count": 13,
     "metadata": {},
     "output_type": "execute_result"
    }
   ],
   "source": [
    "stats.fisher_exact(tafel)"
   ]
  },
  {
   "cell_type": "markdown",
   "id": "46d5566e",
   "metadata": {
    "slideshow": {
     "slide_type": "slide"
    }
   },
   "source": [
    "# Der $\\chi^2$-Anpassungstest\n",
    "\n",
    "auch $\\chi^2$-Verteilungsstest genannt"
   ]
  },
  {
   "cell_type": "markdown",
   "id": "244bc1a3",
   "metadata": {
    "slideshow": {
     "slide_type": "slide"
    }
   },
   "source": [
    "### Beispiel Geburten pro Wochentag\n",
    "\n",
    "In einem amerikanischen Krankenhaus wurden im Jahr 1999 die folgenden Anzahlen an Geburten beobachtet\n",
    "\n",
    "| Wochentag | Tage im Jahr | Anzahl Geburten |\n",
    "|:----------|--------------|-----------------|\n",
    "| Montag    | 52           | 41              |\n",
    "| Dienstag  | 52           | 63              |\n",
    "| Mittwoch  | 52           | 63              |\n",
    "| Donnerstag| 52           | 47              |\n",
    "| Freitag   | 53           | 56              |\n",
    "| Samstag   | 52           | 47              |\n",
    "| Sonntag   | 52           | 33              |"
   ]
  },
  {
   "cell_type": "markdown",
   "id": "12da4b81",
   "metadata": {
    "slideshow": {
     "slide_type": "fragment"
    }
   },
   "source": [
    "* Sind diese Zahlen mit der Nullhypothese vereinbar, dass Geburten an allen Wochentagen gleich häufig auftreten?  \n",
    "* Diese Frage soll zum Signifikanzniveau $\\alpha = 0.05$ beantwortet werden."
   ]
  },
  {
   "cell_type": "markdown",
   "id": "9a718218",
   "metadata": {
    "slideshow": {
     "slide_type": "slide"
    }
   },
   "source": [
    "## Anpassungstest: Test auf Übereinstimmung der Daten mit einer Verteilung\n",
    "\n",
    "* Unabhängige Zufallsvariable $X_1, \\dots, X_n $, die alle mit Wahrscheinlichkeit $p_1$ den Wert $w_1$, mit Wahrscheinlichkeit $p_2$ den Wert $w_2$, ... und mit Wahrscheinlichkeit $p_s$ den Wert $w_s$ annehmen\n",
    "* Vergleichswahrscheinlichkeiten $\\pi_1, \\pi_2, \\dots, \\pi_s$ mit $\\pi_1 + \\pi_2 + \\dots + \\pi_s = 1$\n",
    "* Nullhypothese und Alternative:\n",
    "  * $H_0$: $p_1 = \\pi_1, p_2 = \\pi_2, \\dots, p_s = \\pi_s$\n",
    "  * $H_1$: mindestens ein $p_j \\ne \\pi_j$"
   ]
  },
  {
   "cell_type": "markdown",
   "id": "f1ed2d51",
   "metadata": {
    "slideshow": {
     "slide_type": "fragment"
    }
   },
   "source": [
    "* $y_1$ Anzahl, wie oft $w_1$ aufgetreten ist\n",
    "* $y_2$ anzahl, wie oft $w_2$ aufgetreten ist\n",
    "* ...\n",
    "* erwarteter Wert für $y_1$ ist $n\\pi_1$\n",
    "* erwarteter Wert für $y_2$ ist $n\\pi_2$\n",
    "* ..."
   ]
  },
  {
   "cell_type": "markdown",
   "id": "7dfdaef2",
   "metadata": {
    "slideshow": {
     "slide_type": "fragment"
    }
   },
   "source": [
    "* Die Anzahl der Freiheitsgrade ist $s-1$\n",
    "* Der p-Wert ist $1-\\chi^2_{s-1}(t)$ "
   ]
  },
  {
   "cell_type": "markdown",
   "id": "0ab25d37",
   "metadata": {
    "slideshow": {
     "slide_type": "slide"
    }
   },
   "source": [
    "### Weiter im Beispiel"
   ]
  },
  {
   "cell_type": "code",
   "execution_count": 14,
   "id": "e646d299",
   "metadata": {},
   "outputs": [
    {
     "data": {
      "text/html": [
       "<div>\n",
       "<style scoped>\n",
       "    .dataframe tbody tr th:only-of-type {\n",
       "        vertical-align: middle;\n",
       "    }\n",
       "\n",
       "    .dataframe tbody tr th {\n",
       "        vertical-align: top;\n",
       "    }\n",
       "\n",
       "    .dataframe thead th {\n",
       "        text-align: right;\n",
       "    }\n",
       "</style>\n",
       "<table border=\"1\" class=\"dataframe\">\n",
       "  <thead>\n",
       "    <tr style=\"text-align: right;\">\n",
       "      <th></th>\n",
       "      <th>Tage</th>\n",
       "      <th>Geburten</th>\n",
       "    </tr>\n",
       "  </thead>\n",
       "  <tbody>\n",
       "    <tr>\n",
       "      <th>Mo</th>\n",
       "      <td>52</td>\n",
       "      <td>41</td>\n",
       "    </tr>\n",
       "    <tr>\n",
       "      <th>Di</th>\n",
       "      <td>52</td>\n",
       "      <td>63</td>\n",
       "    </tr>\n",
       "    <tr>\n",
       "      <th>Mi</th>\n",
       "      <td>52</td>\n",
       "      <td>63</td>\n",
       "    </tr>\n",
       "    <tr>\n",
       "      <th>Do</th>\n",
       "      <td>52</td>\n",
       "      <td>47</td>\n",
       "    </tr>\n",
       "    <tr>\n",
       "      <th>Fr</th>\n",
       "      <td>53</td>\n",
       "      <td>56</td>\n",
       "    </tr>\n",
       "    <tr>\n",
       "      <th>Sa</th>\n",
       "      <td>52</td>\n",
       "      <td>47</td>\n",
       "    </tr>\n",
       "    <tr>\n",
       "      <th>So</th>\n",
       "      <td>52</td>\n",
       "      <td>33</td>\n",
       "    </tr>\n",
       "  </tbody>\n",
       "</table>\n",
       "</div>"
      ],
      "text/plain": [
       "    Tage  Geburten\n",
       "Mo    52        41\n",
       "Di    52        63\n",
       "Mi    52        63\n",
       "Do    52        47\n",
       "Fr    53        56\n",
       "Sa    52        47\n",
       "So    52        33"
      ]
     },
     "execution_count": 14,
     "metadata": {},
     "output_type": "execute_result"
    }
   ],
   "source": [
    "tafel = pd.DataFrame(index=['Mo', 'Di', 'Mi', 'Do', 'Fr', 'Sa', 'So'])\n",
    "tafel['Tage'] = [52, 52, 52, 52, 53, 52, 52]\n",
    "tafel['Geburten'] = [41, 63, 63, 47, 56, 47, 33]\n",
    "tafel"
   ]
  },
  {
   "cell_type": "code",
   "execution_count": 15,
   "id": "43b795f8",
   "metadata": {},
   "outputs": [
    {
     "data": {
      "text/plain": [
       "350"
      ]
     },
     "execution_count": 15,
     "metadata": {},
     "output_type": "execute_result"
    }
   ],
   "source": [
    "n = tafel.Geburten.sum()\n",
    "n"
   ]
  },
  {
   "cell_type": "markdown",
   "id": "fff06ab8",
   "metadata": {
    "slideshow": {
     "slide_type": "slide"
    }
   },
   "source": [
    "#### Tabelle der erwarteten Werte"
   ]
  },
  {
   "cell_type": "code",
   "execution_count": 16,
   "id": "ca34e432",
   "metadata": {},
   "outputs": [
    {
     "data": {
      "text/html": [
       "<div>\n",
       "<style scoped>\n",
       "    .dataframe tbody tr th:only-of-type {\n",
       "        vertical-align: middle;\n",
       "    }\n",
       "\n",
       "    .dataframe tbody tr th {\n",
       "        vertical-align: top;\n",
       "    }\n",
       "\n",
       "    .dataframe thead th {\n",
       "        text-align: right;\n",
       "    }\n",
       "</style>\n",
       "<table border=\"1\" class=\"dataframe\">\n",
       "  <thead>\n",
       "    <tr style=\"text-align: right;\">\n",
       "      <th></th>\n",
       "      <th>Tage</th>\n",
       "      <th>Geburten</th>\n",
       "      <th>erwartet</th>\n",
       "    </tr>\n",
       "  </thead>\n",
       "  <tbody>\n",
       "    <tr>\n",
       "      <th>Mo</th>\n",
       "      <td>52</td>\n",
       "      <td>41</td>\n",
       "      <td>49.86</td>\n",
       "    </tr>\n",
       "    <tr>\n",
       "      <th>Di</th>\n",
       "      <td>52</td>\n",
       "      <td>63</td>\n",
       "      <td>49.86</td>\n",
       "    </tr>\n",
       "    <tr>\n",
       "      <th>Mi</th>\n",
       "      <td>52</td>\n",
       "      <td>63</td>\n",
       "      <td>49.86</td>\n",
       "    </tr>\n",
       "    <tr>\n",
       "      <th>Do</th>\n",
       "      <td>52</td>\n",
       "      <td>47</td>\n",
       "      <td>49.86</td>\n",
       "    </tr>\n",
       "    <tr>\n",
       "      <th>Fr</th>\n",
       "      <td>53</td>\n",
       "      <td>56</td>\n",
       "      <td>50.82</td>\n",
       "    </tr>\n",
       "    <tr>\n",
       "      <th>Sa</th>\n",
       "      <td>52</td>\n",
       "      <td>47</td>\n",
       "      <td>49.86</td>\n",
       "    </tr>\n",
       "    <tr>\n",
       "      <th>So</th>\n",
       "      <td>52</td>\n",
       "      <td>33</td>\n",
       "      <td>49.86</td>\n",
       "    </tr>\n",
       "  </tbody>\n",
       "</table>\n",
       "</div>"
      ],
      "text/plain": [
       "    Tage  Geburten  erwartet\n",
       "Mo    52        41     49.86\n",
       "Di    52        63     49.86\n",
       "Mi    52        63     49.86\n",
       "Do    52        47     49.86\n",
       "Fr    53        56     50.82\n",
       "Sa    52        47     49.86\n",
       "So    52        33     49.86"
      ]
     },
     "execution_count": 16,
     "metadata": {},
     "output_type": "execute_result"
    }
   ],
   "source": [
    "tafel['erwartet'] = tafel.Tage*n/365\n",
    "tafel.round(2)"
   ]
  },
  {
   "cell_type": "markdown",
   "id": "5732177b",
   "metadata": {
    "slideshow": {
     "slide_type": "slide"
    }
   },
   "source": [
    "#### Tabelle der normierten Differenzen"
   ]
  },
  {
   "cell_type": "code",
   "execution_count": 17,
   "id": "da05d022",
   "metadata": {},
   "outputs": [
    {
     "data": {
      "text/html": [
       "<div>\n",
       "<style scoped>\n",
       "    .dataframe tbody tr th:only-of-type {\n",
       "        vertical-align: middle;\n",
       "    }\n",
       "\n",
       "    .dataframe tbody tr th {\n",
       "        vertical-align: top;\n",
       "    }\n",
       "\n",
       "    .dataframe thead th {\n",
       "        text-align: right;\n",
       "    }\n",
       "</style>\n",
       "<table border=\"1\" class=\"dataframe\">\n",
       "  <thead>\n",
       "    <tr style=\"text-align: right;\">\n",
       "      <th></th>\n",
       "      <th>Tage</th>\n",
       "      <th>Geburten</th>\n",
       "      <th>erwartet</th>\n",
       "      <th>Differenz</th>\n",
       "      <th>normierte Differenz</th>\n",
       "    </tr>\n",
       "  </thead>\n",
       "  <tbody>\n",
       "    <tr>\n",
       "      <th>Mo</th>\n",
       "      <td>52</td>\n",
       "      <td>41</td>\n",
       "      <td>49.863014</td>\n",
       "      <td>-8.863014</td>\n",
       "      <td>1.575376</td>\n",
       "    </tr>\n",
       "    <tr>\n",
       "      <th>Di</th>\n",
       "      <td>52</td>\n",
       "      <td>63</td>\n",
       "      <td>49.863014</td>\n",
       "      <td>13.136986</td>\n",
       "      <td>3.461091</td>\n",
       "    </tr>\n",
       "    <tr>\n",
       "      <th>Mi</th>\n",
       "      <td>52</td>\n",
       "      <td>63</td>\n",
       "      <td>49.863014</td>\n",
       "      <td>13.136986</td>\n",
       "      <td>3.461091</td>\n",
       "    </tr>\n",
       "    <tr>\n",
       "      <th>Do</th>\n",
       "      <td>52</td>\n",
       "      <td>47</td>\n",
       "      <td>49.863014</td>\n",
       "      <td>-2.863014</td>\n",
       "      <td>0.164387</td>\n",
       "    </tr>\n",
       "    <tr>\n",
       "      <th>Fr</th>\n",
       "      <td>53</td>\n",
       "      <td>56</td>\n",
       "      <td>50.821918</td>\n",
       "      <td>5.178082</td>\n",
       "      <td>0.527578</td>\n",
       "    </tr>\n",
       "    <tr>\n",
       "      <th>Sa</th>\n",
       "      <td>52</td>\n",
       "      <td>47</td>\n",
       "      <td>49.863014</td>\n",
       "      <td>-2.863014</td>\n",
       "      <td>0.164387</td>\n",
       "    </tr>\n",
       "    <tr>\n",
       "      <th>So</th>\n",
       "      <td>52</td>\n",
       "      <td>33</td>\n",
       "      <td>49.863014</td>\n",
       "      <td>-16.863014</td>\n",
       "      <td>5.702849</td>\n",
       "    </tr>\n",
       "  </tbody>\n",
       "</table>\n",
       "</div>"
      ],
      "text/plain": [
       "    Tage  Geburten   erwartet  Differenz  normierte Differenz\n",
       "Mo    52        41  49.863014  -8.863014             1.575376\n",
       "Di    52        63  49.863014  13.136986             3.461091\n",
       "Mi    52        63  49.863014  13.136986             3.461091\n",
       "Do    52        47  49.863014  -2.863014             0.164387\n",
       "Fr    53        56  50.821918   5.178082             0.527578\n",
       "Sa    52        47  49.863014  -2.863014             0.164387\n",
       "So    52        33  49.863014 -16.863014             5.702849"
      ]
     },
     "execution_count": 17,
     "metadata": {},
     "output_type": "execute_result"
    }
   ],
   "source": [
    "tafel['Differenz'] = tafel.Geburten - tafel.erwartet\n",
    "tafel['normierte Differenz'] = tafel.Differenz**2 / tafel.erwartet\n",
    "tafel"
   ]
  },
  {
   "cell_type": "markdown",
   "id": "3489c946",
   "metadata": {
    "slideshow": {
     "slide_type": "fragment"
    }
   },
   "source": [
    "Teststatistik"
   ]
  },
  {
   "cell_type": "code",
   "execution_count": 18,
   "id": "47315325",
   "metadata": {},
   "outputs": [
    {
     "data": {
      "text/plain": [
       "15.05675927845739"
      ]
     },
     "execution_count": 18,
     "metadata": {},
     "output_type": "execute_result"
    }
   ],
   "source": [
    "t = tafel['normierte Differenz'].sum()\n",
    "t"
   ]
  },
  {
   "cell_type": "code",
   "execution_count": 19,
   "id": "3f0974b1",
   "metadata": {
    "slideshow": {
     "slide_type": "slide"
    }
   },
   "outputs": [
    {
     "data": {
      "text/plain": [
       "0.01981981977372671"
      ]
     },
     "execution_count": 19,
     "metadata": {},
     "output_type": "execute_result"
    }
   ],
   "source": [
    "P = stats.chi2(6)\n",
    "1 - P.cdf(t)"
   ]
  },
  {
   "cell_type": "markdown",
   "id": "ed7269a3",
   "metadata": {
    "slideshow": {
     "slide_type": "slide"
    }
   },
   "source": [
    "Dasselbe komplett mit `stats`"
   ]
  },
  {
   "cell_type": "code",
   "execution_count": 20,
   "id": "12293e1f",
   "metadata": {},
   "outputs": [
    {
     "data": {
      "text/plain": [
       "Power_divergenceResult(statistic=15.05675927845739, pvalue=0.01981981977372675)"
      ]
     },
     "execution_count": 20,
     "metadata": {},
     "output_type": "execute_result"
    }
   ],
   "source": [
    "res = stats.chisquare(tafel.Geburten, tafel.erwartet)\n",
    "res"
   ]
  },
  {
   "cell_type": "markdown",
   "id": "6f65c868",
   "metadata": {
    "slideshow": {
     "slide_type": "slide"
    }
   },
   "source": [
    "# Ein exakter Permutationstest"
   ]
  },
  {
   "cell_type": "markdown",
   "id": "33170f78",
   "metadata": {
    "slideshow": {
     "slide_type": "slide"
    }
   },
   "source": [
    "### Mendelsche Erbregeln als Beispiel \n",
    "\n",
    "* Bei den Mendelschen Erbversuchen tritt das Merkmal *Blütenfarbe* in drei Ausprägungen auf, nämlich weiß, rosa und rot\n",
    "* Das Modell besagt, dass weiß und rot jeweils mit Wahrscheinlichkeit 25% und rot mit Wahrscheinlichkeit 50% auftreten\n",
    "* 4 Blüten werden beobachtet, alle sind rosa\n",
    "* Ist diese Beobachtung zum Signifikanzniveau $\\alpha = 0.05$ mit den Mendelschen Regeln vereinbar?\n",
    "* Im Prinzip ist das dieselbe Frage wie beim $\\chi^2$-Test auf Übereinstimmung mit einer gegebenen Verteilung; der Stichprobenumfang ist aber zu klein"
   ]
  },
  {
   "cell_type": "markdown",
   "id": "af4094db",
   "metadata": {
    "slideshow": {
     "slide_type": "slide"
    }
   },
   "source": [
    "### Interpretation als Vergleich zweier Verteilungen\n",
    "\n",
    "* Nullhypothese:  Die Mendelschen Regeln sind ein valides Modell für die untersuchte Situation\n",
    "* Das entspricht der Verteilung\n",
    " \n",
    "| Zahlencode | Ausprägung | Wahrscheinlichkeit |\n",
    "|------------|------------|--------------------|\n",
    "|     1      | weiß       | 25%                |\n",
    "|     2      | rosa       | 50%                |\n",
    "|     3      | rot        | 25%                | "
   ]
  },
  {
   "cell_type": "markdown",
   "id": "c1554b30",
   "metadata": {
    "slideshow": {
     "slide_type": "fragment"
    }
   },
   "source": [
    "* Zu vergleichen mit der tatsächlichen Verteilung der Blütenfarben in dem Kollektiv \n",
    "* Der Stichprobenumfang ist 4\n",
    "* Das ist für praktische Zwecke zu wenig, lässt sich aber gut von Hand rechnen"
   ]
  },
  {
   "cell_type": "markdown",
   "id": "f839a266",
   "metadata": {
    "slideshow": {
     "slide_type": "fragment"
    }
   },
   "source": [
    "* Ordne die möglichen Ergebnisse mit aufsteigender Wahrscheinlichkeit an\n",
    "* Entscheidungsstrategie am Beispiel $\\alpha = 0.05$\n",
    "\n",
    ">     Lehne die Nullhypothese ab, wenn die Beobachtung \n",
    ">     zu den 5% unwahrscheinlichsten Ereignissen gehört"
   ]
  },
  {
   "cell_type": "markdown",
   "id": "0d85c825",
   "metadata": {
    "slideshow": {
     "slide_type": "slide"
    }
   },
   "source": [
    "* Anzahl der Ausprägungen des Merkmals Blütenfarbe $s = 3$\n",
    "* $X_1$ ist der Zahlencode der Blütenfarbe der ersten Blüte, $X_2$ dasselbe für die zweite Blüte, ...\n",
    "* $Y_1$ bezeichnet die Anzahl der weißen, $Y_2$ die der rosafarbenen und $Y_3$ die der roten Blüten\n",
    "* Dann $Y_1 + Y_2 + Y_3 = 4$\n",
    "* Rechne sämtliche Einzelwahrscheinlichkeiten aus"
   ]
  },
  {
   "cell_type": "markdown",
   "id": "0588c9cc",
   "metadata": {
    "slideshow": {
     "slide_type": "slide"
    }
   },
   "source": [
    "### Beispiel Mendel: Tabelle der Wahrscheinlichkeiten der  Einzelereignisse\n",
    "\n",
    "| $k_1$ | $k_2$ | $k_3$ | $P(X_1=k_1, X_2=k_2, X_3=k_3) $ | kumulierte Summe |\n",
    "|-------|-------|-------|---------------------------------|------------------|\n",
    "|  $ 0 $ | $ 0 $ | $ 4 $ | $ 0.0039 $ | $ 0.0039 $ |\n",
    "|  $ 4 $ | $ 0 $ | $ 0 $ | $ 0.0039 $ | $ 0.0078 $ |\n",
    "|  $ 1 $ | $ 0 $ | $ 3 $ | $ 0.0156 $ | $ 0.0234 $ |\n",
    "|  $ 3 $ | $ 0 $ | $ 1 $ | $ 0.0156 $ | $ 0.0391 $ |\n",
    "|  $ 2 $ | $ 0 $ | $ 2 $ | $ 0.0234 $ | $ 0.0625 $ |\n",
    "|  $ 0 $ | $ 1 $ | $ 3 $ | $ 0.0312 $ | $ 0.0938 $ |\n",
    "|  $ 3 $ | $ 1 $ | $ 0 $ | $ 0.0312 $ | $ 0.1250 $ |\n",
    "|  $ 0 $ | $ 4 $ | $ 0 $ | $ 0.0625 $ | $ 0.1875 $ |\n",
    "|  $ 0 $ | $ 2 $ | $ 2 $ | $ 0.0938 $ | $ 0.2812 $ |\n",
    "|  $ 1 $ | $ 1 $ | $ 2 $ | $ 0.0938 $ | $ 0.3750 $ |\n",
    "|  $ 2 $ | $ 1 $ | $ 1 $ | $ 0.0938 $ | $ 0.4688 $ |\n",
    "|  $ 2 $ | $ 2 $ | $ 0 $ | $ 0.0938 $ | $ 0.5625 $ |\n",
    "|  $ 0 $ | $ 3 $ | $ 1 $ | $ 0.1250 $ | $ 0.6875 $ |\n",
    "|  $ 1 $ | $ 3 $ | $ 0 $ | $ 0.1250 $ | $ 0.8125 $ |\n",
    "|  $ 1 $ | $ 2 $ | $ 1 $ | $ 0.1875 $ | $ 1.0000 $ |"
   ]
  },
  {
   "cell_type": "markdown",
   "id": "01be5592",
   "metadata": {
    "slideshow": {
     "slide_type": "slide"
    }
   },
   "source": [
    "<img src=\"bilder/mendelbar.svg\" alt=\"Barplot der W'keiten im Mendelbeispiel\" width=\"75%\"/>\n",
    "\n",
    "* Der linke Balken zeigt die kumulierten Werte aus der Tabelle, der rechte die 5%-Schwelle"
   ]
  },
  {
   "cell_type": "markdown",
   "id": "0c865255",
   "metadata": {
    "slideshow": {
     "slide_type": "fragment"
    }
   },
   "source": [
    "* Die beobachteten Daten (0,4,0) liegen weit oberhalb dieser Schwelle"
   ]
  },
  {
   "cell_type": "markdown",
   "id": "3574622c",
   "metadata": {
    "slideshow": {
     "slide_type": "slide"
    }
   },
   "source": [
    "In `stats.permutation_test` sind Permutationstests implementiert, und zwar sowohl exakte (für kleine Stichprobenumfänge) als auch Tests mit Monte-Carlo-Methoden"
   ]
  }
 ],
 "metadata": {
  "celltoolbar": "Slideshow",
  "kernelspec": {
   "display_name": "Python 3 (ipykernel)",
   "language": "python",
   "name": "python3"
  },
  "language_info": {
   "codemirror_mode": {
    "name": "ipython",
    "version": 3
   },
   "file_extension": ".py",
   "mimetype": "text/x-python",
   "name": "python",
   "nbconvert_exporter": "python",
   "pygments_lexer": "ipython3",
   "version": "3.11.10"
  }
 },
 "nbformat": 4,
 "nbformat_minor": 5
}
